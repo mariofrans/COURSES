{
 "cells": [
  {
   "cell_type": "code",
   "execution_count": 2,
   "metadata": {},
   "outputs": [],
   "source": [
    "import pandas as pd\n",
    "import numpy as np\n",
    "import matplotlib.pyplot as plt\n",
    "import tensorflow as tf\n",
    "from tensorflow import keras\n",
    "from tensorflow.keras.layers import Input, Conv2D, Dense, Flatten, Dropout, GlobalMaxPooling2D, MaxPooling2D, BatchNormalization\n",
    "from tensorflow.keras.models import Model, load_model"
   ]
  },
  {
   "cell_type": "code",
   "execution_count": 3,
   "metadata": {},
   "outputs": [],
   "source": [
    "PATH_MODEL = 'saved_models/cifar10_improved.h5'"
   ]
  },
  {
   "cell_type": "code",
   "execution_count": 4,
   "metadata": {},
   "outputs": [
    {
     "name": "stdout",
     "output_type": "stream",
     "text": [
      "x_train shape:  (50000, 32, 32, 3)\n",
      "x_test shape:  (10000, 32, 32, 3)\n",
      "y_train shape:  (50000, 1)\n",
      "y_test shape:  (10000, 1)\n"
     ]
    }
   ],
   "source": [
    "# load cifar10 data\n",
    "cifar10 = tf.keras.datasets.cifar10\n",
    "(x_train, y_train), (x_test, y_test) = cifar10.load_data()\n",
    "\n",
    "# divide by 255 (rgb color)\n",
    "x_train, x_test = x_train/255, x_test/255\n",
    "\n",
    "# preview data\n",
    "print('x_train shape: ', x_train.shape)\n",
    "print('x_test shape: ', x_test.shape)\n",
    "print('y_train shape: ', y_train.shape)\n",
    "print('y_test shape: ', y_test.shape)"
   ]
  },
  {
   "cell_type": "code",
   "execution_count": 5,
   "metadata": {},
   "outputs": [
    {
     "name": "stdout",
     "output_type": "stream",
     "text": [
      "x_train shape:  (50000, 32, 32, 3)\n",
      "x_test shape:  (10000, 32, 32, 3)\n",
      "y_train shape:  (50000,)\n",
      "y_test shape:  (10000,)\n"
     ]
    }
   ],
   "source": [
    "# convert y-values' dimensions\n",
    "y_train, y_test = np.squeeze(y_train, -1), np.squeeze(y_test, -1)\n",
    "\n",
    "# preview x data\n",
    "print('x_train shape: ', x_train.shape)\n",
    "print('x_test shape: ', x_test.shape)\n",
    "print('y_train shape: ', y_train.shape)\n",
    "print('y_test shape: ', y_test.shape)"
   ]
  },
  {
   "cell_type": "code",
   "execution_count": 6,
   "metadata": {},
   "outputs": [
    {
     "name": "stdout",
     "output_type": "stream",
     "text": [
      "y_train classes:  10\n",
      "y_test classes:  10\n"
     ]
    }
   ],
   "source": [
    "# get & display number of classes\n",
    "k_train, k_test = len(set(y_train)), len(set(y_test))\n",
    "print('y_train classes: ', k_train)\n",
    "print('y_test classes: ', k_test)"
   ]
  },
  {
   "cell_type": "code",
   "execution_count": 11,
   "metadata": {},
   "outputs": [],
   "source": [
    "# build model\n",
    "i = Input(shape=x_train[0].shape)\n",
    "\n",
    "x = Conv2D(32, (3, 3), activation='relu', padding='same')(i)\n",
    "x = BatchNormalization()(x)\n",
    "x = Conv2D(32, (3, 3), activation='relu', padding='same')(x)\n",
    "x = BatchNormalization()(x)\n",
    "x = MaxPooling2D((2, 2))(x)\n",
    "\n",
    "x = Conv2D(64, (3, 3), activation='relu', padding='same')(x)\n",
    "x = BatchNormalization()(x)\n",
    "x = Conv2D(64, (3, 3), activation='relu', padding='same')(x)\n",
    "x = BatchNormalization()(x)\n",
    "x = MaxPooling2D((2, 2))(x)\n",
    "\n",
    "x = Conv2D(128, (3, 3), activation='relu', padding='same')(x)\n",
    "x = BatchNormalization()(x)\n",
    "x = Conv2D(128, (3, 3), activation='relu', padding='same')(x)\n",
    "x = BatchNormalization()(x)\n",
    "x = MaxPooling2D((2, 2))(x)\n",
    "\n",
    "x = Flatten()(x)\n",
    "x = Dropout(0.2)(x)\n",
    "x = Dense(1024, activation='relu')(x)\n",
    "x = Dropout(0.2)(x)\n",
    "x = Dense(k_train, activation='softmax')(x)\n",
    "\n",
    "model = Model(i, x)"
   ]
  },
  {
   "cell_type": "code",
   "execution_count": 12,
   "metadata": {},
   "outputs": [
    {
     "name": "stdout",
     "output_type": "stream",
     "text": [
      "Epoch 1/15\n"
     ]
    },
    {
     "name": "stderr",
     "output_type": "stream",
     "text": [
      "2022-08-26 21:15:15.092196: W tensorflow/core/platform/profile_utils/cpu_utils.cc:128] Failed to get CPU frequency: 0 Hz\n"
     ]
    },
    {
     "name": "stdout",
     "output_type": "stream",
     "text": [
      "1563/1563 [==============================] - 67s 43ms/step - loss: 1.3074 - accuracy: 0.5502 - val_loss: 1.1496 - val_accuracy: 0.5957\n",
      "Epoch 2/15\n",
      "1563/1563 [==============================] - 69s 44ms/step - loss: 0.8569 - accuracy: 0.7041 - val_loss: 0.8160 - val_accuracy: 0.7249\n",
      "Epoch 3/15\n",
      "1563/1563 [==============================] - 70s 45ms/step - loss: 0.6954 - accuracy: 0.7612 - val_loss: 0.7134 - val_accuracy: 0.7627\n",
      "Epoch 4/15\n",
      "1563/1563 [==============================] - 72s 46ms/step - loss: 0.5860 - accuracy: 0.7999 - val_loss: 0.7067 - val_accuracy: 0.7619\n",
      "Epoch 5/15\n",
      "1563/1563 [==============================] - 128s 82ms/step - loss: 0.5015 - accuracy: 0.8295 - val_loss: 0.7058 - val_accuracy: 0.7697\n",
      "Epoch 6/15\n",
      "1563/1563 [==============================] - 64s 41ms/step - loss: 0.4239 - accuracy: 0.8530 - val_loss: 0.6686 - val_accuracy: 0.7877\n",
      "Epoch 7/15\n",
      "1563/1563 [==============================] - 67s 43ms/step - loss: 0.3609 - accuracy: 0.8748 - val_loss: 0.6997 - val_accuracy: 0.7860\n",
      "Epoch 8/15\n",
      "1563/1563 [==============================] - 261s 167ms/step - loss: 0.3148 - accuracy: 0.8926 - val_loss: 0.5900 - val_accuracy: 0.8151\n",
      "Epoch 9/15\n",
      "1563/1563 [==============================] - 70s 45ms/step - loss: 0.2672 - accuracy: 0.9073 - val_loss: 0.6241 - val_accuracy: 0.8161\n",
      "Epoch 10/15\n",
      "1563/1563 [==============================] - 69s 44ms/step - loss: 0.2233 - accuracy: 0.9230 - val_loss: 0.6860 - val_accuracy: 0.8123\n",
      "Epoch 11/15\n",
      "1563/1563 [==============================] - 110s 70ms/step - loss: 0.2003 - accuracy: 0.9321 - val_loss: 0.6346 - val_accuracy: 0.8229\n",
      "Epoch 12/15\n",
      "1563/1563 [==============================] - 68s 43ms/step - loss: 0.1795 - accuracy: 0.9387 - val_loss: 0.6987 - val_accuracy: 0.8231\n",
      "Epoch 13/15\n",
      "1563/1563 [==============================] - 69s 44ms/step - loss: 0.1636 - accuracy: 0.9449 - val_loss: 0.7348 - val_accuracy: 0.8096\n",
      "Epoch 14/15\n",
      "1563/1563 [==============================] - 67s 43ms/step - loss: 0.1461 - accuracy: 0.9506 - val_loss: 0.7188 - val_accuracy: 0.8303\n",
      "Epoch 15/15\n",
      "1563/1563 [==============================] - 67s 43ms/step - loss: 0.1345 - accuracy: 0.9539 - val_loss: 0.7575 - val_accuracy: 0.8313\n"
     ]
    }
   ],
   "source": [
    "# compile & fit model\n",
    "model.compile(optimizer='adam', loss='sparse_categorical_crossentropy', metrics=['accuracy'])\n",
    "r = model.fit(x_train, y_train, validation_data=(x_test, y_test), epochs=15)\n",
    "\n",
    "# save model\n",
    "# model.save(PATH_MODEL)\n",
    "\n",
    "# load model\n",
    "# model = load_model(PATH_MODEL)"
   ]
  },
  {
   "cell_type": "code",
   "execution_count": 13,
   "metadata": {},
   "outputs": [
    {
     "data": {
      "text/plain": [
       "<matplotlib.legend.Legend at 0x1112dbcd0>"
      ]
     },
     "execution_count": 13,
     "metadata": {},
     "output_type": "execute_result"
    },
    {
     "data": {
      "image/png": "[encoded data removed]",
      "text/plain": [
       "<Figure size 432x288 with 1 Axes>"
      ]
     },
     "metadata": {
      "needs_background": "light"
     },
     "output_type": "display_data"
    }
   ],
   "source": [
    "plt.plot(r.history['loss'], label='loss')\n",
    "plt.plot(r.history['val_loss'], label='val_loss')\n",
    "plt.legend()"
   ]
  },
  {
   "cell_type": "code",
   "execution_count": 14,
   "metadata": {},
   "outputs": [
    {
     "data": {
      "text/plain": [
       "<matplotlib.legend.Legend at 0x1108d7130>"
      ]
     },
     "execution_count": 14,
     "metadata": {},
     "output_type": "execute_result"
    },
    {
     "data": {
      "image/png": "[encoded data removed]",
      "text/plain": [
       "<Figure size 432x288 with 1 Axes>"
      ]
     },
     "metadata": {
      "needs_background": "light"
     },
     "output_type": "display_data"
    }
   ],
   "source": [
    "plt.plot(r.history['accuracy'], label='accuracy')\n",
    "plt.plot(r.history['val_accuracy'], label='val_accuracy')\n",
    "plt.legend()"
   ]
  }
 ],
 "metadata": {
  "kernelspec": {
   "display_name": "Python 3.10.6 ('venv': venv)",
   "language": "python",
   "name": "python3"
  },
  "language_info": {
   "codemirror_mode": {
    "name": "ipython",
    "version": 3
   },
   "file_extension": ".py",
   "mimetype": "text/x-python",
   "name": "python",
   "nbconvert_exporter": "python",
   "pygments_lexer": "ipython3",
   "version": "3.10.6"
  },
  "orig_nbformat": 4,
  "vscode": {
   "interpreter": {
    "hash": "694c0f390dd87efdb4392941ec90266ad972450cf82fbbc422b41d8fe8189bcf"
   }
  }
 },
 "nbformat": 4,
 "nbformat_minor": 2
}
