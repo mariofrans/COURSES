{
 "cells": [
  {
   "cell_type": "code",
   "execution_count": 1,
   "metadata": {},
   "outputs": [],
   "source": [
    "import pandas as pd\n",
    "import numpy as np\n",
    "import matplotlib.pyplot as plt\n",
    "import tensorflow as tf\n",
    "from tensorflow import keras\n",
    "from tensorflow.keras.layers import Input, Conv2D, Dense, Flatten, Dropout\n",
    "from tensorflow.keras.models import Model, load_model"
   ]
  },
  {
   "cell_type": "code",
   "execution_count": 2,
   "metadata": {},
   "outputs": [],
   "source": [
    "PATH_MODEL = 'saved_models/model_fashion_mnist.h5'"
   ]
  },
  {
   "cell_type": "code",
   "execution_count": 3,
   "metadata": {},
   "outputs": [
    {
     "name": "stdout",
     "output_type": "stream",
     "text": [
      "x_train shape:  (60000, 28, 28)\n",
      "x_test shape:  (10000, 28, 28)\n",
      "y_train shape:  (60000,)\n",
      "y_test shape:  (10000,)\n"
     ]
    }
   ],
   "source": [
    "# load mnist data\n",
    "fashion_mnist = tf.keras.datasets.fashion_mnist\n",
    "(x_train, y_train), (x_test, y_test) = fashion_mnist.load_data()\n",
    "\n",
    "# divide by 255 (rgb color)\n",
    "x_train, x_test = x_train/255, x_test/255\n",
    "\n",
    "# preview data\n",
    "print('x_train shape: ', x_train.shape)\n",
    "print('x_test shape: ', x_test.shape)\n",
    "print('y_train shape: ', y_train.shape)\n",
    "print('y_test shape: ', y_test.shape)"
   ]
  },
  {
   "cell_type": "code",
   "execution_count": 4,
   "metadata": {},
   "outputs": [
    {
     "name": "stdout",
     "output_type": "stream",
     "text": [
      "x_train shape:  (60000, 28, 28, 1)\n",
      "x_test shape:  (10000, 28, 28, 1)\n",
      "y_train shape:  (60000,)\n",
      "y_test shape:  (10000,)\n"
     ]
    }
   ],
   "source": [
    "# convert data from 2D to 3D for convolution; height, width, color\n",
    "x_train, x_test = np.expand_dims(x_train, -1), np.expand_dims(x_test, -1)\n",
    "\n",
    "# preview x data\n",
    "print('x_train shape: ', x_train.shape)\n",
    "print('x_test shape: ', x_test.shape)\n",
    "print('y_train shape: ', y_train.shape)\n",
    "print('y_test shape: ', y_test.shape)"
   ]
  },
  {
   "cell_type": "code",
   "execution_count": 5,
   "metadata": {},
   "outputs": [
    {
     "name": "stdout",
     "output_type": "stream",
     "text": [
      "y_train classes:  10\n",
      "y_test classes:  10\n"
     ]
    }
   ],
   "source": [
    "# get & display number of classes\n",
    "k_train, k_test = len(set(y_train)), len(set(y_test))\n",
    "print('y_train classes: ', k_train)\n",
    "print('y_test classes: ', k_test)"
   ]
  },
  {
   "cell_type": "code",
   "execution_count": 6,
   "metadata": {},
   "outputs": [],
   "source": [
    "# build model\n",
    "i = Input(shape=x_train[0].shape)\n",
    "x = Conv2D(32, (3, 3), strides=2, activation='relu')(i)\n",
    "x = Conv2D(64, (3, 3), strides=2, activation='relu')(x)\n",
    "x = Conv2D(128, (3, 3), strides=2, activation='relu')(x)\n",
    "x = Flatten()(x)\n",
    "x = Dropout(0.2)(x)\n",
    "x = Dense(512, activation='relu')(x)\n",
    "x = Dropout(0.2)(x)\n",
    "x = Dense(k_train, activation='softmax')(x)\n",
    "\n",
    "model = Model(i, x)"
   ]
  },
  {
   "cell_type": "code",
   "execution_count": 7,
   "metadata": {},
   "outputs": [
    {
     "name": "stdout",
     "output_type": "stream",
     "text": [
      "Epoch 1/15\n"
     ]
    },
    {
     "name": "stderr",
     "output_type": "stream",
     "text": [
      "2022-08-26 20:37:23.916718: W tensorflow/core/platform/profile_utils/cpu_utils.cc:128] Failed to get CPU frequency: 0 Hz\n"
     ]
    },
    {
     "name": "stdout",
     "output_type": "stream",
     "text": [
      "1875/1875 [==============================] - 9s 5ms/step - loss: 0.5284 - accuracy: 0.8033 - val_loss: 0.4198 - val_accuracy: 0.8361\n",
      "Epoch 2/15\n",
      "1875/1875 [==============================] - 10s 5ms/step - loss: 0.3659 - accuracy: 0.8622 - val_loss: 0.3413 - val_accuracy: 0.8700\n",
      "Epoch 3/15\n",
      "1875/1875 [==============================] - 11s 6ms/step - loss: 0.3187 - accuracy: 0.8805 - val_loss: 0.3348 - val_accuracy: 0.8773\n",
      "Epoch 4/15\n",
      "1875/1875 [==============================] - 11s 6ms/step - loss: 0.2853 - accuracy: 0.8915 - val_loss: 0.3071 - val_accuracy: 0.8859\n",
      "Epoch 5/15\n",
      "1875/1875 [==============================] - 11s 6ms/step - loss: 0.2618 - accuracy: 0.9008 - val_loss: 0.2946 - val_accuracy: 0.8930\n",
      "Epoch 6/15\n",
      "1875/1875 [==============================] - 11s 6ms/step - loss: 0.2380 - accuracy: 0.9113 - val_loss: 0.3019 - val_accuracy: 0.8937\n",
      "Epoch 7/15\n",
      "1875/1875 [==============================] - 11s 6ms/step - loss: 0.2199 - accuracy: 0.9175 - val_loss: 0.3183 - val_accuracy: 0.8917\n",
      "Epoch 8/15\n",
      "1875/1875 [==============================] - 11s 6ms/step - loss: 0.2039 - accuracy: 0.9229 - val_loss: 0.2955 - val_accuracy: 0.9017\n",
      "Epoch 9/15\n",
      "1875/1875 [==============================] - 11s 6ms/step - loss: 0.1905 - accuracy: 0.9283 - val_loss: 0.3096 - val_accuracy: 0.8990\n",
      "Epoch 10/15\n",
      "1875/1875 [==============================] - 11s 6ms/step - loss: 0.1782 - accuracy: 0.9320 - val_loss: 0.3209 - val_accuracy: 0.8909\n",
      "Epoch 11/15\n",
      "1875/1875 [==============================] - 11s 6ms/step - loss: 0.1647 - accuracy: 0.9374 - val_loss: 0.3159 - val_accuracy: 0.9012\n",
      "Epoch 12/15\n",
      "1875/1875 [==============================] - 11s 6ms/step - loss: 0.1565 - accuracy: 0.9398 - val_loss: 0.3259 - val_accuracy: 0.8988\n",
      "Epoch 13/15\n",
      "1875/1875 [==============================] - 11s 6ms/step - loss: 0.1465 - accuracy: 0.9452 - val_loss: 0.3264 - val_accuracy: 0.8974\n",
      "Epoch 14/15\n",
      "1875/1875 [==============================] - 10s 6ms/step - loss: 0.1395 - accuracy: 0.9461 - val_loss: 0.3612 - val_accuracy: 0.8993\n",
      "Epoch 15/15\n",
      "1875/1875 [==============================] - 10s 6ms/step - loss: 0.1327 - accuracy: 0.9484 - val_loss: 0.3433 - val_accuracy: 0.9021\n"
     ]
    }
   ],
   "source": [
    "# compile & fit model\n",
    "model.compile(optimizer='adam', loss='sparse_categorical_crossentropy', metrics=['accuracy'])\n",
    "r = model.fit(x_train, y_train, validation_data=(x_test, y_test), epochs=15)\n",
    "\n",
    "# save model\n",
    "# model.save(PATH_MODEL)\n",
    "\n",
    "# load model\n",
    "# model = load_model(PATH_MODEL)"
   ]
  },
  {
   "cell_type": "code",
   "execution_count": 8,
   "metadata": {},
   "outputs": [
    {
     "data": {
      "text/plain": [
       "<matplotlib.legend.Legend at 0x170696d60>"
      ]
     },
     "execution_count": 8,
     "metadata": {},
     "output_type": "execute_result"
    },
    {
     "data": {
      "image/png": "[encoded data removed]",
      "text/plain": [
       "<Figure size 432x288 with 1 Axes>"
      ]
     },
     "metadata": {
      "needs_background": "light"
     },
     "output_type": "display_data"
    }
   ],
   "source": [
    "plt.plot(r.history['loss'], label='loss')\n",
    "plt.plot(r.history['val_loss'], label='val_loss')\n",
    "plt.legend()"
   ]
  },
  {
   "cell_type": "code",
   "execution_count": 9,
   "metadata": {},
   "outputs": [
    {
     "data": {
      "text/plain": [
       "<matplotlib.legend.Legend at 0x1707ab6a0>"
      ]
     },
     "execution_count": 9,
     "metadata": {},
     "output_type": "execute_result"
    },
    {
     "data": {
      "image/png": "[encoded data removed]",
      "text/plain": [
       "<Figure size 432x288 with 1 Axes>"
      ]
     },
     "metadata": {
      "needs_background": "light"
     },
     "output_type": "display_data"
    }
   ],
   "source": [
    "plt.plot(r.history['accuracy'], label='accuracy')\n",
    "plt.plot(r.history['val_accuracy'], label='val_accuracy')\n",
    "plt.legend()"
   ]
  }
 ],
 "metadata": {
  "kernelspec": {
   "display_name": "Python 3.8.13 ('venv': venv)",
   "language": "python",
   "name": "python3"
  },
  "language_info": {
   "codemirror_mode": {
    "name": "ipython",
    "version": 3
   },
   "file_extension": ".py",
   "mimetype": "text/x-python",
   "name": "python",
   "nbconvert_exporter": "python",
   "pygments_lexer": "ipython3",
   "version": "3.8.13"
  },
  "orig_nbformat": 4,
  "vscode": {
   "interpreter": {
    "hash": "7a2131d6c8da673ad02d9420f933010744b1b992e4a2fc8b9ee987ddbacdfcfc"
   }
  }
 },
 "nbformat": 4,
 "nbformat_minor": 2
}
