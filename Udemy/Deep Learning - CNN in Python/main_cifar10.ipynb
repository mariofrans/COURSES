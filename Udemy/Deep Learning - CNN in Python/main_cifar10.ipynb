{
 "cells": [
  {
   "cell_type": "code",
   "execution_count": 19,
   "metadata": {},
   "outputs": [],
   "source": [
    "import pandas as pd\n",
    "import numpy as np\n",
    "import matplotlib.pyplot as plt\n",
    "import tensorflow as tf\n",
    "from tensorflow import keras\n",
    "from tensorflow.keras.layers import Input, Conv2D, Dense, Flatten, Dropout\n",
    "from tensorflow.keras.models import Model, load_model"
   ]
  },
  {
   "cell_type": "code",
   "execution_count": 20,
   "metadata": {},
   "outputs": [],
   "source": [
    "PATH_MODEL = 'saved_models/cifar10.h5'"
   ]
  },
  {
   "cell_type": "code",
   "execution_count": 21,
   "metadata": {},
   "outputs": [
    {
     "name": "stdout",
     "output_type": "stream",
     "text": [
      "x_train shape:  (50000, 32, 32, 3)\n",
      "x_test shape:  (10000, 32, 32, 3)\n",
      "y_train shape:  (50000, 1)\n",
      "y_test shape:  (10000, 1)\n"
     ]
    }
   ],
   "source": [
    "# load cifar10 data\n",
    "cifar10 = tf.keras.datasets.cifar10\n",
    "(x_train, y_train), (x_test, y_test) = cifar10.load_data()\n",
    "\n",
    "# divide by 255 (rgb color)\n",
    "x_train, x_test = x_train/255, x_test/255\n",
    "\n",
    "# preview data\n",
    "print('x_train shape: ', x_train.shape)\n",
    "print('x_test shape: ', x_test.shape)\n",
    "print('y_train shape: ', y_train.shape)\n",
    "print('y_test shape: ', y_test.shape)"
   ]
  },
  {
   "cell_type": "code",
   "execution_count": 22,
   "metadata": {},
   "outputs": [
    {
     "name": "stdout",
     "output_type": "stream",
     "text": [
      "x_train shape:  (50000, 32, 32, 3)\n",
      "x_test shape:  (10000, 32, 32, 3)\n",
      "y_train shape:  (50000,)\n",
      "y_test shape:  (10000,)\n"
     ]
    }
   ],
   "source": [
    "# convert y-values' dimensions\n",
    "y_train, y_test = np.squeeze(y_train, -1), np.squeeze(y_test, -1)\n",
    "\n",
    "# preview x data\n",
    "print('x_train shape: ', x_train.shape)\n",
    "print('x_test shape: ', x_test.shape)\n",
    "print('y_train shape: ', y_train.shape)\n",
    "print('y_test shape: ', y_test.shape)"
   ]
  },
  {
   "cell_type": "code",
   "execution_count": 23,
   "metadata": {},
   "outputs": [
    {
     "name": "stdout",
     "output_type": "stream",
     "text": [
      "y_train classes:  10\n",
      "y_test classes:  10\n"
     ]
    }
   ],
   "source": [
    "# get & display number of classes\n",
    "k_train, k_test = len(set(y_train)), len(set(y_test))\n",
    "print('y_train classes: ', k_train)\n",
    "print('y_test classes: ', k_test)"
   ]
  },
  {
   "cell_type": "code",
   "execution_count": 24,
   "metadata": {},
   "outputs": [],
   "source": [
    "# build model\n",
    "i = Input(shape=x_train[0].shape)\n",
    "x = Conv2D(32, (3, 3), strides=2, activation='relu')(i)\n",
    "x = Conv2D(64, (3, 3), strides=2, activation='relu')(x)\n",
    "x = Conv2D(128, (3, 3), strides=2, activation='relu')(x)\n",
    "x = Flatten()(x)\n",
    "x = Dropout(0.5)(x)\n",
    "x = Dense(1024, activation='relu')(x)\n",
    "x = Dropout(0.2)(x)\n",
    "x = Dense(k_train, activation='softmax')(x)\n",
    "\n",
    "model = Model(i, x)"
   ]
  },
  {
   "cell_type": "code",
   "execution_count": 25,
   "metadata": {},
   "outputs": [
    {
     "name": "stdout",
     "output_type": "stream",
     "text": [
      "Epoch 1/15\n",
      "1563/1563 [==============================] - 10s 6ms/step - loss: 1.5812 - accuracy: 0.4217 - val_loss: 1.3092 - val_accuracy: 0.5267\n",
      "Epoch 2/15\n",
      "1563/1563 [==============================] - 10s 6ms/step - loss: 1.2989 - accuracy: 0.5306 - val_loss: 1.1492 - val_accuracy: 0.5902\n",
      "Epoch 3/15\n",
      "1563/1563 [==============================] - 10s 6ms/step - loss: 1.1715 - accuracy: 0.5797 - val_loss: 1.0791 - val_accuracy: 0.6119\n",
      "Epoch 4/15\n",
      "1563/1563 [==============================] - 10s 6ms/step - loss: 1.0807 - accuracy: 0.6130 - val_loss: 1.0110 - val_accuracy: 0.6406\n",
      "Epoch 5/15\n",
      "1563/1563 [==============================] - 10s 6ms/step - loss: 1.0012 - accuracy: 0.6441 - val_loss: 0.9821 - val_accuracy: 0.6576\n",
      "Epoch 6/15\n",
      "1563/1563 [==============================] - 10s 7ms/step - loss: 0.9491 - accuracy: 0.6642 - val_loss: 0.9412 - val_accuracy: 0.6692\n",
      "Epoch 7/15\n",
      "1563/1563 [==============================] - 10s 7ms/step - loss: 0.8948 - accuracy: 0.6823 - val_loss: 0.9270 - val_accuracy: 0.6768\n",
      "Epoch 8/15\n",
      "1563/1563 [==============================] - 10s 6ms/step - loss: 0.8555 - accuracy: 0.6967 - val_loss: 0.8745 - val_accuracy: 0.6963\n",
      "Epoch 9/15\n",
      "1563/1563 [==============================] - 10s 6ms/step - loss: 0.8127 - accuracy: 0.7110 - val_loss: 0.8695 - val_accuracy: 0.6988\n",
      "Epoch 10/15\n",
      "1563/1563 [==============================] - 10s 6ms/step - loss: 0.7772 - accuracy: 0.7254 - val_loss: 0.8681 - val_accuracy: 0.6976\n",
      "Epoch 11/15\n",
      "1563/1563 [==============================] - 10s 7ms/step - loss: 0.7490 - accuracy: 0.7346 - val_loss: 0.8460 - val_accuracy: 0.7052\n",
      "Epoch 12/15\n",
      "1563/1563 [==============================] - 10s 6ms/step - loss: 0.7206 - accuracy: 0.7440 - val_loss: 0.8347 - val_accuracy: 0.7053\n",
      "Epoch 13/15\n",
      "1563/1563 [==============================] - 10s 7ms/step - loss: 0.6938 - accuracy: 0.7544 - val_loss: 0.8381 - val_accuracy: 0.7082\n",
      "Epoch 14/15\n",
      "1563/1563 [==============================] - 10s 6ms/step - loss: 0.6772 - accuracy: 0.7612 - val_loss: 0.8388 - val_accuracy: 0.7058\n",
      "Epoch 15/15\n",
      "1563/1563 [==============================] - 10s 6ms/step - loss: 0.6575 - accuracy: 0.7663 - val_loss: 0.8381 - val_accuracy: 0.7084\n"
     ]
    }
   ],
   "source": [
    "# compile & fit model\n",
    "model.compile(optimizer='adam', loss='sparse_categorical_crossentropy', metrics=['accuracy'])\n",
    "r = model.fit(x_train, y_train, validation_data=(x_test, y_test), epochs=15)\n",
    "\n",
    "# save model\n",
    "# model.save(PATH_MODEL)\n",
    "\n",
    "# load model\n",
    "# model = load_model(PATH_MODEL)"
   ]
  },
  {
   "cell_type": "code",
   "execution_count": 26,
   "metadata": {},
   "outputs": [
    {
     "data": {
      "text/plain": [
       "<matplotlib.legend.Legend at 0x299ab4d60>"
      ]
     },
     "execution_count": 26,
     "metadata": {},
     "output_type": "execute_result"
    },
    {
     "data": {
      "image/png": "[encoded data removed]",
      "text/plain": [
       "<Figure size 432x288 with 1 Axes>"
      ]
     },
     "metadata": {
      "needs_background": "light"
     },
     "output_type": "display_data"
    }
   ],
   "source": [
    "plt.plot(r.history['loss'], label='loss')\n",
    "plt.plot(r.history['val_loss'], label='val_loss')\n",
    "plt.legend()"
   ]
  },
  {
   "cell_type": "code",
   "execution_count": 27,
   "metadata": {},
   "outputs": [
    {
     "data": {
      "text/plain": [
       "<matplotlib.legend.Legend at 0x2939aefd0>"
      ]
     },
     "execution_count": 27,
     "metadata": {},
     "output_type": "execute_result"
    },
    {
     "data": {
      "image/png": "[encoded data removed]",
      "text/plain": [
       "<Figure size 432x288 with 1 Axes>"
      ]
     },
     "metadata": {
      "needs_background": "light"
     },
     "output_type": "display_data"
    }
   ],
   "source": [
    "plt.plot(r.history['accuracy'], label='accuracy')\n",
    "plt.plot(r.history['val_accuracy'], label='val_accuracy')\n",
    "plt.legend()"
   ]
  }
 ],
 "metadata": {
  "kernelspec": {
   "display_name": "Python 3.10.6 ('venv': venv)",
   "language": "python",
   "name": "python3"
  },
  "language_info": {
   "codemirror_mode": {
    "name": "ipython",
    "version": 3
   },
   "file_extension": ".py",
   "mimetype": "text/x-python",
   "name": "python",
   "nbconvert_exporter": "python",
   "pygments_lexer": "ipython3",
   "version": "3.10.6"
  },
  "orig_nbformat": 4,
  "vscode": {
   "interpreter": {
    "hash": "694c0f390dd87efdb4392941ec90266ad972450cf82fbbc422b41d8fe8189bcf"
   }
  }
 },
 "nbformat": 4,
 "nbformat_minor": 2
}
