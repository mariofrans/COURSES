{
 "cells": [
  {
   "cell_type": "markdown",
   "id": "bd090ea2",
   "metadata": {
    "papermill": {
     "duration": 0.010475,
     "end_time": "2021-08-03T09:15:45.085781",
     "exception": false,
     "start_time": "2021-08-03T09:15:45.075306",
     "status": "completed"
    },
    "tags": []
   },
   "source": [
    "**This notebook is an exercise in the [Introduction to Machine Learning](https://www.kaggle.com/learn/intro-to-machine-learning) course.  You can reference the tutorial at [this link](https://www.kaggle.com/dansbecker/underfitting-and-overfitting).**\n",
    "\n",
    "---\n"
   ]
  },
  {
   "cell_type": "markdown",
   "id": "ed96873c",
   "metadata": {
    "papermill": {
     "duration": 0.008887,
     "end_time": "2021-08-03T09:15:45.104560",
     "exception": false,
     "start_time": "2021-08-03T09:15:45.095673",
     "status": "completed"
    },
    "tags": []
   },
   "source": [
    "## Recap\n",
    "You've built your first model, and now it's time to optimize the size of the tree to make better predictions. Run this cell to set up your coding environment where the previous step left off."
   ]
  },
  {
   "cell_type": "code",
   "execution_count": 1,
   "id": "d42ea809",
   "metadata": {
    "execution": {
     "iopub.execute_input": "2021-08-03T09:15:45.138716Z",
     "iopub.status.busy": "2021-08-03T09:15:45.138011Z",
     "iopub.status.idle": "2021-08-03T09:15:46.479847Z",
     "shell.execute_reply": "2021-08-03T09:15:46.478870Z",
     "shell.execute_reply.started": "2021-08-03T09:03:56.838936Z"
    },
    "papermill": {
     "duration": 1.365643,
     "end_time": "2021-08-03T09:15:46.480054",
     "exception": false,
     "start_time": "2021-08-03T09:15:45.114411",
     "status": "completed"
    },
    "tags": []
   },
   "outputs": [
    {
     "name": "stdout",
     "output_type": "stream",
     "text": [
      "Validation MAE: 29,653\n",
      "\n",
      "Setup complete\n"
     ]
    }
   ],
   "source": [
    "# Code you have previously used to load data\n",
    "import pandas as pd\n",
    "from sklearn.metrics import mean_absolute_error\n",
    "from sklearn.model_selection import train_test_split\n",
    "from sklearn.tree import DecisionTreeRegressor\n",
    "\n",
    "\n",
    "# Path of the file to read\n",
    "iowa_file_path = '../input/home-data-for-ml-course/train.csv'\n",
    "\n",
    "home_data = pd.read_csv(iowa_file_path)\n",
    "# Create target object and call it y\n",
    "y = home_data.SalePrice\n",
    "# Create X\n",
    "features = ['LotArea', 'YearBuilt', '1stFlrSF', '2ndFlrSF', 'FullBath', 'BedroomAbvGr', 'TotRmsAbvGrd']\n",
    "X = home_data[features]\n",
    "\n",
    "# Split into validation and training data\n",
    "train_X, val_X, train_y, val_y = train_test_split(X, y, random_state=1)\n",
    "\n",
    "# Specify Model\n",
    "iowa_model = DecisionTreeRegressor(random_state=1)\n",
    "# Fit Model\n",
    "iowa_model.fit(train_X, train_y)\n",
    "\n",
    "# Make validation predictions and calculate mean absolute error\n",
    "val_predictions = iowa_model.predict(val_X)\n",
    "val_mae = mean_absolute_error(val_predictions, val_y)\n",
    "print(\"Validation MAE: {:,.0f}\".format(val_mae))\n",
    "\n",
    "# Set up code checking\n",
    "from learntools.core import binder\n",
    "binder.bind(globals())\n",
    "from learntools.machine_learning.ex5 import *\n",
    "print(\"\\nSetup complete\")"
   ]
  },
  {
   "cell_type": "markdown",
   "id": "fd126834",
   "metadata": {
    "papermill": {
     "duration": 0.009525,
     "end_time": "2021-08-03T09:15:46.500261",
     "exception": false,
     "start_time": "2021-08-03T09:15:46.490736",
     "status": "completed"
    },
    "tags": []
   },
   "source": [
    "# Exercises\n",
    "You could write the function `get_mae` yourself. For now, we'll supply it. This is the same function you read about in the previous lesson. Just run the cell below."
   ]
  },
  {
   "cell_type": "code",
   "execution_count": 2,
   "id": "d86edbe1",
   "metadata": {
    "execution": {
     "iopub.execute_input": "2021-08-03T09:15:46.525981Z",
     "iopub.status.busy": "2021-08-03T09:15:46.525325Z",
     "iopub.status.idle": "2021-08-03T09:15:46.528123Z",
     "shell.execute_reply": "2021-08-03T09:15:46.528593Z",
     "shell.execute_reply.started": "2021-08-03T09:04:08.520751Z"
    },
    "papermill": {
     "duration": 0.018613,
     "end_time": "2021-08-03T09:15:46.528769",
     "exception": false,
     "start_time": "2021-08-03T09:15:46.510156",
     "status": "completed"
    },
    "tags": []
   },
   "outputs": [],
   "source": [
    "def get_mae(max_leaf_nodes, train_X, val_X, train_y, val_y):\n",
    "    model = DecisionTreeRegressor(max_leaf_nodes=max_leaf_nodes, random_state=0)\n",
    "    model.fit(train_X, train_y)\n",
    "    preds_val = model.predict(val_X)\n",
    "    mae = mean_absolute_error(val_y, preds_val)\n",
    "    return(mae)"
   ]
  },
  {
   "cell_type": "markdown",
   "id": "e8d72faf",
   "metadata": {
    "papermill": {
     "duration": 0.009519,
     "end_time": "2021-08-03T09:15:46.547999",
     "exception": false,
     "start_time": "2021-08-03T09:15:46.538480",
     "status": "completed"
    },
    "tags": []
   },
   "source": [
    "## Step 1: Compare Different Tree Sizes\n",
    "Write a loop that tries the following values for *max_leaf_nodes* from a set of possible values.\n",
    "\n",
    "Call the *get_mae* function on each value of max_leaf_nodes. Store the output in some way that allows you to select the value of `max_leaf_nodes` that gives the most accurate model on your data."
   ]
  },
  {
   "cell_type": "code",
   "execution_count": 3,
   "id": "572c3c70",
   "metadata": {
    "execution": {
     "iopub.execute_input": "2021-08-03T09:15:46.576664Z",
     "iopub.status.busy": "2021-08-03T09:15:46.575939Z",
     "iopub.status.idle": "2021-08-03T09:15:46.629781Z",
     "shell.execute_reply": "2021-08-03T09:15:46.629117Z",
     "shell.execute_reply.started": "2021-08-03T09:10:50.855634Z"
    },
    "papermill": {
     "duration": 0.072195,
     "end_time": "2021-08-03T09:15:46.629927",
     "exception": false,
     "start_time": "2021-08-03T09:15:46.557732",
     "status": "completed"
    },
    "tags": []
   },
   "outputs": [
    {
     "name": "stdout",
     "output_type": "stream",
     "text": [
      "Max leaf nodes: 5  \t\t Mean Absolute Error:  35044\n",
      "Max leaf nodes: 25  \t\t Mean Absolute Error:  29016\n",
      "Max leaf nodes: 50  \t\t Mean Absolute Error:  27405\n",
      "Max leaf nodes: 100  \t\t Mean Absolute Error:  27282\n",
      "Max leaf nodes: 250  \t\t Mean Absolute Error:  27893\n",
      "Max leaf nodes: 500  \t\t Mean Absolute Error:  29454\n"
     ]
    },
    {
     "data": {
      "application/javascript": [
       "parent.postMessage({\"jupyterEvent\": \"custom.exercise_interaction\", \"data\": {\"outcomeType\": 1, \"valueTowardsCompletion\": 0.5, \"interactionType\": 1, \"questionType\": 1, \"questionId\": \"1_BestTreeSize\", \"learnToolsVersion\": \"0.3.4\", \"failureMessage\": \"\", \"exceptionClass\": \"\", \"trace\": \"\"}}, \"*\")"
      ],
      "text/plain": [
       "<IPython.core.display.Javascript object>"
      ]
     },
     "metadata": {},
     "output_type": "display_data"
    },
    {
     "data": {
      "text/markdown": [
       "<span style=\"color:#33cc33\">Correct</span>"
      ],
      "text/plain": [
       "Correct"
      ]
     },
     "metadata": {},
     "output_type": "display_data"
    }
   ],
   "source": [
    "candidate_max_leaf_nodes = [5, 25, 50, 100, 250, 500]\n",
    "mae_list = []\n",
    "\n",
    "# Write loop to find the ideal tree size from candidate_max_leaf_nodes\n",
    "for max_leaf_nodes in [5, 25, 50, 100, 250, 500]:\n",
    "    my_mae = get_mae(max_leaf_nodes, train_X, val_X, train_y, val_y)\n",
    "    mae_list.append(my_mae)\n",
    "    print(\"Max leaf nodes: %d  \\t\\t Mean Absolute Error:  %d\" %(max_leaf_nodes, my_mae))\n",
    "\n",
    "# Store the best value of max_leaf_nodes (it will be either 5, 25, 50, 100, 250 or 500)\n",
    "best_mae_index = mae_list.index(min(mae_list))\n",
    "best_tree_size = candidate_max_leaf_nodes[best_mae_index]\n",
    "\n",
    "# Check your answer\n",
    "step_1.check()"
   ]
  },
  {
   "cell_type": "code",
   "execution_count": 4,
   "id": "359f3ed5",
   "metadata": {
    "execution": {
     "iopub.execute_input": "2021-08-03T09:15:46.657353Z",
     "iopub.status.busy": "2021-08-03T09:15:46.656385Z",
     "iopub.status.idle": "2021-08-03T09:15:46.659696Z",
     "shell.execute_reply": "2021-08-03T09:15:46.659045Z"
    },
    "papermill": {
     "duration": 0.018183,
     "end_time": "2021-08-03T09:15:46.659835",
     "exception": false,
     "start_time": "2021-08-03T09:15:46.641652",
     "status": "completed"
    },
    "tags": []
   },
   "outputs": [],
   "source": [
    "# The lines below will show you a hint or the solution.\n",
    "# step_1.hint() \n",
    "# step_1.solution()"
   ]
  },
  {
   "cell_type": "markdown",
   "id": "ce9e1340",
   "metadata": {
    "papermill": {
     "duration": 0.010908,
     "end_time": "2021-08-03T09:15:46.681884",
     "exception": false,
     "start_time": "2021-08-03T09:15:46.670976",
     "status": "completed"
    },
    "tags": []
   },
   "source": [
    "## Step 2: Fit Model Using All Data\n",
    "You know the best tree size. If you were going to deploy this model in practice, you would make it even more accurate by using all of the data and keeping that tree size.  That is, you don't need to hold out the validation data now that you've made all your modeling decisions."
   ]
  },
  {
   "cell_type": "code",
   "execution_count": 5,
   "id": "d5fa2870",
   "metadata": {
    "execution": {
     "iopub.execute_input": "2021-08-03T09:15:46.712847Z",
     "iopub.status.busy": "2021-08-03T09:15:46.711659Z",
     "iopub.status.idle": "2021-08-03T09:15:46.725318Z",
     "shell.execute_reply": "2021-08-03T09:15:46.724758Z",
     "shell.execute_reply.started": "2021-08-03T09:15:13.119682Z"
    },
    "papermill": {
     "duration": 0.032433,
     "end_time": "2021-08-03T09:15:46.725456",
     "exception": false,
     "start_time": "2021-08-03T09:15:46.693023",
     "status": "completed"
    },
    "tags": []
   },
   "outputs": [
    {
     "data": {
      "application/javascript": [
       "parent.postMessage({\"jupyterEvent\": \"custom.exercise_interaction\", \"data\": {\"outcomeType\": 1, \"valueTowardsCompletion\": 0.5, \"interactionType\": 1, \"questionType\": 2, \"questionId\": \"2_FitModelWithAllData\", \"learnToolsVersion\": \"0.3.4\", \"failureMessage\": \"\", \"exceptionClass\": \"\", \"trace\": \"\"}}, \"*\")"
      ],
      "text/plain": [
       "<IPython.core.display.Javascript object>"
      ]
     },
     "metadata": {},
     "output_type": "display_data"
    },
    {
     "data": {
      "text/markdown": [
       "<span style=\"color:#33cc33\">Correct</span>"
      ],
      "text/plain": [
       "Correct"
      ]
     },
     "metadata": {},
     "output_type": "display_data"
    }
   ],
   "source": [
    "# Fill in argument to make optimal size and uncomment\n",
    "final_model = DecisionTreeRegressor(max_leaf_nodes=best_tree_size, random_state=1)\n",
    "\n",
    "# fit the final model and uncomment the next two lines\n",
    "final_model.fit(X, y)\n",
    "\n",
    "# Check your answer\n",
    "step_2.check()"
   ]
  },
  {
   "cell_type": "code",
   "execution_count": 6,
   "id": "dc76ce3a",
   "metadata": {
    "execution": {
     "iopub.execute_input": "2021-08-03T09:15:46.754983Z",
     "iopub.status.busy": "2021-08-03T09:15:46.754201Z",
     "iopub.status.idle": "2021-08-03T09:15:46.756251Z",
     "shell.execute_reply": "2021-08-03T09:15:46.756802Z",
     "shell.execute_reply.started": "2021-08-03T09:15:16.677313Z"
    },
    "papermill": {
     "duration": 0.019119,
     "end_time": "2021-08-03T09:15:46.756972",
     "exception": false,
     "start_time": "2021-08-03T09:15:46.737853",
     "status": "completed"
    },
    "tags": []
   },
   "outputs": [],
   "source": [
    "# step_2.hint()\n",
    "# step_2.solution()"
   ]
  },
  {
   "cell_type": "markdown",
   "id": "be907beb",
   "metadata": {
    "papermill": {
     "duration": 0.012307,
     "end_time": "2021-08-03T09:15:46.781755",
     "exception": false,
     "start_time": "2021-08-03T09:15:46.769448",
     "status": "completed"
    },
    "tags": []
   },
   "source": [
    "You've tuned this model and improved your results. But we are still using Decision Tree models, which are not very sophisticated by modern machine learning standards. In the next step you will learn to use Random Forests to improve your models even more.\n",
    "\n",
    "# Keep Going\n",
    "\n",
    "You are ready for **[Random Forests](https://www.kaggle.com/dansbecker/random-forests).**\n"
   ]
  },
  {
   "cell_type": "markdown",
   "id": "fd90320a",
   "metadata": {
    "papermill": {
     "duration": 0.012144,
     "end_time": "2021-08-03T09:15:46.806159",
     "exception": false,
     "start_time": "2021-08-03T09:15:46.794015",
     "status": "completed"
    },
    "tags": []
   },
   "source": [
    "---\n",
    "\n",
    "\n",
    "\n",
    "\n",
    "*Have questions or comments? Visit the [Learn Discussion forum](https://www.kaggle.com/learn-forum/161285) to chat with other Learners.*"
   ]
  }
 ],
 "metadata": {
  "kernelspec": {
   "display_name": "Python 3",
   "language": "python",
   "name": "python3"
  },
  "language_info": {
   "codemirror_mode": {
    "name": "ipython",
    "version": 3
   },
   "file_extension": ".py",
   "mimetype": "text/x-python",
   "name": "python",
   "nbconvert_exporter": "python",
   "pygments_lexer": "ipython3",
   "version": "3.7.10"
  },
  "papermill": {
   "default_parameters": {},
   "duration": 10.531615,
   "end_time": "2021-08-03T09:15:47.528395",
   "environment_variables": {},
   "exception": null,
   "input_path": "__notebook__.ipynb",
   "output_path": "__notebook__.ipynb",
   "parameters": {},
   "start_time": "2021-08-03T09:15:36.996780",
   "version": "2.3.3"
  }
 },
 "nbformat": 4,
 "nbformat_minor": 5
}
