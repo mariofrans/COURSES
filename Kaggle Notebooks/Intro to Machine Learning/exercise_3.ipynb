{
 "cells": [
  {
   "cell_type": "markdown",
   "id": "eb79dbd6",
   "metadata": {
    "papermill": {
     "duration": 0.015887,
     "end_time": "2021-08-03T08:50:18.283921",
     "exception": false,
     "start_time": "2021-08-03T08:50:18.268034",
     "status": "completed"
    },
    "tags": []
   },
   "source": [
    "**This notebook is an exercise in the [Introduction to Machine Learning](https://www.kaggle.com/learn/intro-to-machine-learning) course.  You can reference the tutorial at [this link](https://www.kaggle.com/dansbecker/your-first-machine-learning-model).**\n",
    "\n",
    "---\n"
   ]
  },
  {
   "cell_type": "markdown",
   "id": "916317f3",
   "metadata": {
    "papermill": {
     "duration": 0.015577,
     "end_time": "2021-08-03T08:50:18.316580",
     "exception": false,
     "start_time": "2021-08-03T08:50:18.301003",
     "status": "completed"
    },
    "tags": []
   },
   "source": [
    "## Recap\n",
    "So far, you have loaded your data and reviewed it with the following code. Run this cell to set up your coding environment where the previous step left off."
   ]
  },
  {
   "cell_type": "code",
   "execution_count": 1,
   "id": "2aecf11e",
   "metadata": {
    "execution": {
     "iopub.execute_input": "2021-08-03T08:50:18.370759Z",
     "iopub.status.busy": "2021-08-03T08:50:18.369740Z",
     "iopub.status.idle": "2021-08-03T08:50:19.708050Z",
     "shell.execute_reply": "2021-08-03T08:50:19.707184Z",
     "shell.execute_reply.started": "2021-08-03T08:40:39.539444Z"
    },
    "papermill": {
     "duration": 1.376042,
     "end_time": "2021-08-03T08:50:19.708230",
     "exception": false,
     "start_time": "2021-08-03T08:50:18.332188",
     "status": "completed"
    },
    "tags": []
   },
   "outputs": [
    {
     "name": "stdout",
     "output_type": "stream",
     "text": [
      "Setup Complete\n"
     ]
    }
   ],
   "source": [
    "# Code you have previously used to load data\n",
    "import pandas as pd\n",
    "\n",
    "# Path of the file to read\n",
    "iowa_file_path = '../input/home-data-for-ml-course/train.csv'\n",
    "\n",
    "home_data = pd.read_csv(iowa_file_path)\n",
    "\n",
    "# Set up code checking\n",
    "from learntools.core import binder\n",
    "binder.bind(globals())\n",
    "from learntools.machine_learning.ex3 import *\n",
    "\n",
    "print(\"Setup Complete\")"
   ]
  },
  {
   "cell_type": "markdown",
   "id": "e788921a",
   "metadata": {
    "papermill": {
     "duration": 0.015372,
     "end_time": "2021-08-03T08:50:19.740159",
     "exception": false,
     "start_time": "2021-08-03T08:50:19.724787",
     "status": "completed"
    },
    "tags": []
   },
   "source": [
    "# Exercises\n",
    "\n",
    "## Step 1: Specify Prediction Target\n",
    "Select the target variable, which corresponds to the sales price. Save this to a new variable called `y`. You'll need to print a list of the columns to find the name of the column you need.\n"
   ]
  },
  {
   "cell_type": "code",
   "execution_count": 2,
   "id": "e9bd54e7",
   "metadata": {
    "execution": {
     "iopub.execute_input": "2021-08-03T08:50:19.780821Z",
     "iopub.status.busy": "2021-08-03T08:50:19.780100Z",
     "iopub.status.idle": "2021-08-03T08:50:19.784818Z",
     "shell.execute_reply": "2021-08-03T08:50:19.784216Z",
     "shell.execute_reply.started": "2021-08-03T08:41:25.718260Z"
    },
    "papermill": {
     "duration": 0.02915,
     "end_time": "2021-08-03T08:50:19.784973",
     "exception": false,
     "start_time": "2021-08-03T08:50:19.755823",
     "status": "completed"
    },
    "tags": []
   },
   "outputs": [
    {
     "data": {
      "text/plain": [
       "Index(['Id', 'MSSubClass', 'MSZoning', 'LotFrontage', 'LotArea', 'Street',\n",
       "       'Alley', 'LotShape', 'LandContour', 'Utilities', 'LotConfig',\n",
       "       'LandSlope', 'Neighborhood', 'Condition1', 'Condition2', 'BldgType',\n",
       "       'HouseStyle', 'OverallQual', 'OverallCond', 'YearBuilt', 'YearRemodAdd',\n",
       "       'RoofStyle', 'RoofMatl', 'Exterior1st', 'Exterior2nd', 'MasVnrType',\n",
       "       'MasVnrArea', 'ExterQual', 'ExterCond', 'Foundation', 'BsmtQual',\n",
       "       'BsmtCond', 'BsmtExposure', 'BsmtFinType1', 'BsmtFinSF1',\n",
       "       'BsmtFinType2', 'BsmtFinSF2', 'BsmtUnfSF', 'TotalBsmtSF', 'Heating',\n",
       "       'HeatingQC', 'CentralAir', 'Electrical', '1stFlrSF', '2ndFlrSF',\n",
       "       'LowQualFinSF', 'GrLivArea', 'BsmtFullBath', 'BsmtHalfBath', 'FullBath',\n",
       "       'HalfBath', 'BedroomAbvGr', 'KitchenAbvGr', 'KitchenQual',\n",
       "       'TotRmsAbvGrd', 'Functional', 'Fireplaces', 'FireplaceQu', 'GarageType',\n",
       "       'GarageYrBlt', 'GarageFinish', 'GarageCars', 'GarageArea', 'GarageQual',\n",
       "       'GarageCond', 'PavedDrive', 'WoodDeckSF', 'OpenPorchSF',\n",
       "       'EnclosedPorch', '3SsnPorch', 'ScreenPorch', 'PoolArea', 'PoolQC',\n",
       "       'Fence', 'MiscFeature', 'MiscVal', 'MoSold', 'YrSold', 'SaleType',\n",
       "       'SaleCondition', 'SalePrice'],\n",
       "      dtype='object')"
      ]
     },
     "execution_count": 2,
     "metadata": {},
     "output_type": "execute_result"
    }
   ],
   "source": [
    "# print the list of columns in the dataset to find the name of the prediction target\n",
    "home_data.columns"
   ]
  },
  {
   "cell_type": "code",
   "execution_count": 3,
   "id": "9d31a5d9",
   "metadata": {
    "execution": {
     "iopub.execute_input": "2021-08-03T08:50:19.831074Z",
     "iopub.status.busy": "2021-08-03T08:50:19.830332Z",
     "iopub.status.idle": "2021-08-03T08:50:19.836472Z",
     "shell.execute_reply": "2021-08-03T08:50:19.835941Z",
     "shell.execute_reply.started": "2021-08-03T08:42:38.417431Z"
    },
    "papermill": {
     "duration": 0.034382,
     "end_time": "2021-08-03T08:50:19.836620",
     "exception": false,
     "start_time": "2021-08-03T08:50:19.802238",
     "status": "completed"
    },
    "tags": []
   },
   "outputs": [
    {
     "data": {
      "application/javascript": [
       "parent.postMessage({\"jupyterEvent\": \"custom.exercise_interaction\", \"data\": {\"outcomeType\": 1, \"valueTowardsCompletion\": 0.25, \"interactionType\": 1, \"questionType\": 2, \"questionId\": \"1_SetTarget\", \"learnToolsVersion\": \"0.3.4\", \"failureMessage\": \"\", \"exceptionClass\": \"\", \"trace\": \"\"}}, \"*\")"
      ],
      "text/plain": [
       "<IPython.core.display.Javascript object>"
      ]
     },
     "metadata": {},
     "output_type": "display_data"
    },
    {
     "data": {
      "text/markdown": [
       "<span style=\"color:#33cc33\">Correct</span>"
      ],
      "text/plain": [
       "Correct"
      ]
     },
     "metadata": {},
     "output_type": "display_data"
    }
   ],
   "source": [
    "y = home_data['SalePrice']\n",
    "\n",
    "# Check your answer\n",
    "step_1.check()"
   ]
  },
  {
   "cell_type": "code",
   "execution_count": 4,
   "id": "c819fbe8",
   "metadata": {
    "collapsed": true,
    "execution": {
     "iopub.execute_input": "2021-08-03T08:50:19.875371Z",
     "iopub.status.busy": "2021-08-03T08:50:19.874710Z",
     "iopub.status.idle": "2021-08-03T08:50:19.877068Z",
     "shell.execute_reply": "2021-08-03T08:50:19.876511Z"
    },
    "jupyter": {
     "outputs_hidden": true
    },
    "papermill": {
     "duration": 0.023428,
     "end_time": "2021-08-03T08:50:19.877225",
     "exception": false,
     "start_time": "2021-08-03T08:50:19.853797",
     "status": "completed"
    },
    "tags": []
   },
   "outputs": [],
   "source": [
    "# The lines below will show you a hint or the solution.\n",
    "# step_1.hint() \n",
    "# step_1.solution()"
   ]
  },
  {
   "cell_type": "markdown",
   "id": "21320195",
   "metadata": {
    "papermill": {
     "duration": 0.017113,
     "end_time": "2021-08-03T08:50:19.911784",
     "exception": false,
     "start_time": "2021-08-03T08:50:19.894671",
     "status": "completed"
    },
    "tags": []
   },
   "source": [
    "## Step 2: Create X\n",
    "Now you will create a DataFrame called `X` holding the predictive features.\n",
    "\n",
    "Since you want only some columns from the original data, you'll first create a list with the names of the columns you want in `X`.\n",
    "\n",
    "You'll use just the following columns in the list (you can copy and paste the whole list to save some typing, though you'll still need to add quotes):\n",
    "    * LotArea\n",
    "    * YearBuilt\n",
    "    * 1stFlrSF\n",
    "    * 2ndFlrSF\n",
    "    * FullBath\n",
    "    * BedroomAbvGr\n",
    "    * TotRmsAbvGrd\n",
    "\n",
    "After you've created that list of features, use it to create the DataFrame that you'll use to fit the model."
   ]
  },
  {
   "cell_type": "code",
   "execution_count": 5,
   "id": "c09d463d",
   "metadata": {
    "execution": {
     "iopub.execute_input": "2021-08-03T08:50:19.949685Z",
     "iopub.status.busy": "2021-08-03T08:50:19.949095Z",
     "iopub.status.idle": "2021-08-03T08:50:19.960640Z",
     "shell.execute_reply": "2021-08-03T08:50:19.960039Z",
     "shell.execute_reply.started": "2021-08-03T08:44:34.753024Z"
    },
    "papermill": {
     "duration": 0.031603,
     "end_time": "2021-08-03T08:50:19.960807",
     "exception": false,
     "start_time": "2021-08-03T08:50:19.929204",
     "status": "completed"
    },
    "tags": []
   },
   "outputs": [
    {
     "data": {
      "application/javascript": [
       "parent.postMessage({\"jupyterEvent\": \"custom.exercise_interaction\", \"data\": {\"outcomeType\": 1, \"valueTowardsCompletion\": 0.25, \"interactionType\": 1, \"questionType\": 2, \"questionId\": \"2_SelectPredictionData\", \"learnToolsVersion\": \"0.3.4\", \"failureMessage\": \"\", \"exceptionClass\": \"\", \"trace\": \"\"}}, \"*\")"
      ],
      "text/plain": [
       "<IPython.core.display.Javascript object>"
      ]
     },
     "metadata": {},
     "output_type": "display_data"
    },
    {
     "data": {
      "text/markdown": [
       "<span style=\"color:#33cc33\">Correct</span>"
      ],
      "text/plain": [
       "Correct"
      ]
     },
     "metadata": {},
     "output_type": "display_data"
    }
   ],
   "source": [
    "# Create the list of features below\n",
    "feature_names = ['LotArea', 'YearBuilt', '1stFlrSF', '2ndFlrSF', 'FullBath', 'BedroomAbvGr', 'TotRmsAbvGrd']\n",
    "\n",
    "# Select data corresponding to features in feature_names\n",
    "X = home_data[feature_names]\n",
    "\n",
    "# Check your answer\n",
    "step_2.check()"
   ]
  },
  {
   "cell_type": "code",
   "execution_count": 6,
   "id": "1f7422b0",
   "metadata": {
    "collapsed": true,
    "execution": {
     "iopub.execute_input": "2021-08-03T08:50:20.003853Z",
     "iopub.status.busy": "2021-08-03T08:50:20.003121Z",
     "iopub.status.idle": "2021-08-03T08:50:20.004957Z",
     "shell.execute_reply": "2021-08-03T08:50:20.005402Z"
    },
    "jupyter": {
     "outputs_hidden": true
    },
    "papermill": {
     "duration": 0.025609,
     "end_time": "2021-08-03T08:50:20.005609",
     "exception": false,
     "start_time": "2021-08-03T08:50:19.980000",
     "status": "completed"
    },
    "tags": []
   },
   "outputs": [],
   "source": [
    "# step_2.hint()\n",
    "# step_2.solution()"
   ]
  },
  {
   "cell_type": "markdown",
   "id": "a37b36fc",
   "metadata": {
    "papermill": {
     "duration": 0.018433,
     "end_time": "2021-08-03T08:50:20.042691",
     "exception": false,
     "start_time": "2021-08-03T08:50:20.024258",
     "status": "completed"
    },
    "tags": []
   },
   "source": [
    "## Review Data\n",
    "Before building a model, take a quick look at **X** to verify it looks sensible"
   ]
  },
  {
   "cell_type": "code",
   "execution_count": 7,
   "id": "bb754797",
   "metadata": {
    "execution": {
     "iopub.execute_input": "2021-08-03T08:50:20.090749Z",
     "iopub.status.busy": "2021-08-03T08:50:20.089766Z",
     "iopub.status.idle": "2021-08-03T08:50:20.121895Z",
     "shell.execute_reply": "2021-08-03T08:50:20.122579Z",
     "shell.execute_reply.started": "2021-08-03T08:45:46.412785Z"
    },
    "papermill": {
     "duration": 0.06137,
     "end_time": "2021-08-03T08:50:20.122875",
     "exception": false,
     "start_time": "2021-08-03T08:50:20.061505",
     "status": "completed"
    },
    "tags": []
   },
   "outputs": [
    {
     "name": "stdout",
     "output_type": "stream",
     "text": [
      "             LotArea    YearBuilt     1stFlrSF     2ndFlrSF     FullBath  \\\n",
      "count    1460.000000  1460.000000  1460.000000  1460.000000  1460.000000   \n",
      "mean    10516.828082  1971.267808  1162.626712   346.992466     1.565068   \n",
      "std      9981.264932    30.202904   386.587738   436.528436     0.550916   \n",
      "min      1300.000000  1872.000000   334.000000     0.000000     0.000000   \n",
      "25%      7553.500000  1954.000000   882.000000     0.000000     1.000000   \n",
      "50%      9478.500000  1973.000000  1087.000000     0.000000     2.000000   \n",
      "75%     11601.500000  2000.000000  1391.250000   728.000000     2.000000   \n",
      "max    215245.000000  2010.000000  4692.000000  2065.000000     3.000000   \n",
      "\n",
      "       BedroomAbvGr  TotRmsAbvGrd  \n",
      "count   1460.000000   1460.000000  \n",
      "mean       2.866438      6.517808  \n",
      "std        0.815778      1.625393  \n",
      "min        0.000000      2.000000  \n",
      "25%        2.000000      5.000000  \n",
      "50%        3.000000      6.000000  \n",
      "75%        3.000000      7.000000  \n",
      "max        8.000000     14.000000  \n",
      "   LotArea  YearBuilt  1stFlrSF  2ndFlrSF  FullBath  BedroomAbvGr  \\\n",
      "0     8450       2003       856       854         2             3   \n",
      "1     9600       1976      1262         0         2             3   \n",
      "2    11250       2001       920       866         2             3   \n",
      "3     9550       1915       961       756         1             3   \n",
      "4    14260       2000      1145      1053         2             4   \n",
      "\n",
      "   TotRmsAbvGrd  \n",
      "0             8  \n",
      "1             6  \n",
      "2             6  \n",
      "3             7  \n",
      "4             9  \n"
     ]
    }
   ],
   "source": [
    "# Review data\n",
    "# print description or statistics from X\n",
    "print(X.describe())\n",
    "\n",
    "# print the top few lines\n",
    "print(X.head())"
   ]
  },
  {
   "cell_type": "markdown",
   "id": "00c15d97",
   "metadata": {
    "papermill": {
     "duration": 0.01877,
     "end_time": "2021-08-03T08:50:20.160893",
     "exception": false,
     "start_time": "2021-08-03T08:50:20.142123",
     "status": "completed"
    },
    "tags": []
   },
   "source": [
    "## Step 3: Specify and Fit Model\n",
    "Create a `DecisionTreeRegressor` and save it iowa_model. Ensure you've done the relevant import from sklearn to run this command.\n",
    "\n",
    "Then fit the model you just created using the data in `X` and `y` that you saved above."
   ]
  },
  {
   "cell_type": "code",
   "execution_count": 8,
   "id": "121d865f",
   "metadata": {
    "execution": {
     "iopub.execute_input": "2021-08-03T08:50:20.209110Z",
     "iopub.status.busy": "2021-08-03T08:50:20.208433Z",
     "iopub.status.idle": "2021-08-03T08:50:20.222259Z",
     "shell.execute_reply": "2021-08-03T08:50:20.221630Z",
     "shell.execute_reply.started": "2021-08-03T08:47:37.988878Z"
    },
    "papermill": {
     "duration": 0.042583,
     "end_time": "2021-08-03T08:50:20.222418",
     "exception": false,
     "start_time": "2021-08-03T08:50:20.179835",
     "status": "completed"
    },
    "tags": []
   },
   "outputs": [
    {
     "data": {
      "application/javascript": [
       "parent.postMessage({\"jupyterEvent\": \"custom.exercise_interaction\", \"data\": {\"outcomeType\": 1, \"valueTowardsCompletion\": 0.25, \"interactionType\": 1, \"questionType\": 2, \"questionId\": \"3_CreateModel\", \"learnToolsVersion\": \"0.3.4\", \"failureMessage\": \"\", \"exceptionClass\": \"\", \"trace\": \"\"}}, \"*\")"
      ],
      "text/plain": [
       "<IPython.core.display.Javascript object>"
      ]
     },
     "metadata": {},
     "output_type": "display_data"
    },
    {
     "data": {
      "text/markdown": [
       "<span style=\"color:#33cc33\">Correct</span>"
      ],
      "text/plain": [
       "Correct"
      ]
     },
     "metadata": {},
     "output_type": "display_data"
    }
   ],
   "source": [
    "from sklearn.tree import DecisionTreeRegressor\n",
    "#specify the model. \n",
    "#For model reproducibility, set a numeric value for random_state when specifying the model\n",
    "iowa_model = DecisionTreeRegressor(random_state=1)\n",
    "\n",
    "# Fit the model\n",
    "iowa_model.fit(X, y)\n",
    "\n",
    "# Check your answer\n",
    "step_3.check()"
   ]
  },
  {
   "cell_type": "code",
   "execution_count": 9,
   "id": "dcab7314",
   "metadata": {
    "collapsed": true,
    "execution": {
     "iopub.execute_input": "2021-08-03T08:50:20.266622Z",
     "iopub.status.busy": "2021-08-03T08:50:20.265736Z",
     "iopub.status.idle": "2021-08-03T08:50:20.269348Z",
     "shell.execute_reply": "2021-08-03T08:50:20.268837Z"
    },
    "jupyter": {
     "outputs_hidden": true
    },
    "papermill": {
     "duration": 0.027327,
     "end_time": "2021-08-03T08:50:20.269507",
     "exception": false,
     "start_time": "2021-08-03T08:50:20.242180",
     "status": "completed"
    },
    "tags": []
   },
   "outputs": [],
   "source": [
    "# step_3.hint()\n",
    "# step_3.solution()"
   ]
  },
  {
   "cell_type": "markdown",
   "id": "0ec7ea71",
   "metadata": {
    "papermill": {
     "duration": 0.019478,
     "end_time": "2021-08-03T08:50:20.308908",
     "exception": false,
     "start_time": "2021-08-03T08:50:20.289430",
     "status": "completed"
    },
    "tags": []
   },
   "source": [
    "## Step 4: Make Predictions\n",
    "Make predictions with the model's `predict` command using `X` as the data. Save the results to a variable called `predictions`."
   ]
  },
  {
   "cell_type": "code",
   "execution_count": 10,
   "id": "fe1aa994",
   "metadata": {
    "execution": {
     "iopub.execute_input": "2021-08-03T08:50:20.355568Z",
     "iopub.status.busy": "2021-08-03T08:50:20.354945Z",
     "iopub.status.idle": "2021-08-03T08:50:20.367334Z",
     "shell.execute_reply": "2021-08-03T08:50:20.366643Z",
     "shell.execute_reply.started": "2021-08-03T08:48:14.666453Z"
    },
    "papermill": {
     "duration": 0.038566,
     "end_time": "2021-08-03T08:50:20.367524",
     "exception": false,
     "start_time": "2021-08-03T08:50:20.328958",
     "status": "completed"
    },
    "tags": []
   },
   "outputs": [
    {
     "name": "stdout",
     "output_type": "stream",
     "text": [
      "[208500. 181500. 223500. ... 266500. 142125. 147500.]\n"
     ]
    },
    {
     "data": {
      "application/javascript": [
       "parent.postMessage({\"jupyterEvent\": \"custom.exercise_interaction\", \"data\": {\"outcomeType\": 1, \"valueTowardsCompletion\": 0.25, \"interactionType\": 1, \"questionType\": 2, \"questionId\": \"4_MakePredictions\", \"learnToolsVersion\": \"0.3.4\", \"failureMessage\": \"\", \"exceptionClass\": \"\", \"trace\": \"\"}}, \"*\")"
      ],
      "text/plain": [
       "<IPython.core.display.Javascript object>"
      ]
     },
     "metadata": {},
     "output_type": "display_data"
    },
    {
     "data": {
      "text/markdown": [
       "<span style=\"color:#33cc33\">Correct</span>"
      ],
      "text/plain": [
       "Correct"
      ]
     },
     "metadata": {},
     "output_type": "display_data"
    }
   ],
   "source": [
    "predictions = iowa_model.predict(X)\n",
    "print(predictions)\n",
    "\n",
    "# Check your answer\n",
    "step_4.check()"
   ]
  },
  {
   "cell_type": "code",
   "execution_count": 11,
   "id": "bb40b7b3",
   "metadata": {
    "collapsed": true,
    "execution": {
     "iopub.execute_input": "2021-08-03T08:50:20.414661Z",
     "iopub.status.busy": "2021-08-03T08:50:20.414025Z",
     "iopub.status.idle": "2021-08-03T08:50:20.417469Z",
     "shell.execute_reply": "2021-08-03T08:50:20.416956Z"
    },
    "jupyter": {
     "outputs_hidden": true
    },
    "papermill": {
     "duration": 0.028689,
     "end_time": "2021-08-03T08:50:20.417610",
     "exception": false,
     "start_time": "2021-08-03T08:50:20.388921",
     "status": "completed"
    },
    "tags": []
   },
   "outputs": [],
   "source": [
    "# step_4.hint()\n",
    "# step_4.solution()"
   ]
  },
  {
   "cell_type": "markdown",
   "id": "d74c7a59",
   "metadata": {
    "papermill": {
     "duration": 0.020685,
     "end_time": "2021-08-03T08:50:20.459157",
     "exception": false,
     "start_time": "2021-08-03T08:50:20.438472",
     "status": "completed"
    },
    "tags": []
   },
   "source": [
    "## Think About Your Results\n",
    "\n",
    "Use the `head` method to compare the top few predictions to the actual home values (in `y`) for those same homes. Anything surprising?\n"
   ]
  },
  {
   "cell_type": "code",
   "execution_count": 12,
   "id": "8e357ae3",
   "metadata": {
    "execution": {
     "iopub.execute_input": "2021-08-03T08:50:20.513324Z",
     "iopub.status.busy": "2021-08-03T08:50:20.512357Z",
     "iopub.status.idle": "2021-08-03T08:50:20.518290Z",
     "shell.execute_reply": "2021-08-03T08:50:20.517586Z",
     "shell.execute_reply.started": "2021-08-03T08:49:45.041658Z"
    },
    "papermill": {
     "duration": 0.038162,
     "end_time": "2021-08-03T08:50:20.518486",
     "exception": false,
     "start_time": "2021-08-03T08:50:20.480324",
     "status": "completed"
    },
    "tags": []
   },
   "outputs": [
    {
     "name": "stdout",
     "output_type": "stream",
     "text": [
      "Making predictions for the following 5 houses:\n",
      "   LotArea  YearBuilt  1stFlrSF  2ndFlrSF  FullBath  BedroomAbvGr  \\\n",
      "0     8450       2003       856       854         2             3   \n",
      "1     9600       1976      1262         0         2             3   \n",
      "2    11250       2001       920       866         2             3   \n",
      "3     9550       1915       961       756         1             3   \n",
      "4    14260       2000      1145      1053         2             4   \n",
      "\n",
      "   TotRmsAbvGrd  \n",
      "0             8  \n",
      "1             6  \n",
      "2             6  \n",
      "3             7  \n",
      "4             9  \n",
      "The predictions are\n",
      "[208500. 181500. 223500. 140000. 250000.]\n"
     ]
    }
   ],
   "source": [
    "# You can write code in this cell\n",
    "print(\"Making predictions for the following 5 houses:\")\n",
    "print(X.head())\n",
    "print(\"The predictions are\")\n",
    "print(iowa_model.predict(X.head()))"
   ]
  },
  {
   "cell_type": "markdown",
   "id": "16d6a97c",
   "metadata": {
    "papermill": {
     "duration": 0.021507,
     "end_time": "2021-08-03T08:50:20.562954",
     "exception": false,
     "start_time": "2021-08-03T08:50:20.541447",
     "status": "completed"
    },
    "tags": []
   },
   "source": [
    "It's natural to ask how accurate the model's predictions will be and how you can improve that. That will be you're next step.\n",
    "\n",
    "# Keep Going\n",
    "\n",
    "You are ready for **[Model Validation](https://www.kaggle.com/dansbecker/model-validation).**\n"
   ]
  },
  {
   "cell_type": "markdown",
   "id": "1dbc4a49",
   "metadata": {
    "papermill": {
     "duration": 0.022367,
     "end_time": "2021-08-03T08:50:20.606995",
     "exception": false,
     "start_time": "2021-08-03T08:50:20.584628",
     "status": "completed"
    },
    "tags": []
   },
   "source": [
    "---\n",
    "\n",
    "\n",
    "\n",
    "\n",
    "*Have questions or comments? Visit the [Learn Discussion forum](https://www.kaggle.com/learn-forum/161285) to chat with other Learners.*"
   ]
  }
 ],
 "metadata": {
  "kernelspec": {
   "display_name": "Python 3",
   "language": "python",
   "name": "python3"
  },
  "language_info": {
   "codemirror_mode": {
    "name": "ipython",
    "version": 3
   },
   "file_extension": ".py",
   "mimetype": "text/x-python",
   "name": "python",
   "nbconvert_exporter": "python",
   "pygments_lexer": "ipython3",
   "version": "3.7.10"
  },
  "papermill": {
   "default_parameters": {},
   "duration": 11.704029,
   "end_time": "2021-08-03T08:50:21.439059",
   "environment_variables": {},
   "exception": null,
   "input_path": "__notebook__.ipynb",
   "output_path": "__notebook__.ipynb",
   "parameters": {},
   "start_time": "2021-08-03T08:50:09.735030",
   "version": "2.3.3"
  }
 },
 "nbformat": 4,
 "nbformat_minor": 5
}
