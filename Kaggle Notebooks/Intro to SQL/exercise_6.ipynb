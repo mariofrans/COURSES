{
 "cells": [
  {
   "cell_type": "markdown",
   "id": "9faa5d6f",
   "metadata": {
    "papermill": {
     "duration": 0.0209,
     "end_time": "2021-08-13T09:57:41.595810",
     "exception": false,
     "start_time": "2021-08-13T09:57:41.574910",
     "status": "completed"
    },
    "tags": []
   },
   "source": [
    "**This notebook is an exercise in the [SQL](https://www.kaggle.com/learn/intro-to-sql) course.  You can reference the tutorial at [this link](https://www.kaggle.com/dansbecker/joining-data).**\n",
    "\n",
    "---\n"
   ]
  },
  {
   "cell_type": "markdown",
   "id": "2f959d6d",
   "metadata": {
    "papermill": {
     "duration": 0.01955,
     "end_time": "2021-08-13T09:57:41.637393",
     "exception": false,
     "start_time": "2021-08-13T09:57:41.617843",
     "status": "completed"
    },
    "tags": []
   },
   "source": [
    "# Introduction\n",
    "\n",
    "[Stack Overflow](https://stackoverflow.com/) is a widely beloved question and answer site for technical questions. You'll probably use it yourself as you keep using SQL (or any programming language). \n",
    "\n",
    "Their data is publicly available. What cool things do you think it would be useful for?\n",
    "\n",
    "Here's one idea:\n",
    "You could set up a service that identifies the Stack Overflow users who have demonstrated expertise with a specific technology by answering related questions about it, so someone could hire those experts for in-depth help.\n",
    "\n",
    "In this exercise, you'll write the SQL queries that might serve as the foundation for this type of service.\n",
    "\n",
    "As usual, run the following cell to set up our feedback system before moving on."
   ]
  },
  {
   "cell_type": "code",
   "execution_count": 1,
   "id": "de58f974",
   "metadata": {
    "execution": {
     "iopub.execute_input": "2021-08-13T09:57:41.681445Z",
     "iopub.status.busy": "2021-08-13T09:57:41.680258Z",
     "iopub.status.idle": "2021-08-13T09:57:57.789734Z",
     "shell.execute_reply": "2021-08-13T09:57:57.790744Z",
     "shell.execute_reply.started": "2021-08-13T09:29:14.417439Z"
    },
    "papermill": {
     "duration": 16.133807,
     "end_time": "2021-08-13T09:57:57.791056",
     "exception": false,
     "start_time": "2021-08-13T09:57:41.657249",
     "status": "completed"
    },
    "tags": []
   },
   "outputs": [
    {
     "name": "stdout",
     "output_type": "stream",
     "text": [
      "Using Kaggle's public dataset BigQuery integration.\n"
     ]
    },
    {
     "name": "stderr",
     "output_type": "stream",
     "text": [
      "/opt/conda/lib/python3.7/site-packages/google/cloud/bigquery/client.py:440: UserWarning: Cannot create BigQuery Storage client, the dependency google-cloud-bigquery-storage is not installed.\n",
      "  \"Cannot create BigQuery Storage client, the dependency \"\n"
     ]
    },
    {
     "name": "stdout",
     "output_type": "stream",
     "text": [
      "Setup Complete\n"
     ]
    }
   ],
   "source": [
    "# Set up feedback system\n",
    "from learntools.core import binder\n",
    "binder.bind(globals())\n",
    "from learntools.sql.ex6 import *\n",
    "print(\"Setup Complete\")"
   ]
  },
  {
   "cell_type": "markdown",
   "id": "7baac31c",
   "metadata": {
    "papermill": {
     "duration": 0.020236,
     "end_time": "2021-08-13T09:57:57.832464",
     "exception": false,
     "start_time": "2021-08-13T09:57:57.812228",
     "status": "completed"
    },
    "tags": []
   },
   "source": [
    "Run the next cell to fetch the `stackoverflow` dataset."
   ]
  },
  {
   "cell_type": "code",
   "execution_count": 2,
   "id": "70816282",
   "metadata": {
    "execution": {
     "iopub.execute_input": "2021-08-13T09:57:57.879746Z",
     "iopub.status.busy": "2021-08-13T09:57:57.878742Z",
     "iopub.status.idle": "2021-08-13T09:57:58.190970Z",
     "shell.execute_reply": "2021-08-13T09:57:58.190220Z",
     "shell.execute_reply.started": "2021-08-13T09:31:15.796224Z"
    },
    "papermill": {
     "duration": 0.338109,
     "end_time": "2021-08-13T09:57:58.191116",
     "exception": false,
     "start_time": "2021-08-13T09:57:57.853007",
     "status": "completed"
    },
    "tags": []
   },
   "outputs": [
    {
     "name": "stdout",
     "output_type": "stream",
     "text": [
      "Using Kaggle's public dataset BigQuery integration.\n"
     ]
    }
   ],
   "source": [
    "from google.cloud import bigquery\n",
    "\n",
    "# Create a \"Client\" object\n",
    "client = bigquery.Client()\n",
    "\n",
    "# Construct a reference to the \"stackoverflow\" dataset\n",
    "dataset_ref = client.dataset(\"stackoverflow\", project=\"bigquery-public-data\")\n",
    "\n",
    "# API request - fetch the dataset\n",
    "dataset = client.get_dataset(dataset_ref)"
   ]
  },
  {
   "cell_type": "markdown",
   "id": "86d94472",
   "metadata": {
    "papermill": {
     "duration": 0.020766,
     "end_time": "2021-08-13T09:57:58.233856",
     "exception": false,
     "start_time": "2021-08-13T09:57:58.213090",
     "status": "completed"
    },
    "tags": []
   },
   "source": [
    "# Exercises\n",
    "\n",
    "### 1) Explore the data\n",
    "\n",
    "Before writing queries or **JOIN** clauses, you'll want to see what tables are available. \n",
    "\n",
    "*Hint*: Tab completion is helpful whenever you can't remember a command. Type `client.` and then hit the tab key. Don't forget the period before hitting tab."
   ]
  },
  {
   "cell_type": "code",
   "execution_count": 3,
   "id": "c0f6e347",
   "metadata": {
    "execution": {
     "iopub.execute_input": "2021-08-13T09:57:58.283630Z",
     "iopub.status.busy": "2021-08-13T09:57:58.282924Z",
     "iopub.status.idle": "2021-08-13T09:57:58.530057Z",
     "shell.execute_reply": "2021-08-13T09:57:58.529381Z",
     "shell.execute_reply.started": "2021-08-13T09:34:46.166690Z"
    },
    "papermill": {
     "duration": 0.275047,
     "end_time": "2021-08-13T09:57:58.530208",
     "exception": false,
     "start_time": "2021-08-13T09:57:58.255161",
     "status": "completed"
    },
    "tags": []
   },
   "outputs": [
    {
     "name": "stdout",
     "output_type": "stream",
     "text": [
      "['badges', 'comments', 'post_history', 'post_links', 'posts_answers', 'posts_moderator_nomination', 'posts_orphaned_tag_wiki', 'posts_privilege_wiki', 'posts_questions', 'posts_tag_wiki', 'posts_tag_wiki_excerpt', 'posts_wiki_placeholder', 'stackoverflow_posts', 'tags', 'users', 'votes']\n"
     ]
    },
    {
     "data": {
      "application/javascript": [
       "parent.postMessage({\"jupyterEvent\": \"custom.exercise_interaction\", \"data\": {\"outcomeType\": 1, \"valueTowardsCompletion\": 0.16666666666666666, \"interactionType\": 1, \"questionType\": 1, \"questionId\": \"1_ListSOTables\", \"learnToolsVersion\": \"0.3.4\", \"failureMessage\": \"\", \"exceptionClass\": \"\", \"trace\": \"\"}}, \"*\")"
      ],
      "text/plain": [
       "<IPython.core.display.Javascript object>"
      ]
     },
     "metadata": {},
     "output_type": "display_data"
    },
    {
     "data": {
      "text/markdown": [
       "<span style=\"color:#33cc33\">Correct</span>"
      ],
      "text/plain": [
       "Correct"
      ]
     },
     "metadata": {},
     "output_type": "display_data"
    }
   ],
   "source": [
    "# Get a list of available tables \n",
    "list_of_tables = []\n",
    "for table in list(client.list_tables(dataset)):\n",
    "    list_of_tables.append(table.table_id)\n",
    "\n",
    "# Print your answer\n",
    "print(list_of_tables)\n",
    "\n",
    "# Check your answer\n",
    "q_1.check()"
   ]
  },
  {
   "cell_type": "markdown",
   "id": "9b7a63c1",
   "metadata": {
    "papermill": {
     "duration": 0.023804,
     "end_time": "2021-08-13T09:57:58.576696",
     "exception": false,
     "start_time": "2021-08-13T09:57:58.552892",
     "status": "completed"
    },
    "tags": []
   },
   "source": [
    "For the solution, uncomment the line below."
   ]
  },
  {
   "cell_type": "code",
   "execution_count": 4,
   "id": "56aa5e5c",
   "metadata": {
    "execution": {
     "iopub.execute_input": "2021-08-13T09:57:58.625779Z",
     "iopub.status.busy": "2021-08-13T09:57:58.625148Z",
     "iopub.status.idle": "2021-08-13T09:57:58.629014Z",
     "shell.execute_reply": "2021-08-13T09:57:58.629483Z"
    },
    "papermill": {
     "duration": 0.030454,
     "end_time": "2021-08-13T09:57:58.629653",
     "exception": false,
     "start_time": "2021-08-13T09:57:58.599199",
     "status": "completed"
    },
    "tags": []
   },
   "outputs": [],
   "source": [
    "#q_1.solution()"
   ]
  },
  {
   "cell_type": "markdown",
   "id": "8aeabb02",
   "metadata": {
    "papermill": {
     "duration": 0.02192,
     "end_time": "2021-08-13T09:57:58.673891",
     "exception": false,
     "start_time": "2021-08-13T09:57:58.651971",
     "status": "completed"
    },
    "tags": []
   },
   "source": [
    "### 2) Review relevant tables\n",
    "\n",
    "If you are interested in people who answer questions on a given topic, the `posts_answers` table is a natural place to look. Run the following cell, and look at the output."
   ]
  },
  {
   "cell_type": "code",
   "execution_count": 5,
   "id": "ec04aeef",
   "metadata": {
    "execution": {
     "iopub.execute_input": "2021-08-13T09:57:58.726482Z",
     "iopub.status.busy": "2021-08-13T09:57:58.725819Z",
     "iopub.status.idle": "2021-08-13T09:57:59.389806Z",
     "shell.execute_reply": "2021-08-13T09:57:59.389243Z",
     "shell.execute_reply.started": "2021-08-13T09:35:26.431483Z"
    },
    "papermill": {
     "duration": 0.692847,
     "end_time": "2021-08-13T09:57:59.389960",
     "exception": false,
     "start_time": "2021-08-13T09:57:58.697113",
     "status": "completed"
    },
    "tags": []
   },
   "outputs": [
    {
     "name": "stderr",
     "output_type": "stream",
     "text": [
      "/opt/conda/lib/python3.7/site-packages/ipykernel_launcher.py:8: UserWarning: Cannot use bqstorage_client if max_results is set, reverting to fetching data with the tabledata.list endpoint.\n",
      "  \n"
     ]
    },
    {
     "data": {
      "text/html": [
       "<div>\n",
       "<style scoped>\n",
       "    .dataframe tbody tr th:only-of-type {\n",
       "        vertical-align: middle;\n",
       "    }\n",
       "\n",
       "    .dataframe tbody tr th {\n",
       "        vertical-align: top;\n",
       "    }\n",
       "\n",
       "    .dataframe thead th {\n",
       "        text-align: right;\n",
       "    }\n",
       "</style>\n",
       "<table border=\"1\" class=\"dataframe\">\n",
       "  <thead>\n",
       "    <tr style=\"text-align: right;\">\n",
       "      <th></th>\n",
       "      <th>id</th>\n",
       "      <th>title</th>\n",
       "      <th>body</th>\n",
       "      <th>accepted_answer_id</th>\n",
       "      <th>answer_count</th>\n",
       "      <th>comment_count</th>\n",
       "      <th>community_owned_date</th>\n",
       "      <th>creation_date</th>\n",
       "      <th>favorite_count</th>\n",
       "      <th>last_activity_date</th>\n",
       "      <th>last_edit_date</th>\n",
       "      <th>last_editor_display_name</th>\n",
       "      <th>last_editor_user_id</th>\n",
       "      <th>owner_display_name</th>\n",
       "      <th>owner_user_id</th>\n",
       "      <th>parent_id</th>\n",
       "      <th>post_type_id</th>\n",
       "      <th>score</th>\n",
       "      <th>tags</th>\n",
       "      <th>view_count</th>\n",
       "    </tr>\n",
       "  </thead>\n",
       "  <tbody>\n",
       "    <tr>\n",
       "      <th>0</th>\n",
       "      <td>67154495</td>\n",
       "      <td>None</td>\n",
       "      <td>&lt;p&gt;You can get two arrays of characters from t...</td>\n",
       "      <td>None</td>\n",
       "      <td>None</td>\n",
       "      <td>0</td>\n",
       "      <td>NaT</td>\n",
       "      <td>2021-04-18 23:54:41.763000+00:00</td>\n",
       "      <td>None</td>\n",
       "      <td>2021-04-19 00:01:50.707000+00:00</td>\n",
       "      <td>2021-04-19 00:01:50.707000+00:00</td>\n",
       "      <td>user15675591</td>\n",
       "      <td>NaN</td>\n",
       "      <td>user15675591</td>\n",
       "      <td>NaN</td>\n",
       "      <td>64050791</td>\n",
       "      <td>2</td>\n",
       "      <td>0</td>\n",
       "      <td>None</td>\n",
       "      <td>None</td>\n",
       "    </tr>\n",
       "    <tr>\n",
       "      <th>1</th>\n",
       "      <td>67154892</td>\n",
       "      <td>None</td>\n",
       "      <td>&lt;p&gt;To check if &lt;em&gt;two strings are anagrams&lt;/e...</td>\n",
       "      <td>None</td>\n",
       "      <td>None</td>\n",
       "      <td>0</td>\n",
       "      <td>NaT</td>\n",
       "      <td>2021-04-19 01:18:10.110000+00:00</td>\n",
       "      <td>None</td>\n",
       "      <td>2021-04-19 01:18:10.110000+00:00</td>\n",
       "      <td>NaT</td>\n",
       "      <td>None</td>\n",
       "      <td>NaN</td>\n",
       "      <td>user15675591</td>\n",
       "      <td>NaN</td>\n",
       "      <td>63352574</td>\n",
       "      <td>2</td>\n",
       "      <td>0</td>\n",
       "      <td>None</td>\n",
       "      <td>None</td>\n",
       "    </tr>\n",
       "    <tr>\n",
       "      <th>2</th>\n",
       "      <td>67155332</td>\n",
       "      <td>None</td>\n",
       "      <td>&lt;p&gt;You can first get arrays of characters from...</td>\n",
       "      <td>None</td>\n",
       "      <td>None</td>\n",
       "      <td>0</td>\n",
       "      <td>NaT</td>\n",
       "      <td>2021-04-19 02:44:10.033000+00:00</td>\n",
       "      <td>None</td>\n",
       "      <td>2021-04-19 02:59:37.867000+00:00</td>\n",
       "      <td>2021-04-19 02:59:37.867000+00:00</td>\n",
       "      <td>user15675591</td>\n",
       "      <td>NaN</td>\n",
       "      <td>user15675591</td>\n",
       "      <td>NaN</td>\n",
       "      <td>60867630</td>\n",
       "      <td>2</td>\n",
       "      <td>0</td>\n",
       "      <td>None</td>\n",
       "      <td>None</td>\n",
       "    </tr>\n",
       "    <tr>\n",
       "      <th>3</th>\n",
       "      <td>67156330</td>\n",
       "      <td>None</td>\n",
       "      <td>&lt;p&gt;You can use &lt;em&gt;Java 8 Stream&lt;/em&gt;: &lt;a href...</td>\n",
       "      <td>None</td>\n",
       "      <td>None</td>\n",
       "      <td>0</td>\n",
       "      <td>NaT</td>\n",
       "      <td>2021-04-19 05:21:34.760000+00:00</td>\n",
       "      <td>None</td>\n",
       "      <td>2021-04-25 15:42:47.580000+00:00</td>\n",
       "      <td>2021-04-25 15:42:47.580000+00:00</td>\n",
       "      <td>user15675591</td>\n",
       "      <td>NaN</td>\n",
       "      <td>user15675591</td>\n",
       "      <td>NaN</td>\n",
       "      <td>66065890</td>\n",
       "      <td>2</td>\n",
       "      <td>0</td>\n",
       "      <td>None</td>\n",
       "      <td>None</td>\n",
       "    </tr>\n",
       "    <tr>\n",
       "      <th>4</th>\n",
       "      <td>67156874</td>\n",
       "      <td>None</td>\n",
       "      <td>&lt;p&gt;As others have already mentioned that &amp;quot...</td>\n",
       "      <td>None</td>\n",
       "      <td>None</td>\n",
       "      <td>0</td>\n",
       "      <td>NaT</td>\n",
       "      <td>2021-04-19 06:22:17.893000+00:00</td>\n",
       "      <td>None</td>\n",
       "      <td>2021-04-19 06:22:17.893000+00:00</td>\n",
       "      <td>NaT</td>\n",
       "      <td>None</td>\n",
       "      <td>NaN</td>\n",
       "      <td>user10064176</td>\n",
       "      <td>NaN</td>\n",
       "      <td>57751417</td>\n",
       "      <td>2</td>\n",
       "      <td>0</td>\n",
       "      <td>None</td>\n",
       "      <td>None</td>\n",
       "    </tr>\n",
       "  </tbody>\n",
       "</table>\n",
       "</div>"
      ],
      "text/plain": [
       "         id title                                               body  \\\n",
       "0  67154495  None  <p>You can get two arrays of characters from t...   \n",
       "1  67154892  None  <p>To check if <em>two strings are anagrams</e...   \n",
       "2  67155332  None  <p>You can first get arrays of characters from...   \n",
       "3  67156330  None  <p>You can use <em>Java 8 Stream</em>: <a href...   \n",
       "4  67156874  None  <p>As others have already mentioned that &quot...   \n",
       "\n",
       "  accepted_answer_id answer_count  comment_count community_owned_date  \\\n",
       "0               None         None              0                  NaT   \n",
       "1               None         None              0                  NaT   \n",
       "2               None         None              0                  NaT   \n",
       "3               None         None              0                  NaT   \n",
       "4               None         None              0                  NaT   \n",
       "\n",
       "                     creation_date favorite_count  \\\n",
       "0 2021-04-18 23:54:41.763000+00:00           None   \n",
       "1 2021-04-19 01:18:10.110000+00:00           None   \n",
       "2 2021-04-19 02:44:10.033000+00:00           None   \n",
       "3 2021-04-19 05:21:34.760000+00:00           None   \n",
       "4 2021-04-19 06:22:17.893000+00:00           None   \n",
       "\n",
       "                last_activity_date                   last_edit_date  \\\n",
       "0 2021-04-19 00:01:50.707000+00:00 2021-04-19 00:01:50.707000+00:00   \n",
       "1 2021-04-19 01:18:10.110000+00:00                              NaT   \n",
       "2 2021-04-19 02:59:37.867000+00:00 2021-04-19 02:59:37.867000+00:00   \n",
       "3 2021-04-25 15:42:47.580000+00:00 2021-04-25 15:42:47.580000+00:00   \n",
       "4 2021-04-19 06:22:17.893000+00:00                              NaT   \n",
       "\n",
       "  last_editor_display_name  last_editor_user_id owner_display_name  \\\n",
       "0             user15675591                  NaN       user15675591   \n",
       "1                     None                  NaN       user15675591   \n",
       "2             user15675591                  NaN       user15675591   \n",
       "3             user15675591                  NaN       user15675591   \n",
       "4                     None                  NaN       user10064176   \n",
       "\n",
       "   owner_user_id  parent_id  post_type_id  score  tags view_count  \n",
       "0            NaN   64050791             2      0  None       None  \n",
       "1            NaN   63352574             2      0  None       None  \n",
       "2            NaN   60867630             2      0  None       None  \n",
       "3            NaN   66065890             2      0  None       None  \n",
       "4            NaN   57751417             2      0  None       None  "
      ]
     },
     "execution_count": 5,
     "metadata": {},
     "output_type": "execute_result"
    }
   ],
   "source": [
    "# Construct a reference to the \"posts_answers\" table\n",
    "answers_table_ref = dataset_ref.table(\"posts_answers\")\n",
    "\n",
    "# API request - fetch the table\n",
    "answers_table = client.get_table(answers_table_ref)\n",
    "\n",
    "# Preview the first five lines of the \"posts_answers\" table\n",
    "client.list_rows(answers_table, max_results=5).to_dataframe()"
   ]
  },
  {
   "cell_type": "markdown",
   "id": "dc488ad2",
   "metadata": {
    "papermill": {
     "duration": 0.023013,
     "end_time": "2021-08-13T09:57:59.436620",
     "exception": false,
     "start_time": "2021-08-13T09:57:59.413607",
     "status": "completed"
    },
    "tags": []
   },
   "source": [
    "It isn't clear yet how to find users who answered questions on any given topic. But `posts_answers` has a `parent_id` column. If you are familiar with the Stack Overflow site, you might figure out that the `parent_id` is the question each post is answering.\n",
    "\n",
    "Look at `posts_questions` using the cell below."
   ]
  },
  {
   "cell_type": "code",
   "execution_count": 6,
   "id": "bbecfc73",
   "metadata": {
    "execution": {
     "iopub.execute_input": "2021-08-13T09:57:59.490692Z",
     "iopub.status.busy": "2021-08-13T09:57:59.490019Z",
     "iopub.status.idle": "2021-08-13T09:58:00.120310Z",
     "shell.execute_reply": "2021-08-13T09:58:00.120791Z",
     "shell.execute_reply.started": "2021-08-13T09:36:03.615811Z"
    },
    "papermill": {
     "duration": 0.660878,
     "end_time": "2021-08-13T09:58:00.120984",
     "exception": false,
     "start_time": "2021-08-13T09:57:59.460106",
     "status": "completed"
    },
    "tags": []
   },
   "outputs": [
    {
     "name": "stderr",
     "output_type": "stream",
     "text": [
      "/opt/conda/lib/python3.7/site-packages/ipykernel_launcher.py:8: UserWarning: Cannot use bqstorage_client if max_results is set, reverting to fetching data with the tabledata.list endpoint.\n",
      "  \n"
     ]
    },
    {
     "data": {
      "text/html": [
       "<div>\n",
       "<style scoped>\n",
       "    .dataframe tbody tr th:only-of-type {\n",
       "        vertical-align: middle;\n",
       "    }\n",
       "\n",
       "    .dataframe tbody tr th {\n",
       "        vertical-align: top;\n",
       "    }\n",
       "\n",
       "    .dataframe thead th {\n",
       "        text-align: right;\n",
       "    }\n",
       "</style>\n",
       "<table border=\"1\" class=\"dataframe\">\n",
       "  <thead>\n",
       "    <tr style=\"text-align: right;\">\n",
       "      <th></th>\n",
       "      <th>id</th>\n",
       "      <th>title</th>\n",
       "      <th>body</th>\n",
       "      <th>accepted_answer_id</th>\n",
       "      <th>answer_count</th>\n",
       "      <th>comment_count</th>\n",
       "      <th>community_owned_date</th>\n",
       "      <th>creation_date</th>\n",
       "      <th>favorite_count</th>\n",
       "      <th>last_activity_date</th>\n",
       "      <th>last_edit_date</th>\n",
       "      <th>last_editor_display_name</th>\n",
       "      <th>last_editor_user_id</th>\n",
       "      <th>owner_display_name</th>\n",
       "      <th>owner_user_id</th>\n",
       "      <th>parent_id</th>\n",
       "      <th>post_type_id</th>\n",
       "      <th>score</th>\n",
       "      <th>tags</th>\n",
       "      <th>view_count</th>\n",
       "    </tr>\n",
       "  </thead>\n",
       "  <tbody>\n",
       "    <tr>\n",
       "      <th>0</th>\n",
       "      <td>67757982</td>\n",
       "      <td>Carry select adder pipelining in vhdl</td>\n",
       "      <td>&lt;p&gt;Please help me how can i pipeline this desi...</td>\n",
       "      <td>NaN</td>\n",
       "      <td>0</td>\n",
       "      <td>0</td>\n",
       "      <td>NaT</td>\n",
       "      <td>2021-05-30 05:26:15.923000+00:00</td>\n",
       "      <td>NaN</td>\n",
       "      <td>2021-05-30 05:26:15.923000+00:00</td>\n",
       "      <td>NaT</td>\n",
       "      <td>None</td>\n",
       "      <td>NaN</td>\n",
       "      <td>None</td>\n",
       "      <td>15758793</td>\n",
       "      <td>None</td>\n",
       "      <td>1</td>\n",
       "      <td>0</td>\n",
       "      <td>vhdl</td>\n",
       "      <td>1</td>\n",
       "    </tr>\n",
       "    <tr>\n",
       "      <th>1</th>\n",
       "      <td>67472359</td>\n",
       "      <td>filebeat registry file shows offset to 0</td>\n",
       "      <td>&lt;p&gt;We have configured filebeat in the server, ...</td>\n",
       "      <td>NaN</td>\n",
       "      <td>0</td>\n",
       "      <td>0</td>\n",
       "      <td>NaT</td>\n",
       "      <td>2021-05-10 14:31:52.090000+00:00</td>\n",
       "      <td>NaN</td>\n",
       "      <td>2021-05-10 14:31:52.090000+00:00</td>\n",
       "      <td>NaT</td>\n",
       "      <td>None</td>\n",
       "      <td>NaN</td>\n",
       "      <td>None</td>\n",
       "      <td>11549576</td>\n",
       "      <td>None</td>\n",
       "      <td>1</td>\n",
       "      <td>0</td>\n",
       "      <td>offset|filebeat</td>\n",
       "      <td>2</td>\n",
       "    </tr>\n",
       "    <tr>\n",
       "      <th>2</th>\n",
       "      <td>67485809</td>\n",
       "      <td>Multilayer Graph/Multilayer Network and Graph ...</td>\n",
       "      <td>&lt;p&gt;I'm new to building graphs and GCNs and I w...</td>\n",
       "      <td>NaN</td>\n",
       "      <td>0</td>\n",
       "      <td>0</td>\n",
       "      <td>NaT</td>\n",
       "      <td>2021-05-11 11:26:22.747000+00:00</td>\n",
       "      <td>NaN</td>\n",
       "      <td>2021-05-11 11:26:22.747000+00:00</td>\n",
       "      <td>NaT</td>\n",
       "      <td>None</td>\n",
       "      <td>NaN</td>\n",
       "      <td>None</td>\n",
       "      <td>13916429</td>\n",
       "      <td>None</td>\n",
       "      <td>1</td>\n",
       "      <td>0</td>\n",
       "      <td>graph|neural-network|multi-layer</td>\n",
       "      <td>2</td>\n",
       "    </tr>\n",
       "    <tr>\n",
       "      <th>3</th>\n",
       "      <td>67514172</td>\n",
       "      <td>Creating a boxed outline in theme in wordpress</td>\n",
       "      <td>&lt;p&gt;Want to remove the green highlighted area a...</td>\n",
       "      <td>NaN</td>\n",
       "      <td>0</td>\n",
       "      <td>0</td>\n",
       "      <td>NaT</td>\n",
       "      <td>2021-05-13 05:11:07.957000+00:00</td>\n",
       "      <td>NaN</td>\n",
       "      <td>2021-05-13 05:11:07.957000+00:00</td>\n",
       "      <td>NaT</td>\n",
       "      <td>None</td>\n",
       "      <td>NaN</td>\n",
       "      <td>None</td>\n",
       "      <td>15319352</td>\n",
       "      <td>None</td>\n",
       "      <td>1</td>\n",
       "      <td>-1</td>\n",
       "      <td>frontend|wordpress-theming|themes|elementor</td>\n",
       "      <td>2</td>\n",
       "    </tr>\n",
       "    <tr>\n",
       "      <th>4</th>\n",
       "      <td>67570205</td>\n",
       "      <td>Regarding the Reshaping the data and Improving...</td>\n",
       "      <td>&lt;p&gt;1.How could I resolve the layer incompatobi...</td>\n",
       "      <td>NaN</td>\n",
       "      <td>0</td>\n",
       "      <td>0</td>\n",
       "      <td>NaT</td>\n",
       "      <td>2021-05-17 13:00:28.623000+00:00</td>\n",
       "      <td>NaN</td>\n",
       "      <td>2021-05-17 13:00:28.623000+00:00</td>\n",
       "      <td>NaT</td>\n",
       "      <td>None</td>\n",
       "      <td>NaN</td>\n",
       "      <td>None</td>\n",
       "      <td>15064017</td>\n",
       "      <td>None</td>\n",
       "      <td>1</td>\n",
       "      <td>0</td>\n",
       "      <td>lstm</td>\n",
       "      <td>2</td>\n",
       "    </tr>\n",
       "  </tbody>\n",
       "</table>\n",
       "</div>"
      ],
      "text/plain": [
       "         id                                              title  \\\n",
       "0  67757982              Carry select adder pipelining in vhdl   \n",
       "1  67472359           filebeat registry file shows offset to 0   \n",
       "2  67485809  Multilayer Graph/Multilayer Network and Graph ...   \n",
       "3  67514172     Creating a boxed outline in theme in wordpress   \n",
       "4  67570205  Regarding the Reshaping the data and Improving...   \n",
       "\n",
       "                                                body  accepted_answer_id  \\\n",
       "0  <p>Please help me how can i pipeline this desi...                 NaN   \n",
       "1  <p>We have configured filebeat in the server, ...                 NaN   \n",
       "2  <p>I'm new to building graphs and GCNs and I w...                 NaN   \n",
       "3  <p>Want to remove the green highlighted area a...                 NaN   \n",
       "4  <p>1.How could I resolve the layer incompatobi...                 NaN   \n",
       "\n",
       "   answer_count  comment_count community_owned_date  \\\n",
       "0             0              0                  NaT   \n",
       "1             0              0                  NaT   \n",
       "2             0              0                  NaT   \n",
       "3             0              0                  NaT   \n",
       "4             0              0                  NaT   \n",
       "\n",
       "                     creation_date  favorite_count  \\\n",
       "0 2021-05-30 05:26:15.923000+00:00             NaN   \n",
       "1 2021-05-10 14:31:52.090000+00:00             NaN   \n",
       "2 2021-05-11 11:26:22.747000+00:00             NaN   \n",
       "3 2021-05-13 05:11:07.957000+00:00             NaN   \n",
       "4 2021-05-17 13:00:28.623000+00:00             NaN   \n",
       "\n",
       "                last_activity_date last_edit_date last_editor_display_name  \\\n",
       "0 2021-05-30 05:26:15.923000+00:00            NaT                     None   \n",
       "1 2021-05-10 14:31:52.090000+00:00            NaT                     None   \n",
       "2 2021-05-11 11:26:22.747000+00:00            NaT                     None   \n",
       "3 2021-05-13 05:11:07.957000+00:00            NaT                     None   \n",
       "4 2021-05-17 13:00:28.623000+00:00            NaT                     None   \n",
       "\n",
       "   last_editor_user_id owner_display_name  owner_user_id parent_id  \\\n",
       "0                  NaN               None       15758793      None   \n",
       "1                  NaN               None       11549576      None   \n",
       "2                  NaN               None       13916429      None   \n",
       "3                  NaN               None       15319352      None   \n",
       "4                  NaN               None       15064017      None   \n",
       "\n",
       "   post_type_id  score                                         tags  \\\n",
       "0             1      0                                         vhdl   \n",
       "1             1      0                              offset|filebeat   \n",
       "2             1      0             graph|neural-network|multi-layer   \n",
       "3             1     -1  frontend|wordpress-theming|themes|elementor   \n",
       "4             1      0                                         lstm   \n",
       "\n",
       "   view_count  \n",
       "0           1  \n",
       "1           2  \n",
       "2           2  \n",
       "3           2  \n",
       "4           2  "
      ]
     },
     "execution_count": 6,
     "metadata": {},
     "output_type": "execute_result"
    }
   ],
   "source": [
    "# Construct a reference to the \"posts_questions\" table\n",
    "questions_table_ref = dataset_ref.table(\"posts_questions\")\n",
    "\n",
    "# API request - fetch the table\n",
    "questions_table = client.get_table(questions_table_ref)\n",
    "\n",
    "# Preview the first five lines of the \"posts_questions\" table\n",
    "client.list_rows(questions_table, max_results=5).to_dataframe()"
   ]
  },
  {
   "cell_type": "markdown",
   "id": "264c3e2b",
   "metadata": {
    "papermill": {
     "duration": 0.024266,
     "end_time": "2021-08-13T09:58:00.170095",
     "exception": false,
     "start_time": "2021-08-13T09:58:00.145829",
     "status": "completed"
    },
    "tags": []
   },
   "source": [
    "Are there any fields that identify what topic or technology each question is about? If so, how could you find the IDs of users who answered questions about a specific topic?\n",
    "\n",
    "Think about it, and then check the solution by running the code in the next cell."
   ]
  },
  {
   "cell_type": "code",
   "execution_count": 7,
   "id": "1905fce2",
   "metadata": {
    "execution": {
     "iopub.execute_input": "2021-08-13T09:58:00.221994Z",
     "iopub.status.busy": "2021-08-13T09:58:00.221352Z",
     "iopub.status.idle": "2021-08-13T09:58:00.227810Z",
     "shell.execute_reply": "2021-08-13T09:58:00.228341Z",
     "shell.execute_reply.started": "2021-08-13T09:36:10.136337Z"
    },
    "papermill": {
     "duration": 0.034014,
     "end_time": "2021-08-13T09:58:00.228548",
     "exception": false,
     "start_time": "2021-08-13T09:58:00.194534",
     "status": "completed"
    },
    "tags": []
   },
   "outputs": [
    {
     "data": {
      "application/javascript": [
       "parent.postMessage({\"jupyterEvent\": \"custom.exercise_interaction\", \"data\": {\"interactionType\": 3, \"questionType\": 4, \"questionId\": \"2_HowToFindExperts\", \"learnToolsVersion\": \"0.3.4\", \"valueTowardsCompletion\": 0.0, \"failureMessage\": \"\", \"exceptionClass\": \"\", \"trace\": \"\", \"outcomeType\": 4}}, \"*\")"
      ],
      "text/plain": [
       "<IPython.core.display.Javascript object>"
      ]
     },
     "metadata": {},
     "output_type": "display_data"
    },
    {
     "data": {
      "text/markdown": [
       "<span style=\"color:#33cc99\">Solution:</span> \n",
       "`posts_questions` has a column called `tags` which lists the topics/technologies each question is about.\n",
       "\n",
       "`posts_answers` has a column called `parent_id` which identifies the ID of the question each answer is responding to.\n",
       "`posts_answers` also has an `owner_user_id` column which specifies the ID of the user who answered the question.\n",
       "\n",
       "You can join these two tables to:\n",
       "- determine the `tags` for each answer, and then\n",
       "- select the `owner_user_id` of the answers on the desired tag.\n",
       "\n",
       "This is exactly what you will do over the next few questions.\n"
      ],
      "text/plain": [
       "Solution: \n",
       "`posts_questions` has a column called `tags` which lists the topics/technologies each question is about.\n",
       "\n",
       "`posts_answers` has a column called `parent_id` which identifies the ID of the question each answer is responding to.\n",
       "`posts_answers` also has an `owner_user_id` column which specifies the ID of the user who answered the question.\n",
       "\n",
       "You can join these two tables to:\n",
       "- determine the `tags` for each answer, and then\n",
       "- select the `owner_user_id` of the answers on the desired tag.\n",
       "\n",
       "This is exactly what you will do over the next few questions."
      ]
     },
     "metadata": {},
     "output_type": "display_data"
    }
   ],
   "source": [
    "# Check your answer (Run this code cell to receive credit!)\n",
    "q_2.solution()"
   ]
  },
  {
   "cell_type": "markdown",
   "id": "7925ba9a",
   "metadata": {
    "papermill": {
     "duration": 0.025189,
     "end_time": "2021-08-13T09:58:00.279397",
     "exception": false,
     "start_time": "2021-08-13T09:58:00.254208",
     "status": "completed"
    },
    "tags": []
   },
   "source": [
    "### 3) Selecting the right questions\n",
    "\n",
    "A lot of this data is text. \n",
    "\n",
    "We'll explore one last technique in this course which you can apply to this text.\n",
    "\n",
    "A **WHERE** clause can limit your results to rows with certain text using the **LIKE** feature. For example, to select just the third row of the `pets` table from the tutorial, we could use the query in the picture below.\n",
    "\n",
    "![](https://i.imgur.com/RccsXBr.png) \n",
    "\n",
    "You can also use `%` as a \"wildcard\" for any number of characters. So you can also get the third row with:\n",
    "\n",
    "```\n",
    "query = \"\"\"\n",
    "        SELECT * \n",
    "        FROM `bigquery-public-data.pet_records.pets` \n",
    "        WHERE Name LIKE '%ipl%'\n",
    "        \"\"\"\n",
    "```\n",
    "\n",
    "Try this yourself. Write a query that selects the `id`, `title` and `owner_user_id` columns from the `posts_questions` table. \n",
    "- Restrict the results to rows that contain the word \"bigquery\" in the `tags` column. \n",
    "- Include rows where there is other text in addition to the word \"bigquery\" (e.g., if a row has a tag \"bigquery-sql\", your results should include that too)."
   ]
  },
  {
   "cell_type": "code",
   "execution_count": 8,
   "id": "7887edae",
   "metadata": {
    "execution": {
     "iopub.execute_input": "2021-08-13T09:58:00.334028Z",
     "iopub.status.busy": "2021-08-13T09:58:00.333347Z",
     "iopub.status.idle": "2021-08-13T09:58:03.311078Z",
     "shell.execute_reply": "2021-08-13T09:58:03.311653Z",
     "shell.execute_reply.started": "2021-08-13T09:40:48.668214Z"
    },
    "papermill": {
     "duration": 3.006792,
     "end_time": "2021-08-13T09:58:03.311837",
     "exception": false,
     "start_time": "2021-08-13T09:58:00.305045",
     "status": "completed"
    },
    "tags": []
   },
   "outputs": [
    {
     "name": "stderr",
     "output_type": "stream",
     "text": [
      "/opt/conda/lib/python3.7/site-packages/google/cloud/bigquery/client.py:440: UserWarning: Cannot create BigQuery Storage client, the dependency google-cloud-bigquery-storage is not installed.\n",
      "  \"Cannot create BigQuery Storage client, the dependency \"\n"
     ]
    },
    {
     "name": "stdout",
     "output_type": "stream",
     "text": [
      "         id                                              title  owner_user_id\n",
      "0  67594503  Error loading location southamerica-west1: Big...     13938163.0\n",
      "1  67757483  Error using bq mk command for creating empty t...     14128359.0\n",
      "2  67638357  Join Google Ads (Campaign Manager) data with G...     13450264.0\n",
      "3  67752915  BigQueryInsertJobOperator missing required aut...     14444816.0\n",
      "4  67529732  BigQuery's Data Transfer Service - list of loa...     10144000.0\n"
     ]
    },
    {
     "data": {
      "application/javascript": [
       "parent.postMessage({\"jupyterEvent\": \"custom.exercise_interaction\", \"data\": {\"outcomeType\": 1, \"valueTowardsCompletion\": 0.16666666666666666, \"interactionType\": 1, \"questionType\": 2, \"questionId\": \"3_SelectRightQuestions\", \"learnToolsVersion\": \"0.3.4\", \"failureMessage\": \"\", \"exceptionClass\": \"\", \"trace\": \"\"}}, \"*\")"
      ],
      "text/plain": [
       "<IPython.core.display.Javascript object>"
      ]
     },
     "metadata": {},
     "output_type": "display_data"
    },
    {
     "data": {
      "text/markdown": [
       "<span style=\"color:#33cc33\">Correct</span>"
      ],
      "text/plain": [
       "Correct"
      ]
     },
     "metadata": {},
     "output_type": "display_data"
    }
   ],
   "source": [
    "# Your code here\n",
    "questions_query = \"\"\"\n",
    "                  SELECT id, title, owner_user_id\n",
    "                  FROM `bigquery-public-data.stackoverflow.posts_questions`\n",
    "                  WHERE tags LIKE '%bigquery%'\n",
    "                  \"\"\"\n",
    "\n",
    "# Set up the query (cancel the query if it would use too much of \n",
    "# your quota, with the limit set to 1 GB)\n",
    "safe_config = bigquery.QueryJobConfig(maximum_bytes_billed=10**10)\n",
    "questions_query_job = client.query(questions_query, job_config=safe_config)\n",
    "# API request - run the query, and return a pandas DataFrame\n",
    "questions_results = questions_query_job.to_dataframe()\n",
    "\n",
    "# Preview results\n",
    "print(questions_results.head())\n",
    "\n",
    "# Check your answer\n",
    "q_3.check()"
   ]
  },
  {
   "cell_type": "markdown",
   "id": "89df8d69",
   "metadata": {
    "papermill": {
     "duration": 0.026964,
     "end_time": "2021-08-13T09:58:03.366096",
     "exception": false,
     "start_time": "2021-08-13T09:58:03.339132",
     "status": "completed"
    },
    "tags": []
   },
   "source": [
    "For a hint or the solution, uncomment the appropriate line below."
   ]
  },
  {
   "cell_type": "code",
   "execution_count": 9,
   "id": "c1880a63",
   "metadata": {
    "execution": {
     "iopub.execute_input": "2021-08-13T09:58:03.425136Z",
     "iopub.status.busy": "2021-08-13T09:58:03.424504Z",
     "iopub.status.idle": "2021-08-13T09:58:03.429218Z",
     "shell.execute_reply": "2021-08-13T09:58:03.428575Z",
     "shell.execute_reply.started": "2021-08-13T09:40:57.741857Z"
    },
    "papermill": {
     "duration": 0.035749,
     "end_time": "2021-08-13T09:58:03.429362",
     "exception": false,
     "start_time": "2021-08-13T09:58:03.393613",
     "status": "completed"
    },
    "tags": []
   },
   "outputs": [],
   "source": [
    "#q_3.hint()\n",
    "#q_3.solution()"
   ]
  },
  {
   "cell_type": "markdown",
   "id": "2b9539f3",
   "metadata": {
    "papermill": {
     "duration": 0.026942,
     "end_time": "2021-08-13T09:58:03.483807",
     "exception": false,
     "start_time": "2021-08-13T09:58:03.456865",
     "status": "completed"
    },
    "tags": []
   },
   "source": [
    "### 4) Your first join\n",
    "Now that you have a query to select questions on any given topic (in this case, you chose \"bigquery\"), you can find the answers to those questions with a **JOIN**.  \n",
    "\n",
    "Write a query that returns the `id`, `body` and `owner_user_id` columns from the `posts_answers` table for answers to \"bigquery\"-related questions. \n",
    "- You should have one row in your results for each answer to a question that has \"bigquery\" in the tags.  \n",
    "- Remember you can get the tags for a question from the `tags` column in the `posts_questions` table.\n",
    "\n",
    "Here's a reminder of what a **JOIN** looked like in the tutorial:\n",
    "```\n",
    "query = \"\"\"\n",
    "        SELECT p.Name AS Pet_Name, o.Name AS Owner_Name\n",
    "        FROM `bigquery-public-data.pet_records.pets` as p\n",
    "        INNER JOIN `bigquery-public-data.pet_records.owners` as o \n",
    "            ON p.ID = o.Pet_ID\n",
    "        \"\"\"\n",
    "```\n",
    "\n",
    "It may be useful to scroll up and review the first several rows of the `posts_answers` and `posts_questions` tables.  "
   ]
  },
  {
   "cell_type": "code",
   "execution_count": 10,
   "id": "55c23ee4",
   "metadata": {
    "execution": {
     "iopub.execute_input": "2021-08-13T09:58:03.546685Z",
     "iopub.status.busy": "2021-08-13T09:58:03.545981Z",
     "iopub.status.idle": "2021-08-13T09:58:14.530862Z",
     "shell.execute_reply": "2021-08-13T09:58:14.530309Z",
     "shell.execute_reply.started": "2021-08-13T09:46:57.140149Z"
    },
    "papermill": {
     "duration": 11.019736,
     "end_time": "2021-08-13T09:58:14.531013",
     "exception": false,
     "start_time": "2021-08-13T09:58:03.511277",
     "status": "completed"
    },
    "tags": []
   },
   "outputs": [
    {
     "name": "stderr",
     "output_type": "stream",
     "text": [
      "/opt/conda/lib/python3.7/site-packages/google/cloud/bigquery/client.py:440: UserWarning: Cannot create BigQuery Storage client, the dependency google-cloud-bigquery-storage is not installed.\n",
      "  \"Cannot create BigQuery Storage client, the dependency \"\n"
     ]
    },
    {
     "name": "stdout",
     "output_type": "stream",
     "text": [
      "         id                                               body  owner_user_id\n",
      "0  67498757  <p>try this...</p>\\n<p>SELECT appsflyer_id, a....     15185155.0\n",
      "1  67757541  <p>You can use conditional aggregation</p>\\n<p...     14868997.0\n",
      "2  67560396  <p>You can use most of the same answer but jus...       949255.0\n",
      "3  67203963  <p>This is typically a backend issue in Google...      1121288.0\n",
      "4  67327828  <p>There is no way to extract Google Analytics...      4024072.0\n"
     ]
    },
    {
     "data": {
      "application/javascript": [
       "parent.postMessage({\"jupyterEvent\": \"custom.exercise_interaction\", \"data\": {\"outcomeType\": 1, \"valueTowardsCompletion\": 0.16666666666666666, \"interactionType\": 1, \"questionType\": 2, \"questionId\": \"4_FirstJoin\", \"learnToolsVersion\": \"0.3.4\", \"failureMessage\": \"\", \"exceptionClass\": \"\", \"trace\": \"\"}}, \"*\")"
      ],
      "text/plain": [
       "<IPython.core.display.Javascript object>"
      ]
     },
     "metadata": {},
     "output_type": "display_data"
    },
    {
     "data": {
      "text/markdown": [
       "<span style=\"color:#33cc33\">Correct</span>"
      ],
      "text/plain": [
       "Correct"
      ]
     },
     "metadata": {},
     "output_type": "display_data"
    }
   ],
   "source": [
    "# Your code here\n",
    "answers_query = \"\"\"\n",
    "                SELECT a.id, a.body, a.owner_user_id\n",
    "                FROM `bigquery-public-data.stackoverflow.posts_questions` AS q \n",
    "                INNER JOIN `bigquery-public-data.stackoverflow.posts_answers` AS a\n",
    "                ON q.id = a.parent_id\n",
    "                WHERE q.tags LIKE '%bigquery%'\n",
    "                \"\"\"\n",
    "\n",
    "# Set up the query\n",
    "safe_config = bigquery.QueryJobConfig(maximum_bytes_billed=27*10**10)\n",
    "answers_query_job = client.query(answers_query, job_config=safe_config)\n",
    "\n",
    "# API request - run the query, and return a pandas DataFrame\n",
    "answers_results = answers_query_job.to_dataframe()\n",
    "\n",
    "# Preview results\n",
    "print(answers_results.head())\n",
    "\n",
    "# Check your answer\n",
    "q_4.check()"
   ]
  },
  {
   "cell_type": "markdown",
   "id": "4c9107ad",
   "metadata": {
    "papermill": {
     "duration": 0.028329,
     "end_time": "2021-08-13T09:58:14.588151",
     "exception": false,
     "start_time": "2021-08-13T09:58:14.559822",
     "status": "completed"
    },
    "tags": []
   },
   "source": [
    "For a hint or the solution, uncomment the appropriate line below."
   ]
  },
  {
   "cell_type": "code",
   "execution_count": 11,
   "id": "bc1defc1",
   "metadata": {
    "execution": {
     "iopub.execute_input": "2021-08-13T09:58:14.649093Z",
     "iopub.status.busy": "2021-08-13T09:58:14.648377Z",
     "iopub.status.idle": "2021-08-13T09:58:14.650987Z",
     "shell.execute_reply": "2021-08-13T09:58:14.650331Z",
     "shell.execute_reply.started": "2021-08-13T09:47:24.611621Z"
    },
    "papermill": {
     "duration": 0.034513,
     "end_time": "2021-08-13T09:58:14.651122",
     "exception": false,
     "start_time": "2021-08-13T09:58:14.616609",
     "status": "completed"
    },
    "tags": []
   },
   "outputs": [],
   "source": [
    "#q_4.hint()\n",
    "#q_4.solution()"
   ]
  },
  {
   "cell_type": "markdown",
   "id": "17b0e47f",
   "metadata": {
    "papermill": {
     "duration": 0.028218,
     "end_time": "2021-08-13T09:58:14.707980",
     "exception": false,
     "start_time": "2021-08-13T09:58:14.679762",
     "status": "completed"
    },
    "tags": []
   },
   "source": [
    "### 5) Answer the question\n",
    "You have the merge you need. But you want a list of users who have answered many questions... which requires more work beyond your previous result.\n",
    "\n",
    "Write a new query that has a single row for each user who answered at least one question with a tag that includes the string \"bigquery\". Your results should have two columns:\n",
    "- `user_id` - contains the `owner_user_id` column from the `posts_answers` table\n",
    "- `number_of_answers` - contains the number of answers the user has written to \"bigquery\"-related questions"
   ]
  },
  {
   "cell_type": "code",
   "execution_count": 12,
   "id": "693109f5",
   "metadata": {
    "execution": {
     "iopub.execute_input": "2021-08-13T09:58:14.773367Z",
     "iopub.status.busy": "2021-08-13T09:58:14.772688Z",
     "iopub.status.idle": "2021-08-13T09:58:16.208225Z",
     "shell.execute_reply": "2021-08-13T09:58:16.208712Z",
     "shell.execute_reply.started": "2021-08-13T09:56:49.946651Z"
    },
    "papermill": {
     "duration": 1.472373,
     "end_time": "2021-08-13T09:58:16.208895",
     "exception": false,
     "start_time": "2021-08-13T09:58:14.736522",
     "status": "completed"
    },
    "tags": []
   },
   "outputs": [
    {
     "name": "stderr",
     "output_type": "stream",
     "text": [
      "/opt/conda/lib/python3.7/site-packages/google/cloud/bigquery/client.py:440: UserWarning: Cannot create BigQuery Storage client, the dependency google-cloud-bigquery-storage is not installed.\n",
      "  \"Cannot create BigQuery Storage client, the dependency \"\n"
     ]
    },
    {
     "name": "stdout",
     "output_type": "stream",
     "text": [
      "     user_id  number_of_answers\n",
      "0  3351150.0                  1\n",
      "1  2070021.0                  1\n",
      "2    81491.0                  2\n",
      "3   600339.0                  1\n",
      "4  1973199.0                  3\n"
     ]
    },
    {
     "data": {
      "application/javascript": [
       "parent.postMessage({\"jupyterEvent\": \"custom.exercise_interaction\", \"data\": {\"outcomeType\": 1, \"valueTowardsCompletion\": 0.16666666666666666, \"interactionType\": 1, \"questionType\": 2, \"questionId\": \"5_BigQueryExperts\", \"learnToolsVersion\": \"0.3.4\", \"failureMessage\": \"\", \"exceptionClass\": \"\", \"trace\": \"\"}}, \"*\")"
      ],
      "text/plain": [
       "<IPython.core.display.Javascript object>"
      ]
     },
     "metadata": {},
     "output_type": "display_data"
    },
    {
     "data": {
      "text/markdown": [
       "<span style=\"color:#33cc33\">Correct</span>"
      ],
      "text/plain": [
       "Correct"
      ]
     },
     "metadata": {},
     "output_type": "display_data"
    }
   ],
   "source": [
    "# Your code here\n",
    "bigquery_experts_query = \"\"\"\n",
    "                         SELECT a.owner_user_id AS user_id, COUNT(1) AS number_of_answers\n",
    "                         \n",
    "                         FROM `bigquery-public-data.stackoverflow.posts_questions` AS q\n",
    "                         INNER JOIN `bigquery-public-data.stackoverflow.posts_answers` AS a\n",
    "                             ON q.id = a.parent_Id\n",
    "                             \n",
    "                         WHERE q.tags LIKE '%bigquery%'\n",
    "                         GROUP BY a.owner_user_id\n",
    "                         \"\"\"\n",
    "\n",
    "# Set up the query\n",
    "safe_config = bigquery.QueryJobConfig(maximum_bytes_billed=10**10)\n",
    "bigquery_experts_query_job = client.query(bigquery_experts_query, job_config=safe_config)\n",
    "\n",
    "# API request - run the query, and return a pandas DataFrame\n",
    "bigquery_experts_results = bigquery_experts_query_job.to_dataframe()\n",
    "\n",
    "# Preview results\n",
    "print(bigquery_experts_results.head())\n",
    "\n",
    "# Check your answer\n",
    "q_5.check()"
   ]
  },
  {
   "cell_type": "markdown",
   "id": "a8e2da32",
   "metadata": {
    "papermill": {
     "duration": 0.030007,
     "end_time": "2021-08-13T09:58:16.270023",
     "exception": false,
     "start_time": "2021-08-13T09:58:16.240016",
     "status": "completed"
    },
    "tags": []
   },
   "source": [
    "For a hint or the solution, uncomment the appropriate line below."
   ]
  },
  {
   "cell_type": "code",
   "execution_count": 13,
   "id": "42eb5977",
   "metadata": {
    "execution": {
     "iopub.execute_input": "2021-08-13T09:58:16.335629Z",
     "iopub.status.busy": "2021-08-13T09:58:16.334662Z",
     "iopub.status.idle": "2021-08-13T09:58:16.337476Z",
     "shell.execute_reply": "2021-08-13T09:58:16.337947Z",
     "shell.execute_reply.started": "2021-08-13T09:55:55.757608Z"
    },
    "papermill": {
     "duration": 0.037645,
     "end_time": "2021-08-13T09:58:16.338154",
     "exception": false,
     "start_time": "2021-08-13T09:58:16.300509",
     "status": "completed"
    },
    "tags": []
   },
   "outputs": [],
   "source": [
    "#q_5.hint()\n",
    "#q_5.solution()"
   ]
  },
  {
   "cell_type": "markdown",
   "id": "3e336fb3",
   "metadata": {
    "papermill": {
     "duration": 0.041594,
     "end_time": "2021-08-13T09:58:16.418068",
     "exception": false,
     "start_time": "2021-08-13T09:58:16.376474",
     "status": "completed"
    },
    "tags": []
   },
   "source": [
    "### 6) Building a more generally useful service\n",
    "\n",
    "How could you convert what you've done to a general function a website could call on the backend to get experts on any topic?  \n",
    "\n",
    "Think about it and then check the solution below."
   ]
  },
  {
   "cell_type": "code",
   "execution_count": 14,
   "id": "9faca9dd",
   "metadata": {
    "execution": {
     "iopub.execute_input": "2021-08-13T09:58:16.494843Z",
     "iopub.status.busy": "2021-08-13T09:58:16.493841Z",
     "iopub.status.idle": "2021-08-13T09:58:16.499391Z",
     "shell.execute_reply": "2021-08-13T09:58:16.498864Z",
     "shell.execute_reply.started": "2021-08-13T09:56:58.689900Z"
    },
    "papermill": {
     "duration": 0.041406,
     "end_time": "2021-08-13T09:58:16.499589",
     "exception": false,
     "start_time": "2021-08-13T09:58:16.458183",
     "status": "completed"
    },
    "tags": []
   },
   "outputs": [
    {
     "data": {
      "application/javascript": [
       "parent.postMessage({\"jupyterEvent\": \"custom.exercise_interaction\", \"data\": {\"interactionType\": 3, \"questionType\": 4, \"questionId\": \"6_GeneralizeExpertFinder\", \"learnToolsVersion\": \"0.3.4\", \"valueTowardsCompletion\": 0.0, \"failureMessage\": \"\", \"exceptionClass\": \"\", \"trace\": \"\", \"outcomeType\": 4}}, \"*\")"
      ],
      "text/plain": [
       "<IPython.core.display.Javascript object>"
      ]
     },
     "metadata": {},
     "output_type": "display_data"
    },
    {
     "data": {
      "text/markdown": [
       "<span style=\"color:#33cc99\">Solution:</span> \n",
       "```python\n",
       "\n",
       "def expert_finder(topic, client):\n",
       "    '''\n",
       "    Returns a DataFrame with the user IDs who have written Stack Overflow answers on a topic.\n",
       "\n",
       "    Inputs:\n",
       "        topic: A string with the topic of interest\n",
       "        client: A Client object that specifies the connection to the Stack Overflow dataset\n",
       "\n",
       "    Outputs:\n",
       "        results: A DataFrame with columns for user_id and number_of_answers. Follows similar logic to bigquery_experts_results shown above.\n",
       "    '''\n",
       "    my_query = \"\"\"\n",
       "               SELECT a.owner_user_id AS user_id, COUNT(1) AS number_of_answers\n",
       "               FROM `bigquery-public-data.stackoverflow.posts_questions` AS q\n",
       "               INNER JOIN `bigquery-public-data.stackoverflow.posts_answers` AS a\n",
       "                   ON q.id = a.parent_Id\n",
       "               WHERE q.tags like '%{topic}%'\n",
       "               GROUP BY a.owner_user_id\n",
       "               \"\"\"\n",
       "               \n",
       "    # Set up the query (a real service would have good error handling for \n",
       "    # queries that scan too much data)\n",
       "    safe_config = bigquery.QueryJobConfig(maximum_bytes_billed=10**10)      \n",
       "    my_query_job = client.query(my_query, job_config=safe_config)\n",
       "    \n",
       "    # API request - run the query, and return a pandas DataFrame\n",
       "    results = my_query_job.to_dataframe()\n",
       "\n",
       "    return results\n",
       "\n",
       "```"
      ],
      "text/plain": [
       "Solution: \n",
       "```python\n",
       "\n",
       "def expert_finder(topic, client):\n",
       "    '''\n",
       "    Returns a DataFrame with the user IDs who have written Stack Overflow answers on a topic.\n",
       "\n",
       "    Inputs:\n",
       "        topic: A string with the topic of interest\n",
       "        client: A Client object that specifies the connection to the Stack Overflow dataset\n",
       "\n",
       "    Outputs:\n",
       "        results: A DataFrame with columns for user_id and number_of_answers. Follows similar logic to bigquery_experts_results shown above.\n",
       "    '''\n",
       "    my_query = \"\"\"\n",
       "               SELECT a.owner_user_id AS user_id, COUNT(1) AS number_of_answers\n",
       "               FROM `bigquery-public-data.stackoverflow.posts_questions` AS q\n",
       "               INNER JOIN `bigquery-public-data.stackoverflow.posts_answers` AS a\n",
       "                   ON q.id = a.parent_Id\n",
       "               WHERE q.tags like '%{topic}%'\n",
       "               GROUP BY a.owner_user_id\n",
       "               \"\"\"\n",
       "               \n",
       "    # Set up the query (a real service would have good error handling for \n",
       "    # queries that scan too much data)\n",
       "    safe_config = bigquery.QueryJobConfig(maximum_bytes_billed=10**10)      \n",
       "    my_query_job = client.query(my_query, job_config=safe_config)\n",
       "    \n",
       "    # API request - run the query, and return a pandas DataFrame\n",
       "    results = my_query_job.to_dataframe()\n",
       "\n",
       "    return results\n",
       "\n",
       "```"
      ]
     },
     "metadata": {},
     "output_type": "display_data"
    }
   ],
   "source": [
    "# Check your answer (Run this code cell to receive credit!)\n",
    "q_6.solution()"
   ]
  },
  {
   "cell_type": "markdown",
   "id": "7646ff34",
   "metadata": {
    "papermill": {
     "duration": 0.031134,
     "end_time": "2021-08-13T09:58:16.563043",
     "exception": false,
     "start_time": "2021-08-13T09:58:16.531909",
     "status": "completed"
    },
    "tags": []
   },
   "source": [
    "# Congratulations!\n",
    "\n",
    "You know all the key components to use BigQuery and SQL effectively. Your SQL skills are sufficient to unlock many of the world's largest datasets.\n",
    "\n",
    "Want to go play with your new powers?  Kaggle has BigQuery datasets available [here](https://www.kaggle.com/datasets?fileType=bigQuery)."
   ]
  },
  {
   "cell_type": "markdown",
   "id": "cb50d94c",
   "metadata": {
    "papermill": {
     "duration": 0.030979,
     "end_time": "2021-08-13T09:58:16.625568",
     "exception": false,
     "start_time": "2021-08-13T09:58:16.594589",
     "status": "completed"
    },
    "tags": []
   },
   "source": [
    "---\n",
    "\n",
    "\n",
    "\n",
    "\n",
    "*Have questions or comments? Visit the [Learn Discussion forum](https://www.kaggle.com/learn-forum/161314) to chat with other Learners.*"
   ]
  }
 ],
 "metadata": {
  "kernelspec": {
   "display_name": "Python 3",
   "language": "python",
   "name": "python3"
  },
  "language_info": {
   "codemirror_mode": {
    "name": "ipython",
    "version": 3
   },
   "file_extension": ".py",
   "mimetype": "text/x-python",
   "name": "python",
   "nbconvert_exporter": "python",
   "pygments_lexer": "ipython3",
   "version": "3.7.10"
  },
  "papermill": {
   "default_parameters": {},
   "duration": 44.800699,
   "end_time": "2021-08-13T09:58:18.225565",
   "environment_variables": {},
   "exception": null,
   "input_path": "__notebook__.ipynb",
   "output_path": "__notebook__.ipynb",
   "parameters": {},
   "start_time": "2021-08-13T09:57:33.424866",
   "version": "2.3.3"
  }
 },
 "nbformat": 4,
 "nbformat_minor": 5
}
