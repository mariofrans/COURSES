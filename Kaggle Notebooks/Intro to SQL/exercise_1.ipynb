{
 "cells": [
  {
   "cell_type": "markdown",
   "id": "6de7e88e",
   "metadata": {
    "papermill": {
     "duration": 0.017235,
     "end_time": "2021-08-13T08:03:11.611678",
     "exception": false,
     "start_time": "2021-08-13T08:03:11.594443",
     "status": "completed"
    },
    "tags": []
   },
   "source": [
    "**This notebook is an exercise in the [SQL](https://www.kaggle.com/learn/intro-to-sql) course.  You can reference the tutorial at [this link](https://www.kaggle.com/dansbecker/getting-started-with-sql-and-bigquery).**\n",
    "\n",
    "---\n"
   ]
  },
  {
   "cell_type": "markdown",
   "id": "552ce93a",
   "metadata": {
    "papermill": {
     "duration": 0.018787,
     "end_time": "2021-08-13T08:03:11.649215",
     "exception": false,
     "start_time": "2021-08-13T08:03:11.630428",
     "status": "completed"
    },
    "tags": []
   },
   "source": [
    "# Introduction\n",
    "\n",
    "The first test of your new data exploration skills uses data describing crime in the city of Chicago.\n",
    "\n",
    "Before you get started, run the following cell. It sets up the automated feedback system to review your answers."
   ]
  },
  {
   "cell_type": "code",
   "execution_count": 1,
   "id": "6892e32f",
   "metadata": {
    "execution": {
     "iopub.execute_input": "2021-08-13T08:03:11.716106Z",
     "iopub.status.busy": "2021-08-13T08:03:11.710684Z",
     "iopub.status.idle": "2021-08-13T08:03:13.582138Z",
     "shell.execute_reply": "2021-08-13T08:03:13.581422Z",
     "shell.execute_reply.started": "2021-08-13T07:31:36.5366Z"
    },
    "papermill": {
     "duration": 1.912946,
     "end_time": "2021-08-13T08:03:13.582328",
     "exception": false,
     "start_time": "2021-08-13T08:03:11.669382",
     "status": "completed"
    },
    "tags": []
   },
   "outputs": [
    {
     "name": "stdout",
     "output_type": "stream",
     "text": [
      "Using Kaggle's public dataset BigQuery integration.\n",
      "Setup Complete\n"
     ]
    }
   ],
   "source": [
    "# Set up feedack system\n",
    "from learntools.core import binder\n",
    "binder.bind(globals())\n",
    "from learntools.sql.ex1 import *\n",
    "print(\"Setup Complete\")"
   ]
  },
  {
   "cell_type": "markdown",
   "id": "51c1cfc6",
   "metadata": {
    "papermill": {
     "duration": 0.016814,
     "end_time": "2021-08-13T08:03:13.615720",
     "exception": false,
     "start_time": "2021-08-13T08:03:13.598906",
     "status": "completed"
    },
    "tags": []
   },
   "source": [
    "Use the next code cell to fetch the dataset."
   ]
  },
  {
   "cell_type": "code",
   "execution_count": 2,
   "id": "5651c312",
   "metadata": {
    "execution": {
     "iopub.execute_input": "2021-08-13T08:03:13.658515Z",
     "iopub.status.busy": "2021-08-13T08:03:13.657760Z",
     "iopub.status.idle": "2021-08-13T08:03:14.033710Z",
     "shell.execute_reply": "2021-08-13T08:03:14.033038Z",
     "shell.execute_reply.started": "2021-08-13T07:32:05.897376Z"
    },
    "papermill": {
     "duration": 0.40081,
     "end_time": "2021-08-13T08:03:14.033855",
     "exception": false,
     "start_time": "2021-08-13T08:03:13.633045",
     "status": "completed"
    },
    "tags": []
   },
   "outputs": [
    {
     "name": "stdout",
     "output_type": "stream",
     "text": [
      "Using Kaggle's public dataset BigQuery integration.\n"
     ]
    }
   ],
   "source": [
    "from google.cloud import bigquery\n",
    "\n",
    "# Create a \"Client\" object\n",
    "client = bigquery.Client()\n",
    "\n",
    "# Construct a reference to the \"chicago_crime\" dataset\n",
    "dataset_ref = client.dataset(\"chicago_crime\", project=\"bigquery-public-data\")\n",
    "\n",
    "# API request - fetch the dataset\n",
    "dataset = client.get_dataset(dataset_ref)"
   ]
  },
  {
   "cell_type": "markdown",
   "id": "f96f769a",
   "metadata": {
    "papermill": {
     "duration": 0.01663,
     "end_time": "2021-08-13T08:03:14.067325",
     "exception": false,
     "start_time": "2021-08-13T08:03:14.050695",
     "status": "completed"
    },
    "tags": []
   },
   "source": [
    "# Exercises\n",
    "\n",
    "### 1) Count tables in the dataset\n",
    "\n",
    "How many tables are in the Chicago Crime dataset?"
   ]
  },
  {
   "cell_type": "code",
   "execution_count": 3,
   "id": "3c739363",
   "metadata": {
    "execution": {
     "iopub.execute_input": "2021-08-13T08:03:14.105876Z",
     "iopub.status.busy": "2021-08-13T08:03:14.105040Z",
     "iopub.status.idle": "2021-08-13T08:03:14.108109Z",
     "shell.execute_reply": "2021-08-13T08:03:14.107584Z"
    },
    "papermill": {
     "duration": 0.024254,
     "end_time": "2021-08-13T08:03:14.108268",
     "exception": false,
     "start_time": "2021-08-13T08:03:14.084014",
     "status": "completed"
    },
    "tags": []
   },
   "outputs": [],
   "source": [
    "# Write the code you need here to figure out the answer"
   ]
  },
  {
   "cell_type": "code",
   "execution_count": 4,
   "id": "d9aa47d0",
   "metadata": {
    "execution": {
     "iopub.execute_input": "2021-08-13T08:03:14.150625Z",
     "iopub.status.busy": "2021-08-13T08:03:14.149899Z",
     "iopub.status.idle": "2021-08-13T08:03:14.913512Z",
     "shell.execute_reply": "2021-08-13T08:03:14.912723Z",
     "shell.execute_reply.started": "2021-08-13T07:34:25.210462Z"
    },
    "papermill": {
     "duration": 0.787744,
     "end_time": "2021-08-13T08:03:14.913678",
     "exception": false,
     "start_time": "2021-08-13T08:03:14.125934",
     "status": "completed"
    },
    "tags": []
   },
   "outputs": [
    {
     "data": {
      "application/javascript": [
       "parent.postMessage({\"jupyterEvent\": \"custom.exercise_interaction\", \"data\": {\"outcomeType\": 1, \"valueTowardsCompletion\": 0.3333333333333333, \"interactionType\": 1, \"questionType\": 1, \"questionId\": \"1_CountTables\", \"learnToolsVersion\": \"0.3.4\", \"failureMessage\": \"\", \"exceptionClass\": \"\", \"trace\": \"\"}}, \"*\")"
      ],
      "text/plain": [
       "<IPython.core.display.Javascript object>"
      ]
     },
     "metadata": {},
     "output_type": "display_data"
    },
    {
     "data": {
      "text/markdown": [
       "<span style=\"color:#33cc33\">Correct</span>"
      ],
      "text/plain": [
       "Correct"
      ]
     },
     "metadata": {},
     "output_type": "display_data"
    }
   ],
   "source": [
    "num_tables = len(list(client.list_tables(dataset)))  # Store the answer as num_tables and then run this cell\n",
    "\n",
    "# Check your answer\n",
    "q_1.check()"
   ]
  },
  {
   "cell_type": "markdown",
   "id": "37f171b3",
   "metadata": {
    "papermill": {
     "duration": 0.018464,
     "end_time": "2021-08-13T08:03:14.950773",
     "exception": false,
     "start_time": "2021-08-13T08:03:14.932309",
     "status": "completed"
    },
    "tags": []
   },
   "source": [
    "For a hint or the solution, uncomment the appropriate line below."
   ]
  },
  {
   "cell_type": "code",
   "execution_count": 5,
   "id": "51a9a6d9",
   "metadata": {
    "execution": {
     "iopub.execute_input": "2021-08-13T08:03:14.992577Z",
     "iopub.status.busy": "2021-08-13T08:03:14.991907Z",
     "iopub.status.idle": "2021-08-13T08:03:14.995667Z",
     "shell.execute_reply": "2021-08-13T08:03:14.996294Z"
    },
    "papermill": {
     "duration": 0.025819,
     "end_time": "2021-08-13T08:03:14.996470",
     "exception": false,
     "start_time": "2021-08-13T08:03:14.970651",
     "status": "completed"
    },
    "tags": []
   },
   "outputs": [],
   "source": [
    "#q_1.hint()\n",
    "#q_1.solution()"
   ]
  },
  {
   "cell_type": "markdown",
   "id": "ebea7500",
   "metadata": {
    "papermill": {
     "duration": 0.018584,
     "end_time": "2021-08-13T08:03:15.033305",
     "exception": false,
     "start_time": "2021-08-13T08:03:15.014721",
     "status": "completed"
    },
    "tags": []
   },
   "source": [
    "### 2) Explore the table schema\n",
    "\n",
    "How many columns in the `crime` table have `TIMESTAMP` data?"
   ]
  },
  {
   "cell_type": "code",
   "execution_count": 6,
   "id": "674fec60",
   "metadata": {
    "execution": {
     "iopub.execute_input": "2021-08-13T08:03:15.073176Z",
     "iopub.status.busy": "2021-08-13T08:03:15.072495Z",
     "iopub.status.idle": "2021-08-13T08:03:15.076138Z",
     "shell.execute_reply": "2021-08-13T08:03:15.076664Z"
    },
    "papermill": {
     "duration": 0.025259,
     "end_time": "2021-08-13T08:03:15.076838",
     "exception": false,
     "start_time": "2021-08-13T08:03:15.051579",
     "status": "completed"
    },
    "tags": []
   },
   "outputs": [],
   "source": [
    "# Write the code to figure out the answer"
   ]
  },
  {
   "cell_type": "code",
   "execution_count": 7,
   "id": "66c342c0",
   "metadata": {
    "execution": {
     "iopub.execute_input": "2021-08-13T08:03:15.117125Z",
     "iopub.status.busy": "2021-08-13T08:03:15.116376Z",
     "iopub.status.idle": "2021-08-13T08:03:15.448468Z",
     "shell.execute_reply": "2021-08-13T08:03:15.447850Z",
     "shell.execute_reply.started": "2021-08-13T07:50:09.560731Z"
    },
    "papermill": {
     "duration": 0.353633,
     "end_time": "2021-08-13T08:03:15.448647",
     "exception": false,
     "start_time": "2021-08-13T08:03:15.095014",
     "status": "completed"
    },
    "tags": []
   },
   "outputs": [
    {
     "name": "stdout",
     "output_type": "stream",
     "text": [
      "[SchemaField('unique_key', 'INTEGER', 'REQUIRED', 'Unique identifier for the record.', (), None), SchemaField('case_number', 'STRING', 'NULLABLE', 'The Chicago Police Department RD Number (Records Division Number), which is unique to the incident.', (), None), SchemaField('date', 'TIMESTAMP', 'NULLABLE', 'Date when the incident occurred. this is sometimes a best estimate.', (), None), SchemaField('block', 'STRING', 'NULLABLE', 'The partially redacted address where the incident occurred, placing it on the same block as the actual address.', (), None), SchemaField('iucr', 'STRING', 'NULLABLE', 'The Illinois Unifrom Crime Reporting code. This is directly linked to the Primary Type and Description. See the list of IUCR codes at https://data.cityofchicago.org/d/c7ck-438e.', (), None), SchemaField('primary_type', 'STRING', 'NULLABLE', 'The primary description of the IUCR code.', (), None), SchemaField('description', 'STRING', 'NULLABLE', 'The secondary description of the IUCR code, a subcategory of the primary description.', (), None), SchemaField('location_description', 'STRING', 'NULLABLE', 'Description of the location where the incident occurred.', (), None), SchemaField('arrest', 'BOOLEAN', 'NULLABLE', 'Indicates whether an arrest was made.', (), None), SchemaField('domestic', 'BOOLEAN', 'NULLABLE', 'Indicates whether the incident was domestic-related as defined by the Illinois Domestic Violence Act.', (), None), SchemaField('beat', 'INTEGER', 'NULLABLE', 'Indicates the beat where the incident occurred. A beat is the smallest police geographic area – each beat has a dedicated police beat car. Three to five beats make up a police sector, and three sectors make up a police district. The Chicago Police Department has 22 police districts. See the beats at https://data.cityofchicago.org/d/aerh-rz74.', (), None), SchemaField('district', 'INTEGER', 'NULLABLE', 'Indicates the police district where the incident occurred. See the districts at https://data.cityofchicago.org/d/fthy-xz3r.', (), None), SchemaField('ward', 'INTEGER', 'NULLABLE', 'The ward (City Council district) where the incident occurred. See the wards at https://data.cityofchicago.org/d/sp34-6z76.', (), None), SchemaField('community_area', 'INTEGER', 'NULLABLE', 'Indicates the community area where the incident occurred. Chicago has 77 community areas. See the community areas at https://data.cityofchicago.org/d/cauq-8yn6.', (), None), SchemaField('fbi_code', 'STRING', 'NULLABLE', \"Indicates the crime classification as outlined in the FBI's National Incident-Based Reporting System (NIBRS). See the Chicago Police Department listing of these classifications at http://gis.chicagopolice.org/clearmap_crime_sums/crime_types.html.\", (), None), SchemaField('x_coordinate', 'FLOAT', 'NULLABLE', 'The x coordinate of the location where the incident occurred in State Plane Illinois East NAD 1983 projection. This location is shifted from the actual location for partial redaction but falls on the same block.', (), None), SchemaField('y_coordinate', 'FLOAT', 'NULLABLE', 'The y coordinate of the location where the incident occurred in State Plane Illinois East NAD 1983 projection. This location is shifted from the actual location for partial redaction but falls on the same block.', (), None), SchemaField('year', 'INTEGER', 'NULLABLE', 'Year the incident occurred.', (), None), SchemaField('updated_on', 'TIMESTAMP', 'NULLABLE', 'Date and time the record was last updated.', (), None), SchemaField('latitude', 'FLOAT', 'NULLABLE', 'The latitude of the location where the incident occurred. This location is shifted from the actual location for partial redaction but falls on the same block.', (), None), SchemaField('longitude', 'FLOAT', 'NULLABLE', 'The longitude of the location where the incident occurred. This location is shifted from the actual location for partial redaction but falls on the same block.', (), None), SchemaField('location', 'STRING', 'NULLABLE', 'The location where the incident occurred in a format that allows for creation of maps and other geographic operations on this data portal. This location is shifted from the actual location for partial redaction but falls on the same block.', (), None)]\n"
     ]
    },
    {
     "data": {
      "application/javascript": [
       "parent.postMessage({\"jupyterEvent\": \"custom.exercise_interaction\", \"data\": {\"outcomeType\": 1, \"valueTowardsCompletion\": 0.3333333333333333, \"interactionType\": 1, \"questionType\": 1, \"questionId\": \"2_CountTimestampFields\", \"learnToolsVersion\": \"0.3.4\", \"failureMessage\": \"\", \"exceptionClass\": \"\", \"trace\": \"\"}}, \"*\")"
      ],
      "text/plain": [
       "<IPython.core.display.Javascript object>"
      ]
     },
     "metadata": {},
     "output_type": "display_data"
    },
    {
     "data": {
      "text/markdown": [
       "<span style=\"color:#33cc33\">Correct</span>"
      ],
      "text/plain": [
       "Correct"
      ]
     },
     "metadata": {},
     "output_type": "display_data"
    }
   ],
   "source": [
    "# Construct a reference to the \"crime\" table\n",
    "table_ref = dataset_ref.table(\"crime\")\n",
    "\n",
    "# API request - fetch the table\n",
    "table = client.get_table(table_ref)\n",
    "\n",
    "# Print information on all the columns in the \"crime\" table in the \"chicago_crime\" dataset\n",
    "print(table.schema)\n",
    "\n",
    "num_timestamp_fields = 2\n",
    "\n",
    "# Check your answer\n",
    "q_2.check()"
   ]
  },
  {
   "cell_type": "markdown",
   "id": "8c30e82c",
   "metadata": {
    "papermill": {
     "duration": 0.019728,
     "end_time": "2021-08-13T08:03:15.488135",
     "exception": false,
     "start_time": "2021-08-13T08:03:15.468407",
     "status": "completed"
    },
    "tags": []
   },
   "source": [
    "For a hint or the solution, uncomment the appropriate line below."
   ]
  },
  {
   "cell_type": "code",
   "execution_count": 8,
   "id": "3c1b52e0",
   "metadata": {
    "execution": {
     "iopub.execute_input": "2021-08-13T08:03:15.532066Z",
     "iopub.status.busy": "2021-08-13T08:03:15.531312Z",
     "iopub.status.idle": "2021-08-13T08:03:15.533545Z",
     "shell.execute_reply": "2021-08-13T08:03:15.534017Z",
     "shell.execute_reply.started": "2021-08-13T07:50:17.132327Z"
    },
    "papermill": {
     "duration": 0.025993,
     "end_time": "2021-08-13T08:03:15.534201",
     "exception": false,
     "start_time": "2021-08-13T08:03:15.508208",
     "status": "completed"
    },
    "tags": []
   },
   "outputs": [],
   "source": [
    "#q_2.hint()\n",
    "#q_2.solution()"
   ]
  },
  {
   "cell_type": "markdown",
   "id": "a67e0235",
   "metadata": {
    "papermill": {
     "duration": 0.020629,
     "end_time": "2021-08-13T08:03:15.575043",
     "exception": false,
     "start_time": "2021-08-13T08:03:15.554414",
     "status": "completed"
    },
    "tags": []
   },
   "source": [
    "### 3) Create a crime map\n",
    "\n",
    "If you wanted to create a map with a dot at the location of each crime, what are the names of the two fields you likely need to pull out of the `crime` table to plot the crimes on a map?"
   ]
  },
  {
   "cell_type": "code",
   "execution_count": 9,
   "id": "b3d3b8f7",
   "metadata": {
    "execution": {
     "iopub.execute_input": "2021-08-13T08:03:15.618536Z",
     "iopub.status.busy": "2021-08-13T08:03:15.617878Z",
     "iopub.status.idle": "2021-08-13T08:03:16.986226Z",
     "shell.execute_reply": "2021-08-13T08:03:16.986834Z",
     "shell.execute_reply.started": "2021-08-13T07:57:05.686877Z"
    },
    "papermill": {
     "duration": 1.392115,
     "end_time": "2021-08-13T08:03:16.987013",
     "exception": false,
     "start_time": "2021-08-13T08:03:15.594898",
     "status": "completed"
    },
    "tags": []
   },
   "outputs": [
    {
     "name": "stderr",
     "output_type": "stream",
     "text": [
      "/opt/conda/lib/python3.7/site-packages/ipykernel_launcher.py:2: UserWarning: Cannot use bqstorage_client if max_results is set, reverting to fetching data with the tabledata.list endpoint.\n",
      "  \n"
     ]
    },
    {
     "name": "stdout",
     "output_type": "stream",
     "text": [
      "   unique_key case_number                      date                 block  \\\n",
      "0    10241903    HY429918 2015-09-19 15:30:00+00:00      024XX W 103RD ST   \n",
      "1    10256524    HY444083 2015-09-30 10:55:00+00:00  054XX N OVERHILL AVE   \n",
      "2    10261893    HY449832 2015-10-05 00:55:00+00:00      110XX S AVENUE N   \n",
      "3    10262539    HY450313 2015-10-05 09:00:00+00:00     050XX N SAYRE AVE   \n",
      "4    10271838    HY459904 2015-10-13 06:06:00+00:00      110XX S AVENUE F   \n",
      "\n",
      "   iucr            primary_type               description  \\\n",
      "0  1121      DECEPTIVE PRACTICE   COUNTERFEITING DOCUMENT   \n",
      "1  2028               NARCOTICS     POSS: SYNTHETIC DRUGS   \n",
      "2  0470  PUBLIC PEACE VIOLATION          RECKLESS CONDUCT   \n",
      "3  0630                BURGLARY    ATTEMPT FORCIBLE ENTRY   \n",
      "4  502P           OTHER OFFENSE  FALSE/STOLEN/ALTERED TRP   \n",
      "\n",
      "  location_description  arrest  domestic  ...  ward  community_area  fbi_code  \\\n",
      "0    CONVENIENCE STORE   False     False  ...    19              72        10   \n",
      "1             SIDEWALK    True     False  ...    41              10        18   \n",
      "2               STREET    True     False  ...    10              52        24   \n",
      "3     RESIDENCE-GARAGE   False     False  ...    41              10        05   \n",
      "4               STREET   False     False  ...    10              52        26   \n",
      "\n",
      "   x_coordinate y_coordinate  year                updated_on   latitude  \\\n",
      "0     1161995.0    1836267.0  2015 2018-02-10 15:50:01+00:00  41.706377   \n",
      "1     1124004.0    1935080.0  2015 2018-02-10 15:50:01+00:00  41.978240   \n",
      "2     1201216.0    1832361.0  2015 2018-02-10 15:50:01+00:00  41.694755   \n",
      "3     1128939.0    1933053.0  2015 2018-02-10 15:50:01+00:00  41.972595   \n",
      "4     1203514.0    1832431.0  2015 2015-10-20 15:56:48+00:00  41.694888   \n",
      "\n",
      "   longitude                       location  \n",
      "0 -87.682394  (41.706376588, -87.682394407)  \n",
      "1 -87.819354  (41.978240459, -87.819353706)  \n",
      "2 -87.538903  (41.694754875, -87.538903034)  \n",
      "3 -87.801251  (41.972595476, -87.801251077)  \n",
      "4 -87.530487  (41.694888492, -87.530487212)  \n",
      "\n",
      "[5 rows x 22 columns]\n"
     ]
    }
   ],
   "source": [
    "# Write the code here to explore the data so you can find the answer\n",
    "df_table = client.list_rows(table, max_results=5).to_dataframe()\n",
    "print(df_table)"
   ]
  },
  {
   "cell_type": "code",
   "execution_count": 10,
   "id": "fd400e4b",
   "metadata": {
    "execution": {
     "iopub.execute_input": "2021-08-13T08:03:17.031031Z",
     "iopub.status.busy": "2021-08-13T08:03:17.030038Z",
     "iopub.status.idle": "2021-08-13T08:03:17.040113Z",
     "shell.execute_reply": "2021-08-13T08:03:17.039450Z",
     "shell.execute_reply.started": "2021-08-13T07:57:59.115046Z"
    },
    "papermill": {
     "duration": 0.033164,
     "end_time": "2021-08-13T08:03:17.040257",
     "exception": false,
     "start_time": "2021-08-13T08:03:17.007093",
     "status": "completed"
    },
    "tags": []
   },
   "outputs": [
    {
     "data": {
      "application/javascript": [
       "parent.postMessage({\"jupyterEvent\": \"custom.exercise_interaction\", \"data\": {\"outcomeType\": 1, \"valueTowardsCompletion\": 0.3333333333333333, \"interactionType\": 1, \"questionType\": 2, \"questionId\": \"3_IdentifyFieldsForPlotting\", \"learnToolsVersion\": \"0.3.4\", \"failureMessage\": \"\", \"exceptionClass\": \"\", \"trace\": \"\"}}, \"*\")"
      ],
      "text/plain": [
       "<IPython.core.display.Javascript object>"
      ]
     },
     "metadata": {},
     "output_type": "display_data"
    },
    {
     "data": {
      "text/markdown": [
       "<span style=\"color:#33cc33\">Correct</span>"
      ],
      "text/plain": [
       "Correct"
      ]
     },
     "metadata": {},
     "output_type": "display_data"
    }
   ],
   "source": [
    "fields_for_plotting = ['latitude', 'longitude'] # Put your answers here\n",
    "\n",
    "# Check your answer\n",
    "q_3.check()"
   ]
  },
  {
   "cell_type": "markdown",
   "id": "cb8a7602",
   "metadata": {
    "papermill": {
     "duration": 0.020846,
     "end_time": "2021-08-13T08:03:17.083192",
     "exception": false,
     "start_time": "2021-08-13T08:03:17.062346",
     "status": "completed"
    },
    "tags": []
   },
   "source": [
    "For a hint or the solution, uncomment the appropriate line below."
   ]
  },
  {
   "cell_type": "code",
   "execution_count": 11,
   "id": "5c01babc",
   "metadata": {
    "execution": {
     "iopub.execute_input": "2021-08-13T08:03:17.131923Z",
     "iopub.status.busy": "2021-08-13T08:03:17.130888Z",
     "iopub.status.idle": "2021-08-13T08:03:17.134615Z",
     "shell.execute_reply": "2021-08-13T08:03:17.134039Z",
     "shell.execute_reply.started": "2021-08-13T07:53:22.256458Z"
    },
    "papermill": {
     "duration": 0.029598,
     "end_time": "2021-08-13T08:03:17.134772",
     "exception": false,
     "start_time": "2021-08-13T08:03:17.105174",
     "status": "completed"
    },
    "tags": []
   },
   "outputs": [],
   "source": [
    "#q_3.hint()\n",
    "#q_3.solution()"
   ]
  },
  {
   "cell_type": "markdown",
   "id": "7230ce2f",
   "metadata": {
    "papermill": {
     "duration": 0.020914,
     "end_time": "2021-08-13T08:03:17.177632",
     "exception": false,
     "start_time": "2021-08-13T08:03:17.156718",
     "status": "completed"
    },
    "tags": []
   },
   "source": [
    "Thinking about the question above, there are a few columns that appear to have geographic data. Look at a few values (with the `list_rows()` command) to see if you can determine their relationship.  Two columns will still be hard to interpret. But it should be obvious how the `location` column relates to `latitude` and `longitude`."
   ]
  },
  {
   "cell_type": "code",
   "execution_count": 12,
   "id": "ff971712",
   "metadata": {
    "execution": {
     "iopub.execute_input": "2021-08-13T08:03:17.227123Z",
     "iopub.status.busy": "2021-08-13T08:03:17.226091Z",
     "iopub.status.idle": "2021-08-13T08:03:17.229159Z",
     "shell.execute_reply": "2021-08-13T08:03:17.229663Z"
    },
    "papermill": {
     "duration": 0.030349,
     "end_time": "2021-08-13T08:03:17.229883",
     "exception": false,
     "start_time": "2021-08-13T08:03:17.199534",
     "status": "completed"
    },
    "tags": []
   },
   "outputs": [],
   "source": [
    "# Scratch space for your code"
   ]
  },
  {
   "cell_type": "markdown",
   "id": "2b5c17f5",
   "metadata": {
    "papermill": {
     "duration": 0.024138,
     "end_time": "2021-08-13T08:03:17.277708",
     "exception": false,
     "start_time": "2021-08-13T08:03:17.253570",
     "status": "completed"
    },
    "tags": []
   },
   "source": [
    "# Keep going\n",
    "\n",
    "You've looked at the schema, but you haven't yet done anything exciting with the data itself. Things get more interesting when you get to the data, so keep going to **[write your first SQL query](https://www.kaggle.com/dansbecker/select-from-where).**"
   ]
  },
  {
   "cell_type": "markdown",
   "id": "1b064b8e",
   "metadata": {
    "papermill": {
     "duration": 0.021134,
     "end_time": "2021-08-13T08:03:17.322640",
     "exception": false,
     "start_time": "2021-08-13T08:03:17.301506",
     "status": "completed"
    },
    "tags": []
   },
   "source": [
    "---\n",
    "\n",
    "\n",
    "\n",
    "\n",
    "*Have questions or comments? Visit the [Learn Discussion forum](https://www.kaggle.com/learn-forum/161314) to chat with other Learners.*"
   ]
  }
 ],
 "metadata": {
  "kernelspec": {
   "display_name": "Python 3",
   "language": "python",
   "name": "python3"
  },
  "language_info": {
   "codemirror_mode": {
    "name": "ipython",
    "version": 3
   },
   "file_extension": ".py",
   "mimetype": "text/x-python",
   "name": "python",
   "nbconvert_exporter": "python",
   "pygments_lexer": "ipython3",
   "version": "3.7.10"
  },
  "papermill": {
   "default_parameters": {},
   "duration": 15.67649,
   "end_time": "2021-08-13T08:03:18.055145",
   "environment_variables": {},
   "exception": null,
   "input_path": "__notebook__.ipynb",
   "output_path": "__notebook__.ipynb",
   "parameters": {},
   "start_time": "2021-08-13T08:03:02.378655",
   "version": "2.3.3"
  }
 },
 "nbformat": 4,
 "nbformat_minor": 5
}
