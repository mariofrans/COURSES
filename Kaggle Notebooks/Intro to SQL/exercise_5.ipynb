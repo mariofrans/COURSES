{
 "cells": [
  {
   "cell_type": "markdown",
   "id": "f8b0ac01",
   "metadata": {
    "papermill": {
     "duration": 0.02006,
     "end_time": "2021-08-13T09:24:15.733268",
     "exception": false,
     "start_time": "2021-08-13T09:24:15.713208",
     "status": "completed"
    },
    "tags": []
   },
   "source": [
    "**This notebook is an exercise in the [SQL](https://www.kaggle.com/learn/intro-to-sql) course.  You can reference the tutorial at [this link](https://www.kaggle.com/dansbecker/as-with).**\n",
    "\n",
    "---\n"
   ]
  },
  {
   "cell_type": "markdown",
   "id": "d47a14d2",
   "metadata": {
    "papermill": {
     "duration": 0.019281,
     "end_time": "2021-08-13T09:24:15.773044",
     "exception": false,
     "start_time": "2021-08-13T09:24:15.753763",
     "status": "completed"
    },
    "tags": []
   },
   "source": [
    "# Introduction\n",
    "\n",
    "You are getting to the point where you can own an analysis from beginning to end. So you'll do more data exploration in this exercise than you've done before.  Before you get started, run the following set-up code as usual. "
   ]
  },
  {
   "cell_type": "code",
   "execution_count": 1,
   "id": "9ef68a87",
   "metadata": {
    "execution": {
     "iopub.execute_input": "2021-08-13T09:24:15.824189Z",
     "iopub.status.busy": "2021-08-13T09:24:15.823454Z",
     "iopub.status.idle": "2021-08-13T09:24:18.933290Z",
     "shell.execute_reply": "2021-08-13T09:24:18.932583Z",
     "shell.execute_reply.started": "2021-08-13T09:04:35.100362Z"
    },
    "papermill": {
     "duration": 3.14151,
     "end_time": "2021-08-13T09:24:18.933465",
     "exception": false,
     "start_time": "2021-08-13T09:24:15.791955",
     "status": "completed"
    },
    "tags": []
   },
   "outputs": [
    {
     "name": "stdout",
     "output_type": "stream",
     "text": [
      "Using Kaggle's public dataset BigQuery integration.\n"
     ]
    },
    {
     "name": "stderr",
     "output_type": "stream",
     "text": [
      "/opt/conda/lib/python3.7/site-packages/google/cloud/bigquery/client.py:440: UserWarning: Cannot create BigQuery Storage client, the dependency google-cloud-bigquery-storage is not installed.\n",
      "  \"Cannot create BigQuery Storage client, the dependency \"\n"
     ]
    },
    {
     "name": "stdout",
     "output_type": "stream",
     "text": [
      "Setup Complete\n"
     ]
    }
   ],
   "source": [
    "# Set up feedback system\n",
    "from learntools.core import binder\n",
    "binder.bind(globals())\n",
    "from learntools.sql.ex5 import *\n",
    "print(\"Setup Complete\")"
   ]
  },
  {
   "cell_type": "markdown",
   "id": "536e8ce1",
   "metadata": {
    "papermill": {
     "duration": 0.019774,
     "end_time": "2021-08-13T09:24:18.973710",
     "exception": false,
     "start_time": "2021-08-13T09:24:18.953936",
     "status": "completed"
    },
    "tags": []
   },
   "source": [
    "You'll work with a dataset about taxi trips in the city of Chicago. Run the cell below to fetch the `chicago_taxi_trips` dataset."
   ]
  },
  {
   "cell_type": "code",
   "execution_count": 2,
   "id": "84a6cc6c",
   "metadata": {
    "execution": {
     "iopub.execute_input": "2021-08-13T09:24:19.017127Z",
     "iopub.status.busy": "2021-08-13T09:24:19.016496Z",
     "iopub.status.idle": "2021-08-13T09:24:19.273779Z",
     "shell.execute_reply": "2021-08-13T09:24:19.273217Z",
     "shell.execute_reply.started": "2021-08-13T09:04:37.520364Z"
    },
    "papermill": {
     "duration": 0.280106,
     "end_time": "2021-08-13T09:24:19.273926",
     "exception": false,
     "start_time": "2021-08-13T09:24:18.993820",
     "status": "completed"
    },
    "tags": []
   },
   "outputs": [
    {
     "name": "stdout",
     "output_type": "stream",
     "text": [
      "Using Kaggle's public dataset BigQuery integration.\n"
     ]
    }
   ],
   "source": [
    "from google.cloud import bigquery\n",
    "\n",
    "# Create a \"Client\" object\n",
    "client = bigquery.Client()\n",
    "\n",
    "# Construct a reference to the \"chicago_taxi_trips\" dataset\n",
    "dataset_ref = client.dataset(\"chicago_taxi_trips\", project=\"bigquery-public-data\")\n",
    "\n",
    "# API request - fetch the dataset\n",
    "dataset = client.get_dataset(dataset_ref)"
   ]
  },
  {
   "cell_type": "markdown",
   "id": "73270e1a",
   "metadata": {
    "papermill": {
     "duration": 0.019792,
     "end_time": "2021-08-13T09:24:19.314164",
     "exception": false,
     "start_time": "2021-08-13T09:24:19.294372",
     "status": "completed"
    },
    "tags": []
   },
   "source": [
    "# Exercises\n",
    "\n",
    "You are curious how much slower traffic moves when traffic volume is high. This involves a few steps.\n",
    "\n",
    "### 1) Find the data\n",
    "Before you can access the data, you need to find the table name with the data.\n",
    "\n",
    "*Hint*: Tab completion is helpful whenever you can't remember a command. Type `client.` and then hit the tab key. Don't forget the period before hitting tab."
   ]
  },
  {
   "cell_type": "code",
   "execution_count": 3,
   "id": "b4e7e597",
   "metadata": {
    "execution": {
     "iopub.execute_input": "2021-08-13T09:24:19.360986Z",
     "iopub.status.busy": "2021-08-13T09:24:19.360341Z",
     "iopub.status.idle": "2021-08-13T09:24:19.577771Z",
     "shell.execute_reply": "2021-08-13T09:24:19.577110Z",
     "shell.execute_reply.started": "2021-08-13T09:07:28.732632Z"
    },
    "papermill": {
     "duration": 0.243619,
     "end_time": "2021-08-13T09:24:19.577925",
     "exception": false,
     "start_time": "2021-08-13T09:24:19.334306",
     "status": "completed"
    },
    "tags": []
   },
   "outputs": [
    {
     "name": "stdout",
     "output_type": "stream",
     "text": [
      "taxi_trips\n"
     ]
    }
   ],
   "source": [
    "# Your code here to find the table name\n",
    "# List all the tables in the dataset\n",
    "tables = list(client.list_tables(dataset))\n",
    "for table in tables: print(table.table_id)"
   ]
  },
  {
   "cell_type": "code",
   "execution_count": 4,
   "id": "a1588760",
   "metadata": {
    "execution": {
     "iopub.execute_input": "2021-08-13T09:24:19.626455Z",
     "iopub.status.busy": "2021-08-13T09:24:19.625483Z",
     "iopub.status.idle": "2021-08-13T09:24:19.630776Z",
     "shell.execute_reply": "2021-08-13T09:24:19.631247Z",
     "shell.execute_reply.started": "2021-08-13T09:07:42.476262Z"
    },
    "papermill": {
     "duration": 0.033302,
     "end_time": "2021-08-13T09:24:19.631517",
     "exception": false,
     "start_time": "2021-08-13T09:24:19.598215",
     "status": "completed"
    },
    "tags": []
   },
   "outputs": [
    {
     "data": {
      "application/javascript": [
       "parent.postMessage({\"jupyterEvent\": \"custom.exercise_interaction\", \"data\": {\"outcomeType\": 1, \"valueTowardsCompletion\": 0.16666666666666666, \"interactionType\": 1, \"questionType\": 1, \"questionId\": \"1_GetTableName\", \"learnToolsVersion\": \"0.3.4\", \"failureMessage\": \"\", \"exceptionClass\": \"\", \"trace\": \"\"}}, \"*\")"
      ],
      "text/plain": [
       "<IPython.core.display.Javascript object>"
      ]
     },
     "metadata": {},
     "output_type": "display_data"
    },
    {
     "data": {
      "text/markdown": [
       "<span style=\"color:#33cc33\">Correct</span>"
      ],
      "text/plain": [
       "Correct"
      ]
     },
     "metadata": {},
     "output_type": "display_data"
    }
   ],
   "source": [
    "# Write the table name as a string below\n",
    "table_name = 'taxi_trips'\n",
    "\n",
    "# Check your answer\n",
    "q_1.check()"
   ]
  },
  {
   "cell_type": "markdown",
   "id": "f79ff79d",
   "metadata": {
    "papermill": {
     "duration": 0.020797,
     "end_time": "2021-08-13T09:24:19.674311",
     "exception": false,
     "start_time": "2021-08-13T09:24:19.653514",
     "status": "completed"
    },
    "tags": []
   },
   "source": [
    "For the solution, uncomment the line below."
   ]
  },
  {
   "cell_type": "code",
   "execution_count": 5,
   "id": "88f5b41a",
   "metadata": {
    "execution": {
     "iopub.execute_input": "2021-08-13T09:24:19.720043Z",
     "iopub.status.busy": "2021-08-13T09:24:19.719351Z",
     "iopub.status.idle": "2021-08-13T09:24:19.722828Z",
     "shell.execute_reply": "2021-08-13T09:24:19.723294Z",
     "shell.execute_reply.started": "2021-08-13T09:07:39.221829Z"
    },
    "papermill": {
     "duration": 0.02786,
     "end_time": "2021-08-13T09:24:19.723486",
     "exception": false,
     "start_time": "2021-08-13T09:24:19.695626",
     "status": "completed"
    },
    "tags": []
   },
   "outputs": [],
   "source": [
    "#q_1.solution()"
   ]
  },
  {
   "cell_type": "markdown",
   "id": "ace14c20",
   "metadata": {
    "papermill": {
     "duration": 0.020971,
     "end_time": "2021-08-13T09:24:19.766007",
     "exception": false,
     "start_time": "2021-08-13T09:24:19.745036",
     "status": "completed"
    },
    "tags": []
   },
   "source": [
    "### 2) Peek at the data\n",
    "\n",
    "Use the next code cell to peek at the top few rows of the data. Inspect the data and see if any issues with data quality are immediately obvious. "
   ]
  },
  {
   "cell_type": "code",
   "execution_count": 6,
   "id": "93374b1b",
   "metadata": {
    "execution": {
     "iopub.execute_input": "2021-08-13T09:24:19.812761Z",
     "iopub.status.busy": "2021-08-13T09:24:19.812086Z",
     "iopub.status.idle": "2021-08-13T09:24:20.626657Z",
     "shell.execute_reply": "2021-08-13T09:24:20.627131Z",
     "shell.execute_reply.started": "2021-08-13T09:11:36.769552Z"
    },
    "papermill": {
     "duration": 0.83909,
     "end_time": "2021-08-13T09:24:20.627304",
     "exception": false,
     "start_time": "2021-08-13T09:24:19.788214",
     "status": "completed"
    },
    "tags": []
   },
   "outputs": [
    {
     "name": "stderr",
     "output_type": "stream",
     "text": [
      "/opt/conda/lib/python3.7/site-packages/ipykernel_launcher.py:6: UserWarning: Cannot use bqstorage_client if max_results is set, reverting to fetching data with the tabledata.list endpoint.\n",
      "  \n"
     ]
    },
    {
     "data": {
      "text/html": [
       "<div>\n",
       "<style scoped>\n",
       "    .dataframe tbody tr th:only-of-type {\n",
       "        vertical-align: middle;\n",
       "    }\n",
       "\n",
       "    .dataframe tbody tr th {\n",
       "        vertical-align: top;\n",
       "    }\n",
       "\n",
       "    .dataframe thead th {\n",
       "        text-align: right;\n",
       "    }\n",
       "</style>\n",
       "<table border=\"1\" class=\"dataframe\">\n",
       "  <thead>\n",
       "    <tr style=\"text-align: right;\">\n",
       "      <th></th>\n",
       "      <th>unique_key</th>\n",
       "      <th>taxi_id</th>\n",
       "      <th>trip_start_timestamp</th>\n",
       "      <th>trip_end_timestamp</th>\n",
       "      <th>trip_seconds</th>\n",
       "      <th>trip_miles</th>\n",
       "      <th>pickup_census_tract</th>\n",
       "      <th>dropoff_census_tract</th>\n",
       "      <th>pickup_community_area</th>\n",
       "      <th>dropoff_community_area</th>\n",
       "      <th>...</th>\n",
       "      <th>extras</th>\n",
       "      <th>trip_total</th>\n",
       "      <th>payment_type</th>\n",
       "      <th>company</th>\n",
       "      <th>pickup_latitude</th>\n",
       "      <th>pickup_longitude</th>\n",
       "      <th>pickup_location</th>\n",
       "      <th>dropoff_latitude</th>\n",
       "      <th>dropoff_longitude</th>\n",
       "      <th>dropoff_location</th>\n",
       "    </tr>\n",
       "  </thead>\n",
       "  <tbody>\n",
       "    <tr>\n",
       "      <th>0</th>\n",
       "      <td>d7142baead61226e1f0d5fbb42053148d4ea1234</td>\n",
       "      <td>83509dee15087de780f4ceef090a6d37029553d45b193c...</td>\n",
       "      <td>2013-12-28 01:00:00+00:00</td>\n",
       "      <td>2013-12-28 01:00:00+00:00</td>\n",
       "      <td>NaN</td>\n",
       "      <td>0.0</td>\n",
       "      <td>NaN</td>\n",
       "      <td>NaN</td>\n",
       "      <td>NaN</td>\n",
       "      <td>NaN</td>\n",
       "      <td>...</td>\n",
       "      <td>0.0</td>\n",
       "      <td>8.85</td>\n",
       "      <td>Credit Card</td>\n",
       "      <td>Chicago Elite Cab Corp. (Chicago Carriag</td>\n",
       "      <td>NaN</td>\n",
       "      <td>NaN</td>\n",
       "      <td>None</td>\n",
       "      <td>NaN</td>\n",
       "      <td>NaN</td>\n",
       "      <td>None</td>\n",
       "    </tr>\n",
       "    <tr>\n",
       "      <th>1</th>\n",
       "      <td>c4b5ecbc1199c68bc7c7336502d51c7af3a6f6dd</td>\n",
       "      <td>d6e1a9e103336c396201abe9ceb00795fcd41e14ccbf54...</td>\n",
       "      <td>2014-01-07 10:00:00+00:00</td>\n",
       "      <td>2014-01-07 09:45:00+00:00</td>\n",
       "      <td>NaN</td>\n",
       "      <td>0.0</td>\n",
       "      <td>NaN</td>\n",
       "      <td>NaN</td>\n",
       "      <td>NaN</td>\n",
       "      <td>NaN</td>\n",
       "      <td>...</td>\n",
       "      <td>0.0</td>\n",
       "      <td>7.74</td>\n",
       "      <td>Credit Card</td>\n",
       "      <td>Chicago Elite Cab Corp. (Chicago Carriag</td>\n",
       "      <td>NaN</td>\n",
       "      <td>NaN</td>\n",
       "      <td>None</td>\n",
       "      <td>NaN</td>\n",
       "      <td>NaN</td>\n",
       "      <td>None</td>\n",
       "    </tr>\n",
       "    <tr>\n",
       "      <th>2</th>\n",
       "      <td>5122fd569680033efac6d8d1990fa60014f112b7</td>\n",
       "      <td>23d5d31d196f02492dee2d0a37f4f52cce7904302213d4...</td>\n",
       "      <td>2014-07-01 20:15:00+00:00</td>\n",
       "      <td>2014-07-01 20:15:00+00:00</td>\n",
       "      <td>0.0</td>\n",
       "      <td>0.0</td>\n",
       "      <td>NaN</td>\n",
       "      <td>NaN</td>\n",
       "      <td>NaN</td>\n",
       "      <td>NaN</td>\n",
       "      <td>...</td>\n",
       "      <td>0.0</td>\n",
       "      <td>27.00</td>\n",
       "      <td>Credit Card</td>\n",
       "      <td>Park Ridge Taxi and Livery</td>\n",
       "      <td>NaN</td>\n",
       "      <td>NaN</td>\n",
       "      <td>None</td>\n",
       "      <td>NaN</td>\n",
       "      <td>NaN</td>\n",
       "      <td>None</td>\n",
       "    </tr>\n",
       "    <tr>\n",
       "      <th>3</th>\n",
       "      <td>556af535d64bc6460244a5bad92966fd5d85421f</td>\n",
       "      <td>442f4c9dd3dde549a82c2dc0ef65b85e54664aa28f5b55...</td>\n",
       "      <td>2014-01-07 13:30:00+00:00</td>\n",
       "      <td>2014-01-07 13:30:00+00:00</td>\n",
       "      <td>0.0</td>\n",
       "      <td>0.0</td>\n",
       "      <td>NaN</td>\n",
       "      <td>NaN</td>\n",
       "      <td>NaN</td>\n",
       "      <td>NaN</td>\n",
       "      <td>...</td>\n",
       "      <td>0.0</td>\n",
       "      <td>7.65</td>\n",
       "      <td>Credit Card</td>\n",
       "      <td>Taxi Affiliation Services</td>\n",
       "      <td>NaN</td>\n",
       "      <td>NaN</td>\n",
       "      <td>None</td>\n",
       "      <td>NaN</td>\n",
       "      <td>NaN</td>\n",
       "      <td>None</td>\n",
       "    </tr>\n",
       "    <tr>\n",
       "      <th>4</th>\n",
       "      <td>bb1f95719e77f9c887912b7b2ac4aa4b4b1a6bcb</td>\n",
       "      <td>01cfdf564af1a522661ba984b93574d481b54e27516833...</td>\n",
       "      <td>2014-01-25 21:15:00+00:00</td>\n",
       "      <td>2014-01-25 21:00:00+00:00</td>\n",
       "      <td>NaN</td>\n",
       "      <td>0.0</td>\n",
       "      <td>NaN</td>\n",
       "      <td>NaN</td>\n",
       "      <td>NaN</td>\n",
       "      <td>NaN</td>\n",
       "      <td>...</td>\n",
       "      <td>0.0</td>\n",
       "      <td>11.45</td>\n",
       "      <td>Credit Card</td>\n",
       "      <td>Chicago Elite Cab Corp. (Chicago Carriag</td>\n",
       "      <td>NaN</td>\n",
       "      <td>NaN</td>\n",
       "      <td>None</td>\n",
       "      <td>NaN</td>\n",
       "      <td>NaN</td>\n",
       "      <td>None</td>\n",
       "    </tr>\n",
       "  </tbody>\n",
       "</table>\n",
       "<p>5 rows × 23 columns</p>\n",
       "</div>"
      ],
      "text/plain": [
       "                                 unique_key  \\\n",
       "0  d7142baead61226e1f0d5fbb42053148d4ea1234   \n",
       "1  c4b5ecbc1199c68bc7c7336502d51c7af3a6f6dd   \n",
       "2  5122fd569680033efac6d8d1990fa60014f112b7   \n",
       "3  556af535d64bc6460244a5bad92966fd5d85421f   \n",
       "4  bb1f95719e77f9c887912b7b2ac4aa4b4b1a6bcb   \n",
       "\n",
       "                                             taxi_id  \\\n",
       "0  83509dee15087de780f4ceef090a6d37029553d45b193c...   \n",
       "1  d6e1a9e103336c396201abe9ceb00795fcd41e14ccbf54...   \n",
       "2  23d5d31d196f02492dee2d0a37f4f52cce7904302213d4...   \n",
       "3  442f4c9dd3dde549a82c2dc0ef65b85e54664aa28f5b55...   \n",
       "4  01cfdf564af1a522661ba984b93574d481b54e27516833...   \n",
       "\n",
       "       trip_start_timestamp        trip_end_timestamp  trip_seconds  \\\n",
       "0 2013-12-28 01:00:00+00:00 2013-12-28 01:00:00+00:00           NaN   \n",
       "1 2014-01-07 10:00:00+00:00 2014-01-07 09:45:00+00:00           NaN   \n",
       "2 2014-07-01 20:15:00+00:00 2014-07-01 20:15:00+00:00           0.0   \n",
       "3 2014-01-07 13:30:00+00:00 2014-01-07 13:30:00+00:00           0.0   \n",
       "4 2014-01-25 21:15:00+00:00 2014-01-25 21:00:00+00:00           NaN   \n",
       "\n",
       "   trip_miles  pickup_census_tract  dropoff_census_tract  \\\n",
       "0         0.0                  NaN                   NaN   \n",
       "1         0.0                  NaN                   NaN   \n",
       "2         0.0                  NaN                   NaN   \n",
       "3         0.0                  NaN                   NaN   \n",
       "4         0.0                  NaN                   NaN   \n",
       "\n",
       "   pickup_community_area  dropoff_community_area  ...  extras  trip_total  \\\n",
       "0                    NaN                     NaN  ...     0.0        8.85   \n",
       "1                    NaN                     NaN  ...     0.0        7.74   \n",
       "2                    NaN                     NaN  ...     0.0       27.00   \n",
       "3                    NaN                     NaN  ...     0.0        7.65   \n",
       "4                    NaN                     NaN  ...     0.0       11.45   \n",
       "\n",
       "   payment_type                                   company  pickup_latitude  \\\n",
       "0   Credit Card  Chicago Elite Cab Corp. (Chicago Carriag              NaN   \n",
       "1   Credit Card  Chicago Elite Cab Corp. (Chicago Carriag              NaN   \n",
       "2   Credit Card                Park Ridge Taxi and Livery              NaN   \n",
       "3   Credit Card                 Taxi Affiliation Services              NaN   \n",
       "4   Credit Card  Chicago Elite Cab Corp. (Chicago Carriag              NaN   \n",
       "\n",
       "  pickup_longitude pickup_location  dropoff_latitude  dropoff_longitude  \\\n",
       "0              NaN            None               NaN                NaN   \n",
       "1              NaN            None               NaN                NaN   \n",
       "2              NaN            None               NaN                NaN   \n",
       "3              NaN            None               NaN                NaN   \n",
       "4              NaN            None               NaN                NaN   \n",
       "\n",
       "  dropoff_location  \n",
       "0             None  \n",
       "1             None  \n",
       "2             None  \n",
       "3             None  \n",
       "4             None  \n",
       "\n",
       "[5 rows x 23 columns]"
      ]
     },
     "execution_count": 6,
     "metadata": {},
     "output_type": "execute_result"
    }
   ],
   "source": [
    "# Construct a reference to the \"taxi_trips\" table\n",
    "table_ref = dataset_ref.table(\"taxi_trips\")\n",
    "# API request - fetch the table\n",
    "table = client.get_table(table_ref)\n",
    "# Preview the first five lines of the \"taxi_trips\" table\n",
    "client.list_rows(table, max_results=5).to_dataframe()"
   ]
  },
  {
   "cell_type": "markdown",
   "id": "ba2e3078",
   "metadata": {
    "papermill": {
     "duration": 0.022026,
     "end_time": "2021-08-13T09:24:20.672002",
     "exception": false,
     "start_time": "2021-08-13T09:24:20.649976",
     "status": "completed"
    },
    "tags": []
   },
   "source": [
    "After deciding whether you see any important issues, run the code cell below."
   ]
  },
  {
   "cell_type": "code",
   "execution_count": 7,
   "id": "cda3d356",
   "metadata": {
    "execution": {
     "iopub.execute_input": "2021-08-13T09:24:20.722641Z",
     "iopub.status.busy": "2021-08-13T09:24:20.721678Z",
     "iopub.status.idle": "2021-08-13T09:24:20.727638Z",
     "shell.execute_reply": "2021-08-13T09:24:20.726997Z",
     "shell.execute_reply.started": "2021-08-13T09:11:31.411228Z"
    },
    "papermill": {
     "duration": 0.033183,
     "end_time": "2021-08-13T09:24:20.727786",
     "exception": false,
     "start_time": "2021-08-13T09:24:20.694603",
     "status": "completed"
    },
    "tags": []
   },
   "outputs": [
    {
     "data": {
      "application/javascript": [
       "parent.postMessage({\"jupyterEvent\": \"custom.exercise_interaction\", \"data\": {\"interactionType\": 3, \"questionType\": 4, \"questionId\": \"2_WhatsWrongWithData\", \"learnToolsVersion\": \"0.3.4\", \"valueTowardsCompletion\": 0.0, \"failureMessage\": \"\", \"exceptionClass\": \"\", \"trace\": \"\", \"outcomeType\": 4}}, \"*\")"
      ],
      "text/plain": [
       "<IPython.core.display.Javascript object>"
      ]
     },
     "metadata": {},
     "output_type": "display_data"
    },
    {
     "data": {
      "text/markdown": [
       "<span style=\"color:#33cc99\">Solution:</span> \n",
       "You can see the data by calling: \n",
       "```python\n",
       "# Construct a reference to the \"taxi_trips\" table\n",
       "table_ref = dataset_ref.table(\"taxi_trips\")\n",
       "\n",
       "# API request - fetch the table\n",
       "table = client.get_table(table_ref)\n",
       "\n",
       "# Preview the first five lines of the \"taxi_trips\" table\n",
       "client.list_rows(table, max_results=5).to_dataframe()\n",
       "```\n",
       "\n",
       "Some trips in the top few rows have `trip_seconds` or `trip_miles` values of 0. \n",
       "Other location fields have values of `None`. That is a problem if we want to use those fields.\n"
      ],
      "text/plain": [
       "Solution: \n",
       "You can see the data by calling: \n",
       "```python\n",
       "# Construct a reference to the \"taxi_trips\" table\n",
       "table_ref = dataset_ref.table(\"taxi_trips\")\n",
       "\n",
       "# API request - fetch the table\n",
       "table = client.get_table(table_ref)\n",
       "\n",
       "# Preview the first five lines of the \"taxi_trips\" table\n",
       "client.list_rows(table, max_results=5).to_dataframe()\n",
       "```\n",
       "\n",
       "Some trips in the top few rows have `trip_seconds` or `trip_miles` values of 0. \n",
       "Other location fields have values of `None`. That is a problem if we want to use those fields."
      ]
     },
     "metadata": {},
     "output_type": "display_data"
    }
   ],
   "source": [
    "# Check your answer (Run this code cell to receive credit!)\n",
    "q_2.solution()"
   ]
  },
  {
   "cell_type": "markdown",
   "id": "c8efd17f",
   "metadata": {
    "papermill": {
     "duration": 0.024084,
     "end_time": "2021-08-13T09:24:20.775797",
     "exception": false,
     "start_time": "2021-08-13T09:24:20.751713",
     "status": "completed"
    },
    "tags": []
   },
   "source": [
    "### 3) Determine when this data is from\n",
    "\n",
    "If the data is sufficiently old, we might be careful before assuming the data is still relevant to traffic patterns today. Write a query that counts the number of trips in each year.  \n",
    "\n",
    "Your results should have two columns:\n",
    "- `year` - the year of the trips\n",
    "- `num_trips` - the number of trips in that year\n",
    "\n",
    "Hints:\n",
    "- When using **GROUP BY** and **ORDER BY**, you should refer to the columns by the alias `year` that you set at the top of the **SELECT** query.\n",
    "- The SQL code to **SELECT** the year from `trip_start_timestamp` is <code>SELECT EXTRACT(YEAR FROM trip_start_timestamp)</code>\n",
    "- The **FROM** field can be a little tricky until you are used to it.  The format is:\n",
    "    1. A backick (the symbol \\`).\n",
    "    2. The project name. In this case it is `bigquery-public-data`.\n",
    "    3. A period.\n",
    "    4. The dataset name. In this case, it is `chicago_taxi_trips`.\n",
    "    5. A period.\n",
    "    6. The table name. You used this as your answer in **1) Find the data**.\n",
    "    7. A backtick (the symbol \\`)."
   ]
  },
  {
   "cell_type": "code",
   "execution_count": 8,
   "id": "9961c40e",
   "metadata": {
    "execution": {
     "iopub.execute_input": "2021-08-13T09:24:20.832655Z",
     "iopub.status.busy": "2021-08-13T09:24:20.831938Z",
     "iopub.status.idle": "2021-08-13T09:24:21.758015Z",
     "shell.execute_reply": "2021-08-13T09:24:21.757450Z",
     "shell.execute_reply.started": "2021-08-13T09:15:44.067761Z"
    },
    "papermill": {
     "duration": 0.957796,
     "end_time": "2021-08-13T09:24:21.758153",
     "exception": false,
     "start_time": "2021-08-13T09:24:20.800357",
     "status": "completed"
    },
    "tags": []
   },
   "outputs": [
    {
     "name": "stderr",
     "output_type": "stream",
     "text": [
      "/opt/conda/lib/python3.7/site-packages/google/cloud/bigquery/client.py:440: UserWarning: Cannot create BigQuery Storage client, the dependency google-cloud-bigquery-storage is not installed.\n",
      "  \"Cannot create BigQuery Storage client, the dependency \"\n"
     ]
    },
    {
     "name": "stdout",
     "output_type": "stream",
     "text": [
      "   year  num_trips\n",
      "0  2013   27217716\n",
      "1  2014   37395436\n",
      "2  2015   32385875\n",
      "3  2016   31759339\n",
      "4  2017   24988003\n",
      "5  2018   20732088\n",
      "6  2019   16477365\n",
      "7  2020    3889032\n",
      "8  2021    1343776\n"
     ]
    },
    {
     "data": {
      "application/javascript": [
       "parent.postMessage({\"jupyterEvent\": \"custom.exercise_interaction\", \"data\": {\"outcomeType\": 1, \"valueTowardsCompletion\": 0.16666666666666666, \"interactionType\": 1, \"questionType\": 2, \"questionId\": \"3_YearDistrib\", \"learnToolsVersion\": \"0.3.4\", \"failureMessage\": \"\", \"exceptionClass\": \"\", \"trace\": \"\"}}, \"*\")"
      ],
      "text/plain": [
       "<IPython.core.display.Javascript object>"
      ]
     },
     "metadata": {},
     "output_type": "display_data"
    },
    {
     "data": {
      "text/markdown": [
       "<span style=\"color:#33cc33\">Correct</span>"
      ],
      "text/plain": [
       "Correct"
      ]
     },
     "metadata": {},
     "output_type": "display_data"
    }
   ],
   "source": [
    "# Your code goes here\n",
    "rides_per_year_query = \"\"\"\n",
    "                       SELECT EXTRACT(YEAR FROM trip_start_timestamp) AS year, \n",
    "                              COUNT(1) AS num_trips\n",
    "                       FROM `bigquery-public-data.chicago_taxi_trips.taxi_trips`\n",
    "                       GROUP BY year\n",
    "                       ORDER BY year\n",
    "                       \"\"\"\n",
    "\n",
    "# Set up the query \n",
    "safe_config = bigquery.QueryJobConfig(maximum_bytes_billed=10**10)\n",
    "rides_per_year_query_job = client.query(rides_per_year_query, job_config=safe_config)\n",
    "\n",
    "# API request - run the query, and return a pandas DataFrame\n",
    "rides_per_year_result = rides_per_year_query_job.to_dataframe()\n",
    "\n",
    "# View results\n",
    "print(rides_per_year_result)\n",
    "\n",
    "# Check your answer\n",
    "q_3.check()"
   ]
  },
  {
   "cell_type": "markdown",
   "id": "3ac72225",
   "metadata": {
    "papermill": {
     "duration": 0.025189,
     "end_time": "2021-08-13T09:24:21.809274",
     "exception": false,
     "start_time": "2021-08-13T09:24:21.784085",
     "status": "completed"
    },
    "tags": []
   },
   "source": [
    "For a hint or the solution, uncomment the appropriate line below."
   ]
  },
  {
   "cell_type": "code",
   "execution_count": 9,
   "id": "014d5ce5",
   "metadata": {
    "execution": {
     "iopub.execute_input": "2021-08-13T09:24:21.864564Z",
     "iopub.status.busy": "2021-08-13T09:24:21.863863Z",
     "iopub.status.idle": "2021-08-13T09:24:21.867208Z",
     "shell.execute_reply": "2021-08-13T09:24:21.866725Z",
     "shell.execute_reply.started": "2021-08-13T09:14:01.597831Z"
    },
    "papermill": {
     "duration": 0.03268,
     "end_time": "2021-08-13T09:24:21.867350",
     "exception": false,
     "start_time": "2021-08-13T09:24:21.834670",
     "status": "completed"
    },
    "tags": []
   },
   "outputs": [],
   "source": [
    "#q_3.hint()\n",
    "#q_3.solution()"
   ]
  },
  {
   "cell_type": "markdown",
   "id": "7a096312",
   "metadata": {
    "papermill": {
     "duration": 0.025476,
     "end_time": "2021-08-13T09:24:21.918193",
     "exception": false,
     "start_time": "2021-08-13T09:24:21.892717",
     "status": "completed"
    },
    "tags": []
   },
   "source": [
    "### 4) Dive slightly deeper\n",
    "\n",
    "You'd like to take a closer look at rides from 2017.  Copy the query you used above in `rides_per_year_query` into the cell below for `rides_per_month_query`.  Then modify it in two ways:\n",
    "1. Use a **WHERE** clause to limit the query to data from 2017.\n",
    "2. Modify the query to extract the month rather than the year."
   ]
  },
  {
   "cell_type": "code",
   "execution_count": 10,
   "id": "28c2cf79",
   "metadata": {
    "execution": {
     "iopub.execute_input": "2021-08-13T09:24:21.978104Z",
     "iopub.status.busy": "2021-08-13T09:24:21.977426Z",
     "iopub.status.idle": "2021-08-13T09:24:23.252593Z",
     "shell.execute_reply": "2021-08-13T09:24:23.252023Z",
     "shell.execute_reply.started": "2021-08-13T09:17:49.522489Z"
    },
    "papermill": {
     "duration": 1.30811,
     "end_time": "2021-08-13T09:24:23.252737",
     "exception": false,
     "start_time": "2021-08-13T09:24:21.944627",
     "status": "completed"
    },
    "tags": []
   },
   "outputs": [
    {
     "name": "stderr",
     "output_type": "stream",
     "text": [
      "/opt/conda/lib/python3.7/site-packages/google/cloud/bigquery/client.py:440: UserWarning: Cannot create BigQuery Storage client, the dependency google-cloud-bigquery-storage is not installed.\n",
      "  \"Cannot create BigQuery Storage client, the dependency \"\n"
     ]
    },
    {
     "name": "stdout",
     "output_type": "stream",
     "text": [
      "    month  num_trips\n",
      "0       1    1972071\n",
      "1       2    1909802\n",
      "2       3    2362105\n",
      "3       4    2194702\n",
      "4       5    2323386\n",
      "5       6    2324472\n",
      "6       7    2054299\n",
      "7       8    2079861\n",
      "8       9    1950631\n",
      "9      10    2141197\n",
      "10     11    1907997\n",
      "11     12    1767480\n"
     ]
    },
    {
     "data": {
      "application/javascript": [
       "parent.postMessage({\"jupyterEvent\": \"custom.exercise_interaction\", \"data\": {\"outcomeType\": 1, \"valueTowardsCompletion\": 0.16666666666666666, \"interactionType\": 1, \"questionType\": 2, \"questionId\": \"4_MonthDistrib\", \"learnToolsVersion\": \"0.3.4\", \"failureMessage\": \"\", \"exceptionClass\": \"\", \"trace\": \"\"}}, \"*\")"
      ],
      "text/plain": [
       "<IPython.core.display.Javascript object>"
      ]
     },
     "metadata": {},
     "output_type": "display_data"
    },
    {
     "data": {
      "text/markdown": [
       "<span style=\"color:#33cc33\">Correct</span>"
      ],
      "text/plain": [
       "Correct"
      ]
     },
     "metadata": {},
     "output_type": "display_data"
    }
   ],
   "source": [
    "# Your code goes here\n",
    "rides_per_month_query = \"\"\"\n",
    "                       SELECT EXTRACT(MONTH FROM trip_start_timestamp) AS month, \n",
    "                              COUNT(1) AS num_trips\n",
    "                       FROM `bigquery-public-data.chicago_taxi_trips.taxi_trips`\n",
    "                       WHERE EXTRACT(YEAR FROM trip_start_timestamp) = 2017\n",
    "                       GROUP BY month\n",
    "                       ORDER BY month\n",
    "                       \"\"\"\n",
    "\n",
    "# Set up the query\n",
    "safe_config = bigquery.QueryJobConfig(maximum_bytes_billed=10**10)\n",
    "rides_per_month_query_job = client.query(rides_per_month_query, job_config=safe_config)\n",
    "\n",
    "# API request - run the query, and return a pandas DataFrame\n",
    "rides_per_month_result = rides_per_month_query_job.to_dataframe()\n",
    "\n",
    "# View results\n",
    "print(rides_per_month_result)\n",
    "\n",
    "# Check your answer\n",
    "q_4.check()"
   ]
  },
  {
   "cell_type": "markdown",
   "id": "1a95d294",
   "metadata": {
    "papermill": {
     "duration": 0.026252,
     "end_time": "2021-08-13T09:24:23.305987",
     "exception": false,
     "start_time": "2021-08-13T09:24:23.279735",
     "status": "completed"
    },
    "tags": []
   },
   "source": [
    "For a hint or the solution, uncomment the appropriate line below."
   ]
  },
  {
   "cell_type": "code",
   "execution_count": 11,
   "id": "9282189b",
   "metadata": {
    "execution": {
     "iopub.execute_input": "2021-08-13T09:24:23.363374Z",
     "iopub.status.busy": "2021-08-13T09:24:23.362750Z",
     "iopub.status.idle": "2021-08-13T09:24:23.364821Z",
     "shell.execute_reply": "2021-08-13T09:24:23.365331Z",
     "shell.execute_reply.started": "2021-08-13T09:17:55.999951Z"
    },
    "papermill": {
     "duration": 0.032881,
     "end_time": "2021-08-13T09:24:23.365573",
     "exception": false,
     "start_time": "2021-08-13T09:24:23.332692",
     "status": "completed"
    },
    "tags": []
   },
   "outputs": [],
   "source": [
    "#q_4.hint()\n",
    "#q_4.solution()"
   ]
  },
  {
   "cell_type": "markdown",
   "id": "0f61e7c2",
   "metadata": {
    "papermill": {
     "duration": 0.026184,
     "end_time": "2021-08-13T09:24:23.418511",
     "exception": false,
     "start_time": "2021-08-13T09:24:23.392327",
     "status": "completed"
    },
    "tags": []
   },
   "source": [
    "### 5) Write the query\n",
    "\n",
    "It's time to step up the sophistication of your queries.  Write a query that shows, for each hour of the day in the dataset, the corresponding number of trips and average speed.\n",
    "\n",
    "Your results should have three columns:\n",
    "- `hour_of_day` - sort by this column, which holds the result of extracting the hour from `trip_start_timestamp`.\n",
    "- `num_trips` - the count of the total number of trips in each hour of the day (e.g. how many trips were started between 6AM and 7AM, independent of which day it occurred on).\n",
    "- `avg_mph` - the average speed, measured in miles per hour, for trips that started in that hour of the day.  Average speed in miles per hour is calculated as `3600 * SUM(trip_miles) / SUM(trip_seconds)`. (The value 3600 is used to convert from seconds to hours.)\n",
    "\n",
    "Restrict your query to data meeting the following criteria:\n",
    "- a `trip_start_timestamp` between **2017-01-01** and **2017-07-01**\n",
    "- `trip_seconds` > 0 and `trip_miles` > 0\n",
    "\n",
    "You will use a common table expression (CTE) to select just the relevant rides.  Because this dataset is very big, this CTE should select only the columns you'll need to create the final output (though you won't actually create those in the CTE -- instead you'll create those in the later **SELECT** statement below the CTE).\n",
    "\n",
    "This is a much harder query than anything you've written so far.  Good luck!"
   ]
  },
  {
   "cell_type": "code",
   "execution_count": 12,
   "id": "dbe2e23b",
   "metadata": {
    "execution": {
     "iopub.execute_input": "2021-08-13T09:24:23.475068Z",
     "iopub.status.busy": "2021-08-13T09:24:23.474419Z",
     "iopub.status.idle": "2021-08-13T09:24:24.460880Z",
     "shell.execute_reply": "2021-08-13T09:24:24.460300Z",
     "shell.execute_reply.started": "2021-08-13T09:19:15.723014Z"
    },
    "papermill": {
     "duration": 1.015473,
     "end_time": "2021-08-13T09:24:24.461048",
     "exception": false,
     "start_time": "2021-08-13T09:24:23.445575",
     "status": "completed"
    },
    "tags": []
   },
   "outputs": [
    {
     "name": "stderr",
     "output_type": "stream",
     "text": [
      "/opt/conda/lib/python3.7/site-packages/google/cloud/bigquery/client.py:440: UserWarning: Cannot create BigQuery Storage client, the dependency google-cloud-bigquery-storage is not installed.\n",
      "  \"Cannot create BigQuery Storage client, the dependency \"\n"
     ]
    },
    {
     "name": "stdout",
     "output_type": "stream",
     "text": [
      "    hour_of_day  num_trips    avg_mph\n",
      "0             0     319339  20.230524\n",
      "1             1     266529  18.937621\n",
      "2             2     210147  18.777070\n",
      "3             3     159668  20.158048\n",
      "4             4     122183  26.736014\n",
      "5             5     119312  30.769172\n",
      "6             6     182738  24.588313\n",
      "7             7     358406  17.735967\n",
      "8             8     541775  15.079892\n",
      "9             9     565548  16.543882\n",
      "10           10     525120  18.539614\n",
      "11           11     594603  18.928379\n",
      "12           12     622324  17.838745\n",
      "13           13     630181  17.671089\n",
      "14           14     622465  16.974239\n",
      "15           15     640430  15.688418\n",
      "16           16     701435  14.283888\n",
      "17           17     756627  12.462955\n",
      "18           18     768251  13.646810\n",
      "19           19     701064  16.642882\n",
      "20           20     598614  19.536777\n",
      "21           21     552726  20.433874\n",
      "22           22     501095  19.531374\n",
      "23           23     399587  19.877046\n"
     ]
    },
    {
     "data": {
      "application/javascript": [
       "parent.postMessage({\"jupyterEvent\": \"custom.exercise_interaction\", \"data\": {\"outcomeType\": 1, \"valueTowardsCompletion\": 0.16666666666666666, \"interactionType\": 1, \"questionType\": 2, \"questionId\": \"5_TheLongQuery\", \"learnToolsVersion\": \"0.3.4\", \"failureMessage\": \"\", \"exceptionClass\": \"\", \"trace\": \"\"}}, \"*\")"
      ],
      "text/plain": [
       "<IPython.core.display.Javascript object>"
      ]
     },
     "metadata": {},
     "output_type": "display_data"
    },
    {
     "data": {
      "text/markdown": [
       "<span style=\"color:#33cc33\">Correct</span>"
      ],
      "text/plain": [
       "Correct"
      ]
     },
     "metadata": {},
     "output_type": "display_data"
    }
   ],
   "source": [
    "# Your code goes here\n",
    "speeds_query = \"\"\"\n",
    "               WITH RelevantRides AS\n",
    "               (\n",
    "                   SELECT EXTRACT(HOUR FROM trip_start_timestamp) AS hour_of_day, \n",
    "                          trip_miles, \n",
    "                          trip_seconds\n",
    "                   FROM `bigquery-public-data.chicago_taxi_trips.taxi_trips`\n",
    "                   WHERE trip_start_timestamp > '2017-01-01' AND \n",
    "                         trip_start_timestamp < '2017-07-01' AND \n",
    "                         trip_seconds > 0 AND \n",
    "                         trip_miles > 0\n",
    "               )\n",
    "               SELECT hour_of_day, \n",
    "                      COUNT(1) AS num_trips, \n",
    "                      3600 * SUM(trip_miles) / SUM(trip_seconds) AS avg_mph\n",
    "               FROM RelevantRides\n",
    "               GROUP BY hour_of_day\n",
    "               ORDER BY hour_of_day\n",
    "               \"\"\"\n",
    "\n",
    "# Set up the query\n",
    "safe_config = bigquery.QueryJobConfig(maximum_bytes_billed=10**10)\n",
    "speeds_query_job = client.query(speeds_query, job_config=safe_config)\n",
    "\n",
    "# API request - run the query, and return a pandas DataFrame\n",
    "speeds_result = speeds_query_job.to_dataframe()\n",
    "\n",
    "# View results\n",
    "print(speeds_result)\n",
    "\n",
    "# Check your answer\n",
    "q_5.check()"
   ]
  },
  {
   "cell_type": "markdown",
   "id": "aad7e1a0",
   "metadata": {
    "papermill": {
     "duration": 0.027908,
     "end_time": "2021-08-13T09:24:24.517655",
     "exception": false,
     "start_time": "2021-08-13T09:24:24.489747",
     "status": "completed"
    },
    "tags": []
   },
   "source": [
    "For the solution, uncomment the appropriate line below."
   ]
  },
  {
   "cell_type": "code",
   "execution_count": 13,
   "id": "39fdd9a8",
   "metadata": {
    "execution": {
     "iopub.execute_input": "2021-08-13T09:24:24.578601Z",
     "iopub.status.busy": "2021-08-13T09:24:24.577920Z",
     "iopub.status.idle": "2021-08-13T09:24:24.579729Z",
     "shell.execute_reply": "2021-08-13T09:24:24.580293Z",
     "shell.execute_reply.started": "2021-08-13T09:19:22.130202Z"
    },
    "papermill": {
     "duration": 0.034478,
     "end_time": "2021-08-13T09:24:24.580471",
     "exception": false,
     "start_time": "2021-08-13T09:24:24.545993",
     "status": "completed"
    },
    "tags": []
   },
   "outputs": [],
   "source": [
    "#q_5.solution()"
   ]
  },
  {
   "cell_type": "markdown",
   "id": "5cbef459",
   "metadata": {
    "papermill": {
     "duration": 0.027754,
     "end_time": "2021-08-13T09:24:24.636627",
     "exception": false,
     "start_time": "2021-08-13T09:24:24.608873",
     "status": "completed"
    },
    "tags": []
   },
   "source": [
    "That's a hard query. If you made good progress towards the solution, congratulations!"
   ]
  },
  {
   "cell_type": "markdown",
   "id": "65ed9752",
   "metadata": {
    "papermill": {
     "duration": 0.027846,
     "end_time": "2021-08-13T09:24:24.692924",
     "exception": false,
     "start_time": "2021-08-13T09:24:24.665078",
     "status": "completed"
    },
    "tags": []
   },
   "source": [
    "# Keep going\n",
    "\n",
    "You can write very complex queries now with a single data source. But nothing expands the horizons of SQL as much as the ability to combine or **JOIN** tables.\n",
    "\n",
    "**[Click here](https://www.kaggle.com/dansbecker/joining-data)** to start the last lesson in the Intro to SQL micro-course."
   ]
  },
  {
   "cell_type": "markdown",
   "id": "85c79e0d",
   "metadata": {
    "papermill": {
     "duration": 0.027926,
     "end_time": "2021-08-13T09:24:24.749091",
     "exception": false,
     "start_time": "2021-08-13T09:24:24.721165",
     "status": "completed"
    },
    "tags": []
   },
   "source": [
    "---\n",
    "\n",
    "\n",
    "\n",
    "\n",
    "*Have questions or comments? Visit the [Learn Discussion forum](https://www.kaggle.com/learn-forum/161314) to chat with other Learners.*"
   ]
  }
 ],
 "metadata": {
  "kernelspec": {
   "display_name": "Python 3",
   "language": "python",
   "name": "python3"
  },
  "language_info": {
   "codemirror_mode": {
    "name": "ipython",
    "version": 3
   },
   "file_extension": ".py",
   "mimetype": "text/x-python",
   "name": "python",
   "nbconvert_exporter": "python",
   "pygments_lexer": "ipython3",
   "version": "3.7.10"
  },
  "papermill": {
   "default_parameters": {},
   "duration": 17.439145,
   "end_time": "2021-08-13T09:24:25.387332",
   "environment_variables": {},
   "exception": null,
   "input_path": "__notebook__.ipynb",
   "output_path": "__notebook__.ipynb",
   "parameters": {},
   "start_time": "2021-08-13T09:24:07.948187",
   "version": "2.3.3"
  }
 },
 "nbformat": 4,
 "nbformat_minor": 5
}
