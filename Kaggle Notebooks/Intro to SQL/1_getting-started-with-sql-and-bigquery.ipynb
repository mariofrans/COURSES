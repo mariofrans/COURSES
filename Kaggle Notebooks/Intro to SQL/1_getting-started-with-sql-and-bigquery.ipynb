{
 "cells": [
  {
   "cell_type": "markdown",
   "id": "micro-court",
   "metadata": {
    "papermill": {
     "duration": 0.012993,
     "end_time": "2021-06-04T13:14:42.057125",
     "exception": false,
     "start_time": "2021-06-04T13:14:42.044132",
     "status": "completed"
    },
    "tags": []
   },
   "source": [
    "# Introduction\n",
    "\n",
    "Structured Query Language, or **SQL**, is the programming language used with databases, and it is an important skill for any data scientist. In this course, you'll build your SQL skills using **BigQuery**, a web service that lets you apply SQL to huge datasets.\n",
    "\n",
    "In this lesson, you'll learn the basics of accessing and examining BigQuery datasets. After you have a handle on these basics, we'll come back to build your SQL skills.\n",
    "\n",
    "# Your first BigQuery commands\n",
    "\n",
    "To use BigQuery, we'll import the Python package below:"
   ]
  },
  {
   "cell_type": "code",
   "execution_count": 1,
   "id": "wooden-fishing",
   "metadata": {
    "execution": {
     "iopub.execute_input": "2021-06-04T13:14:42.085657Z",
     "iopub.status.busy": "2021-06-04T13:14:42.084539Z",
     "iopub.status.idle": "2021-06-04T13:14:42.088032Z",
     "shell.execute_reply": "2021-06-04T13:14:42.088496Z"
    },
    "papermill": {
     "duration": 0.019347,
     "end_time": "2021-06-04T13:14:42.088755",
     "exception": false,
     "start_time": "2021-06-04T13:14:42.069408",
     "status": "completed"
    },
    "tags": []
   },
   "outputs": [],
   "source": [
    "from google.cloud import bigquery"
   ]
  },
  {
   "cell_type": "markdown",
   "id": "opposed-playlist",
   "metadata": {
    "papermill": {
     "duration": 0.012016,
     "end_time": "2021-06-04T13:14:42.113109",
     "exception": false,
     "start_time": "2021-06-04T13:14:42.101093",
     "status": "completed"
    },
    "tags": []
   },
   "source": [
    "The first step in the workflow is to create a [`Client`](https://google-cloud.readthedocs.io/en/latest/bigquery/generated/google.cloud.bigquery.client.Client.html#google.cloud.bigquery.client.Client) object.  As you'll soon see, this `Client` object will play a central role in retrieving information from BigQuery datasets."
   ]
  },
  {
   "cell_type": "code",
   "execution_count": 2,
   "id": "above-ownership",
   "metadata": {
    "execution": {
     "iopub.execute_input": "2021-06-04T13:14:42.140275Z",
     "iopub.status.busy": "2021-06-04T13:14:42.139700Z",
     "iopub.status.idle": "2021-06-04T13:14:42.145240Z",
     "shell.execute_reply": "2021-06-04T13:14:42.144747Z"
    },
    "papermill": {
     "duration": 0.020266,
     "end_time": "2021-06-04T13:14:42.145425",
     "exception": false,
     "start_time": "2021-06-04T13:14:42.125159",
     "status": "completed"
    },
    "tags": []
   },
   "outputs": [
    {
     "name": "stdout",
     "output_type": "stream",
     "text": [
      "Using Kaggle's public dataset BigQuery integration.\n"
     ]
    }
   ],
   "source": [
    "# Create a \"Client\" object\n",
    "client = bigquery.Client()"
   ]
  },
  {
   "cell_type": "markdown",
   "id": "suited-dollar",
   "metadata": {
    "papermill": {
     "duration": 0.012387,
     "end_time": "2021-06-04T13:14:42.170675",
     "exception": false,
     "start_time": "2021-06-04T13:14:42.158288",
     "status": "completed"
    },
    "tags": []
   },
   "source": [
    "We'll work with a dataset of posts on [Hacker News](https://news.ycombinator.com/), a website focusing on computer science and cybersecurity news.\n",
    "\n",
    "In BigQuery, each dataset is contained in a corresponding project.  In this case, our `hacker_news` dataset is contained in the `bigquery-public-data` project.  To access the dataset, \n",
    "- We begin by constructing a reference to the dataset with the [`dataset()`](https://google-cloud.readthedocs.io/en/latest/bigquery/generated/google.cloud.bigquery.client.Client.dataset.html#google.cloud.bigquery.client.Client.dataset) method.  \n",
    "- Next, we use the [`get_dataset()`](https://google-cloud.readthedocs.io/en/latest/bigquery/generated/google.cloud.bigquery.client.Client.get_dataset.html#google.cloud.bigquery.client.Client.get_dataset) method, along with the reference we just constructed, to fetch the dataset."
   ]
  },
  {
   "cell_type": "code",
   "execution_count": 3,
   "id": "cubic-technical",
   "metadata": {
    "execution": {
     "iopub.execute_input": "2021-06-04T13:14:42.201491Z",
     "iopub.status.busy": "2021-06-04T13:14:42.200879Z",
     "iopub.status.idle": "2021-06-04T13:14:42.471898Z",
     "shell.execute_reply": "2021-06-04T13:14:42.471285Z"
    },
    "papermill": {
     "duration": 0.288731,
     "end_time": "2021-06-04T13:14:42.472039",
     "exception": false,
     "start_time": "2021-06-04T13:14:42.183308",
     "status": "completed"
    },
    "tags": []
   },
   "outputs": [],
   "source": [
    "# Construct a reference to the \"hacker_news\" dataset\n",
    "dataset_ref = client.dataset(\"hacker_news\", project=\"bigquery-public-data\")\n",
    "\n",
    "# API request - fetch the dataset\n",
    "dataset = client.get_dataset(dataset_ref)"
   ]
  },
  {
   "cell_type": "markdown",
   "id": "tracked-lebanon",
   "metadata": {
    "papermill": {
     "duration": 0.012431,
     "end_time": "2021-06-04T13:14:42.497238",
     "exception": false,
     "start_time": "2021-06-04T13:14:42.484807",
     "status": "completed"
    },
    "tags": []
   },
   "source": [
    "Every dataset is just a collection of tables.  You can think of a dataset as a spreadsheet file containing multiple tables, all composed of rows and columns.\n",
    "\n",
    "We use the `list_tables()` method to list the tables in the dataset."
   ]
  },
  {
   "cell_type": "code",
   "execution_count": 4,
   "id": "funky-breathing",
   "metadata": {
    "execution": {
     "iopub.execute_input": "2021-06-04T13:14:42.530092Z",
     "iopub.status.busy": "2021-06-04T13:14:42.529442Z",
     "iopub.status.idle": "2021-06-04T13:14:42.750875Z",
     "shell.execute_reply": "2021-06-04T13:14:42.751359Z"
    },
    "papermill": {
     "duration": 0.241303,
     "end_time": "2021-06-04T13:14:42.751535",
     "exception": false,
     "start_time": "2021-06-04T13:14:42.510232",
     "status": "completed"
    },
    "tags": []
   },
   "outputs": [
    {
     "name": "stdout",
     "output_type": "stream",
     "text": [
      "comments\n",
      "full\n",
      "full_201510\n",
      "stories\n"
     ]
    }
   ],
   "source": [
    "# List all the tables in the \"hacker_news\" dataset\n",
    "tables = list(client.list_tables(dataset))\n",
    "\n",
    "# Print names of all tables in the dataset (there are four!)\n",
    "for table in tables:  \n",
    "    print(table.table_id)"
   ]
  },
  {
   "cell_type": "markdown",
   "id": "sweet-sigma",
   "metadata": {
    "papermill": {
     "duration": 0.014192,
     "end_time": "2021-06-04T13:14:42.779079",
     "exception": false,
     "start_time": "2021-06-04T13:14:42.764887",
     "status": "completed"
    },
    "tags": []
   },
   "source": [
    "Similar to how we fetched a dataset, we can fetch a table.  In the code cell below, we fetch the `full` table in the `hacker_news` dataset."
   ]
  },
  {
   "cell_type": "code",
   "execution_count": 5,
   "id": "intimate-northwest",
   "metadata": {
    "execution": {
     "iopub.execute_input": "2021-06-04T13:14:42.808971Z",
     "iopub.status.busy": "2021-06-04T13:14:42.808396Z",
     "iopub.status.idle": "2021-06-04T13:14:43.436533Z",
     "shell.execute_reply": "2021-06-04T13:14:43.437061Z"
    },
    "papermill": {
     "duration": 0.645108,
     "end_time": "2021-06-04T13:14:43.437232",
     "exception": false,
     "start_time": "2021-06-04T13:14:42.792124",
     "status": "completed"
    },
    "tags": []
   },
   "outputs": [],
   "source": [
    "# Construct a reference to the \"full\" table\n",
    "table_ref = dataset_ref.table(\"full\")\n",
    "\n",
    "# API request - fetch the table\n",
    "table = client.get_table(table_ref)"
   ]
  },
  {
   "cell_type": "markdown",
   "id": "gothic-questionnaire",
   "metadata": {
    "papermill": {
     "duration": 0.013197,
     "end_time": "2021-06-04T13:14:43.464772",
     "exception": false,
     "start_time": "2021-06-04T13:14:43.451575",
     "status": "completed"
    },
    "tags": []
   },
   "source": [
    "In the next section, you'll explore the contents of this table in more detail.  For now, take the time to use the image below to consolidate what you've learned so far.\n",
    "\n",
    "![first_commands](https://i.imgur.com/biYqbUB.png)"
   ]
  },
  {
   "cell_type": "markdown",
   "id": "explicit-standing",
   "metadata": {
    "papermill": {
     "duration": 0.012811,
     "end_time": "2021-06-04T13:14:43.490750",
     "exception": false,
     "start_time": "2021-06-04T13:14:43.477939",
     "status": "completed"
    },
    "tags": []
   },
   "source": [
    "# Table schema\n",
    "\n",
    "The structure of a table is called its **schema**.  We need to understand a table's schema to effectively pull out the data we want. \n",
    "\n",
    "In this example, we'll investigate the `full` table that we fetched above."
   ]
  },
  {
   "cell_type": "code",
   "execution_count": 6,
   "id": "senior-storm",
   "metadata": {
    "execution": {
     "iopub.execute_input": "2021-06-04T13:14:43.524556Z",
     "iopub.status.busy": "2021-06-04T13:14:43.523856Z",
     "iopub.status.idle": "2021-06-04T13:14:43.527529Z",
     "shell.execute_reply": "2021-06-04T13:14:43.528001Z"
    },
    "papermill": {
     "duration": 0.024188,
     "end_time": "2021-06-04T13:14:43.528164",
     "exception": false,
     "start_time": "2021-06-04T13:14:43.503976",
     "status": "completed"
    },
    "tags": []
   },
   "outputs": [
    {
     "data": {
      "text/plain": [
       "[SchemaField('title', 'STRING', 'NULLABLE', 'Story title', (), None),\n",
       " SchemaField('url', 'STRING', 'NULLABLE', 'Story url', (), None),\n",
       " SchemaField('text', 'STRING', 'NULLABLE', 'Story or comment text', (), None),\n",
       " SchemaField('dead', 'BOOLEAN', 'NULLABLE', 'Is dead?', (), None),\n",
       " SchemaField('by', 'STRING', 'NULLABLE', \"The username of the item's author.\", (), None),\n",
       " SchemaField('score', 'INTEGER', 'NULLABLE', 'Story score', (), None),\n",
       " SchemaField('time', 'INTEGER', 'NULLABLE', 'Unix time', (), None),\n",
       " SchemaField('timestamp', 'TIMESTAMP', 'NULLABLE', 'Timestamp for the unix time', (), None),\n",
       " SchemaField('type', 'STRING', 'NULLABLE', 'Type of details (comment, comment_ranking, poll, story, job, pollopt)', (), None),\n",
       " SchemaField('id', 'INTEGER', 'NULLABLE', \"The item's unique id.\", (), None),\n",
       " SchemaField('parent', 'INTEGER', 'NULLABLE', 'Parent comment ID', (), None),\n",
       " SchemaField('descendants', 'INTEGER', 'NULLABLE', 'Number of story or poll descendants', (), None),\n",
       " SchemaField('ranking', 'INTEGER', 'NULLABLE', 'Comment ranking', (), None),\n",
       " SchemaField('deleted', 'BOOLEAN', 'NULLABLE', 'Is deleted?', (), None)]"
      ]
     },
     "execution_count": 6,
     "metadata": {},
     "output_type": "execute_result"
    }
   ],
   "source": [
    "# Print information on all the columns in the \"full\" table in the \"hacker_news\" dataset\n",
    "table.schema"
   ]
  },
  {
   "cell_type": "markdown",
   "id": "gentle-boundary",
   "metadata": {
    "papermill": {
     "duration": 0.013333,
     "end_time": "2021-06-04T13:14:43.555293",
     "exception": false,
     "start_time": "2021-06-04T13:14:43.541960",
     "status": "completed"
    },
    "tags": []
   },
   "source": [
    "Each [`SchemaField`](https://googleapis.github.io/google-cloud-python/latest/bigquery/generated/google.cloud.bigquery.schema.SchemaField.html#google.cloud.bigquery.schema.SchemaField) tells us about a specific column (which we also refer to as a **field**). In order, the information is:\n",
    "\n",
    "* The **name** of the column\n",
    "* The **field type** (or datatype) in the column\n",
    "* The **mode** of the column (`'NULLABLE'` means that a column allows NULL values, and is the default)\n",
    "* A **description** of the data in that column\n",
    "\n",
    "The first field has the SchemaField:\n",
    "\n",
    "`SchemaField('by', 'string', 'NULLABLE', \"The username of the item's author.\",())`\n",
    "\n",
    "This tells us:\n",
    "- the field (or column) is called `by`,\n",
    "- the data in this field is strings, \n",
    "- NULL values are allowed, and\n",
    "- it contains the usernames corresponding to each item's author.\n",
    "\n",
    "We can use the [`list_rows()`](https://google-cloud.readthedocs.io/en/latest/bigquery/generated/google.cloud.bigquery.client.Client.list_rows.html#google.cloud.bigquery.client.Client.list_rows) method to check just the first five lines of of the `full` table to make sure this is right. (Sometimes databases have outdated descriptions, so it's good to check.)  This returns a BigQuery [`RowIterator`](https://googleapis.github.io/google-cloud-python/latest/bigquery/generated/google.cloud.bigquery.table.RowIterator.html) object that can quickly be converted to a pandas DataFrame with the [`to_dataframe()`](https://google-cloud.readthedocs.io/en/latest/bigquery/generated/google.cloud.bigquery.table.RowIterator.to_dataframe.html) method."
   ]
  },
  {
   "cell_type": "code",
   "execution_count": 7,
   "id": "processed-pulse",
   "metadata": {
    "execution": {
     "iopub.execute_input": "2021-06-04T13:14:43.585741Z",
     "iopub.status.busy": "2021-06-04T13:14:43.585078Z",
     "iopub.status.idle": "2021-06-04T13:14:44.156579Z",
     "shell.execute_reply": "2021-06-04T13:14:44.157056Z"
    },
    "papermill": {
     "duration": 0.588354,
     "end_time": "2021-06-04T13:14:44.157224",
     "exception": false,
     "start_time": "2021-06-04T13:14:43.568870",
     "status": "completed"
    },
    "tags": []
   },
   "outputs": [
    {
     "name": "stderr",
     "output_type": "stream",
     "text": [
      "/opt/conda/lib/python3.7/site-packages/ipykernel_launcher.py:2: UserWarning: Cannot use bqstorage_client if max_results is set, reverting to fetching data with the tabledata.list endpoint.\n",
      "  \n"
     ]
    },
    {
     "data": {
      "text/html": [
       "<div>\n",
       "<style scoped>\n",
       "    .dataframe tbody tr th:only-of-type {\n",
       "        vertical-align: middle;\n",
       "    }\n",
       "\n",
       "    .dataframe tbody tr th {\n",
       "        vertical-align: top;\n",
       "    }\n",
       "\n",
       "    .dataframe thead th {\n",
       "        text-align: right;\n",
       "    }\n",
       "</style>\n",
       "<table border=\"1\" class=\"dataframe\">\n",
       "  <thead>\n",
       "    <tr style=\"text-align: right;\">\n",
       "      <th></th>\n",
       "      <th>title</th>\n",
       "      <th>url</th>\n",
       "      <th>text</th>\n",
       "      <th>dead</th>\n",
       "      <th>by</th>\n",
       "      <th>score</th>\n",
       "      <th>time</th>\n",
       "      <th>timestamp</th>\n",
       "      <th>type</th>\n",
       "      <th>id</th>\n",
       "      <th>parent</th>\n",
       "      <th>descendants</th>\n",
       "      <th>ranking</th>\n",
       "      <th>deleted</th>\n",
       "    </tr>\n",
       "  </thead>\n",
       "  <tbody>\n",
       "    <tr>\n",
       "      <th>0</th>\n",
       "      <td>None</td>\n",
       "      <td>None</td>\n",
       "      <td>I had a waveform animation that would get jerk...</td>\n",
       "      <td>None</td>\n",
       "      <td>hinkley</td>\n",
       "      <td>NaN</td>\n",
       "      <td>1616519309</td>\n",
       "      <td>2021-03-23 17:08:29+00:00</td>\n",
       "      <td>comment</td>\n",
       "      <td>26557356</td>\n",
       "      <td>26556882</td>\n",
       "      <td>NaN</td>\n",
       "      <td>NaN</td>\n",
       "      <td>None</td>\n",
       "    </tr>\n",
       "    <tr>\n",
       "      <th>1</th>\n",
       "      <td>None</td>\n",
       "      <td>None</td>\n",
       "      <td>Imagine if a newspaper endorsed a candidate?</td>\n",
       "      <td>None</td>\n",
       "      <td>dantheman</td>\n",
       "      <td>NaN</td>\n",
       "      <td>1563929733</td>\n",
       "      <td>2019-07-24 00:55:33+00:00</td>\n",
       "      <td>comment</td>\n",
       "      <td>20511505</td>\n",
       "      <td>20511440</td>\n",
       "      <td>NaN</td>\n",
       "      <td>NaN</td>\n",
       "      <td>None</td>\n",
       "    </tr>\n",
       "    <tr>\n",
       "      <th>2</th>\n",
       "      <td>None</td>\n",
       "      <td>None</td>\n",
       "      <td>&amp;gt; This seems somehow wild to me. Why don&amp;#x...</td>\n",
       "      <td>None</td>\n",
       "      <td>u801e</td>\n",
       "      <td>NaN</td>\n",
       "      <td>1606452923</td>\n",
       "      <td>2020-11-27 04:55:23+00:00</td>\n",
       "      <td>comment</td>\n",
       "      <td>25225640</td>\n",
       "      <td>25224415</td>\n",
       "      <td>NaN</td>\n",
       "      <td>NaN</td>\n",
       "      <td>None</td>\n",
       "    </tr>\n",
       "    <tr>\n",
       "      <th>3</th>\n",
       "      <td>None</td>\n",
       "      <td>None</td>\n",
       "      <td>Running Linux on a Mac does nothing for Apple....</td>\n",
       "      <td>None</td>\n",
       "      <td>jki275</td>\n",
       "      <td>NaN</td>\n",
       "      <td>1606452934</td>\n",
       "      <td>2020-11-27 04:55:34+00:00</td>\n",
       "      <td>comment</td>\n",
       "      <td>25225641</td>\n",
       "      <td>25221430</td>\n",
       "      <td>NaN</td>\n",
       "      <td>NaN</td>\n",
       "      <td>None</td>\n",
       "    </tr>\n",
       "    <tr>\n",
       "      <th>4</th>\n",
       "      <td>None</td>\n",
       "      <td>None</td>\n",
       "      <td>You just repeated my point.&lt;p&gt;Look, if 25 year...</td>\n",
       "      <td>None</td>\n",
       "      <td>IgorPartola</td>\n",
       "      <td>NaN</td>\n",
       "      <td>1606452949</td>\n",
       "      <td>2020-11-27 04:55:49+00:00</td>\n",
       "      <td>comment</td>\n",
       "      <td>25225642</td>\n",
       "      <td>25221207</td>\n",
       "      <td>NaN</td>\n",
       "      <td>NaN</td>\n",
       "      <td>None</td>\n",
       "    </tr>\n",
       "  </tbody>\n",
       "</table>\n",
       "</div>"
      ],
      "text/plain": [
       "  title   url                                               text  dead  \\\n",
       "0  None  None  I had a waveform animation that would get jerk...  None   \n",
       "1  None  None       Imagine if a newspaper endorsed a candidate?  None   \n",
       "2  None  None  &gt; This seems somehow wild to me. Why don&#x...  None   \n",
       "3  None  None  Running Linux on a Mac does nothing for Apple....  None   \n",
       "4  None  None  You just repeated my point.<p>Look, if 25 year...  None   \n",
       "\n",
       "            by  score        time                 timestamp     type  \\\n",
       "0      hinkley    NaN  1616519309 2021-03-23 17:08:29+00:00  comment   \n",
       "1    dantheman    NaN  1563929733 2019-07-24 00:55:33+00:00  comment   \n",
       "2        u801e    NaN  1606452923 2020-11-27 04:55:23+00:00  comment   \n",
       "3       jki275    NaN  1606452934 2020-11-27 04:55:34+00:00  comment   \n",
       "4  IgorPartola    NaN  1606452949 2020-11-27 04:55:49+00:00  comment   \n",
       "\n",
       "         id    parent  descendants  ranking deleted  \n",
       "0  26557356  26556882          NaN      NaN    None  \n",
       "1  20511505  20511440          NaN      NaN    None  \n",
       "2  25225640  25224415          NaN      NaN    None  \n",
       "3  25225641  25221430          NaN      NaN    None  \n",
       "4  25225642  25221207          NaN      NaN    None  "
      ]
     },
     "execution_count": 7,
     "metadata": {},
     "output_type": "execute_result"
    }
   ],
   "source": [
    "# Preview the first five lines of the \"full\" table\n",
    "client.list_rows(table, max_results=5).to_dataframe()"
   ]
  },
  {
   "cell_type": "markdown",
   "id": "multiple-manitoba",
   "metadata": {
    "papermill": {
     "duration": 0.014536,
     "end_time": "2021-06-04T13:14:44.186505",
     "exception": false,
     "start_time": "2021-06-04T13:14:44.171969",
     "status": "completed"
    },
    "tags": []
   },
   "source": [
    "The `list_rows()` method will also let us look at just the information in a specific column. If we want to see the first five entries in the `by` column, for example, we can do that!"
   ]
  },
  {
   "cell_type": "code",
   "execution_count": 8,
   "id": "thirty-stationery",
   "metadata": {
    "execution": {
     "iopub.execute_input": "2021-06-04T13:14:44.219357Z",
     "iopub.status.busy": "2021-06-04T13:14:44.218678Z",
     "iopub.status.idle": "2021-06-04T13:14:44.714466Z",
     "shell.execute_reply": "2021-06-04T13:14:44.712965Z"
    },
    "papermill": {
     "duration": 0.513165,
     "end_time": "2021-06-04T13:14:44.714633",
     "exception": false,
     "start_time": "2021-06-04T13:14:44.201468",
     "status": "completed"
    },
    "tags": []
   },
   "outputs": [
    {
     "name": "stderr",
     "output_type": "stream",
     "text": [
      "/opt/conda/lib/python3.7/site-packages/ipykernel_launcher.py:2: UserWarning: Cannot use bqstorage_client if max_results is set, reverting to fetching data with the tabledata.list endpoint.\n",
      "  \n"
     ]
    },
    {
     "data": {
      "text/html": [
       "<div>\n",
       "<style scoped>\n",
       "    .dataframe tbody tr th:only-of-type {\n",
       "        vertical-align: middle;\n",
       "    }\n",
       "\n",
       "    .dataframe tbody tr th {\n",
       "        vertical-align: top;\n",
       "    }\n",
       "\n",
       "    .dataframe thead th {\n",
       "        text-align: right;\n",
       "    }\n",
       "</style>\n",
       "<table border=\"1\" class=\"dataframe\">\n",
       "  <thead>\n",
       "    <tr style=\"text-align: right;\">\n",
       "      <th></th>\n",
       "      <th>title</th>\n",
       "    </tr>\n",
       "  </thead>\n",
       "  <tbody>\n",
       "    <tr>\n",
       "      <th>0</th>\n",
       "      <td>None</td>\n",
       "    </tr>\n",
       "    <tr>\n",
       "      <th>1</th>\n",
       "      <td>None</td>\n",
       "    </tr>\n",
       "    <tr>\n",
       "      <th>2</th>\n",
       "      <td>None</td>\n",
       "    </tr>\n",
       "    <tr>\n",
       "      <th>3</th>\n",
       "      <td>None</td>\n",
       "    </tr>\n",
       "    <tr>\n",
       "      <th>4</th>\n",
       "      <td>None</td>\n",
       "    </tr>\n",
       "  </tbody>\n",
       "</table>\n",
       "</div>"
      ],
      "text/plain": [
       "  title\n",
       "0  None\n",
       "1  None\n",
       "2  None\n",
       "3  None\n",
       "4  None"
      ]
     },
     "execution_count": 8,
     "metadata": {},
     "output_type": "execute_result"
    }
   ],
   "source": [
    "# Preview the first five entries in the \"by\" column of the \"full\" table\n",
    "client.list_rows(table, selected_fields=table.schema[:1], max_results=5).to_dataframe()"
   ]
  },
  {
   "cell_type": "markdown",
   "id": "incorporate-communist",
   "metadata": {
    "papermill": {
     "duration": 0.015788,
     "end_time": "2021-06-04T13:14:44.746033",
     "exception": false,
     "start_time": "2021-06-04T13:14:44.730245",
     "status": "completed"
    },
    "tags": []
   },
   "source": [
    "# Disclaimer\n",
    "Before we go into the coding exercise, a quick disclaimer for those who already know some SQL:\n",
    "\n",
    "**Each Kaggle user can scan 5TB every 30 days for free.  Once you hit that limit, you'll have to wait for it to reset.**\n",
    "\n",
    "The commands you've seen so far won't demand a meaningful fraction of that limit. But some BiqQuery datasets are huge. So, if you already know SQL, wait to run SELECT queries until you've seen how to use your allotment effectively. If you are like most people reading this, you don't know how to write these queries yet, so you don't need to worry about this disclaimer.\n"
   ]
  },
  {
   "cell_type": "markdown",
   "id": "creative-gabriel",
   "metadata": {
    "papermill": {
     "duration": 0.015843,
     "end_time": "2021-06-04T13:14:44.777872",
     "exception": false,
     "start_time": "2021-06-04T13:14:44.762029",
     "status": "completed"
    },
    "tags": []
   },
   "source": [
    "# Your turn\n",
    "Practice the commands you've seen to **[explore the structure of a dataset](https://www.kaggle.com/kernels/fork/1058477)** with crimes in the city of Chicago."
   ]
  },
  {
   "cell_type": "markdown",
   "id": "responsible-democrat",
   "metadata": {
    "papermill": {
     "duration": 0.015849,
     "end_time": "2021-06-04T13:14:44.809872",
     "exception": false,
     "start_time": "2021-06-04T13:14:44.794023",
     "status": "completed"
    },
    "tags": []
   },
   "source": [
    "---\n",
    "\n",
    "\n",
    "\n",
    "\n",
    "*Have questions or comments? Visit the [Learn Discussion forum](https://www.kaggle.com/learn-forum/161314) to chat with other Learners.*"
   ]
  }
 ],
 "metadata": {
  "kernelspec": {
   "display_name": "Python 3",
   "language": "python",
   "name": "python3"
  },
  "language_info": {
   "codemirror_mode": {
    "name": "ipython",
    "version": 3
   },
   "file_extension": ".py",
   "mimetype": "text/x-python",
   "name": "python",
   "nbconvert_exporter": "python",
   "pygments_lexer": "ipython3",
   "version": "3.7.9"
  },
  "papermill": {
   "default_parameters": {},
   "duration": 9.094877,
   "end_time": "2021-06-04T13:14:45.334452",
   "environment_variables": {},
   "exception": null,
   "input_path": "__notebook__.ipynb",
   "output_path": "__notebook__.ipynb",
   "parameters": {},
   "start_time": "2021-06-04T13:14:36.239575",
   "version": "2.3.2"
  }
 },
 "nbformat": 4,
 "nbformat_minor": 5
}
