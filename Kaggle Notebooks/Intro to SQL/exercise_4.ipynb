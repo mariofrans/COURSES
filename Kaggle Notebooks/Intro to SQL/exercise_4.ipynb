{
 "cells": [
  {
   "cell_type": "markdown",
   "id": "b318bdb4",
   "metadata": {
    "papermill": {
     "duration": 0.011603,
     "end_time": "2021-08-13T09:02:45.616490",
     "exception": false,
     "start_time": "2021-08-13T09:02:45.604887",
     "status": "completed"
    },
    "tags": []
   },
   "source": [
    "**This notebook is an exercise in the [SQL](https://www.kaggle.com/learn/intro-to-sql) course.  You can reference the tutorial at [this link](https://www.kaggle.com/dansbecker/order-by).**\n",
    "\n",
    "---\n"
   ]
  },
  {
   "cell_type": "markdown",
   "id": "3abe47d9",
   "metadata": {
    "papermill": {
     "duration": 0.012367,
     "end_time": "2021-08-13T09:02:45.641446",
     "exception": false,
     "start_time": "2021-08-13T09:02:45.629079",
     "status": "completed"
    },
    "tags": []
   },
   "source": [
    "# Introduction\n",
    "\n",
    "You've built up your SQL skills enough that the remaining hands-on exercises will use different datasets than you see in the explanations. If you need to get to know a new dataset, you can run a couple of **SELECT** queries to extract and review the data you need. \n",
    "\n",
    "The next exercises are also more challenging than what you've done so far. Don't worry, you are ready for it!\n",
    "\n",
    "Run the code in the following cell to get everything set up:"
   ]
  },
  {
   "cell_type": "code",
   "execution_count": 1,
   "id": "686715d0",
   "metadata": {
    "execution": {
     "iopub.execute_input": "2021-08-13T09:02:45.666355Z",
     "iopub.status.busy": "2021-08-13T09:02:45.665202Z",
     "iopub.status.idle": "2021-08-13T09:02:48.296458Z",
     "shell.execute_reply": "2021-08-13T09:02:48.295765Z",
     "shell.execute_reply.started": "2021-08-13T08:42:08.664713Z"
    },
    "papermill": {
     "duration": 2.644713,
     "end_time": "2021-08-13T09:02:48.296620",
     "exception": false,
     "start_time": "2021-08-13T09:02:45.651907",
     "status": "completed"
    },
    "tags": []
   },
   "outputs": [
    {
     "name": "stdout",
     "output_type": "stream",
     "text": [
      "Using Kaggle's public dataset BigQuery integration.\n"
     ]
    },
    {
     "name": "stderr",
     "output_type": "stream",
     "text": [
      "/opt/conda/lib/python3.7/site-packages/google/cloud/bigquery/client.py:440: UserWarning: Cannot create BigQuery Storage client, the dependency google-cloud-bigquery-storage is not installed.\n",
      "  \"Cannot create BigQuery Storage client, the dependency \"\n"
     ]
    },
    {
     "name": "stdout",
     "output_type": "stream",
     "text": [
      "Setup Complete\n"
     ]
    }
   ],
   "source": [
    "# Set up feedback system\n",
    "from learntools.core import binder\n",
    "binder.bind(globals())\n",
    "from learntools.sql.ex4 import *\n",
    "print(\"Setup Complete\")"
   ]
  },
  {
   "cell_type": "markdown",
   "id": "83d9b6a3",
   "metadata": {
    "papermill": {
     "duration": 0.011083,
     "end_time": "2021-08-13T09:02:48.319580",
     "exception": false,
     "start_time": "2021-08-13T09:02:48.308497",
     "status": "completed"
    },
    "tags": []
   },
   "source": [
    "The World Bank has made tons of interesting education data available through BigQuery. Run the following cell to see the first few rows of the `international_education` table from the `world_bank_intl_education` dataset."
   ]
  },
  {
   "cell_type": "code",
   "execution_count": 2,
   "id": "97114981",
   "metadata": {
    "execution": {
     "iopub.execute_input": "2021-08-13T09:02:48.351729Z",
     "iopub.status.busy": "2021-08-13T09:02:48.351045Z",
     "iopub.status.idle": "2021-08-13T09:02:49.592648Z",
     "shell.execute_reply": "2021-08-13T09:02:49.593195Z",
     "shell.execute_reply.started": "2021-08-13T08:45:00.041304Z"
    },
    "papermill": {
     "duration": 1.262358,
     "end_time": "2021-08-13T09:02:49.593391",
     "exception": false,
     "start_time": "2021-08-13T09:02:48.331033",
     "status": "completed"
    },
    "tags": []
   },
   "outputs": [
    {
     "name": "stdout",
     "output_type": "stream",
     "text": [
      "Using Kaggle's public dataset BigQuery integration.\n"
     ]
    },
    {
     "name": "stderr",
     "output_type": "stream",
     "text": [
      "/opt/conda/lib/python3.7/site-packages/ipykernel_launcher.py:19: UserWarning: Cannot use bqstorage_client if max_results is set, reverting to fetching data with the tabledata.list endpoint.\n"
     ]
    },
    {
     "data": {
      "text/html": [
       "<div>\n",
       "<style scoped>\n",
       "    .dataframe tbody tr th:only-of-type {\n",
       "        vertical-align: middle;\n",
       "    }\n",
       "\n",
       "    .dataframe tbody tr th {\n",
       "        vertical-align: top;\n",
       "    }\n",
       "\n",
       "    .dataframe thead th {\n",
       "        text-align: right;\n",
       "    }\n",
       "</style>\n",
       "<table border=\"1\" class=\"dataframe\">\n",
       "  <thead>\n",
       "    <tr style=\"text-align: right;\">\n",
       "      <th></th>\n",
       "      <th>country_name</th>\n",
       "      <th>country_code</th>\n",
       "      <th>indicator_name</th>\n",
       "      <th>indicator_code</th>\n",
       "      <th>value</th>\n",
       "      <th>year</th>\n",
       "    </tr>\n",
       "  </thead>\n",
       "  <tbody>\n",
       "    <tr>\n",
       "      <th>0</th>\n",
       "      <td>Georgia</td>\n",
       "      <td>GEO</td>\n",
       "      <td>Population, ages 0-14, total</td>\n",
       "      <td>SP.POP.0014.TO</td>\n",
       "      <td>7.047280e+05</td>\n",
       "      <td>2016</td>\n",
       "    </tr>\n",
       "    <tr>\n",
       "      <th>1</th>\n",
       "      <td>Guinea</td>\n",
       "      <td>GIN</td>\n",
       "      <td>Population of the official entrance age to pri...</td>\n",
       "      <td>UIS.SAP.1.G1.M</td>\n",
       "      <td>1.774290e+05</td>\n",
       "      <td>2016</td>\n",
       "    </tr>\n",
       "    <tr>\n",
       "      <th>2</th>\n",
       "      <td>Tuvalu</td>\n",
       "      <td>TUV</td>\n",
       "      <td>GDP per capita (current US$)</td>\n",
       "      <td>NY.GDP.PCAP.CD</td>\n",
       "      <td>3.083615e+03</td>\n",
       "      <td>2016</td>\n",
       "    </tr>\n",
       "    <tr>\n",
       "      <th>3</th>\n",
       "      <td>Tuvalu</td>\n",
       "      <td>TUV</td>\n",
       "      <td>GDP, PPP (constant 2011 international $)</td>\n",
       "      <td>NY.GDP.MKTP.PP.KD</td>\n",
       "      <td>3.756816e+07</td>\n",
       "      <td>2016</td>\n",
       "    </tr>\n",
       "    <tr>\n",
       "      <th>4</th>\n",
       "      <td>Uganda</td>\n",
       "      <td>UGA</td>\n",
       "      <td>Population of the official age for lower secon...</td>\n",
       "      <td>SP.SEC.LTOT.IN</td>\n",
       "      <td>3.968289e+06</td>\n",
       "      <td>2016</td>\n",
       "    </tr>\n",
       "  </tbody>\n",
       "</table>\n",
       "</div>"
      ],
      "text/plain": [
       "  country_name country_code  \\\n",
       "0      Georgia          GEO   \n",
       "1       Guinea          GIN   \n",
       "2       Tuvalu          TUV   \n",
       "3       Tuvalu          TUV   \n",
       "4       Uganda          UGA   \n",
       "\n",
       "                                      indicator_name     indicator_code  \\\n",
       "0                       Population, ages 0-14, total     SP.POP.0014.TO   \n",
       "1  Population of the official entrance age to pri...     UIS.SAP.1.G1.M   \n",
       "2                       GDP per capita (current US$)     NY.GDP.PCAP.CD   \n",
       "3           GDP, PPP (constant 2011 international $)  NY.GDP.MKTP.PP.KD   \n",
       "4  Population of the official age for lower secon...     SP.SEC.LTOT.IN   \n",
       "\n",
       "          value  year  \n",
       "0  7.047280e+05  2016  \n",
       "1  1.774290e+05  2016  \n",
       "2  3.083615e+03  2016  \n",
       "3  3.756816e+07  2016  \n",
       "4  3.968289e+06  2016  "
      ]
     },
     "execution_count": 2,
     "metadata": {},
     "output_type": "execute_result"
    }
   ],
   "source": [
    "from google.cloud import bigquery\n",
    "\n",
    "# Create a \"Client\" object\n",
    "client = bigquery.Client()\n",
    "\n",
    "# Construct a reference to the \"world_bank_intl_education\" dataset\n",
    "dataset_ref = client.dataset(\"world_bank_intl_education\", project=\"bigquery-public-data\")\n",
    "\n",
    "# API request - fetch the dataset\n",
    "dataset = client.get_dataset(dataset_ref)\n",
    "\n",
    "# Construct a reference to the \"international_education\" table\n",
    "table_ref = dataset_ref.table(\"international_education\")\n",
    "\n",
    "# API request - fetch the table\n",
    "table = client.get_table(table_ref)\n",
    "\n",
    "# Preview the first five lines of the \"international_education\" table\n",
    "client.list_rows(table, max_results=5).to_dataframe()"
   ]
  },
  {
   "cell_type": "markdown",
   "id": "498af632",
   "metadata": {
    "papermill": {
     "duration": 0.012425,
     "end_time": "2021-08-13T09:02:49.618667",
     "exception": false,
     "start_time": "2021-08-13T09:02:49.606242",
     "status": "completed"
    },
    "tags": []
   },
   "source": [
    "# Exercises\n",
    "\n",
    "The value in the `indicator_code` column describes what type of data is shown in a given row.  \n",
    "\n",
    "One interesting indicator code is `SE.XPD.TOTL.GD.ZS`, which corresponds to \"Government expenditure on education as % of GDP (%)\".\n",
    "\n",
    "### 1) Government expenditure on education\n",
    "\n",
    "Which countries spend the largest fraction of GDP on education?  \n",
    "\n",
    "To answer this question, consider only the rows in the dataset corresponding to indicator code `SE.XPD.TOTL.GD.ZS`, and write a query that returns the average value in the `value` column for each country in the dataset between the years 2010-2017 (including 2010 and 2017 in the average). \n",
    "\n",
    "Requirements:\n",
    "- Your results should have the country name rather than the country code. You will have one row for each country.\n",
    "- The aggregate function for average is **AVG()**.  Use the name `avg_ed_spending_pct` for the column created by this aggregation.\n",
    "- Order the results so the countries that spend the largest fraction of GDP on education show up first.\n",
    "\n",
    "In case it's useful to see a sample query, here's a query you saw in the tutorial (using a different dataset):\n",
    "```\n",
    "# Query to find out the number of accidents for each day of the week\n",
    "query = \"\"\"\n",
    "        SELECT COUNT(consecutive_number) AS num_accidents, \n",
    "               EXTRACT(DAYOFWEEK FROM timestamp_of_crash) AS day_of_week\n",
    "        FROM `bigquery-public-data.nhtsa_traffic_fatalities.accident_2015`\n",
    "        GROUP BY day_of_week\n",
    "        ORDER BY num_accidents DESC\n",
    "        \"\"\"\n",
    "```"
   ]
  },
  {
   "cell_type": "code",
   "execution_count": 3,
   "id": "d61eaab1",
   "metadata": {
    "execution": {
     "iopub.execute_input": "2021-08-13T09:02:49.647380Z",
     "iopub.status.busy": "2021-08-13T09:02:49.646722Z",
     "iopub.status.idle": "2021-08-13T09:02:50.673310Z",
     "shell.execute_reply": "2021-08-13T09:02:50.673898Z",
     "shell.execute_reply.started": "2021-08-13T08:48:01.856025Z"
    },
    "papermill": {
     "duration": 1.04258,
     "end_time": "2021-08-13T09:02:50.674062",
     "exception": false,
     "start_time": "2021-08-13T09:02:49.631482",
     "status": "completed"
    },
    "tags": []
   },
   "outputs": [
    {
     "name": "stderr",
     "output_type": "stream",
     "text": [
      "/opt/conda/lib/python3.7/site-packages/google/cloud/bigquery/client.py:440: UserWarning: Cannot create BigQuery Storage client, the dependency google-cloud-bigquery-storage is not installed.\n",
      "  \"Cannot create BigQuery Storage client, the dependency \"\n"
     ]
    },
    {
     "name": "stdout",
     "output_type": "stream",
     "text": [
      "            country_name  avg_ed_spending_pct\n",
      "0                   Cuba            12.837270\n",
      "1  Micronesia, Fed. Sts.            12.467750\n",
      "2        Solomon Islands            10.001080\n",
      "3                Moldova             8.372153\n",
      "4                Namibia             8.349610\n"
     ]
    },
    {
     "data": {
      "application/javascript": [
       "parent.postMessage({\"jupyterEvent\": \"custom.exercise_interaction\", \"data\": {\"outcomeType\": 1, \"valueTowardsCompletion\": 0.5, \"interactionType\": 1, \"questionType\": 2, \"questionId\": \"1_EducationSpending\", \"learnToolsVersion\": \"0.3.4\", \"failureMessage\": \"\", \"exceptionClass\": \"\", \"trace\": \"\"}}, \"*\")"
      ],
      "text/plain": [
       "<IPython.core.display.Javascript object>"
      ]
     },
     "metadata": {},
     "output_type": "display_data"
    },
    {
     "data": {
      "text/markdown": [
       "<span style=\"color:#33cc33\">Correct</span>"
      ],
      "text/plain": [
       "Correct"
      ]
     },
     "metadata": {},
     "output_type": "display_data"
    }
   ],
   "source": [
    "# Your code goes here\n",
    "country_spend_pct_query = \"\"\"\n",
    "                          SELECT country_name, AVG(value) AS avg_ed_spending_pct\n",
    "                          FROM `bigquery-public-data.world_bank_intl_education.international_education`\n",
    "                          WHERE indicator_code='SE.XPD.TOTL.GD.ZS' and year >= 2010 and year <= 2017\n",
    "                          GROUP BY country_name\n",
    "                          ORDER BY avg_ed_spending_pct DESC\n",
    "                          \"\"\"\n",
    "\n",
    "# Set up the query (cancel the query if it would use too much of \n",
    "# your quota, with the limit set to 1 GB)\n",
    "safe_config = bigquery.QueryJobConfig(maximum_bytes_billed=10**10)\n",
    "country_spend_pct_query_job = client.query(country_spend_pct_query, job_config=safe_config)\n",
    "\n",
    "# API request - run the query, and return a pandas DataFrame\n",
    "country_spending_results = country_spend_pct_query_job.to_dataframe()\n",
    "\n",
    "# View top few rows of results\n",
    "print(country_spending_results.head())\n",
    "\n",
    "# Check your answer\n",
    "q_1.check()"
   ]
  },
  {
   "cell_type": "markdown",
   "id": "84d04d06",
   "metadata": {
    "papermill": {
     "duration": 0.014429,
     "end_time": "2021-08-13T09:02:50.702987",
     "exception": false,
     "start_time": "2021-08-13T09:02:50.688558",
     "status": "completed"
    },
    "tags": []
   },
   "source": [
    "For a hint or the solution, uncomment the appropriate line below."
   ]
  },
  {
   "cell_type": "code",
   "execution_count": 4,
   "id": "edea6518",
   "metadata": {
    "execution": {
     "iopub.execute_input": "2021-08-13T09:02:50.735182Z",
     "iopub.status.busy": "2021-08-13T09:02:50.734244Z",
     "iopub.status.idle": "2021-08-13T09:02:50.737792Z",
     "shell.execute_reply": "2021-08-13T09:02:50.738268Z",
     "shell.execute_reply.started": "2021-08-13T08:47:58.269738Z"
    },
    "papermill": {
     "duration": 0.021167,
     "end_time": "2021-08-13T09:02:50.738450",
     "exception": false,
     "start_time": "2021-08-13T09:02:50.717283",
     "status": "completed"
    },
    "tags": []
   },
   "outputs": [],
   "source": [
    "#q_1.hint()\n",
    "#q_1.solution()"
   ]
  },
  {
   "cell_type": "markdown",
   "id": "859346dd",
   "metadata": {
    "papermill": {
     "duration": 0.01525,
     "end_time": "2021-08-13T09:02:50.768562",
     "exception": false,
     "start_time": "2021-08-13T09:02:50.753312",
     "status": "completed"
    },
    "tags": []
   },
   "source": [
    "### 2) Identify interesting codes to explore\n",
    "\n",
    "The last question started by telling you to focus on rows with the code `SE.XPD.TOTL.GD.ZS`. But how would you find more interesting indicator codes to explore?\n",
    "\n",
    "There are 1000s of codes in the dataset, so it would be time consuming to review them all. But many codes are available for only a few countries. When browsing the options for different codes, you might restrict yourself to codes that are reported by many countries.\n",
    "\n",
    "Write a query below that selects the indicator code and indicator name for all codes with at least 175 rows in the year 2016.\n",
    "\n",
    "Requirements:\n",
    "- You should have one row for each indicator code.\n",
    "- The columns in your results should be called `indicator_code`, `indicator_name`, and `num_rows`.\n",
    "- Only select codes with 175 or more rows in the raw database (exactly 175 rows would be included).\n",
    "- To get both the `indicator_code` and `indicator_name` in your resulting DataFrame, you need to include both in your **SELECT** statement (in addition to a **COUNT()** aggregation). This requires you to include both in your **GROUP BY** clause.\n",
    "- Order from results most frequent to least frequent."
   ]
  },
  {
   "cell_type": "code",
   "execution_count": 5,
   "id": "c10f9da4",
   "metadata": {
    "execution": {
     "iopub.execute_input": "2021-08-13T09:02:50.802536Z",
     "iopub.status.busy": "2021-08-13T09:02:50.801518Z",
     "iopub.status.idle": "2021-08-13T09:02:51.859121Z",
     "shell.execute_reply": "2021-08-13T09:02:51.858560Z",
     "shell.execute_reply.started": "2021-08-13T08:55:48.024268Z"
    },
    "papermill": {
     "duration": 1.076297,
     "end_time": "2021-08-13T09:02:51.859293",
     "exception": false,
     "start_time": "2021-08-13T09:02:50.782996",
     "status": "completed"
    },
    "tags": []
   },
   "outputs": [
    {
     "name": "stderr",
     "output_type": "stream",
     "text": [
      "/opt/conda/lib/python3.7/site-packages/google/cloud/bigquery/client.py:440: UserWarning: Cannot create BigQuery Storage client, the dependency google-cloud-bigquery-storage is not installed.\n",
      "  \"Cannot create BigQuery Storage client, the dependency \"\n"
     ]
    },
    {
     "name": "stdout",
     "output_type": "stream",
     "text": [
      "      indicator_code                   indicator_name  num_rows\n",
      "0        SP.POP.GROW     Population growth (annual %)       232\n",
      "1        SP.POP.TOTL                Population, total       232\n",
      "2     IT.NET.USER.P2  Internet users (per 100 people)       223\n",
      "3     SP.POP.0014.TO     Population, ages 0-14, total       213\n",
      "4  SP.POP.TOTL.MA.ZS    Population, male (% of total)       213\n"
     ]
    },
    {
     "data": {
      "application/javascript": [
       "parent.postMessage({\"jupyterEvent\": \"custom.exercise_interaction\", \"data\": {\"outcomeType\": 1, \"valueTowardsCompletion\": 0.5, \"interactionType\": 1, \"questionType\": 2, \"questionId\": \"2_FindInterestingCodes\", \"learnToolsVersion\": \"0.3.4\", \"failureMessage\": \"\", \"exceptionClass\": \"\", \"trace\": \"\"}}, \"*\")"
      ],
      "text/plain": [
       "<IPython.core.display.Javascript object>"
      ]
     },
     "metadata": {},
     "output_type": "display_data"
    },
    {
     "data": {
      "text/markdown": [
       "<span style=\"color:#33cc33\">Correct</span>"
      ],
      "text/plain": [
       "Correct"
      ]
     },
     "metadata": {},
     "output_type": "display_data"
    }
   ],
   "source": [
    "# Your code goes here\n",
    "code_count_query = \"\"\"\n",
    "                    SELECT indicator_code, indicator_name, COUNT(1) AS num_rows\n",
    "                    FROM `bigquery-public-data.world_bank_intl_education.international_education`\n",
    "                    WHERE year=2016\n",
    "                    GROUP BY indicator_name, indicator_code\n",
    "                    HAVING COUNT(1)>=175\n",
    "                    ORDER BY COUNT(1) DESC\n",
    "                    \"\"\"\n",
    "\n",
    "# Set up the query\n",
    "safe_config = bigquery.QueryJobConfig(maximum_bytes_billed=10**10)\n",
    "code_count_query_job = client.query(code_count_query, job_config=safe_config)\n",
    "\n",
    "# API request - run the query, and return a pandas DataFrame\n",
    "code_count_results = code_count_query_job.to_dataframe()\n",
    "\n",
    "# View top few rows of results\n",
    "print(code_count_results.head())\n",
    "\n",
    "# Check your answer\n",
    "q_2.check()"
   ]
  },
  {
   "cell_type": "markdown",
   "id": "49594bb1",
   "metadata": {
    "papermill": {
     "duration": 0.015847,
     "end_time": "2021-08-13T09:02:51.891409",
     "exception": false,
     "start_time": "2021-08-13T09:02:51.875562",
     "status": "completed"
    },
    "tags": []
   },
   "source": [
    "For a hint or the solution, uncomment the appropriate line below."
   ]
  },
  {
   "cell_type": "code",
   "execution_count": 6,
   "id": "3432e9b9",
   "metadata": {
    "execution": {
     "iopub.execute_input": "2021-08-13T09:02:51.927941Z",
     "iopub.status.busy": "2021-08-13T09:02:51.927277Z",
     "iopub.status.idle": "2021-08-13T09:02:51.930291Z",
     "shell.execute_reply": "2021-08-13T09:02:51.929790Z",
     "shell.execute_reply.started": "2021-08-13T08:56:02.338360Z"
    },
    "papermill": {
     "duration": 0.022875,
     "end_time": "2021-08-13T09:02:51.930433",
     "exception": false,
     "start_time": "2021-08-13T09:02:51.907558",
     "status": "completed"
    },
    "tags": []
   },
   "outputs": [],
   "source": [
    "#q_2.hint()\n",
    "#q_2.solution()"
   ]
  },
  {
   "cell_type": "markdown",
   "id": "ca36c0eb",
   "metadata": {
    "papermill": {
     "duration": 0.016136,
     "end_time": "2021-08-13T09:02:51.962918",
     "exception": false,
     "start_time": "2021-08-13T09:02:51.946782",
     "status": "completed"
    },
    "tags": []
   },
   "source": [
    "# Keep Going\n",
    "**[Click here](https://www.kaggle.com/dansbecker/as-with)** to learn how to use **AS** and **WITH** to clean up your code and help you construct more complex queries."
   ]
  },
  {
   "cell_type": "markdown",
   "id": "4ef394f3",
   "metadata": {
    "papermill": {
     "duration": 0.015991,
     "end_time": "2021-08-13T09:02:51.995030",
     "exception": false,
     "start_time": "2021-08-13T09:02:51.979039",
     "status": "completed"
    },
    "tags": []
   },
   "source": [
    "---\n",
    "\n",
    "\n",
    "\n",
    "\n",
    "*Have questions or comments? Visit the [Learn Discussion forum](https://www.kaggle.com/learn-forum/161314) to chat with other Learners.*"
   ]
  }
 ],
 "metadata": {
  "kernelspec": {
   "display_name": "Python 3",
   "language": "python",
   "name": "python3"
  },
  "language_info": {
   "codemirror_mode": {
    "name": "ipython",
    "version": 3
   },
   "file_extension": ".py",
   "mimetype": "text/x-python",
   "name": "python",
   "nbconvert_exporter": "python",
   "pygments_lexer": "ipython3",
   "version": "3.7.10"
  },
  "papermill": {
   "default_parameters": {},
   "duration": 15.465849,
   "end_time": "2021-08-13T09:02:52.721534",
   "environment_variables": {},
   "exception": null,
   "input_path": "__notebook__.ipynb",
   "output_path": "__notebook__.ipynb",
   "parameters": {},
   "start_time": "2021-08-13T09:02:37.255685",
   "version": "2.3.3"
  }
 },
 "nbformat": 4,
 "nbformat_minor": 5
}
