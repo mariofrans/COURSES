{
 "cells": [
  {
   "cell_type": "markdown",
   "id": "relevant-independence",
   "metadata": {
    "papermill": {
     "duration": 0.019608,
     "end_time": "2021-06-04T13:14:28.745457",
     "exception": false,
     "start_time": "2021-06-04T13:14:28.725849",
     "status": "completed"
    },
    "tags": []
   },
   "source": [
    "# Introduction\n",
    "\n",
    "Now that you know how to access and examine a dataset, you're ready to write your first SQL query!  As you'll soon see, SQL queries will help you sort through a massive dataset, to retrieve only the information that you need.  \n",
    "\n",
    "We'll begin by using the keywords **SELECT**, **FROM**, and **WHERE** to get data from specific columns based on conditions you specify. \n",
    "\n",
    "For clarity, we'll work with a small imaginary dataset `pet_records` which contains just one table, called `pets`. \n",
    "\n",
    "![](https://i.imgur.com/fI5Pvvp.png)\n",
    "\n",
    "# SELECT ... FROM\n",
    "\n",
    "The most basic SQL query selects a single column from a single table.  To do this, \n",
    "- specify the column you want after the word **SELECT**, and then \n",
    "- specify the table after the word **FROM**.  \n",
    "\n",
    "For instance, to select the `Name` column (from the `pets` table in the `pet_records` database in the `bigquery-public-data` project), our query would appear as follows:  \n",
    "\n",
    "![](https://i.imgur.com/c3GxYRt.png)\n",
    "\n",
    "Note that when writing an SQL query, the argument we pass to **FROM** is *not* in single or double quotation marks (' or \"). It is in backticks (\\`).\n",
    "\n",
    "# WHERE ...\n",
    "\n",
    "BigQuery datasets are large, so you'll usually want to return only the rows meeting specific conditions. You can do this using the **WHERE** clause.\n",
    "\n",
    "The query below returns the entries from the `Name` column that are in rows where the `Animal` column has the text `'Cat'`. \n",
    "\n",
    "![](https://i.imgur.com/HJOT8Kb.png)"
   ]
  },
  {
   "cell_type": "markdown",
   "id": "supposed-conflict",
   "metadata": {
    "papermill": {
     "duration": 0.016347,
     "end_time": "2021-06-04T13:14:28.781583",
     "exception": false,
     "start_time": "2021-06-04T13:14:28.765236",
     "status": "completed"
    },
    "tags": []
   },
   "source": [
    "# Example: What are all the U.S. cities in the OpenAQ dataset?\n",
    "\n",
    "Now that you've got the basics down, let's work through an example with a real dataset. We'll use an [OpenAQ](https://openaq.org) dataset about air quality.\n",
    "\n",
    "First, we'll set up everything we need to run queries and take a quick peek at what tables are in our database.  (_Since you learned how to do this in the previous tutorial, we have hidden the code.  But if you'd like to take a peek, you need only click on the \"Code\" button below._)"
   ]
  },
  {
   "cell_type": "code",
   "execution_count": 1,
   "id": "innovative-softball",
   "metadata": {
    "_kg_hide-input": true,
    "execution": {
     "iopub.execute_input": "2021-06-04T13:14:28.819313Z",
     "iopub.status.busy": "2021-06-04T13:14:28.818140Z",
     "iopub.status.idle": "2021-06-04T13:14:29.318594Z",
     "shell.execute_reply": "2021-06-04T13:14:29.317945Z"
    },
    "papermill": {
     "duration": 0.520539,
     "end_time": "2021-06-04T13:14:29.318785",
     "exception": false,
     "start_time": "2021-06-04T13:14:28.798246",
     "status": "completed"
    },
    "tags": []
   },
   "outputs": [
    {
     "name": "stdout",
     "output_type": "stream",
     "text": [
      "Using Kaggle's public dataset BigQuery integration.\n",
      "global_air_quality\n"
     ]
    }
   ],
   "source": [
    "\n",
    "from google.cloud import bigquery\n",
    "\n",
    "# Create a \"Client\" object\n",
    "client = bigquery.Client()\n",
    "\n",
    "# Construct a reference to the \"openaq\" dataset\n",
    "dataset_ref = client.dataset(\"openaq\", project=\"bigquery-public-data\")\n",
    "\n",
    "# API request - fetch the dataset\n",
    "dataset = client.get_dataset(dataset_ref)\n",
    "\n",
    "# List all the tables in the \"openaq\" dataset\n",
    "tables = list(client.list_tables(dataset))\n",
    "\n",
    "# Print names of all tables in the dataset (there's only one!)\n",
    "for table in tables:  \n",
    "    print(table.table_id)"
   ]
  },
  {
   "cell_type": "markdown",
   "id": "political-lecture",
   "metadata": {
    "papermill": {
     "duration": 0.01687,
     "end_time": "2021-06-04T13:14:29.353310",
     "exception": false,
     "start_time": "2021-06-04T13:14:29.336440",
     "status": "completed"
    },
    "tags": []
   },
   "source": [
    "The dataset contains only one table, called `global_air_quality`.  We'll fetch the table and take a peek at the first few rows to see what sort of data it contains.  (_Again, we have hidden the code.  To take a peek, click on the \"Code\" button below._)"
   ]
  },
  {
   "cell_type": "code",
   "execution_count": 2,
   "id": "eastern-termination",
   "metadata": {
    "_kg_hide-input": true,
    "execution": {
     "iopub.execute_input": "2021-06-04T13:14:29.396015Z",
     "iopub.status.busy": "2021-06-04T13:14:29.395344Z",
     "iopub.status.idle": "2021-06-04T13:14:30.073152Z",
     "shell.execute_reply": "2021-06-04T13:14:30.072562Z"
    },
    "papermill": {
     "duration": 0.702402,
     "end_time": "2021-06-04T13:14:30.073295",
     "exception": false,
     "start_time": "2021-06-04T13:14:29.370893",
     "status": "completed"
    },
    "tags": []
   },
   "outputs": [
    {
     "name": "stderr",
     "output_type": "stream",
     "text": [
      "/opt/conda/lib/python3.7/site-packages/ipykernel_launcher.py:8: UserWarning: Cannot use bqstorage_client if max_results is set, reverting to fetching data with the tabledata.list endpoint.\n",
      "  \n"
     ]
    },
    {
     "data": {
      "text/html": [
       "<div>\n",
       "<style scoped>\n",
       "    .dataframe tbody tr th:only-of-type {\n",
       "        vertical-align: middle;\n",
       "    }\n",
       "\n",
       "    .dataframe tbody tr th {\n",
       "        vertical-align: top;\n",
       "    }\n",
       "\n",
       "    .dataframe thead th {\n",
       "        text-align: right;\n",
       "    }\n",
       "</style>\n",
       "<table border=\"1\" class=\"dataframe\">\n",
       "  <thead>\n",
       "    <tr style=\"text-align: right;\">\n",
       "      <th></th>\n",
       "      <th>location</th>\n",
       "      <th>city</th>\n",
       "      <th>country</th>\n",
       "      <th>pollutant</th>\n",
       "      <th>value</th>\n",
       "      <th>timestamp</th>\n",
       "      <th>unit</th>\n",
       "      <th>source_name</th>\n",
       "      <th>latitude</th>\n",
       "      <th>longitude</th>\n",
       "      <th>averaged_over_in_hours</th>\n",
       "    </tr>\n",
       "  </thead>\n",
       "  <tbody>\n",
       "    <tr>\n",
       "      <th>0</th>\n",
       "      <td>BTM Layout, Bengaluru - KSPCB</td>\n",
       "      <td>Bengaluru</td>\n",
       "      <td>IN</td>\n",
       "      <td>co</td>\n",
       "      <td>910.00</td>\n",
       "      <td>2018-02-22 03:00:00+00:00</td>\n",
       "      <td>µg/m³</td>\n",
       "      <td>CPCB</td>\n",
       "      <td>12.912811</td>\n",
       "      <td>77.60922</td>\n",
       "      <td>0.25</td>\n",
       "    </tr>\n",
       "    <tr>\n",
       "      <th>1</th>\n",
       "      <td>BTM Layout, Bengaluru - KSPCB</td>\n",
       "      <td>Bengaluru</td>\n",
       "      <td>IN</td>\n",
       "      <td>no2</td>\n",
       "      <td>131.87</td>\n",
       "      <td>2018-02-22 03:00:00+00:00</td>\n",
       "      <td>µg/m³</td>\n",
       "      <td>CPCB</td>\n",
       "      <td>12.912811</td>\n",
       "      <td>77.60922</td>\n",
       "      <td>0.25</td>\n",
       "    </tr>\n",
       "    <tr>\n",
       "      <th>2</th>\n",
       "      <td>BTM Layout, Bengaluru - KSPCB</td>\n",
       "      <td>Bengaluru</td>\n",
       "      <td>IN</td>\n",
       "      <td>o3</td>\n",
       "      <td>15.57</td>\n",
       "      <td>2018-02-22 03:00:00+00:00</td>\n",
       "      <td>µg/m³</td>\n",
       "      <td>CPCB</td>\n",
       "      <td>12.912811</td>\n",
       "      <td>77.60922</td>\n",
       "      <td>0.25</td>\n",
       "    </tr>\n",
       "    <tr>\n",
       "      <th>3</th>\n",
       "      <td>BTM Layout, Bengaluru - KSPCB</td>\n",
       "      <td>Bengaluru</td>\n",
       "      <td>IN</td>\n",
       "      <td>pm25</td>\n",
       "      <td>45.62</td>\n",
       "      <td>2018-02-22 03:00:00+00:00</td>\n",
       "      <td>µg/m³</td>\n",
       "      <td>CPCB</td>\n",
       "      <td>12.912811</td>\n",
       "      <td>77.60922</td>\n",
       "      <td>0.25</td>\n",
       "    </tr>\n",
       "    <tr>\n",
       "      <th>4</th>\n",
       "      <td>BTM Layout, Bengaluru - KSPCB</td>\n",
       "      <td>Bengaluru</td>\n",
       "      <td>IN</td>\n",
       "      <td>so2</td>\n",
       "      <td>4.49</td>\n",
       "      <td>2018-02-22 03:00:00+00:00</td>\n",
       "      <td>µg/m³</td>\n",
       "      <td>CPCB</td>\n",
       "      <td>12.912811</td>\n",
       "      <td>77.60922</td>\n",
       "      <td>0.25</td>\n",
       "    </tr>\n",
       "  </tbody>\n",
       "</table>\n",
       "</div>"
      ],
      "text/plain": [
       "                        location       city country pollutant   value  \\\n",
       "0  BTM Layout, Bengaluru - KSPCB  Bengaluru      IN        co  910.00   \n",
       "1  BTM Layout, Bengaluru - KSPCB  Bengaluru      IN       no2  131.87   \n",
       "2  BTM Layout, Bengaluru - KSPCB  Bengaluru      IN        o3   15.57   \n",
       "3  BTM Layout, Bengaluru - KSPCB  Bengaluru      IN      pm25   45.62   \n",
       "4  BTM Layout, Bengaluru - KSPCB  Bengaluru      IN       so2    4.49   \n",
       "\n",
       "                  timestamp   unit source_name   latitude  longitude  \\\n",
       "0 2018-02-22 03:00:00+00:00  µg/m³        CPCB  12.912811   77.60922   \n",
       "1 2018-02-22 03:00:00+00:00  µg/m³        CPCB  12.912811   77.60922   \n",
       "2 2018-02-22 03:00:00+00:00  µg/m³        CPCB  12.912811   77.60922   \n",
       "3 2018-02-22 03:00:00+00:00  µg/m³        CPCB  12.912811   77.60922   \n",
       "4 2018-02-22 03:00:00+00:00  µg/m³        CPCB  12.912811   77.60922   \n",
       "\n",
       "   averaged_over_in_hours  \n",
       "0                    0.25  \n",
       "1                    0.25  \n",
       "2                    0.25  \n",
       "3                    0.25  \n",
       "4                    0.25  "
      ]
     },
     "execution_count": 2,
     "metadata": {},
     "output_type": "execute_result"
    }
   ],
   "source": [
    "\n",
    "# Construct a reference to the \"global_air_quality\" table\n",
    "table_ref = dataset_ref.table(\"global_air_quality\")\n",
    "\n",
    "# API request - fetch the table\n",
    "table = client.get_table(table_ref)\n",
    "\n",
    "# Preview the first five lines of the \"global_air_quality\" table\n",
    "client.list_rows(table, max_results=5).to_dataframe()"
   ]
  },
  {
   "cell_type": "markdown",
   "id": "later-peoples",
   "metadata": {
    "papermill": {
     "duration": 0.018677,
     "end_time": "2021-06-04T13:14:30.112378",
     "exception": false,
     "start_time": "2021-06-04T13:14:30.093701",
     "status": "completed"
    },
    "tags": []
   },
   "source": [
    "Everything looks good! So, let's put together a query. Say we want to select all the values from the `city` column that are in rows where the `country` column is `'US'` (for \"United States\")."
   ]
  },
  {
   "cell_type": "code",
   "execution_count": 3,
   "id": "intelligent-socket",
   "metadata": {
    "execution": {
     "iopub.execute_input": "2021-06-04T13:14:30.154772Z",
     "iopub.status.busy": "2021-06-04T13:14:30.154073Z",
     "iopub.status.idle": "2021-06-04T13:14:30.157015Z",
     "shell.execute_reply": "2021-06-04T13:14:30.156450Z"
    },
    "papermill": {
     "duration": 0.025496,
     "end_time": "2021-06-04T13:14:30.157150",
     "exception": false,
     "start_time": "2021-06-04T13:14:30.131654",
     "status": "completed"
    },
    "tags": []
   },
   "outputs": [],
   "source": [
    "# Query to select all the items from the \"city\" column where the \"country\" column is 'US'\n",
    "query = \"\"\"\n",
    "        SELECT city\n",
    "        FROM `bigquery-public-data.openaq.global_air_quality`\n",
    "        WHERE country = 'US'\n",
    "        \"\"\""
   ]
  },
  {
   "cell_type": "markdown",
   "id": "stainless-hammer",
   "metadata": {
    "papermill": {
     "duration": 0.018335,
     "end_time": "2021-06-04T13:14:30.193760",
     "exception": false,
     "start_time": "2021-06-04T13:14:30.175425",
     "status": "completed"
    },
    "tags": []
   },
   "source": [
    "Take the time now to ensure that this query lines up with what you learned above.  \n",
    "\n",
    "# Submitting the query to the dataset\n",
    "\n",
    "We're ready to use this query to get information from the OpenAQ dataset.  As in the previous tutorial, the first step is to create a [`Client`](https://google-cloud.readthedocs.io/en/latest/bigquery/generated/google.cloud.bigquery.client.Client.html#google.cloud.bigquery.client.Client) object."
   ]
  },
  {
   "cell_type": "code",
   "execution_count": 4,
   "id": "retired-colorado",
   "metadata": {
    "execution": {
     "iopub.execute_input": "2021-06-04T13:14:30.235466Z",
     "iopub.status.busy": "2021-06-04T13:14:30.234859Z",
     "iopub.status.idle": "2021-06-04T13:14:30.238589Z",
     "shell.execute_reply": "2021-06-04T13:14:30.238099Z"
    },
    "papermill": {
     "duration": 0.026759,
     "end_time": "2021-06-04T13:14:30.238744",
     "exception": false,
     "start_time": "2021-06-04T13:14:30.211985",
     "status": "completed"
    },
    "tags": []
   },
   "outputs": [
    {
     "name": "stdout",
     "output_type": "stream",
     "text": [
      "Using Kaggle's public dataset BigQuery integration.\n"
     ]
    }
   ],
   "source": [
    "# Create a \"Client\" object\n",
    "client = bigquery.Client()"
   ]
  },
  {
   "cell_type": "markdown",
   "id": "timely-orientation",
   "metadata": {
    "papermill": {
     "duration": 0.018559,
     "end_time": "2021-06-04T13:14:30.276074",
     "exception": false,
     "start_time": "2021-06-04T13:14:30.257515",
     "status": "completed"
    },
    "tags": []
   },
   "source": [
    "We begin by setting up the query with the [`query()`](https://google-cloud.readthedocs.io/en/latest/bigquery/generated/google.cloud.bigquery.client.Client.query.html#google.cloud.bigquery.client.Client.query) method.  We run the method with the default parameters, but this method also allows us to specify more complicated settings that you can read about in [the documentation](https://google-cloud.readthedocs.io/en/latest/bigquery/generated/google.cloud.bigquery.client.Client.query.html#google.cloud.bigquery.client.Client.query).  We'll revisit this later."
   ]
  },
  {
   "cell_type": "code",
   "execution_count": 5,
   "id": "referenced-light",
   "metadata": {
    "execution": {
     "iopub.execute_input": "2021-06-04T13:14:30.321477Z",
     "iopub.status.busy": "2021-06-04T13:14:30.320828Z",
     "iopub.status.idle": "2021-06-04T13:14:30.800247Z",
     "shell.execute_reply": "2021-06-04T13:14:30.799646Z"
    },
    "papermill": {
     "duration": 0.505247,
     "end_time": "2021-06-04T13:14:30.800388",
     "exception": false,
     "start_time": "2021-06-04T13:14:30.295141",
     "status": "completed"
    },
    "tags": []
   },
   "outputs": [],
   "source": [
    "# Set up the query\n",
    "query_job = client.query(query)"
   ]
  },
  {
   "cell_type": "markdown",
   "id": "sexual-warrior",
   "metadata": {
    "papermill": {
     "duration": 0.019188,
     "end_time": "2021-06-04T13:14:30.839553",
     "exception": false,
     "start_time": "2021-06-04T13:14:30.820365",
     "status": "completed"
    },
    "tags": []
   },
   "source": [
    "Next, we run the query and convert the results to a pandas DataFrame."
   ]
  },
  {
   "cell_type": "code",
   "execution_count": 6,
   "id": "numeric-namibia",
   "metadata": {
    "execution": {
     "iopub.execute_input": "2021-06-04T13:14:30.884765Z",
     "iopub.status.busy": "2021-06-04T13:14:30.883823Z",
     "iopub.status.idle": "2021-06-04T13:14:31.618848Z",
     "shell.execute_reply": "2021-06-04T13:14:31.618152Z"
    },
    "papermill": {
     "duration": 0.760237,
     "end_time": "2021-06-04T13:14:31.618988",
     "exception": false,
     "start_time": "2021-06-04T13:14:30.858751",
     "status": "completed"
    },
    "tags": []
   },
   "outputs": [
    {
     "name": "stderr",
     "output_type": "stream",
     "text": [
      "/opt/conda/lib/python3.7/site-packages/google/cloud/bigquery/client.py:440: UserWarning: Cannot create BigQuery Storage client, the dependency google-cloud-bigquery-storage is not installed.\n",
      "  \"Cannot create BigQuery Storage client, the dependency \"\n"
     ]
    }
   ],
   "source": [
    "# API request - run the query, and return a pandas DataFrame\n",
    "us_cities = query_job.to_dataframe()"
   ]
  },
  {
   "cell_type": "markdown",
   "id": "sexual-grounds",
   "metadata": {
    "papermill": {
     "duration": 0.019393,
     "end_time": "2021-06-04T13:14:31.657764",
     "exception": false,
     "start_time": "2021-06-04T13:14:31.638371",
     "status": "completed"
    },
    "tags": []
   },
   "source": [
    "Now we've got a pandas DataFrame called `us_cities`, which we can use like any other DataFrame."
   ]
  },
  {
   "cell_type": "code",
   "execution_count": 7,
   "id": "numerous-authority",
   "metadata": {
    "execution": {
     "iopub.execute_input": "2021-06-04T13:14:31.706177Z",
     "iopub.status.busy": "2021-06-04T13:14:31.705449Z",
     "iopub.status.idle": "2021-06-04T13:14:31.712107Z",
     "shell.execute_reply": "2021-06-04T13:14:31.712971Z"
    },
    "papermill": {
     "duration": 0.035724,
     "end_time": "2021-06-04T13:14:31.713188",
     "exception": false,
     "start_time": "2021-06-04T13:14:31.677464",
     "status": "completed"
    },
    "tags": []
   },
   "outputs": [
    {
     "data": {
      "text/plain": [
       "Phoenix-Mesa-Scottsdale                     88\n",
       "Houston                                     82\n",
       "Los Angeles-Long Beach-Santa Ana            68\n",
       "Riverside-San Bernardino-Ontario            60\n",
       "New York-Northern New Jersey-Long Island    60\n",
       "Name: city, dtype: int64"
      ]
     },
     "execution_count": 7,
     "metadata": {},
     "output_type": "execute_result"
    }
   ],
   "source": [
    "# What five cities have the most measurements?\n",
    "us_cities.city.value_counts().head()"
   ]
  },
  {
   "cell_type": "markdown",
   "id": "initial-construction",
   "metadata": {
    "papermill": {
     "duration": 0.019349,
     "end_time": "2021-06-04T13:14:31.753421",
     "exception": false,
     "start_time": "2021-06-04T13:14:31.734072",
     "status": "completed"
    },
    "tags": []
   },
   "source": [
    "# More queries\n",
    "\n",
    "If you want multiple columns, you can select them with a comma between the names:"
   ]
  },
  {
   "cell_type": "code",
   "execution_count": 8,
   "id": "opening-maryland",
   "metadata": {
    "execution": {
     "iopub.execute_input": "2021-06-04T13:14:31.805171Z",
     "iopub.status.busy": "2021-06-04T13:14:31.804499Z",
     "iopub.status.idle": "2021-06-04T13:14:31.809088Z",
     "shell.execute_reply": "2021-06-04T13:14:31.809905Z"
    },
    "papermill": {
     "duration": 0.035351,
     "end_time": "2021-06-04T13:14:31.810088",
     "exception": false,
     "start_time": "2021-06-04T13:14:31.774737",
     "status": "completed"
    },
    "tags": []
   },
   "outputs": [],
   "source": [
    "query = \"\"\"\n",
    "        SELECT city, country\n",
    "        FROM `bigquery-public-data.openaq.global_air_quality`\n",
    "        WHERE country = 'US'\n",
    "        \"\"\""
   ]
  },
  {
   "cell_type": "markdown",
   "id": "rotary-hindu",
   "metadata": {
    "papermill": {
     "duration": 0.022337,
     "end_time": "2021-06-04T13:14:31.858170",
     "exception": false,
     "start_time": "2021-06-04T13:14:31.835833",
     "status": "completed"
    },
    "tags": []
   },
   "source": [
    "You can select all columns with a `*` like this:"
   ]
  },
  {
   "cell_type": "code",
   "execution_count": 9,
   "id": "faced-buying",
   "metadata": {
    "execution": {
     "iopub.execute_input": "2021-06-04T13:14:31.908822Z",
     "iopub.status.busy": "2021-06-04T13:14:31.908102Z",
     "iopub.status.idle": "2021-06-04T13:14:31.911659Z",
     "shell.execute_reply": "2021-06-04T13:14:31.911128Z"
    },
    "papermill": {
     "duration": 0.027887,
     "end_time": "2021-06-04T13:14:31.912018",
     "exception": false,
     "start_time": "2021-06-04T13:14:31.884131",
     "status": "completed"
    },
    "tags": []
   },
   "outputs": [],
   "source": [
    "query = \"\"\"\n",
    "        SELECT *\n",
    "        FROM `bigquery-public-data.openaq.global_air_quality`\n",
    "        WHERE country = 'US'\n",
    "        \"\"\""
   ]
  },
  {
   "cell_type": "markdown",
   "id": "downtown-miracle",
   "metadata": {
    "papermill": {
     "duration": 0.019775,
     "end_time": "2021-06-04T13:14:31.953113",
     "exception": false,
     "start_time": "2021-06-04T13:14:31.933338",
     "status": "completed"
    },
    "tags": []
   },
   "source": [
    "# Q&A: Notes on formatting\n",
    "\n",
    "The formatting of the SQL query might feel unfamiliar. If you have any questions, you can ask in the comments section at the bottom of this page.  Here are answers to two common questions:\n",
    "\n",
    "### **Question: What's up with the triple quotation marks (\"\"\")?**\n",
    "\n",
    "_Answer_: These tell Python that everything inside them is a single string, even though we have line breaks in it. The line breaks aren't necessary, but they make it easier to read your query.\n",
    "\n",
    "### **Question: Do you need to capitalize SELECT and FROM?**\n",
    "\n",
    "_Answer_: No, SQL doesn't care about capitalization. However, it's customary to capitalize your SQL commands, and it makes your queries a bit easier to read."
   ]
  },
  {
   "cell_type": "markdown",
   "id": "frank-optics",
   "metadata": {
    "papermill": {
     "duration": 0.019819,
     "end_time": "2021-06-04T13:14:31.992923",
     "exception": false,
     "start_time": "2021-06-04T13:14:31.973104",
     "status": "completed"
    },
    "tags": []
   },
   "source": [
    "# Working with big datasets\n",
    "\n",
    "BigQuery datasets can be huge. We allow you to do a lot of computation for free, but everyone has some limit.\n",
    "\n",
    "**Each Kaggle user can scan 5TB every 30 days for free. Once you hit that limit, you'll have to wait for it to reset.**\n",
    "\n",
    "The [biggest dataset currently on Kaggle](https://www.kaggle.com/github/github-repos) is 3TB, so you can go through your 30-day limit in a couple queries if you aren't careful.\n",
    "\n",
    "Don't worry though: we'll teach you how to avoid scanning too much data at once, so that you don't run over your limit.\n",
    "\n",
    "To begin,you can estimate the size of any query before running it. Here is an example using the (*very large!*) Hacker News dataset. To see how much data a query will scan, we create a `QueryJobConfig` object and set the `dry_run` parameter to `True`."
   ]
  },
  {
   "cell_type": "code",
   "execution_count": 10,
   "id": "elder-citation",
   "metadata": {
    "execution": {
     "iopub.execute_input": "2021-06-04T13:14:32.042780Z",
     "iopub.status.busy": "2021-06-04T13:14:32.042084Z",
     "iopub.status.idle": "2021-06-04T13:14:32.437969Z",
     "shell.execute_reply": "2021-06-04T13:14:32.438504Z"
    },
    "papermill": {
     "duration": 0.425788,
     "end_time": "2021-06-04T13:14:32.438695",
     "exception": false,
     "start_time": "2021-06-04T13:14:32.012907",
     "status": "completed"
    },
    "tags": []
   },
   "outputs": [
    {
     "name": "stdout",
     "output_type": "stream",
     "text": [
      "This query will process 469368445 bytes.\n"
     ]
    }
   ],
   "source": [
    "# Query to get the score column from every row where the type column has value \"job\"\n",
    "query = \"\"\"\n",
    "        SELECT score, title\n",
    "        FROM `bigquery-public-data.hacker_news.full`\n",
    "        WHERE type = \"job\" \n",
    "        \"\"\"\n",
    "\n",
    "# Create a QueryJobConfig object to estimate size of query without running it\n",
    "dry_run_config = bigquery.QueryJobConfig(dry_run=True)\n",
    "\n",
    "# API request - dry run query to estimate costs\n",
    "dry_run_query_job = client.query(query, job_config=dry_run_config)\n",
    "\n",
    "print(\"This query will process {} bytes.\".format(dry_run_query_job.total_bytes_processed))"
   ]
  },
  {
   "cell_type": "markdown",
   "id": "amino-spelling",
   "metadata": {
    "papermill": {
     "duration": 0.02025,
     "end_time": "2021-06-04T13:14:32.479522",
     "exception": false,
     "start_time": "2021-06-04T13:14:32.459272",
     "status": "completed"
    },
    "tags": []
   },
   "source": [
    "You can also specify a parameter when running the query to limit how much data you are willing to scan. Here's an example with a low limit."
   ]
  },
  {
   "cell_type": "code",
   "execution_count": 11,
   "id": "iraqi-enhancement",
   "metadata": {
    "execution": {
     "iopub.execute_input": "2021-06-04T13:14:32.525563Z",
     "iopub.status.busy": "2021-06-04T13:14:32.524893Z",
     "iopub.status.idle": "2021-06-04T13:14:34.646744Z",
     "shell.execute_reply": "2021-06-04T13:14:34.646214Z"
    },
    "papermill": {
     "duration": 2.14674,
     "end_time": "2021-06-04T13:14:34.646890",
     "exception": false,
     "start_time": "2021-06-04T13:14:32.500150",
     "status": "completed"
    },
    "tags": []
   },
   "outputs": [
    {
     "data": {
      "text/html": [
       "<div>\n",
       "<style scoped>\n",
       "    .dataframe tbody tr th:only-of-type {\n",
       "        vertical-align: middle;\n",
       "    }\n",
       "\n",
       "    .dataframe tbody tr th {\n",
       "        vertical-align: top;\n",
       "    }\n",
       "\n",
       "    .dataframe thead th {\n",
       "        text-align: right;\n",
       "    }\n",
       "</style>\n",
       "<table border=\"1\" class=\"dataframe\">\n",
       "  <thead>\n",
       "    <tr style=\"text-align: right;\">\n",
       "      <th></th>\n",
       "      <th>score</th>\n",
       "      <th>title</th>\n",
       "    </tr>\n",
       "  </thead>\n",
       "  <tbody>\n",
       "    <tr>\n",
       "      <th>0</th>\n",
       "      <td>1.0</td>\n",
       "      <td>Chart.io hiring engineer to disrupt enterprise...</td>\n",
       "    </tr>\n",
       "    <tr>\n",
       "      <th>1</th>\n",
       "      <td>1.0</td>\n",
       "      <td>Love front-end technologies? Balanced is looki...</td>\n",
       "    </tr>\n",
       "    <tr>\n",
       "      <th>2</th>\n",
       "      <td>1.0</td>\n",
       "      <td>Designer/UI/UX #1 wanted at Virool</td>\n",
       "    </tr>\n",
       "    <tr>\n",
       "      <th>3</th>\n",
       "      <td>1.0</td>\n",
       "      <td>Standard Treasury (YC S13) Is Hiring</td>\n",
       "    </tr>\n",
       "    <tr>\n",
       "      <th>4</th>\n",
       "      <td>1.0</td>\n",
       "      <td>iCracked (YC W12) is hiring a backend engineer...</td>\n",
       "    </tr>\n",
       "    <tr>\n",
       "      <th>...</th>\n",
       "      <td>...</td>\n",
       "      <td>...</td>\n",
       "    </tr>\n",
       "    <tr>\n",
       "      <th>14073</th>\n",
       "      <td>18.0</td>\n",
       "      <td>Yet Another Javascript Engineer Job Posting (G...</td>\n",
       "    </tr>\n",
       "    <tr>\n",
       "      <th>14074</th>\n",
       "      <td>23.0</td>\n",
       "      <td>Justin.tv is hiring software engineers [SF]</td>\n",
       "    </tr>\n",
       "    <tr>\n",
       "      <th>14075</th>\n",
       "      <td>50.0</td>\n",
       "      <td>Justin.tv is hiring an Ad Integration Engineer</td>\n",
       "    </tr>\n",
       "    <tr>\n",
       "      <th>14076</th>\n",
       "      <td>55.0</td>\n",
       "      <td>Hiring talented hackers with deadly, insatiabl...</td>\n",
       "    </tr>\n",
       "    <tr>\n",
       "      <th>14077</th>\n",
       "      <td>101.0</td>\n",
       "      <td>Posterous is hiring Rails, Infrastructure and ...</td>\n",
       "    </tr>\n",
       "  </tbody>\n",
       "</table>\n",
       "<p>14078 rows × 2 columns</p>\n",
       "</div>"
      ],
      "text/plain": [
       "       score                                              title\n",
       "0        1.0  Chart.io hiring engineer to disrupt enterprise...\n",
       "1        1.0  Love front-end technologies? Balanced is looki...\n",
       "2        1.0                 Designer/UI/UX #1 wanted at Virool\n",
       "3        1.0               Standard Treasury (YC S13) Is Hiring\n",
       "4        1.0  iCracked (YC W12) is hiring a backend engineer...\n",
       "...      ...                                                ...\n",
       "14073   18.0  Yet Another Javascript Engineer Job Posting (G...\n",
       "14074   23.0        Justin.tv is hiring software engineers [SF]\n",
       "14075   50.0     Justin.tv is hiring an Ad Integration Engineer\n",
       "14076   55.0  Hiring talented hackers with deadly, insatiabl...\n",
       "14077  101.0  Posterous is hiring Rails, Infrastructure and ...\n",
       "\n",
       "[14078 rows x 2 columns]"
      ]
     },
     "execution_count": 11,
     "metadata": {},
     "output_type": "execute_result"
    }
   ],
   "source": [
    "# Only run the query if it's less than 1 MB\n",
    "ONE_MB = 1000*1000\n",
    "safe_config = bigquery.QueryJobConfig(maximum_bytes_billed=ONE_MB)\n",
    "\n",
    "# Set up the query (will only run if it's less than 1 MB)\n",
    "safe_query_job = client.query(query, job_config=safe_config)\n",
    "\n",
    "# API request - try to run the query, and return a pandas DataFrame\n",
    "safe_query_job.to_dataframe()"
   ]
  },
  {
   "cell_type": "markdown",
   "id": "palestinian-deployment",
   "metadata": {
    "papermill": {
     "duration": 0.021359,
     "end_time": "2021-06-04T13:14:34.689616",
     "exception": false,
     "start_time": "2021-06-04T13:14:34.668257",
     "status": "completed"
    },
    "tags": []
   },
   "source": [
    "In this case, the query was cancelled, because the limit of 1 MB was exceeded.  However, we can increase the limit to run the query successfully!"
   ]
  },
  {
   "cell_type": "code",
   "execution_count": 12,
   "id": "right-oliver",
   "metadata": {
    "execution": {
     "iopub.execute_input": "2021-06-04T13:14:34.742226Z",
     "iopub.status.busy": "2021-06-04T13:14:34.741517Z",
     "iopub.status.idle": "2021-06-04T13:14:37.719679Z",
     "shell.execute_reply": "2021-06-04T13:14:37.719134Z"
    },
    "papermill": {
     "duration": 3.007728,
     "end_time": "2021-06-04T13:14:37.719828",
     "exception": false,
     "start_time": "2021-06-04T13:14:34.712100",
     "status": "completed"
    },
    "tags": []
   },
   "outputs": [
    {
     "name": "stderr",
     "output_type": "stream",
     "text": [
      "/opt/conda/lib/python3.7/site-packages/google/cloud/bigquery/client.py:440: UserWarning: Cannot create BigQuery Storage client, the dependency google-cloud-bigquery-storage is not installed.\n",
      "  \"Cannot create BigQuery Storage client, the dependency \"\n"
     ]
    },
    {
     "data": {
      "text/plain": [
       "1.8210393654088517"
      ]
     },
     "execution_count": 12,
     "metadata": {},
     "output_type": "execute_result"
    }
   ],
   "source": [
    "# Only run the query if it's less than 1 GB\n",
    "ONE_GB = 1000*1000*1000\n",
    "safe_config = bigquery.QueryJobConfig(maximum_bytes_billed=ONE_GB)\n",
    "\n",
    "# Set up the query (will only run if it's less than 1 GB)\n",
    "safe_query_job = client.query(query, job_config=safe_config)\n",
    "\n",
    "# API request - try to run the query, and return a pandas DataFrame\n",
    "job_post_scores = safe_query_job.to_dataframe()\n",
    "\n",
    "# Print average score for job posts\n",
    "job_post_scores.score.mean()"
   ]
  },
  {
   "cell_type": "markdown",
   "id": "monthly-shell",
   "metadata": {
    "papermill": {
     "duration": 0.021683,
     "end_time": "2021-06-04T13:14:37.763673",
     "exception": false,
     "start_time": "2021-06-04T13:14:37.741990",
     "status": "completed"
    },
    "tags": []
   },
   "source": [
    "# Your turn\n",
    "\n",
    "Writing **SELECT** statements is the key to using SQL. So **[try your new skills](https://www.kaggle.com/kernels/fork/681989)**!\n"
   ]
  },
  {
   "cell_type": "markdown",
   "id": "taken-yesterday",
   "metadata": {
    "papermill": {
     "duration": 0.023994,
     "end_time": "2021-06-04T13:14:37.809662",
     "exception": false,
     "start_time": "2021-06-04T13:14:37.785668",
     "status": "completed"
    },
    "tags": []
   },
   "source": [
    "---\n",
    "\n",
    "\n",
    "\n",
    "\n",
    "*Have questions or comments? Visit the [Learn Discussion forum](https://www.kaggle.com/learn-forum/161314) to chat with other Learners.*"
   ]
  }
 ],
 "metadata": {
  "kernelspec": {
   "display_name": "Python 3",
   "language": "python",
   "name": "python3"
  },
  "language_info": {
   "codemirror_mode": {
    "name": "ipython",
    "version": 3
   },
   "file_extension": ".py",
   "mimetype": "text/x-python",
   "name": "python",
   "nbconvert_exporter": "python",
   "pygments_lexer": "ipython3",
   "version": "3.7.9"
  },
  "papermill": {
   "default_parameters": {},
   "duration": 16.226443,
   "end_time": "2021-06-04T13:14:38.441516",
   "environment_variables": {},
   "exception": null,
   "input_path": "__notebook__.ipynb",
   "output_path": "__notebook__.ipynb",
   "parameters": {},
   "start_time": "2021-06-04T13:14:22.215073",
   "version": "2.3.2"
  }
 },
 "nbformat": 4,
 "nbformat_minor": 5
}
