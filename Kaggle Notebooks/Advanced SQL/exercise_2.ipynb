{
 "cells": [
  {
   "cell_type": "markdown",
   "id": "8fb99a30",
   "metadata": {
    "papermill": {
     "duration": 0.009666,
     "end_time": "2021-08-16T08:24:02.844555",
     "exception": false,
     "start_time": "2021-08-16T08:24:02.834889",
     "status": "completed"
    },
    "tags": []
   },
   "source": [
    "**This notebook is an exercise in the [Advanced SQL](https://www.kaggle.com/learn/advanced-sql) course.  You can reference the tutorial at [this link](https://www.kaggle.com/alexisbcook/analytic-functions).**\n",
    "\n",
    "---\n"
   ]
  },
  {
   "cell_type": "markdown",
   "id": "7914abf5",
   "metadata": {
    "papermill": {
     "duration": 0.008986,
     "end_time": "2021-08-16T08:24:02.865563",
     "exception": false,
     "start_time": "2021-08-16T08:24:02.856577",
     "status": "completed"
    },
    "tags": []
   },
   "source": [
    "# Introduction\n",
    "\n",
    "Here, you'll use window functions to answer questions about the [Chicago Taxi Trips](https://www.kaggle.com/chicago/chicago-taxi-trips-bq) dataset.\n",
    "\n",
    "Before you get started, run the code cell below to set everything up."
   ]
  },
  {
   "cell_type": "code",
   "execution_count": 1,
   "id": "6a0df706",
   "metadata": {
    "execution": {
     "iopub.execute_input": "2021-08-16T08:24:02.887714Z",
     "iopub.status.busy": "2021-08-16T08:24:02.886608Z",
     "iopub.status.idle": "2021-08-16T08:24:18.529762Z",
     "shell.execute_reply": "2021-08-16T08:24:18.530218Z",
     "shell.execute_reply.started": "2021-08-16T07:59:38.701360Z"
    },
    "papermill": {
     "duration": 15.65605,
     "end_time": "2021-08-16T08:24:18.530595",
     "exception": false,
     "start_time": "2021-08-16T08:24:02.874545",
     "status": "completed"
    },
    "tags": []
   },
   "outputs": [
    {
     "name": "stdout",
     "output_type": "stream",
     "text": [
      "Using Kaggle's public dataset BigQuery integration.\n"
     ]
    },
    {
     "name": "stderr",
     "output_type": "stream",
     "text": [
      "/opt/conda/lib/python3.7/site-packages/google/cloud/bigquery/client.py:440: UserWarning: Cannot create BigQuery Storage client, the dependency google-cloud-bigquery-storage is not installed.\n",
      "  \"Cannot create BigQuery Storage client, the dependency \"\n"
     ]
    },
    {
     "name": "stdout",
     "output_type": "stream",
     "text": [
      "Setup Complete\n"
     ]
    }
   ],
   "source": [
    "# Set up feedback system\n",
    "from learntools.core import binder\n",
    "binder.bind(globals())\n",
    "from learntools.sql_advanced.ex2 import *\n",
    "print(\"Setup Complete\")"
   ]
  },
  {
   "cell_type": "markdown",
   "id": "d67ddc70",
   "metadata": {
    "papermill": {
     "duration": 0.009748,
     "end_time": "2021-08-16T08:24:18.550696",
     "exception": false,
     "start_time": "2021-08-16T08:24:18.540948",
     "status": "completed"
    },
    "tags": []
   },
   "source": [
    "The following code cell fetches the `taxi_trips` table from the `chicago_taxi_trips` dataset. We also preview the first five rows of the table.  You'll use the table to answer the questions below."
   ]
  },
  {
   "cell_type": "code",
   "execution_count": 2,
   "id": "cff8a061",
   "metadata": {
    "execution": {
     "iopub.execute_input": "2021-08-16T08:24:18.577398Z",
     "iopub.status.busy": "2021-08-16T08:24:18.576806Z",
     "iopub.status.idle": "2021-08-16T08:24:19.502203Z",
     "shell.execute_reply": "2021-08-16T08:24:19.501260Z",
     "shell.execute_reply.started": "2021-08-16T07:59:41.065337Z"
    },
    "papermill": {
     "duration": 0.942036,
     "end_time": "2021-08-16T08:24:19.502365",
     "exception": false,
     "start_time": "2021-08-16T08:24:18.560329",
     "status": "completed"
    },
    "tags": []
   },
   "outputs": [
    {
     "name": "stdout",
     "output_type": "stream",
     "text": [
      "Using Kaggle's public dataset BigQuery integration.\n"
     ]
    },
    {
     "name": "stderr",
     "output_type": "stream",
     "text": [
      "/opt/conda/lib/python3.7/site-packages/ipykernel_launcher.py:19: UserWarning: Cannot use bqstorage_client if max_results is set, reverting to fetching data with the tabledata.list endpoint.\n"
     ]
    },
    {
     "data": {
      "text/html": [
       "<div>\n",
       "<style scoped>\n",
       "    .dataframe tbody tr th:only-of-type {\n",
       "        vertical-align: middle;\n",
       "    }\n",
       "\n",
       "    .dataframe tbody tr th {\n",
       "        vertical-align: top;\n",
       "    }\n",
       "\n",
       "    .dataframe thead th {\n",
       "        text-align: right;\n",
       "    }\n",
       "</style>\n",
       "<table border=\"1\" class=\"dataframe\">\n",
       "  <thead>\n",
       "    <tr style=\"text-align: right;\">\n",
       "      <th></th>\n",
       "      <th>unique_key</th>\n",
       "      <th>taxi_id</th>\n",
       "      <th>trip_start_timestamp</th>\n",
       "      <th>trip_end_timestamp</th>\n",
       "      <th>trip_seconds</th>\n",
       "      <th>trip_miles</th>\n",
       "      <th>pickup_census_tract</th>\n",
       "      <th>dropoff_census_tract</th>\n",
       "      <th>pickup_community_area</th>\n",
       "      <th>dropoff_community_area</th>\n",
       "      <th>...</th>\n",
       "      <th>extras</th>\n",
       "      <th>trip_total</th>\n",
       "      <th>payment_type</th>\n",
       "      <th>company</th>\n",
       "      <th>pickup_latitude</th>\n",
       "      <th>pickup_longitude</th>\n",
       "      <th>pickup_location</th>\n",
       "      <th>dropoff_latitude</th>\n",
       "      <th>dropoff_longitude</th>\n",
       "      <th>dropoff_location</th>\n",
       "    </tr>\n",
       "  </thead>\n",
       "  <tbody>\n",
       "    <tr>\n",
       "      <th>0</th>\n",
       "      <td>d7142baead61226e1f0d5fbb42053148d4ea1234</td>\n",
       "      <td>83509dee15087de780f4ceef090a6d37029553d45b193c...</td>\n",
       "      <td>2013-12-28 01:00:00+00:00</td>\n",
       "      <td>2013-12-28 01:00:00+00:00</td>\n",
       "      <td>NaN</td>\n",
       "      <td>0.0</td>\n",
       "      <td>NaN</td>\n",
       "      <td>NaN</td>\n",
       "      <td>NaN</td>\n",
       "      <td>NaN</td>\n",
       "      <td>...</td>\n",
       "      <td>0.0</td>\n",
       "      <td>8.85</td>\n",
       "      <td>Credit Card</td>\n",
       "      <td>Chicago Elite Cab Corp. (Chicago Carriag</td>\n",
       "      <td>NaN</td>\n",
       "      <td>NaN</td>\n",
       "      <td>None</td>\n",
       "      <td>NaN</td>\n",
       "      <td>NaN</td>\n",
       "      <td>None</td>\n",
       "    </tr>\n",
       "    <tr>\n",
       "      <th>1</th>\n",
       "      <td>c4b5ecbc1199c68bc7c7336502d51c7af3a6f6dd</td>\n",
       "      <td>d6e1a9e103336c396201abe9ceb00795fcd41e14ccbf54...</td>\n",
       "      <td>2014-01-07 10:00:00+00:00</td>\n",
       "      <td>2014-01-07 09:45:00+00:00</td>\n",
       "      <td>NaN</td>\n",
       "      <td>0.0</td>\n",
       "      <td>NaN</td>\n",
       "      <td>NaN</td>\n",
       "      <td>NaN</td>\n",
       "      <td>NaN</td>\n",
       "      <td>...</td>\n",
       "      <td>0.0</td>\n",
       "      <td>7.74</td>\n",
       "      <td>Credit Card</td>\n",
       "      <td>Chicago Elite Cab Corp. (Chicago Carriag</td>\n",
       "      <td>NaN</td>\n",
       "      <td>NaN</td>\n",
       "      <td>None</td>\n",
       "      <td>NaN</td>\n",
       "      <td>NaN</td>\n",
       "      <td>None</td>\n",
       "    </tr>\n",
       "    <tr>\n",
       "      <th>2</th>\n",
       "      <td>5122fd569680033efac6d8d1990fa60014f112b7</td>\n",
       "      <td>23d5d31d196f02492dee2d0a37f4f52cce7904302213d4...</td>\n",
       "      <td>2014-07-01 20:15:00+00:00</td>\n",
       "      <td>2014-07-01 20:15:00+00:00</td>\n",
       "      <td>0.0</td>\n",
       "      <td>0.0</td>\n",
       "      <td>NaN</td>\n",
       "      <td>NaN</td>\n",
       "      <td>NaN</td>\n",
       "      <td>NaN</td>\n",
       "      <td>...</td>\n",
       "      <td>0.0</td>\n",
       "      <td>27.00</td>\n",
       "      <td>Credit Card</td>\n",
       "      <td>Park Ridge Taxi and Livery</td>\n",
       "      <td>NaN</td>\n",
       "      <td>NaN</td>\n",
       "      <td>None</td>\n",
       "      <td>NaN</td>\n",
       "      <td>NaN</td>\n",
       "      <td>None</td>\n",
       "    </tr>\n",
       "    <tr>\n",
       "      <th>3</th>\n",
       "      <td>556af535d64bc6460244a5bad92966fd5d85421f</td>\n",
       "      <td>442f4c9dd3dde549a82c2dc0ef65b85e54664aa28f5b55...</td>\n",
       "      <td>2014-01-07 13:30:00+00:00</td>\n",
       "      <td>2014-01-07 13:30:00+00:00</td>\n",
       "      <td>0.0</td>\n",
       "      <td>0.0</td>\n",
       "      <td>NaN</td>\n",
       "      <td>NaN</td>\n",
       "      <td>NaN</td>\n",
       "      <td>NaN</td>\n",
       "      <td>...</td>\n",
       "      <td>0.0</td>\n",
       "      <td>7.65</td>\n",
       "      <td>Credit Card</td>\n",
       "      <td>Taxi Affiliation Services</td>\n",
       "      <td>NaN</td>\n",
       "      <td>NaN</td>\n",
       "      <td>None</td>\n",
       "      <td>NaN</td>\n",
       "      <td>NaN</td>\n",
       "      <td>None</td>\n",
       "    </tr>\n",
       "    <tr>\n",
       "      <th>4</th>\n",
       "      <td>bb1f95719e77f9c887912b7b2ac4aa4b4b1a6bcb</td>\n",
       "      <td>01cfdf564af1a522661ba984b93574d481b54e27516833...</td>\n",
       "      <td>2014-01-25 21:15:00+00:00</td>\n",
       "      <td>2014-01-25 21:00:00+00:00</td>\n",
       "      <td>NaN</td>\n",
       "      <td>0.0</td>\n",
       "      <td>NaN</td>\n",
       "      <td>NaN</td>\n",
       "      <td>NaN</td>\n",
       "      <td>NaN</td>\n",
       "      <td>...</td>\n",
       "      <td>0.0</td>\n",
       "      <td>11.45</td>\n",
       "      <td>Credit Card</td>\n",
       "      <td>Chicago Elite Cab Corp. (Chicago Carriag</td>\n",
       "      <td>NaN</td>\n",
       "      <td>NaN</td>\n",
       "      <td>None</td>\n",
       "      <td>NaN</td>\n",
       "      <td>NaN</td>\n",
       "      <td>None</td>\n",
       "    </tr>\n",
       "  </tbody>\n",
       "</table>\n",
       "<p>5 rows × 23 columns</p>\n",
       "</div>"
      ],
      "text/plain": [
       "                                 unique_key  \\\n",
       "0  d7142baead61226e1f0d5fbb42053148d4ea1234   \n",
       "1  c4b5ecbc1199c68bc7c7336502d51c7af3a6f6dd   \n",
       "2  5122fd569680033efac6d8d1990fa60014f112b7   \n",
       "3  556af535d64bc6460244a5bad92966fd5d85421f   \n",
       "4  bb1f95719e77f9c887912b7b2ac4aa4b4b1a6bcb   \n",
       "\n",
       "                                             taxi_id  \\\n",
       "0  83509dee15087de780f4ceef090a6d37029553d45b193c...   \n",
       "1  d6e1a9e103336c396201abe9ceb00795fcd41e14ccbf54...   \n",
       "2  23d5d31d196f02492dee2d0a37f4f52cce7904302213d4...   \n",
       "3  442f4c9dd3dde549a82c2dc0ef65b85e54664aa28f5b55...   \n",
       "4  01cfdf564af1a522661ba984b93574d481b54e27516833...   \n",
       "\n",
       "       trip_start_timestamp        trip_end_timestamp  trip_seconds  \\\n",
       "0 2013-12-28 01:00:00+00:00 2013-12-28 01:00:00+00:00           NaN   \n",
       "1 2014-01-07 10:00:00+00:00 2014-01-07 09:45:00+00:00           NaN   \n",
       "2 2014-07-01 20:15:00+00:00 2014-07-01 20:15:00+00:00           0.0   \n",
       "3 2014-01-07 13:30:00+00:00 2014-01-07 13:30:00+00:00           0.0   \n",
       "4 2014-01-25 21:15:00+00:00 2014-01-25 21:00:00+00:00           NaN   \n",
       "\n",
       "   trip_miles  pickup_census_tract  dropoff_census_tract  \\\n",
       "0         0.0                  NaN                   NaN   \n",
       "1         0.0                  NaN                   NaN   \n",
       "2         0.0                  NaN                   NaN   \n",
       "3         0.0                  NaN                   NaN   \n",
       "4         0.0                  NaN                   NaN   \n",
       "\n",
       "   pickup_community_area  dropoff_community_area  ...  extras  trip_total  \\\n",
       "0                    NaN                     NaN  ...     0.0        8.85   \n",
       "1                    NaN                     NaN  ...     0.0        7.74   \n",
       "2                    NaN                     NaN  ...     0.0       27.00   \n",
       "3                    NaN                     NaN  ...     0.0        7.65   \n",
       "4                    NaN                     NaN  ...     0.0       11.45   \n",
       "\n",
       "   payment_type                                   company  pickup_latitude  \\\n",
       "0   Credit Card  Chicago Elite Cab Corp. (Chicago Carriag              NaN   \n",
       "1   Credit Card  Chicago Elite Cab Corp. (Chicago Carriag              NaN   \n",
       "2   Credit Card                Park Ridge Taxi and Livery              NaN   \n",
       "3   Credit Card                 Taxi Affiliation Services              NaN   \n",
       "4   Credit Card  Chicago Elite Cab Corp. (Chicago Carriag              NaN   \n",
       "\n",
       "  pickup_longitude pickup_location  dropoff_latitude  dropoff_longitude  \\\n",
       "0              NaN            None               NaN                NaN   \n",
       "1              NaN            None               NaN                NaN   \n",
       "2              NaN            None               NaN                NaN   \n",
       "3              NaN            None               NaN                NaN   \n",
       "4              NaN            None               NaN                NaN   \n",
       "\n",
       "  dropoff_location  \n",
       "0             None  \n",
       "1             None  \n",
       "2             None  \n",
       "3             None  \n",
       "4             None  \n",
       "\n",
       "[5 rows x 23 columns]"
      ]
     },
     "execution_count": 2,
     "metadata": {},
     "output_type": "execute_result"
    }
   ],
   "source": [
    "from google.cloud import bigquery\n",
    "\n",
    "# Create a \"Client\" object\n",
    "client = bigquery.Client()\n",
    "\n",
    "# Construct a reference to the \"chicago_taxi_trips\" dataset\n",
    "dataset_ref = client.dataset(\"chicago_taxi_trips\", project=\"bigquery-public-data\")\n",
    "\n",
    "# API request - fetch the dataset\n",
    "dataset = client.get_dataset(dataset_ref)\n",
    "\n",
    "# Construct a reference to the \"taxi_trips\" table\n",
    "table_ref = dataset_ref.table(\"taxi_trips\")\n",
    "\n",
    "# API request - fetch the table\n",
    "table = client.get_table(table_ref)\n",
    "\n",
    "# Preview the first five lines of the table\n",
    "client.list_rows(table, max_results=5).to_dataframe()"
   ]
  },
  {
   "cell_type": "markdown",
   "id": "dd5c5191",
   "metadata": {
    "papermill": {
     "duration": 0.010553,
     "end_time": "2021-08-16T08:24:19.524000",
     "exception": false,
     "start_time": "2021-08-16T08:24:19.513447",
     "status": "completed"
    },
    "tags": []
   },
   "source": [
    "# Exercises\n",
    "\n",
    "### 1) How can you predict the demand for taxis?\n",
    "\n",
    "Say you work for a taxi company, and you're interested in predicting the demand for taxis.  Towards this goal, you'd like to create a plot that shows a rolling average of the daily number of taxi trips.  Amend the (partial) query below to return a DataFrame with two columns:\n",
    "- `trip_date` - contains one entry for each date from January 1, 2016, to December 31, 2017.\n",
    "- `avg_num_trips` - shows the average number of daily trips, calculated over a window including the value for the current date, along with the values for the preceding 15 days and the following 15 days, as long as the days fit within the two-year time frame.  For instance, when calculating the value in this column for January 5, 2016, the window will include the number of trips for the preceding 4 days, the current date, and the following 15 days.\n",
    "\n",
    "This query is partially completed for you, and you need only write the part that calculates the `avg_num_trips` column.  Note that this query uses a common table expression (CTE); if you need to review how to use CTEs, you're encouraged to check out [this tutorial](https://www.kaggle.com/dansbecker/as-with) in the [Intro to SQL](https://www.kaggle.com/learn/intro-to-sql) micro-course."
   ]
  },
  {
   "cell_type": "code",
   "execution_count": 3,
   "id": "67e245a0",
   "metadata": {
    "execution": {
     "iopub.execute_input": "2021-08-16T08:24:19.552585Z",
     "iopub.status.busy": "2021-08-16T08:24:19.551911Z",
     "iopub.status.idle": "2021-08-16T08:24:20.489796Z",
     "shell.execute_reply": "2021-08-16T08:24:20.489319Z",
     "shell.execute_reply.started": "2021-08-16T08:04:44.836065Z"
    },
    "papermill": {
     "duration": 0.955149,
     "end_time": "2021-08-16T08:24:20.489945",
     "exception": false,
     "start_time": "2021-08-16T08:24:19.534796",
     "status": "completed"
    },
    "tags": []
   },
   "outputs": [
    {
     "name": "stderr",
     "output_type": "stream",
     "text": [
      "/opt/conda/lib/python3.7/site-packages/google/cloud/bigquery/client.py:440: UserWarning: Cannot create BigQuery Storage client, the dependency google-cloud-bigquery-storage is not installed.\n",
      "  \"Cannot create BigQuery Storage client, the dependency \"\n"
     ]
    },
    {
     "data": {
      "text/html": [
       "<div>\n",
       "<style scoped>\n",
       "    .dataframe tbody tr th:only-of-type {\n",
       "        vertical-align: middle;\n",
       "    }\n",
       "\n",
       "    .dataframe tbody tr th {\n",
       "        vertical-align: top;\n",
       "    }\n",
       "\n",
       "    .dataframe thead th {\n",
       "        text-align: right;\n",
       "    }\n",
       "</style>\n",
       "<table border=\"1\" class=\"dataframe\">\n",
       "  <thead>\n",
       "    <tr style=\"text-align: right;\">\n",
       "      <th></th>\n",
       "      <th>trip_date</th>\n",
       "      <th>avg_num_trips</th>\n",
       "    </tr>\n",
       "  </thead>\n",
       "  <tbody>\n",
       "    <tr>\n",
       "      <th>0</th>\n",
       "      <td>2016-01-01</td>\n",
       "      <td>80461.937500</td>\n",
       "    </tr>\n",
       "    <tr>\n",
       "      <th>1</th>\n",
       "      <td>2016-01-02</td>\n",
       "      <td>80150.647059</td>\n",
       "    </tr>\n",
       "    <tr>\n",
       "      <th>2</th>\n",
       "      <td>2016-01-03</td>\n",
       "      <td>79419.611111</td>\n",
       "    </tr>\n",
       "    <tr>\n",
       "      <th>3</th>\n",
       "      <td>2016-01-04</td>\n",
       "      <td>79810.421053</td>\n",
       "    </tr>\n",
       "    <tr>\n",
       "      <th>4</th>\n",
       "      <td>2016-01-05</td>\n",
       "      <td>80293.900000</td>\n",
       "    </tr>\n",
       "  </tbody>\n",
       "</table>\n",
       "</div>"
      ],
      "text/plain": [
       "    trip_date  avg_num_trips\n",
       "0  2016-01-01   80461.937500\n",
       "1  2016-01-02   80150.647059\n",
       "2  2016-01-03   79419.611111\n",
       "3  2016-01-04   79810.421053\n",
       "4  2016-01-05   80293.900000"
      ]
     },
     "metadata": {},
     "output_type": "display_data"
    },
    {
     "data": {
      "application/javascript": [
       "parent.postMessage({\"jupyterEvent\": \"custom.exercise_interaction\", \"data\": {\"outcomeType\": 1, \"valueTowardsCompletion\": 0.3333333333333333, \"interactionType\": 1, \"questionType\": 2, \"questionId\": \"1_TaxiDemand\", \"learnToolsVersion\": \"0.3.4\", \"failureMessage\": \"\", \"exceptionClass\": \"\", \"trace\": \"\"}}, \"*\")"
      ],
      "text/plain": [
       "<IPython.core.display.Javascript object>"
      ]
     },
     "metadata": {},
     "output_type": "display_data"
    },
    {
     "data": {
      "text/markdown": [
       "<span style=\"color:#33cc33\">Correct</span>"
      ],
      "text/plain": [
       "Correct"
      ]
     },
     "metadata": {},
     "output_type": "display_data"
    }
   ],
   "source": [
    "# Fill in the blank below\n",
    "avg_num_trips_query = \"\"\"\n",
    "                      WITH trips_by_day AS\n",
    "                      (\n",
    "                      SELECT DATE(trip_start_timestamp) AS trip_date,\n",
    "                          COUNT(*) as num_trips\n",
    "                      FROM `bigquery-public-data.chicago_taxi_trips.taxi_trips`\n",
    "                      WHERE trip_start_timestamp >= '2016-01-01' AND trip_start_timestamp < '2018-01-01'\n",
    "                      GROUP BY trip_date\n",
    "                      ORDER BY trip_date\n",
    "                      )\n",
    "                      SELECT trip_date,\n",
    "                          AVG(num_trips)\n",
    "                          OVER (\n",
    "                               ORDER BY trip_date\n",
    "                               ROWS BETWEEN 15 PRECEDING AND 15 FOLLOWING\n",
    "                               ) AS avg_num_trips\n",
    "                      FROM trips_by_day\n",
    "                      \"\"\"\n",
    "\n",
    "# Check your answer\n",
    "q_1.check()"
   ]
  },
  {
   "cell_type": "code",
   "execution_count": 4,
   "id": "b92a3084",
   "metadata": {
    "execution": {
     "iopub.execute_input": "2021-08-16T08:24:20.519486Z",
     "iopub.status.busy": "2021-08-16T08:24:20.518802Z",
     "iopub.status.idle": "2021-08-16T08:24:20.521402Z",
     "shell.execute_reply": "2021-08-16T08:24:20.520984Z",
     "shell.execute_reply.started": "2021-08-16T08:05:41.469807Z"
    },
    "papermill": {
     "duration": 0.01897,
     "end_time": "2021-08-16T08:24:20.521544",
     "exception": false,
     "start_time": "2021-08-16T08:24:20.502574",
     "status": "completed"
    },
    "tags": []
   },
   "outputs": [],
   "source": [
    "# Lines below will give you a hint or solution code\n",
    "#q_1.hint()\n",
    "#q_1.solution()"
   ]
  },
  {
   "cell_type": "markdown",
   "id": "4f4cfb97",
   "metadata": {
    "papermill": {
     "duration": 0.011956,
     "end_time": "2021-08-16T08:24:20.545689",
     "exception": false,
     "start_time": "2021-08-16T08:24:20.533733",
     "status": "completed"
    },
    "tags": []
   },
   "source": [
    "### 2) Can you separate and order trips by community area?\n",
    "\n",
    "The query below returns a DataFrame with three columns from the table: `pickup_community_area`, `trip_start_timestamp`, and `trip_end_timestamp`.  \n",
    "\n",
    "Amend the query to return an additional column called `trip_number` which shows the order in which the trips were taken from their respective community areas.  So, the first trip of the day originating from community area 1 should receive a value of 1; the second trip of the day from the same area should receive a value of 2.  Likewise, the first trip of the day from community area 2 should receive a value of 1, and so on.\n",
    "\n",
    "Note that there are many numbering functions that can be used to solve this problem (depending on how you want to deal with trips that started at the same time from the same community area); to answer this question, please use the **RANK()** function."
   ]
  },
  {
   "cell_type": "code",
   "execution_count": 5,
   "id": "82293b85",
   "metadata": {
    "execution": {
     "iopub.execute_input": "2021-08-16T08:24:20.576205Z",
     "iopub.status.busy": "2021-08-16T08:24:20.575630Z",
     "iopub.status.idle": "2021-08-16T08:24:24.525196Z",
     "shell.execute_reply": "2021-08-16T08:24:24.524673Z",
     "shell.execute_reply.started": "2021-08-16T08:13:43.992083Z"
    },
    "papermill": {
     "duration": 3.967283,
     "end_time": "2021-08-16T08:24:24.525349",
     "exception": false,
     "start_time": "2021-08-16T08:24:20.558066",
     "status": "completed"
    },
    "tags": []
   },
   "outputs": [
    {
     "name": "stderr",
     "output_type": "stream",
     "text": [
      "/opt/conda/lib/python3.7/site-packages/google/cloud/bigquery/client.py:440: UserWarning: Cannot create BigQuery Storage client, the dependency google-cloud-bigquery-storage is not installed.\n",
      "  \"Cannot create BigQuery Storage client, the dependency \"\n"
     ]
    },
    {
     "data": {
      "text/html": [
       "<div>\n",
       "<style scoped>\n",
       "    .dataframe tbody tr th:only-of-type {\n",
       "        vertical-align: middle;\n",
       "    }\n",
       "\n",
       "    .dataframe tbody tr th {\n",
       "        vertical-align: top;\n",
       "    }\n",
       "\n",
       "    .dataframe thead th {\n",
       "        text-align: right;\n",
       "    }\n",
       "</style>\n",
       "<table border=\"1\" class=\"dataframe\">\n",
       "  <thead>\n",
       "    <tr style=\"text-align: right;\">\n",
       "      <th></th>\n",
       "      <th>pickup_community_area</th>\n",
       "      <th>trip_start_timestamp</th>\n",
       "      <th>trip_end_timestamp</th>\n",
       "      <th>trip_number</th>\n",
       "    </tr>\n",
       "  </thead>\n",
       "  <tbody>\n",
       "    <tr>\n",
       "      <th>0</th>\n",
       "      <td>39.0</td>\n",
       "      <td>2017-05-01 01:15:00+00:00</td>\n",
       "      <td>2017-05-01 01:30:00+00:00</td>\n",
       "      <td>1</td>\n",
       "    </tr>\n",
       "    <tr>\n",
       "      <th>1</th>\n",
       "      <td>39.0</td>\n",
       "      <td>2017-05-01 02:15:00+00:00</td>\n",
       "      <td>2017-05-01 02:45:00+00:00</td>\n",
       "      <td>2</td>\n",
       "    </tr>\n",
       "    <tr>\n",
       "      <th>2</th>\n",
       "      <td>39.0</td>\n",
       "      <td>2017-05-01 05:15:00+00:00</td>\n",
       "      <td>2017-05-01 05:30:00+00:00</td>\n",
       "      <td>3</td>\n",
       "    </tr>\n",
       "    <tr>\n",
       "      <th>3</th>\n",
       "      <td>39.0</td>\n",
       "      <td>2017-05-01 05:45:00+00:00</td>\n",
       "      <td>2017-05-01 06:15:00+00:00</td>\n",
       "      <td>4</td>\n",
       "    </tr>\n",
       "    <tr>\n",
       "      <th>4</th>\n",
       "      <td>39.0</td>\n",
       "      <td>2017-05-01 06:45:00+00:00</td>\n",
       "      <td>2017-05-01 07:00:00+00:00</td>\n",
       "      <td>5</td>\n",
       "    </tr>\n",
       "  </tbody>\n",
       "</table>\n",
       "</div>"
      ],
      "text/plain": [
       "   pickup_community_area      trip_start_timestamp        trip_end_timestamp  \\\n",
       "0                   39.0 2017-05-01 01:15:00+00:00 2017-05-01 01:30:00+00:00   \n",
       "1                   39.0 2017-05-01 02:15:00+00:00 2017-05-01 02:45:00+00:00   \n",
       "2                   39.0 2017-05-01 05:15:00+00:00 2017-05-01 05:30:00+00:00   \n",
       "3                   39.0 2017-05-01 05:45:00+00:00 2017-05-01 06:15:00+00:00   \n",
       "4                   39.0 2017-05-01 06:45:00+00:00 2017-05-01 07:00:00+00:00   \n",
       "\n",
       "   trip_number  \n",
       "0            1  \n",
       "1            2  \n",
       "2            3  \n",
       "3            4  \n",
       "4            5  "
      ]
     },
     "metadata": {},
     "output_type": "display_data"
    },
    {
     "data": {
      "application/javascript": [
       "parent.postMessage({\"jupyterEvent\": \"custom.exercise_interaction\", \"data\": {\"outcomeType\": 1, \"valueTowardsCompletion\": 0.3333333333333333, \"interactionType\": 1, \"questionType\": 2, \"questionId\": \"2_CommunityArea\", \"learnToolsVersion\": \"0.3.4\", \"failureMessage\": \"\", \"exceptionClass\": \"\", \"trace\": \"\"}}, \"*\")"
      ],
      "text/plain": [
       "<IPython.core.display.Javascript object>"
      ]
     },
     "metadata": {},
     "output_type": "display_data"
    },
    {
     "data": {
      "text/markdown": [
       "<span style=\"color:#33cc33\">Correct</span>"
      ],
      "text/plain": [
       "Correct"
      ]
     },
     "metadata": {},
     "output_type": "display_data"
    }
   ],
   "source": [
    "# Amend the query below\n",
    "trip_number_query = \"\"\"\n",
    "                    SELECT pickup_community_area,\n",
    "                        trip_start_timestamp,\n",
    "                        trip_end_timestamp,\n",
    "                        RANK()\n",
    "                            OVER (\n",
    "                                  PARTITION BY pickup_community_area\n",
    "                                  ORDER BY trip_start_timestamp\n",
    "                                 ) AS trip_number\n",
    "                    FROM `bigquery-public-data.chicago_taxi_trips.taxi_trips`\n",
    "                    WHERE DATE(trip_start_timestamp) = '2017-05-01'\n",
    "                    \"\"\"\n",
    "\n",
    "# Check your answer\n",
    "q_2.check()"
   ]
  },
  {
   "cell_type": "code",
   "execution_count": 6,
   "id": "89e49ffd",
   "metadata": {
    "execution": {
     "iopub.execute_input": "2021-08-16T08:24:24.556546Z",
     "iopub.status.busy": "2021-08-16T08:24:24.555977Z",
     "iopub.status.idle": "2021-08-16T08:24:24.558415Z",
     "shell.execute_reply": "2021-08-16T08:24:24.557875Z",
     "shell.execute_reply.started": "2021-08-16T08:13:56.381903Z"
    },
    "papermill": {
     "duration": 0.019478,
     "end_time": "2021-08-16T08:24:24.558561",
     "exception": false,
     "start_time": "2021-08-16T08:24:24.539083",
     "status": "completed"
    },
    "tags": []
   },
   "outputs": [],
   "source": [
    "# Lines below will give you a hint or solution code\n",
    "#q_2.hint()\n",
    "#q_2.solution()"
   ]
  },
  {
   "cell_type": "markdown",
   "id": "4bc0223f",
   "metadata": {
    "papermill": {
     "duration": 0.0131,
     "end_time": "2021-08-16T08:24:24.585269",
     "exception": false,
     "start_time": "2021-08-16T08:24:24.572169",
     "status": "completed"
    },
    "tags": []
   },
   "source": [
    "### 3) How much time elapses between trips?\n",
    "\n",
    "The (partial) query in the code cell below shows, for each trip in the selected time frame, the corresponding `taxi_id`, `trip_start_timestamp`, and `trip_end_timestamp`. \n",
    "\n",
    "Your task in this exercise is to edit the query to include an additional `prev_break` column that shows the length of the break (in minutes) that the driver had before each trip started (this corresponds to the time between `trip_start_timestamp` of the current trip and `trip_end_timestamp` of the previous trip).  Partition the calculation by `taxi_id`, and order the results within each partition by `trip_start_timestamp`.\n",
    "\n",
    "Some sample results are shown below, where all rows correspond to the same driver (or `taxi_id`).  Take the time now to make sure that the values in the `prev_break` column make sense to you!\n",
    "\n",
    "![first_commands](https://i.imgur.com/qjvQzg8.png)\n",
    "\n",
    "Note that the first trip of the day for each driver should have a value of **NaN** (not a number) in the `prev_break` column."
   ]
  },
  {
   "cell_type": "code",
   "execution_count": 7,
   "id": "032c811f",
   "metadata": {
    "execution": {
     "iopub.execute_input": "2021-08-16T08:24:24.614626Z",
     "iopub.status.busy": "2021-08-16T08:24:24.614056Z",
     "iopub.status.idle": "2021-08-16T08:24:35.314653Z",
     "shell.execute_reply": "2021-08-16T08:24:35.314150Z",
     "shell.execute_reply.started": "2021-08-16T08:21:28.267663Z"
    },
    "papermill": {
     "duration": 10.716057,
     "end_time": "2021-08-16T08:24:35.314790",
     "exception": false,
     "start_time": "2021-08-16T08:24:24.598733",
     "status": "completed"
    },
    "tags": []
   },
   "outputs": [
    {
     "name": "stderr",
     "output_type": "stream",
     "text": [
      "/opt/conda/lib/python3.7/site-packages/google/cloud/bigquery/client.py:440: UserWarning: Cannot create BigQuery Storage client, the dependency google-cloud-bigquery-storage is not installed.\n",
      "  \"Cannot create BigQuery Storage client, the dependency \"\n"
     ]
    },
    {
     "data": {
      "text/html": [
       "<div>\n",
       "<style scoped>\n",
       "    .dataframe tbody tr th:only-of-type {\n",
       "        vertical-align: middle;\n",
       "    }\n",
       "\n",
       "    .dataframe tbody tr th {\n",
       "        vertical-align: top;\n",
       "    }\n",
       "\n",
       "    .dataframe thead th {\n",
       "        text-align: right;\n",
       "    }\n",
       "</style>\n",
       "<table border=\"1\" class=\"dataframe\">\n",
       "  <thead>\n",
       "    <tr style=\"text-align: right;\">\n",
       "      <th></th>\n",
       "      <th>taxi_id</th>\n",
       "      <th>trip_start_timestamp</th>\n",
       "      <th>trip_end_timestamp</th>\n",
       "      <th>prev_break</th>\n",
       "    </tr>\n",
       "  </thead>\n",
       "  <tbody>\n",
       "    <tr>\n",
       "      <th>0</th>\n",
       "      <td>0500aac38cd3b9c93e714f14b61eb37c7b6d74ca267b02...</td>\n",
       "      <td>2017-05-01 00:45:00+00:00</td>\n",
       "      <td>2017-05-01 01:00:00+00:00</td>\n",
       "      <td>NaN</td>\n",
       "    </tr>\n",
       "    <tr>\n",
       "      <th>1</th>\n",
       "      <td>275f3f891b8c0ba8f2958873f850d2a03993c99f5f79f6...</td>\n",
       "      <td>2017-05-01 01:45:00+00:00</td>\n",
       "      <td>2017-05-01 02:30:00+00:00</td>\n",
       "      <td>NaN</td>\n",
       "    </tr>\n",
       "    <tr>\n",
       "      <th>2</th>\n",
       "      <td>2ff2aaf64117e6b941f9cac81d550a4fe4fbd62cff03ff...</td>\n",
       "      <td>2017-05-01 05:00:00+00:00</td>\n",
       "      <td>2017-05-01 05:15:00+00:00</td>\n",
       "      <td>NaN</td>\n",
       "    </tr>\n",
       "    <tr>\n",
       "      <th>3</th>\n",
       "      <td>2ff2aaf64117e6b941f9cac81d550a4fe4fbd62cff03ff...</td>\n",
       "      <td>2017-05-01 05:45:00+00:00</td>\n",
       "      <td>2017-05-01 05:45:00+00:00</td>\n",
       "      <td>30.0</td>\n",
       "    </tr>\n",
       "    <tr>\n",
       "      <th>4</th>\n",
       "      <td>3300ef4ef04f16fe8224adee10ae27ccf7a13236c94fbd...</td>\n",
       "      <td>2017-05-01 00:30:00+00:00</td>\n",
       "      <td>2017-05-01 00:30:00+00:00</td>\n",
       "      <td>NaN</td>\n",
       "    </tr>\n",
       "  </tbody>\n",
       "</table>\n",
       "</div>"
      ],
      "text/plain": [
       "                                             taxi_id  \\\n",
       "0  0500aac38cd3b9c93e714f14b61eb37c7b6d74ca267b02...   \n",
       "1  275f3f891b8c0ba8f2958873f850d2a03993c99f5f79f6...   \n",
       "2  2ff2aaf64117e6b941f9cac81d550a4fe4fbd62cff03ff...   \n",
       "3  2ff2aaf64117e6b941f9cac81d550a4fe4fbd62cff03ff...   \n",
       "4  3300ef4ef04f16fe8224adee10ae27ccf7a13236c94fbd...   \n",
       "\n",
       "       trip_start_timestamp        trip_end_timestamp  prev_break  \n",
       "0 2017-05-01 00:45:00+00:00 2017-05-01 01:00:00+00:00         NaN  \n",
       "1 2017-05-01 01:45:00+00:00 2017-05-01 02:30:00+00:00         NaN  \n",
       "2 2017-05-01 05:00:00+00:00 2017-05-01 05:15:00+00:00         NaN  \n",
       "3 2017-05-01 05:45:00+00:00 2017-05-01 05:45:00+00:00        30.0  \n",
       "4 2017-05-01 00:30:00+00:00 2017-05-01 00:30:00+00:00         NaN  "
      ]
     },
     "metadata": {},
     "output_type": "display_data"
    },
    {
     "data": {
      "application/javascript": [
       "parent.postMessage({\"jupyterEvent\": \"custom.exercise_interaction\", \"data\": {\"outcomeType\": 1, \"valueTowardsCompletion\": 0.3333333333333333, \"interactionType\": 1, \"questionType\": 2, \"questionId\": \"3_BreakTime\", \"learnToolsVersion\": \"0.3.4\", \"failureMessage\": \"\", \"exceptionClass\": \"\", \"trace\": \"\"}}, \"*\")"
      ],
      "text/plain": [
       "<IPython.core.display.Javascript object>"
      ]
     },
     "metadata": {},
     "output_type": "display_data"
    },
    {
     "data": {
      "text/markdown": [
       "<span style=\"color:#33cc33\">Correct</span>"
      ],
      "text/plain": [
       "Correct"
      ]
     },
     "metadata": {},
     "output_type": "display_data"
    }
   ],
   "source": [
    "# Fill in the blanks below\n",
    "break_time_query = \"\"\"\n",
    "                   SELECT taxi_id,\n",
    "                       trip_start_timestamp,\n",
    "                       trip_end_timestamp,\n",
    "                       TIMESTAMP_DIFF(\n",
    "                           trip_start_timestamp, \n",
    "                           LAG(trip_end_timestamp, 1)\n",
    "                               OVER (\n",
    "                                    PARTITION BY taxi_id \n",
    "                                    ORDER BY trip_start_timestamp), \n",
    "                           MINUTE) as prev_break\n",
    "                   FROM `bigquery-public-data.chicago_taxi_trips.taxi_trips`\n",
    "                   WHERE DATE(trip_start_timestamp) = '2017-05-01' \n",
    "                   \"\"\"\n",
    "\n",
    "# Check your answer\n",
    "q_3.check()"
   ]
  },
  {
   "cell_type": "code",
   "execution_count": 8,
   "id": "5ff1b193",
   "metadata": {
    "execution": {
     "iopub.execute_input": "2021-08-16T08:24:35.348364Z",
     "iopub.status.busy": "2021-08-16T08:24:35.347783Z",
     "iopub.status.idle": "2021-08-16T08:24:35.349562Z",
     "shell.execute_reply": "2021-08-16T08:24:35.349964Z",
     "shell.execute_reply.started": "2021-08-16T08:21:39.778492Z"
    },
    "papermill": {
     "duration": 0.020409,
     "end_time": "2021-08-16T08:24:35.350129",
     "exception": false,
     "start_time": "2021-08-16T08:24:35.329720",
     "status": "completed"
    },
    "tags": []
   },
   "outputs": [],
   "source": [
    "# Lines below will give you a hint or solution code\n",
    "#q_3.hint()\n",
    "#q_3.solution()"
   ]
  },
  {
   "cell_type": "markdown",
   "id": "d3a68e79",
   "metadata": {
    "papermill": {
     "duration": 0.014943,
     "end_time": "2021-08-16T08:24:35.380620",
     "exception": false,
     "start_time": "2021-08-16T08:24:35.365677",
     "status": "completed"
    },
    "tags": []
   },
   "source": [
    "# Keep going\n",
    "\n",
    "Move on to learn how to query **[nested and repeated data](https://www.kaggle.com/alexisbcook/nested-and-repeated-data)**."
   ]
  },
  {
   "cell_type": "markdown",
   "id": "ebda7b04",
   "metadata": {
    "papermill": {
     "duration": 0.015013,
     "end_time": "2021-08-16T08:24:35.411017",
     "exception": false,
     "start_time": "2021-08-16T08:24:35.396004",
     "status": "completed"
    },
    "tags": []
   },
   "source": [
    "---\n",
    "\n",
    "\n",
    "\n",
    "\n",
    "*Have questions or comments? Visit the [Learn Discussion forum](https://www.kaggle.com/learn-forum/161315) to chat with other Learners.*"
   ]
  }
 ],
 "metadata": {
  "kernelspec": {
   "display_name": "Python 3",
   "language": "python",
   "name": "python3"
  },
  "language_info": {
   "codemirror_mode": {
    "name": "ipython",
    "version": 3
   },
   "file_extension": ".py",
   "mimetype": "text/x-python",
   "name": "python",
   "nbconvert_exporter": "python",
   "pygments_lexer": "ipython3",
   "version": "3.7.10"
  },
  "papermill": {
   "default_parameters": {},
   "duration": 40.751007,
   "end_time": "2021-08-16T08:24:36.679338",
   "environment_variables": {},
   "exception": null,
   "input_path": "__notebook__.ipynb",
   "output_path": "__notebook__.ipynb",
   "parameters": {},
   "start_time": "2021-08-16T08:23:55.928331",
   "version": "2.3.3"
  }
 },
 "nbformat": 4,
 "nbformat_minor": 5
}
