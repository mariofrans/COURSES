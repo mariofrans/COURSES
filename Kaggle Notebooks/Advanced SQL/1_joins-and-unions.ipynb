{
 "cells": [
  {
   "cell_type": "markdown",
   "id": "gentle-amount",
   "metadata": {
    "papermill": {
     "duration": 0.011493,
     "end_time": "2021-06-03T16:36:26.986224",
     "exception": false,
     "start_time": "2021-06-03T16:36:26.974731",
     "status": "completed"
    },
    "tags": []
   },
   "source": [
    "# Introduction\n",
    "\n",
    "In the [Intro to SQL micro-course](https://www.kaggle.com/learn/intro-to-sql), you learned how to use [**INNER JOIN**](https://www.kaggle.com/dansbecker/joining-data) to consolidate information from two different tables.  Now you'll learn about a few more types of **JOIN**, along with how to use **UNIONs** to pull information from multiple tables.  \n",
    "\n",
    "Along the way, we'll work with two imaginary tables, called `owners` and `pets`. \n",
    "\n",
    "![two tables](https://i.imgur.com/dYVwS4T.png)\n",
    "\n",
    "Each row of the `owners` table identifies a different pet owner, where the `ID` column is a unique identifier.  The `Pet_ID` column (in the `owners` table) contains the ID for the pet that belongs to the owner (this number matches the ID for the pet from the `pets` table).\n",
    "\n",
    "For example, \n",
    "- the `pets` table shows that Dr. Harris Bonkers is the pet with ID 1.\n",
    "- The `owners` table shows that Aubrey Little is the owner of the pet with ID 1.\n",
    "\n",
    "Putting these two facts together, Dr. Harris Bonkers is owned by Aubrey Little.  Likewise, since Veronica Dunn does not have a corresponding `Pet_ID`, she does not have a pet.  And, since 5 does not appear in the `Pet_ID` column, Maisie does not have an owner.\n",
    "\n",
    "# JOINs\n",
    "\n",
    "Recall that we can use an **INNER JOIN** to pull rows from both tables where the value in the `Pet_ID` column in the `owners` table has a match in the `ID` column of the `pets` table.\n",
    "\n",
    "![...](https://i.imgur.com/C5wimKT.png)\n",
    "\n",
    "In this case, Veronica Dunn and Maisie are not included in the results.  But what if we instead want to create a table containing all pets, regardless of whether they have owners?  Or, what if we want to combine all of the rows in both tables?  In these cases, we need only use a different type of **JOIN**.\n",
    "\n",
    "For instance, to create a table containing all rows from the `owners` table, we use a **LEFT JOIN**.  In this case, \"left\" refers to the table that appears before the **JOIN** in the query.  (\"Right\" refers to the table that is after the **JOIN**.)\n",
    "\n",
    "![...](https://i.imgur.com/tnOqw2S.png)\n",
    "\n",
    "Replacing **INNER JOIN** in the query above with **LEFT JOIN** returns all rows where the two tables have matching entries, along with all of the rows in the left table (whether there is a match or not).  \n",
    "\n",
    "If we instead use a **RIGHT JOIN**, we get the matching rows, along with all rows in the right table (whether there is a match or not).\n",
    "\n",
    "Finally, a **FULL JOIN** returns all rows from both tables.  Note that in general, any row that does not have a match in both tables will have NULL entries for the missing values.  You can see this in the image below.\n",
    "\n",
    "![...](https://i.imgur.com/1Dvmg8S.png)\n",
    "\n",
    "\n",
    "# UNIONs\n",
    "\n",
    "As you've seen, **JOINs** horizontally combine results from different tables.  If you instead would like to vertically concatenate columns, you can do so with a **UNION**.  The example query below combines the `Age` columns from both tables.\n",
    "\n",
    "![...](https://i.imgur.com/oa6VDig.png)\n",
    "\n",
    "Note that with a **UNION**, the data types of both columns must be the same, but the column names can be different.  (So, for instance, we cannot take the **UNION** of the `Age` column from the `owners` table and the `Pet_Name` column from the `pets` table.) \n",
    "\n",
    "We use **UNION ALL** to include duplicate values - you'll notice that `9` appears in both the `owners` table and the `pets` table, and shows up twice in the concatenated results.  If you'd like to drop duplicate values, you need only change **UNION ALL** in the query to **UNION DISTINCT**.\n",
    "\n",
    "# Example\n",
    "\n",
    "We'll work with the [Hacker News](https://www.kaggle.com/hacker-news/hacker-news) dataset. We begin by reviewing the first several rows of the `comments` table. (_The corresponding code is hidden, but you can un-hide it by clicking on the \"Code\" button below._)"
   ]
  },
  {
   "cell_type": "code",
   "execution_count": 1,
   "id": "rural-tomorrow",
   "metadata": {
    "_kg_hide-input": true,
    "execution": {
     "iopub.execute_input": "2021-06-03T16:36:27.009954Z",
     "iopub.status.busy": "2021-06-03T16:36:27.008771Z",
     "iopub.status.idle": "2021-06-03T16:36:29.954805Z",
     "shell.execute_reply": "2021-06-03T16:36:29.955451Z"
    },
    "papermill": {
     "duration": 2.960158,
     "end_time": "2021-06-03T16:36:29.955807",
     "exception": false,
     "start_time": "2021-06-03T16:36:26.995649",
     "status": "completed"
    },
    "tags": []
   },
   "outputs": [
    {
     "name": "stdout",
     "output_type": "stream",
     "text": [
      "Using Kaggle's public dataset BigQuery integration.\n"
     ]
    },
    {
     "name": "stderr",
     "output_type": "stream",
     "text": [
      "/opt/conda/lib/python3.7/site-packages/ipykernel_launcher.py:19: UserWarning: Cannot use bqstorage_client if max_results is set, reverting to fetching data with the tabledata.list endpoint.\n"
     ]
    },
    {
     "data": {
      "text/html": [
       "<div>\n",
       "<style scoped>\n",
       "    .dataframe tbody tr th:only-of-type {\n",
       "        vertical-align: middle;\n",
       "    }\n",
       "\n",
       "    .dataframe tbody tr th {\n",
       "        vertical-align: top;\n",
       "    }\n",
       "\n",
       "    .dataframe thead th {\n",
       "        text-align: right;\n",
       "    }\n",
       "</style>\n",
       "<table border=\"1\" class=\"dataframe\">\n",
       "  <thead>\n",
       "    <tr style=\"text-align: right;\">\n",
       "      <th></th>\n",
       "      <th>id</th>\n",
       "      <th>by</th>\n",
       "      <th>author</th>\n",
       "      <th>time</th>\n",
       "      <th>time_ts</th>\n",
       "      <th>text</th>\n",
       "      <th>parent</th>\n",
       "      <th>deleted</th>\n",
       "      <th>dead</th>\n",
       "      <th>ranking</th>\n",
       "    </tr>\n",
       "  </thead>\n",
       "  <tbody>\n",
       "    <tr>\n",
       "      <th>0</th>\n",
       "      <td>2701393</td>\n",
       "      <td>5l</td>\n",
       "      <td>5l</td>\n",
       "      <td>1309184881</td>\n",
       "      <td>2011-06-27 14:28:01+00:00</td>\n",
       "      <td>And the glazier who fixed all the broken windo...</td>\n",
       "      <td>2701243</td>\n",
       "      <td>None</td>\n",
       "      <td>None</td>\n",
       "      <td>0</td>\n",
       "    </tr>\n",
       "    <tr>\n",
       "      <th>1</th>\n",
       "      <td>5811403</td>\n",
       "      <td>99</td>\n",
       "      <td>99</td>\n",
       "      <td>1370234048</td>\n",
       "      <td>2013-06-03 04:34:08+00:00</td>\n",
       "      <td>Does canada have the equivalent of H1B/Green c...</td>\n",
       "      <td>5804452</td>\n",
       "      <td>None</td>\n",
       "      <td>None</td>\n",
       "      <td>0</td>\n",
       "    </tr>\n",
       "    <tr>\n",
       "      <th>2</th>\n",
       "      <td>21623</td>\n",
       "      <td>AF</td>\n",
       "      <td>AF</td>\n",
       "      <td>1178992400</td>\n",
       "      <td>2007-05-12 17:53:20+00:00</td>\n",
       "      <td>Speaking of Rails, there are other options in ...</td>\n",
       "      <td>21611</td>\n",
       "      <td>None</td>\n",
       "      <td>None</td>\n",
       "      <td>0</td>\n",
       "    </tr>\n",
       "    <tr>\n",
       "      <th>3</th>\n",
       "      <td>10159727</td>\n",
       "      <td>EA</td>\n",
       "      <td>EA</td>\n",
       "      <td>1441206574</td>\n",
       "      <td>2015-09-02 15:09:34+00:00</td>\n",
       "      <td>Humans and large livestock (and maybe even pet...</td>\n",
       "      <td>10159396</td>\n",
       "      <td>None</td>\n",
       "      <td>None</td>\n",
       "      <td>0</td>\n",
       "    </tr>\n",
       "    <tr>\n",
       "      <th>4</th>\n",
       "      <td>2988424</td>\n",
       "      <td>Iv</td>\n",
       "      <td>Iv</td>\n",
       "      <td>1315853580</td>\n",
       "      <td>2011-09-12 18:53:00+00:00</td>\n",
       "      <td>I must say I reacted in the same way when I re...</td>\n",
       "      <td>2988179</td>\n",
       "      <td>None</td>\n",
       "      <td>None</td>\n",
       "      <td>0</td>\n",
       "    </tr>\n",
       "  </tbody>\n",
       "</table>\n",
       "</div>"
      ],
      "text/plain": [
       "         id  by author        time                   time_ts  \\\n",
       "0   2701393  5l     5l  1309184881 2011-06-27 14:28:01+00:00   \n",
       "1   5811403  99     99  1370234048 2013-06-03 04:34:08+00:00   \n",
       "2     21623  AF     AF  1178992400 2007-05-12 17:53:20+00:00   \n",
       "3  10159727  EA     EA  1441206574 2015-09-02 15:09:34+00:00   \n",
       "4   2988424  Iv     Iv  1315853580 2011-09-12 18:53:00+00:00   \n",
       "\n",
       "                                                text    parent deleted  dead  \\\n",
       "0  And the glazier who fixed all the broken windo...   2701243    None  None   \n",
       "1  Does canada have the equivalent of H1B/Green c...   5804452    None  None   \n",
       "2  Speaking of Rails, there are other options in ...     21611    None  None   \n",
       "3  Humans and large livestock (and maybe even pet...  10159396    None  None   \n",
       "4  I must say I reacted in the same way when I re...   2988179    None  None   \n",
       "\n",
       "   ranking  \n",
       "0        0  \n",
       "1        0  \n",
       "2        0  \n",
       "3        0  \n",
       "4        0  "
      ]
     },
     "execution_count": 1,
     "metadata": {},
     "output_type": "execute_result"
    }
   ],
   "source": [
    "\n",
    "from google.cloud import bigquery\n",
    "\n",
    "# Create a \"Client\" object\n",
    "client = bigquery.Client()\n",
    "\n",
    "# Construct a reference to the \"hacker_news\" dataset\n",
    "dataset_ref = client.dataset(\"hacker_news\", project=\"bigquery-public-data\")\n",
    "\n",
    "# API request - fetch the dataset\n",
    "dataset = client.get_dataset(dataset_ref)\n",
    "\n",
    "# Construct a reference to the \"comments\" table\n",
    "table_ref = dataset_ref.table(\"comments\")\n",
    "\n",
    "# API request - fetch the table\n",
    "table = client.get_table(table_ref)\n",
    "\n",
    "# Preview the first five lines of the table\n",
    "client.list_rows(table, max_results=5).to_dataframe()"
   ]
  },
  {
   "cell_type": "markdown",
   "id": "charming-gravity",
   "metadata": {
    "papermill": {
     "duration": 0.010187,
     "end_time": "2021-06-03T16:36:29.976986",
     "exception": false,
     "start_time": "2021-06-03T16:36:29.966799",
     "status": "completed"
    },
    "tags": []
   },
   "source": [
    "You'll also work with the `stories` table."
   ]
  },
  {
   "cell_type": "code",
   "execution_count": 2,
   "id": "known-armor",
   "metadata": {
    "_kg_hide-input": true,
    "execution": {
     "iopub.execute_input": "2021-06-03T16:36:30.006663Z",
     "iopub.status.busy": "2021-06-03T16:36:30.005937Z",
     "iopub.status.idle": "2021-06-03T16:36:31.556229Z",
     "shell.execute_reply": "2021-06-03T16:36:31.555602Z"
    },
    "papermill": {
     "duration": 1.568859,
     "end_time": "2021-06-03T16:36:31.556391",
     "exception": false,
     "start_time": "2021-06-03T16:36:29.987532",
     "status": "completed"
    },
    "tags": []
   },
   "outputs": [
    {
     "name": "stderr",
     "output_type": "stream",
     "text": [
      "/opt/conda/lib/python3.7/site-packages/ipykernel_launcher.py:8: UserWarning: Cannot use bqstorage_client if max_results is set, reverting to fetching data with the tabledata.list endpoint.\n",
      "  \n"
     ]
    },
    {
     "data": {
      "text/html": [
       "<div>\n",
       "<style scoped>\n",
       "    .dataframe tbody tr th:only-of-type {\n",
       "        vertical-align: middle;\n",
       "    }\n",
       "\n",
       "    .dataframe tbody tr th {\n",
       "        vertical-align: top;\n",
       "    }\n",
       "\n",
       "    .dataframe thead th {\n",
       "        text-align: right;\n",
       "    }\n",
       "</style>\n",
       "<table border=\"1\" class=\"dataframe\">\n",
       "  <thead>\n",
       "    <tr style=\"text-align: right;\">\n",
       "      <th></th>\n",
       "      <th>id</th>\n",
       "      <th>by</th>\n",
       "      <th>score</th>\n",
       "      <th>time</th>\n",
       "      <th>time_ts</th>\n",
       "      <th>title</th>\n",
       "      <th>url</th>\n",
       "      <th>text</th>\n",
       "      <th>deleted</th>\n",
       "      <th>dead</th>\n",
       "      <th>descendants</th>\n",
       "      <th>author</th>\n",
       "    </tr>\n",
       "  </thead>\n",
       "  <tbody>\n",
       "    <tr>\n",
       "      <th>0</th>\n",
       "      <td>6940813</td>\n",
       "      <td>sarath237</td>\n",
       "      <td>0</td>\n",
       "      <td>1387536270</td>\n",
       "      <td>2013-12-20 10:44:30+00:00</td>\n",
       "      <td>Sheryl Brindo Hot Pics</td>\n",
       "      <td>http://www.youtube.com/watch?v=ym1cyxneB0Y</td>\n",
       "      <td>Sheryl Brindo Hot Pics</td>\n",
       "      <td>None</td>\n",
       "      <td>True</td>\n",
       "      <td>NaN</td>\n",
       "      <td>sarath237</td>\n",
       "    </tr>\n",
       "    <tr>\n",
       "      <th>1</th>\n",
       "      <td>6991401</td>\n",
       "      <td>123123321321</td>\n",
       "      <td>0</td>\n",
       "      <td>1388508751</td>\n",
       "      <td>2013-12-31 16:52:31+00:00</td>\n",
       "      <td>Are you people also put off by the culture of ...</td>\n",
       "      <td></td>\n",
       "      <td>They&amp;#x27;re pretty explicitly &amp;#x27;startup f...</td>\n",
       "      <td>None</td>\n",
       "      <td>True</td>\n",
       "      <td>NaN</td>\n",
       "      <td>123123321321</td>\n",
       "    </tr>\n",
       "    <tr>\n",
       "      <th>2</th>\n",
       "      <td>1531556</td>\n",
       "      <td>ssn</td>\n",
       "      <td>0</td>\n",
       "      <td>1279617234</td>\n",
       "      <td>2010-07-20 09:13:54+00:00</td>\n",
       "      <td>New UI for Google Image Search</td>\n",
       "      <td>http://googlesystem.blogspot.com/2010/07/googl...</td>\n",
       "      <td>Again following on Bing's lead.</td>\n",
       "      <td>None</td>\n",
       "      <td>None</td>\n",
       "      <td>0.0</td>\n",
       "      <td>ssn</td>\n",
       "    </tr>\n",
       "    <tr>\n",
       "      <th>3</th>\n",
       "      <td>5012398</td>\n",
       "      <td>hoju</td>\n",
       "      <td>0</td>\n",
       "      <td>1357387877</td>\n",
       "      <td>2013-01-05 12:11:17+00:00</td>\n",
       "      <td>Historic website screenshots</td>\n",
       "      <td>http://webscraping.com/blog/Generate-website-s...</td>\n",
       "      <td>Python script to generate historic screenshots...</td>\n",
       "      <td>None</td>\n",
       "      <td>None</td>\n",
       "      <td>0.0</td>\n",
       "      <td>hoju</td>\n",
       "    </tr>\n",
       "    <tr>\n",
       "      <th>4</th>\n",
       "      <td>7214182</td>\n",
       "      <td>kogir</td>\n",
       "      <td>0</td>\n",
       "      <td>1401561740</td>\n",
       "      <td>2014-05-31 18:42:20+00:00</td>\n",
       "      <td>Placeholder</td>\n",
       "      <td></td>\n",
       "      <td>Mind the gap.</td>\n",
       "      <td>None</td>\n",
       "      <td>None</td>\n",
       "      <td>0.0</td>\n",
       "      <td>kogir</td>\n",
       "    </tr>\n",
       "  </tbody>\n",
       "</table>\n",
       "</div>"
      ],
      "text/plain": [
       "        id            by  score        time                   time_ts  \\\n",
       "0  6940813     sarath237      0  1387536270 2013-12-20 10:44:30+00:00   \n",
       "1  6991401  123123321321      0  1388508751 2013-12-31 16:52:31+00:00   \n",
       "2  1531556           ssn      0  1279617234 2010-07-20 09:13:54+00:00   \n",
       "3  5012398          hoju      0  1357387877 2013-01-05 12:11:17+00:00   \n",
       "4  7214182         kogir      0  1401561740 2014-05-31 18:42:20+00:00   \n",
       "\n",
       "                                               title  \\\n",
       "0                            Sheryl Brindo Hot Pics    \n",
       "1  Are you people also put off by the culture of ...   \n",
       "2                     New UI for Google Image Search   \n",
       "3                       Historic website screenshots   \n",
       "4                                        Placeholder   \n",
       "\n",
       "                                                 url  \\\n",
       "0         http://www.youtube.com/watch?v=ym1cyxneB0Y   \n",
       "1                                                      \n",
       "2  http://googlesystem.blogspot.com/2010/07/googl...   \n",
       "3  http://webscraping.com/blog/Generate-website-s...   \n",
       "4                                                      \n",
       "\n",
       "                                                text deleted  dead  \\\n",
       "0                             Sheryl Brindo Hot Pics    None  True   \n",
       "1  They&#x27;re pretty explicitly &#x27;startup f...    None  True   \n",
       "2                    Again following on Bing's lead.    None  None   \n",
       "3  Python script to generate historic screenshots...    None  None   \n",
       "4                                      Mind the gap.    None  None   \n",
       "\n",
       "   descendants        author  \n",
       "0          NaN     sarath237  \n",
       "1          NaN  123123321321  \n",
       "2          0.0           ssn  \n",
       "3          0.0          hoju  \n",
       "4          0.0         kogir  "
      ]
     },
     "execution_count": 2,
     "metadata": {},
     "output_type": "execute_result"
    }
   ],
   "source": [
    "# Construct a reference to the \"stories\" table\n",
    "table_ref = dataset_ref.table(\"stories\")\n",
    "\n",
    "# API request - fetch the table\n",
    "table = client.get_table(table_ref)\n",
    "\n",
    "# Preview the first five lines of the table\n",
    "client.list_rows(table, max_results=5).to_dataframe()"
   ]
  },
  {
   "cell_type": "markdown",
   "id": "therapeutic-irrigation",
   "metadata": {
    "papermill": {
     "duration": 0.011297,
     "end_time": "2021-06-03T16:36:31.579318",
     "exception": false,
     "start_time": "2021-06-03T16:36:31.568021",
     "status": "completed"
    },
    "tags": []
   },
   "source": [
    "Since you are already familiar with **JOINs** from the [Intro to SQL micro-course](https://www.kaggle.com/learn/intro-to-sql), we'll work with a relatively complex example of a JOIN that uses a [common table expression (CTE)](https://www.kaggle.com/dansbecker/as-with).\n",
    "\n",
    "The query below pulls information from the `stories` and `comments` tables to create a table showing all stories posted on January 1, 2012, along with the corresponding number of comments.  We use a **LEFT JOIN** so that the results include stories that didn't receive any comments."
   ]
  },
  {
   "cell_type": "code",
   "execution_count": 3,
   "id": "broad-service",
   "metadata": {
    "execution": {
     "iopub.execute_input": "2021-06-03T16:36:31.611114Z",
     "iopub.status.busy": "2021-06-03T16:36:31.610385Z",
     "iopub.status.idle": "2021-06-03T16:36:33.266665Z",
     "shell.execute_reply": "2021-06-03T16:36:33.267146Z"
    },
    "papermill": {
     "duration": 1.676556,
     "end_time": "2021-06-03T16:36:33.267353",
     "exception": false,
     "start_time": "2021-06-03T16:36:31.590797",
     "status": "completed"
    },
    "tags": []
   },
   "outputs": [
    {
     "name": "stderr",
     "output_type": "stream",
     "text": [
      "/opt/conda/lib/python3.7/site-packages/google/cloud/bigquery/client.py:440: UserWarning: Cannot create BigQuery Storage client, the dependency google-cloud-bigquery-storage is not installed.\n",
      "  \"Cannot create BigQuery Storage client, the dependency \"\n"
     ]
    },
    {
     "data": {
      "text/html": [
       "<div>\n",
       "<style scoped>\n",
       "    .dataframe tbody tr th:only-of-type {\n",
       "        vertical-align: middle;\n",
       "    }\n",
       "\n",
       "    .dataframe tbody tr th {\n",
       "        vertical-align: top;\n",
       "    }\n",
       "\n",
       "    .dataframe thead th {\n",
       "        text-align: right;\n",
       "    }\n",
       "</style>\n",
       "<table border=\"1\" class=\"dataframe\">\n",
       "  <thead>\n",
       "    <tr style=\"text-align: right;\">\n",
       "      <th></th>\n",
       "      <th>story_id</th>\n",
       "      <th>by</th>\n",
       "      <th>title</th>\n",
       "      <th>num_comments</th>\n",
       "    </tr>\n",
       "  </thead>\n",
       "  <tbody>\n",
       "    <tr>\n",
       "      <th>0</th>\n",
       "      <td>3412900</td>\n",
       "      <td>whoishiring</td>\n",
       "      <td>Ask HN: Who is Hiring? (January 2012)</td>\n",
       "      <td>154.0</td>\n",
       "    </tr>\n",
       "    <tr>\n",
       "      <th>1</th>\n",
       "      <td>3412901</td>\n",
       "      <td>whoishiring</td>\n",
       "      <td>Ask HN: Freelancer? Seeking freelancer? (Janua...</td>\n",
       "      <td>97.0</td>\n",
       "    </tr>\n",
       "    <tr>\n",
       "      <th>2</th>\n",
       "      <td>3412643</td>\n",
       "      <td>jemeshsu</td>\n",
       "      <td>Avoid Apress</td>\n",
       "      <td>30.0</td>\n",
       "    </tr>\n",
       "    <tr>\n",
       "      <th>3</th>\n",
       "      <td>3412891</td>\n",
       "      <td>Brajeshwar</td>\n",
       "      <td>There's no shame in code that is simply \"good ...</td>\n",
       "      <td>27.0</td>\n",
       "    </tr>\n",
       "    <tr>\n",
       "      <th>4</th>\n",
       "      <td>3414012</td>\n",
       "      <td>ramanujam</td>\n",
       "      <td>Impress.js - a Prezi like implementation using...</td>\n",
       "      <td>27.0</td>\n",
       "    </tr>\n",
       "  </tbody>\n",
       "</table>\n",
       "</div>"
      ],
      "text/plain": [
       "   story_id           by                                              title  \\\n",
       "0   3412900  whoishiring              Ask HN: Who is Hiring? (January 2012)   \n",
       "1   3412901  whoishiring  Ask HN: Freelancer? Seeking freelancer? (Janua...   \n",
       "2   3412643     jemeshsu                                       Avoid Apress   \n",
       "3   3412891   Brajeshwar  There's no shame in code that is simply \"good ...   \n",
       "4   3414012    ramanujam  Impress.js - a Prezi like implementation using...   \n",
       "\n",
       "   num_comments  \n",
       "0         154.0  \n",
       "1          97.0  \n",
       "2          30.0  \n",
       "3          27.0  \n",
       "4          27.0  "
      ]
     },
     "execution_count": 3,
     "metadata": {},
     "output_type": "execute_result"
    }
   ],
   "source": [
    "# Query to select all stories posted on January 1, 2012, with number of comments\n",
    "join_query = \"\"\"\n",
    "             WITH c AS\n",
    "             (\n",
    "             SELECT parent, COUNT(*) as num_comments\n",
    "             FROM `bigquery-public-data.hacker_news.comments` \n",
    "             GROUP BY parent\n",
    "             )\n",
    "             SELECT s.id as story_id, s.by, s.title, c.num_comments\n",
    "             FROM `bigquery-public-data.hacker_news.stories` AS s\n",
    "             LEFT JOIN c\n",
    "             ON s.id = c.parent\n",
    "             WHERE EXTRACT(DATE FROM s.time_ts) = '2012-01-01'\n",
    "             ORDER BY c.num_comments DESC\n",
    "             \"\"\"\n",
    "\n",
    "# Run the query, and return a pandas DataFrame\n",
    "join_result = client.query(join_query).result().to_dataframe()\n",
    "join_result.head()"
   ]
  },
  {
   "cell_type": "markdown",
   "id": "disciplinary-surname",
   "metadata": {
    "papermill": {
     "duration": 0.012503,
     "end_time": "2021-06-03T16:36:33.292693",
     "exception": false,
     "start_time": "2021-06-03T16:36:33.280190",
     "status": "completed"
    },
    "tags": []
   },
   "source": [
    "Since the results are ordered by the `num_comments` column, stories without comments appear at the end of the DataFrame.  (Remember that **NaN** stands for \"not a number\".)"
   ]
  },
  {
   "cell_type": "code",
   "execution_count": 4,
   "id": "authorized-contest",
   "metadata": {
    "execution": {
     "iopub.execute_input": "2021-06-03T16:36:33.322474Z",
     "iopub.status.busy": "2021-06-03T16:36:33.321513Z",
     "iopub.status.idle": "2021-06-03T16:36:33.332869Z",
     "shell.execute_reply": "2021-06-03T16:36:33.333339Z"
    },
    "papermill": {
     "duration": 0.027987,
     "end_time": "2021-06-03T16:36:33.333541",
     "exception": false,
     "start_time": "2021-06-03T16:36:33.305554",
     "status": "completed"
    },
    "tags": []
   },
   "outputs": [
    {
     "data": {
      "text/html": [
       "<div>\n",
       "<style scoped>\n",
       "    .dataframe tbody tr th:only-of-type {\n",
       "        vertical-align: middle;\n",
       "    }\n",
       "\n",
       "    .dataframe tbody tr th {\n",
       "        vertical-align: top;\n",
       "    }\n",
       "\n",
       "    .dataframe thead th {\n",
       "        text-align: right;\n",
       "    }\n",
       "</style>\n",
       "<table border=\"1\" class=\"dataframe\">\n",
       "  <thead>\n",
       "    <tr style=\"text-align: right;\">\n",
       "      <th></th>\n",
       "      <th>story_id</th>\n",
       "      <th>by</th>\n",
       "      <th>title</th>\n",
       "      <th>num_comments</th>\n",
       "    </tr>\n",
       "  </thead>\n",
       "  <tbody>\n",
       "    <tr>\n",
       "      <th>439</th>\n",
       "      <td>3412634</td>\n",
       "      <td>wslh</td>\n",
       "      <td>Cracks in the BRIC wall</td>\n",
       "      <td>NaN</td>\n",
       "    </tr>\n",
       "    <tr>\n",
       "      <th>440</th>\n",
       "      <td>3413145</td>\n",
       "      <td>jacquesm</td>\n",
       "      <td>CUDA Textbook - IAP 2009 CUDAMIT / 6.963</td>\n",
       "      <td>NaN</td>\n",
       "    </tr>\n",
       "    <tr>\n",
       "      <th>441</th>\n",
       "      <td>3412395</td>\n",
       "      <td>gsivil</td>\n",
       "      <td>Ask PG: HNY and what about some hi-res icons f...</td>\n",
       "      <td>NaN</td>\n",
       "    </tr>\n",
       "    <tr>\n",
       "      <th>442</th>\n",
       "      <td>3412871</td>\n",
       "      <td>tashmi</td>\n",
       "      <td>Pop rock music radio online</td>\n",
       "      <td>NaN</td>\n",
       "    </tr>\n",
       "    <tr>\n",
       "      <th>443</th>\n",
       "      <td>3413989</td>\n",
       "      <td>ukdm</td>\n",
       "      <td>GRAIL-A Spacecraft Arrives at the Moon</td>\n",
       "      <td>NaN</td>\n",
       "    </tr>\n",
       "  </tbody>\n",
       "</table>\n",
       "</div>"
      ],
      "text/plain": [
       "     story_id        by                                              title  \\\n",
       "439   3412634      wslh                            Cracks in the BRIC wall   \n",
       "440   3413145  jacquesm           CUDA Textbook - IAP 2009 CUDAMIT / 6.963   \n",
       "441   3412395    gsivil  Ask PG: HNY and what about some hi-res icons f...   \n",
       "442   3412871    tashmi                        Pop rock music radio online   \n",
       "443   3413989      ukdm             GRAIL-A Spacecraft Arrives at the Moon   \n",
       "\n",
       "     num_comments  \n",
       "439           NaN  \n",
       "440           NaN  \n",
       "441           NaN  \n",
       "442           NaN  \n",
       "443           NaN  "
      ]
     },
     "execution_count": 4,
     "metadata": {},
     "output_type": "execute_result"
    }
   ],
   "source": [
    "# None of these stories received any comments\n",
    "join_result.tail()"
   ]
  },
  {
   "cell_type": "markdown",
   "id": "southeast-address",
   "metadata": {
    "papermill": {
     "duration": 0.012853,
     "end_time": "2021-06-03T16:36:33.359484",
     "exception": false,
     "start_time": "2021-06-03T16:36:33.346631",
     "status": "completed"
    },
    "tags": []
   },
   "source": [
    "Next, we write a query to select all usernames corresponding to users who wrote stories or comments on January 1, 2014.  We use **UNION DISTINCT** (instead of **UNION ALL**) to ensure that each user appears in the table at most once."
   ]
  },
  {
   "cell_type": "code",
   "execution_count": 5,
   "id": "otherwise-packet",
   "metadata": {
    "execution": {
     "iopub.execute_input": "2021-06-03T16:36:33.391828Z",
     "iopub.status.busy": "2021-06-03T16:36:33.390801Z",
     "iopub.status.idle": "2021-06-03T16:36:35.170958Z",
     "shell.execute_reply": "2021-06-03T16:36:35.170367Z"
    },
    "papermill": {
     "duration": 1.796753,
     "end_time": "2021-06-03T16:36:35.171130",
     "exception": false,
     "start_time": "2021-06-03T16:36:33.374377",
     "status": "completed"
    },
    "tags": []
   },
   "outputs": [
    {
     "name": "stderr",
     "output_type": "stream",
     "text": [
      "/opt/conda/lib/python3.7/site-packages/google/cloud/bigquery/client.py:440: UserWarning: Cannot create BigQuery Storage client, the dependency google-cloud-bigquery-storage is not installed.\n",
      "  \"Cannot create BigQuery Storage client, the dependency \"\n"
     ]
    },
    {
     "data": {
      "text/html": [
       "<div>\n",
       "<style scoped>\n",
       "    .dataframe tbody tr th:only-of-type {\n",
       "        vertical-align: middle;\n",
       "    }\n",
       "\n",
       "    .dataframe tbody tr th {\n",
       "        vertical-align: top;\n",
       "    }\n",
       "\n",
       "    .dataframe thead th {\n",
       "        text-align: right;\n",
       "    }\n",
       "</style>\n",
       "<table border=\"1\" class=\"dataframe\">\n",
       "  <thead>\n",
       "    <tr style=\"text-align: right;\">\n",
       "      <th></th>\n",
       "      <th>by</th>\n",
       "    </tr>\n",
       "  </thead>\n",
       "  <tbody>\n",
       "    <tr>\n",
       "      <th>0</th>\n",
       "      <td>kawsper</td>\n",
       "    </tr>\n",
       "    <tr>\n",
       "      <th>1</th>\n",
       "      <td>mayrund</td>\n",
       "    </tr>\n",
       "    <tr>\n",
       "      <th>2</th>\n",
       "      <td>webmaven</td>\n",
       "    </tr>\n",
       "    <tr>\n",
       "      <th>3</th>\n",
       "      <td>kmfrk</td>\n",
       "    </tr>\n",
       "    <tr>\n",
       "      <th>4</th>\n",
       "      <td>rbobby</td>\n",
       "    </tr>\n",
       "  </tbody>\n",
       "</table>\n",
       "</div>"
      ],
      "text/plain": [
       "         by\n",
       "0   kawsper\n",
       "1   mayrund\n",
       "2  webmaven\n",
       "3     kmfrk\n",
       "4    rbobby"
      ]
     },
     "execution_count": 5,
     "metadata": {},
     "output_type": "execute_result"
    }
   ],
   "source": [
    "# Query to select all users who posted stories or comments on January 1, 2014\n",
    "union_query = \"\"\"\n",
    "              SELECT c.by\n",
    "              FROM `bigquery-public-data.hacker_news.comments` AS c\n",
    "              WHERE EXTRACT(DATE FROM c.time_ts) = '2014-01-01'\n",
    "              UNION DISTINCT\n",
    "              SELECT s.by\n",
    "              FROM `bigquery-public-data.hacker_news.stories` AS s\n",
    "              WHERE EXTRACT(DATE FROM s.time_ts) = '2014-01-01'\n",
    "              \"\"\"\n",
    "\n",
    "# Run the query, and return a pandas DataFrame\n",
    "union_result = client.query(union_query).result().to_dataframe()\n",
    "union_result.head()"
   ]
  },
  {
   "cell_type": "markdown",
   "id": "hawaiian-apache",
   "metadata": {
    "papermill": {
     "duration": 0.013571,
     "end_time": "2021-06-03T16:36:35.199051",
     "exception": false,
     "start_time": "2021-06-03T16:36:35.185480",
     "status": "completed"
    },
    "tags": []
   },
   "source": [
    "To get the number of users who posted on January 1, 2014, we need only take the length of the DataFrame."
   ]
  },
  {
   "cell_type": "code",
   "execution_count": 6,
   "id": "micro-large",
   "metadata": {
    "execution": {
     "iopub.execute_input": "2021-06-03T16:36:35.232754Z",
     "iopub.status.busy": "2021-06-03T16:36:35.231709Z",
     "iopub.status.idle": "2021-06-03T16:36:35.236311Z",
     "shell.execute_reply": "2021-06-03T16:36:35.235681Z"
    },
    "papermill": {
     "duration": 0.023553,
     "end_time": "2021-06-03T16:36:35.236454",
     "exception": false,
     "start_time": "2021-06-03T16:36:35.212901",
     "status": "completed"
    },
    "tags": []
   },
   "outputs": [
    {
     "data": {
      "text/plain": [
       "2282"
      ]
     },
     "execution_count": 6,
     "metadata": {},
     "output_type": "execute_result"
    }
   ],
   "source": [
    "# Number of users who posted stories or comments on January 1, 2014\n",
    "len(union_result)"
   ]
  },
  {
   "cell_type": "markdown",
   "id": "subtle-airline",
   "metadata": {
    "papermill": {
     "duration": 0.013987,
     "end_time": "2021-06-03T16:36:35.264884",
     "exception": false,
     "start_time": "2021-06-03T16:36:35.250897",
     "status": "completed"
    },
    "tags": []
   },
   "source": [
    "# Your turn \n",
    "\n",
    "Use what you've learned to **[pull information from multiple tables](https://www.kaggle.com/kernels/fork/5045818)**."
   ]
  },
  {
   "cell_type": "markdown",
   "id": "labeled-general",
   "metadata": {
    "papermill": {
     "duration": 0.013912,
     "end_time": "2021-06-03T16:36:35.293187",
     "exception": false,
     "start_time": "2021-06-03T16:36:35.279275",
     "status": "completed"
    },
    "tags": []
   },
   "source": [
    "---\n",
    "\n",
    "\n",
    "\n",
    "\n",
    "*Have questions or comments? Visit the [Learn Discussion forum](https://www.kaggle.com/learn-forum/161315) to chat with other Learners.*"
   ]
  }
 ],
 "metadata": {
  "kernelspec": {
   "display_name": "Python 3",
   "language": "python",
   "name": "python3"
  },
  "language_info": {
   "codemirror_mode": {
    "name": "ipython",
    "version": 3
   },
   "file_extension": ".py",
   "mimetype": "text/x-python",
   "name": "python",
   "nbconvert_exporter": "python",
   "pygments_lexer": "ipython3",
   "version": "3.7.9"
  },
  "papermill": {
   "default_parameters": {},
   "duration": 15.312651,
   "end_time": "2021-06-03T16:36:36.119930",
   "environment_variables": {},
   "exception": null,
   "input_path": "__notebook__.ipynb",
   "output_path": "__notebook__.ipynb",
   "parameters": {},
   "start_time": "2021-06-03T16:36:20.807279",
   "version": "2.3.2"
  }
 },
 "nbformat": 4,
 "nbformat_minor": 5
}
