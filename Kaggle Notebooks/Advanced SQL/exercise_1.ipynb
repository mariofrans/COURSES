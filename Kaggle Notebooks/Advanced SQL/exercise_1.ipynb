{
 "cells": [
  {
   "cell_type": "markdown",
   "id": "06fbc293",
   "metadata": {
    "papermill": {
     "duration": 0.01425,
     "end_time": "2021-08-16T07:49:31.750307",
     "exception": false,
     "start_time": "2021-08-16T07:49:31.736057",
     "status": "completed"
    },
    "tags": []
   },
   "source": [
    "**This notebook is an exercise in the [Advanced SQL](https://www.kaggle.com/learn/advanced-sql) course.  You can reference the tutorial at [this link](https://www.kaggle.com/alexisbcook/joins-and-unions).**\n",
    "\n",
    "---\n"
   ]
  },
  {
   "cell_type": "markdown",
   "id": "1ccfc314",
   "metadata": {
    "papermill": {
     "duration": 0.013187,
     "end_time": "2021-08-16T07:49:31.777673",
     "exception": false,
     "start_time": "2021-08-16T07:49:31.764486",
     "status": "completed"
    },
    "tags": []
   },
   "source": [
    "# Introduction\n",
    "\n",
    "Here, you'll use different types of SQL **JOINs** to answer questions about the [Stack Overflow](https://www.kaggle.com/stackoverflow/stackoverflow) dataset.\n",
    "\n",
    "Before you get started, run the following cell to set everything up."
   ]
  },
  {
   "cell_type": "code",
   "execution_count": 1,
   "id": "61b41318",
   "metadata": {
    "execution": {
     "iopub.execute_input": "2021-08-16T07:49:31.815579Z",
     "iopub.status.busy": "2021-08-16T07:49:31.814901Z",
     "iopub.status.idle": "2021-08-16T07:49:51.242931Z",
     "shell.execute_reply": "2021-08-16T07:49:51.243495Z",
     "shell.execute_reply.started": "2021-08-16T06:47:54.650857Z"
    },
    "papermill": {
     "duration": 19.453545,
     "end_time": "2021-08-16T07:49:51.243830",
     "exception": false,
     "start_time": "2021-08-16T07:49:31.790285",
     "status": "completed"
    },
    "tags": []
   },
   "outputs": [
    {
     "name": "stdout",
     "output_type": "stream",
     "text": [
      "Using Kaggle's public dataset BigQuery integration.\n"
     ]
    },
    {
     "name": "stderr",
     "output_type": "stream",
     "text": [
      "/opt/conda/lib/python3.7/site-packages/google/cloud/bigquery/client.py:440: UserWarning: Cannot create BigQuery Storage client, the dependency google-cloud-bigquery-storage is not installed.\n",
      "  \"Cannot create BigQuery Storage client, the dependency \"\n"
     ]
    },
    {
     "name": "stdout",
     "output_type": "stream",
     "text": [
      "Setup Complete\n"
     ]
    }
   ],
   "source": [
    "# Set up feedback system\n",
    "from learntools.core import binder\n",
    "binder.bind(globals())\n",
    "from learntools.sql_advanced.ex1 import *\n",
    "print(\"Setup Complete\")"
   ]
  },
  {
   "cell_type": "markdown",
   "id": "b9cc7be1",
   "metadata": {
    "papermill": {
     "duration": 0.013112,
     "end_time": "2021-08-16T07:49:51.271799",
     "exception": false,
     "start_time": "2021-08-16T07:49:51.258687",
     "status": "completed"
    },
    "tags": []
   },
   "source": [
    "The code cell below fetches the `posts_questions` table from the `stackoverflow` dataset.  We also preview the first five rows of the table."
   ]
  },
  {
   "cell_type": "code",
   "execution_count": 2,
   "id": "9ef20ca6",
   "metadata": {
    "execution": {
     "iopub.execute_input": "2021-08-16T07:49:51.306811Z",
     "iopub.status.busy": "2021-08-16T07:49:51.304713Z",
     "iopub.status.idle": "2021-08-16T07:49:53.124153Z",
     "shell.execute_reply": "2021-08-16T07:49:53.123578Z",
     "shell.execute_reply.started": "2021-08-16T06:48:23.423012Z"
    },
    "papermill": {
     "duration": 1.838596,
     "end_time": "2021-08-16T07:49:53.124288",
     "exception": false,
     "start_time": "2021-08-16T07:49:51.285692",
     "status": "completed"
    },
    "tags": []
   },
   "outputs": [
    {
     "name": "stdout",
     "output_type": "stream",
     "text": [
      "Using Kaggle's public dataset BigQuery integration.\n"
     ]
    },
    {
     "name": "stderr",
     "output_type": "stream",
     "text": [
      "/opt/conda/lib/python3.7/site-packages/ipykernel_launcher.py:19: UserWarning: Cannot use bqstorage_client if max_results is set, reverting to fetching data with the tabledata.list endpoint.\n"
     ]
    },
    {
     "data": {
      "text/html": [
       "<div>\n",
       "<style scoped>\n",
       "    .dataframe tbody tr th:only-of-type {\n",
       "        vertical-align: middle;\n",
       "    }\n",
       "\n",
       "    .dataframe tbody tr th {\n",
       "        vertical-align: top;\n",
       "    }\n",
       "\n",
       "    .dataframe thead th {\n",
       "        text-align: right;\n",
       "    }\n",
       "</style>\n",
       "<table border=\"1\" class=\"dataframe\">\n",
       "  <thead>\n",
       "    <tr style=\"text-align: right;\">\n",
       "      <th></th>\n",
       "      <th>id</th>\n",
       "      <th>title</th>\n",
       "      <th>body</th>\n",
       "      <th>accepted_answer_id</th>\n",
       "      <th>answer_count</th>\n",
       "      <th>comment_count</th>\n",
       "      <th>community_owned_date</th>\n",
       "      <th>creation_date</th>\n",
       "      <th>favorite_count</th>\n",
       "      <th>last_activity_date</th>\n",
       "      <th>last_edit_date</th>\n",
       "      <th>last_editor_display_name</th>\n",
       "      <th>last_editor_user_id</th>\n",
       "      <th>owner_display_name</th>\n",
       "      <th>owner_user_id</th>\n",
       "      <th>parent_id</th>\n",
       "      <th>post_type_id</th>\n",
       "      <th>score</th>\n",
       "      <th>tags</th>\n",
       "      <th>view_count</th>\n",
       "    </tr>\n",
       "  </thead>\n",
       "  <tbody>\n",
       "    <tr>\n",
       "      <th>0</th>\n",
       "      <td>67757982</td>\n",
       "      <td>Carry select adder pipelining in vhdl</td>\n",
       "      <td>&lt;p&gt;Please help me how can i pipeline this desi...</td>\n",
       "      <td>NaN</td>\n",
       "      <td>0</td>\n",
       "      <td>0</td>\n",
       "      <td>NaT</td>\n",
       "      <td>2021-05-30 05:26:15.923000+00:00</td>\n",
       "      <td>NaN</td>\n",
       "      <td>2021-05-30 05:26:15.923000+00:00</td>\n",
       "      <td>NaT</td>\n",
       "      <td>None</td>\n",
       "      <td>NaN</td>\n",
       "      <td>None</td>\n",
       "      <td>15758793</td>\n",
       "      <td>None</td>\n",
       "      <td>1</td>\n",
       "      <td>0</td>\n",
       "      <td>vhdl</td>\n",
       "      <td>1</td>\n",
       "    </tr>\n",
       "    <tr>\n",
       "      <th>1</th>\n",
       "      <td>67472359</td>\n",
       "      <td>filebeat registry file shows offset to 0</td>\n",
       "      <td>&lt;p&gt;We have configured filebeat in the server, ...</td>\n",
       "      <td>NaN</td>\n",
       "      <td>0</td>\n",
       "      <td>0</td>\n",
       "      <td>NaT</td>\n",
       "      <td>2021-05-10 14:31:52.090000+00:00</td>\n",
       "      <td>NaN</td>\n",
       "      <td>2021-05-10 14:31:52.090000+00:00</td>\n",
       "      <td>NaT</td>\n",
       "      <td>None</td>\n",
       "      <td>NaN</td>\n",
       "      <td>None</td>\n",
       "      <td>11549576</td>\n",
       "      <td>None</td>\n",
       "      <td>1</td>\n",
       "      <td>0</td>\n",
       "      <td>offset|filebeat</td>\n",
       "      <td>2</td>\n",
       "    </tr>\n",
       "    <tr>\n",
       "      <th>2</th>\n",
       "      <td>67485809</td>\n",
       "      <td>Multilayer Graph/Multilayer Network and Graph ...</td>\n",
       "      <td>&lt;p&gt;I'm new to building graphs and GCNs and I w...</td>\n",
       "      <td>NaN</td>\n",
       "      <td>0</td>\n",
       "      <td>0</td>\n",
       "      <td>NaT</td>\n",
       "      <td>2021-05-11 11:26:22.747000+00:00</td>\n",
       "      <td>NaN</td>\n",
       "      <td>2021-05-11 11:26:22.747000+00:00</td>\n",
       "      <td>NaT</td>\n",
       "      <td>None</td>\n",
       "      <td>NaN</td>\n",
       "      <td>None</td>\n",
       "      <td>13916429</td>\n",
       "      <td>None</td>\n",
       "      <td>1</td>\n",
       "      <td>0</td>\n",
       "      <td>graph|neural-network|multi-layer</td>\n",
       "      <td>2</td>\n",
       "    </tr>\n",
       "    <tr>\n",
       "      <th>3</th>\n",
       "      <td>67514172</td>\n",
       "      <td>Creating a boxed outline in theme in wordpress</td>\n",
       "      <td>&lt;p&gt;Want to remove the green highlighted area a...</td>\n",
       "      <td>NaN</td>\n",
       "      <td>0</td>\n",
       "      <td>0</td>\n",
       "      <td>NaT</td>\n",
       "      <td>2021-05-13 05:11:07.957000+00:00</td>\n",
       "      <td>NaN</td>\n",
       "      <td>2021-05-13 05:11:07.957000+00:00</td>\n",
       "      <td>NaT</td>\n",
       "      <td>None</td>\n",
       "      <td>NaN</td>\n",
       "      <td>None</td>\n",
       "      <td>15319352</td>\n",
       "      <td>None</td>\n",
       "      <td>1</td>\n",
       "      <td>-1</td>\n",
       "      <td>frontend|wordpress-theming|themes|elementor</td>\n",
       "      <td>2</td>\n",
       "    </tr>\n",
       "    <tr>\n",
       "      <th>4</th>\n",
       "      <td>67570205</td>\n",
       "      <td>Regarding the Reshaping the data and Improving...</td>\n",
       "      <td>&lt;p&gt;1.How could I resolve the layer incompatobi...</td>\n",
       "      <td>NaN</td>\n",
       "      <td>0</td>\n",
       "      <td>0</td>\n",
       "      <td>NaT</td>\n",
       "      <td>2021-05-17 13:00:28.623000+00:00</td>\n",
       "      <td>NaN</td>\n",
       "      <td>2021-05-17 13:00:28.623000+00:00</td>\n",
       "      <td>NaT</td>\n",
       "      <td>None</td>\n",
       "      <td>NaN</td>\n",
       "      <td>None</td>\n",
       "      <td>15064017</td>\n",
       "      <td>None</td>\n",
       "      <td>1</td>\n",
       "      <td>0</td>\n",
       "      <td>lstm</td>\n",
       "      <td>2</td>\n",
       "    </tr>\n",
       "  </tbody>\n",
       "</table>\n",
       "</div>"
      ],
      "text/plain": [
       "         id                                              title  \\\n",
       "0  67757982              Carry select adder pipelining in vhdl   \n",
       "1  67472359           filebeat registry file shows offset to 0   \n",
       "2  67485809  Multilayer Graph/Multilayer Network and Graph ...   \n",
       "3  67514172     Creating a boxed outline in theme in wordpress   \n",
       "4  67570205  Regarding the Reshaping the data and Improving...   \n",
       "\n",
       "                                                body  accepted_answer_id  \\\n",
       "0  <p>Please help me how can i pipeline this desi...                 NaN   \n",
       "1  <p>We have configured filebeat in the server, ...                 NaN   \n",
       "2  <p>I'm new to building graphs and GCNs and I w...                 NaN   \n",
       "3  <p>Want to remove the green highlighted area a...                 NaN   \n",
       "4  <p>1.How could I resolve the layer incompatobi...                 NaN   \n",
       "\n",
       "   answer_count  comment_count community_owned_date  \\\n",
       "0             0              0                  NaT   \n",
       "1             0              0                  NaT   \n",
       "2             0              0                  NaT   \n",
       "3             0              0                  NaT   \n",
       "4             0              0                  NaT   \n",
       "\n",
       "                     creation_date  favorite_count  \\\n",
       "0 2021-05-30 05:26:15.923000+00:00             NaN   \n",
       "1 2021-05-10 14:31:52.090000+00:00             NaN   \n",
       "2 2021-05-11 11:26:22.747000+00:00             NaN   \n",
       "3 2021-05-13 05:11:07.957000+00:00             NaN   \n",
       "4 2021-05-17 13:00:28.623000+00:00             NaN   \n",
       "\n",
       "                last_activity_date last_edit_date last_editor_display_name  \\\n",
       "0 2021-05-30 05:26:15.923000+00:00            NaT                     None   \n",
       "1 2021-05-10 14:31:52.090000+00:00            NaT                     None   \n",
       "2 2021-05-11 11:26:22.747000+00:00            NaT                     None   \n",
       "3 2021-05-13 05:11:07.957000+00:00            NaT                     None   \n",
       "4 2021-05-17 13:00:28.623000+00:00            NaT                     None   \n",
       "\n",
       "   last_editor_user_id owner_display_name  owner_user_id parent_id  \\\n",
       "0                  NaN               None       15758793      None   \n",
       "1                  NaN               None       11549576      None   \n",
       "2                  NaN               None       13916429      None   \n",
       "3                  NaN               None       15319352      None   \n",
       "4                  NaN               None       15064017      None   \n",
       "\n",
       "   post_type_id  score                                         tags  \\\n",
       "0             1      0                                         vhdl   \n",
       "1             1      0                              offset|filebeat   \n",
       "2             1      0             graph|neural-network|multi-layer   \n",
       "3             1     -1  frontend|wordpress-theming|themes|elementor   \n",
       "4             1      0                                         lstm   \n",
       "\n",
       "   view_count  \n",
       "0           1  \n",
       "1           2  \n",
       "2           2  \n",
       "3           2  \n",
       "4           2  "
      ]
     },
     "execution_count": 2,
     "metadata": {},
     "output_type": "execute_result"
    }
   ],
   "source": [
    "from google.cloud import bigquery\n",
    "\n",
    "# Create a \"Client\" object\n",
    "client = bigquery.Client()\n",
    "\n",
    "# Construct a reference to the \"stackoverflow\" dataset\n",
    "dataset_ref = client.dataset(\"stackoverflow\", project=\"bigquery-public-data\")\n",
    "\n",
    "# API request - fetch the dataset\n",
    "dataset = client.get_dataset(dataset_ref)\n",
    "\n",
    "# Construct a reference to the \"posts_questions\" table\n",
    "table_ref = dataset_ref.table(\"posts_questions\")\n",
    "\n",
    "# API request - fetch the table\n",
    "table = client.get_table(table_ref)\n",
    "\n",
    "# Preview the first five lines of the table\n",
    "client.list_rows(table, max_results=5).to_dataframe()"
   ]
  },
  {
   "cell_type": "markdown",
   "id": "c7cb448d",
   "metadata": {
    "papermill": {
     "duration": 0.01484,
     "end_time": "2021-08-16T07:49:53.155460",
     "exception": false,
     "start_time": "2021-08-16T07:49:53.140620",
     "status": "completed"
    },
    "tags": []
   },
   "source": [
    "We also take a look at the `posts_answers` table."
   ]
  },
  {
   "cell_type": "code",
   "execution_count": 3,
   "id": "1140cdfd",
   "metadata": {
    "execution": {
     "iopub.execute_input": "2021-08-16T07:49:53.188391Z",
     "iopub.status.busy": "2021-08-16T07:49:53.187731Z",
     "iopub.status.idle": "2021-08-16T07:49:54.001321Z",
     "shell.execute_reply": "2021-08-16T07:49:54.000706Z",
     "shell.execute_reply.started": "2021-08-16T06:49:03.039316Z"
    },
    "papermill": {
     "duration": 0.831365,
     "end_time": "2021-08-16T07:49:54.001559",
     "exception": false,
     "start_time": "2021-08-16T07:49:53.170194",
     "status": "completed"
    },
    "tags": []
   },
   "outputs": [
    {
     "name": "stderr",
     "output_type": "stream",
     "text": [
      "/opt/conda/lib/python3.7/site-packages/ipykernel_launcher.py:8: UserWarning: Cannot use bqstorage_client if max_results is set, reverting to fetching data with the tabledata.list endpoint.\n",
      "  \n"
     ]
    },
    {
     "data": {
      "text/html": [
       "<div>\n",
       "<style scoped>\n",
       "    .dataframe tbody tr th:only-of-type {\n",
       "        vertical-align: middle;\n",
       "    }\n",
       "\n",
       "    .dataframe tbody tr th {\n",
       "        vertical-align: top;\n",
       "    }\n",
       "\n",
       "    .dataframe thead th {\n",
       "        text-align: right;\n",
       "    }\n",
       "</style>\n",
       "<table border=\"1\" class=\"dataframe\">\n",
       "  <thead>\n",
       "    <tr style=\"text-align: right;\">\n",
       "      <th></th>\n",
       "      <th>id</th>\n",
       "      <th>title</th>\n",
       "      <th>body</th>\n",
       "      <th>accepted_answer_id</th>\n",
       "      <th>answer_count</th>\n",
       "      <th>comment_count</th>\n",
       "      <th>community_owned_date</th>\n",
       "      <th>creation_date</th>\n",
       "      <th>favorite_count</th>\n",
       "      <th>last_activity_date</th>\n",
       "      <th>last_edit_date</th>\n",
       "      <th>last_editor_display_name</th>\n",
       "      <th>last_editor_user_id</th>\n",
       "      <th>owner_display_name</th>\n",
       "      <th>owner_user_id</th>\n",
       "      <th>parent_id</th>\n",
       "      <th>post_type_id</th>\n",
       "      <th>score</th>\n",
       "      <th>tags</th>\n",
       "      <th>view_count</th>\n",
       "    </tr>\n",
       "  </thead>\n",
       "  <tbody>\n",
       "    <tr>\n",
       "      <th>0</th>\n",
       "      <td>67154495</td>\n",
       "      <td>None</td>\n",
       "      <td>&lt;p&gt;You can get two arrays of characters from t...</td>\n",
       "      <td>None</td>\n",
       "      <td>None</td>\n",
       "      <td>0</td>\n",
       "      <td>NaT</td>\n",
       "      <td>2021-04-18 23:54:41.763000+00:00</td>\n",
       "      <td>None</td>\n",
       "      <td>2021-04-19 00:01:50.707000+00:00</td>\n",
       "      <td>2021-04-19 00:01:50.707000+00:00</td>\n",
       "      <td>user15675591</td>\n",
       "      <td>NaN</td>\n",
       "      <td>user15675591</td>\n",
       "      <td>NaN</td>\n",
       "      <td>64050791</td>\n",
       "      <td>2</td>\n",
       "      <td>0</td>\n",
       "      <td>None</td>\n",
       "      <td>None</td>\n",
       "    </tr>\n",
       "    <tr>\n",
       "      <th>1</th>\n",
       "      <td>67154892</td>\n",
       "      <td>None</td>\n",
       "      <td>&lt;p&gt;To check if &lt;em&gt;two strings are anagrams&lt;/e...</td>\n",
       "      <td>None</td>\n",
       "      <td>None</td>\n",
       "      <td>0</td>\n",
       "      <td>NaT</td>\n",
       "      <td>2021-04-19 01:18:10.110000+00:00</td>\n",
       "      <td>None</td>\n",
       "      <td>2021-04-19 01:18:10.110000+00:00</td>\n",
       "      <td>NaT</td>\n",
       "      <td>None</td>\n",
       "      <td>NaN</td>\n",
       "      <td>user15675591</td>\n",
       "      <td>NaN</td>\n",
       "      <td>63352574</td>\n",
       "      <td>2</td>\n",
       "      <td>0</td>\n",
       "      <td>None</td>\n",
       "      <td>None</td>\n",
       "    </tr>\n",
       "    <tr>\n",
       "      <th>2</th>\n",
       "      <td>67155332</td>\n",
       "      <td>None</td>\n",
       "      <td>&lt;p&gt;You can first get arrays of characters from...</td>\n",
       "      <td>None</td>\n",
       "      <td>None</td>\n",
       "      <td>0</td>\n",
       "      <td>NaT</td>\n",
       "      <td>2021-04-19 02:44:10.033000+00:00</td>\n",
       "      <td>None</td>\n",
       "      <td>2021-04-19 02:59:37.867000+00:00</td>\n",
       "      <td>2021-04-19 02:59:37.867000+00:00</td>\n",
       "      <td>user15675591</td>\n",
       "      <td>NaN</td>\n",
       "      <td>user15675591</td>\n",
       "      <td>NaN</td>\n",
       "      <td>60867630</td>\n",
       "      <td>2</td>\n",
       "      <td>0</td>\n",
       "      <td>None</td>\n",
       "      <td>None</td>\n",
       "    </tr>\n",
       "    <tr>\n",
       "      <th>3</th>\n",
       "      <td>67156330</td>\n",
       "      <td>None</td>\n",
       "      <td>&lt;p&gt;You can use &lt;em&gt;Java 8 Stream&lt;/em&gt;: &lt;a href...</td>\n",
       "      <td>None</td>\n",
       "      <td>None</td>\n",
       "      <td>0</td>\n",
       "      <td>NaT</td>\n",
       "      <td>2021-04-19 05:21:34.760000+00:00</td>\n",
       "      <td>None</td>\n",
       "      <td>2021-04-25 15:42:47.580000+00:00</td>\n",
       "      <td>2021-04-25 15:42:47.580000+00:00</td>\n",
       "      <td>user15675591</td>\n",
       "      <td>NaN</td>\n",
       "      <td>user15675591</td>\n",
       "      <td>NaN</td>\n",
       "      <td>66065890</td>\n",
       "      <td>2</td>\n",
       "      <td>0</td>\n",
       "      <td>None</td>\n",
       "      <td>None</td>\n",
       "    </tr>\n",
       "    <tr>\n",
       "      <th>4</th>\n",
       "      <td>67156874</td>\n",
       "      <td>None</td>\n",
       "      <td>&lt;p&gt;As others have already mentioned that &amp;quot...</td>\n",
       "      <td>None</td>\n",
       "      <td>None</td>\n",
       "      <td>0</td>\n",
       "      <td>NaT</td>\n",
       "      <td>2021-04-19 06:22:17.893000+00:00</td>\n",
       "      <td>None</td>\n",
       "      <td>2021-04-19 06:22:17.893000+00:00</td>\n",
       "      <td>NaT</td>\n",
       "      <td>None</td>\n",
       "      <td>NaN</td>\n",
       "      <td>user10064176</td>\n",
       "      <td>NaN</td>\n",
       "      <td>57751417</td>\n",
       "      <td>2</td>\n",
       "      <td>0</td>\n",
       "      <td>None</td>\n",
       "      <td>None</td>\n",
       "    </tr>\n",
       "  </tbody>\n",
       "</table>\n",
       "</div>"
      ],
      "text/plain": [
       "         id title                                               body  \\\n",
       "0  67154495  None  <p>You can get two arrays of characters from t...   \n",
       "1  67154892  None  <p>To check if <em>two strings are anagrams</e...   \n",
       "2  67155332  None  <p>You can first get arrays of characters from...   \n",
       "3  67156330  None  <p>You can use <em>Java 8 Stream</em>: <a href...   \n",
       "4  67156874  None  <p>As others have already mentioned that &quot...   \n",
       "\n",
       "  accepted_answer_id answer_count  comment_count community_owned_date  \\\n",
       "0               None         None              0                  NaT   \n",
       "1               None         None              0                  NaT   \n",
       "2               None         None              0                  NaT   \n",
       "3               None         None              0                  NaT   \n",
       "4               None         None              0                  NaT   \n",
       "\n",
       "                     creation_date favorite_count  \\\n",
       "0 2021-04-18 23:54:41.763000+00:00           None   \n",
       "1 2021-04-19 01:18:10.110000+00:00           None   \n",
       "2 2021-04-19 02:44:10.033000+00:00           None   \n",
       "3 2021-04-19 05:21:34.760000+00:00           None   \n",
       "4 2021-04-19 06:22:17.893000+00:00           None   \n",
       "\n",
       "                last_activity_date                   last_edit_date  \\\n",
       "0 2021-04-19 00:01:50.707000+00:00 2021-04-19 00:01:50.707000+00:00   \n",
       "1 2021-04-19 01:18:10.110000+00:00                              NaT   \n",
       "2 2021-04-19 02:59:37.867000+00:00 2021-04-19 02:59:37.867000+00:00   \n",
       "3 2021-04-25 15:42:47.580000+00:00 2021-04-25 15:42:47.580000+00:00   \n",
       "4 2021-04-19 06:22:17.893000+00:00                              NaT   \n",
       "\n",
       "  last_editor_display_name  last_editor_user_id owner_display_name  \\\n",
       "0             user15675591                  NaN       user15675591   \n",
       "1                     None                  NaN       user15675591   \n",
       "2             user15675591                  NaN       user15675591   \n",
       "3             user15675591                  NaN       user15675591   \n",
       "4                     None                  NaN       user10064176   \n",
       "\n",
       "   owner_user_id  parent_id  post_type_id  score  tags view_count  \n",
       "0            NaN   64050791             2      0  None       None  \n",
       "1            NaN   63352574             2      0  None       None  \n",
       "2            NaN   60867630             2      0  None       None  \n",
       "3            NaN   66065890             2      0  None       None  \n",
       "4            NaN   57751417             2      0  None       None  "
      ]
     },
     "execution_count": 3,
     "metadata": {},
     "output_type": "execute_result"
    }
   ],
   "source": [
    "# Construct a reference to the \"posts_answers\" table\n",
    "table_ref = dataset_ref.table(\"posts_answers\")\n",
    "\n",
    "# API request - fetch the table\n",
    "table = client.get_table(table_ref)\n",
    "\n",
    "# Preview the first five lines of the table\n",
    "client.list_rows(table, max_results=5).to_dataframe()"
   ]
  },
  {
   "cell_type": "markdown",
   "id": "d89827be",
   "metadata": {
    "papermill": {
     "duration": 0.016876,
     "end_time": "2021-08-16T07:49:54.035005",
     "exception": false,
     "start_time": "2021-08-16T07:49:54.018129",
     "status": "completed"
    },
    "tags": []
   },
   "source": [
    "You will work with both of these tables to answer the questions below.\n",
    "\n",
    "# Exercises\n",
    "\n",
    "### 1) How long does it take for questions to receive answers?\n",
    "\n",
    "You're interested in exploring the data to have a better understanding of how long it generally takes for questions to receive answers.  Armed with this knowledge, you plan to use this information to better design the order in which questions are presented to Stack Overflow users.\n",
    "\n",
    "With this goal in mind, you write the query below, which focuses on questions asked in January 2018.  It returns a table with two columns:\n",
    "- `q_id` - the ID of the question\n",
    "- `time_to_answer` - how long it took (in seconds) for the question to receive an answer\n",
    "\n",
    "Run the query below (without changes), and take a look at the output."
   ]
  },
  {
   "cell_type": "code",
   "execution_count": 4,
   "id": "c17eeac4",
   "metadata": {
    "execution": {
     "iopub.execute_input": "2021-08-16T07:49:54.080742Z",
     "iopub.status.busy": "2021-08-16T07:49:54.079411Z",
     "iopub.status.idle": "2021-08-16T07:50:00.001436Z",
     "shell.execute_reply": "2021-08-16T07:50:00.002159Z",
     "shell.execute_reply.started": "2021-08-16T06:53:31.331273Z"
    },
    "papermill": {
     "duration": 5.947927,
     "end_time": "2021-08-16T07:50:00.002434",
     "exception": false,
     "start_time": "2021-08-16T07:49:54.054507",
     "status": "completed"
    },
    "tags": []
   },
   "outputs": [
    {
     "name": "stderr",
     "output_type": "stream",
     "text": [
      "/opt/conda/lib/python3.7/site-packages/google/cloud/bigquery/client.py:440: UserWarning: Cannot create BigQuery Storage client, the dependency google-cloud-bigquery-storage is not installed.\n",
      "  \"Cannot create BigQuery Storage client, the dependency \"\n"
     ]
    },
    {
     "name": "stdout",
     "output_type": "stream",
     "text": [
      "Percentage of answered questions: 100.0%\n",
      "Number of questions: 134648\n"
     ]
    },
    {
     "data": {
      "text/html": [
       "<div>\n",
       "<style scoped>\n",
       "    .dataframe tbody tr th:only-of-type {\n",
       "        vertical-align: middle;\n",
       "    }\n",
       "\n",
       "    .dataframe tbody tr th {\n",
       "        vertical-align: top;\n",
       "    }\n",
       "\n",
       "    .dataframe thead th {\n",
       "        text-align: right;\n",
       "    }\n",
       "</style>\n",
       "<table border=\"1\" class=\"dataframe\">\n",
       "  <thead>\n",
       "    <tr style=\"text-align: right;\">\n",
       "      <th></th>\n",
       "      <th>q_id</th>\n",
       "      <th>time_to_answer</th>\n",
       "    </tr>\n",
       "  </thead>\n",
       "  <tbody>\n",
       "    <tr>\n",
       "      <th>0</th>\n",
       "      <td>48054907</td>\n",
       "      <td>0</td>\n",
       "    </tr>\n",
       "    <tr>\n",
       "      <th>1</th>\n",
       "      <td>48450561</td>\n",
       "      <td>0</td>\n",
       "    </tr>\n",
       "    <tr>\n",
       "      <th>2</th>\n",
       "      <td>48396661</td>\n",
       "      <td>0</td>\n",
       "    </tr>\n",
       "    <tr>\n",
       "      <th>3</th>\n",
       "      <td>48102324</td>\n",
       "      <td>0</td>\n",
       "    </tr>\n",
       "    <tr>\n",
       "      <th>4</th>\n",
       "      <td>48121252</td>\n",
       "      <td>0</td>\n",
       "    </tr>\n",
       "  </tbody>\n",
       "</table>\n",
       "</div>"
      ],
      "text/plain": [
       "       q_id  time_to_answer\n",
       "0  48054907               0\n",
       "1  48450561               0\n",
       "2  48396661               0\n",
       "3  48102324               0\n",
       "4  48121252               0"
      ]
     },
     "execution_count": 4,
     "metadata": {},
     "output_type": "execute_result"
    }
   ],
   "source": [
    "first_query = \"\"\"\n",
    "              SELECT q.id AS q_id,\n",
    "                  MIN(TIMESTAMP_DIFF(a.creation_date, q.creation_date, SECOND)) as time_to_answer\n",
    "              FROM `bigquery-public-data.stackoverflow.posts_questions` AS q\n",
    "                  INNER JOIN `bigquery-public-data.stackoverflow.posts_answers` AS a\n",
    "              ON q.id = a.parent_id\n",
    "              WHERE q.creation_date >= '2018-01-01' and q.creation_date < '2018-02-01'\n",
    "              GROUP BY q_id\n",
    "              ORDER BY time_to_answer\n",
    "              \"\"\"\n",
    "\n",
    "first_result = client.query(first_query).result().to_dataframe()\n",
    "print(\"Percentage of answered questions: %s%%\" % \\\n",
    "      (sum(first_result[\"time_to_answer\"].notnull()) / len(first_result) * 100))\n",
    "print(\"Number of questions:\", len(first_result))\n",
    "first_result.head()"
   ]
  },
  {
   "cell_type": "markdown",
   "id": "8db2f9e5",
   "metadata": {
    "papermill": {
     "duration": 0.016078,
     "end_time": "2021-08-16T07:50:00.036219",
     "exception": false,
     "start_time": "2021-08-16T07:50:00.020141",
     "status": "completed"
    },
    "tags": []
   },
   "source": [
    "You're surprised at the results and strongly suspect that something is wrong with your query.  In particular,\n",
    "- According to the query, 100% of the questions from January 2018 received an answer.  But, you know that ~80% of the questions on the site usually receive an answer.\n",
    "- The total number of questions is surprisingly low.  You expected to see at least 150,000 questions represented in the table.\n",
    "\n",
    "Given these observations, you think that the type of **JOIN** you have chosen has inadvertently excluded unanswered questions.  Using the code cell below, can you figure out what type of **JOIN** to use to fix the problem so that the table includes unanswered questions?\n",
    "\n",
    "**Note**: You need only amend the type of **JOIN** (i.e., **INNER**, **LEFT**, **RIGHT**, or **FULL**) to answer the question successfully."
   ]
  },
  {
   "cell_type": "code",
   "execution_count": 5,
   "id": "4b51cb7e",
   "metadata": {
    "execution": {
     "iopub.execute_input": "2021-08-16T07:50:00.075888Z",
     "iopub.status.busy": "2021-08-16T07:50:00.075197Z",
     "iopub.status.idle": "2021-08-16T07:50:11.065714Z",
     "shell.execute_reply": "2021-08-16T07:50:11.066399Z",
     "shell.execute_reply.started": "2021-08-16T06:57:58.820883Z"
    },
    "papermill": {
     "duration": 11.014351,
     "end_time": "2021-08-16T07:50:11.066659",
     "exception": false,
     "start_time": "2021-08-16T07:50:00.052308",
     "status": "completed"
    },
    "tags": []
   },
   "outputs": [
    {
     "name": "stderr",
     "output_type": "stream",
     "text": [
      "/opt/conda/lib/python3.7/site-packages/google/cloud/bigquery/client.py:440: UserWarning: Cannot create BigQuery Storage client, the dependency google-cloud-bigquery-storage is not installed.\n",
      "  \"Cannot create BigQuery Storage client, the dependency \"\n"
     ]
    },
    {
     "data": {
      "text/html": [
       "<div>\n",
       "<style scoped>\n",
       "    .dataframe tbody tr th:only-of-type {\n",
       "        vertical-align: middle;\n",
       "    }\n",
       "\n",
       "    .dataframe tbody tr th {\n",
       "        vertical-align: top;\n",
       "    }\n",
       "\n",
       "    .dataframe thead th {\n",
       "        text-align: right;\n",
       "    }\n",
       "</style>\n",
       "<table border=\"1\" class=\"dataframe\">\n",
       "  <thead>\n",
       "    <tr style=\"text-align: right;\">\n",
       "      <th></th>\n",
       "      <th>q_id</th>\n",
       "      <th>time_to_answer</th>\n",
       "    </tr>\n",
       "  </thead>\n",
       "  <tbody>\n",
       "    <tr>\n",
       "      <th>0</th>\n",
       "      <td>48550160</td>\n",
       "      <td>NaN</td>\n",
       "    </tr>\n",
       "    <tr>\n",
       "      <th>1</th>\n",
       "      <td>48539616</td>\n",
       "      <td>NaN</td>\n",
       "    </tr>\n",
       "    <tr>\n",
       "      <th>2</th>\n",
       "      <td>48071583</td>\n",
       "      <td>NaN</td>\n",
       "    </tr>\n",
       "    <tr>\n",
       "      <th>3</th>\n",
       "      <td>48497136</td>\n",
       "      <td>NaN</td>\n",
       "    </tr>\n",
       "    <tr>\n",
       "      <th>4</th>\n",
       "      <td>48320915</td>\n",
       "      <td>NaN</td>\n",
       "    </tr>\n",
       "  </tbody>\n",
       "</table>\n",
       "</div>"
      ],
      "text/plain": [
       "       q_id  time_to_answer\n",
       "0  48550160             NaN\n",
       "1  48539616             NaN\n",
       "2  48071583             NaN\n",
       "3  48497136             NaN\n",
       "4  48320915             NaN"
      ]
     },
     "metadata": {},
     "output_type": "display_data"
    },
    {
     "data": {
      "application/javascript": [
       "parent.postMessage({\"jupyterEvent\": \"custom.exercise_interaction\", \"data\": {\"outcomeType\": 1, \"valueTowardsCompletion\": 0.25, \"interactionType\": 1, \"questionType\": 2, \"questionId\": \"1_CorrectQuery\", \"learnToolsVersion\": \"0.3.4\", \"failureMessage\": \"\", \"exceptionClass\": \"\", \"trace\": \"\"}}, \"*\")"
      ],
      "text/plain": [
       "<IPython.core.display.Javascript object>"
      ]
     },
     "metadata": {},
     "output_type": "display_data"
    },
    {
     "data": {
      "text/markdown": [
       "<span style=\"color:#33cc33\">Correct</span>"
      ],
      "text/plain": [
       "Correct"
      ]
     },
     "metadata": {},
     "output_type": "display_data"
    },
    {
     "name": "stderr",
     "output_type": "stream",
     "text": [
      "/opt/conda/lib/python3.7/site-packages/google/cloud/bigquery/client.py:440: UserWarning: Cannot create BigQuery Storage client, the dependency google-cloud-bigquery-storage is not installed.\n",
      "  \"Cannot create BigQuery Storage client, the dependency \"\n"
     ]
    },
    {
     "name": "stdout",
     "output_type": "stream",
     "text": [
      "Percentage of answered questions: 83.08578974324166%\n",
      "Number of questions: 162059\n"
     ]
    }
   ],
   "source": [
    "# Your code here\n",
    "correct_query = \"\"\"\n",
    "                SELECT q.id AS q_id,\n",
    "                  MIN(TIMESTAMP_DIFF(a.creation_date, q.creation_date, SECOND)) as time_to_answer\n",
    "              FROM `bigquery-public-data.stackoverflow.posts_questions` AS q\n",
    "                  FULL JOIN `bigquery-public-data.stackoverflow.posts_answers` AS a\n",
    "              ON q.id = a.parent_id\n",
    "              WHERE q.creation_date >= '2018-01-01' and q.creation_date < '2018-02-01'\n",
    "              GROUP BY q_id\n",
    "              ORDER BY time_to_answer\n",
    "                \"\"\"\n",
    "\n",
    "# Check your answer\n",
    "q_1.check()\n",
    "\n",
    "# Run the query, and return a pandas DataFrame\n",
    "correct_result = client.query(correct_query).result().to_dataframe()\n",
    "print(\"Percentage of answered questions: %s%%\" % \\\n",
    "      (sum(correct_result[\"time_to_answer\"].notnull()) / len(correct_result) * 100))\n",
    "print(\"Number of questions:\", len(correct_result))"
   ]
  },
  {
   "cell_type": "code",
   "execution_count": 6,
   "id": "1b6e69ea",
   "metadata": {
    "execution": {
     "iopub.execute_input": "2021-08-16T07:50:11.109806Z",
     "iopub.status.busy": "2021-08-16T07:50:11.108698Z",
     "iopub.status.idle": "2021-08-16T07:50:11.113584Z",
     "shell.execute_reply": "2021-08-16T07:50:11.113039Z"
    },
    "papermill": {
     "duration": 0.026055,
     "end_time": "2021-08-16T07:50:11.113744",
     "exception": false,
     "start_time": "2021-08-16T07:50:11.087689",
     "status": "completed"
    },
    "tags": []
   },
   "outputs": [],
   "source": [
    "# Lines below will give you a hint or solution code\n",
    "#q_1.hint()\n",
    "#q_1.solution()"
   ]
  },
  {
   "cell_type": "markdown",
   "id": "f031c2e8",
   "metadata": {
    "papermill": {
     "duration": 0.02002,
     "end_time": "2021-08-16T07:50:11.154197",
     "exception": false,
     "start_time": "2021-08-16T07:50:11.134177",
     "status": "completed"
    },
    "tags": []
   },
   "source": [
    "### 2) Initial questions and answers, Part 1\n",
    "\n",
    "You're interested in understanding the initial experiences that users typically have with the Stack Overflow website.  Is it more common for users to first ask questions or provide answers?  After signing up, how long does it take for users to first interact with the website?  To explore this further, you draft the (partial) query in the code cell below.\n",
    "\n",
    "The query returns a table with three columns:\n",
    "- `owner_user_id` - the user ID\n",
    "- `q_creation_date` - the first time the user asked a question \n",
    "- `a_creation_date` - the first time the user contributed an answer \n",
    "\n",
    "You want to keep track of users who have asked questions, but have yet to provide answers.  And, your table should also include users who have answered questions, but have yet to pose their own questions.  \n",
    "\n",
    "With this in mind, please fill in the appropriate **JOIN** (i.e., **INNER**, **LEFT**, **RIGHT**, or **FULL**) to return the correct information.  \n",
    "\n",
    "**Note**: You need only fill in the appropriate **JOIN**.  All other parts of the query should be left as-is.  (You also don't need to write any additional code to run the query, since the `cbeck()` method will take care of this for you.)\n",
    "\n",
    "To avoid returning too much data, we'll restrict our attention to questions and answers posed in January 2019.  We'll amend the timeframe in Part 2 of this question to be more realistic!"
   ]
  },
  {
   "cell_type": "code",
   "execution_count": 7,
   "id": "b33c5872",
   "metadata": {
    "execution": {
     "iopub.execute_input": "2021-08-16T07:50:11.202249Z",
     "iopub.status.busy": "2021-08-16T07:50:11.201548Z",
     "iopub.status.idle": "2021-08-16T07:50:14.091183Z",
     "shell.execute_reply": "2021-08-16T07:50:14.090400Z",
     "shell.execute_reply.started": "2021-08-16T07:11:12.151970Z"
    },
    "papermill": {
     "duration": 2.917042,
     "end_time": "2021-08-16T07:50:14.091338",
     "exception": false,
     "start_time": "2021-08-16T07:50:11.174296",
     "status": "completed"
    },
    "tags": []
   },
   "outputs": [
    {
     "data": {
      "text/html": [
       "<div>\n",
       "<style scoped>\n",
       "    .dataframe tbody tr th:only-of-type {\n",
       "        vertical-align: middle;\n",
       "    }\n",
       "\n",
       "    .dataframe tbody tr th {\n",
       "        vertical-align: top;\n",
       "    }\n",
       "\n",
       "    .dataframe thead th {\n",
       "        text-align: right;\n",
       "    }\n",
       "</style>\n",
       "<table border=\"1\" class=\"dataframe\">\n",
       "  <thead>\n",
       "    <tr style=\"text-align: right;\">\n",
       "      <th></th>\n",
       "      <th>owner_user_id</th>\n",
       "      <th>q_creation_date</th>\n",
       "      <th>a_creation_date</th>\n",
       "    </tr>\n",
       "  </thead>\n",
       "  <tbody>\n",
       "    <tr>\n",
       "      <th>0</th>\n",
       "      <td>819355</td>\n",
       "      <td>2019-01-15 11:51:35.547000+00:00</td>\n",
       "      <td>2019-01-01 05:25:31.067000+00:00</td>\n",
       "    </tr>\n",
       "    <tr>\n",
       "      <th>1</th>\n",
       "      <td>10228119</td>\n",
       "      <td>2019-01-22 17:53:28.047000+00:00</td>\n",
       "      <td>2019-01-01 08:53:26.943000+00:00</td>\n",
       "    </tr>\n",
       "    <tr>\n",
       "      <th>2</th>\n",
       "      <td>1319998</td>\n",
       "      <td>2019-01-06 08:25:43.893000+00:00</td>\n",
       "      <td>2019-01-01 10:33:52.593000+00:00</td>\n",
       "    </tr>\n",
       "    <tr>\n",
       "      <th>3</th>\n",
       "      <td>4934640</td>\n",
       "      <td>2019-01-18 23:28:22.627000+00:00</td>\n",
       "      <td>2019-01-01 11:21:55.790000+00:00</td>\n",
       "    </tr>\n",
       "    <tr>\n",
       "      <th>4</th>\n",
       "      <td>4511297</td>\n",
       "      <td>2019-01-31 08:38:10.607000+00:00</td>\n",
       "      <td>2019-01-01 13:19:36.403000+00:00</td>\n",
       "    </tr>\n",
       "  </tbody>\n",
       "</table>\n",
       "</div>"
      ],
      "text/plain": [
       "   owner_user_id                  q_creation_date  \\\n",
       "0         819355 2019-01-15 11:51:35.547000+00:00   \n",
       "1       10228119 2019-01-22 17:53:28.047000+00:00   \n",
       "2        1319998 2019-01-06 08:25:43.893000+00:00   \n",
       "3        4934640 2019-01-18 23:28:22.627000+00:00   \n",
       "4        4511297 2019-01-31 08:38:10.607000+00:00   \n",
       "\n",
       "                   a_creation_date  \n",
       "0 2019-01-01 05:25:31.067000+00:00  \n",
       "1 2019-01-01 08:53:26.943000+00:00  \n",
       "2 2019-01-01 10:33:52.593000+00:00  \n",
       "3 2019-01-01 11:21:55.790000+00:00  \n",
       "4 2019-01-01 13:19:36.403000+00:00  "
      ]
     },
     "metadata": {},
     "output_type": "display_data"
    },
    {
     "data": {
      "application/javascript": [
       "parent.postMessage({\"jupyterEvent\": \"custom.exercise_interaction\", \"data\": {\"outcomeType\": 1, \"valueTowardsCompletion\": 0.25, \"interactionType\": 1, \"questionType\": 2, \"questionId\": \"2_QA_One\", \"learnToolsVersion\": \"0.3.4\", \"failureMessage\": \"\", \"exceptionClass\": \"\", \"trace\": \"\"}}, \"*\")"
      ],
      "text/plain": [
       "<IPython.core.display.Javascript object>"
      ]
     },
     "metadata": {},
     "output_type": "display_data"
    },
    {
     "data": {
      "text/markdown": [
       "<span style=\"color:#33cc33\">Correct</span>"
      ],
      "text/plain": [
       "Correct"
      ]
     },
     "metadata": {},
     "output_type": "display_data"
    }
   ],
   "source": [
    "# Your code here\n",
    "q_and_a_query = \"\"\"\n",
    "                SELECT q.owner_user_id AS owner_user_id,\n",
    "                    MIN(q.creation_date) AS q_creation_date,\n",
    "                    MIN(a.creation_date) AS a_creation_date\n",
    "                FROM `bigquery-public-data.stackoverflow.posts_questions` AS q\n",
    "                    FULL JOIN `bigquery-public-data.stackoverflow.posts_answers` AS a\n",
    "                ON q.owner_user_id = a.owner_user_id \n",
    "                WHERE q.creation_date >= '2019-01-01' AND q.creation_date < '2019-02-01' \n",
    "                    AND a.creation_date >= '2019-01-01' AND a.creation_date < '2019-02-01'\n",
    "                GROUP BY owner_user_id\n",
    "                \"\"\"\n",
    "\n",
    "# Check your answer\n",
    "q_2.check()"
   ]
  },
  {
   "cell_type": "code",
   "execution_count": 8,
   "id": "3aac0742",
   "metadata": {
    "execution": {
     "iopub.execute_input": "2021-08-16T07:50:14.138694Z",
     "iopub.status.busy": "2021-08-16T07:50:14.138016Z",
     "iopub.status.idle": "2021-08-16T07:50:14.141873Z",
     "shell.execute_reply": "2021-08-16T07:50:14.142397Z"
    },
    "papermill": {
     "duration": 0.030598,
     "end_time": "2021-08-16T07:50:14.142594",
     "exception": false,
     "start_time": "2021-08-16T07:50:14.111996",
     "status": "completed"
    },
    "tags": []
   },
   "outputs": [],
   "source": [
    "# Lines below will give you a hint or solution code\n",
    "#q_2.hint()\n",
    "#q_2.solution()"
   ]
  },
  {
   "cell_type": "markdown",
   "id": "b0b5a8f1",
   "metadata": {
    "papermill": {
     "duration": 0.019844,
     "end_time": "2021-08-16T07:50:14.182727",
     "exception": false,
     "start_time": "2021-08-16T07:50:14.162883",
     "status": "completed"
    },
    "tags": []
   },
   "source": [
    "### 3) Initial questions and answers, Part 2\n",
    "\n",
    "Now you'll address a more realistic (and complex!) scenario.  To answer this question, you'll need to pull information from *three* different tables!  This syntax very similar to the case when we have to join only two tables.  For instance, consider the three tables below.\n",
    "\n",
    "![three tables](https://i.imgur.com/OyhYtD1.png)\n",
    "\n",
    "We can use two different **JOINs** to link together information from all three tables, in a single query.\n",
    "\n",
    "![double join](https://i.imgur.com/G6buS7P.png)\n",
    "\n",
    "With this in mind, say you're interested in understanding users who joined the site in January 2019.  You want to track their activity on the site: when did they post their first questions and answers, if ever?\n",
    "\n",
    "Write a query that returns the following columns:\n",
    "- `id` - the IDs of all users who created Stack Overflow accounts in January 2019 (January 1, 2019, to January 31, 2019, inclusive)\n",
    "- `q_creation_date` - the first time the user posted a question on the site; if the user has never posted a question, the value should be null\n",
    "- `a_creation_date` - the first time the user posted a question on the site; if the user has never posted a question, the value should be null\n",
    "\n",
    "Note that questions and answers posted after January 31, 2019, should still be included in the results.  And, all users who joined the site in January 2019 should be included (even if they have never posted a question or provided an answer).\n",
    "\n",
    "The query from the previous question should be a nice starting point to answering this question!  You'll need to use the `posts_answers` and `posts_questions` tables.  You'll also need to use the `users` table from the Stack Overflow dataset.  The relevant columns from the `users` table are `id` (the ID of each user) and `creation_date` (when the user joined the Stack Overflow site, in DATETIME format)."
   ]
  },
  {
   "cell_type": "code",
   "execution_count": 9,
   "id": "2a284ac7",
   "metadata": {
    "execution": {
     "iopub.execute_input": "2021-08-16T07:50:14.231619Z",
     "iopub.status.busy": "2021-08-16T07:50:14.230979Z",
     "iopub.status.idle": "2021-08-16T07:50:15.051439Z",
     "shell.execute_reply": "2021-08-16T07:50:15.051935Z",
     "shell.execute_reply.started": "2021-08-16T07:19:59.803634Z"
    },
    "papermill": {
     "duration": 0.848335,
     "end_time": "2021-08-16T07:50:15.052110",
     "exception": false,
     "start_time": "2021-08-16T07:50:14.203775",
     "status": "completed"
    },
    "tags": []
   },
   "outputs": [
    {
     "name": "stderr",
     "output_type": "stream",
     "text": [
      "/opt/conda/lib/python3.7/site-packages/ipykernel_launcher.py:6: UserWarning: Cannot use bqstorage_client if max_results is set, reverting to fetching data with the tabledata.list endpoint.\n",
      "  \n"
     ]
    },
    {
     "data": {
      "text/html": [
       "<div>\n",
       "<style scoped>\n",
       "    .dataframe tbody tr th:only-of-type {\n",
       "        vertical-align: middle;\n",
       "    }\n",
       "\n",
       "    .dataframe tbody tr th {\n",
       "        vertical-align: top;\n",
       "    }\n",
       "\n",
       "    .dataframe thead th {\n",
       "        text-align: right;\n",
       "    }\n",
       "</style>\n",
       "<table border=\"1\" class=\"dataframe\">\n",
       "  <thead>\n",
       "    <tr style=\"text-align: right;\">\n",
       "      <th></th>\n",
       "      <th>id</th>\n",
       "      <th>display_name</th>\n",
       "      <th>about_me</th>\n",
       "      <th>age</th>\n",
       "      <th>creation_date</th>\n",
       "      <th>last_access_date</th>\n",
       "      <th>location</th>\n",
       "      <th>reputation</th>\n",
       "      <th>up_votes</th>\n",
       "      <th>down_votes</th>\n",
       "      <th>views</th>\n",
       "      <th>profile_image_url</th>\n",
       "      <th>website_url</th>\n",
       "    </tr>\n",
       "  </thead>\n",
       "  <tbody>\n",
       "    <tr>\n",
       "      <th>0</th>\n",
       "      <td>148</td>\n",
       "      <td>Adrian Clark</td>\n",
       "      <td>&lt;p&gt;I'm a Microsoft .Net Developer and work in ...</td>\n",
       "      <td>None</td>\n",
       "      <td>2008-08-02 15:01:32.393000+00:00</td>\n",
       "      <td>2021-05-25 05:59:07.473000+00:00</td>\n",
       "      <td>Brisbane, Australia</td>\n",
       "      <td>12189</td>\n",
       "      <td>325</td>\n",
       "      <td>26</td>\n",
       "      <td>734</td>\n",
       "      <td>None</td>\n",
       "      <td>None</td>\n",
       "    </tr>\n",
       "    <tr>\n",
       "      <th>1</th>\n",
       "      <td>850</td>\n",
       "      <td>Ekkmanz</td>\n",
       "      <td>&lt;p&gt;Rails programmer. Former PHP programmer. Lo...</td>\n",
       "      <td>None</td>\n",
       "      <td>2008-08-09 15:08:16.490000+00:00</td>\n",
       "      <td>2021-05-28 01:49:51.497000+00:00</td>\n",
       "      <td>Thailand</td>\n",
       "      <td>474</td>\n",
       "      <td>41</td>\n",
       "      <td>0</td>\n",
       "      <td>74</td>\n",
       "      <td>None</td>\n",
       "      <td>None</td>\n",
       "    </tr>\n",
       "    <tr>\n",
       "      <th>2</th>\n",
       "      <td>1882</td>\n",
       "      <td>Chris Patterson</td>\n",
       "      <td>&lt;p&gt;Chris is an Enterprise Architect and the Se...</td>\n",
       "      <td>None</td>\n",
       "      <td>2008-08-19 03:37:09.173000+00:00</td>\n",
       "      <td>2021-05-30 01:56:33.670000+00:00</td>\n",
       "      <td>Dallas, TX, USA</td>\n",
       "      <td>16928</td>\n",
       "      <td>153</td>\n",
       "      <td>3</td>\n",
       "      <td>2554</td>\n",
       "      <td>None</td>\n",
       "      <td>http://blog.phatboyg.com/</td>\n",
       "    </tr>\n",
       "    <tr>\n",
       "      <th>3</th>\n",
       "      <td>1945</td>\n",
       "      <td>vanhornRF</td>\n",
       "      <td>&lt;p&gt;Interactive Front End Developer&lt;/p&gt;</td>\n",
       "      <td>None</td>\n",
       "      <td>2008-08-19 14:49:22.467000+00:00</td>\n",
       "      <td>2018-08-27 16:24:27.637000+00:00</td>\n",
       "      <td>River Falls, Wisconsin, United States</td>\n",
       "      <td>328</td>\n",
       "      <td>178</td>\n",
       "      <td>2</td>\n",
       "      <td>68</td>\n",
       "      <td>None</td>\n",
       "      <td>https://www.vipfanexperiences.com</td>\n",
       "    </tr>\n",
       "    <tr>\n",
       "      <th>4</th>\n",
       "      <td>2016</td>\n",
       "      <td>ftdysa</td>\n",
       "      <td>None</td>\n",
       "      <td>None</td>\n",
       "      <td>2008-08-19 19:49:14.140000+00:00</td>\n",
       "      <td>2020-04-27 15:01:34.933000+00:00</td>\n",
       "      <td>Atlanta, GA, United States</td>\n",
       "      <td>1233</td>\n",
       "      <td>410</td>\n",
       "      <td>34</td>\n",
       "      <td>190</td>\n",
       "      <td>None</td>\n",
       "      <td>None</td>\n",
       "    </tr>\n",
       "  </tbody>\n",
       "</table>\n",
       "</div>"
      ],
      "text/plain": [
       "     id     display_name                                           about_me  \\\n",
       "0   148     Adrian Clark  <p>I'm a Microsoft .Net Developer and work in ...   \n",
       "1   850          Ekkmanz  <p>Rails programmer. Former PHP programmer. Lo...   \n",
       "2  1882  Chris Patterson  <p>Chris is an Enterprise Architect and the Se...   \n",
       "3  1945        vanhornRF             <p>Interactive Front End Developer</p>   \n",
       "4  2016           ftdysa                                               None   \n",
       "\n",
       "    age                    creation_date                 last_access_date  \\\n",
       "0  None 2008-08-02 15:01:32.393000+00:00 2021-05-25 05:59:07.473000+00:00   \n",
       "1  None 2008-08-09 15:08:16.490000+00:00 2021-05-28 01:49:51.497000+00:00   \n",
       "2  None 2008-08-19 03:37:09.173000+00:00 2021-05-30 01:56:33.670000+00:00   \n",
       "3  None 2008-08-19 14:49:22.467000+00:00 2018-08-27 16:24:27.637000+00:00   \n",
       "4  None 2008-08-19 19:49:14.140000+00:00 2020-04-27 15:01:34.933000+00:00   \n",
       "\n",
       "                                location  reputation  up_votes  down_votes  \\\n",
       "0                    Brisbane, Australia       12189       325          26   \n",
       "1                               Thailand         474        41           0   \n",
       "2                        Dallas, TX, USA       16928       153           3   \n",
       "3  River Falls, Wisconsin, United States         328       178           2   \n",
       "4             Atlanta, GA, United States        1233       410          34   \n",
       "\n",
       "   views profile_image_url                        website_url  \n",
       "0    734              None                               None  \n",
       "1     74              None                               None  \n",
       "2   2554              None          http://blog.phatboyg.com/  \n",
       "3     68              None  https://www.vipfanexperiences.com  \n",
       "4    190              None                               None  "
      ]
     },
     "execution_count": 9,
     "metadata": {},
     "output_type": "execute_result"
    }
   ],
   "source": [
    "# Construct a reference to the \"users\" table\n",
    "table_ref = dataset_ref.table(\"users\")\n",
    "# API request - fetch the table\n",
    "table = client.get_table(table_ref)\n",
    "# Preview the first five lines of the table\n",
    "client.list_rows(table, max_results=5).to_dataframe()"
   ]
  },
  {
   "cell_type": "code",
   "execution_count": 10,
   "id": "5fdc7239",
   "metadata": {
    "execution": {
     "iopub.execute_input": "2021-08-16T07:50:15.100391Z",
     "iopub.status.busy": "2021-08-16T07:50:15.099756Z",
     "iopub.status.idle": "2021-08-16T07:50:21.900873Z",
     "shell.execute_reply": "2021-08-16T07:50:21.900351Z",
     "shell.execute_reply.started": "2021-08-16T07:34:43.749623Z"
    },
    "papermill": {
     "duration": 6.828196,
     "end_time": "2021-08-16T07:50:21.901018",
     "exception": false,
     "start_time": "2021-08-16T07:50:15.072822",
     "status": "completed"
    },
    "tags": []
   },
   "outputs": [
    {
     "name": "stderr",
     "output_type": "stream",
     "text": [
      "/opt/conda/lib/python3.7/site-packages/google/cloud/bigquery/client.py:440: UserWarning: Cannot create BigQuery Storage client, the dependency google-cloud-bigquery-storage is not installed.\n",
      "  \"Cannot create BigQuery Storage client, the dependency \"\n"
     ]
    },
    {
     "data": {
      "text/html": [
       "<div>\n",
       "<style scoped>\n",
       "    .dataframe tbody tr th:only-of-type {\n",
       "        vertical-align: middle;\n",
       "    }\n",
       "\n",
       "    .dataframe tbody tr th {\n",
       "        vertical-align: top;\n",
       "    }\n",
       "\n",
       "    .dataframe thead th {\n",
       "        text-align: right;\n",
       "    }\n",
       "</style>\n",
       "<table border=\"1\" class=\"dataframe\">\n",
       "  <thead>\n",
       "    <tr style=\"text-align: right;\">\n",
       "      <th></th>\n",
       "      <th>id</th>\n",
       "      <th>q_creation_date</th>\n",
       "      <th>a_creation_date</th>\n",
       "    </tr>\n",
       "  </thead>\n",
       "  <tbody>\n",
       "    <tr>\n",
       "      <th>0</th>\n",
       "      <td>10947215</td>\n",
       "      <td>2019-01-21 23:06:47.690000+00:00</td>\n",
       "      <td>2021-02-04 16:21:01.267000+00:00</td>\n",
       "    </tr>\n",
       "    <tr>\n",
       "      <th>1</th>\n",
       "      <td>10889304</td>\n",
       "      <td>2020-11-06 19:07:26.463000+00:00</td>\n",
       "      <td>2020-08-12 06:13:35.130000+00:00</td>\n",
       "    </tr>\n",
       "    <tr>\n",
       "      <th>2</th>\n",
       "      <td>10983510</td>\n",
       "      <td>2019-04-26 12:45:10.920000+00:00</td>\n",
       "      <td>2019-04-26 12:49:38.987000+00:00</td>\n",
       "    </tr>\n",
       "    <tr>\n",
       "      <th>3</th>\n",
       "      <td>10934891</td>\n",
       "      <td>2020-02-15 21:07:54.887000+00:00</td>\n",
       "      <td>2021-03-08 07:22:03.677000+00:00</td>\n",
       "    </tr>\n",
       "    <tr>\n",
       "      <th>4</th>\n",
       "      <td>10878042</td>\n",
       "      <td>2019-01-07 08:28:57.940000+00:00</td>\n",
       "      <td>NaT</td>\n",
       "    </tr>\n",
       "  </tbody>\n",
       "</table>\n",
       "</div>"
      ],
      "text/plain": [
       "         id                  q_creation_date                  a_creation_date\n",
       "0  10947215 2019-01-21 23:06:47.690000+00:00 2021-02-04 16:21:01.267000+00:00\n",
       "1  10889304 2020-11-06 19:07:26.463000+00:00 2020-08-12 06:13:35.130000+00:00\n",
       "2  10983510 2019-04-26 12:45:10.920000+00:00 2019-04-26 12:49:38.987000+00:00\n",
       "3  10934891 2020-02-15 21:07:54.887000+00:00 2021-03-08 07:22:03.677000+00:00\n",
       "4  10878042 2019-01-07 08:28:57.940000+00:00                              NaT"
      ]
     },
     "metadata": {},
     "output_type": "display_data"
    },
    {
     "data": {
      "application/javascript": [
       "parent.postMessage({\"jupyterEvent\": \"custom.exercise_interaction\", \"data\": {\"outcomeType\": 1, \"valueTowardsCompletion\": 0.25, \"interactionType\": 1, \"questionType\": 2, \"questionId\": \"3_QA_Two\", \"learnToolsVersion\": \"0.3.4\", \"failureMessage\": \"\", \"exceptionClass\": \"\", \"trace\": \"\"}}, \"*\")"
      ],
      "text/plain": [
       "<IPython.core.display.Javascript object>"
      ]
     },
     "metadata": {},
     "output_type": "display_data"
    },
    {
     "data": {
      "text/markdown": [
       "<span style=\"color:#33cc33\">Correct</span>"
      ],
      "text/plain": [
       "Correct"
      ]
     },
     "metadata": {},
     "output_type": "display_data"
    }
   ],
   "source": [
    "# Your code here\n",
    "three_tables_query = \"\"\"\n",
    "                    SELECT u.id AS id,\n",
    "                        MIN(q.creation_date) AS q_creation_date,\n",
    "                        MIN(a.creation_date) AS a_creation_date\n",
    "                    \n",
    "                    FROM `bigquery-public-data.stackoverflow.users` AS u\n",
    "                    LEFT JOIN `bigquery-public-data.stackoverflow.posts_answers` AS a\n",
    "                        ON u.id = a.owner_user_id \n",
    "                    LEFT JOIN `bigquery-public-data.stackoverflow.posts_questions` AS q\n",
    "                        ON u.id = q.owner_user_id \n",
    "                        \n",
    "                    WHERE u.creation_date>='2019-01-01' AND u.creation_date <'2019-02-01'\n",
    "                    GROUP BY id\n",
    "                     \"\"\"\n",
    "\n",
    "# Check your answer\n",
    "q_3.check()"
   ]
  },
  {
   "cell_type": "code",
   "execution_count": 11,
   "id": "ff70b818",
   "metadata": {
    "execution": {
     "iopub.execute_input": "2021-08-16T07:50:21.950146Z",
     "iopub.status.busy": "2021-08-16T07:50:21.949564Z",
     "iopub.status.idle": "2021-08-16T07:50:21.952472Z",
     "shell.execute_reply": "2021-08-16T07:50:21.951996Z",
     "shell.execute_reply.started": "2021-08-16T07:32:05.023829Z"
    },
    "papermill": {
     "duration": 0.029181,
     "end_time": "2021-08-16T07:50:21.952612",
     "exception": false,
     "start_time": "2021-08-16T07:50:21.923431",
     "status": "completed"
    },
    "tags": []
   },
   "outputs": [],
   "source": [
    "# Lines below will give you a hint or solution code\n",
    "#q_3.hint()\n",
    "#q_3.solution()"
   ]
  },
  {
   "cell_type": "markdown",
   "id": "925c2273",
   "metadata": {
    "papermill": {
     "duration": 0.021874,
     "end_time": "2021-08-16T07:50:22.005287",
     "exception": false,
     "start_time": "2021-08-16T07:50:21.983413",
     "status": "completed"
    },
    "tags": []
   },
   "source": [
    "### 4) How many distinct users posted on January 1, 2019?\n",
    "\n",
    "In the code cell below, write a query that returns a table with a single column:\n",
    "- `owner_user_id` - the IDs of all users who posted at least one question or answer on January 1, 2019.  Each user ID should appear at most once.\n",
    "\n",
    "In the `posts_questions` (and `posts_answers`) tables, you can get the ID of the original poster from the `owner_user_id` column.  Likewise, the date of the original posting can be found in the `creation_date` column.  \n",
    "\n",
    "In order for your answer to be marked correct, your query must use a **UNION**."
   ]
  },
  {
   "cell_type": "code",
   "execution_count": 12,
   "id": "c0743c91",
   "metadata": {
    "execution": {
     "iopub.execute_input": "2021-08-16T07:50:22.055857Z",
     "iopub.status.busy": "2021-08-16T07:50:22.055213Z",
     "iopub.status.idle": "2021-08-16T07:50:24.028085Z",
     "shell.execute_reply": "2021-08-16T07:50:24.027584Z",
     "shell.execute_reply.started": "2021-08-16T07:47:05.590748Z"
    },
    "papermill": {
     "duration": 2.00035,
     "end_time": "2021-08-16T07:50:24.028224",
     "exception": false,
     "start_time": "2021-08-16T07:50:22.027874",
     "status": "completed"
    },
    "tags": []
   },
   "outputs": [
    {
     "name": "stderr",
     "output_type": "stream",
     "text": [
      "/opt/conda/lib/python3.7/site-packages/google/cloud/bigquery/client.py:440: UserWarning: Cannot create BigQuery Storage client, the dependency google-cloud-bigquery-storage is not installed.\n",
      "  \"Cannot create BigQuery Storage client, the dependency \"\n"
     ]
    },
    {
     "data": {
      "text/html": [
       "<div>\n",
       "<style scoped>\n",
       "    .dataframe tbody tr th:only-of-type {\n",
       "        vertical-align: middle;\n",
       "    }\n",
       "\n",
       "    .dataframe tbody tr th {\n",
       "        vertical-align: top;\n",
       "    }\n",
       "\n",
       "    .dataframe thead th {\n",
       "        text-align: right;\n",
       "    }\n",
       "</style>\n",
       "<table border=\"1\" class=\"dataframe\">\n",
       "  <thead>\n",
       "    <tr style=\"text-align: right;\">\n",
       "      <th></th>\n",
       "      <th>owner_user_id</th>\n",
       "    </tr>\n",
       "  </thead>\n",
       "  <tbody>\n",
       "    <tr>\n",
       "      <th>0</th>\n",
       "      <td>4381453.0</td>\n",
       "    </tr>\n",
       "    <tr>\n",
       "      <th>1</th>\n",
       "      <td>4457867.0</td>\n",
       "    </tr>\n",
       "    <tr>\n",
       "      <th>2</th>\n",
       "      <td>10854019.0</td>\n",
       "    </tr>\n",
       "    <tr>\n",
       "      <th>3</th>\n",
       "      <td>10229061.0</td>\n",
       "    </tr>\n",
       "    <tr>\n",
       "      <th>4</th>\n",
       "      <td>1174869.0</td>\n",
       "    </tr>\n",
       "  </tbody>\n",
       "</table>\n",
       "</div>"
      ],
      "text/plain": [
       "   owner_user_id\n",
       "0      4381453.0\n",
       "1      4457867.0\n",
       "2     10854019.0\n",
       "3     10229061.0\n",
       "4      1174869.0"
      ]
     },
     "metadata": {},
     "output_type": "display_data"
    },
    {
     "data": {
      "application/javascript": [
       "parent.postMessage({\"jupyterEvent\": \"custom.exercise_interaction\", \"data\": {\"outcomeType\": 1, \"valueTowardsCompletion\": 0.25, \"interactionType\": 1, \"questionType\": 2, \"questionId\": \"4_AllUsers\", \"learnToolsVersion\": \"0.3.4\", \"failureMessage\": \"\", \"exceptionClass\": \"\", \"trace\": \"\"}}, \"*\")"
      ],
      "text/plain": [
       "<IPython.core.display.Javascript object>"
      ]
     },
     "metadata": {},
     "output_type": "display_data"
    },
    {
     "data": {
      "text/markdown": [
       "<span style=\"color:#33cc33\">Correct</span>"
      ],
      "text/plain": [
       "Correct"
      ]
     },
     "metadata": {},
     "output_type": "display_data"
    }
   ],
   "source": [
    "# Your code here\n",
    "all_users_query = \"\"\"\n",
    "                  SELECT q.owner_user_id \n",
    "                  \n",
    "                  FROM `bigquery-public-data.stackoverflow.posts_questions` AS q\n",
    "                  WHERE EXTRACT(DATE FROM q.creation_date) = '2019-01-01'\n",
    "                  UNION DISTINCT\n",
    "                  \n",
    "                  SELECT a.owner_user_id\n",
    "                  FROM `bigquery-public-data.stackoverflow.posts_answers` AS a\n",
    "                  WHERE EXTRACT(DATE FROM a.creation_date) = '2019-01-01'\n",
    "                  \"\"\"\n",
    "\n",
    "# Check your answer\n",
    "q_4.check()"
   ]
  },
  {
   "cell_type": "code",
   "execution_count": 13,
   "id": "68c2aeee",
   "metadata": {
    "execution": {
     "iopub.execute_input": "2021-08-16T07:50:24.078435Z",
     "iopub.status.busy": "2021-08-16T07:50:24.077850Z",
     "iopub.status.idle": "2021-08-16T07:50:24.080822Z",
     "shell.execute_reply": "2021-08-16T07:50:24.081447Z",
     "shell.execute_reply.started": "2021-08-16T07:47:42.172864Z"
    },
    "papermill": {
     "duration": 0.029065,
     "end_time": "2021-08-16T07:50:24.081615",
     "exception": false,
     "start_time": "2021-08-16T07:50:24.052550",
     "status": "completed"
    },
    "tags": []
   },
   "outputs": [],
   "source": [
    "# Lines below will give you a hint or solution code\n",
    "#q_4.hint()\n",
    "#q_4.solution()"
   ]
  },
  {
   "cell_type": "markdown",
   "id": "aff7b29f",
   "metadata": {
    "papermill": {
     "duration": 0.022985,
     "end_time": "2021-08-16T07:50:24.128625",
     "exception": false,
     "start_time": "2021-08-16T07:50:24.105640",
     "status": "completed"
    },
    "tags": []
   },
   "source": [
    "# Keep going\n",
    "\n",
    "Learn how to use **[analytic functions](https://www.kaggle.com/alexisbcook/analytic-functions)** to perform complex calculations with minimal SQL code."
   ]
  },
  {
   "cell_type": "markdown",
   "id": "284b5654",
   "metadata": {
    "papermill": {
     "duration": 0.023212,
     "end_time": "2021-08-16T07:50:24.175965",
     "exception": false,
     "start_time": "2021-08-16T07:50:24.152753",
     "status": "completed"
    },
    "tags": []
   },
   "source": [
    "---\n",
    "\n",
    "\n",
    "\n",
    "\n",
    "*Have questions or comments? Visit the [Learn Discussion forum](https://www.kaggle.com/learn-forum/161315) to chat with other Learners.*"
   ]
  }
 ],
 "metadata": {
  "kernelspec": {
   "display_name": "Python 3",
   "language": "python",
   "name": "python3"
  },
  "language_info": {
   "codemirror_mode": {
    "name": "ipython",
    "version": 3
   },
   "file_extension": ".py",
   "mimetype": "text/x-python",
   "name": "python",
   "nbconvert_exporter": "python",
   "pygments_lexer": "ipython3",
   "version": "3.7.10"
  },
  "papermill": {
   "default_parameters": {},
   "duration": 61.815561,
   "end_time": "2021-08-16T07:50:25.864852",
   "environment_variables": {},
   "exception": null,
   "input_path": "__notebook__.ipynb",
   "output_path": "__notebook__.ipynb",
   "parameters": {},
   "start_time": "2021-08-16T07:49:24.049291",
   "version": "2.3.3"
  }
 },
 "nbformat": 4,
 "nbformat_minor": 5
}
