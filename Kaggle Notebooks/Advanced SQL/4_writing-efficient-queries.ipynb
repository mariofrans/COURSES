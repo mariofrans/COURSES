{
 "cells": [
  {
   "cell_type": "markdown",
   "id": "patent-means",
   "metadata": {
    "papermill": {
     "duration": 0.008997,
     "end_time": "2021-06-03T16:36:15.728648",
     "exception": false,
     "start_time": "2021-06-03T16:36:15.719651",
     "status": "completed"
    },
    "tags": []
   },
   "source": [
    "# Introduction\n",
    "\n",
    "Sometimes it doesn't matter whether your query is efficient or not. For example, you might write a query you expect to run only once, and it might be working on a small dataset. In this case, anything that gives you the answer you need will do.\n",
    "\n",
    "But what about queries that will be run many times, like a query that feeds data to a website? Those need to be efficient so you don't leave users waiting for your website to load.\n",
    "\n",
    "Or what about queries on huge datasets? These can be slow and cost a business a lot of money if they are written poorly.\n",
    "\n",
    "Most database systems have a **query optimizer** that attempts to interpret/execute your query in the most effective way possible. But several strategies can still yield huge savings in many cases.\n",
    "\n",
    "# Some useful functions\n",
    "\n",
    "We will use two functions to compare the efficiency of different queries:\n",
    "- `show_amount_of_data_scanned()` shows the amount of data the query uses.\n",
    "- `show_time_to_run()` prints how long it takes for the query to execute."
   ]
  },
  {
   "cell_type": "code",
   "execution_count": 1,
   "id": "spectacular-certification",
   "metadata": {
    "_kg_hide-input": true,
    "execution": {
     "iopub.execute_input": "2021-06-03T16:36:15.750372Z",
     "iopub.status.busy": "2021-06-03T16:36:15.748614Z",
     "iopub.status.idle": "2021-06-03T16:36:15.759193Z",
     "shell.execute_reply": "2021-06-03T16:36:15.758452Z"
    },
    "papermill": {
     "duration": 0.022686,
     "end_time": "2021-06-03T16:36:15.759359",
     "exception": false,
     "start_time": "2021-06-03T16:36:15.736673",
     "status": "completed"
    },
    "tags": []
   },
   "outputs": [
    {
     "name": "stdout",
     "output_type": "stream",
     "text": [
      "Using Kaggle's public dataset BigQuery integration.\n"
     ]
    }
   ],
   "source": [
    "\n",
    "from google.cloud import bigquery\n",
    "from time import time\n",
    "\n",
    "client = bigquery.Client()\n",
    "\n",
    "def show_amount_of_data_scanned(query):\n",
    "    # dry_run lets us see how much data the query uses without running it\n",
    "    dry_run_config = bigquery.QueryJobConfig(dry_run=True)\n",
    "    query_job = client.query(query, job_config=dry_run_config)\n",
    "    print('Data processed: {} GB'.format(round(query_job.total_bytes_processed / 10**9, 3)))\n",
    "    \n",
    "def show_time_to_run(query):\n",
    "    time_config = bigquery.QueryJobConfig(use_query_cache=False)\n",
    "    start = time()\n",
    "    query_result = client.query(query, job_config=time_config).result()\n",
    "    end = time()\n",
    "    print('Time to run: {} seconds'.format(round(end-start, 3)))"
   ]
  },
  {
   "cell_type": "markdown",
   "id": "usual-mistress",
   "metadata": {
    "papermill": {
     "duration": 0.008053,
     "end_time": "2021-06-03T16:36:15.776242",
     "exception": false,
     "start_time": "2021-06-03T16:36:15.768189",
     "status": "completed"
    },
    "tags": []
   },
   "source": [
    "# Strategies\n",
    "\n",
    "### 1) Only select the columns you want. \n",
    "\n",
    "It is tempting to start queries with **SELECT * FROM ...**. It's convenient because you don't need to think about which columns you need. But it can be very inefficient.\n",
    "\n",
    "This is especially important if there are text fields that you don't need, because text fields tend to be larger than other fields."
   ]
  },
  {
   "cell_type": "code",
   "execution_count": 2,
   "id": "upper-input",
   "metadata": {
    "execution": {
     "iopub.execute_input": "2021-06-03T16:36:15.798773Z",
     "iopub.status.busy": "2021-06-03T16:36:15.798087Z",
     "iopub.status.idle": "2021-06-03T16:36:16.643596Z",
     "shell.execute_reply": "2021-06-03T16:36:16.644085Z"
    },
    "papermill": {
     "duration": 0.85967,
     "end_time": "2021-06-03T16:36:16.644268",
     "exception": false,
     "start_time": "2021-06-03T16:36:15.784598",
     "status": "completed"
    },
    "tags": []
   },
   "outputs": [
    {
     "name": "stdout",
     "output_type": "stream",
     "text": [
      "Data processed: 2589.111 GB\n",
      "Data processed: 2.445 GB\n"
     ]
    }
   ],
   "source": [
    "star_query = \"SELECT * FROM `bigquery-public-data.github_repos.contents`\"\n",
    "show_amount_of_data_scanned(star_query)\n",
    "\n",
    "basic_query = \"SELECT size, binary FROM `bigquery-public-data.github_repos.contents`\"\n",
    "show_amount_of_data_scanned(basic_query)"
   ]
  },
  {
   "cell_type": "markdown",
   "id": "chinese-hospital",
   "metadata": {
    "papermill": {
     "duration": 0.008811,
     "end_time": "2021-06-03T16:36:16.662413",
     "exception": false,
     "start_time": "2021-06-03T16:36:16.653602",
     "status": "completed"
    },
    "tags": []
   },
   "source": [
    "In this case, we see a 1000X reduction in data being scanned to complete the query, because the raw data contained a text field that was 1000X larger than the fields we might need."
   ]
  },
  {
   "cell_type": "markdown",
   "id": "aware-hormone",
   "metadata": {
    "papermill": {
     "duration": 0.00878,
     "end_time": "2021-06-03T16:36:16.680271",
     "exception": false,
     "start_time": "2021-06-03T16:36:16.671491",
     "status": "completed"
    },
    "tags": []
   },
   "source": [
    "### 2) Read less data.\n",
    "\n",
    "Both queries below calculate the average duration (in seconds) of one-way bike trips in the city of San Francisco."
   ]
  },
  {
   "cell_type": "code",
   "execution_count": 3,
   "id": "worthy-protection",
   "metadata": {
    "execution": {
     "iopub.execute_input": "2021-06-03T16:36:16.701437Z",
     "iopub.status.busy": "2021-06-03T16:36:16.700776Z",
     "iopub.status.idle": "2021-06-03T16:36:17.483440Z",
     "shell.execute_reply": "2021-06-03T16:36:17.483896Z"
    },
    "papermill": {
     "duration": 0.794876,
     "end_time": "2021-06-03T16:36:17.484079",
     "exception": false,
     "start_time": "2021-06-03T16:36:16.689203",
     "status": "completed"
    },
    "tags": []
   },
   "outputs": [
    {
     "name": "stdout",
     "output_type": "stream",
     "text": [
      "Data processed: 0.076 GB\n",
      "Data processed: 0.06 GB\n"
     ]
    }
   ],
   "source": [
    "more_data_query = \"\"\"\n",
    "                  SELECT MIN(start_station_name) AS start_station_name,\n",
    "                      MIN(end_station_name) AS end_station_name,\n",
    "                      AVG(duration_sec) AS avg_duration_sec\n",
    "                  FROM `bigquery-public-data.san_francisco.bikeshare_trips`\n",
    "                  WHERE start_station_id != end_station_id \n",
    "                  GROUP BY start_station_id, end_station_id\n",
    "                  LIMIT 10\n",
    "                  \"\"\"\n",
    "show_amount_of_data_scanned(more_data_query)\n",
    "\n",
    "less_data_query = \"\"\"\n",
    "                  SELECT start_station_name,\n",
    "                      end_station_name,\n",
    "                      AVG(duration_sec) AS avg_duration_sec                  \n",
    "                  FROM `bigquery-public-data.san_francisco.bikeshare_trips`\n",
    "                  WHERE start_station_name != end_station_name\n",
    "                  GROUP BY start_station_name, end_station_name\n",
    "                  LIMIT 10\n",
    "                  \"\"\"\n",
    "show_amount_of_data_scanned(less_data_query)"
   ]
  },
  {
   "cell_type": "markdown",
   "id": "driving-bolivia",
   "metadata": {
    "papermill": {
     "duration": 0.00943,
     "end_time": "2021-06-03T16:36:17.503476",
     "exception": false,
     "start_time": "2021-06-03T16:36:17.494046",
     "status": "completed"
    },
    "tags": []
   },
   "source": [
    "Since there is a 1:1 relationship between the station ID and the station name, we don't need to use the `start_station_id` and `end_station_id` columns in the query.  By using only the columns with the station IDs, we scan less data.\n",
    "\n",
    "### 3) Avoid N:N JOINs.\n",
    "\n",
    "Most of the JOINs that you have executed in this course have been **1:1 JOINs**.  In this case, each row in each table has at most one match in the other table.\n",
    "\n",
    "![JOIN](https://i.imgur.com/fp7oMLq.png)\n",
    "\n",
    "Another type of JOIN is an **N:1 JOIN**.  Here, each row in one table matches potentially many rows in the other table.  \n",
    "\n",
    "![JOIN](https://i.imgur.com/7PxE0Mr.png)\n",
    "\n",
    "Finally, an **N:N JOIN** is one where a group of rows in one table can match a group of rows in the other table. Note that in general, all other things equal, this type of JOIN produces a table with many more rows than either of the two (original) tables that are being JOINed.\n",
    "\n",
    "![JOIN](https://i.imgur.com/UsNZZoz.png)\n",
    "\n",
    "Now we'll work with an example from a real dataset.  Both examples below count the number of distinct committers and the number of files in several GitHub repositories."
   ]
  },
  {
   "cell_type": "code",
   "execution_count": 4,
   "id": "administrative-announcement",
   "metadata": {
    "execution": {
     "iopub.execute_input": "2021-06-03T16:36:17.526537Z",
     "iopub.status.busy": "2021-06-03T16:36:17.525834Z",
     "iopub.status.idle": "2021-06-03T16:36:29.981124Z",
     "shell.execute_reply": "2021-06-03T16:36:29.980592Z"
    },
    "papermill": {
     "duration": 12.467967,
     "end_time": "2021-06-03T16:36:29.981266",
     "exception": false,
     "start_time": "2021-06-03T16:36:17.513299",
     "status": "completed"
    },
    "tags": []
   },
   "outputs": [
    {
     "name": "stdout",
     "output_type": "stream",
     "text": [
      "Time to run: 8.362 seconds\n",
      "Time to run: 4.084 seconds\n"
     ]
    }
   ],
   "source": [
    "big_join_query = \"\"\"\n",
    "                 SELECT repo,\n",
    "                     COUNT(DISTINCT c.committer.name) as num_committers,\n",
    "                     COUNT(DISTINCT f.id) AS num_files\n",
    "                 FROM `bigquery-public-data.github_repos.commits` AS c,\n",
    "                     UNNEST(c.repo_name) AS repo\n",
    "                 INNER JOIN `bigquery-public-data.github_repos.files` AS f\n",
    "                     ON f.repo_name = repo\n",
    "                 WHERE f.repo_name IN ( 'tensorflow/tensorflow', 'facebook/react', 'twbs/bootstrap', 'apple/swift', 'Microsoft/vscode', 'torvalds/linux')\n",
    "                 GROUP BY repo\n",
    "                 ORDER BY repo\n",
    "                 \"\"\"\n",
    "show_time_to_run(big_join_query)\n",
    "\n",
    "small_join_query = \"\"\"\n",
    "                   WITH commits AS\n",
    "                   (\n",
    "                   SELECT COUNT(DISTINCT committer.name) AS num_committers, repo\n",
    "                   FROM `bigquery-public-data.github_repos.commits`,\n",
    "                       UNNEST(repo_name) as repo\n",
    "                   WHERE repo IN ( 'tensorflow/tensorflow', 'facebook/react', 'twbs/bootstrap', 'apple/swift', 'Microsoft/vscode', 'torvalds/linux')\n",
    "                   GROUP BY repo\n",
    "                   ),\n",
    "                   files AS \n",
    "                   (\n",
    "                   SELECT COUNT(DISTINCT id) AS num_files, repo_name as repo\n",
    "                   FROM `bigquery-public-data.github_repos.files`\n",
    "                   WHERE repo_name IN ( 'tensorflow/tensorflow', 'facebook/react', 'twbs/bootstrap', 'apple/swift', 'Microsoft/vscode', 'torvalds/linux')\n",
    "                   GROUP BY repo\n",
    "                   )\n",
    "                   SELECT commits.repo, commits.num_committers, files.num_files\n",
    "                   FROM commits \n",
    "                   INNER JOIN files\n",
    "                       ON commits.repo = files.repo\n",
    "                   ORDER BY repo\n",
    "                   \"\"\"\n",
    "\n",
    "show_time_to_run(small_join_query)"
   ]
  },
  {
   "cell_type": "markdown",
   "id": "satisfactory-thomson",
   "metadata": {
    "papermill": {
     "duration": 0.010313,
     "end_time": "2021-06-03T16:36:30.002250",
     "exception": false,
     "start_time": "2021-06-03T16:36:29.991937",
     "status": "completed"
    },
    "tags": []
   },
   "source": [
    "The first query has a large N:N JOIN.  By rewriting the query to decrease the size of the JOIN, we see it runs much faster."
   ]
  },
  {
   "cell_type": "markdown",
   "id": "alleged-artwork",
   "metadata": {
    "papermill": {
     "duration": 0.010296,
     "end_time": "2021-06-03T16:36:30.024624",
     "exception": false,
     "start_time": "2021-06-03T16:36:30.014328",
     "status": "completed"
    },
    "tags": []
   },
   "source": [
    "# Learn more\n",
    "\n",
    "These strategies and many more are discussed in [this thorough guide](https://www.oreilly.com/library/view/google-bigquery-the/9781492044451/) to Google BigQuery.  If you'd like to learn more about how to write more efficient queries (or deepen your knowledge of all things BigQuery), you're encouraged to check it out!\n",
    "\n",
    "# Your turn\n",
    "Leverage what you've learned to **[improve the design](https://www.kaggle.com/kernels/fork/5045822)** of several queries."
   ]
  },
  {
   "cell_type": "markdown",
   "id": "republican-zoning",
   "metadata": {
    "papermill": {
     "duration": 0.010316,
     "end_time": "2021-06-03T16:36:30.045511",
     "exception": false,
     "start_time": "2021-06-03T16:36:30.035195",
     "status": "completed"
    },
    "tags": []
   },
   "source": [
    "---\n",
    "\n",
    "\n",
    "\n",
    "\n",
    "*Have questions or comments? Visit the [Learn Discussion forum](https://www.kaggle.com/learn-forum/161315) to chat with other Learners.*"
   ]
  }
 ],
 "metadata": {
  "kernelspec": {
   "display_name": "Python 3",
   "language": "python",
   "name": "python3"
  },
  "language_info": {
   "codemirror_mode": {
    "name": "ipython",
    "version": 3
   },
   "file_extension": ".py",
   "mimetype": "text/x-python",
   "name": "python",
   "nbconvert_exporter": "python",
   "pygments_lexer": "ipython3",
   "version": "3.7.9"
  },
  "papermill": {
   "default_parameters": {},
   "duration": 21.08337,
   "end_time": "2021-06-03T16:36:30.666010",
   "environment_variables": {},
   "exception": null,
   "input_path": "__notebook__.ipynb",
   "output_path": "__notebook__.ipynb",
   "parameters": {},
   "start_time": "2021-06-03T16:36:09.582640",
   "version": "2.3.2"
  }
 },
 "nbformat": 4,
 "nbformat_minor": 5
}
