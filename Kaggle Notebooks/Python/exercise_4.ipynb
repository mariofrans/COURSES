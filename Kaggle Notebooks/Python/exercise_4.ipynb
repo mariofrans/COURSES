{
 "cells": [
  {
   "cell_type": "markdown",
   "id": "b3a5a0e7",
   "metadata": {
    "papermill": {
     "duration": 0.01632,
     "end_time": "2021-08-04T08:22:09.917326",
     "exception": false,
     "start_time": "2021-08-04T08:22:09.901006",
     "status": "completed"
    },
    "tags": []
   },
   "source": [
    "**This notebook is an exercise in the [Python](https://www.kaggle.com/learn/python) course.  You can reference the tutorial at [this link](https://www.kaggle.com/colinmorris/lists).**\n",
    "\n",
    "---\n"
   ]
  },
  {
   "cell_type": "markdown",
   "id": "04bc11ad",
   "metadata": {
    "papermill": {
     "duration": 0.0144,
     "end_time": "2021-08-04T08:22:09.946797",
     "exception": false,
     "start_time": "2021-08-04T08:22:09.932397",
     "status": "completed"
    },
    "tags": []
   },
   "source": [
    "Things get more interesting with lists. You'll apply your new knowledge to solve the questions below. Remember to run the following cell first."
   ]
  },
  {
   "cell_type": "code",
   "execution_count": 1,
   "id": "006a5131",
   "metadata": {
    "execution": {
     "iopub.execute_input": "2021-08-04T08:22:09.988727Z",
     "iopub.status.busy": "2021-08-04T08:22:09.988019Z",
     "iopub.status.idle": "2021-08-04T08:22:10.125198Z",
     "shell.execute_reply": "2021-08-04T08:22:10.124484Z",
     "shell.execute_reply.started": "2021-08-04T08:02:22.565850Z"
    },
    "papermill": {
     "duration": 0.164658,
     "end_time": "2021-08-04T08:22:10.125382",
     "exception": false,
     "start_time": "2021-08-04T08:22:09.960724",
     "status": "completed"
    },
    "tags": []
   },
   "outputs": [
    {
     "name": "stdout",
     "output_type": "stream",
     "text": [
      "Setup complete.\n"
     ]
    }
   ],
   "source": [
    "from learntools.core import binder; binder.bind(globals())\n",
    "from learntools.python.ex4 import *\n",
    "print('Setup complete.')"
   ]
  },
  {
   "cell_type": "markdown",
   "id": "595d9e80",
   "metadata": {
    "papermill": {
     "duration": 0.01403,
     "end_time": "2021-08-04T08:22:10.154249",
     "exception": false,
     "start_time": "2021-08-04T08:22:10.140219",
     "status": "completed"
    },
    "tags": []
   },
   "source": [
    "# 1.\n",
    "\n",
    "Complete the function below according to its docstring."
   ]
  },
  {
   "cell_type": "code",
   "execution_count": 2,
   "id": "e9feb8ff",
   "metadata": {
    "execution": {
     "iopub.execute_input": "2021-08-04T08:22:10.191917Z",
     "iopub.status.busy": "2021-08-04T08:22:10.191166Z",
     "iopub.status.idle": "2021-08-04T08:22:10.197464Z",
     "shell.execute_reply": "2021-08-04T08:22:10.196775Z",
     "shell.execute_reply.started": "2021-08-04T08:03:15.704145Z"
    },
    "papermill": {
     "duration": 0.028854,
     "end_time": "2021-08-04T08:22:10.197612",
     "exception": false,
     "start_time": "2021-08-04T08:22:10.168758",
     "status": "completed"
    },
    "tags": []
   },
   "outputs": [
    {
     "data": {
      "application/javascript": [
       "parent.postMessage({\"jupyterEvent\": \"custom.exercise_interaction\", \"data\": {\"outcomeType\": 1, \"valueTowardsCompletion\": 0.2, \"interactionType\": 1, \"questionType\": 2, \"questionId\": \"1_SelectSecondItem\", \"learnToolsVersion\": \"0.3.4\", \"failureMessage\": \"\", \"exceptionClass\": \"\", \"trace\": \"\"}}, \"*\")"
      ],
      "text/plain": [
       "<IPython.core.display.Javascript object>"
      ]
     },
     "metadata": {},
     "output_type": "display_data"
    },
    {
     "data": {
      "text/markdown": [
       "<span style=\"color:#33cc33\">Correct</span>"
      ],
      "text/plain": [
       "Correct"
      ]
     },
     "metadata": {},
     "output_type": "display_data"
    }
   ],
   "source": [
    "def select_second(L):\n",
    "    \"\"\"Return the second element of the given list. If the list has no second\n",
    "    element, return None.\n",
    "    \"\"\"\n",
    "    if len(L)<2: return None\n",
    "    else: return L[1]\n",
    "\n",
    "# Check your answer\n",
    "q1.check()"
   ]
  },
  {
   "cell_type": "code",
   "execution_count": 3,
   "id": "7255ec24",
   "metadata": {
    "collapsed": true,
    "execution": {
     "iopub.execute_input": "2021-08-04T08:22:10.233723Z",
     "iopub.status.busy": "2021-08-04T08:22:10.233090Z",
     "iopub.status.idle": "2021-08-04T08:22:10.235928Z",
     "shell.execute_reply": "2021-08-04T08:22:10.235380Z"
    },
    "jupyter": {
     "outputs_hidden": true
    },
    "papermill": {
     "duration": 0.022926,
     "end_time": "2021-08-04T08:22:10.236160",
     "exception": false,
     "start_time": "2021-08-04T08:22:10.213234",
     "status": "completed"
    },
    "tags": []
   },
   "outputs": [],
   "source": [
    "#q1.hint()\n",
    "#q1.solution()"
   ]
  },
  {
   "cell_type": "markdown",
   "id": "4842d3c7",
   "metadata": {
    "papermill": {
     "duration": 0.015437,
     "end_time": "2021-08-04T08:22:10.267950",
     "exception": false,
     "start_time": "2021-08-04T08:22:10.252513",
     "status": "completed"
    },
    "tags": []
   },
   "source": [
    "# 2.\n",
    "\n",
    "You are analyzing sports teams.  Members of each team are stored in a list. The Coach is the first name in the list, the captain is the second name in the list, and other players are listed after that. \n",
    "These lists are stored in another list, which starts with the best team and proceeds through the list to the worst team last.  Complete the function below to select the **captain** of the worst team."
   ]
  },
  {
   "cell_type": "code",
   "execution_count": 4,
   "id": "e040c999",
   "metadata": {
    "execution": {
     "iopub.execute_input": "2021-08-04T08:22:10.306984Z",
     "iopub.status.busy": "2021-08-04T08:22:10.306256Z",
     "iopub.status.idle": "2021-08-04T08:22:10.311231Z",
     "shell.execute_reply": "2021-08-04T08:22:10.311776Z",
     "shell.execute_reply.started": "2021-08-04T08:05:39.924888Z"
    },
    "papermill": {
     "duration": 0.027928,
     "end_time": "2021-08-04T08:22:10.311973",
     "exception": false,
     "start_time": "2021-08-04T08:22:10.284045",
     "status": "completed"
    },
    "tags": []
   },
   "outputs": [
    {
     "data": {
      "application/javascript": [
       "parent.postMessage({\"jupyterEvent\": \"custom.exercise_interaction\", \"data\": {\"outcomeType\": 1, \"valueTowardsCompletion\": 0.2, \"interactionType\": 1, \"questionType\": 2, \"questionId\": \"2_LosingTeamCaptain\", \"learnToolsVersion\": \"0.3.4\", \"failureMessage\": \"\", \"exceptionClass\": \"\", \"trace\": \"\"}}, \"*\")"
      ],
      "text/plain": [
       "<IPython.core.display.Javascript object>"
      ]
     },
     "metadata": {},
     "output_type": "display_data"
    },
    {
     "data": {
      "text/markdown": [
       "<span style=\"color:#33cc33\">Correct</span>"
      ],
      "text/plain": [
       "Correct"
      ]
     },
     "metadata": {},
     "output_type": "display_data"
    }
   ],
   "source": [
    "def losing_team_captain(teams):\n",
    "    \"\"\"Given a list of teams, where each team is a list of names, return the 2nd player (captain)\n",
    "    from the last listed team\n",
    "    \"\"\"\n",
    "    losing_team = teams[len(teams)-1]\n",
    "    losing_team_captain = select_second(losing_team)\n",
    "    return losing_team_captain\n",
    "\n",
    "# Check your answer\n",
    "q2.check()"
   ]
  },
  {
   "cell_type": "code",
   "execution_count": 5,
   "id": "09c7ab90",
   "metadata": {
    "collapsed": true,
    "execution": {
     "iopub.execute_input": "2021-08-04T08:22:10.348116Z",
     "iopub.status.busy": "2021-08-04T08:22:10.347403Z",
     "iopub.status.idle": "2021-08-04T08:22:10.350777Z",
     "shell.execute_reply": "2021-08-04T08:22:10.351361Z"
    },
    "jupyter": {
     "outputs_hidden": true
    },
    "papermill": {
     "duration": 0.023099,
     "end_time": "2021-08-04T08:22:10.351548",
     "exception": false,
     "start_time": "2021-08-04T08:22:10.328449",
     "status": "completed"
    },
    "tags": []
   },
   "outputs": [],
   "source": [
    "#q2.hint()\n",
    "#q2.solution()"
   ]
  },
  {
   "cell_type": "markdown",
   "id": "7efcdd89",
   "metadata": {
    "papermill": {
     "duration": 0.016153,
     "end_time": "2021-08-04T08:22:10.385403",
     "exception": false,
     "start_time": "2021-08-04T08:22:10.369250",
     "status": "completed"
    },
    "tags": []
   },
   "source": [
    "# 3.\n",
    "\n",
    "The next iteration of Mario Kart will feature an extra-infuriating new item, the *Purple Shell*. When used, it warps the last place racer into first place and the first place racer into last place. Complete the function below to implement the Purple Shell's effect."
   ]
  },
  {
   "cell_type": "code",
   "execution_count": 6,
   "id": "b5cb88bc",
   "metadata": {
    "execution": {
     "iopub.execute_input": "2021-08-04T08:22:10.421432Z",
     "iopub.status.busy": "2021-08-04T08:22:10.420780Z",
     "iopub.status.idle": "2021-08-04T08:22:10.428443Z",
     "shell.execute_reply": "2021-08-04T08:22:10.428996Z",
     "shell.execute_reply.started": "2021-08-04T08:08:17.527429Z"
    },
    "papermill": {
     "duration": 0.027243,
     "end_time": "2021-08-04T08:22:10.429185",
     "exception": false,
     "start_time": "2021-08-04T08:22:10.401942",
     "status": "completed"
    },
    "tags": []
   },
   "outputs": [
    {
     "data": {
      "application/javascript": [
       "parent.postMessage({\"jupyterEvent\": \"custom.exercise_interaction\", \"data\": {\"outcomeType\": 1, \"valueTowardsCompletion\": 0.2, \"interactionType\": 1, \"questionType\": 2, \"questionId\": \"3_PurpleShell\", \"learnToolsVersion\": \"0.3.4\", \"failureMessage\": \"\", \"exceptionClass\": \"\", \"trace\": \"\"}}, \"*\")"
      ],
      "text/plain": [
       "<IPython.core.display.Javascript object>"
      ]
     },
     "metadata": {},
     "output_type": "display_data"
    },
    {
     "data": {
      "text/markdown": [
       "<span style=\"color:#33cc33\">Correct</span>"
      ],
      "text/plain": [
       "Correct"
      ]
     },
     "metadata": {},
     "output_type": "display_data"
    }
   ],
   "source": [
    "def purple_shell(racers):\n",
    "    \"\"\"Given a list of racers, set the first place racer (at the front of the list) to last\n",
    "    place and vice versa.\n",
    "    \n",
    "    >>> r = [\"Mario\", \"Bowser\", \"Luigi\"]\n",
    "    >>> purple_shell(r)\n",
    "    >>> r\n",
    "    [\"Luigi\", \"Bowser\", \"Mario\"]\n",
    "    \"\"\"\n",
    "    \n",
    "    first, last = racers[0], racers[len(racers)-1]\n",
    "    racers[0], racers[len(racers)-1] = last, first\n",
    "\n",
    "# Check your answer\n",
    "q3.check()"
   ]
  },
  {
   "cell_type": "code",
   "execution_count": 7,
   "id": "bb8973c0",
   "metadata": {
    "collapsed": true,
    "execution": {
     "iopub.execute_input": "2021-08-04T08:22:10.468131Z",
     "iopub.status.busy": "2021-08-04T08:22:10.467436Z",
     "iopub.status.idle": "2021-08-04T08:22:10.471686Z",
     "shell.execute_reply": "2021-08-04T08:22:10.471088Z"
    },
    "jupyter": {
     "outputs_hidden": true
    },
    "papermill": {
     "duration": 0.024975,
     "end_time": "2021-08-04T08:22:10.471826",
     "exception": false,
     "start_time": "2021-08-04T08:22:10.446851",
     "status": "completed"
    },
    "tags": []
   },
   "outputs": [],
   "source": [
    "#q3.hint()\n",
    "#q3.solution()"
   ]
  },
  {
   "cell_type": "markdown",
   "id": "0a598231",
   "metadata": {
    "papermill": {
     "duration": 0.017389,
     "end_time": "2021-08-04T08:22:10.507061",
     "exception": false,
     "start_time": "2021-08-04T08:22:10.489672",
     "status": "completed"
    },
    "tags": []
   },
   "source": [
    "# 4.\n",
    "\n",
    "What are the lengths of the following lists? Fill in the variable `lengths` with your predictions. (Try to make a prediction for each list *without* just calling `len()` on it.)"
   ]
  },
  {
   "cell_type": "code",
   "execution_count": 8,
   "id": "bc6853db",
   "metadata": {
    "execution": {
     "iopub.execute_input": "2021-08-04T08:22:10.546702Z",
     "iopub.status.busy": "2021-08-04T08:22:10.545499Z",
     "iopub.status.idle": "2021-08-04T08:22:10.556948Z",
     "shell.execute_reply": "2021-08-04T08:22:10.556217Z",
     "shell.execute_reply.started": "2021-08-04T08:10:05.009910Z"
    },
    "papermill": {
     "duration": 0.032557,
     "end_time": "2021-08-04T08:22:10.557169",
     "exception": false,
     "start_time": "2021-08-04T08:22:10.524612",
     "status": "completed"
    },
    "tags": []
   },
   "outputs": [
    {
     "data": {
      "application/javascript": [
       "parent.postMessage({\"jupyterEvent\": \"custom.exercise_interaction\", \"data\": {\"outcomeType\": 1, \"valueTowardsCompletion\": 0.2, \"interactionType\": 1, \"questionType\": 1, \"questionId\": \"4_UnderstandLen\", \"learnToolsVersion\": \"0.3.4\", \"failureMessage\": \"\", \"exceptionClass\": \"\", \"trace\": \"\"}}, \"*\")"
      ],
      "text/plain": [
       "<IPython.core.display.Javascript object>"
      ]
     },
     "metadata": {},
     "output_type": "display_data"
    },
    {
     "data": {
      "text/markdown": [
       "<span style=\"color:#33cc33\">Correct:</span> \n",
       "\n",
       "\n",
       "- a: There are three items in this list. Nothing tricky yet.\n",
       "- b: The list `[2, 3]` counts as a single item. It has one item before it. So we have 2 items in the list\n",
       "- c: The empty list has 0 items\n",
       "- d: The expression is the same as the list `[2, 3]`, which has length 2."
      ],
      "text/plain": [
       "Correct: \n",
       "\n",
       "\n",
       "- a: There are three items in this list. Nothing tricky yet.\n",
       "- b: The list `[2, 3]` counts as a single item. It has one item before it. So we have 2 items in the list\n",
       "- c: The empty list has 0 items\n",
       "- d: The expression is the same as the list `[2, 3]`, which has length 2."
      ]
     },
     "metadata": {},
     "output_type": "display_data"
    }
   ],
   "source": [
    "a = [1, 2, 3]\n",
    "b = [1, [2, 3]]\n",
    "c = []\n",
    "d = [1, 2, 3][1:]\n",
    "\n",
    "# Put your predictions in the list below. Lengths should contain 4 numbers, the\n",
    "# first being the length of a, the second being the length of b and so on.\n",
    "lengths = [3, 2, 0, 2]\n",
    "\n",
    "# Check your answer\n",
    "q4.check()"
   ]
  },
  {
   "cell_type": "code",
   "execution_count": 9,
   "id": "7ada20a2",
   "metadata": {
    "execution": {
     "iopub.execute_input": "2021-08-04T08:22:10.601260Z",
     "iopub.status.busy": "2021-08-04T08:22:10.600232Z",
     "iopub.status.idle": "2021-08-04T08:22:10.603473Z",
     "shell.execute_reply": "2021-08-04T08:22:10.602880Z",
     "shell.execute_reply.started": "2021-08-04T08:10:09.120195Z"
    },
    "papermill": {
     "duration": 0.026686,
     "end_time": "2021-08-04T08:22:10.603625",
     "exception": false,
     "start_time": "2021-08-04T08:22:10.576939",
     "status": "completed"
    },
    "tags": []
   },
   "outputs": [],
   "source": [
    "# line below provides some explanation\n",
    "# q4.solution()"
   ]
  },
  {
   "cell_type": "markdown",
   "id": "5774b3b0",
   "metadata": {
    "papermill": {
     "duration": 0.018948,
     "end_time": "2021-08-04T08:22:10.641291",
     "exception": false,
     "start_time": "2021-08-04T08:22:10.622343",
     "status": "completed"
    },
    "tags": []
   },
   "source": [
    "# 5. <span title=\"A bit spicy\" style=\"color: darkgreen \">🌶️</span>\n",
    "\n",
    "We're using lists to record people who attended our party and what order they arrived in. For example, the following list represents a party with 7 guests, in which Adela showed up first and Ford was the last to arrive:\n",
    "\n",
    "    party_attendees = ['Adela', 'Fleda', 'Owen', 'May', 'Mona', 'Gilbert', 'Ford']\n",
    "\n",
    "A guest is considered 'fashionably late' if they arrived after at least half of the party's guests. However, they must not be the very last guest (that's taking it too far). In the above example, Mona and Gilbert are the only guests who were fashionably late.\n",
    "\n",
    "Complete the function below which takes a list of party attendees as well as a person, and tells us whether that person is fashionably late."
   ]
  },
  {
   "cell_type": "code",
   "execution_count": 10,
   "id": "2c28a5f2",
   "metadata": {
    "execution": {
     "iopub.execute_input": "2021-08-04T08:22:10.688988Z",
     "iopub.status.busy": "2021-08-04T08:22:10.688245Z",
     "iopub.status.idle": "2021-08-04T08:22:10.693312Z",
     "shell.execute_reply": "2021-08-04T08:22:10.693782Z",
     "shell.execute_reply.started": "2021-08-04T08:21:26.010662Z"
    },
    "papermill": {
     "duration": 0.032589,
     "end_time": "2021-08-04T08:22:10.694013",
     "exception": false,
     "start_time": "2021-08-04T08:22:10.661424",
     "status": "completed"
    },
    "tags": []
   },
   "outputs": [
    {
     "data": {
      "application/javascript": [
       "parent.postMessage({\"jupyterEvent\": \"custom.exercise_interaction\", \"data\": {\"outcomeType\": 1, \"valueTowardsCompletion\": 0.2, \"interactionType\": 1, \"questionType\": 2, \"questionId\": \"5_FashionablyLate\", \"learnToolsVersion\": \"0.3.4\", \"failureMessage\": \"\", \"exceptionClass\": \"\", \"trace\": \"\"}}, \"*\")"
      ],
      "text/plain": [
       "<IPython.core.display.Javascript object>"
      ]
     },
     "metadata": {},
     "output_type": "display_data"
    },
    {
     "data": {
      "text/markdown": [
       "<span style=\"color:#33cc33\">Correct</span>"
      ],
      "text/plain": [
       "Correct"
      ]
     },
     "metadata": {},
     "output_type": "display_data"
    }
   ],
   "source": [
    "def fashionably_late(arrivals, name):\n",
    "    \"\"\"Given an ordered list of arrivals to the party and a name, return whether the guest with that\n",
    "    name was fashionably late.\n",
    "    \"\"\"\n",
    "    order = arrivals.index(name)\n",
    "    return order >= len(arrivals) / 2 and order != len(arrivals) - 1\n",
    "\n",
    "# Check your answer\n",
    "q5.check()"
   ]
  },
  {
   "cell_type": "code",
   "execution_count": 11,
   "id": "1d9b1e84",
   "metadata": {
    "execution": {
     "iopub.execute_input": "2021-08-04T08:22:10.746185Z",
     "iopub.status.busy": "2021-08-04T08:22:10.739110Z",
     "iopub.status.idle": "2021-08-04T08:22:10.750155Z",
     "shell.execute_reply": "2021-08-04T08:22:10.751025Z",
     "shell.execute_reply.started": "2021-08-04T08:21:31.996919Z"
    },
    "papermill": {
     "duration": 0.037548,
     "end_time": "2021-08-04T08:22:10.751306",
     "exception": false,
     "start_time": "2021-08-04T08:22:10.713758",
     "status": "completed"
    },
    "tags": []
   },
   "outputs": [],
   "source": [
    "# q5.hint()\n",
    "# q5.solution()"
   ]
  },
  {
   "cell_type": "markdown",
   "id": "71090167",
   "metadata": {
    "papermill": {
     "duration": 0.02773,
     "end_time": "2021-08-04T08:22:10.803712",
     "exception": false,
     "start_time": "2021-08-04T08:22:10.775982",
     "status": "completed"
    },
    "tags": []
   },
   "source": [
    "# Keep Going\n",
    "\n",
    "That's it for lists and tuples! Now you have the baseline knowledge to **[learn about loops](https://www.kaggle.com/colinmorris/loops-and-list-comprehensions)**, which is where lists and tuples get really interesting. "
   ]
  },
  {
   "cell_type": "markdown",
   "id": "1c53872c",
   "metadata": {
    "papermill": {
     "duration": 0.023694,
     "end_time": "2021-08-04T08:22:10.850825",
     "exception": false,
     "start_time": "2021-08-04T08:22:10.827131",
     "status": "completed"
    },
    "tags": []
   },
   "source": [
    "---\n",
    "\n",
    "\n",
    "\n",
    "\n",
    "*Have questions or comments? Visit the [Learn Discussion forum](https://www.kaggle.com/learn-forum/161283) to chat with other Learners.*"
   ]
  }
 ],
 "metadata": {
  "kernelspec": {
   "display_name": "Python 3",
   "language": "python",
   "name": "python3"
  },
  "language_info": {
   "codemirror_mode": {
    "name": "ipython",
    "version": 3
   },
   "file_extension": ".py",
   "mimetype": "text/x-python",
   "name": "python",
   "nbconvert_exporter": "python",
   "pygments_lexer": "ipython3",
   "version": "3.7.10"
  },
  "papermill": {
   "default_parameters": {},
   "duration": 10.781366,
   "end_time": "2021-08-04T08:22:12.577964",
   "environment_variables": {},
   "exception": null,
   "input_path": "__notebook__.ipynb",
   "output_path": "__notebook__.ipynb",
   "parameters": {},
   "start_time": "2021-08-04T08:22:01.796598",
   "version": "2.3.3"
  }
 },
 "nbformat": 4,
 "nbformat_minor": 5
}
