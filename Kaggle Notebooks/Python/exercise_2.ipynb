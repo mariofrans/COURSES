{
 "cells": [
  {
   "cell_type": "markdown",
   "id": "569079a6",
   "metadata": {
    "papermill": {
     "duration": 0.014674,
     "end_time": "2021-08-04T06:37:25.196707",
     "exception": false,
     "start_time": "2021-08-04T06:37:25.182033",
     "status": "completed"
    },
    "tags": []
   },
   "source": [
    "**This notebook is an exercise in the [Python](https://www.kaggle.com/learn/python) course.  You can reference the tutorial at [this link](https://www.kaggle.com/colinmorris/functions-and-getting-help).**\n",
    "\n",
    "---\n"
   ]
  },
  {
   "cell_type": "markdown",
   "id": "ca6ec5b0",
   "metadata": {
    "papermill": {
     "duration": 0.014548,
     "end_time": "2021-08-04T06:37:25.226716",
     "exception": false,
     "start_time": "2021-08-04T06:37:25.212168",
     "status": "completed"
    },
    "tags": []
   },
   "source": [
    "Functions are powerful. Try writing some yourself.\n",
    "\n",
    "As before, don't forget to run the setup code below before jumping into question 1."
   ]
  },
  {
   "cell_type": "code",
   "execution_count": 1,
   "id": "f9275a4a",
   "metadata": {
    "_kg_hide-input": true,
    "_kg_hide-output": true,
    "execution": {
     "iopub.execute_input": "2021-08-04T06:37:25.259477Z",
     "iopub.status.busy": "2021-08-04T06:37:25.258251Z",
     "iopub.status.idle": "2021-08-04T06:37:25.413647Z",
     "shell.execute_reply": "2021-08-04T06:37:25.412967Z",
     "shell.execute_reply.started": "2021-08-04T06:29:32.234660Z"
    },
    "papermill": {
     "duration": 0.1728,
     "end_time": "2021-08-04T06:37:25.413823",
     "exception": false,
     "start_time": "2021-08-04T06:37:25.241023",
     "status": "completed"
    },
    "tags": []
   },
   "outputs": [
    {
     "name": "stdout",
     "output_type": "stream",
     "text": [
      "Setup complete.\n"
     ]
    }
   ],
   "source": [
    "# SETUP. You don't need to worry for now about what this code does or how it works.\n",
    "from learntools.core import binder; binder.bind(globals())\n",
    "from learntools.python.ex2 import *\n",
    "print('Setup complete.')"
   ]
  },
  {
   "cell_type": "markdown",
   "id": "8179a4bb",
   "metadata": {
    "papermill": {
     "duration": 0.013514,
     "end_time": "2021-08-04T06:37:25.444162",
     "exception": false,
     "start_time": "2021-08-04T06:37:25.430648",
     "status": "completed"
    },
    "tags": []
   },
   "source": [
    "# 1.\n",
    "\n",
    "Complete the body of the following function according to its docstring.\n",
    "\n",
    "HINT: Python has a built-in function `round`."
   ]
  },
  {
   "cell_type": "code",
   "execution_count": 2,
   "id": "7e91fe81",
   "metadata": {
    "execution": {
     "iopub.execute_input": "2021-08-04T06:37:25.481177Z",
     "iopub.status.busy": "2021-08-04T06:37:25.480131Z",
     "iopub.status.idle": "2021-08-04T06:37:25.486460Z",
     "shell.execute_reply": "2021-08-04T06:37:25.485931Z",
     "shell.execute_reply.started": "2021-08-04T06:29:55.563514Z"
    },
    "papermill": {
     "duration": 0.028451,
     "end_time": "2021-08-04T06:37:25.486612",
     "exception": false,
     "start_time": "2021-08-04T06:37:25.458161",
     "status": "completed"
    },
    "tags": []
   },
   "outputs": [
    {
     "data": {
      "application/javascript": [
       "parent.postMessage({\"jupyterEvent\": \"custom.exercise_interaction\", \"data\": {\"outcomeType\": 1, \"valueTowardsCompletion\": 0.16666666666666666, \"interactionType\": 1, \"questionType\": 2, \"questionId\": \"1_RoundFunctionProblem\", \"learnToolsVersion\": \"0.3.4\", \"failureMessage\": \"\", \"exceptionClass\": \"\", \"trace\": \"\"}}, \"*\")"
      ],
      "text/plain": [
       "<IPython.core.display.Javascript object>"
      ]
     },
     "metadata": {},
     "output_type": "display_data"
    },
    {
     "data": {
      "text/markdown": [
       "<span style=\"color:#33cc33\">Correct</span>"
      ],
      "text/plain": [
       "Correct"
      ]
     },
     "metadata": {},
     "output_type": "display_data"
    }
   ],
   "source": [
    "def round_to_two_places(num):\n",
    "    \"\"\"Return the given number rounded to two decimal places. \n",
    "    \n",
    "    >>> round_to_two_places(3.14159)\n",
    "    3.14\n",
    "    \"\"\"\n",
    "    # Replace this body with your own code.\n",
    "    # (\"pass\" is a keyword that does literally nothing. We used it as a placeholder\n",
    "    # because after we begin a code block, Python requires at least one line of code)\n",
    "    return round(num, 2)\n",
    "\n",
    "# Check your answer\n",
    "q1.check()"
   ]
  },
  {
   "cell_type": "code",
   "execution_count": 3,
   "id": "979593fc",
   "metadata": {
    "execution": {
     "iopub.execute_input": "2021-08-04T06:37:25.521405Z",
     "iopub.status.busy": "2021-08-04T06:37:25.520460Z",
     "iopub.status.idle": "2021-08-04T06:37:25.523674Z",
     "shell.execute_reply": "2021-08-04T06:37:25.523103Z"
    },
    "papermill": {
     "duration": 0.022037,
     "end_time": "2021-08-04T06:37:25.523826",
     "exception": false,
     "start_time": "2021-08-04T06:37:25.501789",
     "status": "completed"
    },
    "tags": []
   },
   "outputs": [],
   "source": [
    "# Uncomment the following for a hint\n",
    "#q1.hint()\n",
    "# Or uncomment the following to peek at the solution\n",
    "#q1.solution()"
   ]
  },
  {
   "cell_type": "markdown",
   "id": "046cf174",
   "metadata": {
    "papermill": {
     "duration": 0.014967,
     "end_time": "2021-08-04T06:37:25.554137",
     "exception": false,
     "start_time": "2021-08-04T06:37:25.539170",
     "status": "completed"
    },
    "tags": []
   },
   "source": [
    "# 2.\n",
    "The help for `round` says that `ndigits` (the second argument) may be negative.\n",
    "What do you think will happen when it is? Try some examples in the following cell."
   ]
  },
  {
   "cell_type": "code",
   "execution_count": 4,
   "id": "e4a9052d",
   "metadata": {
    "execution": {
     "iopub.execute_input": "2021-08-04T06:37:25.589085Z",
     "iopub.status.busy": "2021-08-04T06:37:25.588054Z",
     "iopub.status.idle": "2021-08-04T06:37:25.593591Z",
     "shell.execute_reply": "2021-08-04T06:37:25.594032Z",
     "shell.execute_reply.started": "2021-08-04T06:30:50.733056Z"
    },
    "papermill": {
     "duration": 0.024658,
     "end_time": "2021-08-04T06:37:25.594217",
     "exception": false,
     "start_time": "2021-08-04T06:37:25.569559",
     "status": "completed"
    },
    "tags": []
   },
   "outputs": [
    {
     "data": {
      "text/plain": [
       "0.0"
      ]
     },
     "execution_count": 4,
     "metadata": {},
     "output_type": "execute_result"
    }
   ],
   "source": [
    "# Put your test code here\n",
    "round(3.14159, -2)"
   ]
  },
  {
   "cell_type": "markdown",
   "id": "09343f15",
   "metadata": {
    "papermill": {
     "duration": 0.015367,
     "end_time": "2021-08-04T06:37:25.625223",
     "exception": false,
     "start_time": "2021-08-04T06:37:25.609856",
     "status": "completed"
    },
    "tags": []
   },
   "source": [
    "Can you think of a case where this would be useful?  Once you're ready, run the code cell below to see the answer and to receive credit for completing the problem."
   ]
  },
  {
   "cell_type": "code",
   "execution_count": 5,
   "id": "a1c45153",
   "metadata": {
    "execution": {
     "iopub.execute_input": "2021-08-04T06:37:25.660213Z",
     "iopub.status.busy": "2021-08-04T06:37:25.659217Z",
     "iopub.status.idle": "2021-08-04T06:37:25.666874Z",
     "shell.execute_reply": "2021-08-04T06:37:25.667356Z",
     "shell.execute_reply.started": "2021-08-04T06:30:53.325790Z"
    },
    "papermill": {
     "duration": 0.026729,
     "end_time": "2021-08-04T06:37:25.667556",
     "exception": false,
     "start_time": "2021-08-04T06:37:25.640827",
     "status": "completed"
    },
    "tags": []
   },
   "outputs": [
    {
     "data": {
      "application/javascript": [
       "parent.postMessage({\"jupyterEvent\": \"custom.exercise_interaction\", \"data\": {\"interactionType\": 3, \"questionType\": 4, \"questionId\": \"2_RoundNdigitsProblem\", \"learnToolsVersion\": \"0.3.4\", \"valueTowardsCompletion\": 0.0, \"failureMessage\": \"\", \"exceptionClass\": \"\", \"trace\": \"\", \"outcomeType\": 4}}, \"*\")"
      ],
      "text/plain": [
       "<IPython.core.display.Javascript object>"
      ]
     },
     "metadata": {},
     "output_type": "display_data"
    },
    {
     "data": {
      "text/markdown": [
       "<span style=\"color:#33cc99\">Solution:</span> As you've seen, `ndigits=-1` rounds to the nearest 10, `ndigits=-2` rounds to the nearest 100 and so on. Where might this be useful? Suppose we're dealing with large numbers:\n",
       "\n",
       "> The area of Finland is 338,424 km²  \n",
       "> The area of Greenland is 2,166,086 km²\n",
       "\n",
       "We probably don't care whether it's really 338,424, or 338,425, or 338,177. All those digits of accuracy are just distracting. We can chop them off by calling `round()` with `ndigits=-3`:\n",
       "\n",
       "> The area of Finland is 338,000 km²  \n",
       "> The area of Greenland is 2,166,000 km²\n",
       "\n",
       "(We'll talk about how we would get the commas later when we talk about string formatting :))\n"
      ],
      "text/plain": [
       "Solution: As you've seen, `ndigits=-1` rounds to the nearest 10, `ndigits=-2` rounds to the nearest 100 and so on. Where might this be useful? Suppose we're dealing with large numbers:\n",
       "\n",
       "> The area of Finland is 338,424 km²  \n",
       "> The area of Greenland is 2,166,086 km²\n",
       "\n",
       "We probably don't care whether it's really 338,424, or 338,425, or 338,177. All those digits of accuracy are just distracting. We can chop them off by calling `round()` with `ndigits=-3`:\n",
       "\n",
       "> The area of Finland is 338,000 km²  \n",
       "> The area of Greenland is 2,166,000 km²\n",
       "\n",
       "(We'll talk about how we would get the commas later when we talk about string formatting :))"
      ]
     },
     "metadata": {},
     "output_type": "display_data"
    }
   ],
   "source": [
    "# Check your answer (Run this code cell to receive credit!)\n",
    "q2.solution()"
   ]
  },
  {
   "cell_type": "markdown",
   "id": "9b225386",
   "metadata": {
    "papermill": {
     "duration": 0.016318,
     "end_time": "2021-08-04T06:37:25.700481",
     "exception": false,
     "start_time": "2021-08-04T06:37:25.684163",
     "status": "completed"
    },
    "tags": []
   },
   "source": [
    "# 3.\n",
    "\n",
    "In the previous exercise, the candy-sharing friends Alice, Bob and Carol tried to split candies evenly. For the sake of their friendship, any candies left over would be smashed. For example, if they collectively bring home 91 candies, they'll take 30 each and smash 1.\n",
    "\n",
    "Below is a simple function that will calculate the number of candies to smash for *any* number of total candies.\n",
    "\n",
    "Modify it so that it optionally takes a second argument representing the number of friends the candies are being split between. If no second argument is provided, it should assume 3 friends, as before.\n",
    "\n",
    "Update the docstring to reflect this new behaviour."
   ]
  },
  {
   "cell_type": "code",
   "execution_count": 6,
   "id": "d6ecaf6f",
   "metadata": {
    "execution": {
     "iopub.execute_input": "2021-08-04T06:37:25.737571Z",
     "iopub.status.busy": "2021-08-04T06:37:25.736551Z",
     "iopub.status.idle": "2021-08-04T06:37:25.745120Z",
     "shell.execute_reply": "2021-08-04T06:37:25.745632Z",
     "shell.execute_reply.started": "2021-08-04T06:35:08.497781Z"
    },
    "papermill": {
     "duration": 0.028791,
     "end_time": "2021-08-04T06:37:25.745821",
     "exception": false,
     "start_time": "2021-08-04T06:37:25.717030",
     "status": "completed"
    },
    "tags": []
   },
   "outputs": [
    {
     "data": {
      "application/javascript": [
       "parent.postMessage({\"jupyterEvent\": \"custom.exercise_interaction\", \"data\": {\"outcomeType\": 1, \"valueTowardsCompletion\": 0.16666666666666666, \"interactionType\": 1, \"questionType\": 2, \"questionId\": \"3_CandySmashingFunctionProblem\", \"learnToolsVersion\": \"0.3.4\", \"failureMessage\": \"\", \"exceptionClass\": \"\", \"trace\": \"\"}}, \"*\")"
      ],
      "text/plain": [
       "<IPython.core.display.Javascript object>"
      ]
     },
     "metadata": {},
     "output_type": "display_data"
    },
    {
     "data": {
      "text/markdown": [
       "<span style=\"color:#33cc33\">Correct</span>"
      ],
      "text/plain": [
       "Correct"
      ]
     },
     "metadata": {},
     "output_type": "display_data"
    }
   ],
   "source": [
    "def to_smash(total_candies, friends=3):\n",
    "    \"\"\"Return the number of leftover candies that must be smashed after distributing\n",
    "    the given number of candies evenly between 3 friends.\n",
    "    \n",
    "    >>> to_smash(91)\n",
    "    1\n",
    "    \"\"\"\n",
    "    return total_candies % friends\n",
    "\n",
    "# Check your answer\n",
    "q3.check()"
   ]
  },
  {
   "cell_type": "code",
   "execution_count": 7,
   "id": "953780de",
   "metadata": {
    "execution": {
     "iopub.execute_input": "2021-08-04T06:37:25.785871Z",
     "iopub.status.busy": "2021-08-04T06:37:25.784843Z",
     "iopub.status.idle": "2021-08-04T06:37:25.788622Z",
     "shell.execute_reply": "2021-08-04T06:37:25.789063Z"
    },
    "papermill": {
     "duration": 0.025455,
     "end_time": "2021-08-04T06:37:25.789237",
     "exception": false,
     "start_time": "2021-08-04T06:37:25.763782",
     "status": "completed"
    },
    "tags": []
   },
   "outputs": [],
   "source": [
    "#q3.hint()"
   ]
  },
  {
   "cell_type": "code",
   "execution_count": 8,
   "id": "ccd98152",
   "metadata": {
    "execution": {
     "iopub.execute_input": "2021-08-04T06:37:25.828305Z",
     "iopub.status.busy": "2021-08-04T06:37:25.827350Z",
     "iopub.status.idle": "2021-08-04T06:37:25.831022Z",
     "shell.execute_reply": "2021-08-04T06:37:25.831579Z"
    },
    "papermill": {
     "duration": 0.02494,
     "end_time": "2021-08-04T06:37:25.831753",
     "exception": false,
     "start_time": "2021-08-04T06:37:25.806813",
     "status": "completed"
    },
    "tags": []
   },
   "outputs": [],
   "source": [
    "#q3.solution()"
   ]
  },
  {
   "cell_type": "markdown",
   "id": "24884bba",
   "metadata": {
    "papermill": {
     "duration": 0.017445,
     "end_time": "2021-08-04T06:37:25.867059",
     "exception": false,
     "start_time": "2021-08-04T06:37:25.849614",
     "status": "completed"
    },
    "tags": []
   },
   "source": [
    "# 4. (Optional)\n",
    "\n",
    "It may not be fun, but reading and understanding error messages will be an important part of your Python career.\n",
    "\n",
    "Each code cell below contains some commented buggy code. For each cell...\n",
    "\n",
    "1. Read the code and predict what you think will happen when it's run.\n",
    "2. Then uncomment the code and run it to see what happens. (**Tip**: In the kernel editor, you can highlight several lines and press `ctrl`+`/` to toggle commenting.)\n",
    "3. Fix the code (so that it accomplishes its intended purpose without throwing an exception)\n",
    "\n",
    "<!-- TODO: should this be autochecked? Delta is probably pretty small. -->"
   ]
  },
  {
   "cell_type": "code",
   "execution_count": 9,
   "id": "cdc472db",
   "metadata": {
    "execution": {
     "iopub.execute_input": "2021-08-04T06:37:25.908158Z",
     "iopub.status.busy": "2021-08-04T06:37:25.906910Z",
     "iopub.status.idle": "2021-08-04T06:37:25.912721Z",
     "shell.execute_reply": "2021-08-04T06:37:25.913212Z",
     "shell.execute_reply.started": "2021-08-04T06:35:49.243284Z"
    },
    "papermill": {
     "duration": 0.028009,
     "end_time": "2021-08-04T06:37:25.913397",
     "exception": false,
     "start_time": "2021-08-04T06:37:25.885388",
     "status": "completed"
    },
    "tags": []
   },
   "outputs": [
    {
     "data": {
      "text/plain": [
       "10.0"
      ]
     },
     "execution_count": 9,
     "metadata": {},
     "output_type": "execute_result"
    }
   ],
   "source": [
    "round_to_two_places(9.9999)"
   ]
  },
  {
   "cell_type": "code",
   "execution_count": 10,
   "id": "e4d7eb62",
   "metadata": {
    "execution": {
     "iopub.execute_input": "2021-08-04T06:37:25.953510Z",
     "iopub.status.busy": "2021-08-04T06:37:25.952540Z",
     "iopub.status.idle": "2021-08-04T06:37:25.956946Z",
     "shell.execute_reply": "2021-08-04T06:37:25.957427Z",
     "shell.execute_reply.started": "2021-08-04T06:36:42.773278Z"
    },
    "papermill": {
     "duration": 0.02596,
     "end_time": "2021-08-04T06:37:25.957618",
     "exception": false,
     "start_time": "2021-08-04T06:37:25.931658",
     "status": "completed"
    },
    "tags": []
   },
   "outputs": [],
   "source": [
    "x = -10\n",
    "y = 5\n",
    "# # Which of the two variables above has the smallest absolute value?\n",
    "smallest_abs = min(abs(x), abs(y))"
   ]
  },
  {
   "cell_type": "code",
   "execution_count": 11,
   "id": "93b9a719",
   "metadata": {
    "execution": {
     "iopub.execute_input": "2021-08-04T06:37:25.997488Z",
     "iopub.status.busy": "2021-08-04T06:37:25.996521Z",
     "iopub.status.idle": "2021-08-04T06:37:26.002350Z",
     "shell.execute_reply": "2021-08-04T06:37:26.002852Z",
     "shell.execute_reply.started": "2021-08-04T06:36:52.285717Z"
    },
    "papermill": {
     "duration": 0.027304,
     "end_time": "2021-08-04T06:37:26.003046",
     "exception": false,
     "start_time": "2021-08-04T06:37:25.975742",
     "status": "completed"
    },
    "tags": []
   },
   "outputs": [
    {
     "name": "stdout",
     "output_type": "stream",
     "text": [
      "5\n"
     ]
    }
   ],
   "source": [
    "def f(x):\n",
    "    y = abs(x)\n",
    "    return y\n",
    "\n",
    "print(f(5))"
   ]
  },
  {
   "cell_type": "markdown",
   "id": "f94d1798",
   "metadata": {
    "papermill": {
     "duration": 0.020451,
     "end_time": "2021-08-04T06:37:26.042209",
     "exception": false,
     "start_time": "2021-08-04T06:37:26.021758",
     "status": "completed"
    },
    "tags": []
   },
   "source": [
    "# Keep Going\n",
    "\n",
    "Nice job with the code. Next up, you'll learn about *conditionals*, which you'll need to **[write interesting programs](https://www.kaggle.com/colinmorris/booleans-and-conditionals)**. "
   ]
  },
  {
   "cell_type": "markdown",
   "id": "5a0e3f56",
   "metadata": {
    "papermill": {
     "duration": 0.01895,
     "end_time": "2021-08-04T06:37:26.079685",
     "exception": false,
     "start_time": "2021-08-04T06:37:26.060735",
     "status": "completed"
    },
    "tags": []
   },
   "source": [
    "---\n",
    "\n",
    "\n",
    "\n",
    "\n",
    "*Have questions or comments? Visit the [Learn Discussion forum](https://www.kaggle.com/learn-forum/161283) to chat with other Learners.*"
   ]
  }
 ],
 "metadata": {
  "kernelspec": {
   "display_name": "Python 3",
   "language": "python",
   "name": "python3"
  },
  "language_info": {
   "codemirror_mode": {
    "name": "ipython",
    "version": 3
   },
   "file_extension": ".py",
   "mimetype": "text/x-python",
   "name": "python",
   "nbconvert_exporter": "python",
   "pygments_lexer": "ipython3",
   "version": "3.7.10"
  },
  "papermill": {
   "default_parameters": {},
   "duration": 10.55767,
   "end_time": "2021-08-04T06:37:26.809777",
   "environment_variables": {},
   "exception": null,
   "input_path": "__notebook__.ipynb",
   "output_path": "__notebook__.ipynb",
   "parameters": {},
   "start_time": "2021-08-04T06:37:16.252107",
   "version": "2.3.3"
  }
 },
 "nbformat": 4,
 "nbformat_minor": 5
}
