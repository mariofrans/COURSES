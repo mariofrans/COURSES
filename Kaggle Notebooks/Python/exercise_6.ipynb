{
 "cells": [
  {
   "cell_type": "markdown",
   "id": "c1b58ea2",
   "metadata": {
    "papermill": {
     "duration": 0.017123,
     "end_time": "2021-08-04T09:12:13.694814",
     "exception": false,
     "start_time": "2021-08-04T09:12:13.677691",
     "status": "completed"
    },
    "tags": []
   },
   "source": [
    "**This notebook is an exercise in the [Python](https://www.kaggle.com/learn/python) course.  You can reference the tutorial at [this link](https://www.kaggle.com/colinmorris/strings-and-dictionaries).**\n",
    "\n",
    "---\n"
   ]
  },
  {
   "cell_type": "markdown",
   "id": "aafb7d89",
   "metadata": {
    "papermill": {
     "duration": 0.015437,
     "end_time": "2021-08-04T09:12:13.726323",
     "exception": false,
     "start_time": "2021-08-04T09:12:13.710886",
     "status": "completed"
    },
    "tags": []
   },
   "source": [
    "You are almost done with the course. Nice job!\n",
    "\n",
    "We have a couple more interesting problems for you before you go. \n",
    "\n",
    "As always, run the setup code below before working on the questions."
   ]
  },
  {
   "cell_type": "code",
   "execution_count": 1,
   "id": "37cbe6ac",
   "metadata": {
    "execution": {
     "iopub.execute_input": "2021-08-04T09:12:13.764298Z",
     "iopub.status.busy": "2021-08-04T09:12:13.762411Z",
     "iopub.status.idle": "2021-08-04T09:12:13.913923Z",
     "shell.execute_reply": "2021-08-04T09:12:13.914517Z",
     "shell.execute_reply.started": "2021-08-04T08:40:03.360762Z"
    },
    "papermill": {
     "duration": 0.172557,
     "end_time": "2021-08-04T09:12:13.914879",
     "exception": false,
     "start_time": "2021-08-04T09:12:13.742322",
     "status": "completed"
    },
    "tags": []
   },
   "outputs": [
    {
     "name": "stdout",
     "output_type": "stream",
     "text": [
      "Setup complete.\n"
     ]
    }
   ],
   "source": [
    "from learntools.core import binder; binder.bind(globals())\n",
    "from learntools.python.ex6 import *\n",
    "print('Setup complete.')"
   ]
  },
  {
   "cell_type": "markdown",
   "id": "b94a3df2",
   "metadata": {
    "papermill": {
     "duration": 0.017092,
     "end_time": "2021-08-04T09:12:13.948921",
     "exception": false,
     "start_time": "2021-08-04T09:12:13.931829",
     "status": "completed"
    },
    "tags": []
   },
   "source": [
    "Let's start with a string lightning round to warm up. What are the lengths of the strings below?\n",
    "\n",
    "For each of the five strings below, predict what `len()` would return when passed that string. Use the variable `length` to record your answer, then run the cell to check whether you were right.  \n",
    "\n",
    "# 0a."
   ]
  },
  {
   "cell_type": "code",
   "execution_count": 2,
   "id": "19bf04de",
   "metadata": {
    "execution": {
     "iopub.execute_input": "2021-08-04T09:12:13.986012Z",
     "iopub.status.busy": "2021-08-04T09:12:13.985272Z",
     "iopub.status.idle": "2021-08-04T09:12:13.994866Z",
     "shell.execute_reply": "2021-08-04T09:12:13.994221Z",
     "shell.execute_reply.started": "2021-08-04T08:40:40.049926Z"
    },
    "papermill": {
     "duration": 0.028923,
     "end_time": "2021-08-04T09:12:13.995018",
     "exception": false,
     "start_time": "2021-08-04T09:12:13.966095",
     "status": "completed"
    },
    "tags": []
   },
   "outputs": [
    {
     "data": {
      "application/javascript": [
       "parent.postMessage({\"jupyterEvent\": \"custom.exercise_interaction\", \"data\": {\"outcomeType\": 1, \"valueTowardsCompletion\": 0.3333333333333333, \"interactionType\": 1, \"questionType\": 1, \"questionId\": \"0.1_ZA\", \"learnToolsVersion\": \"0.3.4\", \"failureMessage\": \"\", \"exceptionClass\": \"\", \"trace\": \"\"}}, \"*\")"
      ],
      "text/plain": [
       "<IPython.core.display.Javascript object>"
      ]
     },
     "metadata": {},
     "output_type": "display_data"
    },
    {
     "data": {
      "text/markdown": [
       "<span style=\"color:#33cc33\">Correct:</span> \n",
       "\n",
       "The empty string has length zero. Note that the empty string is also the only string that Python considers as False when converting to boolean."
      ],
      "text/plain": [
       "Correct: \n",
       "\n",
       "The empty string has length zero. Note that the empty string is also the only string that Python considers as False when converting to boolean."
      ]
     },
     "metadata": {},
     "output_type": "display_data"
    }
   ],
   "source": [
    "a = \"\"\n",
    "length = 0\n",
    "q0.a.check()"
   ]
  },
  {
   "cell_type": "markdown",
   "id": "d2eea07e",
   "metadata": {
    "papermill": {
     "duration": 0.017441,
     "end_time": "2021-08-04T09:12:14.030641",
     "exception": false,
     "start_time": "2021-08-04T09:12:14.013200",
     "status": "completed"
    },
    "tags": []
   },
   "source": [
    "# 0b."
   ]
  },
  {
   "cell_type": "code",
   "execution_count": 3,
   "id": "33f5cae9",
   "metadata": {
    "execution": {
     "iopub.execute_input": "2021-08-04T09:12:14.071901Z",
     "iopub.status.busy": "2021-08-04T09:12:14.071215Z",
     "iopub.status.idle": "2021-08-04T09:12:14.076027Z",
     "shell.execute_reply": "2021-08-04T09:12:14.076547Z",
     "shell.execute_reply.started": "2021-08-04T08:40:53.388086Z"
    },
    "papermill": {
     "duration": 0.028502,
     "end_time": "2021-08-04T09:12:14.076756",
     "exception": false,
     "start_time": "2021-08-04T09:12:14.048254",
     "status": "completed"
    },
    "tags": []
   },
   "outputs": [
    {
     "data": {
      "application/javascript": [
       "parent.postMessage({\"jupyterEvent\": \"custom.exercise_interaction\", \"data\": {\"outcomeType\": 1, \"valueTowardsCompletion\": 0.3333333333333333, \"interactionType\": 1, \"questionType\": 1, \"questionId\": \"0.2_ZB\", \"learnToolsVersion\": \"0.3.4\", \"failureMessage\": \"\", \"exceptionClass\": \"\", \"trace\": \"\"}}, \"*\")"
      ],
      "text/plain": [
       "<IPython.core.display.Javascript object>"
      ]
     },
     "metadata": {},
     "output_type": "display_data"
    },
    {
     "data": {
      "text/markdown": [
       "<span style=\"color:#33cc33\">Correct:</span> \n",
       "\n",
       "Keep in mind Python includes spaces (and punctuation) when counting string length."
      ],
      "text/plain": [
       "Correct: \n",
       "\n",
       "Keep in mind Python includes spaces (and punctuation) when counting string length."
      ]
     },
     "metadata": {},
     "output_type": "display_data"
    }
   ],
   "source": [
    "b = \"it's ok\"\n",
    "length = 7\n",
    "q0.b.check()"
   ]
  },
  {
   "cell_type": "markdown",
   "id": "cdd360f1",
   "metadata": {
    "papermill": {
     "duration": 0.018545,
     "end_time": "2021-08-04T09:12:14.113924",
     "exception": false,
     "start_time": "2021-08-04T09:12:14.095379",
     "status": "completed"
    },
    "tags": []
   },
   "source": [
    "# 0c."
   ]
  },
  {
   "cell_type": "code",
   "execution_count": 4,
   "id": "0993627f",
   "metadata": {
    "execution": {
     "iopub.execute_input": "2021-08-04T09:12:14.155344Z",
     "iopub.status.busy": "2021-08-04T09:12:14.154706Z",
     "iopub.status.idle": "2021-08-04T09:12:14.162437Z",
     "shell.execute_reply": "2021-08-04T09:12:14.161762Z",
     "shell.execute_reply.started": "2021-08-04T08:41:11.786818Z"
    },
    "papermill": {
     "duration": 0.029276,
     "end_time": "2021-08-04T09:12:14.162594",
     "exception": false,
     "start_time": "2021-08-04T09:12:14.133318",
     "status": "completed"
    },
    "tags": []
   },
   "outputs": [
    {
     "data": {
      "application/javascript": [
       "parent.postMessage({\"jupyterEvent\": \"custom.exercise_interaction\", \"data\": {\"outcomeType\": 1, \"valueTowardsCompletion\": 0.3333333333333333, \"interactionType\": 1, \"questionType\": 1, \"questionId\": \"0.3_ZC\", \"learnToolsVersion\": \"0.3.4\", \"failureMessage\": \"\", \"exceptionClass\": \"\", \"trace\": \"\"}}, \"*\")"
      ],
      "text/plain": [
       "<IPython.core.display.Javascript object>"
      ]
     },
     "metadata": {},
     "output_type": "display_data"
    },
    {
     "data": {
      "text/markdown": [
       "<span style=\"color:#33cc33\">Correct:</span> \n",
       "\n",
       "Even though we use different syntax to create it, the string `c` is identical to `b`. In particular, note that the backslash is not part of the string, so it doesn't contribute to its length."
      ],
      "text/plain": [
       "Correct: \n",
       "\n",
       "Even though we use different syntax to create it, the string `c` is identical to `b`. In particular, note that the backslash is not part of the string, so it doesn't contribute to its length."
      ]
     },
     "metadata": {},
     "output_type": "display_data"
    }
   ],
   "source": [
    "c = 'it\\'s ok'\n",
    "length = 7\n",
    "q0.c.check()"
   ]
  },
  {
   "cell_type": "markdown",
   "id": "8b816fc9",
   "metadata": {
    "papermill": {
     "duration": 0.018944,
     "end_time": "2021-08-04T09:12:14.201438",
     "exception": false,
     "start_time": "2021-08-04T09:12:14.182494",
     "status": "completed"
    },
    "tags": []
   },
   "source": [
    "# 0d."
   ]
  },
  {
   "cell_type": "code",
   "execution_count": 5,
   "id": "c602103e",
   "metadata": {
    "execution": {
     "iopub.execute_input": "2021-08-04T09:12:14.245949Z",
     "iopub.status.busy": "2021-08-04T09:12:14.245256Z",
     "iopub.status.idle": "2021-08-04T09:12:14.250501Z",
     "shell.execute_reply": "2021-08-04T09:12:14.249966Z",
     "shell.execute_reply.started": "2021-08-04T08:41:27.031652Z"
    },
    "papermill": {
     "duration": 0.029976,
     "end_time": "2021-08-04T09:12:14.250676",
     "exception": false,
     "start_time": "2021-08-04T09:12:14.220700",
     "status": "completed"
    },
    "tags": []
   },
   "outputs": [
    {
     "data": {
      "application/javascript": [
       "parent.postMessage({\"jupyterEvent\": \"custom.exercise_interaction\", \"data\": {\"outcomeType\": 1, \"valueTowardsCompletion\": 0.3333333333333333, \"interactionType\": 1, \"questionType\": 1, \"questionId\": \"0.4_ZD\", \"learnToolsVersion\": \"0.3.4\", \"failureMessage\": \"\", \"exceptionClass\": \"\", \"trace\": \"\"}}, \"*\")"
      ],
      "text/plain": [
       "<IPython.core.display.Javascript object>"
      ]
     },
     "metadata": {},
     "output_type": "display_data"
    },
    {
     "data": {
      "text/markdown": [
       "<span style=\"color:#33cc33\">Correct:</span> \n",
       "\n",
       "The fact that this string was created using triple-quote syntax doesn't make any difference in terms of its content or length. This string is exactly the same as `'hey'`."
      ],
      "text/plain": [
       "Correct: \n",
       "\n",
       "The fact that this string was created using triple-quote syntax doesn't make any difference in terms of its content or length. This string is exactly the same as `'hey'`."
      ]
     },
     "metadata": {},
     "output_type": "display_data"
    }
   ],
   "source": [
    "d = \"\"\"hey\"\"\"\n",
    "length = 3\n",
    "q0.d.check()"
   ]
  },
  {
   "cell_type": "markdown",
   "id": "2f283c6d",
   "metadata": {
    "papermill": {
     "duration": 0.024943,
     "end_time": "2021-08-04T09:12:14.300789",
     "exception": false,
     "start_time": "2021-08-04T09:12:14.275846",
     "status": "completed"
    },
    "tags": []
   },
   "source": [
    "# 0e."
   ]
  },
  {
   "cell_type": "code",
   "execution_count": 6,
   "id": "b1ff6e15",
   "metadata": {
    "execution": {
     "iopub.execute_input": "2021-08-04T09:12:14.361445Z",
     "iopub.status.busy": "2021-08-04T09:12:14.360480Z",
     "iopub.status.idle": "2021-08-04T09:12:14.374131Z",
     "shell.execute_reply": "2021-08-04T09:12:14.374902Z",
     "shell.execute_reply.started": "2021-08-04T08:41:38.112258Z"
    },
    "papermill": {
     "duration": 0.046805,
     "end_time": "2021-08-04T09:12:14.375138",
     "exception": false,
     "start_time": "2021-08-04T09:12:14.328333",
     "status": "completed"
    },
    "tags": []
   },
   "outputs": [
    {
     "data": {
      "application/javascript": [
       "parent.postMessage({\"jupyterEvent\": \"custom.exercise_interaction\", \"data\": {\"outcomeType\": 1, \"valueTowardsCompletion\": 0.3333333333333333, \"interactionType\": 1, \"questionType\": 1, \"questionId\": \"0.5_ZE\", \"learnToolsVersion\": \"0.3.4\", \"failureMessage\": \"\", \"exceptionClass\": \"\", \"trace\": \"\"}}, \"*\")"
      ],
      "text/plain": [
       "<IPython.core.display.Javascript object>"
      ]
     },
     "metadata": {},
     "output_type": "display_data"
    },
    {
     "data": {
      "text/markdown": [
       "<span style=\"color:#33cc33\">Correct:</span> \n",
       "\n",
       "The newline character is just a single character! (Even though we represent it to Python using a combination of two characters.)"
      ],
      "text/plain": [
       "Correct: \n",
       "\n",
       "The newline character is just a single character! (Even though we represent it to Python using a combination of two characters.)"
      ]
     },
     "metadata": {},
     "output_type": "display_data"
    }
   ],
   "source": [
    "e = '\\n'\n",
    "length = 1\n",
    "q0.e.check()"
   ]
  },
  {
   "cell_type": "markdown",
   "id": "6b47b3d2",
   "metadata": {
    "papermill": {
     "duration": 0.022796,
     "end_time": "2021-08-04T09:12:14.421235",
     "exception": false,
     "start_time": "2021-08-04T09:12:14.398439",
     "status": "completed"
    },
    "tags": []
   },
   "source": [
    "# 1.\n",
    "\n",
    "There is a saying that \"Data scientists spend 80% of their time cleaning data, and 20% of their time complaining about cleaning data.\" Let's see if you can write a function to help clean US zip code data. Given a string, it should return whether or not that string represents a valid zip code. For our purposes, a valid zip code is any string consisting of exactly 5 digits.\n",
    "\n",
    "HINT: `str` has a method that will be useful here. Use `help(str)` to review a list of string methods."
   ]
  },
  {
   "cell_type": "code",
   "execution_count": 7,
   "id": "2a9161fd",
   "metadata": {
    "execution": {
     "iopub.execute_input": "2021-08-04T09:12:14.472438Z",
     "iopub.status.busy": "2021-08-04T09:12:14.471417Z",
     "iopub.status.idle": "2021-08-04T09:12:14.476964Z",
     "shell.execute_reply": "2021-08-04T09:12:14.477564Z",
     "shell.execute_reply.started": "2021-08-04T08:59:14.624148Z"
    },
    "papermill": {
     "duration": 0.034925,
     "end_time": "2021-08-04T09:12:14.477797",
     "exception": false,
     "start_time": "2021-08-04T09:12:14.442872",
     "status": "completed"
    },
    "tags": []
   },
   "outputs": [
    {
     "data": {
      "application/javascript": [
       "parent.postMessage({\"jupyterEvent\": \"custom.exercise_interaction\", \"data\": {\"outcomeType\": 1, \"valueTowardsCompletion\": 0.3333333333333333, \"interactionType\": 1, \"questionType\": 2, \"questionId\": \"1_ZipValidator\", \"learnToolsVersion\": \"0.3.4\", \"failureMessage\": \"\", \"exceptionClass\": \"\", \"trace\": \"\"}}, \"*\")"
      ],
      "text/plain": [
       "<IPython.core.display.Javascript object>"
      ]
     },
     "metadata": {},
     "output_type": "display_data"
    },
    {
     "data": {
      "text/markdown": [
       "<span style=\"color:#33cc33\">Correct</span>"
      ],
      "text/plain": [
       "Correct"
      ]
     },
     "metadata": {},
     "output_type": "display_data"
    }
   ],
   "source": [
    "def is_valid_zip(zip_code):\n",
    "    \"\"\"Returns whether the input string is a valid (5 digit) zip code\n",
    "    \"\"\"\n",
    "    new_zip = [i for i in zip_code if i.isdigit()]\n",
    "    if len(new_zip)==5: return True\n",
    "    else: return False\n",
    "\n",
    "# Check your answer\n",
    "q1.check()"
   ]
  },
  {
   "cell_type": "code",
   "execution_count": 8,
   "id": "87e0724a",
   "metadata": {
    "execution": {
     "iopub.execute_input": "2021-08-04T09:12:14.527101Z",
     "iopub.status.busy": "2021-08-04T09:12:14.526125Z",
     "iopub.status.idle": "2021-08-04T09:12:14.529739Z",
     "shell.execute_reply": "2021-08-04T09:12:14.530349Z"
    },
    "papermill": {
     "duration": 0.03015,
     "end_time": "2021-08-04T09:12:14.530544",
     "exception": false,
     "start_time": "2021-08-04T09:12:14.500394",
     "status": "completed"
    },
    "tags": []
   },
   "outputs": [],
   "source": [
    "#q1.hint()\n",
    "#q1.solution()"
   ]
  },
  {
   "cell_type": "markdown",
   "id": "8443b339",
   "metadata": {
    "papermill": {
     "duration": 0.02239,
     "end_time": "2021-08-04T09:12:14.575667",
     "exception": false,
     "start_time": "2021-08-04T09:12:14.553277",
     "status": "completed"
    },
    "tags": []
   },
   "source": [
    "# 2.\n",
    "\n",
    "A researcher has gathered thousands of news articles. But she wants to focus her attention on articles including a specific word. Complete the function below to help her filter her list of articles.\n",
    "\n",
    "Your function should meet the following criteria:\n",
    "\n",
    "- Do not include documents where the keyword string shows up only as a part of a larger word. For example, if she were looking for the keyword “closed”, you would not include the string “enclosed.” \n",
    "- She does not want you to distinguish upper case from lower case letters. So the phrase “Closed the case.” would be included when the keyword is “closed”\n",
    "- Do not let periods or commas affect what is matched. “It is closed.” would be included when the keyword is “closed”. But you can assume there are no other types of punctuation."
   ]
  },
  {
   "cell_type": "code",
   "execution_count": 9,
   "id": "69335113",
   "metadata": {
    "execution": {
     "iopub.execute_input": "2021-08-04T09:12:14.624960Z",
     "iopub.status.busy": "2021-08-04T09:12:14.623955Z",
     "iopub.status.idle": "2021-08-04T09:12:14.636118Z",
     "shell.execute_reply": "2021-08-04T09:12:14.635530Z",
     "shell.execute_reply.started": "2021-08-04T09:04:57.363046Z"
    },
    "papermill": {
     "duration": 0.038099,
     "end_time": "2021-08-04T09:12:14.636274",
     "exception": false,
     "start_time": "2021-08-04T09:12:14.598175",
     "status": "completed"
    },
    "tags": []
   },
   "outputs": [
    {
     "data": {
      "application/javascript": [
       "parent.postMessage({\"jupyterEvent\": \"custom.exercise_interaction\", \"data\": {\"outcomeType\": 1, \"valueTowardsCompletion\": 0.3333333333333333, \"interactionType\": 1, \"questionType\": 2, \"questionId\": \"2_WordSearch\", \"learnToolsVersion\": \"0.3.4\", \"failureMessage\": \"\", \"exceptionClass\": \"\", \"trace\": \"\"}}, \"*\")"
      ],
      "text/plain": [
       "<IPython.core.display.Javascript object>"
      ]
     },
     "metadata": {},
     "output_type": "display_data"
    },
    {
     "data": {
      "text/markdown": [
       "<span style=\"color:#33cc33\">Correct</span>"
      ],
      "text/plain": [
       "Correct"
      ]
     },
     "metadata": {},
     "output_type": "display_data"
    }
   ],
   "source": [
    "def word_search(doc_list, keyword):\n",
    "    \"\"\"\n",
    "    Takes a list of documents (each document is a string) and a keyword. \n",
    "    Returns list of the index values into the original list for all documents \n",
    "    containing the keyword.\n",
    "\n",
    "    Example:\n",
    "    doc_list = [\"The Learn Python Challenge Casino.\", \"They bought a car\", \"Casinoville\"]\n",
    "    >>> word_search(doc_list, 'casino')\n",
    "    >>> [0]\n",
    "    \"\"\"\n",
    "    \n",
    "    \n",
    "# ----- THIS SET OF CODE IS CORRECT BUT KAGGLE OUTPUTS OTHERWISE -----\n",
    "# \n",
    "#     punctuations = [',', '.', '!', '?']\n",
    "#     indexes = []\n",
    "#     for doc in doc_list:\n",
    "#         words = \"\".join(i for i in doc if i not in punctuations)\n",
    "#         words = doc.split(\" \")\n",
    "#         for word in words:\n",
    "#             if word.lower()==keyword:\n",
    "#                 indexes.append(doc_list.index(doc))\n",
    "#     return indexes\n",
    "# \n",
    "# ----- THIS SET OF CODE IS CORRECT BUT KAGGLE OUTPUTS OTHERWISE -----\n",
    "    \n",
    "    \n",
    "    \n",
    "    # list to hold the indices of matching documents\n",
    "    indices = [] \n",
    "    # Iterate through the indices (i) and elements (doc) of documents\n",
    "    for i, doc in enumerate(doc_list):\n",
    "        # Split the string doc into a list of words (according to whitespace)\n",
    "        tokens = doc.split()\n",
    "        # Make a transformed list where we 'normalize' each word to facilitate matching.\n",
    "        # Periods and commas are removed from the end of each word, and it's set to all lowercase.\n",
    "        normalized = [token.rstrip('.,').lower() for token in tokens]\n",
    "        # Is there a match? If so, update the list of matching indices.\n",
    "        if keyword.lower() in normalized:\n",
    "            indices.append(i)\n",
    "    return indices\n",
    "\n",
    "\n",
    "# Check your answer\n",
    "q2.check()"
   ]
  },
  {
   "cell_type": "code",
   "execution_count": 10,
   "id": "df303f26",
   "metadata": {
    "execution": {
     "iopub.execute_input": "2021-08-04T09:12:14.688927Z",
     "iopub.status.busy": "2021-08-04T09:12:14.688244Z",
     "iopub.status.idle": "2021-08-04T09:12:14.690845Z",
     "shell.execute_reply": "2021-08-04T09:12:14.691416Z",
     "shell.execute_reply.started": "2021-08-04T09:05:20.722193Z"
    },
    "papermill": {
     "duration": 0.03058,
     "end_time": "2021-08-04T09:12:14.691606",
     "exception": false,
     "start_time": "2021-08-04T09:12:14.661026",
     "status": "completed"
    },
    "tags": []
   },
   "outputs": [],
   "source": [
    "#q1.hint()\n",
    "#q1.solution()"
   ]
  },
  {
   "cell_type": "markdown",
   "id": "1391372f",
   "metadata": {
    "papermill": {
     "duration": 0.023183,
     "end_time": "2021-08-04T09:12:14.738249",
     "exception": false,
     "start_time": "2021-08-04T09:12:14.715066",
     "status": "completed"
    },
    "tags": []
   },
   "source": [
    "# 3.\n",
    "\n",
    "Now the researcher wants to supply multiple keywords to search for. Complete the function below to help her.\n",
    "\n",
    "(You're encouraged to use the `word_search` function you just wrote when implementing this function. Reusing code in this way makes your programs more robust and readable - and it saves typing!)"
   ]
  },
  {
   "cell_type": "code",
   "execution_count": 11,
   "id": "f6697ab4",
   "metadata": {
    "execution": {
     "iopub.execute_input": "2021-08-04T09:12:14.788353Z",
     "iopub.status.busy": "2021-08-04T09:12:14.787747Z",
     "iopub.status.idle": "2021-08-04T09:12:14.795646Z",
     "shell.execute_reply": "2021-08-04T09:12:14.796090Z",
     "shell.execute_reply.started": "2021-08-04T09:11:47.998391Z"
    },
    "papermill": {
     "duration": 0.034472,
     "end_time": "2021-08-04T09:12:14.796286",
     "exception": false,
     "start_time": "2021-08-04T09:12:14.761814",
     "status": "completed"
    },
    "tags": []
   },
   "outputs": [
    {
     "data": {
      "application/javascript": [
       "parent.postMessage({\"jupyterEvent\": \"custom.exercise_interaction\", \"data\": {\"outcomeType\": 1, \"valueTowardsCompletion\": 0.3333333333333333, \"interactionType\": 1, \"questionType\": 2, \"questionId\": \"3_MultiWordSearch\", \"learnToolsVersion\": \"0.3.4\", \"failureMessage\": \"\", \"exceptionClass\": \"\", \"trace\": \"\"}}, \"*\")"
      ],
      "text/plain": [
       "<IPython.core.display.Javascript object>"
      ]
     },
     "metadata": {},
     "output_type": "display_data"
    },
    {
     "data": {
      "text/markdown": [
       "<span style=\"color:#33cc33\">Correct</span>"
      ],
      "text/plain": [
       "Correct"
      ]
     },
     "metadata": {},
     "output_type": "display_data"
    }
   ],
   "source": [
    "def multi_word_search(doc_list, keywords):\n",
    "    \"\"\"\n",
    "    Takes list of documents (each document is a string) and a list of keywords.  \n",
    "    Returns a dictionary where each key is a keyword, and the value is a list of indices\n",
    "    (from doc_list) of the documents containing that keyword\n",
    "\n",
    "    >>> doc_list = [\"The Learn Python Challenge Casino.\", \"They bought a car and a casino\", \"Casinoville\"]\n",
    "    >>> keywords = ['casino', 'they']\n",
    "    >>> multi_word_search(doc_list, keywords)\n",
    "    {'casino': [0, 1], 'they': [1]}\n",
    "    \"\"\"\n",
    "    word_dictionary = {}\n",
    "    for keyword in keywords:\n",
    "        word_dictionary[keyword] = word_search(doc_list, keyword)\n",
    "    return word_dictionary\n",
    "\n",
    "# Check your answer\n",
    "q3.check()"
   ]
  },
  {
   "cell_type": "code",
   "execution_count": 12,
   "id": "26cf70a0",
   "metadata": {
    "execution": {
     "iopub.execute_input": "2021-08-04T09:12:14.848428Z",
     "iopub.status.busy": "2021-08-04T09:12:14.847835Z",
     "iopub.status.idle": "2021-08-04T09:12:14.852080Z",
     "shell.execute_reply": "2021-08-04T09:12:14.851505Z"
    },
    "papermill": {
     "duration": 0.031666,
     "end_time": "2021-08-04T09:12:14.852221",
     "exception": false,
     "start_time": "2021-08-04T09:12:14.820555",
     "status": "completed"
    },
    "tags": []
   },
   "outputs": [],
   "source": [
    "#q3.solution()"
   ]
  },
  {
   "cell_type": "markdown",
   "id": "8a0bddbc",
   "metadata": {
    "papermill": {
     "duration": 0.02485,
     "end_time": "2021-08-04T09:12:14.902014",
     "exception": false,
     "start_time": "2021-08-04T09:12:14.877164",
     "status": "completed"
    },
    "tags": []
   },
   "source": [
    "# Keep Going\n",
    "\n",
    "You've learned a lot. But even the best programmers rely heavily on \"libraries\" of code from other programmers. You'll learn about that in **[the last lesson](https://www.kaggle.com/colinmorris/working-with-external-libraries)**.\n"
   ]
  },
  {
   "cell_type": "markdown",
   "id": "d84782c7",
   "metadata": {
    "papermill": {
     "duration": 0.024979,
     "end_time": "2021-08-04T09:12:14.953251",
     "exception": false,
     "start_time": "2021-08-04T09:12:14.928272",
     "status": "completed"
    },
    "tags": []
   },
   "source": [
    "---\n",
    "\n",
    "\n",
    "\n",
    "\n",
    "*Have questions or comments? Visit the [Learn Discussion forum](https://www.kaggle.com/learn-forum/161283) to chat with other Learners.*"
   ]
  }
 ],
 "metadata": {
  "kernelspec": {
   "display_name": "Python 3",
   "language": "python",
   "name": "python3"
  },
  "language_info": {
   "codemirror_mode": {
    "name": "ipython",
    "version": 3
   },
   "file_extension": ".py",
   "mimetype": "text/x-python",
   "name": "python",
   "nbconvert_exporter": "python",
   "pygments_lexer": "ipython3",
   "version": "3.7.10"
  },
  "papermill": {
   "default_parameters": {},
   "duration": 10.846983,
   "end_time": "2021-08-04T09:12:16.294999",
   "environment_variables": {},
   "exception": null,
   "input_path": "__notebook__.ipynb",
   "output_path": "__notebook__.ipynb",
   "parameters": {},
   "start_time": "2021-08-04T09:12:05.448016",
   "version": "2.3.3"
  }
 },
 "nbformat": 4,
 "nbformat_minor": 5
}
