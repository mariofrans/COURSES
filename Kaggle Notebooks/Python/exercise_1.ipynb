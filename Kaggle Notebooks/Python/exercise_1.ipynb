{
 "cells": [
  {
   "cell_type": "markdown",
   "id": "a870fac8",
   "metadata": {
    "papermill": {
     "duration": 0.020975,
     "end_time": "2021-08-03T16:21:55.998861",
     "exception": false,
     "start_time": "2021-08-03T16:21:55.977886",
     "status": "completed"
    },
    "tags": []
   },
   "source": [
    "**This notebook is an exercise in the [Python](https://www.kaggle.com/learn/python) course.  You can reference the tutorial at [this link](https://www.kaggle.com/colinmorris/hello-python).**\n",
    "\n",
    "---\n"
   ]
  },
  {
   "cell_type": "markdown",
   "id": "0b4f165e",
   "metadata": {
    "papermill": {
     "duration": 0.019568,
     "end_time": "2021-08-03T16:21:56.040277",
     "exception": false,
     "start_time": "2021-08-03T16:21:56.020709",
     "status": "completed"
    },
    "tags": []
   },
   "source": [
    "Welcome to your first set of Python coding problems.  If this is your first time using Kaggle Notebooks, welcome! \n",
    "\n",
    "Notebooks are composed of blocks (called \"cells\") of text and code. Each of these is editable, though you'll mainly be editing the code cells to answer some questions.\n",
    "\n",
    "To get started, try running the code cell below (by pressing the ► button, or clicking on the cell and pressing ctrl+enter on your keyboard)."
   ]
  },
  {
   "cell_type": "code",
   "execution_count": 1,
   "id": "0fb49988",
   "metadata": {
    "execution": {
     "iopub.execute_input": "2021-08-03T16:21:56.090962Z",
     "iopub.status.busy": "2021-08-03T16:21:56.090296Z",
     "iopub.status.idle": "2021-08-03T16:21:56.094953Z",
     "shell.execute_reply": "2021-08-03T16:21:56.094330Z",
     "shell.execute_reply.started": "2021-08-03T16:16:58.873155Z"
    },
    "papermill": {
     "duration": 0.035202,
     "end_time": "2021-08-03T16:21:56.095127",
     "exception": false,
     "start_time": "2021-08-03T16:21:56.059925",
     "status": "completed"
    },
    "tags": []
   },
   "outputs": [
    {
     "name": "stdout",
     "output_type": "stream",
     "text": [
      "You've successfully run some Python code\n",
      "Congratulations!\n"
     ]
    }
   ],
   "source": [
    "print(\"You've successfully run some Python code\")\n",
    "print(\"Congratulations!\")"
   ]
  },
  {
   "cell_type": "markdown",
   "id": "eb0a3e5e",
   "metadata": {
    "papermill": {
     "duration": 0.020067,
     "end_time": "2021-08-03T16:21:56.135580",
     "exception": false,
     "start_time": "2021-08-03T16:21:56.115513",
     "status": "completed"
    },
    "tags": []
   },
   "source": [
    "Try adding another line of code in the cell above and re-running it. \n",
    "\n",
    "Now let's get a little fancier:  Add a new code cell by clicking on an existing code cell, hitting the escape key, and then hitting the `a` or `b` key.  The `a` key will add a cell above the current cell, and `b` adds a cell below.\n",
    "\n",
    "Great! Now you know how to use Notebooks.\n",
    "\n",
    "Each hands-on exercise starts by setting up our feedback and code checking mechanism. Run the code cell below to do that. Then you'll be ready to move on to question 0."
   ]
  },
  {
   "cell_type": "code",
   "execution_count": 2,
   "id": "d5daaabd",
   "metadata": {
    "_kg_hide-input": true,
    "_kg_hide-output": true,
    "execution": {
     "iopub.execute_input": "2021-08-03T16:21:56.181405Z",
     "iopub.status.busy": "2021-08-03T16:21:56.180712Z",
     "iopub.status.idle": "2021-08-03T16:21:56.310621Z",
     "shell.execute_reply": "2021-08-03T16:21:56.309723Z",
     "shell.execute_reply.started": "2021-08-03T16:17:01.503259Z"
    },
    "papermill": {
     "duration": 0.15478,
     "end_time": "2021-08-03T16:21:56.310798",
     "exception": false,
     "start_time": "2021-08-03T16:21:56.156018",
     "status": "completed"
    },
    "tags": []
   },
   "outputs": [
    {
     "name": "stdout",
     "output_type": "stream",
     "text": [
      "Setup complete! You're ready to start question 0.\n"
     ]
    }
   ],
   "source": [
    "from learntools.core import binder; binder.bind(globals())\n",
    "from learntools.python.ex1 import *\n",
    "print(\"Setup complete! You're ready to start question 0.\")"
   ]
  },
  {
   "cell_type": "markdown",
   "id": "9f8a8e50",
   "metadata": {
    "papermill": {
     "duration": 0.027032,
     "end_time": "2021-08-03T16:21:56.362514",
     "exception": false,
     "start_time": "2021-08-03T16:21:56.335482",
     "status": "completed"
    },
    "tags": []
   },
   "source": [
    "# 0.\n",
    "\n",
    "*This is a silly question intended as an introduction to the format we use for hands-on exercises throughout all Kaggle courses.*\n",
    "\n",
    "**What is your favorite color? **\n",
    "\n",
    "To complete this question, create a variable called `color` in the cell below with an appropriate value. The function call `q0.check()` (which we've already provided in the cell below) will check your answer."
   ]
  },
  {
   "cell_type": "code",
   "execution_count": 3,
   "id": "8672b91d",
   "metadata": {
    "execution": {
     "iopub.execute_input": "2021-08-03T16:21:56.413075Z",
     "iopub.status.busy": "2021-08-03T16:21:56.412346Z",
     "iopub.status.idle": "2021-08-03T16:21:56.418246Z",
     "shell.execute_reply": "2021-08-03T16:21:56.418667Z",
     "shell.execute_reply.started": "2021-08-03T16:17:03.923691Z"
    },
    "papermill": {
     "duration": 0.033491,
     "end_time": "2021-08-03T16:21:56.418855",
     "exception": false,
     "start_time": "2021-08-03T16:21:56.385364",
     "status": "completed"
    },
    "tags": []
   },
   "outputs": [
    {
     "data": {
      "application/javascript": [
       "parent.postMessage({\"jupyterEvent\": \"custom.exercise_interaction\", \"data\": {\"outcomeType\": 1, \"valueTowardsCompletion\": 0.25, \"interactionType\": 1, \"questionType\": 2, \"questionId\": \"0_ExerciseFormatTutorial\", \"learnToolsVersion\": \"0.3.4\", \"failureMessage\": \"\", \"exceptionClass\": \"\", \"trace\": \"\"}}, \"*\")"
      ],
      "text/plain": [
       "<IPython.core.display.Javascript object>"
      ]
     },
     "metadata": {},
     "output_type": "display_data"
    },
    {
     "data": {
      "text/markdown": [
       "<span style=\"color:#33cc33\">Correct:</span> What?! You got it right without needing a hint or anything? Drats. Well hey, you should still continue to the next step to get some practice asking for a hint and checking solutions. (Even though you obviously don't need any help here.)"
      ],
      "text/plain": [
       "Correct: What?! You got it right without needing a hint or anything? Drats. Well hey, you should still continue to the next step to get some practice asking for a hint and checking solutions. (Even though you obviously don't need any help here.)"
      ]
     },
     "metadata": {},
     "output_type": "display_data"
    }
   ],
   "source": [
    "# create a variable called color with an appropriate value on the line below\n",
    "# (Remember, strings in Python must be enclosed in 'single' or \"double\" quotes)\n",
    "color = 'blue'\n",
    "\n",
    "# Check your answer\n",
    "q0.check()"
   ]
  },
  {
   "cell_type": "markdown",
   "id": "7d31e241",
   "metadata": {
    "papermill": {
     "duration": 0.021025,
     "end_time": "2021-08-03T16:21:56.461203",
     "exception": false,
     "start_time": "2021-08-03T16:21:56.440178",
     "status": "completed"
    },
    "tags": []
   },
   "source": [
    "Didn't get the right answer? How do you not even know your own favorite color?!\n",
    "\n",
    "Delete the `#` in the line below to make one of the lines run. You can choose between getting a hint or the full answer by choosing which line to remove the `#` from. \n",
    "\n",
    "Removing the `#` is called uncommenting, because it changes that line from a \"comment\" which Python doesn't run to code, which Python does run."
   ]
  },
  {
   "cell_type": "code",
   "execution_count": 4,
   "id": "67ea2623",
   "metadata": {
    "execution": {
     "iopub.execute_input": "2021-08-03T16:21:56.508040Z",
     "iopub.status.busy": "2021-08-03T16:21:56.506983Z",
     "iopub.status.idle": "2021-08-03T16:21:56.510122Z",
     "shell.execute_reply": "2021-08-03T16:21:56.509623Z",
     "shell.execute_reply.started": "2021-08-03T15:30:28.878396Z"
    },
    "papermill": {
     "duration": 0.02794,
     "end_time": "2021-08-03T16:21:56.510269",
     "exception": false,
     "start_time": "2021-08-03T16:21:56.482329",
     "status": "completed"
    },
    "tags": []
   },
   "outputs": [],
   "source": [
    "# q0.hint()\n",
    "#q0.solution()"
   ]
  },
  {
   "cell_type": "markdown",
   "id": "e956d332",
   "metadata": {
    "papermill": {
     "duration": 0.020841,
     "end_time": "2021-08-03T16:21:56.552364",
     "exception": false,
     "start_time": "2021-08-03T16:21:56.531523",
     "status": "completed"
    },
    "tags": []
   },
   "source": [
    "The upcoming questions work the same way. The only thing that will change are the question numbers. For the next question, you'll call `q1.check()`, `q1.hint()`, `q1.solution()`, for question 2, you'll call `q2.check()`, and so on."
   ]
  },
  {
   "cell_type": "markdown",
   "id": "1fc9adf7",
   "metadata": {
    "papermill": {
     "duration": 0.020865,
     "end_time": "2021-08-03T16:21:56.594324",
     "exception": false,
     "start_time": "2021-08-03T16:21:56.573459",
     "status": "completed"
    },
    "tags": []
   },
   "source": [
    "<hr/>\n",
    "\n",
    "# 1.\n",
    "\n",
    "Complete the code below. In case it's helpful, here is the table of available arithmetic operations:\n",
    "\n",
    "\n",
    "\n",
    "| Operator     | Name           | Description                                            |\n",
    "|--------------|----------------|--------------------------------------------------------|\n",
    "| ``a + b``    | Addition       | Sum of ``a`` and ``b``                                 |\n",
    "| ``a - b``    | Subtraction    | Difference of ``a`` and ``b``                          |\n",
    "| ``a * b``    | Multiplication | Product of ``a`` and ``b``                             |\n",
    "| ``a / b``    | True division  | Quotient of ``a`` and ``b``                            |\n",
    "| ``a // b``   | Floor division | Quotient of ``a`` and ``b``, removing fractional parts |\n",
    "| ``a % b``    | Modulus        | Integer remainder after division of ``a`` by ``b``     |\n",
    "| ``a ** b``   | Exponentiation | ``a`` raised to the power of ``b``                     |\n",
    "| ``-a``       | Negation       | The negative of ``a``                                  |\n",
    "\n",
    "<span style=\"display:none\"></span>\n"
   ]
  },
  {
   "cell_type": "code",
   "execution_count": 5,
   "id": "964d7fe6",
   "metadata": {
    "execution": {
     "iopub.execute_input": "2021-08-03T16:21:56.643411Z",
     "iopub.status.busy": "2021-08-03T16:21:56.642419Z",
     "iopub.status.idle": "2021-08-03T16:21:56.649048Z",
     "shell.execute_reply": "2021-08-03T16:21:56.648394Z",
     "shell.execute_reply.started": "2021-08-03T16:17:12.145867Z"
    },
    "papermill": {
     "duration": 0.033714,
     "end_time": "2021-08-03T16:21:56.649190",
     "exception": false,
     "start_time": "2021-08-03T16:21:56.615476",
     "status": "completed"
    },
    "tags": []
   },
   "outputs": [
    {
     "data": {
      "application/javascript": [
       "parent.postMessage({\"jupyterEvent\": \"custom.exercise_interaction\", \"data\": {\"outcomeType\": 1, \"valueTowardsCompletion\": 0.25, \"interactionType\": 1, \"questionType\": 1, \"questionId\": \"1_CircleArea\", \"learnToolsVersion\": \"0.3.4\", \"failureMessage\": \"\", \"exceptionClass\": \"\", \"trace\": \"\"}}, \"*\")"
      ],
      "text/plain": [
       "<IPython.core.display.Javascript object>"
      ]
     },
     "metadata": {},
     "output_type": "display_data"
    },
    {
     "data": {
      "text/markdown": [
       "<span style=\"color:#33cc33\">Correct</span>"
      ],
      "text/plain": [
       "Correct"
      ]
     },
     "metadata": {},
     "output_type": "display_data"
    }
   ],
   "source": [
    "pi = 3.14159 # approximate\n",
    "diameter = 3\n",
    "\n",
    "# Create a variable called 'radius' equal to half the diameter\n",
    "radius = diameter/2\n",
    "\n",
    "# Create a variable called 'area', using the formula for the area of a circle: pi times the radius squared\n",
    "area = pi * (radius**2)\n",
    "\n",
    "# Check your answer\n",
    "q1.check()"
   ]
  },
  {
   "cell_type": "code",
   "execution_count": 6,
   "id": "7e1da315",
   "metadata": {
    "execution": {
     "iopub.execute_input": "2021-08-03T16:21:56.697668Z",
     "iopub.status.busy": "2021-08-03T16:21:56.697063Z",
     "iopub.status.idle": "2021-08-03T16:21:56.699643Z",
     "shell.execute_reply": "2021-08-03T16:21:56.699047Z"
    },
    "papermill": {
     "duration": 0.028345,
     "end_time": "2021-08-03T16:21:56.699802",
     "exception": false,
     "start_time": "2021-08-03T16:21:56.671457",
     "status": "completed"
    },
    "tags": []
   },
   "outputs": [],
   "source": [
    "# Uncomment and run the lines below if you need help.\n",
    "#q1.hint()\n",
    "#q1.solution()"
   ]
  },
  {
   "cell_type": "markdown",
   "id": "d4932d98",
   "metadata": {
    "papermill": {
     "duration": 0.021984,
     "end_time": "2021-08-03T16:21:56.744336",
     "exception": false,
     "start_time": "2021-08-03T16:21:56.722352",
     "status": "completed"
    },
    "tags": []
   },
   "source": [
    "<hr/>\n",
    "\n",
    "# 2.\n",
    "\n",
    "Add code to the following cell to swap variables `a` and `b` (so that `a` refers to the object previously referred to by `b` and vice versa)."
   ]
  },
  {
   "cell_type": "code",
   "execution_count": 7,
   "id": "1ab3bfcf",
   "metadata": {
    "execution": {
     "iopub.execute_input": "2021-08-03T16:21:56.804096Z",
     "iopub.status.busy": "2021-08-03T16:21:56.803129Z",
     "iopub.status.idle": "2021-08-03T16:21:56.811715Z",
     "shell.execute_reply": "2021-08-03T16:21:56.811118Z",
     "shell.execute_reply.started": "2021-08-03T16:17:15.698518Z"
    },
    "papermill": {
     "duration": 0.043353,
     "end_time": "2021-08-03T16:21:56.811913",
     "exception": false,
     "start_time": "2021-08-03T16:21:56.768560",
     "status": "completed"
    },
    "tags": []
   },
   "outputs": [
    {
     "data": {
      "application/javascript": [
       "parent.postMessage({\"jupyterEvent\": \"custom.exercise_interaction\", \"data\": {\"outcomeType\": 1, \"valueTowardsCompletion\": 0.25, \"interactionType\": 1, \"questionType\": 2, \"questionId\": \"2_VariableSwap\", \"learnToolsVersion\": \"0.3.4\", \"failureMessage\": \"\", \"exceptionClass\": \"\", \"trace\": \"\"}}, \"*\")"
      ],
      "text/plain": [
       "<IPython.core.display.Javascript object>"
      ]
     },
     "metadata": {},
     "output_type": "display_data"
    },
    {
     "data": {
      "text/markdown": [
       "<span style=\"color:#33cc33\">Correct:</span> \n",
       "\n",
       "The most straightforward solution is to use a third variable to temporarily store one of the old values. e.g.:\n",
       "\n",
       "    tmp = a\n",
       "    a = b\n",
       "    b = tmp\n",
       "\n",
       "If you've read lots of Python code, you might have seen the following trick to swap two variables in one line:\n",
       "\n",
       "    a, b = b, a\n",
       "\n",
       "We'll demystify this bit of Python magic later when we talk about *tuples*."
      ],
      "text/plain": [
       "Correct: \n",
       "\n",
       "The most straightforward solution is to use a third variable to temporarily store one of the old values. e.g.:\n",
       "\n",
       "    tmp = a\n",
       "    a = b\n",
       "    b = tmp\n",
       "\n",
       "If you've read lots of Python code, you might have seen the following trick to swap two variables in one line:\n",
       "\n",
       "    a, b = b, a\n",
       "\n",
       "We'll demystify this bit of Python magic later when we talk about *tuples*."
      ]
     },
     "metadata": {},
     "output_type": "display_data"
    }
   ],
   "source": [
    "########### Setup code - don't touch this part ######################\n",
    "# If you're curious, these are examples of lists. We'll talk about \n",
    "# them in depth a few lessons from now. For now, just know that they're\n",
    "# yet another type of Python object, like int or float.\n",
    "a = [1, 2, 3]\n",
    "b = [3, 2, 1]\n",
    "q2.store_original_ids()\n",
    "######################################################################\n",
    "\n",
    "# Your code goes here. Swap the values to which a and b refer.\n",
    "# If you get stuck, you can always uncomment one or both of the lines in\n",
    "# the next cell for a hint, or to peek at the solution.\n",
    "c = a\n",
    "a = b\n",
    "b = c\n",
    "\n",
    "######################################################################\n",
    "\n",
    "# Check your answer\n",
    "q2.check()"
   ]
  },
  {
   "cell_type": "code",
   "execution_count": 8,
   "id": "32645578",
   "metadata": {
    "execution": {
     "iopub.execute_input": "2021-08-03T16:21:56.879197Z",
     "iopub.status.busy": "2021-08-03T16:21:56.878226Z",
     "iopub.status.idle": "2021-08-03T16:21:56.880906Z",
     "shell.execute_reply": "2021-08-03T16:21:56.881426Z"
    },
    "papermill": {
     "duration": 0.04099,
     "end_time": "2021-08-03T16:21:56.881599",
     "exception": false,
     "start_time": "2021-08-03T16:21:56.840609",
     "status": "completed"
    },
    "tags": []
   },
   "outputs": [],
   "source": [
    "#q2.hint()"
   ]
  },
  {
   "cell_type": "code",
   "execution_count": 9,
   "id": "41471450",
   "metadata": {
    "execution": {
     "iopub.execute_input": "2021-08-03T16:21:56.935959Z",
     "iopub.status.busy": "2021-08-03T16:21:56.935284Z",
     "iopub.status.idle": "2021-08-03T16:21:56.938224Z",
     "shell.execute_reply": "2021-08-03T16:21:56.937639Z"
    },
    "papermill": {
     "duration": 0.030158,
     "end_time": "2021-08-03T16:21:56.938363",
     "exception": false,
     "start_time": "2021-08-03T16:21:56.908205",
     "status": "completed"
    },
    "tags": []
   },
   "outputs": [],
   "source": [
    "#q2.solution()"
   ]
  },
  {
   "cell_type": "markdown",
   "id": "07914c79",
   "metadata": {
    "papermill": {
     "duration": 0.023243,
     "end_time": "2021-08-03T16:21:56.985605",
     "exception": false,
     "start_time": "2021-08-03T16:21:56.962362",
     "status": "completed"
    },
    "tags": []
   },
   "source": [
    "<hr/>\n",
    "\n",
    "# 3a.\n",
    "\n",
    "Add parentheses to the following expression so that it evaluates to 1."
   ]
  },
  {
   "cell_type": "code",
   "execution_count": 10,
   "id": "d752f6d7",
   "metadata": {
    "execution": {
     "iopub.execute_input": "2021-08-03T16:21:57.037970Z",
     "iopub.status.busy": "2021-08-03T16:21:57.037109Z",
     "iopub.status.idle": "2021-08-03T16:21:57.040772Z",
     "shell.execute_reply": "2021-08-03T16:21:57.041218Z",
     "shell.execute_reply.started": "2021-08-03T16:17:23.563039Z"
    },
    "papermill": {
     "duration": 0.032216,
     "end_time": "2021-08-03T16:21:57.041386",
     "exception": false,
     "start_time": "2021-08-03T16:21:57.009170",
     "status": "completed"
    },
    "tags": []
   },
   "outputs": [
    {
     "data": {
      "text/plain": [
       "1"
      ]
     },
     "execution_count": 10,
     "metadata": {},
     "output_type": "execute_result"
    }
   ],
   "source": [
    "(5 - 3) // 2"
   ]
  },
  {
   "cell_type": "code",
   "execution_count": 11,
   "id": "0dde9a94",
   "metadata": {
    "execution": {
     "iopub.execute_input": "2021-08-03T16:21:57.093808Z",
     "iopub.status.busy": "2021-08-03T16:21:57.092909Z",
     "iopub.status.idle": "2021-08-03T16:21:57.096223Z",
     "shell.execute_reply": "2021-08-03T16:21:57.095665Z",
     "shell.execute_reply.started": "2021-08-03T16:16:19.490090Z"
    },
    "papermill": {
     "duration": 0.031046,
     "end_time": "2021-08-03T16:21:57.096358",
     "exception": false,
     "start_time": "2021-08-03T16:21:57.065312",
     "status": "completed"
    },
    "tags": []
   },
   "outputs": [],
   "source": [
    "# q3.a.hint()"
   ]
  },
  {
   "cell_type": "code",
   "execution_count": 12,
   "id": "fd5a00a0",
   "metadata": {
    "execution": {
     "iopub.execute_input": "2021-08-03T16:21:57.150699Z",
     "iopub.status.busy": "2021-08-03T16:21:57.149665Z",
     "iopub.status.idle": "2021-08-03T16:21:57.156587Z",
     "shell.execute_reply": "2021-08-03T16:21:57.156068Z",
     "shell.execute_reply.started": "2021-08-03T16:17:25.572409Z"
    },
    "papermill": {
     "duration": 0.035654,
     "end_time": "2021-08-03T16:21:57.156731",
     "exception": false,
     "start_time": "2021-08-03T16:21:57.121077",
     "status": "completed"
    },
    "tags": []
   },
   "outputs": [
    {
     "data": {
      "application/javascript": [
       "parent.postMessage({\"jupyterEvent\": \"custom.exercise_interaction\", \"data\": {\"interactionType\": 3, \"questionType\": 4, \"questionId\": \"3.1_ArithmeticParensEasy\", \"learnToolsVersion\": \"0.3.4\", \"valueTowardsCompletion\": 0.0, \"failureMessage\": \"\", \"exceptionClass\": \"\", \"trace\": \"\", \"outcomeType\": 4}}, \"*\")"
      ],
      "text/plain": [
       "<IPython.core.display.Javascript object>"
      ]
     },
     "metadata": {},
     "output_type": "display_data"
    },
    {
     "data": {
      "text/markdown": [
       "<span style=\"color:#33cc99\">Solution:</span> \n",
       "```python\n",
       "(5 - 3) // 2\n",
       "```"
      ],
      "text/plain": [
       "Solution: \n",
       "```python\n",
       "(5 - 3) // 2\n",
       "```"
      ]
     },
     "metadata": {},
     "output_type": "display_data"
    }
   ],
   "source": [
    "# Check your answer (Run this code cell to receive credit!)\n",
    "q3.a.solution()"
   ]
  },
  {
   "cell_type": "markdown",
   "id": "43ed6779",
   "metadata": {
    "papermill": {
     "duration": 0.024701,
     "end_time": "2021-08-03T16:21:57.206783",
     "exception": false,
     "start_time": "2021-08-03T16:21:57.182082",
     "status": "completed"
    },
    "tags": []
   },
   "source": [
    "# 3b.  <span title=\"A bit spicy\" style=\"color: darkgreen \">🌶️</span>\n",
    "\n",
    "<small>Questions, like this one, marked a spicy pepper are a bit harder.</small>\n",
    "\n",
    "Add parentheses to the following expression so that it evaluates to 0."
   ]
  },
  {
   "cell_type": "code",
   "execution_count": 13,
   "id": "9462d462",
   "metadata": {
    "execution": {
     "iopub.execute_input": "2021-08-03T16:21:57.261770Z",
     "iopub.status.busy": "2021-08-03T16:21:57.261120Z",
     "iopub.status.idle": "2021-08-03T16:21:57.263597Z",
     "shell.execute_reply": "2021-08-03T16:21:57.264184Z",
     "shell.execute_reply.started": "2021-08-03T16:17:28.648317Z"
    },
    "papermill": {
     "duration": 0.032615,
     "end_time": "2021-08-03T16:21:57.264347",
     "exception": false,
     "start_time": "2021-08-03T16:21:57.231732",
     "status": "completed"
    },
    "tags": []
   },
   "outputs": [
    {
     "data": {
      "text/plain": [
       "0"
      ]
     },
     "execution_count": 13,
     "metadata": {},
     "output_type": "execute_result"
    }
   ],
   "source": [
    "8 - 3 * 2 - (1 + 1)"
   ]
  },
  {
   "cell_type": "code",
   "execution_count": 14,
   "id": "f1c3f39e",
   "metadata": {
    "execution": {
     "iopub.execute_input": "2021-08-03T16:21:57.329299Z",
     "iopub.status.busy": "2021-08-03T16:21:57.328548Z",
     "iopub.status.idle": "2021-08-03T16:21:57.333688Z",
     "shell.execute_reply": "2021-08-03T16:21:57.333122Z"
    },
    "papermill": {
     "duration": 0.039488,
     "end_time": "2021-08-03T16:21:57.333876",
     "exception": false,
     "start_time": "2021-08-03T16:21:57.294388",
     "status": "completed"
    },
    "tags": []
   },
   "outputs": [],
   "source": [
    "#q3.b.hint()"
   ]
  },
  {
   "cell_type": "code",
   "execution_count": 15,
   "id": "842b797e",
   "metadata": {
    "execution": {
     "iopub.execute_input": "2021-08-03T16:21:57.392970Z",
     "iopub.status.busy": "2021-08-03T16:21:57.392287Z",
     "iopub.status.idle": "2021-08-03T16:21:57.397244Z",
     "shell.execute_reply": "2021-08-03T16:21:57.396691Z",
     "shell.execute_reply.started": "2021-08-03T16:17:30.621418Z"
    },
    "papermill": {
     "duration": 0.037422,
     "end_time": "2021-08-03T16:21:57.397379",
     "exception": false,
     "start_time": "2021-08-03T16:21:57.359957",
     "status": "completed"
    },
    "tags": []
   },
   "outputs": [
    {
     "data": {
      "application/javascript": [
       "parent.postMessage({\"jupyterEvent\": \"custom.exercise_interaction\", \"data\": {\"interactionType\": 3, \"questionType\": 4, \"questionId\": \"3.2_ArithmeticParensHard\", \"learnToolsVersion\": \"0.3.4\", \"valueTowardsCompletion\": 0.0, \"failureMessage\": \"\", \"exceptionClass\": \"\", \"trace\": \"\", \"outcomeType\": 4}}, \"*\")"
      ],
      "text/plain": [
       "<IPython.core.display.Javascript object>"
      ]
     },
     "metadata": {},
     "output_type": "display_data"
    },
    {
     "data": {
      "text/markdown": [
       "<span style=\"color:#33cc99\">Solution:</span> `(8 - 3) * (2 - (1 + 1))` is one solution. There may be others."
      ],
      "text/plain": [
       "Solution: `(8 - 3) * (2 - (1 + 1))` is one solution. There may be others."
      ]
     },
     "metadata": {},
     "output_type": "display_data"
    }
   ],
   "source": [
    "# Check your answer (Run this code cell to receive credit!)\n",
    "q3.b.solution()"
   ]
  },
  {
   "cell_type": "markdown",
   "id": "0703cde1",
   "metadata": {
    "papermill": {
     "duration": 0.026612,
     "end_time": "2021-08-03T16:21:57.450983",
     "exception": false,
     "start_time": "2021-08-03T16:21:57.424371",
     "status": "completed"
    },
    "tags": []
   },
   "source": [
    "<hr/>\n",
    "\n",
    "# 4. \n",
    "Alice, Bob and Carol have agreed to pool their Halloween candy and split it evenly among themselves.\n",
    "For the sake of their friendship, any candies left over will be smashed. For example, if they collectively\n",
    "bring home 91 candies, they'll take 30 each and smash 1.\n",
    "\n",
    "Write an arithmetic expression below to calculate how many candies they must smash for a given haul."
   ]
  },
  {
   "cell_type": "code",
   "execution_count": 16,
   "id": "87e42158",
   "metadata": {
    "execution": {
     "iopub.execute_input": "2021-08-03T16:21:57.510559Z",
     "iopub.status.busy": "2021-08-03T16:21:57.509581Z",
     "iopub.status.idle": "2021-08-03T16:21:57.514661Z",
     "shell.execute_reply": "2021-08-03T16:21:57.515160Z",
     "shell.execute_reply.started": "2021-08-03T16:21:08.495346Z"
    },
    "papermill": {
     "duration": 0.037714,
     "end_time": "2021-08-03T16:21:57.515322",
     "exception": false,
     "start_time": "2021-08-03T16:21:57.477608",
     "status": "completed"
    },
    "tags": []
   },
   "outputs": [
    {
     "data": {
      "application/javascript": [
       "parent.postMessage({\"jupyterEvent\": \"custom.exercise_interaction\", \"data\": {\"outcomeType\": 1, \"valueTowardsCompletion\": 0.25, \"interactionType\": 1, \"questionType\": 1, \"questionId\": \"4_CandySplitting\", \"learnToolsVersion\": \"0.3.4\", \"failureMessage\": \"\", \"exceptionClass\": \"\", \"trace\": \"\"}}, \"*\")"
      ],
      "text/plain": [
       "<IPython.core.display.Javascript object>"
      ]
     },
     "metadata": {},
     "output_type": "display_data"
    },
    {
     "data": {
      "text/markdown": [
       "<span style=\"color:#33cc33\">Correct</span>"
      ],
      "text/plain": [
       "Correct"
      ]
     },
     "metadata": {},
     "output_type": "display_data"
    }
   ],
   "source": [
    "# Variables representing the number of candies collected by alice, bob, and carol\n",
    "alice_candies = 121\n",
    "bob_candies = 77\n",
    "carol_candies = 109\n",
    "\n",
    "# Your code goes here! Replace the right-hand side of this assignment with an expression\n",
    "# involving alice_candies, bob_candies, and carol_candies\n",
    "total_candies = alice_candies + bob_candies + carol_candies\n",
    "to_smash = total_candies%3\n",
    "\n",
    "# Check your answer\n",
    "q4.check()"
   ]
  },
  {
   "cell_type": "code",
   "execution_count": 17,
   "id": "fa42e745",
   "metadata": {
    "execution": {
     "iopub.execute_input": "2021-08-03T16:21:57.573724Z",
     "iopub.status.busy": "2021-08-03T16:21:57.572917Z",
     "iopub.status.idle": "2021-08-03T16:21:57.576002Z",
     "shell.execute_reply": "2021-08-03T16:21:57.576484Z"
    },
    "papermill": {
     "duration": 0.033841,
     "end_time": "2021-08-03T16:21:57.576645",
     "exception": false,
     "start_time": "2021-08-03T16:21:57.542804",
     "status": "completed"
    },
    "tags": []
   },
   "outputs": [],
   "source": [
    "#q4.hint()\n",
    "#q4.solution()"
   ]
  },
  {
   "cell_type": "markdown",
   "id": "d1e72644",
   "metadata": {
    "papermill": {
     "duration": 0.028031,
     "end_time": "2021-08-03T16:21:57.632013",
     "exception": false,
     "start_time": "2021-08-03T16:21:57.603982",
     "status": "completed"
    },
    "tags": []
   },
   "source": [
    "# Keep Going\n",
    "\n",
    "Next up, you'll **[learn to write new functions and understand functions others write](https://www.kaggle.com/colinmorris/functions-and-getting-help)**. This will make you at least 10 times more productive as a Python programmer. "
   ]
  },
  {
   "cell_type": "markdown",
   "id": "f168d187",
   "metadata": {
    "papermill": {
     "duration": 0.027514,
     "end_time": "2021-08-03T16:21:57.687051",
     "exception": false,
     "start_time": "2021-08-03T16:21:57.659537",
     "status": "completed"
    },
    "tags": []
   },
   "source": [
    "---\n",
    "\n",
    "\n",
    "\n",
    "\n",
    "*Have questions or comments? Visit the [Learn Discussion forum](https://www.kaggle.com/learn-forum/161283) to chat with other Learners.*"
   ]
  }
 ],
 "metadata": {
  "kernelspec": {
   "display_name": "Python 3",
   "language": "python",
   "name": "python3"
  },
  "language_info": {
   "codemirror_mode": {
    "name": "ipython",
    "version": 3
   },
   "file_extension": ".py",
   "mimetype": "text/x-python",
   "name": "python",
   "nbconvert_exporter": "python",
   "pygments_lexer": "ipython3",
   "version": "3.7.10"
  },
  "papermill": {
   "default_parameters": {},
   "duration": 10.242107,
   "end_time": "2021-08-03T16:21:58.322854",
   "environment_variables": {},
   "exception": null,
   "input_path": "__notebook__.ipynb",
   "output_path": "__notebook__.ipynb",
   "parameters": {},
   "start_time": "2021-08-03T16:21:48.080747",
   "version": "2.3.3"
  }
 },
 "nbformat": 4,
 "nbformat_minor": 5
}
