{
 "cells": [
  {
   "cell_type": "markdown",
   "id": "0ac3bd99",
   "metadata": {
    "papermill": {
     "duration": 0.016311,
     "end_time": "2021-08-04T08:39:35.464763",
     "exception": false,
     "start_time": "2021-08-04T08:39:35.448452",
     "status": "completed"
    },
    "tags": []
   },
   "source": [
    "**This notebook is an exercise in the [Python](https://www.kaggle.com/learn/python) course.  You can reference the tutorial at [this link](https://www.kaggle.com/colinmorris/loops-and-list-comprehensions).**\n",
    "\n",
    "---\n"
   ]
  },
  {
   "cell_type": "markdown",
   "id": "3ae4c4f5",
   "metadata": {
    "papermill": {
     "duration": 0.015332,
     "end_time": "2021-08-04T08:39:35.495923",
     "exception": false,
     "start_time": "2021-08-04T08:39:35.480591",
     "status": "completed"
    },
    "tags": []
   },
   "source": [
    "With all you've learned, you can start writing much more interesting programs. See if you can solve the problems below.\n",
    "\n",
    "As always, run the setup code below before working on the questions."
   ]
  },
  {
   "cell_type": "code",
   "execution_count": 1,
   "id": "15630fb8",
   "metadata": {
    "execution": {
     "iopub.execute_input": "2021-08-04T08:39:35.530637Z",
     "iopub.status.busy": "2021-08-04T08:39:35.529543Z",
     "iopub.status.idle": "2021-08-04T08:39:35.667449Z",
     "shell.execute_reply": "2021-08-04T08:39:35.667931Z",
     "shell.execute_reply.started": "2021-08-04T08:23:05.762282Z"
    },
    "papermill": {
     "duration": 0.156933,
     "end_time": "2021-08-04T08:39:35.668220",
     "exception": false,
     "start_time": "2021-08-04T08:39:35.511287",
     "status": "completed"
    },
    "tags": []
   },
   "outputs": [
    {
     "name": "stdout",
     "output_type": "stream",
     "text": [
      "Setup complete.\n"
     ]
    }
   ],
   "source": [
    "from learntools.core import binder; binder.bind(globals())\n",
    "from learntools.python.ex5 import *\n",
    "print('Setup complete.')"
   ]
  },
  {
   "cell_type": "markdown",
   "id": "d6252452",
   "metadata": {
    "papermill": {
     "duration": 0.015722,
     "end_time": "2021-08-04T08:39:35.701601",
     "exception": false,
     "start_time": "2021-08-04T08:39:35.685879",
     "status": "completed"
    },
    "tags": []
   },
   "source": [
    "# 1.\n",
    "\n",
    "Have you ever felt debugging involved a bit of luck? The following program has a bug. Try to identify the bug and fix it."
   ]
  },
  {
   "cell_type": "code",
   "execution_count": 2,
   "id": "51f650ff",
   "metadata": {
    "execution": {
     "iopub.execute_input": "2021-08-04T08:39:35.738919Z",
     "iopub.status.busy": "2021-08-04T08:39:35.738273Z",
     "iopub.status.idle": "2021-08-04T08:39:35.742824Z",
     "shell.execute_reply": "2021-08-04T08:39:35.742308Z"
    },
    "papermill": {
     "duration": 0.025507,
     "end_time": "2021-08-04T08:39:35.742968",
     "exception": false,
     "start_time": "2021-08-04T08:39:35.717461",
     "status": "completed"
    },
    "tags": []
   },
   "outputs": [],
   "source": [
    "def has_lucky_number(nums):\n",
    "    \"\"\"Return whether the given list of numbers is lucky. A lucky list contains\n",
    "    at least one number divisible by 7.\n",
    "    \"\"\"\n",
    "    for num in nums:\n",
    "        if num % 7 == 0:\n",
    "            return True\n",
    "        else:\n",
    "            return False"
   ]
  },
  {
   "cell_type": "markdown",
   "id": "8996640a",
   "metadata": {
    "papermill": {
     "duration": 0.015732,
     "end_time": "2021-08-04T08:39:35.774961",
     "exception": false,
     "start_time": "2021-08-04T08:39:35.759229",
     "status": "completed"
    },
    "tags": []
   },
   "source": [
    "Try to identify the bug and fix it in the cell below:"
   ]
  },
  {
   "cell_type": "code",
   "execution_count": 3,
   "id": "4dfb1752",
   "metadata": {
    "execution": {
     "iopub.execute_input": "2021-08-04T08:39:35.815506Z",
     "iopub.status.busy": "2021-08-04T08:39:35.814491Z",
     "iopub.status.idle": "2021-08-04T08:39:35.821205Z",
     "shell.execute_reply": "2021-08-04T08:39:35.820561Z",
     "shell.execute_reply.started": "2021-08-04T08:25:40.410349Z"
    },
    "papermill": {
     "duration": 0.030334,
     "end_time": "2021-08-04T08:39:35.821336",
     "exception": false,
     "start_time": "2021-08-04T08:39:35.791002",
     "status": "completed"
    },
    "tags": []
   },
   "outputs": [
    {
     "data": {
      "application/javascript": [
       "parent.postMessage({\"jupyterEvent\": \"custom.exercise_interaction\", \"data\": {\"outcomeType\": 1, \"valueTowardsCompletion\": 0.25, \"interactionType\": 1, \"questionType\": 2, \"questionId\": \"1_EarlyExitDebugging\", \"learnToolsVersion\": \"0.3.4\", \"failureMessage\": \"\", \"exceptionClass\": \"\", \"trace\": \"\"}}, \"*\")"
      ],
      "text/plain": [
       "<IPython.core.display.Javascript object>"
      ]
     },
     "metadata": {},
     "output_type": "display_data"
    },
    {
     "data": {
      "text/markdown": [
       "<span style=\"color:#33cc33\">Correct:</span> \n",
       "\n",
       "Remember that `return` causes a function to exit immediately. So our original implementation always ran for just one iteration. We can only return `False` if we've looked at every element of the list (and confirmed that none of them are lucky). Though we can return early if the answer is `True`:\n",
       "\n",
       "```python\n",
       "def has_lucky_number(nums):\n",
       "    for num in nums:\n",
       "        if num % 7 == 0:\n",
       "            return True\n",
       "    # We've exhausted the list without finding a lucky number\n",
       "    return False\n",
       "```\n",
       "\n",
       "Here's a one-line version using a list comprehension with Python's `any` function (you can read about what it does by calling `help(any)`):\n",
       "\n",
       "```python\n",
       "def has_lucky_number(nums):\n",
       "    return any([num % 7 == 0 for num in nums])\n",
       "```\n"
      ],
      "text/plain": [
       "Correct: \n",
       "\n",
       "Remember that `return` causes a function to exit immediately. So our original implementation always ran for just one iteration. We can only return `False` if we've looked at every element of the list (and confirmed that none of them are lucky). Though we can return early if the answer is `True`:\n",
       "\n",
       "```python\n",
       "def has_lucky_number(nums):\n",
       "    for num in nums:\n",
       "        if num % 7 == 0:\n",
       "            return True\n",
       "    # We've exhausted the list without finding a lucky number\n",
       "    return False\n",
       "```\n",
       "\n",
       "Here's a one-line version using a list comprehension with Python's `any` function (you can read about what it does by calling `help(any)`):\n",
       "\n",
       "```python\n",
       "def has_lucky_number(nums):\n",
       "    return any([num % 7 == 0 for num in nums])\n",
       "```"
      ]
     },
     "metadata": {},
     "output_type": "display_data"
    }
   ],
   "source": [
    "def has_lucky_number(nums):\n",
    "    \"\"\"Return whether the given list of numbers is lucky. A lucky list contains\n",
    "    at least one number divisible by 7.\n",
    "    \"\"\"\n",
    "    return any([num % 7 == 0 for num in nums])\n",
    "\n",
    "# Check your answer\n",
    "q1.check()"
   ]
  },
  {
   "cell_type": "code",
   "execution_count": 4,
   "id": "629bf279",
   "metadata": {
    "execution": {
     "iopub.execute_input": "2021-08-04T08:39:35.859799Z",
     "iopub.status.busy": "2021-08-04T08:39:35.859156Z",
     "iopub.status.idle": "2021-08-04T08:39:35.861890Z",
     "shell.execute_reply": "2021-08-04T08:39:35.861398Z"
    },
    "papermill": {
     "duration": 0.023504,
     "end_time": "2021-08-04T08:39:35.862029",
     "exception": false,
     "start_time": "2021-08-04T08:39:35.838525",
     "status": "completed"
    },
    "tags": []
   },
   "outputs": [],
   "source": [
    "#q1.hint()\n",
    "#q1.solution()"
   ]
  },
  {
   "cell_type": "markdown",
   "id": "b0d117f3",
   "metadata": {
    "papermill": {
     "duration": 0.016874,
     "end_time": "2021-08-04T08:39:35.896273",
     "exception": false,
     "start_time": "2021-08-04T08:39:35.879399",
     "status": "completed"
    },
    "tags": []
   },
   "source": [
    "# 2.\n",
    "Look at the Python expression below. What do you think we'll get when we run it? When you've made your prediction, uncomment the code and run the cell to see if you were right."
   ]
  },
  {
   "cell_type": "code",
   "execution_count": 5,
   "id": "a39730bc",
   "metadata": {
    "execution": {
     "iopub.execute_input": "2021-08-04T08:39:35.936090Z",
     "iopub.status.busy": "2021-08-04T08:39:35.935254Z",
     "iopub.status.idle": "2021-08-04T08:39:35.938090Z",
     "shell.execute_reply": "2021-08-04T08:39:35.937454Z",
     "shell.execute_reply.started": "2021-08-04T08:26:19.328134Z"
    },
    "papermill": {
     "duration": 0.024079,
     "end_time": "2021-08-04T08:39:35.938224",
     "exception": false,
     "start_time": "2021-08-04T08:39:35.914145",
     "status": "completed"
    },
    "tags": []
   },
   "outputs": [],
   "source": [
    "# [1, 2, 3, 4] > 2"
   ]
  },
  {
   "cell_type": "markdown",
   "id": "fd3f95ed",
   "metadata": {
    "papermill": {
     "duration": 0.018023,
     "end_time": "2021-08-04T08:39:35.973721",
     "exception": false,
     "start_time": "2021-08-04T08:39:35.955698",
     "status": "completed"
    },
    "tags": []
   },
   "source": [
    "R and Python have some libraries (like numpy and pandas) compare each element of the list to 2 (i.e. do an 'element-wise' comparison) and give us a list of booleans like `[False, False, True, True]`. \n",
    "\n",
    "Implement a function that reproduces this behaviour, returning a list of booleans corresponding to whether the corresponding element is greater than n."
   ]
  },
  {
   "cell_type": "code",
   "execution_count": 6,
   "id": "4f73a37c",
   "metadata": {
    "execution": {
     "iopub.execute_input": "2021-08-04T08:39:36.014102Z",
     "iopub.status.busy": "2021-08-04T08:39:36.013465Z",
     "iopub.status.idle": "2021-08-04T08:39:36.017537Z",
     "shell.execute_reply": "2021-08-04T08:39:36.018134Z",
     "shell.execute_reply.started": "2021-08-04T08:28:18.771739Z"
    },
    "papermill": {
     "duration": 0.027328,
     "end_time": "2021-08-04T08:39:36.018297",
     "exception": false,
     "start_time": "2021-08-04T08:39:35.990969",
     "status": "completed"
    },
    "tags": []
   },
   "outputs": [
    {
     "data": {
      "application/javascript": [
       "parent.postMessage({\"jupyterEvent\": \"custom.exercise_interaction\", \"data\": {\"outcomeType\": 1, \"valueTowardsCompletion\": 0.25, \"interactionType\": 1, \"questionType\": 2, \"questionId\": \"2_ElementWiseComparison\", \"learnToolsVersion\": \"0.3.4\", \"failureMessage\": \"\", \"exceptionClass\": \"\", \"trace\": \"\"}}, \"*\")"
      ],
      "text/plain": [
       "<IPython.core.display.Javascript object>"
      ]
     },
     "metadata": {},
     "output_type": "display_data"
    },
    {
     "data": {
      "text/markdown": [
       "<span style=\"color:#33cc33\">Correct:</span> \n",
       "\n",
       "Here's one solution:\n",
       "```python\n",
       "def elementwise_greater_than(L, thresh):\n",
       "    res = []\n",
       "    for ele in L:\n",
       "        res.append(ele > thresh)\n",
       "    return res\n",
       "```\n",
       "\n",
       "And here's the list comprehension version:\n",
       "```python\n",
       "def elementwise_greater_than(L, thresh):\n",
       "    return [ele > thresh for ele in L]\n",
       "```\n"
      ],
      "text/plain": [
       "Correct: \n",
       "\n",
       "Here's one solution:\n",
       "```python\n",
       "def elementwise_greater_than(L, thresh):\n",
       "    res = []\n",
       "    for ele in L:\n",
       "        res.append(ele > thresh)\n",
       "    return res\n",
       "```\n",
       "\n",
       "And here's the list comprehension version:\n",
       "```python\n",
       "def elementwise_greater_than(L, thresh):\n",
       "    return [ele > thresh for ele in L]\n",
       "```"
      ]
     },
     "metadata": {},
     "output_type": "display_data"
    }
   ],
   "source": [
    "def elementwise_greater_than(L, thresh):\n",
    "    \"\"\"Return a list with the same length as L, where the value at index i is \n",
    "    True if L[i] is greater than thresh, and False otherwise.\n",
    "    \n",
    "    >>> elementwise_greater_than([1, 2, 3, 4], 2)\n",
    "    [False, False, True, True]\n",
    "    \"\"\"\n",
    "    return [i>thresh for i in L]\n",
    "\n",
    "# Check your answer\n",
    "q2.check()"
   ]
  },
  {
   "cell_type": "code",
   "execution_count": 7,
   "id": "f2a000eb",
   "metadata": {
    "execution": {
     "iopub.execute_input": "2021-08-04T08:39:36.057504Z",
     "iopub.status.busy": "2021-08-04T08:39:36.056931Z",
     "iopub.status.idle": "2021-08-04T08:39:36.059982Z",
     "shell.execute_reply": "2021-08-04T08:39:36.060535Z"
    },
    "papermill": {
     "duration": 0.023967,
     "end_time": "2021-08-04T08:39:36.060691",
     "exception": false,
     "start_time": "2021-08-04T08:39:36.036724",
     "status": "completed"
    },
    "tags": []
   },
   "outputs": [],
   "source": [
    "#q2.solution()"
   ]
  },
  {
   "cell_type": "markdown",
   "id": "6934429e",
   "metadata": {
    "papermill": {
     "duration": 0.018796,
     "end_time": "2021-08-04T08:39:36.097938",
     "exception": false,
     "start_time": "2021-08-04T08:39:36.079142",
     "status": "completed"
    },
    "tags": []
   },
   "source": [
    "# 3.\n",
    "\n",
    "Complete the body of the function below according to its docstring."
   ]
  },
  {
   "cell_type": "code",
   "execution_count": 8,
   "id": "1c814af3",
   "metadata": {
    "execution": {
     "iopub.execute_input": "2021-08-04T08:39:36.138548Z",
     "iopub.status.busy": "2021-08-04T08:39:36.137932Z",
     "iopub.status.idle": "2021-08-04T08:39:36.146297Z",
     "shell.execute_reply": "2021-08-04T08:39:36.145791Z",
     "shell.execute_reply.started": "2021-08-04T08:33:52.772184Z"
    },
    "papermill": {
     "duration": 0.029225,
     "end_time": "2021-08-04T08:39:36.146430",
     "exception": false,
     "start_time": "2021-08-04T08:39:36.117205",
     "status": "completed"
    },
    "tags": []
   },
   "outputs": [
    {
     "data": {
      "application/javascript": [
       "parent.postMessage({\"jupyterEvent\": \"custom.exercise_interaction\", \"data\": {\"outcomeType\": 1, \"valueTowardsCompletion\": 0.25, \"interactionType\": 1, \"questionType\": 2, \"questionId\": \"3_BoringMenu\", \"learnToolsVersion\": \"0.3.4\", \"failureMessage\": \"\", \"exceptionClass\": \"\", \"trace\": \"\"}}, \"*\")"
      ],
      "text/plain": [
       "<IPython.core.display.Javascript object>"
      ]
     },
     "metadata": {},
     "output_type": "display_data"
    },
    {
     "data": {
      "text/markdown": [
       "<span style=\"color:#33cc33\">Correct:</span> \n",
       "\n",
       "\n",
       "\n",
       "```python\n",
       "def menu_is_boring(meals):\n",
       "    # Iterate over all indices of the list, except the last one\n",
       "    for i in range(len(meals)-1):\n",
       "        if meals[i] == meals[i+1]:\n",
       "            return True\n",
       "    return False\n",
       "```\n",
       "\n",
       "The key to our solution is the call to `range`. `range(len(meals))` would give us all the indices of `meals`. If we had used that range, the last iteration of the loop would be comparing the last element to the element after it, which is... `IndexError`! `range(len(meals)-1)` gives us all the indices except the index of the last element.\n",
       "\n",
       "But don't we need to check if `meals` is empty? Turns out that `range(0) == range(-1)` - they're both empty. So if `meals` has length 0 or 1, we just won't do any iterations of our for loop.\n"
      ],
      "text/plain": [
       "Correct: \n",
       "\n",
       "\n",
       "\n",
       "```python\n",
       "def menu_is_boring(meals):\n",
       "    # Iterate over all indices of the list, except the last one\n",
       "    for i in range(len(meals)-1):\n",
       "        if meals[i] == meals[i+1]:\n",
       "            return True\n",
       "    return False\n",
       "```\n",
       "\n",
       "The key to our solution is the call to `range`. `range(len(meals))` would give us all the indices of `meals`. If we had used that range, the last iteration of the loop would be comparing the last element to the element after it, which is... `IndexError`! `range(len(meals)-1)` gives us all the indices except the index of the last element.\n",
       "\n",
       "But don't we need to check if `meals` is empty? Turns out that `range(0) == range(-1)` - they're both empty. So if `meals` has length 0 or 1, we just won't do any iterations of our for loop."
      ]
     },
     "metadata": {},
     "output_type": "display_data"
    }
   ],
   "source": [
    "def menu_is_boring(meals):\n",
    "    \"\"\"Given a list of meals served over some period of time, return True if the\n",
    "    same meal has ever been served two days in a row, and False otherwise.\n",
    "    \"\"\"\n",
    "    check = False\n",
    "    for i in range(len(meals)-1):\n",
    "        if meals[i]==meals[i+1]:\n",
    "            check = True\n",
    "    \n",
    "    return check\n",
    "\n",
    "# Check your answer\n",
    "q3.check()"
   ]
  },
  {
   "cell_type": "code",
   "execution_count": 9,
   "id": "16e8200a",
   "metadata": {
    "execution": {
     "iopub.execute_input": "2021-08-04T08:39:36.190267Z",
     "iopub.status.busy": "2021-08-04T08:39:36.189534Z",
     "iopub.status.idle": "2021-08-04T08:39:36.191221Z",
     "shell.execute_reply": "2021-08-04T08:39:36.191782Z"
    },
    "papermill": {
     "duration": 0.025704,
     "end_time": "2021-08-04T08:39:36.191948",
     "exception": false,
     "start_time": "2021-08-04T08:39:36.166244",
     "status": "completed"
    },
    "tags": []
   },
   "outputs": [],
   "source": [
    "#q3.hint()\n",
    "#q3.solution()"
   ]
  },
  {
   "cell_type": "markdown",
   "id": "9ac5e668",
   "metadata": {
    "papermill": {
     "duration": 0.01926,
     "end_time": "2021-08-04T08:39:36.231151",
     "exception": false,
     "start_time": "2021-08-04T08:39:36.211891",
     "status": "completed"
    },
    "tags": []
   },
   "source": [
    "# 4. <span title=\"A bit spicy\" style=\"color: darkgreen \">🌶️</span>\n",
    "\n",
    "Next to the Blackjack table, the Python Challenge Casino has a slot machine. You can get a result from the slot machine by calling `play_slot_machine()`. The number it returns is your winnings in dollars. Usually it returns 0.  But sometimes you'll get lucky and get a big payday. Try running it below:"
   ]
  },
  {
   "cell_type": "code",
   "execution_count": 10,
   "id": "637e6429",
   "metadata": {
    "execution": {
     "iopub.execute_input": "2021-08-04T08:39:36.272949Z",
     "iopub.status.busy": "2021-08-04T08:39:36.272338Z",
     "iopub.status.idle": "2021-08-04T08:39:36.277057Z",
     "shell.execute_reply": "2021-08-04T08:39:36.277610Z",
     "shell.execute_reply.started": "2021-08-04T08:37:04.77663Z"
    },
    "papermill": {
     "duration": 0.026974,
     "end_time": "2021-08-04T08:39:36.277792",
     "exception": false,
     "start_time": "2021-08-04T08:39:36.250818",
     "status": "completed"
    },
    "tags": []
   },
   "outputs": [
    {
     "data": {
      "text/plain": [
       "0"
      ]
     },
     "execution_count": 10,
     "metadata": {},
     "output_type": "execute_result"
    }
   ],
   "source": [
    "play_slot_machine()"
   ]
  },
  {
   "cell_type": "markdown",
   "id": "2e648aaa",
   "metadata": {
    "papermill": {
     "duration": 0.019267,
     "end_time": "2021-08-04T08:39:36.316722",
     "exception": false,
     "start_time": "2021-08-04T08:39:36.297455",
     "status": "completed"
    },
    "tags": []
   },
   "source": [
    "By the way, did we mention that each play costs $1? Don't worry, we'll send you the bill later.\n",
    "\n",
    "On average, how much money can you expect to gain (or lose) every time you play the machine?  The casino keeps it a secret, but you can estimate the average value of each pull using a technique called the **Monte Carlo method**. To estimate the average outcome, we simulate the scenario many times, and return the average result.\n",
    "\n",
    "Complete the following function to calculate the average value per play of the slot machine."
   ]
  },
  {
   "cell_type": "code",
   "execution_count": 11,
   "id": "8379f881",
   "metadata": {
    "execution": {
     "iopub.execute_input": "2021-08-04T08:39:36.363819Z",
     "iopub.status.busy": "2021-08-04T08:39:36.363166Z",
     "iopub.status.idle": "2021-08-04T08:39:36.365726Z",
     "shell.execute_reply": "2021-08-04T08:39:36.366224Z",
     "shell.execute_reply.started": "2021-08-04T08:38:40.553971Z"
    },
    "papermill": {
     "duration": 0.029239,
     "end_time": "2021-08-04T08:39:36.366391",
     "exception": false,
     "start_time": "2021-08-04T08:39:36.337152",
     "status": "completed"
    },
    "tags": []
   },
   "outputs": [
    {
     "name": "stdout",
     "output_type": "stream",
     "text": [
      "1.186\n"
     ]
    }
   ],
   "source": [
    "def estimate_average_slot_payout(n_runs):\n",
    "    \"\"\"Run the slot machine n_runs times and return the average net profit per run.\n",
    "    Example calls (note that return value is nondeterministic!):\n",
    "    >>> estimate_average_slot_payout(1)\n",
    "    -1\n",
    "    >>> estimate_average_slot_payout(1)\n",
    "    0.5\n",
    "    \"\"\"\n",
    "    profit = 0\n",
    "    for i in range(n_runs):\n",
    "        profit += play_slot_machine()\n",
    "    \n",
    "    net_profit = profit/n_runs\n",
    "    return net_profit\n",
    "\n",
    "print(estimate_average_slot_payout(1000))"
   ]
  },
  {
   "cell_type": "markdown",
   "id": "7ca73301",
   "metadata": {
    "papermill": {
     "duration": 0.019925,
     "end_time": "2021-08-04T08:39:36.407836",
     "exception": false,
     "start_time": "2021-08-04T08:39:36.387911",
     "status": "completed"
    },
    "tags": []
   },
   "source": [
    "When you think you know the expected value per spin, run the code cell below to view the solution and get credit for answering the question."
   ]
  },
  {
   "cell_type": "code",
   "execution_count": 12,
   "id": "53b9f4dd",
   "metadata": {
    "execution": {
     "iopub.execute_input": "2021-08-04T08:39:36.451130Z",
     "iopub.status.busy": "2021-08-04T08:39:36.450366Z",
     "iopub.status.idle": "2021-08-04T08:39:36.456109Z",
     "shell.execute_reply": "2021-08-04T08:39:36.456604Z",
     "shell.execute_reply.started": "2021-08-04T08:37:17.52861Z"
    },
    "papermill": {
     "duration": 0.028943,
     "end_time": "2021-08-04T08:39:36.456790",
     "exception": false,
     "start_time": "2021-08-04T08:39:36.427847",
     "status": "completed"
    },
    "tags": []
   },
   "outputs": [
    {
     "data": {
      "application/javascript": [
       "parent.postMessage({\"jupyterEvent\": \"custom.exercise_interaction\", \"data\": {\"interactionType\": 3, \"questionType\": 4, \"questionId\": \"4_ExpectedSlotsPayout\", \"learnToolsVersion\": \"0.3.4\", \"valueTowardsCompletion\": 0.0, \"failureMessage\": \"\", \"exceptionClass\": \"\", \"trace\": \"\", \"outcomeType\": 4}}, \"*\")"
      ],
      "text/plain": [
       "<IPython.core.display.Javascript object>"
      ]
     },
     "metadata": {},
     "output_type": "display_data"
    },
    {
     "data": {
      "text/markdown": [
       "<span style=\"color:#33cc99\">Solution:</span> The exact expected value of one pull of the slot machine is 0.025 - i.e. a little more than 2 cents. See? Not every game in the Python Challenge Casino is rigged against the player!\n",
       "\n",
       "Because of the high variance of the outcome (there are some very rare high payout results that significantly affect the average) you might need to run your function with a very high value of `n_runs` to get a stable answer close to the true expectation.\n",
       "\n",
       "If your answer is way higher than 0.025, then maybe you forgot to account for the $1 cost per play?"
      ],
      "text/plain": [
       "Solution: The exact expected value of one pull of the slot machine is 0.025 - i.e. a little more than 2 cents. See? Not every game in the Python Challenge Casino is rigged against the player!\n",
       "\n",
       "Because of the high variance of the outcome (there are some very rare high payout results that significantly affect the average) you might need to run your function with a very high value of `n_runs` to get a stable answer close to the true expectation.\n",
       "\n",
       "If your answer is way higher than 0.025, then maybe you forgot to account for the $1 cost per play?"
      ]
     },
     "metadata": {},
     "output_type": "display_data"
    }
   ],
   "source": [
    "# Check your answer (Run this code cell to receive credit!)\n",
    "q4.solution()"
   ]
  },
  {
   "cell_type": "markdown",
   "id": "e3c0a59d",
   "metadata": {
    "papermill": {
     "duration": 0.020826,
     "end_time": "2021-08-04T08:39:36.498636",
     "exception": false,
     "start_time": "2021-08-04T08:39:36.477810",
     "status": "completed"
    },
    "tags": []
   },
   "source": [
    "# Keep Going\n",
    "\n",
    "Many programmers report that dictionaries are their favorite data structure. You'll get to **[learn about them](https://www.kaggle.com/colinmorris/strings-and-dictionaries)** (as well as strings) in the next lesson."
   ]
  },
  {
   "cell_type": "markdown",
   "id": "dd2e47ce",
   "metadata": {
    "papermill": {
     "duration": 0.020692,
     "end_time": "2021-08-04T08:39:36.540666",
     "exception": false,
     "start_time": "2021-08-04T08:39:36.519974",
     "status": "completed"
    },
    "tags": []
   },
   "source": [
    "---\n",
    "\n",
    "\n",
    "\n",
    "\n",
    "*Have questions or comments? Visit the [Learn Discussion forum](https://www.kaggle.com/learn-forum/161283) to chat with other Learners.*"
   ]
  }
 ],
 "metadata": {
  "kernelspec": {
   "display_name": "Python 3",
   "language": "python",
   "name": "python3"
  },
  "language_info": {
   "codemirror_mode": {
    "name": "ipython",
    "version": 3
   },
   "file_extension": ".py",
   "mimetype": "text/x-python",
   "name": "python",
   "nbconvert_exporter": "python",
   "pygments_lexer": "ipython3",
   "version": "3.7.10"
  },
  "papermill": {
   "default_parameters": {},
   "duration": 9.557049,
   "end_time": "2021-08-04T08:39:37.171948",
   "environment_variables": {},
   "exception": null,
   "input_path": "__notebook__.ipynb",
   "output_path": "__notebook__.ipynb",
   "parameters": {},
   "start_time": "2021-08-04T08:39:27.614899",
   "version": "2.3.3"
  }
 },
 "nbformat": 4,
 "nbformat_minor": 5
}
