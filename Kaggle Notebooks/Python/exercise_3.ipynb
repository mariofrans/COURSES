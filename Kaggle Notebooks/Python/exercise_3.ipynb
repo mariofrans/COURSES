{
 "cells": [
  {
   "cell_type": "markdown",
   "id": "635f38f8",
   "metadata": {
    "papermill": {
     "duration": 0.029476,
     "end_time": "2021-08-04T08:01:39.523619",
     "exception": false,
     "start_time": "2021-08-04T08:01:39.494143",
     "status": "completed"
    },
    "tags": []
   },
   "source": [
    "**This notebook is an exercise in the [Python](https://www.kaggle.com/learn/python) course.  You can reference the tutorial at [this link](https://www.kaggle.com/colinmorris/booleans-and-conditionals).**\n",
    "\n",
    "---\n"
   ]
  },
  {
   "cell_type": "markdown",
   "id": "4b7135dd",
   "metadata": {
    "papermill": {
     "duration": 0.027512,
     "end_time": "2021-08-04T08:01:39.581241",
     "exception": false,
     "start_time": "2021-08-04T08:01:39.553729",
     "status": "completed"
    },
    "tags": []
   },
   "source": [
    "In this exercise, you'll put to work what you have learned about booleans and conditionals.\n",
    "\n",
    "To get started, **run the setup code below** before writing your own code (and if you leave this notebook and come back later, don't forget to run the setup code again)."
   ]
  },
  {
   "cell_type": "code",
   "execution_count": 1,
   "id": "e1c95b42",
   "metadata": {
    "execution": {
     "iopub.execute_input": "2021-08-04T08:01:39.648343Z",
     "iopub.status.busy": "2021-08-04T08:01:39.647703Z",
     "iopub.status.idle": "2021-08-04T08:01:39.774244Z",
     "shell.execute_reply": "2021-08-04T08:01:39.773467Z",
     "shell.execute_reply.started": "2021-08-04T06:39:09.660756Z"
    },
    "papermill": {
     "duration": 0.165389,
     "end_time": "2021-08-04T08:01:39.774412",
     "exception": false,
     "start_time": "2021-08-04T08:01:39.609023",
     "status": "completed"
    },
    "tags": []
   },
   "outputs": [
    {
     "name": "stdout",
     "output_type": "stream",
     "text": [
      "Setup complete.\n"
     ]
    }
   ],
   "source": [
    "from learntools.core import binder; binder.bind(globals())\n",
    "from learntools.python.ex3 import *\n",
    "print('Setup complete.')"
   ]
  },
  {
   "cell_type": "markdown",
   "id": "fe6db575",
   "metadata": {
    "papermill": {
     "duration": 0.028248,
     "end_time": "2021-08-04T08:01:39.831758",
     "exception": false,
     "start_time": "2021-08-04T08:01:39.803510",
     "status": "completed"
    },
    "tags": []
   },
   "source": [
    "# 1.\n",
    "\n",
    "Many programming languages have [`sign`](https://en.wikipedia.org/wiki/Sign_function) available as a built-in function. Python doesn't, but we can define our own!\n",
    "\n",
    "In the cell below, define a function called `sign` which takes a numerical argument and returns -1 if it's negative, 1 if it's positive, and 0 if it's 0."
   ]
  },
  {
   "cell_type": "code",
   "execution_count": 2,
   "id": "88c1558f",
   "metadata": {
    "execution": {
     "iopub.execute_input": "2021-08-04T08:01:39.896939Z",
     "iopub.status.busy": "2021-08-04T08:01:39.893881Z",
     "iopub.status.idle": "2021-08-04T08:01:39.903191Z",
     "shell.execute_reply": "2021-08-04T08:01:39.902602Z",
     "shell.execute_reply.started": "2021-08-04T06:50:37.230859Z"
    },
    "papermill": {
     "duration": 0.042815,
     "end_time": "2021-08-04T08:01:39.903328",
     "exception": false,
     "start_time": "2021-08-04T08:01:39.860513",
     "status": "completed"
    },
    "tags": []
   },
   "outputs": [
    {
     "data": {
      "application/javascript": [
       "parent.postMessage({\"jupyterEvent\": \"custom.exercise_interaction\", \"data\": {\"outcomeType\": 1, \"valueTowardsCompletion\": 0.2, \"interactionType\": 1, \"questionType\": 2, \"questionId\": \"1_SignFunctionProblem\", \"learnToolsVersion\": \"0.3.4\", \"failureMessage\": \"\", \"exceptionClass\": \"\", \"trace\": \"\"}}, \"*\")"
      ],
      "text/plain": [
       "<IPython.core.display.Javascript object>"
      ]
     },
     "metadata": {},
     "output_type": "display_data"
    },
    {
     "data": {
      "text/markdown": [
       "<span style=\"color:#33cc33\">Correct</span>"
      ],
      "text/plain": [
       "Correct"
      ]
     },
     "metadata": {},
     "output_type": "display_data"
    }
   ],
   "source": [
    "# Your code goes here. Define a function called 'sign'\n",
    "def sign(num):\n",
    "    if num<0: return -1\n",
    "    elif num==0: return 0\n",
    "    elif num>0: return 1\n",
    "\n",
    "# Check your answer\n",
    "q1.check()"
   ]
  },
  {
   "cell_type": "code",
   "execution_count": 3,
   "id": "d0d205f8",
   "metadata": {
    "execution": {
     "iopub.execute_input": "2021-08-04T08:01:39.969635Z",
     "iopub.status.busy": "2021-08-04T08:01:39.968971Z",
     "iopub.status.idle": "2021-08-04T08:01:39.971957Z",
     "shell.execute_reply": "2021-08-04T08:01:39.971483Z"
    },
    "papermill": {
     "duration": 0.037109,
     "end_time": "2021-08-04T08:01:39.972092",
     "exception": false,
     "start_time": "2021-08-04T08:01:39.934983",
     "status": "completed"
    },
    "tags": []
   },
   "outputs": [],
   "source": [
    "#q1.solution()"
   ]
  },
  {
   "cell_type": "markdown",
   "id": "2d40fd71",
   "metadata": {
    "papermill": {
     "duration": 0.029477,
     "end_time": "2021-08-04T08:01:40.031223",
     "exception": false,
     "start_time": "2021-08-04T08:01:40.001746",
     "status": "completed"
    },
    "tags": []
   },
   "source": [
    "# 2.\n",
    "\n",
    "We've decided to add \"logging\" to our `to_smash` function from the previous exercise."
   ]
  },
  {
   "cell_type": "code",
   "execution_count": 4,
   "id": "99a85636",
   "metadata": {
    "execution": {
     "iopub.execute_input": "2021-08-04T08:01:40.097131Z",
     "iopub.status.busy": "2021-08-04T08:01:40.096383Z",
     "iopub.status.idle": "2021-08-04T08:01:40.101038Z",
     "shell.execute_reply": "2021-08-04T08:01:40.101735Z",
     "shell.execute_reply.started": "2021-08-04T06:51:47.759573Z"
    },
    "papermill": {
     "duration": 0.041177,
     "end_time": "2021-08-04T08:01:40.101983",
     "exception": false,
     "start_time": "2021-08-04T08:01:40.060806",
     "status": "completed"
    },
    "tags": []
   },
   "outputs": [
    {
     "name": "stdout",
     "output_type": "stream",
     "text": [
      "Splitting 91 candies\n"
     ]
    },
    {
     "data": {
      "text/plain": [
       "1"
      ]
     },
     "execution_count": 4,
     "metadata": {},
     "output_type": "execute_result"
    }
   ],
   "source": [
    "def to_smash(total_candies):\n",
    "    \"\"\"Return the number of leftover candies that must be smashed after distributing\n",
    "    the given number of candies evenly between 3 friends.\n",
    "    \n",
    "    >>> to_smash(91)\n",
    "    1\n",
    "    \"\"\"\n",
    "    print(\"Splitting\", total_candies, \"candies\")\n",
    "    return total_candies % 3\n",
    "\n",
    "to_smash(91)"
   ]
  },
  {
   "cell_type": "markdown",
   "id": "4db2d5ba",
   "metadata": {
    "papermill": {
     "duration": 0.030144,
     "end_time": "2021-08-04T08:01:40.163770",
     "exception": false,
     "start_time": "2021-08-04T08:01:40.133626",
     "status": "completed"
    },
    "tags": []
   },
   "source": [
    "What happens if we call it with `total_candies = 1`?"
   ]
  },
  {
   "cell_type": "code",
   "execution_count": 5,
   "id": "e020ee4c",
   "metadata": {
    "execution": {
     "iopub.execute_input": "2021-08-04T08:01:40.233899Z",
     "iopub.status.busy": "2021-08-04T08:01:40.232760Z",
     "iopub.status.idle": "2021-08-04T08:01:40.240002Z",
     "shell.execute_reply": "2021-08-04T08:01:40.239164Z",
     "shell.execute_reply.started": "2021-08-04T06:54:07.360899Z"
    },
    "papermill": {
     "duration": 0.046065,
     "end_time": "2021-08-04T08:01:40.240203",
     "exception": false,
     "start_time": "2021-08-04T08:01:40.194138",
     "status": "completed"
    },
    "tags": []
   },
   "outputs": [
    {
     "name": "stdout",
     "output_type": "stream",
     "text": [
      "Splitting 1 candies\n"
     ]
    },
    {
     "data": {
      "text/plain": [
       "1"
      ]
     },
     "execution_count": 5,
     "metadata": {},
     "output_type": "execute_result"
    }
   ],
   "source": [
    "to_smash(1)"
   ]
  },
  {
   "cell_type": "markdown",
   "id": "e59926fb",
   "metadata": {
    "papermill": {
     "duration": 0.035691,
     "end_time": "2021-08-04T08:01:40.311748",
     "exception": false,
     "start_time": "2021-08-04T08:01:40.276057",
     "status": "completed"
    },
    "tags": []
   },
   "source": [
    "That isn't great grammar!\n",
    "\n",
    "Modify the definition in the cell below to correct the grammar of our print statement. (If there's only one candy, we should use the singular \"candy\" instead of the plural \"candies\")"
   ]
  },
  {
   "cell_type": "code",
   "execution_count": 6,
   "id": "61bf8b31",
   "metadata": {
    "execution": {
     "iopub.execute_input": "2021-08-04T08:01:40.380510Z",
     "iopub.status.busy": "2021-08-04T08:01:40.379148Z",
     "iopub.status.idle": "2021-08-04T08:01:40.386535Z",
     "shell.execute_reply": "2021-08-04T08:01:40.385664Z",
     "shell.execute_reply.started": "2021-08-04T06:54:17.575520Z"
    },
    "papermill": {
     "duration": 0.044107,
     "end_time": "2021-08-04T08:01:40.386726",
     "exception": false,
     "start_time": "2021-08-04T08:01:40.342619",
     "status": "completed"
    },
    "tags": []
   },
   "outputs": [
    {
     "name": "stdout",
     "output_type": "stream",
     "text": [
      "Splitting 91 candies\n",
      "Splitting 1 candy\n"
     ]
    },
    {
     "data": {
      "text/plain": [
       "1"
      ]
     },
     "execution_count": 6,
     "metadata": {},
     "output_type": "execute_result"
    }
   ],
   "source": [
    "def to_smash(total_candies):\n",
    "    \"\"\"Return the number of leftover candies that must be smashed after distributing\n",
    "    the given number of candies evenly between 3 friends.\n",
    "    \n",
    "    >>> to_smash(91)\n",
    "    1\n",
    "    \"\"\"\n",
    "    if total_candies == 1:\n",
    "        print(\"Splitting 1 candy\")\n",
    "    else:\n",
    "        print(\"Splitting\", total_candies, \"candies\")\n",
    "    return total_candies % 3\n",
    "\n",
    "to_smash(91)\n",
    "to_smash(1)"
   ]
  },
  {
   "cell_type": "markdown",
   "id": "93d456e7",
   "metadata": {
    "papermill": {
     "duration": 0.03161,
     "end_time": "2021-08-04T08:01:40.450252",
     "exception": false,
     "start_time": "2021-08-04T08:01:40.418642",
     "status": "completed"
    },
    "tags": []
   },
   "source": [
    "To get credit for completing this problem, and to see the official answer, run the code cell below."
   ]
  },
  {
   "cell_type": "code",
   "execution_count": 7,
   "id": "da078038",
   "metadata": {
    "execution": {
     "iopub.execute_input": "2021-08-04T08:01:40.519968Z",
     "iopub.status.busy": "2021-08-04T08:01:40.519239Z",
     "iopub.status.idle": "2021-08-04T08:01:40.525316Z",
     "shell.execute_reply": "2021-08-04T08:01:40.524722Z",
     "shell.execute_reply.started": "2021-08-04T06:52:24.363293Z"
    },
    "papermill": {
     "duration": 0.043426,
     "end_time": "2021-08-04T08:01:40.525463",
     "exception": false,
     "start_time": "2021-08-04T08:01:40.482037",
     "status": "completed"
    },
    "tags": []
   },
   "outputs": [
    {
     "data": {
      "application/javascript": [
       "parent.postMessage({\"jupyterEvent\": \"custom.exercise_interaction\", \"data\": {\"interactionType\": 3, \"questionType\": 4, \"questionId\": \"2_PluralizationProblem\", \"learnToolsVersion\": \"0.3.4\", \"valueTowardsCompletion\": 0.0, \"failureMessage\": \"\", \"exceptionClass\": \"\", \"trace\": \"\", \"outcomeType\": 4}}, \"*\")"
      ],
      "text/plain": [
       "<IPython.core.display.Javascript object>"
      ]
     },
     "metadata": {},
     "output_type": "display_data"
    },
    {
     "data": {
      "text/markdown": [
       "<span style=\"color:#33cc99\">Solution:</span> A straightforward (and totally fine) solution is to replace the original `print` call with:\n",
       "\n",
       "```python\n",
       "if total_candies == 1:\n",
       "    print(\"Splitting 1 candy\")\n",
       "else:\n",
       "    print(\"Splitting\", total_candies, \"candies\")\n",
       "```\n",
       "\n",
       "Here's a slightly more succinct solution using a conditional expression:\n",
       "\n",
       "```python\n",
       "print(\"Splitting\", total_candies, \"candy\" if total_candies == 1 else \"candies\")\n",
       "```"
      ],
      "text/plain": [
       "Solution: A straightforward (and totally fine) solution is to replace the original `print` call with:\n",
       "\n",
       "```python\n",
       "if total_candies == 1:\n",
       "    print(\"Splitting 1 candy\")\n",
       "else:\n",
       "    print(\"Splitting\", total_candies, \"candies\")\n",
       "```\n",
       "\n",
       "Here's a slightly more succinct solution using a conditional expression:\n",
       "\n",
       "```python\n",
       "print(\"Splitting\", total_candies, \"candy\" if total_candies == 1 else \"candies\")\n",
       "```"
      ]
     },
     "metadata": {},
     "output_type": "display_data"
    }
   ],
   "source": [
    "# Check your answer (Run this code cell to receive credit!)\n",
    "q2.solution()"
   ]
  },
  {
   "cell_type": "markdown",
   "id": "24818f59",
   "metadata": {
    "papermill": {
     "duration": 0.032156,
     "end_time": "2021-08-04T08:01:40.589998",
     "exception": false,
     "start_time": "2021-08-04T08:01:40.557842",
     "status": "completed"
    },
    "tags": []
   },
   "source": [
    "# 3. <span title=\"A bit spicy\" style=\"color: darkgreen \">🌶️</span>\n",
    "\n",
    "In the tutorial, we talked about deciding whether we're prepared for the weather. I said that I'm safe from today's weather if...\n",
    "- I have an umbrella...\n",
    "- or if the rain isn't too heavy and I have a hood...\n",
    "- otherwise, I'm still fine unless it's raining *and* it's a workday\n",
    "\n",
    "The function below uses our first attempt at turning this logic into a Python expression. I claimed that there was a bug in that code. Can you find it?\n",
    "\n",
    "To prove that `prepared_for_weather` is buggy, come up with a set of inputs where either:\n",
    "- the function returns `False` (but should have returned `True`), or\n",
    "- the function returned `True` (but should have returned `False`).\n",
    "\n",
    "To get credit for completing this question, your code should return a <font color='#33cc33'>Correct</font> result."
   ]
  },
  {
   "cell_type": "code",
   "execution_count": 8,
   "id": "6656c971",
   "metadata": {
    "execution": {
     "iopub.execute_input": "2021-08-04T08:01:40.663996Z",
     "iopub.status.busy": "2021-08-04T08:01:40.662993Z",
     "iopub.status.idle": "2021-08-04T08:01:40.670096Z",
     "shell.execute_reply": "2021-08-04T08:01:40.670599Z",
     "shell.execute_reply.started": "2021-08-04T06:59:40.605480Z"
    },
    "papermill": {
     "duration": 0.048459,
     "end_time": "2021-08-04T08:01:40.670765",
     "exception": false,
     "start_time": "2021-08-04T08:01:40.622306",
     "status": "completed"
    },
    "tags": []
   },
   "outputs": [
    {
     "name": "stdout",
     "output_type": "stream",
     "text": [
      "False\n"
     ]
    },
    {
     "data": {
      "application/javascript": [
       "parent.postMessage({\"jupyterEvent\": \"custom.exercise_interaction\", \"data\": {\"outcomeType\": 1, \"valueTowardsCompletion\": 0.2, \"interactionType\": 1, \"questionType\": 1, \"questionId\": \"3_WeatherDebug\", \"learnToolsVersion\": \"0.3.4\", \"failureMessage\": \"\", \"exceptionClass\": \"\", \"trace\": \"\"}}, \"*\")"
      ],
      "text/plain": [
       "<IPython.core.display.Javascript object>"
      ]
     },
     "metadata": {},
     "output_type": "display_data"
    },
    {
     "data": {
      "text/markdown": [
       "<span style=\"color:#33cc33\">Correct:</span> \n",
       "\n",
       "One example of a failing test case is:\n",
       "\n",
       "```python\n",
       "have_umbrella = False\n",
       "rain_level = 0.0\n",
       "have_hood = False\n",
       "is_workday = False\n",
       "```\n",
       "\n",
       "Clearly we're prepared for the weather in this case. It's not raining. Not only that, it's not a workday, so we don't even need to leave the house! But our function will return False on these inputs.\n",
       "\n",
       "The key problem is that Python implictly parenthesizes the last part as:\n",
       "\n",
       "```python\n",
       "(not (rain_level > 0)) and is_workday\n",
       "```\n",
       "\n",
       "Whereas what we were trying to express would look more like:\n",
       "\n",
       "```python\n",
       "not (rain_level > 0 and is_workday)\n",
       "```\n"
      ],
      "text/plain": [
       "Correct: \n",
       "\n",
       "One example of a failing test case is:\n",
       "\n",
       "```python\n",
       "have_umbrella = False\n",
       "rain_level = 0.0\n",
       "have_hood = False\n",
       "is_workday = False\n",
       "```\n",
       "\n",
       "Clearly we're prepared for the weather in this case. It's not raining. Not only that, it's not a workday, so we don't even need to leave the house! But our function will return False on these inputs.\n",
       "\n",
       "The key problem is that Python implictly parenthesizes the last part as:\n",
       "\n",
       "```python\n",
       "(not (rain_level > 0)) and is_workday\n",
       "```\n",
       "\n",
       "Whereas what we were trying to express would look more like:\n",
       "\n",
       "```python\n",
       "not (rain_level > 0 and is_workday)\n",
       "```"
      ]
     },
     "metadata": {},
     "output_type": "display_data"
    }
   ],
   "source": [
    "def prepared_for_weather(have_umbrella, rain_level, have_hood, is_workday):\n",
    "    # Don't change this code. Our goal is just to find the bug, not fix it!\n",
    "    return have_umbrella or rain_level < 5 and have_hood or not rain_level > 0 and is_workday\n",
    "\n",
    "# Change the values of these inputs so they represent a case where prepared_for_weather\n",
    "# returns the wrong answer.\n",
    "have_umbrella = False\n",
    "rain_level = 0.0\n",
    "have_hood = False\n",
    "is_workday = False\n",
    "\n",
    "# Check what the function returns given the current values of the variables above\n",
    "actual = prepared_for_weather(have_umbrella, rain_level, have_hood, is_workday)\n",
    "print(actual)\n",
    "\n",
    "# Check your answer\n",
    "q3.check()"
   ]
  },
  {
   "cell_type": "code",
   "execution_count": 9,
   "id": "81cfce90",
   "metadata": {
    "execution": {
     "iopub.execute_input": "2021-08-04T08:01:40.758228Z",
     "iopub.status.busy": "2021-08-04T08:01:40.757183Z",
     "iopub.status.idle": "2021-08-04T08:01:40.760152Z",
     "shell.execute_reply": "2021-08-04T08:01:40.759537Z",
     "shell.execute_reply.started": "2021-08-04T06:59:46.211299Z"
    },
    "papermill": {
     "duration": 0.04642,
     "end_time": "2021-08-04T08:01:40.760291",
     "exception": false,
     "start_time": "2021-08-04T08:01:40.713871",
     "status": "completed"
    },
    "tags": []
   },
   "outputs": [],
   "source": [
    "#q3.hint()\n",
    "# q3.solution()"
   ]
  },
  {
   "cell_type": "markdown",
   "id": "94b3e3b2",
   "metadata": {
    "papermill": {
     "duration": 0.037313,
     "end_time": "2021-08-04T08:01:40.831876",
     "exception": false,
     "start_time": "2021-08-04T08:01:40.794563",
     "status": "completed"
    },
    "tags": []
   },
   "source": [
    "# 4.\n",
    "\n",
    "The function `is_negative` below is implemented correctly - it returns True if the given number is negative and False otherwise.\n",
    "\n",
    "However, it's more verbose than it needs to be. We can actually reduce the number of lines of code in this function by *75%* while keeping the same behaviour. \n",
    "\n",
    "See if you can come up with an equivalent body that uses just **one line** of code, and put it in the function `concise_is_negative`. (HINT: you don't even need Python's ternary syntax)"
   ]
  },
  {
   "cell_type": "code",
   "execution_count": 10,
   "id": "a98fe321",
   "metadata": {
    "execution": {
     "iopub.execute_input": "2021-08-04T08:01:40.907799Z",
     "iopub.status.busy": "2021-08-04T08:01:40.906648Z",
     "iopub.status.idle": "2021-08-04T08:01:40.913543Z",
     "shell.execute_reply": "2021-08-04T08:01:40.912985Z",
     "shell.execute_reply.started": "2021-08-04T07:01:54.421876Z"
    },
    "papermill": {
     "duration": 0.047168,
     "end_time": "2021-08-04T08:01:40.913686",
     "exception": false,
     "start_time": "2021-08-04T08:01:40.866518",
     "status": "completed"
    },
    "tags": []
   },
   "outputs": [
    {
     "data": {
      "application/javascript": [
       "parent.postMessage({\"jupyterEvent\": \"custom.exercise_interaction\", \"data\": {\"outcomeType\": 1, \"valueTowardsCompletion\": 0.2, \"interactionType\": 1, \"questionType\": 2, \"questionId\": \"4_ConciseIsNegative\", \"learnToolsVersion\": \"0.3.4\", \"failureMessage\": \"\", \"exceptionClass\": \"\", \"trace\": \"\"}}, \"*\")"
      ],
      "text/plain": [
       "<IPython.core.display.Javascript object>"
      ]
     },
     "metadata": {},
     "output_type": "display_data"
    },
    {
     "data": {
      "text/markdown": [
       "<span style=\"color:#33cc33\">Correct</span>"
      ],
      "text/plain": [
       "Correct"
      ]
     },
     "metadata": {},
     "output_type": "display_data"
    }
   ],
   "source": [
    "def is_negative(number):\n",
    "    if number < 0: return True\n",
    "    else: return False\n",
    "\n",
    "def concise_is_negative(number):\n",
    "    return number < 0\n",
    "\n",
    "# Check your answer\n",
    "q4.check()"
   ]
  },
  {
   "cell_type": "code",
   "execution_count": 11,
   "id": "bf5f73a8",
   "metadata": {
    "execution": {
     "iopub.execute_input": "2021-08-04T08:01:40.989584Z",
     "iopub.status.busy": "2021-08-04T08:01:40.988591Z",
     "iopub.status.idle": "2021-08-04T08:01:40.991640Z",
     "shell.execute_reply": "2021-08-04T08:01:40.991111Z",
     "shell.execute_reply.started": "2021-08-04T07:01:51.367792Z"
    },
    "papermill": {
     "duration": 0.042948,
     "end_time": "2021-08-04T08:01:40.991788",
     "exception": false,
     "start_time": "2021-08-04T08:01:40.948840",
     "status": "completed"
    },
    "tags": []
   },
   "outputs": [],
   "source": [
    "# q4.hint()\n",
    "# q4.solution()"
   ]
  },
  {
   "cell_type": "markdown",
   "id": "941ea8db",
   "metadata": {
    "papermill": {
     "duration": 0.034411,
     "end_time": "2021-08-04T08:01:41.062041",
     "exception": false,
     "start_time": "2021-08-04T08:01:41.027630",
     "status": "completed"
    },
    "tags": []
   },
   "source": [
    "# 5a.\n",
    "\n",
    "The boolean variables `ketchup`, `mustard` and `onion` represent whether a customer wants a particular topping on their hot dog. We want to implement a number of boolean functions that correspond to some yes-or-no questions about the customer's order. For example:"
   ]
  },
  {
   "cell_type": "code",
   "execution_count": 12,
   "id": "e4b60803",
   "metadata": {
    "execution": {
     "iopub.execute_input": "2021-08-04T08:01:41.137456Z",
     "iopub.status.busy": "2021-08-04T08:01:41.136529Z",
     "iopub.status.idle": "2021-08-04T08:01:41.139138Z",
     "shell.execute_reply": "2021-08-04T08:01:41.139589Z"
    },
    "papermill": {
     "duration": 0.042242,
     "end_time": "2021-08-04T08:01:41.139762",
     "exception": false,
     "start_time": "2021-08-04T08:01:41.097520",
     "status": "completed"
    },
    "tags": []
   },
   "outputs": [],
   "source": [
    "def onionless(ketchup, mustard, onion):\n",
    "    \"\"\"Return whether the customer doesn't want onions.\n",
    "    \"\"\"\n",
    "    return not onion"
   ]
  },
  {
   "cell_type": "code",
   "execution_count": 13,
   "id": "1e25dfad",
   "metadata": {
    "execution": {
     "iopub.execute_input": "2021-08-04T08:01:41.229129Z",
     "iopub.status.busy": "2021-08-04T08:01:41.228469Z",
     "iopub.status.idle": "2021-08-04T08:01:41.235802Z",
     "shell.execute_reply": "2021-08-04T08:01:41.235116Z",
     "shell.execute_reply.started": "2021-08-04T07:04:20.396504Z"
    },
    "papermill": {
     "duration": 0.058422,
     "end_time": "2021-08-04T08:01:41.236089",
     "exception": false,
     "start_time": "2021-08-04T08:01:41.177667",
     "status": "completed"
    },
    "tags": []
   },
   "outputs": [
    {
     "data": {
      "application/javascript": [
       "parent.postMessage({\"jupyterEvent\": \"custom.exercise_interaction\", \"data\": {\"outcomeType\": 1, \"valueTowardsCompletion\": 0.2, \"interactionType\": 1, \"questionType\": 2, \"questionId\": \"5.1_AllToppings\", \"learnToolsVersion\": \"0.3.4\", \"failureMessage\": \"\", \"exceptionClass\": \"\", \"trace\": \"\"}}, \"*\")"
      ],
      "text/plain": [
       "<IPython.core.display.Javascript object>"
      ]
     },
     "metadata": {},
     "output_type": "display_data"
    },
    {
     "data": {
      "text/markdown": [
       "<span style=\"color:#33cc33\">Correct</span>"
      ],
      "text/plain": [
       "Correct"
      ]
     },
     "metadata": {},
     "output_type": "display_data"
    }
   ],
   "source": [
    "def wants_all_toppings(ketchup, mustard, onion):\n",
    "    \"\"\"Return whether the customer wants \"the works\" (all 3 toppings)\n",
    "    \"\"\"\n",
    "    return ketchup and mustard and onion\n",
    "\n",
    "# Check your answer\n",
    "q5.a.check()"
   ]
  },
  {
   "cell_type": "code",
   "execution_count": 14,
   "id": "b5b53023",
   "metadata": {
    "execution": {
     "iopub.execute_input": "2021-08-04T08:01:41.317770Z",
     "iopub.status.busy": "2021-08-04T08:01:41.317124Z",
     "iopub.status.idle": "2021-08-04T08:01:41.319813Z",
     "shell.execute_reply": "2021-08-04T08:01:41.320298Z",
     "shell.execute_reply.started": "2021-08-04T07:04:25.742392Z"
    },
    "papermill": {
     "duration": 0.043457,
     "end_time": "2021-08-04T08:01:41.320493",
     "exception": false,
     "start_time": "2021-08-04T08:01:41.277036",
     "status": "completed"
    },
    "tags": []
   },
   "outputs": [],
   "source": [
    "#q5.a.hint()\n",
    "# q5.a.solution()"
   ]
  },
  {
   "cell_type": "markdown",
   "id": "5babdf6b",
   "metadata": {
    "papermill": {
     "duration": 0.036005,
     "end_time": "2021-08-04T08:01:41.392627",
     "exception": false,
     "start_time": "2021-08-04T08:01:41.356622",
     "status": "completed"
    },
    "tags": []
   },
   "source": [
    "# 5b.\n",
    "\n",
    "For the next function, fill in the body to match the English description in the docstring. "
   ]
  },
  {
   "cell_type": "code",
   "execution_count": 15,
   "id": "930c5121",
   "metadata": {
    "execution": {
     "iopub.execute_input": "2021-08-04T08:01:41.470408Z",
     "iopub.status.busy": "2021-08-04T08:01:41.469788Z",
     "iopub.status.idle": "2021-08-04T08:01:41.475253Z",
     "shell.execute_reply": "2021-08-04T08:01:41.474702Z",
     "shell.execute_reply.started": "2021-08-04T07:05:26.772628Z"
    },
    "papermill": {
     "duration": 0.046755,
     "end_time": "2021-08-04T08:01:41.475389",
     "exception": false,
     "start_time": "2021-08-04T08:01:41.428634",
     "status": "completed"
    },
    "tags": []
   },
   "outputs": [
    {
     "data": {
      "application/javascript": [
       "parent.postMessage({\"jupyterEvent\": \"custom.exercise_interaction\", \"data\": {\"outcomeType\": 1, \"valueTowardsCompletion\": 0.2, \"interactionType\": 1, \"questionType\": 2, \"questionId\": \"5.2_PlainDog\", \"learnToolsVersion\": \"0.3.4\", \"failureMessage\": \"\", \"exceptionClass\": \"\", \"trace\": \"\"}}, \"*\")"
      ],
      "text/plain": [
       "<IPython.core.display.Javascript object>"
      ]
     },
     "metadata": {},
     "output_type": "display_data"
    },
    {
     "data": {
      "text/markdown": [
       "<span style=\"color:#33cc33\">Correct:</span> \n",
       "\n",
       "One solution looks like:\n",
       "```python\n",
       "return not ketchup and not mustard and not onion\n",
       "```\n",
       "\n",
       "We can also [\"factor out\" the nots](https://en.wikipedia.org/wiki/De_Morgan%27s_laws) to get:\n",
       "\n",
       "```python\n",
       "return not (ketchup or mustard or onion)\n",
       "```"
      ],
      "text/plain": [
       "Correct: \n",
       "\n",
       "One solution looks like:\n",
       "```python\n",
       "return not ketchup and not mustard and not onion\n",
       "```\n",
       "\n",
       "We can also [\"factor out\" the nots](https://en.wikipedia.org/wiki/De_Morgan%27s_laws) to get:\n",
       "\n",
       "```python\n",
       "return not (ketchup or mustard or onion)\n",
       "```"
      ]
     },
     "metadata": {},
     "output_type": "display_data"
    }
   ],
   "source": [
    "def wants_plain_hotdog(ketchup, mustard, onion):\n",
    "    \"\"\"Return whether the customer wants a plain hot dog with no toppings.\n",
    "    \"\"\"\n",
    "    return not ketchup and not mustard and not onion\n",
    "\n",
    "# Check your answer\n",
    "q5.b.check()"
   ]
  },
  {
   "cell_type": "code",
   "execution_count": 16,
   "id": "632874da",
   "metadata": {
    "execution": {
     "iopub.execute_input": "2021-08-04T08:01:41.554599Z",
     "iopub.status.busy": "2021-08-04T08:01:41.553827Z",
     "iopub.status.idle": "2021-08-04T08:01:41.556978Z",
     "shell.execute_reply": "2021-08-04T08:01:41.557420Z"
    },
    "papermill": {
     "duration": 0.044352,
     "end_time": "2021-08-04T08:01:41.557616",
     "exception": false,
     "start_time": "2021-08-04T08:01:41.513264",
     "status": "completed"
    },
    "tags": []
   },
   "outputs": [],
   "source": [
    "#q5.b.hint()\n",
    "#q5.b.solution()"
   ]
  },
  {
   "cell_type": "markdown",
   "id": "ea8bf1de",
   "metadata": {
    "papermill": {
     "duration": 0.037097,
     "end_time": "2021-08-04T08:01:41.632464",
     "exception": false,
     "start_time": "2021-08-04T08:01:41.595367",
     "status": "completed"
    },
    "tags": []
   },
   "source": [
    "# 5c.\n",
    "\n",
    "You know what to do: for the next function, fill in the body to match the English description in the docstring."
   ]
  },
  {
   "cell_type": "code",
   "execution_count": 17,
   "id": "9618b18e",
   "metadata": {
    "execution": {
     "iopub.execute_input": "2021-08-04T08:01:41.714819Z",
     "iopub.status.busy": "2021-08-04T08:01:41.713789Z",
     "iopub.status.idle": "2021-08-04T08:01:41.719661Z",
     "shell.execute_reply": "2021-08-04T08:01:41.719009Z",
     "shell.execute_reply.started": "2021-08-04T07:07:28.941805Z"
    },
    "papermill": {
     "duration": 0.050231,
     "end_time": "2021-08-04T08:01:41.719821",
     "exception": false,
     "start_time": "2021-08-04T08:01:41.669590",
     "status": "completed"
    },
    "tags": []
   },
   "outputs": [
    {
     "data": {
      "application/javascript": [
       "parent.postMessage({\"jupyterEvent\": \"custom.exercise_interaction\", \"data\": {\"outcomeType\": 1, \"valueTowardsCompletion\": 0.2, \"interactionType\": 1, \"questionType\": 2, \"questionId\": \"5.3_OneSauce\", \"learnToolsVersion\": \"0.3.4\", \"failureMessage\": \"\", \"exceptionClass\": \"\", \"trace\": \"\"}}, \"*\")"
      ],
      "text/plain": [
       "<IPython.core.display.Javascript object>"
      ]
     },
     "metadata": {},
     "output_type": "display_data"
    },
    {
     "data": {
      "text/markdown": [
       "<span style=\"color:#33cc33\">Correct</span>"
      ],
      "text/plain": [
       "Correct"
      ]
     },
     "metadata": {},
     "output_type": "display_data"
    }
   ],
   "source": [
    "def exactly_one_sauce(ketchup, mustard, onion):\n",
    "    \"\"\"Return whether the customer wants either ketchup or mustard, but not both.\n",
    "    (You may be familiar with this operation under the name \"exclusive or\")\n",
    "    \"\"\"\n",
    "    return (ketchup and not mustard) or (mustard and not ketchup)\n",
    "\n",
    "# Check your answer\n",
    "q5.c.check()"
   ]
  },
  {
   "cell_type": "code",
   "execution_count": 18,
   "id": "30e3d70c",
   "metadata": {
    "execution": {
     "iopub.execute_input": "2021-08-04T08:01:41.800728Z",
     "iopub.status.busy": "2021-08-04T08:01:41.800088Z",
     "iopub.status.idle": "2021-08-04T08:01:41.802599Z",
     "shell.execute_reply": "2021-08-04T08:01:41.802000Z",
     "shell.execute_reply.started": "2021-08-04T07:07:30.537891Z"
    },
    "papermill": {
     "duration": 0.044384,
     "end_time": "2021-08-04T08:01:41.802729",
     "exception": false,
     "start_time": "2021-08-04T08:01:41.758345",
     "status": "completed"
    },
    "tags": []
   },
   "outputs": [],
   "source": [
    "#q5.c.hint()\n",
    "# q5.c.solution()"
   ]
  },
  {
   "cell_type": "markdown",
   "id": "93cc7a5f",
   "metadata": {
    "papermill": {
     "duration": 0.037993,
     "end_time": "2021-08-04T08:01:41.879088",
     "exception": false,
     "start_time": "2021-08-04T08:01:41.841095",
     "status": "completed"
    },
    "tags": []
   },
   "source": [
    "# 6. <span title=\"A bit spicy\" style=\"color: darkgreen \">🌶️</span>\n",
    "\n",
    "We’ve seen that calling `bool()` on an integer returns `False` if it’s equal to 0 and `True` otherwise. What happens if we call `int()` on a bool? Try it out in the notebook cell below.\n",
    "\n",
    "Can you take advantage of this to write a succinct function that corresponds to the English sentence \"does the customer want exactly one topping?\"?"
   ]
  },
  {
   "cell_type": "code",
   "execution_count": 19,
   "id": "f742dcdb",
   "metadata": {
    "execution": {
     "iopub.execute_input": "2021-08-04T08:01:41.961528Z",
     "iopub.status.busy": "2021-08-04T08:01:41.960848Z",
     "iopub.status.idle": "2021-08-04T08:01:41.966144Z",
     "shell.execute_reply": "2021-08-04T08:01:41.965408Z",
     "shell.execute_reply.started": "2021-08-04T07:11:52.127382Z"
    },
    "papermill": {
     "duration": 0.048657,
     "end_time": "2021-08-04T08:01:41.966303",
     "exception": false,
     "start_time": "2021-08-04T08:01:41.917646",
     "status": "completed"
    },
    "tags": []
   },
   "outputs": [
    {
     "data": {
      "application/javascript": [
       "parent.postMessage({\"jupyterEvent\": \"custom.exercise_interaction\", \"data\": {\"outcomeType\": 1, \"valueTowardsCompletion\": 0.2, \"interactionType\": 1, \"questionType\": 2, \"questionId\": \"6_OneTopping\", \"learnToolsVersion\": \"0.3.4\", \"failureMessage\": \"\", \"exceptionClass\": \"\", \"trace\": \"\"}}, \"*\")"
      ],
      "text/plain": [
       "<IPython.core.display.Javascript object>"
      ]
     },
     "metadata": {},
     "output_type": "display_data"
    },
    {
     "data": {
      "text/markdown": [
       "<span style=\"color:#33cc33\">Correct:</span> \n",
       "\n",
       "This condition would be pretty complicated to express using just `and`, `or` and `not`, but using boolean-to-integer conversion gives us this short solution:\n",
       "```python\n",
       "return (int(ketchup) + int(mustard) + int(onion)) == 1\n",
       "```\n",
       "\n",
       "Fun fact: we don't technically need to call `int` on the arguments. Just by doing addition with booleans, Python implicitly does the integer conversion. So we could also write...\n",
       "\n",
       "```python\n",
       "return (ketchup + mustard + onion) == 1\n",
       "```"
      ],
      "text/plain": [
       "Correct: \n",
       "\n",
       "This condition would be pretty complicated to express using just `and`, `or` and `not`, but using boolean-to-integer conversion gives us this short solution:\n",
       "```python\n",
       "return (int(ketchup) + int(mustard) + int(onion)) == 1\n",
       "```\n",
       "\n",
       "Fun fact: we don't technically need to call `int` on the arguments. Just by doing addition with booleans, Python implicitly does the integer conversion. So we could also write...\n",
       "\n",
       "```python\n",
       "return (ketchup + mustard + onion) == 1\n",
       "```"
      ]
     },
     "metadata": {},
     "output_type": "display_data"
    }
   ],
   "source": [
    "def exactly_one_topping(ketchup, mustard, onion):\n",
    "    \"\"\"Return whether the customer wants exactly one of the three available toppings\n",
    "    on their hot dog.\n",
    "    \"\"\"\n",
    "    return (ketchup + mustard + onion) == 1\n",
    "\n",
    "# Check your answer\n",
    "q6.check()"
   ]
  },
  {
   "cell_type": "code",
   "execution_count": 20,
   "id": "e6a0ceee",
   "metadata": {
    "execution": {
     "iopub.execute_input": "2021-08-04T08:01:42.049658Z",
     "iopub.status.busy": "2021-08-04T08:01:42.049006Z",
     "iopub.status.idle": "2021-08-04T08:01:42.052120Z",
     "shell.execute_reply": "2021-08-04T08:01:42.051500Z"
    },
    "papermill": {
     "duration": 0.046295,
     "end_time": "2021-08-04T08:01:42.052257",
     "exception": false,
     "start_time": "2021-08-04T08:01:42.005962",
     "status": "completed"
    },
    "tags": []
   },
   "outputs": [],
   "source": [
    "#q6.hint()\n",
    "#q6.solution()"
   ]
  },
  {
   "cell_type": "markdown",
   "id": "19df8e15",
   "metadata": {
    "papermill": {
     "duration": 0.039983,
     "end_time": "2021-08-04T08:01:42.131942",
     "exception": false,
     "start_time": "2021-08-04T08:01:42.091959",
     "status": "completed"
    },
    "tags": []
   },
   "source": [
    "# 7. <span title=\"A bit spicy\" style=\"color: darkgreen \">🌶️</span> (Optional)\n",
    "\n",
    "In this problem we'll be working with a simplified version of [blackjack](https://en.wikipedia.org/wiki/Blackjack) (aka twenty-one). In this version there is one player (who you'll control) and a dealer. Play proceeds as follows:\n",
    "\n",
    "- The player is dealt two face-up cards. The dealer is dealt one face-up card.\n",
    "- The player may ask to be dealt another card ('hit') as many times as they wish. If the sum of their cards exceeds 21, they lose the round immediately.\n",
    "- The dealer then deals additional cards to himself until either:\n",
    "    - the sum of the dealer's cards exceeds 21, in which case the player wins the round\n",
    "    - the sum of the dealer's cards is greater than or equal to 17. If the player's total is greater than the dealer's, the player wins. Otherwise, the dealer wins (even in case of a tie).\n",
    "    \n",
    "When calculating the sum of cards, Jack, Queen, and King count for 10. Aces can count as 1 or 11 (when referring to a player's \"total\" above, we mean the largest total that can be made without exceeding 21. So e.g. A+8 = 19, A+8+8 = 17)\n",
    "\n",
    "For this problem, you'll write a function representing the player's decision-making strategy in this game. We've provided a very unintelligent implementation below:"
   ]
  },
  {
   "cell_type": "code",
   "execution_count": 21,
   "id": "4294969f",
   "metadata": {
    "execution": {
     "iopub.execute_input": "2021-08-04T08:01:42.219841Z",
     "iopub.status.busy": "2021-08-04T08:01:42.219122Z",
     "iopub.status.idle": "2021-08-04T08:01:42.222455Z",
     "shell.execute_reply": "2021-08-04T08:01:42.221909Z",
     "shell.execute_reply.started": "2021-08-04T07:23:41.560319Z"
    },
    "papermill": {
     "duration": 0.051318,
     "end_time": "2021-08-04T08:01:42.222608",
     "exception": false,
     "start_time": "2021-08-04T08:01:42.171290",
     "status": "completed"
    },
    "tags": []
   },
   "outputs": [],
   "source": [
    "def should_hit(dealer_total, player_total, player_low_aces, player_high_aces):\n",
    "    \"\"\"Return True if the player should hit (request another card) given the current game\n",
    "    state, or False if the player should stay.\n",
    "    When calculating a hand's total value, we count aces as \"high\" (with value 11) if doing so\n",
    "    doesn't bring the total above 21, otherwise we count them as low (with value 1). \n",
    "    For example, if the player's hand is {A, A, A, 7}, we will count it as 11 + 1 + 1 + 7,\n",
    "    and therefore set player_total=20, player_low_aces=2, player_high_aces=1.\n",
    "    \"\"\"\n",
    "    return False"
   ]
  },
  {
   "cell_type": "markdown",
   "id": "6ac56a9f",
   "metadata": {
    "papermill": {
     "duration": 0.047966,
     "end_time": "2021-08-04T08:01:42.324343",
     "exception": false,
     "start_time": "2021-08-04T08:01:42.276377",
     "status": "completed"
    },
    "tags": []
   },
   "source": [
    "This very conservative agent *always* sticks with the hand of two cards that they're dealt.\n",
    "\n",
    "We'll be simulating games between your player agent and our own dealer agent by calling your function.\n",
    "\n",
    "Try running the function below to see an example of a simulated game:"
   ]
  },
  {
   "cell_type": "code",
   "execution_count": 22,
   "id": "f167f2c7",
   "metadata": {
    "execution": {
     "iopub.execute_input": "2021-08-04T08:01:42.408206Z",
     "iopub.status.busy": "2021-08-04T08:01:42.407541Z",
     "iopub.status.idle": "2021-08-04T08:01:42.410725Z",
     "shell.execute_reply": "2021-08-04T08:01:42.411203Z",
     "shell.execute_reply.started": "2021-08-04T07:23:43.924798Z"
    },
    "papermill": {
     "duration": 0.047687,
     "end_time": "2021-08-04T08:01:42.411383",
     "exception": false,
     "start_time": "2021-08-04T08:01:42.363696",
     "status": "completed"
    },
    "tags": []
   },
   "outputs": [
    {
     "name": "stdout",
     "output_type": "stream",
     "text": [
      "Player starts with Q and 4 (total = 14)\n",
      "Dealer starts with 9\n",
      "\n",
      "__Player's turn__\n",
      "Player stays\n",
      "\n",
      "__Dealer's turn__\n",
      "Dealer hits and receives 7. (total = 16)\n",
      "Dealer hits and receives 7. (total = 23)\n",
      "Dealer busts! Player wins.\n"
     ]
    }
   ],
   "source": [
    "q7.simulate_one_game()"
   ]
  },
  {
   "cell_type": "markdown",
   "id": "e847dd0c",
   "metadata": {
    "papermill": {
     "duration": 0.039387,
     "end_time": "2021-08-04T08:01:42.490696",
     "exception": false,
     "start_time": "2021-08-04T08:01:42.451309",
     "status": "completed"
    },
    "tags": []
   },
   "source": [
    "The real test of your agent's mettle is their average win rate over many games. Try calling the function below to simulate 50000 games of blackjack (it may take a couple seconds):"
   ]
  },
  {
   "cell_type": "code",
   "execution_count": 23,
   "id": "faaa9919",
   "metadata": {
    "execution": {
     "iopub.execute_input": "2021-08-04T08:01:42.580360Z",
     "iopub.status.busy": "2021-08-04T08:01:42.579490Z",
     "iopub.status.idle": "2021-08-04T08:01:44.554645Z",
     "shell.execute_reply": "2021-08-04T08:01:44.554100Z",
     "shell.execute_reply.started": "2021-08-04T07:27:18.677227Z"
    },
    "papermill": {
     "duration": 2.02323,
     "end_time": "2021-08-04T08:01:44.554783",
     "exception": false,
     "start_time": "2021-08-04T08:01:42.531553",
     "status": "completed"
    },
    "tags": []
   },
   "outputs": [
    {
     "name": "stdout",
     "output_type": "stream",
     "text": [
      "Player won 19160 out of 50000 games (win rate = 38.3%)\n"
     ]
    }
   ],
   "source": [
    "q7.simulate(n_games=50000)"
   ]
  },
  {
   "cell_type": "markdown",
   "id": "66ba5bfd",
   "metadata": {
    "papermill": {
     "duration": 0.040256,
     "end_time": "2021-08-04T08:01:44.636506",
     "exception": false,
     "start_time": "2021-08-04T08:01:44.596250",
     "status": "completed"
    },
    "tags": []
   },
   "source": [
    "Our dumb agent that completely ignores the game state still manages to win shockingly often!\n",
    "\n",
    "Try adding some more smarts to the `should_hit` function and see how it affects the results."
   ]
  },
  {
   "cell_type": "code",
   "execution_count": 24,
   "id": "6eaf6d75",
   "metadata": {
    "execution": {
     "iopub.execute_input": "2021-08-04T08:01:44.765632Z",
     "iopub.status.busy": "2021-08-04T08:01:44.750145Z",
     "iopub.status.idle": "2021-08-04T08:01:46.848865Z",
     "shell.execute_reply": "2021-08-04T08:01:46.849390Z",
     "shell.execute_reply.started": "2021-08-04T07:58:10.256421Z"
    },
    "papermill": {
     "duration": 2.173115,
     "end_time": "2021-08-04T08:01:46.849579",
     "exception": false,
     "start_time": "2021-08-04T08:01:44.676464",
     "status": "completed"
    },
    "tags": []
   },
   "outputs": [
    {
     "name": "stdout",
     "output_type": "stream",
     "text": [
      "Player won 20577 out of 50000 games (win rate = 41.2%)\n"
     ]
    }
   ],
   "source": [
    "def should_hit(dealer_total, player_total, player_low_aces, player_high_aces):\n",
    "    \"\"\"Return True if the player should hit (request another card) given the current game\n",
    "    state, or False if the player should stay.\n",
    "    When calculating a hand's total value, we count aces as \"high\" (with value 11) if doing so\n",
    "    doesn't bring the total above 21, otherwise we count them as low (with value 1). \n",
    "    For example, if the player's hand is {A, A, A, 7}, we will count it as 11 + 1 + 1 + 7,\n",
    "    and therefore set player_total=20, player_low_aces=2, player_high_aces=1.\n",
    "    \"\"\"\n",
    "    \n",
    "    if player_total<=17: \n",
    "        \n",
    "        remainder = player_total%10\n",
    "        \n",
    "        if remainder<dealer_total: return True\n",
    "        else: return False\n",
    "        \n",
    "    else: return False\n",
    "\n",
    "q7.simulate(n_games=50000)"
   ]
  },
  {
   "cell_type": "markdown",
   "id": "5b09f389",
   "metadata": {
    "papermill": {
     "duration": 0.040429,
     "end_time": "2021-08-04T08:01:46.930561",
     "exception": false,
     "start_time": "2021-08-04T08:01:46.890132",
     "status": "completed"
    },
    "tags": []
   },
   "source": [
    "# Keep Going\n",
    "\n",
    "Learn about **[lists and tuples](https://www.kaggle.com/colinmorris/lists)** to handle multiple items of data in a systematic way."
   ]
  },
  {
   "cell_type": "markdown",
   "id": "3a9410ea",
   "metadata": {
    "papermill": {
     "duration": 0.040319,
     "end_time": "2021-08-04T08:01:47.012054",
     "exception": false,
     "start_time": "2021-08-04T08:01:46.971735",
     "status": "completed"
    },
    "tags": []
   },
   "source": [
    "---\n",
    "\n",
    "\n",
    "\n",
    "\n",
    "*Have questions or comments? Visit the [Learn Discussion forum](https://www.kaggle.com/learn-forum/161283) to chat with other Learners.*"
   ]
  }
 ],
 "metadata": {
  "kernelspec": {
   "display_name": "Python 3",
   "language": "python",
   "name": "python3"
  },
  "language_info": {
   "codemirror_mode": {
    "name": "ipython",
    "version": 3
   },
   "file_extension": ".py",
   "mimetype": "text/x-python",
   "name": "python",
   "nbconvert_exporter": "python",
   "pygments_lexer": "ipython3",
   "version": "3.7.10"
  },
  "papermill": {
   "default_parameters": {},
   "duration": 16.767379,
   "end_time": "2021-08-04T08:01:48.525656",
   "environment_variables": {},
   "exception": null,
   "input_path": "__notebook__.ipynb",
   "output_path": "__notebook__.ipynb",
   "parameters": {},
   "start_time": "2021-08-04T08:01:31.758277",
   "version": "2.3.3"
  }
 },
 "nbformat": 4,
 "nbformat_minor": 5
}
