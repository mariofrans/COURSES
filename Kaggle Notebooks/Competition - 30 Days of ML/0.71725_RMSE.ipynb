{
 "cells": [
  {
   "cell_type": "code",
   "execution_count": 1,
   "id": "5b025e48",
   "metadata": {
    "_cell_guid": "b1076dfc-b9ad-4769-8c92-a6c4dae69d19",
    "_uuid": "8f2839f25d086af736a60e9eeb907d3b93b6e0e5",
    "execution": {
     "iopub.execute_input": "2021-08-26T15:36:05.647255Z",
     "iopub.status.busy": "2021-08-26T15:36:05.646409Z",
     "iopub.status.idle": "2021-08-26T15:36:06.920708Z",
     "shell.execute_reply": "2021-08-26T15:36:06.921375Z",
     "shell.execute_reply.started": "2021-08-26T15:33:34.011687Z"
    },
    "papermill": {
     "duration": 1.294018,
     "end_time": "2021-08-26T15:36:06.921775",
     "exception": false,
     "start_time": "2021-08-26T15:36:05.627757",
     "status": "completed"
    },
    "tags": []
   },
   "outputs": [],
   "source": [
    "import numpy as np # linear algebra\n",
    "import pandas as pd # data processing, CSV file I/O (e.g. pd.read_csv)\n",
    "from xgboost import XGBRegressor\n",
    "from sklearn.metrics import mean_squared_error"
   ]
  },
  {
   "cell_type": "code",
   "execution_count": 2,
   "id": "e70379c5",
   "metadata": {
    "execution": {
     "iopub.execute_input": "2021-08-26T15:36:06.940673Z",
     "iopub.status.busy": "2021-08-26T15:36:06.939987Z",
     "iopub.status.idle": "2021-08-26T15:36:11.052793Z",
     "shell.execute_reply": "2021-08-26T15:36:11.053715Z",
     "shell.execute_reply.started": "2021-08-26T15:32:39.907623Z"
    },
    "papermill": {
     "duration": 4.125762,
     "end_time": "2021-08-26T15:36:11.053967",
     "exception": false,
     "start_time": "2021-08-26T15:36:06.928205",
     "status": "completed"
    },
    "tags": []
   },
   "outputs": [],
   "source": [
    "df = pd.read_csv(\"/kaggle/input/level1-stack/level1_train_fold.csv\")\n",
    "df_test = pd.read_csv(\"/kaggle/input/level1-stack/level1_test.csv\")\n",
    "submission = pd.read_csv(\"/kaggle/input/30-days-of-ml/sample_submission.csv\")"
   ]
  },
  {
   "cell_type": "code",
   "execution_count": 3,
   "id": "8432d97d",
   "metadata": {
    "execution": {
     "iopub.execute_input": "2021-08-26T15:36:11.069239Z",
     "iopub.status.busy": "2021-08-26T15:36:11.068263Z",
     "iopub.status.idle": "2021-08-26T15:37:47.537577Z",
     "shell.execute_reply": "2021-08-26T15:37:47.538654Z",
     "shell.execute_reply.started": "2021-08-26T15:33:37.235096Z"
    },
    "papermill": {
     "duration": 96.479004,
     "end_time": "2021-08-26T15:37:47.538913",
     "exception": false,
     "start_time": "2021-08-26T15:36:11.059909",
     "status": "completed"
    },
    "tags": []
   },
   "outputs": [
    {
     "name": "stdout",
     "output_type": "stream",
     "text": [
      "[0]\tvalidation_0-rmse:7.67397\n",
      "[1000]\tvalidation_0-rmse:0.71545\n",
      "[1128]\tvalidation_0-rmse:0.71545\n",
      "0 0.7154446335698168\n",
      "[0]\tvalidation_0-rmse:7.67067\n",
      "[929]\tvalidation_0-rmse:0.71567\n",
      "1 0.7156642571897134\n",
      "[0]\tvalidation_0-rmse:7.66850\n",
      "[862]\tvalidation_0-rmse:0.71734\n",
      "2 0.7173161748118784\n",
      "[0]\tvalidation_0-rmse:7.67068\n",
      "[946]\tvalidation_0-rmse:0.71744\n",
      "3 0.7174361980275737\n",
      "[0]\tvalidation_0-rmse:7.67614\n",
      "[1000]\tvalidation_0-rmse:0.71542\n",
      "[1137]\tvalidation_0-rmse:0.71541\n",
      "4 0.7153932978374538\n",
      "0.7162509122872871 0.0009240604580592287\n"
     ]
    }
   ],
   "source": [
    "useful_features = ['pred_1', 'pred_2', 'pred_3']\n",
    "df_test = df_test[useful_features]\n",
    "\n",
    "final_predictions = []\n",
    "scores = []\n",
    "for fold in range(5):\n",
    "    xtrain =  df[df.kfold != fold].reset_index(drop=True)\n",
    "    xvalid = df[df.kfold == fold].reset_index(drop=True)\n",
    "    xtest = df_test.copy()\n",
    "\n",
    "    ytrain = xtrain.target\n",
    "    yvalid = xvalid.target\n",
    "    \n",
    "    xtrain = xtrain[useful_features]\n",
    "    xvalid = xvalid[useful_features]\n",
    "    \n",
    "    params = {\n",
    "            'n_estimators': 10000,\n",
    "            'lambda': 0.002737255187493384,\n",
    "             'alpha': 7.1401361029365435e-06,\n",
    "             'colsample_bytree': 0.0943116642365347,\n",
    "             'subsample': 0.14136126196670723,\n",
    "             'learning_rate': 0.013736831072935482,\n",
    "             'max_depth': 1,\n",
    "             'min_child_weight': 114\n",
    "            }\n",
    "    \n",
    "    # Define the model \n",
    "    model = XGBRegressor(random_state=fold, n_jobs=4, **params)\n",
    "\n",
    "    # Train the model (will take about 10 minutes to run)\n",
    "    model.fit(xtrain, ytrain, early_stopping_rounds=300, eval_set=[(xvalid, yvalid)], verbose=1000)\n",
    "    \n",
    "    preds_valid = model.predict(xvalid)\n",
    "    test_preds = model.predict(xtest)\n",
    "    final_predictions.append(test_preds)\n",
    "    rmse = mean_squared_error(yvalid, preds_valid, squared=False)\n",
    "    print(fold, rmse)\n",
    "    scores.append(rmse)\n",
    "\n",
    "print(np.mean(scores), np.std(scores))"
   ]
  },
  {
   "cell_type": "code",
   "execution_count": 4,
   "id": "e0e749e5",
   "metadata": {
    "execution": {
     "iopub.execute_input": "2021-08-26T15:37:47.563942Z",
     "iopub.status.busy": "2021-08-26T15:37:47.563228Z",
     "iopub.status.idle": "2021-08-26T15:37:48.148659Z",
     "shell.execute_reply": "2021-08-26T15:37:48.148093Z"
    },
    "papermill": {
     "duration": 0.599338,
     "end_time": "2021-08-26T15:37:48.148815",
     "exception": false,
     "start_time": "2021-08-26T15:37:47.549477",
     "status": "completed"
    },
    "tags": []
   },
   "outputs": [],
   "source": [
    "submission['target'] = np.mean(np.column_stack(final_predictions), axis=1)\n",
    "submission.to_csv('submission.csv', index=False)"
   ]
  },
  {
   "cell_type": "code",
   "execution_count": null,
   "id": "42172252",
   "metadata": {
    "papermill": {
     "duration": 0.008884,
     "end_time": "2021-08-26T15:37:48.167299",
     "exception": false,
     "start_time": "2021-08-26T15:37:48.158415",
     "status": "completed"
    },
    "tags": []
   },
   "outputs": [],
   "source": []
  }
 ],
 "metadata": {
  "kernelspec": {
   "display_name": "Python 3",
   "language": "python",
   "name": "python3"
  },
  "language_info": {
   "codemirror_mode": {
    "name": "ipython",
    "version": 3
   },
   "file_extension": ".py",
   "mimetype": "text/x-python",
   "name": "python",
   "nbconvert_exporter": "python",
   "pygments_lexer": "ipython3",
   "version": "3.7.10"
  },
  "papermill": {
   "default_parameters": {},
   "duration": 112.879049,
   "end_time": "2021-08-26T15:37:49.643347",
   "environment_variables": {},
   "exception": null,
   "input_path": "__notebook__.ipynb",
   "output_path": "__notebook__.ipynb",
   "parameters": {},
   "start_time": "2021-08-26T15:35:56.764298",
   "version": "2.3.3"
  }
 },
 "nbformat": 4,
 "nbformat_minor": 5
}
