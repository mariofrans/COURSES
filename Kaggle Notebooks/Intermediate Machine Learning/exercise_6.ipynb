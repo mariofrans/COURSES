{
 "cells": [
  {
   "cell_type": "markdown",
   "id": "5098082c",
   "metadata": {
    "papermill": {
     "duration": 0.01645,
     "end_time": "2021-08-05T09:57:44.938021",
     "exception": false,
     "start_time": "2021-08-05T09:57:44.921571",
     "status": "completed"
    },
    "tags": []
   },
   "source": [
    "**This notebook is an exercise in the [Intermediate Machine Learning](https://www.kaggle.com/learn/intermediate-machine-learning) course.  You can reference the tutorial at [this link](https://www.kaggle.com/alexisbcook/xgboost).**\n",
    "\n",
    "---\n"
   ]
  },
  {
   "cell_type": "markdown",
   "id": "274e809e",
   "metadata": {
    "papermill": {
     "duration": 0.015037,
     "end_time": "2021-08-05T09:57:44.969072",
     "exception": false,
     "start_time": "2021-08-05T09:57:44.954035",
     "status": "completed"
    },
    "tags": []
   },
   "source": [
    "In this exercise, you will use your new knowledge to train a model with **gradient boosting**.\n",
    "\n",
    "# Setup\n",
    "\n",
    "The questions below will give you feedback on your work. Run the following cell to set up the feedback system."
   ]
  },
  {
   "cell_type": "code",
   "execution_count": 1,
   "id": "39d7f8ee",
   "metadata": {
    "execution": {
     "iopub.execute_input": "2021-08-05T09:57:45.010999Z",
     "iopub.status.busy": "2021-08-05T09:57:45.009991Z",
     "iopub.status.idle": "2021-08-05T09:57:47.190029Z",
     "shell.execute_reply": "2021-08-05T09:57:47.190719Z",
     "shell.execute_reply.started": "2021-08-05T09:39:42.422308Z"
    },
    "papermill": {
     "duration": 2.206571,
     "end_time": "2021-08-05T09:57:47.191031",
     "exception": false,
     "start_time": "2021-08-05T09:57:44.984460",
     "status": "completed"
    },
    "tags": []
   },
   "outputs": [
    {
     "name": "stdout",
     "output_type": "stream",
     "text": [
      "Setup Complete\n"
     ]
    }
   ],
   "source": [
    "# Set up code checking\n",
    "import os\n",
    "if not os.path.exists(\"../input/train.csv\"):\n",
    "    os.symlink(\"../input/home-data-for-ml-course/train.csv\", \"../input/train.csv\")  \n",
    "    os.symlink(\"../input/home-data-for-ml-course/test.csv\", \"../input/test.csv\") \n",
    "from learntools.core import binder\n",
    "binder.bind(globals())\n",
    "from learntools.ml_intermediate.ex6 import *\n",
    "print(\"Setup Complete\")"
   ]
  },
  {
   "cell_type": "markdown",
   "id": "a0c62fd0",
   "metadata": {
    "papermill": {
     "duration": 0.015795,
     "end_time": "2021-08-05T09:57:47.223881",
     "exception": false,
     "start_time": "2021-08-05T09:57:47.208086",
     "status": "completed"
    },
    "tags": []
   },
   "source": [
    "You will work with the [Housing Prices Competition for Kaggle Learn Users](https://www.kaggle.com/c/home-data-for-ml-course) dataset from the previous exercise. \n",
    "\n",
    "![Ames Housing dataset image](https://i.imgur.com/lTJVG4e.png)\n",
    "\n",
    "Run the next code cell without changes to load the training and validation sets in `X_train`, `X_valid`, `y_train`, and `y_valid`.  The test set is loaded in `X_test`."
   ]
  },
  {
   "cell_type": "code",
   "execution_count": 2,
   "id": "9f56fff3",
   "metadata": {
    "execution": {
     "iopub.execute_input": "2021-08-05T09:57:47.267541Z",
     "iopub.status.busy": "2021-08-05T09:57:47.266310Z",
     "iopub.status.idle": "2021-08-05T09:57:47.491907Z",
     "shell.execute_reply": "2021-08-05T09:57:47.491294Z",
     "shell.execute_reply.started": "2021-08-05T09:39:57.278480Z"
    },
    "papermill": {
     "duration": 0.252139,
     "end_time": "2021-08-05T09:57:47.492048",
     "exception": false,
     "start_time": "2021-08-05T09:57:47.239909",
     "status": "completed"
    },
    "tags": []
   },
   "outputs": [],
   "source": [
    "import pandas as pd\n",
    "from sklearn.model_selection import train_test_split\n",
    "\n",
    "# Read the data\n",
    "X = pd.read_csv('../input/train.csv', index_col='Id')\n",
    "X_test_full = pd.read_csv('../input/test.csv', index_col='Id')\n",
    "\n",
    "# Remove rows with missing target, separate target from predictors\n",
    "X.dropna(axis=0, subset=['SalePrice'], inplace=True)\n",
    "y = X.SalePrice              \n",
    "X.drop(['SalePrice'], axis=1, inplace=True)\n",
    "\n",
    "# Break off validation set from training data\n",
    "X_train_full, X_valid_full, y_train, y_valid = train_test_split(X, y, train_size=0.8, test_size=0.2,\n",
    "                                                                random_state=0)\n",
    "\n",
    "# \"Cardinality\" means the number of unique values in a column\n",
    "# Select categorical columns with relatively low cardinality (convenient but arbitrary)\n",
    "low_cardinality_cols = [cname for cname in X_train_full.columns if X_train_full[cname].nunique() < 10 and \n",
    "                        X_train_full[cname].dtype == \"object\"]\n",
    "\n",
    "# Select numeric columns\n",
    "numeric_cols = [cname for cname in X_train_full.columns if X_train_full[cname].dtype in ['int64', 'float64']]\n",
    "\n",
    "# Keep selected columns only\n",
    "my_cols = low_cardinality_cols + numeric_cols\n",
    "X_train = X_train_full[my_cols].copy()\n",
    "X_valid = X_valid_full[my_cols].copy()\n",
    "X_test = X_test_full[my_cols].copy()\n",
    "\n",
    "# One-hot encode the data (to shorten the code, we use pandas)\n",
    "X_train = pd.get_dummies(X_train)\n",
    "X_valid = pd.get_dummies(X_valid)\n",
    "X_test = pd.get_dummies(X_test)\n",
    "X_train, X_valid = X_train.align(X_valid, join='left', axis=1)\n",
    "X_train, X_test = X_train.align(X_test, join='left', axis=1)"
   ]
  },
  {
   "cell_type": "markdown",
   "id": "5fdf1d7c",
   "metadata": {
    "papermill": {
     "duration": 0.015623,
     "end_time": "2021-08-05T09:57:47.523362",
     "exception": false,
     "start_time": "2021-08-05T09:57:47.507739",
     "status": "completed"
    },
    "tags": []
   },
   "source": [
    "# Step 1: Build model\n",
    "\n",
    "### Part A\n",
    "\n",
    "In this step, you'll build and train your first model with gradient boosting.\n",
    "\n",
    "- Begin by setting `my_model_1` to an XGBoost model.  Use the [XGBRegressor](https://xgboost.readthedocs.io/en/latest/python/python_api.html#xgboost.XGBRegressor) class, and set the random seed to 0 (`random_state=0`).  **Leave all other parameters as default.**\n",
    "- Then, fit the model to the training data in `X_train` and `y_train`."
   ]
  },
  {
   "cell_type": "code",
   "execution_count": 3,
   "id": "ba68d695",
   "metadata": {
    "execution": {
     "iopub.execute_input": "2021-08-05T09:57:47.560436Z",
     "iopub.status.busy": "2021-08-05T09:57:47.559807Z",
     "iopub.status.idle": "2021-08-05T09:57:49.074401Z",
     "shell.execute_reply": "2021-08-05T09:57:49.073887Z",
     "shell.execute_reply.started": "2021-08-05T09:41:59.638512Z"
    },
    "papermill": {
     "duration": 1.535344,
     "end_time": "2021-08-05T09:57:49.074541",
     "exception": false,
     "start_time": "2021-08-05T09:57:47.539197",
     "status": "completed"
    },
    "tags": []
   },
   "outputs": [
    {
     "data": {
      "application/javascript": [
       "parent.postMessage({\"jupyterEvent\": \"custom.exercise_interaction\", \"data\": {\"outcomeType\": 1, \"valueTowardsCompletion\": 0.5, \"interactionType\": 1, \"questionType\": 2, \"questionId\": \"1.1_Model1A\", \"learnToolsVersion\": \"0.3.4\", \"failureMessage\": \"\", \"exceptionClass\": \"\", \"trace\": \"\"}}, \"*\")"
      ],
      "text/plain": [
       "<IPython.core.display.Javascript object>"
      ]
     },
     "metadata": {},
     "output_type": "display_data"
    },
    {
     "data": {
      "text/markdown": [
       "<span style=\"color:#33cc33\">Correct</span>"
      ],
      "text/plain": [
       "Correct"
      ]
     },
     "metadata": {},
     "output_type": "display_data"
    }
   ],
   "source": [
    "from xgboost import XGBRegressor\n",
    "\n",
    "# Define the model\n",
    "my_model_1 = XGBRegressor()\n",
    "\n",
    "# Fit the model\n",
    "my_model_1.fit(X_train, y_train)\n",
    "\n",
    "# Check your answer\n",
    "step_1.a.check()"
   ]
  },
  {
   "cell_type": "code",
   "execution_count": 4,
   "id": "de7b1b3b",
   "metadata": {
    "execution": {
     "iopub.execute_input": "2021-08-05T09:57:49.113649Z",
     "iopub.status.busy": "2021-08-05T09:57:49.112934Z",
     "iopub.status.idle": "2021-08-05T09:57:49.117103Z",
     "shell.execute_reply": "2021-08-05T09:57:49.117564Z"
    },
    "papermill": {
     "duration": 0.026508,
     "end_time": "2021-08-05T09:57:49.117767",
     "exception": false,
     "start_time": "2021-08-05T09:57:49.091259",
     "status": "completed"
    },
    "tags": []
   },
   "outputs": [],
   "source": [
    "# Lines below will give you a hint or solution code\n",
    "#step_1.a.hint()\n",
    "#step_1.a.solution()"
   ]
  },
  {
   "cell_type": "markdown",
   "id": "09ca7379",
   "metadata": {
    "papermill": {
     "duration": 0.016528,
     "end_time": "2021-08-05T09:57:49.151336",
     "exception": false,
     "start_time": "2021-08-05T09:57:49.134808",
     "status": "completed"
    },
    "tags": []
   },
   "source": [
    "### Part B\n",
    "\n",
    "Set `predictions_1` to the model's predictions for the validation data.  Recall that the validation features are stored in `X_valid`."
   ]
  },
  {
   "cell_type": "code",
   "execution_count": 5,
   "id": "0dcd5f34",
   "metadata": {
    "execution": {
     "iopub.execute_input": "2021-08-05T09:57:49.187975Z",
     "iopub.status.busy": "2021-08-05T09:57:49.187274Z",
     "iopub.status.idle": "2021-08-05T09:57:49.208143Z",
     "shell.execute_reply": "2021-08-05T09:57:49.208688Z",
     "shell.execute_reply.started": "2021-08-05T09:45:48.957980Z"
    },
    "papermill": {
     "duration": 0.040787,
     "end_time": "2021-08-05T09:57:49.208898",
     "exception": false,
     "start_time": "2021-08-05T09:57:49.168111",
     "status": "completed"
    },
    "tags": []
   },
   "outputs": [
    {
     "data": {
      "application/javascript": [
       "parent.postMessage({\"jupyterEvent\": \"custom.exercise_interaction\", \"data\": {\"outcomeType\": 1, \"valueTowardsCompletion\": 0.5, \"interactionType\": 1, \"questionType\": 2, \"questionId\": \"1.2_Model1B\", \"learnToolsVersion\": \"0.3.4\", \"failureMessage\": \"\", \"exceptionClass\": \"\", \"trace\": \"\"}}, \"*\")"
      ],
      "text/plain": [
       "<IPython.core.display.Javascript object>"
      ]
     },
     "metadata": {},
     "output_type": "display_data"
    },
    {
     "data": {
      "text/markdown": [
       "<span style=\"color:#33cc33\">Correct</span>"
      ],
      "text/plain": [
       "Correct"
      ]
     },
     "metadata": {},
     "output_type": "display_data"
    }
   ],
   "source": [
    "from sklearn.metrics import mean_absolute_error\n",
    "\n",
    "# Get predictions\n",
    "predictions_1 = my_model_1.predict(X_valid)\n",
    "\n",
    "# Check your answer\n",
    "step_1.b.check()"
   ]
  },
  {
   "cell_type": "code",
   "execution_count": 6,
   "id": "61431bbc",
   "metadata": {
    "execution": {
     "iopub.execute_input": "2021-08-05T09:57:49.249644Z",
     "iopub.status.busy": "2021-08-05T09:57:49.249000Z",
     "iopub.status.idle": "2021-08-05T09:57:49.251916Z",
     "shell.execute_reply": "2021-08-05T09:57:49.251354Z",
     "shell.execute_reply.started": "2021-08-05T09:45:54.403081Z"
    },
    "papermill": {
     "duration": 0.024681,
     "end_time": "2021-08-05T09:57:49.252051",
     "exception": false,
     "start_time": "2021-08-05T09:57:49.227370",
     "status": "completed"
    },
    "tags": []
   },
   "outputs": [],
   "source": [
    "# Lines below will give you a hint or solution code\n",
    "#step_1.b.hint()\n",
    "#step_1.b.solution()"
   ]
  },
  {
   "cell_type": "markdown",
   "id": "7ac0fc18",
   "metadata": {
    "papermill": {
     "duration": 0.01788,
     "end_time": "2021-08-05T09:57:49.287991",
     "exception": false,
     "start_time": "2021-08-05T09:57:49.270111",
     "status": "completed"
    },
    "tags": []
   },
   "source": [
    "### Part C\n",
    "\n",
    "Finally, use the `mean_absolute_error()` function to calculate the mean absolute error (MAE) corresponding to the predictions for the validation set.  Recall that the labels for the validation data are stored in `y_valid`."
   ]
  },
  {
   "cell_type": "code",
   "execution_count": 7,
   "id": "f8fa257b",
   "metadata": {
    "execution": {
     "iopub.execute_input": "2021-08-05T09:57:49.330057Z",
     "iopub.status.busy": "2021-08-05T09:57:49.329384Z",
     "iopub.status.idle": "2021-08-05T09:57:49.337098Z",
     "shell.execute_reply": "2021-08-05T09:57:49.337578Z",
     "shell.execute_reply.started": "2021-08-05T09:49:28.655100Z"
    },
    "papermill": {
     "duration": 0.031998,
     "end_time": "2021-08-05T09:57:49.337764",
     "exception": false,
     "start_time": "2021-08-05T09:57:49.305766",
     "status": "completed"
    },
    "tags": []
   },
   "outputs": [
    {
     "name": "stdout",
     "output_type": "stream",
     "text": [
      "Mean Absolute Error: 17662.736729452055\n"
     ]
    },
    {
     "data": {
      "application/javascript": [
       "parent.postMessage({\"jupyterEvent\": \"custom.exercise_interaction\", \"data\": {\"outcomeType\": 1, \"valueTowardsCompletion\": 0.5, \"interactionType\": 1, \"questionType\": 2, \"questionId\": \"1.3_Model1C\", \"learnToolsVersion\": \"0.3.4\", \"failureMessage\": \"\", \"exceptionClass\": \"\", \"trace\": \"\"}}, \"*\")"
      ],
      "text/plain": [
       "<IPython.core.display.Javascript object>"
      ]
     },
     "metadata": {},
     "output_type": "display_data"
    },
    {
     "data": {
      "text/markdown": [
       "<span style=\"color:#33cc33\">Correct</span>"
      ],
      "text/plain": [
       "Correct"
      ]
     },
     "metadata": {},
     "output_type": "display_data"
    }
   ],
   "source": [
    "# Calculate MAE\n",
    "mae_1 = mean_absolute_error(y_valid, predictions_1)\n",
    "\n",
    "# Uncomment to print MAE\n",
    "print(\"Mean Absolute Error:\" , mae_1)\n",
    "\n",
    "# Check your answer\n",
    "step_1.c.check()"
   ]
  },
  {
   "cell_type": "code",
   "execution_count": 8,
   "id": "d30db989",
   "metadata": {
    "execution": {
     "iopub.execute_input": "2021-08-05T09:57:49.379996Z",
     "iopub.status.busy": "2021-08-05T09:57:49.379316Z",
     "iopub.status.idle": "2021-08-05T09:57:49.382825Z",
     "shell.execute_reply": "2021-08-05T09:57:49.382310Z",
     "shell.execute_reply.started": "2021-08-05T09:49:34.909609Z"
    },
    "papermill": {
     "duration": 0.02612,
     "end_time": "2021-08-05T09:57:49.382979",
     "exception": false,
     "start_time": "2021-08-05T09:57:49.356859",
     "status": "completed"
    },
    "tags": []
   },
   "outputs": [],
   "source": [
    "# Lines below will give you a hint or solution code\n",
    "#step_1.c.hint()\n",
    "#step_1.c.solution()"
   ]
  },
  {
   "cell_type": "markdown",
   "id": "f9621582",
   "metadata": {
    "papermill": {
     "duration": 0.018681,
     "end_time": "2021-08-05T09:57:49.420850",
     "exception": false,
     "start_time": "2021-08-05T09:57:49.402169",
     "status": "completed"
    },
    "tags": []
   },
   "source": [
    "# Step 2: Improve the model\n",
    "\n",
    "Now that you've trained a default model as baseline, it's time to tinker with the parameters, to see if you can get better performance!\n",
    "- Begin by setting `my_model_2` to an XGBoost model, using the [XGBRegressor](https://xgboost.readthedocs.io/en/latest/python/python_api.html#xgboost.XGBRegressor) class.  Use what you learned in the previous tutorial to figure out how to change the default parameters (like `n_estimators` and `learning_rate`) to get better results.\n",
    "- Then, fit the model to the training data in `X_train` and `y_train`.\n",
    "- Set `predictions_2` to the model's predictions for the validation data.  Recall that the validation features are stored in `X_valid`.\n",
    "- Finally, use the `mean_absolute_error()` function to calculate the mean absolute error (MAE) corresponding to the predictions on the validation set.  Recall that the labels for the validation data are stored in `y_valid`.\n",
    "\n",
    "In order for this step to be marked correct, your model in `my_model_2` must attain lower MAE than the model in `my_model_1`. "
   ]
  },
  {
   "cell_type": "code",
   "execution_count": 9,
   "id": "a3e28bc5",
   "metadata": {
    "execution": {
     "iopub.execute_input": "2021-08-05T09:57:49.470234Z",
     "iopub.status.busy": "2021-08-05T09:57:49.469312Z",
     "iopub.status.idle": "2021-08-05T09:57:56.124941Z",
     "shell.execute_reply": "2021-08-05T09:57:56.125848Z",
     "shell.execute_reply.started": "2021-08-05T09:53:46.931558Z"
    },
    "papermill": {
     "duration": 6.686232,
     "end_time": "2021-08-05T09:57:56.126047",
     "exception": false,
     "start_time": "2021-08-05T09:57:49.439815",
     "status": "completed"
    },
    "tags": []
   },
   "outputs": [
    {
     "name": "stdout",
     "output_type": "stream",
     "text": [
      "Mean Absolute Error: 16688.691513270547\n"
     ]
    },
    {
     "data": {
      "application/javascript": [
       "parent.postMessage({\"jupyterEvent\": \"custom.exercise_interaction\", \"data\": {\"outcomeType\": 1, \"valueTowardsCompletion\": 0.5, \"interactionType\": 1, \"questionType\": 2, \"questionId\": \"2_Model2\", \"learnToolsVersion\": \"0.3.4\", \"failureMessage\": \"\", \"exceptionClass\": \"\", \"trace\": \"\"}}, \"*\")"
      ],
      "text/plain": [
       "<IPython.core.display.Javascript object>"
      ]
     },
     "metadata": {},
     "output_type": "display_data"
    },
    {
     "data": {
      "text/markdown": [
       "<span style=\"color:#33cc33\">Correct</span>"
      ],
      "text/plain": [
       "Correct"
      ]
     },
     "metadata": {},
     "output_type": "display_data"
    }
   ],
   "source": [
    "# Define the model\n",
    "my_model_2 = XGBRegressor(n_estimators=1000, learning_rate=0.05)\n",
    "\n",
    "# Fit the model\n",
    "my_model_2.fit(X_train, y_train)\n",
    "\n",
    "# Get predictions\n",
    "predictions_2 = my_model_2.predict(X_valid)\n",
    "\n",
    "# Calculate MAE\n",
    "mae_2 = mean_absolute_error(y_valid, predictions_2)\n",
    "\n",
    "# Uncomment to print MAE\n",
    "print(\"Mean Absolute Error:\" , mae_2)\n",
    "\n",
    "# Check your answer\n",
    "step_2.check()"
   ]
  },
  {
   "cell_type": "code",
   "execution_count": 10,
   "id": "7d1a77f6",
   "metadata": {
    "execution": {
     "iopub.execute_input": "2021-08-05T09:57:56.171328Z",
     "iopub.status.busy": "2021-08-05T09:57:56.170689Z",
     "iopub.status.idle": "2021-08-05T09:57:56.172712Z",
     "shell.execute_reply": "2021-08-05T09:57:56.173226Z",
     "shell.execute_reply.started": "2021-08-05T09:53:43.891316Z"
    },
    "papermill": {
     "duration": 0.026565,
     "end_time": "2021-08-05T09:57:56.173391",
     "exception": false,
     "start_time": "2021-08-05T09:57:56.146826",
     "status": "completed"
    },
    "tags": []
   },
   "outputs": [],
   "source": [
    "# Lines below will give you a hint or solution code\n",
    "#step_2.hint()\n",
    "#step_2.solution()"
   ]
  },
  {
   "cell_type": "markdown",
   "id": "457e5da5",
   "metadata": {
    "papermill": {
     "duration": 0.020185,
     "end_time": "2021-08-05T09:57:56.214704",
     "exception": false,
     "start_time": "2021-08-05T09:57:56.194519",
     "status": "completed"
    },
    "tags": []
   },
   "source": [
    "# Step 3: Break the model\n",
    "\n",
    "In this step, you will create a model that performs worse than the original model in Step 1.  This will help you to develop your intuition for how to set parameters.  You might even find that you accidentally get better performance, which is ultimately a nice problem to have and a valuable learning experience!\n",
    "- Begin by setting `my_model_3` to an XGBoost model, using the [XGBRegressor](https://xgboost.readthedocs.io/en/latest/python/python_api.html#xgboost.XGBRegressor) class.  Use what you learned in the previous tutorial to figure out how to change the default parameters (like `n_estimators` and `learning_rate`) to design a model to get high MAE.\n",
    "- Then, fit the model to the training data in `X_train` and `y_train`.\n",
    "- Set `predictions_3` to the model's predictions for the validation data.  Recall that the validation features are stored in `X_valid`.\n",
    "- Finally, use the `mean_absolute_error()` function to calculate the mean absolute error (MAE) corresponding to the predictions on the validation set.  Recall that the labels for the validation data are stored in `y_valid`.\n",
    "\n",
    "In order for this step to be marked correct, your model in `my_model_3` must attain higher MAE than the model in `my_model_1`. "
   ]
  },
  {
   "cell_type": "code",
   "execution_count": 11,
   "id": "ab7b0440",
   "metadata": {
    "execution": {
     "iopub.execute_input": "2021-08-05T09:57:56.260276Z",
     "iopub.status.busy": "2021-08-05T09:57:56.259566Z",
     "iopub.status.idle": "2021-08-05T09:57:56.360975Z",
     "shell.execute_reply": "2021-08-05T09:57:56.361926Z",
     "shell.execute_reply.started": "2021-08-05T09:56:51.443877Z"
    },
    "papermill": {
     "duration": 0.125638,
     "end_time": "2021-08-05T09:57:56.362145",
     "exception": false,
     "start_time": "2021-08-05T09:57:56.236507",
     "status": "completed"
    },
    "tags": []
   },
   "outputs": [
    {
     "name": "stdout",
     "output_type": "stream",
     "text": [
      "Mean Absolute Error: 109972.16702563142\n"
     ]
    },
    {
     "data": {
      "application/javascript": [
       "parent.postMessage({\"jupyterEvent\": \"custom.exercise_interaction\", \"data\": {\"outcomeType\": 1, \"valueTowardsCompletion\": 0.5, \"interactionType\": 1, \"questionType\": 2, \"questionId\": \"3_Model3\", \"learnToolsVersion\": \"0.3.4\", \"failureMessage\": \"\", \"exceptionClass\": \"\", \"trace\": \"\"}}, \"*\")"
      ],
      "text/plain": [
       "<IPython.core.display.Javascript object>"
      ]
     },
     "metadata": {},
     "output_type": "display_data"
    },
    {
     "data": {
      "text/markdown": [
       "<span style=\"color:#33cc33\">Correct</span>"
      ],
      "text/plain": [
       "Correct"
      ]
     },
     "metadata": {},
     "output_type": "display_data"
    }
   ],
   "source": [
    "# Define the model\n",
    "my_model_3 = XGBRegressor(n_estimators=10, learning_rate=0.05)\n",
    "\n",
    "# Fit the model\n",
    "my_model_3.fit(X_train, y_train)\n",
    "\n",
    "# Get predictions\n",
    "predictions_3 = my_model_3.predict(X_valid)\n",
    "\n",
    "# Calculate MAE\n",
    "mae_3 = mean_absolute_error(y_valid, predictions_3)\n",
    "\n",
    "# Uncomment to print MAE\n",
    "print(\"Mean Absolute Error:\" , mae_3)\n",
    "\n",
    "# Check your answer\n",
    "step_3.check()"
   ]
  },
  {
   "cell_type": "code",
   "execution_count": 12,
   "id": "876b3ed0",
   "metadata": {
    "execution": {
     "iopub.execute_input": "2021-08-05T09:57:56.410980Z",
     "iopub.status.busy": "2021-08-05T09:57:56.410326Z",
     "iopub.status.idle": "2021-08-05T09:57:56.413281Z",
     "shell.execute_reply": "2021-08-05T09:57:56.412646Z"
    },
    "papermill": {
     "duration": 0.028367,
     "end_time": "2021-08-05T09:57:56.413414",
     "exception": false,
     "start_time": "2021-08-05T09:57:56.385047",
     "status": "completed"
    },
    "tags": []
   },
   "outputs": [],
   "source": [
    "# Lines below will give you a hint or solution code\n",
    "#step_3.hint()\n",
    "#step_3.solution()"
   ]
  },
  {
   "cell_type": "markdown",
   "id": "5089336e",
   "metadata": {
    "papermill": {
     "duration": 0.02155,
     "end_time": "2021-08-05T09:57:56.456779",
     "exception": false,
     "start_time": "2021-08-05T09:57:56.435229",
     "status": "completed"
    },
    "tags": []
   },
   "source": [
    "# Keep going\n",
    "\n",
    "Continue to learn about **[data leakage](https://www.kaggle.com/alexisbcook/data-leakage)**.  This is an important issue for a data scientist to understand, and it has the potential to ruin your models in subtle and dangerous ways!"
   ]
  },
  {
   "cell_type": "markdown",
   "id": "e43ef83a",
   "metadata": {
    "papermill": {
     "duration": 0.021358,
     "end_time": "2021-08-05T09:57:56.499837",
     "exception": false,
     "start_time": "2021-08-05T09:57:56.478479",
     "status": "completed"
    },
    "tags": []
   },
   "source": [
    "---\n",
    "\n",
    "\n",
    "\n",
    "\n",
    "*Have questions or comments? Visit the [Learn Discussion forum](https://www.kaggle.com/learn-forum/161289) to chat with other Learners.*"
   ]
  }
 ],
 "metadata": {
  "kernelspec": {
   "display_name": "Python 3",
   "language": "python",
   "name": "python3"
  },
  "language_info": {
   "codemirror_mode": {
    "name": "ipython",
    "version": 3
   },
   "file_extension": ".py",
   "mimetype": "text/x-python",
   "name": "python",
   "nbconvert_exporter": "python",
   "pygments_lexer": "ipython3",
   "version": "3.7.10"
  },
  "papermill": {
   "default_parameters": {},
   "duration": 20.490209,
   "end_time": "2021-08-05T09:57:57.332472",
   "environment_variables": {},
   "exception": null,
   "input_path": "__notebook__.ipynb",
   "output_path": "__notebook__.ipynb",
   "parameters": {},
   "start_time": "2021-08-05T09:57:36.842263",
   "version": "2.3.3"
  }
 },
 "nbformat": 4,
 "nbformat_minor": 5
}
