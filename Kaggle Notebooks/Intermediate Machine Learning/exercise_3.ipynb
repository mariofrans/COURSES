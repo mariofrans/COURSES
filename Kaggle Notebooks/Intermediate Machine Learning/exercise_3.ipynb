{
 "cells": [
  {
   "cell_type": "markdown",
   "id": "b7222919",
   "metadata": {
    "papermill": {
     "duration": 0.030436,
     "end_time": "2021-08-05T08:45:33.147106",
     "exception": false,
     "start_time": "2021-08-05T08:45:33.116670",
     "status": "completed"
    },
    "tags": []
   },
   "source": [
    "**This notebook is an exercise in the [Intermediate Machine Learning](https://www.kaggle.com/learn/intermediate-machine-learning) course.  You can reference the tutorial at [this link](https://www.kaggle.com/alexisbcook/categorical-variables).**\n",
    "\n",
    "---\n"
   ]
  },
  {
   "cell_type": "markdown",
   "id": "24597249",
   "metadata": {
    "papermill": {
     "duration": 0.028504,
     "end_time": "2021-08-05T08:45:33.206167",
     "exception": false,
     "start_time": "2021-08-05T08:45:33.177663",
     "status": "completed"
    },
    "tags": []
   },
   "source": [
    "By encoding **categorical variables**, you'll obtain your best results thus far!\n",
    "\n",
    "# Setup\n",
    "\n",
    "The questions below will give you feedback on your work. Run the following cell to set up the feedback system."
   ]
  },
  {
   "cell_type": "code",
   "execution_count": 1,
   "id": "fcf245f3",
   "metadata": {
    "execution": {
     "iopub.execute_input": "2021-08-05T08:45:33.276772Z",
     "iopub.status.busy": "2021-08-05T08:45:33.276063Z",
     "iopub.status.idle": "2021-08-05T08:45:33.415456Z",
     "shell.execute_reply": "2021-08-05T08:45:33.414470Z",
     "shell.execute_reply.started": "2021-08-05T08:12:19.020743Z"
    },
    "papermill": {
     "duration": 0.180702,
     "end_time": "2021-08-05T08:45:33.415631",
     "exception": false,
     "start_time": "2021-08-05T08:45:33.234929",
     "status": "completed"
    },
    "tags": []
   },
   "outputs": [
    {
     "name": "stdout",
     "output_type": "stream",
     "text": [
      "Setup Complete\n"
     ]
    }
   ],
   "source": [
    "# Set up code checking\n",
    "import os\n",
    "if not os.path.exists(\"../input/train.csv\"):\n",
    "    os.symlink(\"../input/home-data-for-ml-course/train.csv\", \"../input/train.csv\")  \n",
    "    os.symlink(\"../input/home-data-for-ml-course/test.csv\", \"../input/test.csv\") \n",
    "from learntools.core import binder\n",
    "binder.bind(globals())\n",
    "from learntools.ml_intermediate.ex3 import *\n",
    "print(\"Setup Complete\")"
   ]
  },
  {
   "cell_type": "markdown",
   "id": "016d9ffb",
   "metadata": {
    "papermill": {
     "duration": 0.029116,
     "end_time": "2021-08-05T08:45:33.474510",
     "exception": false,
     "start_time": "2021-08-05T08:45:33.445394",
     "status": "completed"
    },
    "tags": []
   },
   "source": [
    "In this exercise, you will work with data from the [Housing Prices Competition for Kaggle Learn Users](https://www.kaggle.com/c/home-data-for-ml-course). \n",
    "\n",
    "![Ames Housing dataset image](https://i.imgur.com/lTJVG4e.png)\n",
    "\n",
    "Run the next code cell without changes to load the training and validation sets in `X_train`, `X_valid`, `y_train`, and `y_valid`.  The test set is loaded in `X_test`."
   ]
  },
  {
   "cell_type": "code",
   "execution_count": 2,
   "id": "9fe8f3f6",
   "metadata": {
    "execution": {
     "iopub.execute_input": "2021-08-05T08:45:33.541549Z",
     "iopub.status.busy": "2021-08-05T08:45:33.540771Z",
     "iopub.status.idle": "2021-08-05T08:45:34.711608Z",
     "shell.execute_reply": "2021-08-05T08:45:34.711059Z",
     "shell.execute_reply.started": "2021-08-05T08:13:38.767860Z"
    },
    "papermill": {
     "duration": 1.208224,
     "end_time": "2021-08-05T08:45:34.711789",
     "exception": false,
     "start_time": "2021-08-05T08:45:33.503565",
     "status": "completed"
    },
    "tags": []
   },
   "outputs": [],
   "source": [
    "import pandas as pd\n",
    "from sklearn.model_selection import train_test_split\n",
    "\n",
    "# Read the data\n",
    "X = pd.read_csv('../input/train.csv', index_col='Id') \n",
    "X_test = pd.read_csv('../input/test.csv', index_col='Id')\n",
    "\n",
    "# Remove rows with missing target, separate target from predictors\n",
    "X.dropna(axis=0, subset=['SalePrice'], inplace=True)\n",
    "y = X.SalePrice\n",
    "X.drop(['SalePrice'], axis=1, inplace=True)\n",
    "\n",
    "# To keep things simple, we'll drop columns with missing values\n",
    "cols_with_missing = [col for col in X.columns if X[col].isnull().any()] \n",
    "X.drop(cols_with_missing, axis=1, inplace=True)\n",
    "X_test.drop(cols_with_missing, axis=1, inplace=True)\n",
    "\n",
    "# Break off validation set from training data\n",
    "X_train, X_valid, y_train, y_valid = train_test_split(X, y,\n",
    "                                                      train_size=0.8, test_size=0.2,\n",
    "                                                      random_state=0)"
   ]
  },
  {
   "cell_type": "markdown",
   "id": "9c216be1",
   "metadata": {
    "papermill": {
     "duration": 0.029747,
     "end_time": "2021-08-05T08:45:34.771334",
     "exception": false,
     "start_time": "2021-08-05T08:45:34.741587",
     "status": "completed"
    },
    "tags": []
   },
   "source": [
    "Use the next code cell to print the first five rows of the data."
   ]
  },
  {
   "cell_type": "code",
   "execution_count": 3,
   "id": "f4deb8d9",
   "metadata": {
    "execution": {
     "iopub.execute_input": "2021-08-05T08:45:34.839253Z",
     "iopub.status.busy": "2021-08-05T08:45:34.838487Z",
     "iopub.status.idle": "2021-08-05T08:45:34.865538Z",
     "shell.execute_reply": "2021-08-05T08:45:34.866025Z",
     "shell.execute_reply.started": "2021-08-05T08:13:42.117308Z"
    },
    "papermill": {
     "duration": 0.065847,
     "end_time": "2021-08-05T08:45:34.866205",
     "exception": false,
     "start_time": "2021-08-05T08:45:34.800358",
     "status": "completed"
    },
    "tags": []
   },
   "outputs": [
    {
     "data": {
      "text/html": [
       "<div>\n",
       "<style scoped>\n",
       "    .dataframe tbody tr th:only-of-type {\n",
       "        vertical-align: middle;\n",
       "    }\n",
       "\n",
       "    .dataframe tbody tr th {\n",
       "        vertical-align: top;\n",
       "    }\n",
       "\n",
       "    .dataframe thead th {\n",
       "        text-align: right;\n",
       "    }\n",
       "</style>\n",
       "<table border=\"1\" class=\"dataframe\">\n",
       "  <thead>\n",
       "    <tr style=\"text-align: right;\">\n",
       "      <th></th>\n",
       "      <th>MSSubClass</th>\n",
       "      <th>MSZoning</th>\n",
       "      <th>LotArea</th>\n",
       "      <th>Street</th>\n",
       "      <th>LotShape</th>\n",
       "      <th>LandContour</th>\n",
       "      <th>Utilities</th>\n",
       "      <th>LotConfig</th>\n",
       "      <th>LandSlope</th>\n",
       "      <th>Neighborhood</th>\n",
       "      <th>...</th>\n",
       "      <th>OpenPorchSF</th>\n",
       "      <th>EnclosedPorch</th>\n",
       "      <th>3SsnPorch</th>\n",
       "      <th>ScreenPorch</th>\n",
       "      <th>PoolArea</th>\n",
       "      <th>MiscVal</th>\n",
       "      <th>MoSold</th>\n",
       "      <th>YrSold</th>\n",
       "      <th>SaleType</th>\n",
       "      <th>SaleCondition</th>\n",
       "    </tr>\n",
       "    <tr>\n",
       "      <th>Id</th>\n",
       "      <th></th>\n",
       "      <th></th>\n",
       "      <th></th>\n",
       "      <th></th>\n",
       "      <th></th>\n",
       "      <th></th>\n",
       "      <th></th>\n",
       "      <th></th>\n",
       "      <th></th>\n",
       "      <th></th>\n",
       "      <th></th>\n",
       "      <th></th>\n",
       "      <th></th>\n",
       "      <th></th>\n",
       "      <th></th>\n",
       "      <th></th>\n",
       "      <th></th>\n",
       "      <th></th>\n",
       "      <th></th>\n",
       "      <th></th>\n",
       "      <th></th>\n",
       "    </tr>\n",
       "  </thead>\n",
       "  <tbody>\n",
       "    <tr>\n",
       "      <th>619</th>\n",
       "      <td>20</td>\n",
       "      <td>RL</td>\n",
       "      <td>11694</td>\n",
       "      <td>Pave</td>\n",
       "      <td>Reg</td>\n",
       "      <td>Lvl</td>\n",
       "      <td>AllPub</td>\n",
       "      <td>Inside</td>\n",
       "      <td>Gtl</td>\n",
       "      <td>NridgHt</td>\n",
       "      <td>...</td>\n",
       "      <td>108</td>\n",
       "      <td>0</td>\n",
       "      <td>0</td>\n",
       "      <td>260</td>\n",
       "      <td>0</td>\n",
       "      <td>0</td>\n",
       "      <td>7</td>\n",
       "      <td>2007</td>\n",
       "      <td>New</td>\n",
       "      <td>Partial</td>\n",
       "    </tr>\n",
       "    <tr>\n",
       "      <th>871</th>\n",
       "      <td>20</td>\n",
       "      <td>RL</td>\n",
       "      <td>6600</td>\n",
       "      <td>Pave</td>\n",
       "      <td>Reg</td>\n",
       "      <td>Lvl</td>\n",
       "      <td>AllPub</td>\n",
       "      <td>Inside</td>\n",
       "      <td>Gtl</td>\n",
       "      <td>NAmes</td>\n",
       "      <td>...</td>\n",
       "      <td>0</td>\n",
       "      <td>0</td>\n",
       "      <td>0</td>\n",
       "      <td>0</td>\n",
       "      <td>0</td>\n",
       "      <td>0</td>\n",
       "      <td>8</td>\n",
       "      <td>2009</td>\n",
       "      <td>WD</td>\n",
       "      <td>Normal</td>\n",
       "    </tr>\n",
       "    <tr>\n",
       "      <th>93</th>\n",
       "      <td>30</td>\n",
       "      <td>RL</td>\n",
       "      <td>13360</td>\n",
       "      <td>Pave</td>\n",
       "      <td>IR1</td>\n",
       "      <td>HLS</td>\n",
       "      <td>AllPub</td>\n",
       "      <td>Inside</td>\n",
       "      <td>Gtl</td>\n",
       "      <td>Crawfor</td>\n",
       "      <td>...</td>\n",
       "      <td>0</td>\n",
       "      <td>44</td>\n",
       "      <td>0</td>\n",
       "      <td>0</td>\n",
       "      <td>0</td>\n",
       "      <td>0</td>\n",
       "      <td>8</td>\n",
       "      <td>2009</td>\n",
       "      <td>WD</td>\n",
       "      <td>Normal</td>\n",
       "    </tr>\n",
       "    <tr>\n",
       "      <th>818</th>\n",
       "      <td>20</td>\n",
       "      <td>RL</td>\n",
       "      <td>13265</td>\n",
       "      <td>Pave</td>\n",
       "      <td>IR1</td>\n",
       "      <td>Lvl</td>\n",
       "      <td>AllPub</td>\n",
       "      <td>CulDSac</td>\n",
       "      <td>Gtl</td>\n",
       "      <td>Mitchel</td>\n",
       "      <td>...</td>\n",
       "      <td>59</td>\n",
       "      <td>0</td>\n",
       "      <td>0</td>\n",
       "      <td>0</td>\n",
       "      <td>0</td>\n",
       "      <td>0</td>\n",
       "      <td>7</td>\n",
       "      <td>2008</td>\n",
       "      <td>WD</td>\n",
       "      <td>Normal</td>\n",
       "    </tr>\n",
       "    <tr>\n",
       "      <th>303</th>\n",
       "      <td>20</td>\n",
       "      <td>RL</td>\n",
       "      <td>13704</td>\n",
       "      <td>Pave</td>\n",
       "      <td>IR1</td>\n",
       "      <td>Lvl</td>\n",
       "      <td>AllPub</td>\n",
       "      <td>Corner</td>\n",
       "      <td>Gtl</td>\n",
       "      <td>CollgCr</td>\n",
       "      <td>...</td>\n",
       "      <td>81</td>\n",
       "      <td>0</td>\n",
       "      <td>0</td>\n",
       "      <td>0</td>\n",
       "      <td>0</td>\n",
       "      <td>0</td>\n",
       "      <td>1</td>\n",
       "      <td>2006</td>\n",
       "      <td>WD</td>\n",
       "      <td>Normal</td>\n",
       "    </tr>\n",
       "  </tbody>\n",
       "</table>\n",
       "<p>5 rows × 60 columns</p>\n",
       "</div>"
      ],
      "text/plain": [
       "     MSSubClass MSZoning  LotArea Street LotShape LandContour Utilities  \\\n",
       "Id                                                                        \n",
       "619          20       RL    11694   Pave      Reg         Lvl    AllPub   \n",
       "871          20       RL     6600   Pave      Reg         Lvl    AllPub   \n",
       "93           30       RL    13360   Pave      IR1         HLS    AllPub   \n",
       "818          20       RL    13265   Pave      IR1         Lvl    AllPub   \n",
       "303          20       RL    13704   Pave      IR1         Lvl    AllPub   \n",
       "\n",
       "    LotConfig LandSlope Neighborhood  ... OpenPorchSF EnclosedPorch 3SsnPorch  \\\n",
       "Id                                    ...                                       \n",
       "619    Inside       Gtl      NridgHt  ...         108             0         0   \n",
       "871    Inside       Gtl        NAmes  ...           0             0         0   \n",
       "93     Inside       Gtl      Crawfor  ...           0            44         0   \n",
       "818   CulDSac       Gtl      Mitchel  ...          59             0         0   \n",
       "303    Corner       Gtl      CollgCr  ...          81             0         0   \n",
       "\n",
       "    ScreenPorch  PoolArea  MiscVal  MoSold  YrSold SaleType SaleCondition  \n",
       "Id                                                                         \n",
       "619         260         0        0       7    2007      New       Partial  \n",
       "871           0         0        0       8    2009       WD        Normal  \n",
       "93            0         0        0       8    2009       WD        Normal  \n",
       "818           0         0        0       7    2008       WD        Normal  \n",
       "303           0         0        0       1    2006       WD        Normal  \n",
       "\n",
       "[5 rows x 60 columns]"
      ]
     },
     "execution_count": 3,
     "metadata": {},
     "output_type": "execute_result"
    }
   ],
   "source": [
    "X_train.head()"
   ]
  },
  {
   "cell_type": "markdown",
   "id": "07bdadad",
   "metadata": {
    "papermill": {
     "duration": 0.030807,
     "end_time": "2021-08-05T08:45:34.928965",
     "exception": false,
     "start_time": "2021-08-05T08:45:34.898158",
     "status": "completed"
    },
    "tags": []
   },
   "source": [
    "Notice that the dataset contains both numerical and categorical variables.  You'll need to encode the categorical data before training a model.\n",
    "\n",
    "To compare different models, you'll use the same `score_dataset()` function from the tutorial.  This function reports the [mean absolute error](https://en.wikipedia.org/wiki/Mean_absolute_error) (MAE) from a random forest model."
   ]
  },
  {
   "cell_type": "code",
   "execution_count": 4,
   "id": "e6289b18",
   "metadata": {
    "execution": {
     "iopub.execute_input": "2021-08-05T08:45:34.992654Z",
     "iopub.status.busy": "2021-08-05T08:45:34.991986Z",
     "iopub.status.idle": "2021-08-05T08:45:35.212999Z",
     "shell.execute_reply": "2021-08-05T08:45:35.211628Z",
     "shell.execute_reply.started": "2021-08-05T08:15:49.837793Z"
    },
    "papermill": {
     "duration": 0.254133,
     "end_time": "2021-08-05T08:45:35.213162",
     "exception": false,
     "start_time": "2021-08-05T08:45:34.959029",
     "status": "completed"
    },
    "tags": []
   },
   "outputs": [],
   "source": [
    "from sklearn.ensemble import RandomForestRegressor\n",
    "from sklearn.metrics import mean_absolute_error\n",
    "\n",
    "# function for comparing different approaches\n",
    "def score_dataset(X_train, X_valid, y_train, y_valid):\n",
    "    model = RandomForestRegressor(n_estimators=100, random_state=0)\n",
    "    model.fit(X_train, y_train)\n",
    "    preds = model.predict(X_valid)\n",
    "    return mean_absolute_error(y_valid, preds)"
   ]
  },
  {
   "cell_type": "markdown",
   "id": "13bf69f3",
   "metadata": {
    "papermill": {
     "duration": 0.029717,
     "end_time": "2021-08-05T08:45:35.273553",
     "exception": false,
     "start_time": "2021-08-05T08:45:35.243836",
     "status": "completed"
    },
    "tags": []
   },
   "source": [
    "# Step 1: Drop columns with categorical data\n",
    "\n",
    "You'll get started with the most straightforward approach.  Use the code cell below to preprocess the data in `X_train` and `X_valid` to remove columns with categorical data.  Set the preprocessed DataFrames to `drop_X_train` and `drop_X_valid`, respectively.  "
   ]
  },
  {
   "cell_type": "code",
   "execution_count": 5,
   "id": "d8cb1334",
   "metadata": {
    "execution": {
     "iopub.execute_input": "2021-08-05T08:45:35.341678Z",
     "iopub.status.busy": "2021-08-05T08:45:35.340975Z",
     "iopub.status.idle": "2021-08-05T08:45:35.349969Z",
     "shell.execute_reply": "2021-08-05T08:45:35.350496Z",
     "shell.execute_reply.started": "2021-08-05T08:15:22.391556Z"
    },
    "papermill": {
     "duration": 0.046492,
     "end_time": "2021-08-05T08:45:35.350663",
     "exception": false,
     "start_time": "2021-08-05T08:45:35.304171",
     "status": "completed"
    },
    "tags": []
   },
   "outputs": [
    {
     "data": {
      "application/javascript": [
       "parent.postMessage({\"jupyterEvent\": \"custom.exercise_interaction\", \"data\": {\"outcomeType\": 1, \"valueTowardsCompletion\": 0.5, \"interactionType\": 1, \"questionType\": 2, \"questionId\": \"1_Drop\", \"learnToolsVersion\": \"0.3.4\", \"failureMessage\": \"\", \"exceptionClass\": \"\", \"trace\": \"\"}}, \"*\")"
      ],
      "text/plain": [
       "<IPython.core.display.Javascript object>"
      ]
     },
     "metadata": {},
     "output_type": "display_data"
    },
    {
     "data": {
      "text/markdown": [
       "<span style=\"color:#33cc33\">Correct</span>"
      ],
      "text/plain": [
       "Correct"
      ]
     },
     "metadata": {},
     "output_type": "display_data"
    }
   ],
   "source": [
    "# Fill in the lines below: drop columns in training and validation data\n",
    "drop_X_train = X_train.select_dtypes(exclude=['object'])\n",
    "drop_X_valid = X_valid.select_dtypes(exclude=['object'])\n",
    "\n",
    "# Check your answers\n",
    "step_1.check()"
   ]
  },
  {
   "cell_type": "code",
   "execution_count": 6,
   "id": "7871fffa",
   "metadata": {
    "execution": {
     "iopub.execute_input": "2021-08-05T08:45:35.415736Z",
     "iopub.status.busy": "2021-08-05T08:45:35.415100Z",
     "iopub.status.idle": "2021-08-05T08:45:35.419481Z",
     "shell.execute_reply": "2021-08-05T08:45:35.418964Z"
    },
    "papermill": {
     "duration": 0.038072,
     "end_time": "2021-08-05T08:45:35.419625",
     "exception": false,
     "start_time": "2021-08-05T08:45:35.381553",
     "status": "completed"
    },
    "tags": []
   },
   "outputs": [],
   "source": [
    "# Lines below will give you a hint or solution code\n",
    "#step_1.hint()\n",
    "#step_1.solution()"
   ]
  },
  {
   "cell_type": "markdown",
   "id": "cda92d91",
   "metadata": {
    "papermill": {
     "duration": 0.031256,
     "end_time": "2021-08-05T08:45:35.482330",
     "exception": false,
     "start_time": "2021-08-05T08:45:35.451074",
     "status": "completed"
    },
    "tags": []
   },
   "source": [
    "Run the next code cell to get the MAE for this approach."
   ]
  },
  {
   "cell_type": "code",
   "execution_count": 7,
   "id": "c323ecbd",
   "metadata": {
    "execution": {
     "iopub.execute_input": "2021-08-05T08:45:35.552976Z",
     "iopub.status.busy": "2021-08-05T08:45:35.552259Z",
     "iopub.status.idle": "2021-08-05T08:45:36.814128Z",
     "shell.execute_reply": "2021-08-05T08:45:36.814599Z",
     "shell.execute_reply.started": "2021-08-05T08:15:53.066663Z"
    },
    "papermill": {
     "duration": 1.300874,
     "end_time": "2021-08-05T08:45:36.814776",
     "exception": false,
     "start_time": "2021-08-05T08:45:35.513902",
     "status": "completed"
    },
    "tags": []
   },
   "outputs": [
    {
     "name": "stdout",
     "output_type": "stream",
     "text": [
      "MAE from Approach 1 (Drop categorical variables):\n",
      "17837.82570776256\n"
     ]
    }
   ],
   "source": [
    "print(\"MAE from Approach 1 (Drop categorical variables):\")\n",
    "print(score_dataset(drop_X_train, drop_X_valid, y_train, y_valid))"
   ]
  },
  {
   "cell_type": "markdown",
   "id": "9af17000",
   "metadata": {
    "papermill": {
     "duration": 0.031231,
     "end_time": "2021-08-05T08:45:36.877727",
     "exception": false,
     "start_time": "2021-08-05T08:45:36.846496",
     "status": "completed"
    },
    "tags": []
   },
   "source": [
    "Before jumping into ordinal encoding, we'll investigate the dataset.  Specifically, we'll look at the `'Condition2'` column.  The code cell below prints the unique entries in both the training and validation sets."
   ]
  },
  {
   "cell_type": "code",
   "execution_count": 8,
   "id": "1af67120",
   "metadata": {
    "execution": {
     "iopub.execute_input": "2021-08-05T08:45:36.950363Z",
     "iopub.status.busy": "2021-08-05T08:45:36.949658Z",
     "iopub.status.idle": "2021-08-05T08:45:36.954040Z",
     "shell.execute_reply": "2021-08-05T08:45:36.953497Z",
     "shell.execute_reply.started": "2021-08-05T08:16:10.787056Z"
    },
    "papermill": {
     "duration": 0.044047,
     "end_time": "2021-08-05T08:45:36.954183",
     "exception": false,
     "start_time": "2021-08-05T08:45:36.910136",
     "status": "completed"
    },
    "tags": []
   },
   "outputs": [
    {
     "name": "stdout",
     "output_type": "stream",
     "text": [
      "Unique values in 'Condition2' column in training data: ['Norm' 'PosA' 'Feedr' 'PosN' 'Artery' 'RRAe']\n",
      "\n",
      "Unique values in 'Condition2' column in validation data: ['Norm' 'RRAn' 'RRNn' 'Artery' 'Feedr' 'PosN']\n"
     ]
    }
   ],
   "source": [
    "print(\"Unique values in 'Condition2' column in training data:\", X_train['Condition2'].unique())\n",
    "print(\"\\nUnique values in 'Condition2' column in validation data:\", X_valid['Condition2'].unique())"
   ]
  },
  {
   "cell_type": "markdown",
   "id": "4b452f20",
   "metadata": {
    "papermill": {
     "duration": 0.032336,
     "end_time": "2021-08-05T08:45:37.018562",
     "exception": false,
     "start_time": "2021-08-05T08:45:36.986226",
     "status": "completed"
    },
    "tags": []
   },
   "source": [
    "# Step 2: Ordinal encoding\n",
    "\n",
    "### Part A\n",
    "\n",
    "If you now write code to: \n",
    "- fit an ordinal encoder to the training data, and then \n",
    "- use it to transform both the training and validation data, \n",
    "\n",
    "you'll get an error.  Can you see why this is the case?  (_You'll need  to use the above output to answer this question._)"
   ]
  },
  {
   "cell_type": "code",
   "execution_count": 9,
   "id": "6d384032",
   "metadata": {
    "execution": {
     "iopub.execute_input": "2021-08-05T08:45:37.090226Z",
     "iopub.status.busy": "2021-08-05T08:45:37.089464Z",
     "iopub.status.idle": "2021-08-05T08:45:37.094570Z",
     "shell.execute_reply": "2021-08-05T08:45:37.095099Z",
     "shell.execute_reply.started": "2021-08-05T08:16:25.265429Z"
    },
    "papermill": {
     "duration": 0.044014,
     "end_time": "2021-08-05T08:45:37.095273",
     "exception": false,
     "start_time": "2021-08-05T08:45:37.051259",
     "status": "completed"
    },
    "tags": []
   },
   "outputs": [
    {
     "data": {
      "application/javascript": [
       "parent.postMessage({\"jupyterEvent\": \"custom.exercise_interaction\", \"data\": {\"outcomeType\": 1, \"valueTowardsCompletion\": 0.5, \"interactionType\": 1, \"questionType\": 4, \"questionId\": \"2.1_LabelA\", \"learnToolsVersion\": \"0.3.4\", \"failureMessage\": \"\", \"exceptionClass\": \"\", \"trace\": \"\"}}, \"*\")"
      ],
      "text/plain": [
       "<IPython.core.display.Javascript object>"
      ]
     },
     "metadata": {},
     "output_type": "display_data"
    },
    {
     "data": {
      "text/markdown": [
       "<span style=\"color:#33cc33\">Correct:</span> \n",
       "\n",
       "Fitting an ordinal encoder to a column in the training data creates a corresponding integer-valued label for each unique value **that appears in the training data**. In the case that the validation data contains values that don't also appear in the training data, the encoder will throw an error, because these values won't have an integer assigned to them.  Notice that the `'Condition2'` column in the validation data contains the values `'RRAn'` and `'RRNn'`, but these don't appear in the training data -- thus, if we try to use an ordinal encoder with scikit-learn, the code will throw an error."
      ],
      "text/plain": [
       "Correct: \n",
       "\n",
       "Fitting an ordinal encoder to a column in the training data creates a corresponding integer-valued label for each unique value **that appears in the training data**. In the case that the validation data contains values that don't also appear in the training data, the encoder will throw an error, because these values won't have an integer assigned to them.  Notice that the `'Condition2'` column in the validation data contains the values `'RRAn'` and `'RRNn'`, but these don't appear in the training data -- thus, if we try to use an ordinal encoder with scikit-learn, the code will throw an error."
      ]
     },
     "metadata": {},
     "output_type": "display_data"
    }
   ],
   "source": [
    "# Check your answer (Run this code cell to receive credit!)\n",
    "step_2.a.check()"
   ]
  },
  {
   "cell_type": "code",
   "execution_count": 10,
   "id": "8d1902c6",
   "metadata": {
    "execution": {
     "iopub.execute_input": "2021-08-05T08:45:37.166745Z",
     "iopub.status.busy": "2021-08-05T08:45:37.166056Z",
     "iopub.status.idle": "2021-08-05T08:45:37.170644Z",
     "shell.execute_reply": "2021-08-05T08:45:37.169938Z"
    },
    "papermill": {
     "duration": 0.040468,
     "end_time": "2021-08-05T08:45:37.170792",
     "exception": false,
     "start_time": "2021-08-05T08:45:37.130324",
     "status": "completed"
    },
    "tags": []
   },
   "outputs": [],
   "source": [
    "#step_2.a.hint()"
   ]
  },
  {
   "cell_type": "markdown",
   "id": "1c407e78",
   "metadata": {
    "papermill": {
     "duration": 0.033152,
     "end_time": "2021-08-05T08:45:37.237815",
     "exception": false,
     "start_time": "2021-08-05T08:45:37.204663",
     "status": "completed"
    },
    "tags": []
   },
   "source": [
    "This is a common problem that you'll encounter with real-world data, and there are many approaches to fixing this issue.  For instance, you can write a custom ordinal encoder to deal with new categories.  The simplest approach, however, is to drop the problematic categorical columns.  \n",
    "\n",
    "Run the code cell below to save the problematic columns to a Python list `bad_label_cols`.  Likewise, columns that can be safely ordinal encoded are stored in `good_label_cols`."
   ]
  },
  {
   "cell_type": "code",
   "execution_count": 11,
   "id": "3636b513",
   "metadata": {
    "execution": {
     "iopub.execute_input": "2021-08-05T08:45:37.308174Z",
     "iopub.status.busy": "2021-08-05T08:45:37.307484Z",
     "iopub.status.idle": "2021-08-05T08:45:37.324312Z",
     "shell.execute_reply": "2021-08-05T08:45:37.323716Z",
     "shell.execute_reply.started": "2021-08-05T08:19:46.315426Z"
    },
    "papermill": {
     "duration": 0.05291,
     "end_time": "2021-08-05T08:45:37.324452",
     "exception": false,
     "start_time": "2021-08-05T08:45:37.271542",
     "status": "completed"
    },
    "tags": []
   },
   "outputs": [
    {
     "name": "stdout",
     "output_type": "stream",
     "text": [
      "Categorical columns that will be ordinal encoded: ['MSZoning', 'Street', 'LotShape', 'LandContour', 'Utilities', 'LotConfig', 'LandSlope', 'Neighborhood', 'Condition1', 'BldgType', 'HouseStyle', 'RoofStyle', 'Exterior1st', 'Exterior2nd', 'ExterQual', 'ExterCond', 'Foundation', 'Heating', 'HeatingQC', 'CentralAir', 'KitchenQual', 'PavedDrive', 'SaleType', 'SaleCondition']\n",
      "\n",
      "Categorical columns that will be dropped from the dataset: ['Functional', 'Condition2', 'RoofMatl']\n"
     ]
    }
   ],
   "source": [
    "# All categorical columns\n",
    "object_cols = [col for col in X_train.columns if X_train[col].dtype == \"object\"]\n",
    "\n",
    "# Columns that can be safely ordinal encoded\n",
    "good_label_cols = [col for col in object_cols if \n",
    "                   set(X_valid[col]).issubset(set(X_train[col]))]\n",
    "        \n",
    "# Problematic columns that will be dropped from the dataset\n",
    "bad_label_cols = list(set(object_cols)-set(good_label_cols))\n",
    "        \n",
    "print('Categorical columns that will be ordinal encoded:', good_label_cols)\n",
    "print('\\nCategorical columns that will be dropped from the dataset:', bad_label_cols)"
   ]
  },
  {
   "cell_type": "markdown",
   "id": "bf3f24ad",
   "metadata": {
    "papermill": {
     "duration": 0.033704,
     "end_time": "2021-08-05T08:45:37.392186",
     "exception": false,
     "start_time": "2021-08-05T08:45:37.358482",
     "status": "completed"
    },
    "tags": []
   },
   "source": [
    "### Part B\n",
    "\n",
    "Use the next code cell to ordinal encode the data in `X_train` and `X_valid`.  Set the preprocessed DataFrames to `label_X_train` and `label_X_valid`, respectively.  \n",
    "- We have provided code below to drop the categorical columns in `bad_label_cols` from the dataset. \n",
    "- You should ordinal encode the categorical columns in `good_label_cols`.  "
   ]
  },
  {
   "cell_type": "code",
   "execution_count": 12,
   "id": "cdabeab6",
   "metadata": {
    "execution": {
     "iopub.execute_input": "2021-08-05T08:45:37.481864Z",
     "iopub.status.busy": "2021-08-05T08:45:37.481129Z",
     "iopub.status.idle": "2021-08-05T08:45:37.530003Z",
     "shell.execute_reply": "2021-08-05T08:45:37.530507Z",
     "shell.execute_reply.started": "2021-08-05T08:20:56.176177Z"
    },
    "papermill": {
     "duration": 0.104893,
     "end_time": "2021-08-05T08:45:37.530683",
     "exception": false,
     "start_time": "2021-08-05T08:45:37.425790",
     "status": "completed"
    },
    "tags": []
   },
   "outputs": [
    {
     "data": {
      "application/javascript": [
       "parent.postMessage({\"jupyterEvent\": \"custom.exercise_interaction\", \"data\": {\"outcomeType\": 1, \"valueTowardsCompletion\": 0.5, \"interactionType\": 1, \"questionType\": 2, \"questionId\": \"2.2_LabelB\", \"learnToolsVersion\": \"0.3.4\", \"failureMessage\": \"\", \"exceptionClass\": \"\", \"trace\": \"\"}}, \"*\")"
      ],
      "text/plain": [
       "<IPython.core.display.Javascript object>"
      ]
     },
     "metadata": {},
     "output_type": "display_data"
    },
    {
     "data": {
      "text/markdown": [
       "<span style=\"color:#33cc33\">Correct</span>"
      ],
      "text/plain": [
       "Correct"
      ]
     },
     "metadata": {},
     "output_type": "display_data"
    }
   ],
   "source": [
    "from sklearn.preprocessing import OrdinalEncoder\n",
    "\n",
    "# Drop categorical columns that will not be encoded\n",
    "label_X_train = X_train.drop(bad_label_cols, axis=1)\n",
    "label_X_valid = X_valid.drop(bad_label_cols, axis=1)\n",
    "\n",
    "# Apply ordinal encoder\n",
    "ordinal_encoder = OrdinalEncoder()\n",
    "label_X_train[good_label_cols] = ordinal_encoder.fit_transform(X_train[good_label_cols])\n",
    "label_X_valid[good_label_cols] = ordinal_encoder.transform(X_valid[good_label_cols])\n",
    "    \n",
    "# Check your answer\n",
    "step_2.b.check()"
   ]
  },
  {
   "cell_type": "code",
   "execution_count": 13,
   "id": "ed7c35e5",
   "metadata": {
    "execution": {
     "iopub.execute_input": "2021-08-05T08:45:37.603709Z",
     "iopub.status.busy": "2021-08-05T08:45:37.603054Z",
     "iopub.status.idle": "2021-08-05T08:45:37.607066Z",
     "shell.execute_reply": "2021-08-05T08:45:37.606397Z",
     "shell.execute_reply.started": "2021-08-05T08:20:33.717219Z"
    },
    "papermill": {
     "duration": 0.041889,
     "end_time": "2021-08-05T08:45:37.607209",
     "exception": false,
     "start_time": "2021-08-05T08:45:37.565320",
     "status": "completed"
    },
    "tags": []
   },
   "outputs": [],
   "source": [
    "# Lines below will give you a hint or solution code\n",
    "#step_2.b.hint()\n",
    "#step_2.b.solution()"
   ]
  },
  {
   "cell_type": "markdown",
   "id": "5f8614d9",
   "metadata": {
    "papermill": {
     "duration": 0.034389,
     "end_time": "2021-08-05T08:45:37.676187",
     "exception": false,
     "start_time": "2021-08-05T08:45:37.641798",
     "status": "completed"
    },
    "tags": []
   },
   "source": [
    "Run the next code cell to get the MAE for this approach."
   ]
  },
  {
   "cell_type": "code",
   "execution_count": 14,
   "id": "4653474e",
   "metadata": {
    "execution": {
     "iopub.execute_input": "2021-08-05T08:45:37.748295Z",
     "iopub.status.busy": "2021-08-05T08:45:37.747603Z",
     "iopub.status.idle": "2021-08-05T08:45:39.365588Z",
     "shell.execute_reply": "2021-08-05T08:45:39.365001Z",
     "shell.execute_reply.started": "2021-08-05T08:21:38.574866Z"
    },
    "papermill": {
     "duration": 1.655093,
     "end_time": "2021-08-05T08:45:39.365751",
     "exception": false,
     "start_time": "2021-08-05T08:45:37.710658",
     "status": "completed"
    },
    "tags": []
   },
   "outputs": [
    {
     "name": "stdout",
     "output_type": "stream",
     "text": [
      "MAE from Approach 2 (Ordinal Encoding):\n",
      "17098.01649543379\n"
     ]
    }
   ],
   "source": [
    "print(\"MAE from Approach 2 (Ordinal Encoding):\") \n",
    "print(score_dataset(label_X_train, label_X_valid, y_train, y_valid))"
   ]
  },
  {
   "cell_type": "markdown",
   "id": "4203e61c",
   "metadata": {
    "papermill": {
     "duration": 0.034625,
     "end_time": "2021-08-05T08:45:39.435528",
     "exception": false,
     "start_time": "2021-08-05T08:45:39.400903",
     "status": "completed"
    },
    "tags": []
   },
   "source": [
    "So far, you've tried two different approaches to dealing with categorical variables.  And, you've seen that encoding categorical data yields better results than removing columns from the dataset.\n",
    "\n",
    "Soon, you'll try one-hot encoding.  Before then, there's one additional topic we need to cover.  Begin by running the next code cell without changes.  "
   ]
  },
  {
   "cell_type": "code",
   "execution_count": 15,
   "id": "6c28243d",
   "metadata": {
    "execution": {
     "iopub.execute_input": "2021-08-05T08:45:39.514246Z",
     "iopub.status.busy": "2021-08-05T08:45:39.513214Z",
     "iopub.status.idle": "2021-08-05T08:45:39.531243Z",
     "shell.execute_reply": "2021-08-05T08:45:39.530685Z",
     "shell.execute_reply.started": "2021-08-05T08:23:10.246324Z"
    },
    "papermill": {
     "duration": 0.060766,
     "end_time": "2021-08-05T08:45:39.531391",
     "exception": false,
     "start_time": "2021-08-05T08:45:39.470625",
     "status": "completed"
    },
    "tags": []
   },
   "outputs": [
    {
     "data": {
      "text/plain": [
       "[('Street', 2),\n",
       " ('Utilities', 2),\n",
       " ('CentralAir', 2),\n",
       " ('LandSlope', 3),\n",
       " ('PavedDrive', 3),\n",
       " ('LotShape', 4),\n",
       " ('LandContour', 4),\n",
       " ('ExterQual', 4),\n",
       " ('KitchenQual', 4),\n",
       " ('MSZoning', 5),\n",
       " ('LotConfig', 5),\n",
       " ('BldgType', 5),\n",
       " ('ExterCond', 5),\n",
       " ('HeatingQC', 5),\n",
       " ('Condition2', 6),\n",
       " ('RoofStyle', 6),\n",
       " ('Foundation', 6),\n",
       " ('Heating', 6),\n",
       " ('Functional', 6),\n",
       " ('SaleCondition', 6),\n",
       " ('RoofMatl', 7),\n",
       " ('HouseStyle', 8),\n",
       " ('Condition1', 9),\n",
       " ('SaleType', 9),\n",
       " ('Exterior1st', 15),\n",
       " ('Exterior2nd', 16),\n",
       " ('Neighborhood', 25)]"
      ]
     },
     "execution_count": 15,
     "metadata": {},
     "output_type": "execute_result"
    }
   ],
   "source": [
    "# Get number of unique entries in each column with categorical data\n",
    "object_nunique = list(map(lambda col: X_train[col].nunique(), object_cols))\n",
    "d = dict(zip(object_cols, object_nunique))\n",
    "\n",
    "# Print number of unique entries by column, in ascending order\n",
    "sorted(d.items(), key=lambda x: x[1])"
   ]
  },
  {
   "cell_type": "markdown",
   "id": "64c28de8",
   "metadata": {
    "papermill": {
     "duration": 0.034847,
     "end_time": "2021-08-05T08:45:39.601467",
     "exception": false,
     "start_time": "2021-08-05T08:45:39.566620",
     "status": "completed"
    },
    "tags": []
   },
   "source": [
    "# Step 3: Investigating cardinality\n",
    "\n",
    "### Part A\n",
    "\n",
    "The output above shows, for each column with categorical data, the number of unique values in the column.  For instance, the `'Street'` column in the training data has two unique values: `'Grvl'` and `'Pave'`, corresponding to a gravel road and a paved road, respectively.\n",
    "\n",
    "We refer to the number of unique entries of a categorical variable as the **cardinality** of that categorical variable.  For instance, the `'Street'` variable has cardinality 2.\n",
    "\n",
    "Use the output above to answer the questions below."
   ]
  },
  {
   "cell_type": "code",
   "execution_count": 16,
   "id": "0548239c",
   "metadata": {
    "execution": {
     "iopub.execute_input": "2021-08-05T08:45:39.679124Z",
     "iopub.status.busy": "2021-08-05T08:45:39.678362Z",
     "iopub.status.idle": "2021-08-05T08:45:39.684308Z",
     "shell.execute_reply": "2021-08-05T08:45:39.684811Z",
     "shell.execute_reply.started": "2021-08-05T08:34:20.999947Z"
    },
    "papermill": {
     "duration": 0.048046,
     "end_time": "2021-08-05T08:45:39.684998",
     "exception": false,
     "start_time": "2021-08-05T08:45:39.636952",
     "status": "completed"
    },
    "tags": []
   },
   "outputs": [
    {
     "data": {
      "application/javascript": [
       "parent.postMessage({\"jupyterEvent\": \"custom.exercise_interaction\", \"data\": {\"outcomeType\": 1, \"valueTowardsCompletion\": 0.5, \"interactionType\": 1, \"questionType\": 1, \"questionId\": \"3.1_CardinalityA\", \"learnToolsVersion\": \"0.3.4\", \"failureMessage\": \"\", \"exceptionClass\": \"\", \"trace\": \"\"}}, \"*\")"
      ],
      "text/plain": [
       "<IPython.core.display.Javascript object>"
      ]
     },
     "metadata": {},
     "output_type": "display_data"
    },
    {
     "data": {
      "text/markdown": [
       "<span style=\"color:#33cc33\">Correct</span>"
      ],
      "text/plain": [
       "Correct"
      ]
     },
     "metadata": {},
     "output_type": "display_data"
    }
   ],
   "source": [
    "# Fill in the line below: How many categorical variables in the training data\n",
    "# have cardinality greater than 10?\n",
    "high_cardinality_numcols = 0\n",
    "for key in d:\n",
    "    if d[key]>10: high_cardinality_numcols += 1\n",
    "\n",
    "# Fill in the line below: How many columns are needed to one-hot encode the \n",
    "# 'Neighborhood' variable in the training data?\n",
    "num_cols_neighborhood = 0\n",
    "for key in d:\n",
    "    if d[key]>num_cols_neighborhood: num_cols_neighborhood = d[key]\n",
    "\n",
    "# Check your answers\n",
    "step_3.a.check()"
   ]
  },
  {
   "cell_type": "code",
   "execution_count": 17,
   "id": "62bcb042",
   "metadata": {
    "execution": {
     "iopub.execute_input": "2021-08-05T08:45:39.762054Z",
     "iopub.status.busy": "2021-08-05T08:45:39.761061Z",
     "iopub.status.idle": "2021-08-05T08:45:39.764601Z",
     "shell.execute_reply": "2021-08-05T08:45:39.765066Z",
     "shell.execute_reply.started": "2021-08-05T08:34:26.695892Z"
    },
    "papermill": {
     "duration": 0.044043,
     "end_time": "2021-08-05T08:45:39.765249",
     "exception": false,
     "start_time": "2021-08-05T08:45:39.721206",
     "status": "completed"
    },
    "tags": []
   },
   "outputs": [],
   "source": [
    "# Lines below will give you a hint or solution code\n",
    "#step_3.a.hint()\n",
    "#step_3.a.solution()"
   ]
  },
  {
   "cell_type": "markdown",
   "id": "66a2805b",
   "metadata": {
    "papermill": {
     "duration": 0.036595,
     "end_time": "2021-08-05T08:45:39.838667",
     "exception": false,
     "start_time": "2021-08-05T08:45:39.802072",
     "status": "completed"
    },
    "tags": []
   },
   "source": [
    "### Part B\n",
    "\n",
    "For large datasets with many rows, one-hot encoding can greatly expand the size of the dataset.  For this reason, we typically will only one-hot encode columns with relatively low cardinality.  Then, high cardinality columns can either be dropped from the dataset, or we can use ordinal encoding.\n",
    "\n",
    "As an example, consider a dataset with 10,000 rows, and containing one categorical column with 100 unique entries.  \n",
    "- If this column is replaced with the corresponding one-hot encoding, how many entries are added to the dataset?  \n",
    "- If we instead replace the column with the ordinal encoding, how many entries are added?  \n",
    "\n",
    "Use your answers to fill in the lines below."
   ]
  },
  {
   "cell_type": "code",
   "execution_count": 18,
   "id": "df786ae6",
   "metadata": {
    "execution": {
     "iopub.execute_input": "2021-08-05T08:45:39.915782Z",
     "iopub.status.busy": "2021-08-05T08:45:39.914707Z",
     "iopub.status.idle": "2021-08-05T08:45:39.923014Z",
     "shell.execute_reply": "2021-08-05T08:45:39.923547Z",
     "shell.execute_reply.started": "2021-08-05T08:38:19.539010Z"
    },
    "papermill": {
     "duration": 0.048674,
     "end_time": "2021-08-05T08:45:39.923734",
     "exception": false,
     "start_time": "2021-08-05T08:45:39.875060",
     "status": "completed"
    },
    "tags": []
   },
   "outputs": [
    {
     "data": {
      "application/javascript": [
       "parent.postMessage({\"jupyterEvent\": \"custom.exercise_interaction\", \"data\": {\"outcomeType\": 1, \"valueTowardsCompletion\": 0.5, \"interactionType\": 1, \"questionType\": 1, \"questionId\": \"3.2_CardinalityB\", \"learnToolsVersion\": \"0.3.4\", \"failureMessage\": \"\", \"exceptionClass\": \"\", \"trace\": \"\"}}, \"*\")"
      ],
      "text/plain": [
       "<IPython.core.display.Javascript object>"
      ]
     },
     "metadata": {},
     "output_type": "display_data"
    },
    {
     "data": {
      "text/markdown": [
       "<span style=\"color:#33cc33\">Correct</span>"
      ],
      "text/plain": [
       "Correct"
      ]
     },
     "metadata": {},
     "output_type": "display_data"
    }
   ],
   "source": [
    "# Fill in the line below: How many entries are added to the dataset by \n",
    "# replacing the column with a one-hot encoding?\n",
    "OH_entries_added = 1e4*100 - 1e4\n",
    "\n",
    "# Fill in the line below: How many entries are added to the dataset by\n",
    "# replacing the column with an ordinal encoding?\n",
    "label_entries_added = 0\n",
    "\n",
    "# Check your answers\n",
    "step_3.b.check()"
   ]
  },
  {
   "cell_type": "code",
   "execution_count": 19,
   "id": "f1f4f5e8",
   "metadata": {
    "execution": {
     "iopub.execute_input": "2021-08-05T08:45:40.003995Z",
     "iopub.status.busy": "2021-08-05T08:45:40.003145Z",
     "iopub.status.idle": "2021-08-05T08:45:40.006101Z",
     "shell.execute_reply": "2021-08-05T08:45:40.005529Z",
     "shell.execute_reply.started": "2021-08-05T08:38:17.979382Z"
    },
    "papermill": {
     "duration": 0.045184,
     "end_time": "2021-08-05T08:45:40.006247",
     "exception": false,
     "start_time": "2021-08-05T08:45:39.961063",
     "status": "completed"
    },
    "tags": []
   },
   "outputs": [],
   "source": [
    "# Lines below will give you a hint or solution code\n",
    "#step_3.b.hint()\n",
    "#step_3.b.solution()"
   ]
  },
  {
   "cell_type": "markdown",
   "id": "71ae380f",
   "metadata": {
    "papermill": {
     "duration": 0.036934,
     "end_time": "2021-08-05T08:45:40.081400",
     "exception": false,
     "start_time": "2021-08-05T08:45:40.044466",
     "status": "completed"
    },
    "tags": []
   },
   "source": [
    "Next, you'll experiment with one-hot encoding.  But, instead of encoding all of the categorical variables in the dataset, you'll only create a one-hot encoding for columns with cardinality less than 10.\n",
    "\n",
    "Run the code cell below without changes to set `low_cardinality_cols` to a Python list containing the columns that will be one-hot encoded.  Likewise, `high_cardinality_cols` contains a list of categorical columns that will be dropped from the dataset."
   ]
  },
  {
   "cell_type": "code",
   "execution_count": 20,
   "id": "f143da4f",
   "metadata": {
    "execution": {
     "iopub.execute_input": "2021-08-05T08:45:40.165754Z",
     "iopub.status.busy": "2021-08-05T08:45:40.164565Z",
     "iopub.status.idle": "2021-08-05T08:45:40.179108Z",
     "shell.execute_reply": "2021-08-05T08:45:40.179792Z"
    },
    "papermill": {
     "duration": 0.059458,
     "end_time": "2021-08-05T08:45:40.180044",
     "exception": false,
     "start_time": "2021-08-05T08:45:40.120586",
     "status": "completed"
    },
    "tags": []
   },
   "outputs": [
    {
     "name": "stdout",
     "output_type": "stream",
     "text": [
      "Categorical columns that will be one-hot encoded: ['MSZoning', 'Street', 'LotShape', 'LandContour', 'Utilities', 'LotConfig', 'LandSlope', 'Condition1', 'Condition2', 'BldgType', 'HouseStyle', 'RoofStyle', 'RoofMatl', 'ExterQual', 'ExterCond', 'Foundation', 'Heating', 'HeatingQC', 'CentralAir', 'KitchenQual', 'Functional', 'PavedDrive', 'SaleType', 'SaleCondition']\n",
      "\n",
      "Categorical columns that will be dropped from the dataset: ['Exterior1st', 'Neighborhood', 'Exterior2nd']\n"
     ]
    }
   ],
   "source": [
    "# Columns that will be one-hot encoded\n",
    "low_cardinality_cols = [col for col in object_cols if X_train[col].nunique() < 10]\n",
    "\n",
    "# Columns that will be dropped from the dataset\n",
    "high_cardinality_cols = list(set(object_cols)-set(low_cardinality_cols))\n",
    "\n",
    "print('Categorical columns that will be one-hot encoded:', low_cardinality_cols)\n",
    "print('\\nCategorical columns that will be dropped from the dataset:', high_cardinality_cols)"
   ]
  },
  {
   "cell_type": "markdown",
   "id": "6ab10894",
   "metadata": {
    "papermill": {
     "duration": 0.037522,
     "end_time": "2021-08-05T08:45:40.256922",
     "exception": false,
     "start_time": "2021-08-05T08:45:40.219400",
     "status": "completed"
    },
    "tags": []
   },
   "source": [
    "# Step 4: One-hot encoding\n",
    "\n",
    "Use the next code cell to one-hot encode the data in `X_train` and `X_valid`.  Set the preprocessed DataFrames to `OH_X_train` and `OH_X_valid`, respectively.  \n",
    "- The full list of categorical columns in the dataset can be found in the Python list `object_cols`.\n",
    "- You should only one-hot encode the categorical columns in `low_cardinality_cols`.  All other categorical columns should be dropped from the dataset. "
   ]
  },
  {
   "cell_type": "code",
   "execution_count": 21,
   "id": "a2a8546d",
   "metadata": {
    "execution": {
     "iopub.execute_input": "2021-08-05T08:45:40.336280Z",
     "iopub.status.busy": "2021-08-05T08:45:40.335527Z",
     "iopub.status.idle": "2021-08-05T08:45:40.380246Z",
     "shell.execute_reply": "2021-08-05T08:45:40.380723Z",
     "shell.execute_reply.started": "2021-08-05T08:42:39.485504Z"
    },
    "papermill": {
     "duration": 0.086365,
     "end_time": "2021-08-05T08:45:40.380918",
     "exception": false,
     "start_time": "2021-08-05T08:45:40.294553",
     "status": "completed"
    },
    "tags": []
   },
   "outputs": [
    {
     "data": {
      "application/javascript": [
       "parent.postMessage({\"jupyterEvent\": \"custom.exercise_interaction\", \"data\": {\"outcomeType\": 1, \"valueTowardsCompletion\": 0.5, \"interactionType\": 1, \"questionType\": 2, \"questionId\": \"4_OneHot\", \"learnToolsVersion\": \"0.3.4\", \"failureMessage\": \"\", \"exceptionClass\": \"\", \"trace\": \"\"}}, \"*\")"
      ],
      "text/plain": [
       "<IPython.core.display.Javascript object>"
      ]
     },
     "metadata": {},
     "output_type": "display_data"
    },
    {
     "data": {
      "text/markdown": [
       "<span style=\"color:#33cc33\">Correct</span>"
      ],
      "text/plain": [
       "Correct"
      ]
     },
     "metadata": {},
     "output_type": "display_data"
    }
   ],
   "source": [
    "from sklearn.preprocessing import OneHotEncoder\n",
    "\n",
    "# Apply one-hot encoder to each column with categorical data\n",
    "OH_encoder = OneHotEncoder(handle_unknown='ignore', sparse=False)\n",
    "OH_cols_train = pd.DataFrame(OH_encoder.fit_transform(X_train[low_cardinality_cols]))\n",
    "OH_cols_valid = pd.DataFrame(OH_encoder.transform(X_valid[low_cardinality_cols]))\n",
    "\n",
    "# One-hot encoding removed index; put it back\n",
    "OH_cols_train.index = X_train.index\n",
    "OH_cols_valid.index = X_valid.index\n",
    "\n",
    "# Remove categorical columns (will replace with one-hot encoding)\n",
    "num_X_train = X_train.drop(object_cols, axis=1)\n",
    "num_X_valid = X_valid.drop(object_cols, axis=1)\n",
    "\n",
    "# Add one-hot encoded columns to numerical features\n",
    "OH_X_train = pd.concat([num_X_train, OH_cols_train], axis=1)\n",
    "OH_X_valid = pd.concat([num_X_valid, OH_cols_valid], axis=1)\n",
    "\n",
    "# Check your answer\n",
    "step_4.check()"
   ]
  },
  {
   "cell_type": "code",
   "execution_count": 22,
   "id": "b9ad1b1d",
   "metadata": {
    "execution": {
     "iopub.execute_input": "2021-08-05T08:45:40.462747Z",
     "iopub.status.busy": "2021-08-05T08:45:40.462067Z",
     "iopub.status.idle": "2021-08-05T08:45:40.465031Z",
     "shell.execute_reply": "2021-08-05T08:45:40.465535Z",
     "shell.execute_reply.started": "2021-08-05T08:42:51.018415Z"
    },
    "papermill": {
     "duration": 0.045957,
     "end_time": "2021-08-05T08:45:40.465703",
     "exception": false,
     "start_time": "2021-08-05T08:45:40.419746",
     "status": "completed"
    },
    "tags": []
   },
   "outputs": [],
   "source": [
    "# Lines below will give you a hint or solution code\n",
    "#step_4.hint()\n",
    "#step_4.solution()"
   ]
  },
  {
   "cell_type": "markdown",
   "id": "a826a872",
   "metadata": {
    "papermill": {
     "duration": 0.03949,
     "end_time": "2021-08-05T08:45:40.544050",
     "exception": false,
     "start_time": "2021-08-05T08:45:40.504560",
     "status": "completed"
    },
    "tags": []
   },
   "source": [
    "Run the next code cell to get the MAE for this approach."
   ]
  },
  {
   "cell_type": "code",
   "execution_count": 23,
   "id": "518512ae",
   "metadata": {
    "execution": {
     "iopub.execute_input": "2021-08-05T08:45:40.625481Z",
     "iopub.status.busy": "2021-08-05T08:45:40.624810Z",
     "iopub.status.idle": "2021-08-05T08:45:42.610773Z",
     "shell.execute_reply": "2021-08-05T08:45:42.610016Z"
    },
    "papermill": {
     "duration": 2.028018,
     "end_time": "2021-08-05T08:45:42.611046",
     "exception": false,
     "start_time": "2021-08-05T08:45:40.583028",
     "status": "completed"
    },
    "tags": []
   },
   "outputs": [
    {
     "name": "stdout",
     "output_type": "stream",
     "text": [
      "MAE from Approach 3 (One-Hot Encoding):\n",
      "17525.345719178084\n"
     ]
    }
   ],
   "source": [
    "print(\"MAE from Approach 3 (One-Hot Encoding):\") \n",
    "print(score_dataset(OH_X_train, OH_X_valid, y_train, y_valid))"
   ]
  },
  {
   "cell_type": "markdown",
   "id": "2b7fc3c3",
   "metadata": {
    "papermill": {
     "duration": 0.040023,
     "end_time": "2021-08-05T08:45:42.692409",
     "exception": false,
     "start_time": "2021-08-05T08:45:42.652386",
     "status": "completed"
    },
    "tags": []
   },
   "source": [
    "# Generate test predictions and submit your results\n",
    "\n",
    "After you complete Step 4, if you'd like to use what you've learned to submit your results to the leaderboard, you'll need to preprocess the test data before generating predictions.\n",
    "\n",
    "**This step is completely optional, and you do not need to submit results to the leaderboard to successfully complete the exercise.**\n",
    "\n",
    "Check out the previous exercise if you need help with remembering how to [join the competition](https://www.kaggle.com/c/home-data-for-ml-course) or save your results to CSV.  Once you have generated a file with your results, follow the instructions below:\n",
    "1. Begin by clicking on the **Save Version** button in the top right corner of the window.  This will generate a pop-up window.  \n",
    "2. Ensure that the **Save and Run All** option is selected, and then click on the **Save** button.\n",
    "3. This generates a window in the bottom left corner of the notebook.  After it has finished running, click on the number to the right of the **Save Version** button.  This pulls up a list of versions on the right of the screen.  Click on the ellipsis **(...)** to the right of the most recent version, and select **Open in Viewer**.  This brings you into view mode of the same page. You will need to scroll down to get back to these instructions.\n",
    "4. Click on the **Output** tab on the right of the screen.  Then, click on the file you would like to submit, and click on the blue **Submit** button to submit your results to the leaderboard.\n",
    "\n",
    "You have now successfully submitted to the competition!\n",
    "\n",
    "If you want to keep working to improve your performance, select the **Edit** button in the top right of the screen. Then you can change your code and repeat the process. There's a lot of room to improve, and you will climb up the leaderboard as you work.\n"
   ]
  },
  {
   "cell_type": "code",
   "execution_count": 24,
   "id": "b0939446",
   "metadata": {
    "execution": {
     "iopub.execute_input": "2021-08-05T08:45:42.775019Z",
     "iopub.status.busy": "2021-08-05T08:45:42.773745Z",
     "iopub.status.idle": "2021-08-05T08:45:42.777692Z",
     "shell.execute_reply": "2021-08-05T08:45:42.778215Z"
    },
    "papermill": {
     "duration": 0.046671,
     "end_time": "2021-08-05T08:45:42.778412",
     "exception": false,
     "start_time": "2021-08-05T08:45:42.731741",
     "status": "completed"
    },
    "tags": []
   },
   "outputs": [],
   "source": [
    "# (Optional) Your code here"
   ]
  },
  {
   "cell_type": "markdown",
   "id": "dbc67535",
   "metadata": {
    "papermill": {
     "duration": 0.039706,
     "end_time": "2021-08-05T08:45:42.858779",
     "exception": false,
     "start_time": "2021-08-05T08:45:42.819073",
     "status": "completed"
    },
    "tags": []
   },
   "source": [
    "# Keep going\n",
    "\n",
    "With missing value handling and categorical encoding, your modeling process is getting complex. This complexity gets worse when you want to save your model to use in the future. The key to managing this complexity is something called **pipelines**. \n",
    "\n",
    "**[Learn to use pipelines](https://www.kaggle.com/alexisbcook/pipelines)** to preprocess datasets with categorical variables, missing values and any other messiness your data throws at you."
   ]
  },
  {
   "cell_type": "markdown",
   "id": "427442d4",
   "metadata": {
    "papermill": {
     "duration": 0.040826,
     "end_time": "2021-08-05T08:45:42.939210",
     "exception": false,
     "start_time": "2021-08-05T08:45:42.898384",
     "status": "completed"
    },
    "tags": []
   },
   "source": [
    "---\n",
    "\n",
    "\n",
    "\n",
    "\n",
    "*Have questions or comments? Visit the [Learn Discussion forum](https://www.kaggle.com/learn-forum/161289) to chat with other Learners.*"
   ]
  }
 ],
 "metadata": {
  "kernelspec": {
   "display_name": "Python 3",
   "language": "python",
   "name": "python3"
  },
  "language_info": {
   "codemirror_mode": {
    "name": "ipython",
    "version": 3
   },
   "file_extension": ".py",
   "mimetype": "text/x-python",
   "name": "python",
   "nbconvert_exporter": "python",
   "pygments_lexer": "ipython3",
   "version": "3.7.10"
  },
  "papermill": {
   "default_parameters": {},
   "duration": 19.463737,
   "end_time": "2021-08-05T08:45:43.689428",
   "environment_variables": {},
   "exception": null,
   "input_path": "__notebook__.ipynb",
   "output_path": "__notebook__.ipynb",
   "parameters": {},
   "start_time": "2021-08-05T08:45:24.225691",
   "version": "2.3.3"
  }
 },
 "nbformat": 4,
 "nbformat_minor": 5
}
