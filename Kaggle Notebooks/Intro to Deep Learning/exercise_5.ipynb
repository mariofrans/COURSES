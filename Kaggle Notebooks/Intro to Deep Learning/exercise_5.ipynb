{
 "cells": [
  {
   "cell_type": "markdown",
   "id": "1c2f5394",
   "metadata": {
    "papermill": {
     "duration": 0.02225,
     "end_time": "2021-08-18T10:49:50.770657",
     "exception": false,
     "start_time": "2021-08-18T10:49:50.748407",
     "status": "completed"
    },
    "tags": []
   },
   "source": [
    "**This notebook is an exercise in the [Intro to Deep Learning](https://www.kaggle.com/learn/intro-to-deep-learning) course.  You can reference the tutorial at [this link](https://www.kaggle.com/ryanholbrook/dropout-and-batch-normalization).**\n",
    "\n",
    "---\n"
   ]
  },
  {
   "cell_type": "markdown",
   "id": "e56a8b7a",
   "metadata": {
    "papermill": {
     "duration": 0.021394,
     "end_time": "2021-08-18T10:49:50.818525",
     "exception": false,
     "start_time": "2021-08-18T10:49:50.797131",
     "status": "completed"
    },
    "tags": []
   },
   "source": [
    "# Introduction #\n",
    "\n",
    "In this exercise, you'll add dropout to the *Spotify* model from Exercise 4 and see how batch normalization can let you successfully train models on difficult datasets.\n",
    "\n",
    "Run the next cell to get started!"
   ]
  },
  {
   "cell_type": "code",
   "execution_count": 1,
   "id": "ad959d55",
   "metadata": {
    "execution": {
     "iopub.execute_input": "2021-08-18T10:49:50.861914Z",
     "iopub.status.busy": "2021-08-18T10:49:50.860687Z",
     "iopub.status.idle": "2021-08-18T10:49:51.004646Z",
     "shell.execute_reply": "2021-08-18T10:49:51.003929Z",
     "shell.execute_reply.started": "2021-08-18T10:46:36.596316Z"
    },
    "papermill": {
     "duration": 0.166104,
     "end_time": "2021-08-18T10:49:51.004816",
     "exception": false,
     "start_time": "2021-08-18T10:49:50.838712",
     "status": "completed"
    },
    "tags": []
   },
   "outputs": [],
   "source": [
    "# Setup plotting\n",
    "import matplotlib.pyplot as plt\n",
    "plt.style.use('seaborn-whitegrid')\n",
    "# Set Matplotlib defaults\n",
    "plt.rc('figure', autolayout=True)\n",
    "plt.rc('axes', labelweight='bold', labelsize='large',\n",
    "       titleweight='bold', titlesize=18, titlepad=10)\n",
    "plt.rc('animation', html='html5')\n",
    "\n",
    "# Setup feedback system\n",
    "from learntools.core import binder\n",
    "binder.bind(globals())\n",
    "from learntools.deep_learning_intro.ex5 import *"
   ]
  },
  {
   "cell_type": "markdown",
   "id": "7218f402",
   "metadata": {
    "papermill": {
     "duration": 0.019369,
     "end_time": "2021-08-18T10:49:51.042393",
     "exception": false,
     "start_time": "2021-08-18T10:49:51.023024",
     "status": "completed"
    },
    "tags": []
   },
   "source": [
    "First load the *Spotify* dataset."
   ]
  },
  {
   "cell_type": "code",
   "execution_count": 2,
   "id": "bf0f1dd4",
   "metadata": {
    "execution": {
     "iopub.execute_input": "2021-08-18T10:49:51.088459Z",
     "iopub.status.busy": "2021-08-18T10:49:51.085773Z",
     "iopub.status.idle": "2021-08-18T10:49:58.293196Z",
     "shell.execute_reply": "2021-08-18T10:49:58.292253Z",
     "shell.execute_reply.started": "2021-08-18T10:46:36.608557Z"
    },
    "papermill": {
     "duration": 7.234033,
     "end_time": "2021-08-18T10:49:58.293434",
     "exception": false,
     "start_time": "2021-08-18T10:49:51.059401",
     "status": "completed"
    },
    "tags": []
   },
   "outputs": [
    {
     "name": "stdout",
     "output_type": "stream",
     "text": [
      "Input shape: [18]\n"
     ]
    }
   ],
   "source": [
    "import pandas as pd\n",
    "from sklearn.preprocessing import StandardScaler, OneHotEncoder\n",
    "from sklearn.compose import make_column_transformer\n",
    "from sklearn.model_selection import GroupShuffleSplit\n",
    "\n",
    "from tensorflow import keras\n",
    "from tensorflow.keras import layers\n",
    "from tensorflow.keras import callbacks\n",
    "\n",
    "spotify = pd.read_csv('../input/dl-course-data/spotify.csv')\n",
    "\n",
    "X = spotify.copy().dropna()\n",
    "y = X.pop('track_popularity')\n",
    "artists = X['track_artist']\n",
    "\n",
    "features_num = ['danceability', 'energy', 'key', 'loudness', 'mode',\n",
    "                'speechiness', 'acousticness', 'instrumentalness',\n",
    "                'liveness', 'valence', 'tempo', 'duration_ms']\n",
    "features_cat = ['playlist_genre']\n",
    "\n",
    "preprocessor = make_column_transformer(\n",
    "    (StandardScaler(), features_num),\n",
    "    (OneHotEncoder(), features_cat),\n",
    ")\n",
    "\n",
    "def group_split(X, y, group, train_size=0.75):\n",
    "    splitter = GroupShuffleSplit(train_size=train_size)\n",
    "    train, test = next(splitter.split(X, y, groups=group))\n",
    "    return (X.iloc[train], X.iloc[test], y.iloc[train], y.iloc[test])\n",
    "\n",
    "X_train, X_valid, y_train, y_valid = group_split(X, y, artists)\n",
    "\n",
    "X_train = preprocessor.fit_transform(X_train)\n",
    "X_valid = preprocessor.transform(X_valid)\n",
    "y_train = y_train / 100\n",
    "y_valid = y_valid / 100\n",
    "\n",
    "input_shape = [X_train.shape[1]]\n",
    "print(\"Input shape: {}\".format(input_shape))"
   ]
  },
  {
   "cell_type": "markdown",
   "id": "6d73acd0",
   "metadata": {
    "papermill": {
     "duration": 0.017736,
     "end_time": "2021-08-18T10:49:58.329765",
     "exception": false,
     "start_time": "2021-08-18T10:49:58.312029",
     "status": "completed"
    },
    "tags": []
   },
   "source": [
    "# 1) Add Dropout to Spotify Model\n",
    "\n",
    "Here is the last model from Exercise 4. Add two dropout layers, one after the `Dense` layer with 128 units, and one after the `Dense` layer with 64 units. Set the dropout rate on both to `0.3`."
   ]
  },
  {
   "cell_type": "code",
   "execution_count": 3,
   "id": "8adef829",
   "metadata": {
    "execution": {
     "iopub.execute_input": "2021-08-18T10:49:58.374202Z",
     "iopub.status.busy": "2021-08-18T10:49:58.373134Z",
     "iopub.status.idle": "2021-08-18T10:49:58.492884Z",
     "shell.execute_reply": "2021-08-18T10:49:58.492208Z",
     "shell.execute_reply.started": "2021-08-18T10:46:37.179158Z"
    },
    "lines_to_next_cell": 2,
    "papermill": {
     "duration": 0.143652,
     "end_time": "2021-08-18T10:49:58.493023",
     "exception": false,
     "start_time": "2021-08-18T10:49:58.349371",
     "status": "completed"
    },
    "tags": []
   },
   "outputs": [
    {
     "data": {
      "application/javascript": [
       "parent.postMessage({\"jupyterEvent\": \"custom.exercise_interaction\", \"data\": {\"outcomeType\": 1, \"valueTowardsCompletion\": 0.25, \"interactionType\": 1, \"questionType\": 2, \"questionId\": \"1_Q1\", \"learnToolsVersion\": \"0.3.4\", \"failureMessage\": \"\", \"exceptionClass\": \"\", \"trace\": \"\"}}, \"*\")"
      ],
      "text/plain": [
       "<IPython.core.display.Javascript object>"
      ]
     },
     "metadata": {},
     "output_type": "display_data"
    },
    {
     "data": {
      "text/markdown": [
       "<span style=\"color:#33cc33\">Correct</span>"
      ],
      "text/plain": [
       "Correct"
      ]
     },
     "metadata": {},
     "output_type": "display_data"
    }
   ],
   "source": [
    "# YOUR CODE HERE: Add two 30% dropout layers, one after 128 and one after 64\n",
    "model = keras.Sequential([\n",
    "    layers.Dense(128, activation='relu', input_shape=input_shape),\n",
    "    layers.Dropout(0.3),\n",
    "    layers.Dense(64, activation='relu'),\n",
    "    layers.Dropout(0.3),\n",
    "    layers.Dense(1)\n",
    "])\n",
    "\n",
    "# Check your answer\n",
    "q_1.check()"
   ]
  },
  {
   "cell_type": "code",
   "execution_count": 4,
   "id": "3705be21",
   "metadata": {
    "execution": {
     "iopub.execute_input": "2021-08-18T10:49:58.536513Z",
     "iopub.status.busy": "2021-08-18T10:49:58.535794Z",
     "iopub.status.idle": "2021-08-18T10:49:58.538942Z",
     "shell.execute_reply": "2021-08-18T10:49:58.538440Z",
     "shell.execute_reply.started": "2021-08-18T10:46:37.229967Z"
    },
    "papermill": {
     "duration": 0.025893,
     "end_time": "2021-08-18T10:49:58.539086",
     "exception": false,
     "start_time": "2021-08-18T10:49:58.513193",
     "status": "completed"
    },
    "tags": []
   },
   "outputs": [],
   "source": [
    "# Lines below will give you a hint or solution code\n",
    "#q_1.hint()\n",
    "#q_1.solution()"
   ]
  },
  {
   "cell_type": "markdown",
   "id": "f16b6e95",
   "metadata": {
    "papermill": {
     "duration": 0.019264,
     "end_time": "2021-08-18T10:49:58.577747",
     "exception": false,
     "start_time": "2021-08-18T10:49:58.558483",
     "status": "completed"
    },
    "tags": []
   },
   "source": [
    "Now run this next cell to train the model see the effect of adding dropout."
   ]
  },
  {
   "cell_type": "code",
   "execution_count": 5,
   "id": "e2ef0500",
   "metadata": {
    "execution": {
     "iopub.execute_input": "2021-08-18T10:49:58.631883Z",
     "iopub.status.busy": "2021-08-18T10:49:58.631177Z",
     "iopub.status.idle": "2021-08-18T10:50:14.382945Z",
     "shell.execute_reply": "2021-08-18T10:50:14.382234Z",
     "shell.execute_reply.started": "2021-08-18T10:46:37.238788Z"
    },
    "papermill": {
     "duration": 15.786078,
     "end_time": "2021-08-18T10:50:14.383102",
     "exception": false,
     "start_time": "2021-08-18T10:49:58.597024",
     "status": "completed"
    },
    "tags": []
   },
   "outputs": [
    {
     "name": "stdout",
     "output_type": "stream",
     "text": [
      "Minimum Validation Loss: 0.1883\n"
     ]
    },
    {
     "data": {
      "image/png": "[encoded data removed]",
      "text/plain": [
       "<Figure size 432x288 with 1 Axes>"
      ]
     },
     "metadata": {},
     "output_type": "display_data"
    }
   ],
   "source": [
    "model.compile(\n",
    "    optimizer='adam',\n",
    "    loss='mae',\n",
    ")\n",
    "history = model.fit(\n",
    "    X_train, y_train,\n",
    "    validation_data=(X_valid, y_valid),\n",
    "    batch_size=512,\n",
    "    epochs=50,\n",
    "    verbose=0,\n",
    ")\n",
    "history_df = pd.DataFrame(history.history)\n",
    "history_df.loc[:, ['loss', 'val_loss']].plot()\n",
    "print(\"Minimum Validation Loss: {:0.4f}\".format(history_df['val_loss'].min()))"
   ]
  },
  {
   "cell_type": "markdown",
   "id": "b7806338",
   "metadata": {
    "papermill": {
     "duration": 0.019292,
     "end_time": "2021-08-18T10:50:14.423398",
     "exception": false,
     "start_time": "2021-08-18T10:50:14.404106",
     "status": "completed"
    },
    "tags": []
   },
   "source": [
    "# 2) Evaluate Dropout\n",
    "\n",
    "Recall from Exercise 4 that this model tended to overfit the data around epoch 5. Did adding dropout seem to help prevent overfitting this time?"
   ]
  },
  {
   "cell_type": "code",
   "execution_count": 6,
   "id": "fa4b3c6d",
   "metadata": {
    "execution": {
     "iopub.execute_input": "2021-08-18T10:50:14.470496Z",
     "iopub.status.busy": "2021-08-18T10:50:14.469500Z",
     "iopub.status.idle": "2021-08-18T10:50:14.477009Z",
     "shell.execute_reply": "2021-08-18T10:50:14.476387Z",
     "shell.execute_reply.started": "2021-08-18T10:46:52.914722Z"
    },
    "papermill": {
     "duration": 0.032886,
     "end_time": "2021-08-18T10:50:14.477155",
     "exception": false,
     "start_time": "2021-08-18T10:50:14.444269",
     "status": "completed"
    },
    "tags": []
   },
   "outputs": [
    {
     "data": {
      "application/javascript": [
       "parent.postMessage({\"jupyterEvent\": \"custom.exercise_interaction\", \"data\": {\"outcomeType\": 1, \"valueTowardsCompletion\": 0.25, \"interactionType\": 1, \"questionType\": 4, \"questionId\": \"2_Q2\", \"learnToolsVersion\": \"0.3.4\", \"failureMessage\": \"\", \"exceptionClass\": \"\", \"trace\": \"\"}}, \"*\")"
      ],
      "text/plain": [
       "<IPython.core.display.Javascript object>"
      ]
     },
     "metadata": {},
     "output_type": "display_data"
    },
    {
     "data": {
      "text/markdown": [
       "<span style=\"color:#33cc33\">Correct:</span> \n",
       "\n",
       "\n",
       "From the learning curves, you can see that the validation loss remains near a constant minimum even though the training loss continues to decrease. So we can see that adding dropout did prevent overfitting this time. Moreover, by making it harder for the network to fit spurious patterns, dropout may have encouraged the network to seek out more of the true patterns, possibly improving the validation loss some as well).\n"
      ],
      "text/plain": [
       "Correct: \n",
       "\n",
       "\n",
       "From the learning curves, you can see that the validation loss remains near a constant minimum even though the training loss continues to decrease. So we can see that adding dropout did prevent overfitting this time. Moreover, by making it harder for the network to fit spurious patterns, dropout may have encouraged the network to seek out more of the true patterns, possibly improving the validation loss some as well)."
      ]
     },
     "metadata": {},
     "output_type": "display_data"
    }
   ],
   "source": [
    "# View the solution (Run this cell to receive credit!)\n",
    "q_2.check()"
   ]
  },
  {
   "cell_type": "markdown",
   "id": "51221fa1",
   "metadata": {
    "papermill": {
     "duration": 0.020535,
     "end_time": "2021-08-18T10:50:14.518301",
     "exception": false,
     "start_time": "2021-08-18T10:50:14.497766",
     "status": "completed"
    },
    "tags": []
   },
   "source": [
    "Now, we'll switch topics to explore how batch normalization can fix problems in training.\n",
    "\n",
    "Load the *Concrete* dataset. We won't do any standardization this time. This will make the effect of batch normalization much more apparent."
   ]
  },
  {
   "cell_type": "code",
   "execution_count": 7,
   "id": "f80ff554",
   "metadata": {
    "execution": {
     "iopub.execute_input": "2021-08-18T10:50:14.567979Z",
     "iopub.status.busy": "2021-08-18T10:50:14.567335Z",
     "iopub.status.idle": "2021-08-18T10:50:14.588350Z",
     "shell.execute_reply": "2021-08-18T10:50:14.587713Z",
     "shell.execute_reply.started": "2021-08-18T10:46:52.930490Z"
    },
    "papermill": {
     "duration": 0.048813,
     "end_time": "2021-08-18T10:50:14.588497",
     "exception": false,
     "start_time": "2021-08-18T10:50:14.539684",
     "status": "completed"
    },
    "tags": []
   },
   "outputs": [],
   "source": [
    "import pandas as pd\n",
    "\n",
    "concrete = pd.read_csv('../input/dl-course-data/concrete.csv')\n",
    "df = concrete.copy()\n",
    "\n",
    "df_train = df.sample(frac=0.7, random_state=0)\n",
    "df_valid = df.drop(df_train.index)\n",
    "\n",
    "X_train = df_train.drop('CompressiveStrength', axis=1)\n",
    "X_valid = df_valid.drop('CompressiveStrength', axis=1)\n",
    "y_train = df_train['CompressiveStrength']\n",
    "y_valid = df_valid['CompressiveStrength']\n",
    "\n",
    "input_shape = [X_train.shape[1]]"
   ]
  },
  {
   "cell_type": "markdown",
   "id": "1d3bbb52",
   "metadata": {
    "papermill": {
     "duration": 0.020973,
     "end_time": "2021-08-18T10:50:14.630490",
     "exception": false,
     "start_time": "2021-08-18T10:50:14.609517",
     "status": "completed"
    },
    "tags": []
   },
   "source": [
    "Run the following cell to train the network on the unstandardized *Concrete* data."
   ]
  },
  {
   "cell_type": "code",
   "execution_count": 8,
   "id": "dd89dfc5",
   "metadata": {
    "execution": {
     "iopub.execute_input": "2021-08-18T10:50:14.687430Z",
     "iopub.status.busy": "2021-08-18T10:50:14.686704Z",
     "iopub.status.idle": "2021-08-18T10:50:28.531217Z",
     "shell.execute_reply": "2021-08-18T10:50:28.531724Z",
     "shell.execute_reply.started": "2021-08-18T10:46:52.955528Z"
    },
    "papermill": {
     "duration": 13.880247,
     "end_time": "2021-08-18T10:50:28.531914",
     "exception": false,
     "start_time": "2021-08-18T10:50:14.651667",
     "status": "completed"
    },
    "tags": []
   },
   "outputs": [
    {
     "name": "stdout",
     "output_type": "stream",
     "text": [
      "Minimum Validation Loss: nan\n"
     ]
    },
    {
     "data": {
      "image/png": "[encoded data removed]",
      "text/plain": [
       "<Figure size 432x288 with 1 Axes>"
      ]
     },
     "metadata": {},
     "output_type": "display_data"
    }
   ],
   "source": [
    "model = keras.Sequential([\n",
    "    layers.Dense(512, activation='relu', input_shape=input_shape),\n",
    "    layers.Dense(512, activation='relu'),    \n",
    "    layers.Dense(512, activation='relu'),\n",
    "    layers.Dense(1),\n",
    "])\n",
    "model.compile(\n",
    "    optimizer='sgd', # SGD is more sensitive to differences of scale\n",
    "    loss='mae',\n",
    "    metrics=['mae'],\n",
    ")\n",
    "history = model.fit(\n",
    "    X_train, y_train,\n",
    "    validation_data=(X_valid, y_valid),\n",
    "    batch_size=64,\n",
    "    epochs=100,\n",
    "    verbose=0,\n",
    ")\n",
    "\n",
    "history_df = pd.DataFrame(history.history)\n",
    "history_df.loc[0:, ['loss', 'val_loss']].plot()\n",
    "print((\"Minimum Validation Loss: {:0.4f}\").format(history_df['val_loss'].min()))"
   ]
  },
  {
   "cell_type": "markdown",
   "id": "92070347",
   "metadata": {
    "papermill": {
     "duration": 0.021099,
     "end_time": "2021-08-18T10:50:28.575963",
     "exception": false,
     "start_time": "2021-08-18T10:50:28.554864",
     "status": "completed"
    },
    "tags": []
   },
   "source": [
    "Did you end up with a blank graph? Trying to train this network on this dataset will usually fail. Even when it does converge (due to a lucky weight initialization), it tends to converge to a very large number.\n",
    "\n",
    "# 3) Add Batch Normalization Layers\n",
    "\n",
    "Batch normalization can help correct problems like this.\n",
    "\n",
    "Add four `BatchNormalization` layers, one before each of the dense layers. (Remember to move the `input_shape` argument to the new first layer.)"
   ]
  },
  {
   "cell_type": "code",
   "execution_count": 9,
   "id": "1c089526",
   "metadata": {
    "execution": {
     "iopub.execute_input": "2021-08-18T10:50:28.623307Z",
     "iopub.status.busy": "2021-08-18T10:50:28.622635Z",
     "iopub.status.idle": "2021-08-18T10:50:28.644551Z",
     "shell.execute_reply": "2021-08-18T10:50:28.645066Z",
     "shell.execute_reply.started": "2021-08-18T10:47:09.690369Z"
    },
    "lines_to_next_cell": 0,
    "papermill": {
     "duration": 0.046625,
     "end_time": "2021-08-18T10:50:28.645236",
     "exception": false,
     "start_time": "2021-08-18T10:50:28.598611",
     "status": "completed"
    },
    "tags": []
   },
   "outputs": [
    {
     "data": {
      "application/javascript": [
       "parent.postMessage({\"jupyterEvent\": \"custom.exercise_interaction\", \"data\": {\"outcomeType\": 1, \"valueTowardsCompletion\": 0.25, \"interactionType\": 1, \"questionType\": 2, \"questionId\": \"3_Q3\", \"learnToolsVersion\": \"0.3.4\", \"failureMessage\": \"\", \"exceptionClass\": \"\", \"trace\": \"\"}}, \"*\")"
      ],
      "text/plain": [
       "<IPython.core.display.Javascript object>"
      ]
     },
     "metadata": {},
     "output_type": "display_data"
    },
    {
     "data": {
      "text/markdown": [
       "<span style=\"color:#33cc33\">Correct</span>"
      ],
      "text/plain": [
       "Correct"
      ]
     },
     "metadata": {},
     "output_type": "display_data"
    }
   ],
   "source": [
    "# YOUR CODE HERE: Add a BatchNormalization layer before each Dense layer\n",
    "model = keras.Sequential([\n",
    "    layers.BatchNormalization(),\n",
    "    layers.Dense(512, activation='relu', input_shape=input_shape),\n",
    "    layers.BatchNormalization(),\n",
    "    layers.Dense(512, activation='relu'),\n",
    "    layers.BatchNormalization(),\n",
    "    layers.Dense(512, activation='relu'),\n",
    "    layers.BatchNormalization(),\n",
    "    layers.Dense(1),\n",
    "])\n",
    "\n",
    "# Check your answer\n",
    "q_3.check()"
   ]
  },
  {
   "cell_type": "code",
   "execution_count": 10,
   "id": "dc059f0a",
   "metadata": {
    "execution": {
     "iopub.execute_input": "2021-08-18T10:50:28.695976Z",
     "iopub.status.busy": "2021-08-18T10:50:28.695265Z",
     "iopub.status.idle": "2021-08-18T10:50:28.697810Z",
     "shell.execute_reply": "2021-08-18T10:50:28.698272Z",
     "shell.execute_reply.started": "2021-08-18T10:47:09.718160Z"
    },
    "papermill": {
     "duration": 0.030756,
     "end_time": "2021-08-18T10:50:28.698456",
     "exception": false,
     "start_time": "2021-08-18T10:50:28.667700",
     "status": "completed"
    },
    "tags": []
   },
   "outputs": [],
   "source": [
    "# Lines below will give you a hint or solution code\n",
    "#q_3.hint()\n",
    "#q_3.solution()"
   ]
  },
  {
   "cell_type": "markdown",
   "id": "47b21a9b",
   "metadata": {
    "papermill": {
     "duration": 0.023227,
     "end_time": "2021-08-18T10:50:28.745125",
     "exception": false,
     "start_time": "2021-08-18T10:50:28.721898",
     "status": "completed"
    },
    "tags": []
   },
   "source": [
    "Run the next cell to see if batch normalization will let us train the model."
   ]
  },
  {
   "cell_type": "code",
   "execution_count": 11,
   "id": "f9fdacaf",
   "metadata": {
    "execution": {
     "iopub.execute_input": "2021-08-18T10:50:28.804698Z",
     "iopub.status.busy": "2021-08-18T10:50:28.803961Z",
     "iopub.status.idle": "2021-08-18T10:50:46.058913Z",
     "shell.execute_reply": "2021-08-18T10:50:46.058364Z",
     "shell.execute_reply.started": "2021-08-18T10:47:09.726639Z"
    },
    "papermill": {
     "duration": 17.290589,
     "end_time": "2021-08-18T10:50:46.059053",
     "exception": false,
     "start_time": "2021-08-18T10:50:28.768464",
     "status": "completed"
    },
    "tags": []
   },
   "outputs": [
    {
     "name": "stdout",
     "output_type": "stream",
     "text": [
      "Minimum Validation Loss: 3.9915\n"
     ]
    },
    {
     "data": {
      "image/png": "[encoded data removed]",
      "text/plain": [
       "<Figure size 432x288 with 1 Axes>"
      ]
     },
     "metadata": {},
     "output_type": "display_data"
    }
   ],
   "source": [
    "model.compile(\n",
    "    optimizer='sgd',\n",
    "    loss='mae',\n",
    "    metrics=['mae'],\n",
    ")\n",
    "EPOCHS = 100\n",
    "history = model.fit(\n",
    "    X_train, y_train,\n",
    "    validation_data=(X_valid, y_valid),\n",
    "    batch_size=64,\n",
    "    epochs=EPOCHS,\n",
    "    verbose=0,\n",
    ")\n",
    "\n",
    "history_df = pd.DataFrame(history.history)\n",
    "history_df.loc[0:, ['loss', 'val_loss']].plot()\n",
    "print((\"Minimum Validation Loss: {:0.4f}\").format(history_df['val_loss'].min()))"
   ]
  },
  {
   "cell_type": "markdown",
   "id": "d038cd2f",
   "metadata": {
    "papermill": {
     "duration": 0.023441,
     "end_time": "2021-08-18T10:50:46.107450",
     "exception": false,
     "start_time": "2021-08-18T10:50:46.084009",
     "status": "completed"
    },
    "tags": []
   },
   "source": [
    "# 4) Evaluate Batch Normalization\n",
    "\n",
    "Did adding batch normalization help?"
   ]
  },
  {
   "cell_type": "code",
   "execution_count": 12,
   "id": "47f78001",
   "metadata": {
    "execution": {
     "iopub.execute_input": "2021-08-18T10:50:46.160929Z",
     "iopub.status.busy": "2021-08-18T10:50:46.160255Z",
     "iopub.status.idle": "2021-08-18T10:50:46.165974Z",
     "shell.execute_reply": "2021-08-18T10:50:46.165441Z",
     "shell.execute_reply.started": "2021-08-18T10:47:30.426398Z"
    },
    "lines_to_next_cell": 0,
    "papermill": {
     "duration": 0.034418,
     "end_time": "2021-08-18T10:50:46.166114",
     "exception": false,
     "start_time": "2021-08-18T10:50:46.131696",
     "status": "completed"
    },
    "tags": []
   },
   "outputs": [
    {
     "data": {
      "application/javascript": [
       "parent.postMessage({\"jupyterEvent\": \"custom.exercise_interaction\", \"data\": {\"outcomeType\": 1, \"valueTowardsCompletion\": 0.25, \"interactionType\": 1, \"questionType\": 4, \"questionId\": \"4_Q4\", \"learnToolsVersion\": \"0.3.4\", \"failureMessage\": \"\", \"exceptionClass\": \"\", \"trace\": \"\"}}, \"*\")"
      ],
      "text/plain": [
       "<IPython.core.display.Javascript object>"
      ]
     },
     "metadata": {},
     "output_type": "display_data"
    },
    {
     "data": {
      "text/markdown": [
       "<span style=\"color:#33cc33\">Correct:</span> \n",
       "\n",
       "\n",
       "You can see that adding batch normalization was a big improvement on the first attempt! By adaptively scaling the data as it passes through the network, batch normalization can let you train models on difficult datasets.\n"
      ],
      "text/plain": [
       "Correct: \n",
       "\n",
       "\n",
       "You can see that adding batch normalization was a big improvement on the first attempt! By adaptively scaling the data as it passes through the network, batch normalization can let you train models on difficult datasets."
      ]
     },
     "metadata": {},
     "output_type": "display_data"
    }
   ],
   "source": [
    "# View the solution (Run this cell to receive credit!)\n",
    "q_4.check()"
   ]
  },
  {
   "cell_type": "markdown",
   "id": "76b9bfe8",
   "metadata": {
    "papermill": {
     "duration": 0.024493,
     "end_time": "2021-08-18T10:50:46.215444",
     "exception": false,
     "start_time": "2021-08-18T10:50:46.190951",
     "status": "completed"
    },
    "tags": []
   },
   "source": [
    "# Keep Going #\n",
    "\n",
    "[**Create neural networks**](https://www.kaggle.com/ryanholbrook/binary-classification) for binary classification."
   ]
  },
  {
   "cell_type": "markdown",
   "id": "7ce59c42",
   "metadata": {
    "papermill": {
     "duration": 0.025879,
     "end_time": "2021-08-18T10:50:46.267889",
     "exception": false,
     "start_time": "2021-08-18T10:50:46.242010",
     "status": "completed"
    },
    "tags": []
   },
   "source": [
    "---\n",
    "\n",
    "\n",
    "\n",
    "\n",
    "*Have questions or comments? Visit the [Learn Discussion forum](https://www.kaggle.com/learn-forum/191966) to chat with other Learners.*"
   ]
  }
 ],
 "metadata": {
  "kernelspec": {
   "display_name": "Python 3",
   "language": "python",
   "name": "python3"
  },
  "language_info": {
   "codemirror_mode": {
    "name": "ipython",
    "version": 3
   },
   "file_extension": ".py",
   "mimetype": "text/x-python",
   "name": "python",
   "nbconvert_exporter": "python",
   "pygments_lexer": "ipython3",
   "version": "3.7.10"
  },
  "papermill": {
   "default_parameters": {},
   "duration": 65.879966,
   "end_time": "2021-08-18T10:50:48.146850",
   "environment_variables": {},
   "exception": null,
   "input_path": "__notebook__.ipynb",
   "output_path": "__notebook__.ipynb",
   "parameters": {},
   "start_time": "2021-08-18T10:49:42.266884",
   "version": "2.3.3"
  }
 },
 "nbformat": 4,
 "nbformat_minor": 5
}
