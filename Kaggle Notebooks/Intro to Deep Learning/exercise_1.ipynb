{
 "cells": [
  {
   "cell_type": "markdown",
   "id": "09dbe194",
   "metadata": {
    "papermill": {
     "duration": 0.01443,
     "end_time": "2021-08-18T09:07:52.980649",
     "exception": false,
     "start_time": "2021-08-18T09:07:52.966219",
     "status": "completed"
    },
    "tags": []
   },
   "source": [
    "**This notebook is an exercise in the [Intro to Deep Learning](https://www.kaggle.com/learn/intro-to-deep-learning) course.  You can reference the tutorial at [this link](https://www.kaggle.com/ryanholbrook/a-single-neuron).**\n",
    "\n",
    "---\n"
   ]
  },
  {
   "cell_type": "markdown",
   "id": "6ed62e19",
   "metadata": {
    "papermill": {
     "duration": 0.013168,
     "end_time": "2021-08-18T09:07:53.011963",
     "exception": false,
     "start_time": "2021-08-18T09:07:52.998795",
     "status": "completed"
    },
    "tags": []
   },
   "source": [
    "# Introduction #\n",
    "\n",
    "In the tutorial we learned about the building blocks of neural networks: *linear units*. We saw that a model of just one linear unit will fit a linear function to a dataset (equivalent to linear regression). In this exercise, you'll build a linear model and get some practice working with models in Keras.\n",
    "\n",
    "Before you get started, run the code cell below to set everything up."
   ]
  },
  {
   "cell_type": "code",
   "execution_count": 1,
   "id": "f1cbbe2c",
   "metadata": {
    "execution": {
     "iopub.execute_input": "2021-08-18T09:07:53.051445Z",
     "iopub.status.busy": "2021-08-18T09:07:53.050832Z",
     "iopub.status.idle": "2021-08-18T09:07:58.601047Z",
     "shell.execute_reply": "2021-08-18T09:07:58.600386Z",
     "shell.execute_reply.started": "2021-08-18T09:03:29.257259Z"
    },
    "papermill": {
     "duration": 5.575959,
     "end_time": "2021-08-18T09:07:58.601223",
     "exception": false,
     "start_time": "2021-08-18T09:07:53.025264",
     "status": "completed"
    },
    "tags": []
   },
   "outputs": [],
   "source": [
    "# Setup plotting\n",
    "import matplotlib.pyplot as plt\n",
    "\n",
    "plt.style.use('seaborn-whitegrid')\n",
    "# Set Matplotlib defaults\n",
    "plt.rc('figure', autolayout=True)\n",
    "plt.rc('axes', labelweight='bold', labelsize='large',\n",
    "       titleweight='bold', titlesize=18, titlepad=10)\n",
    "\n",
    "# Setup feedback system\n",
    "from learntools.core import binder\n",
    "binder.bind(globals())\n",
    "from learntools.deep_learning_intro.ex1 import *"
   ]
  },
  {
   "cell_type": "markdown",
   "id": "70d036d3",
   "metadata": {
    "papermill": {
     "duration": 0.012783,
     "end_time": "2021-08-18T09:07:58.627502",
     "exception": false,
     "start_time": "2021-08-18T09:07:58.614719",
     "status": "completed"
    },
    "tags": []
   },
   "source": [
    "The *Red Wine Quality* dataset consists of physiochemical measurements from about 1600 Portuguese red wines.  Also included is a quality rating for each wine from blind taste-tests. \n",
    "\n",
    "First, run the next cell to display the first few rows of this dataset."
   ]
  },
  {
   "cell_type": "code",
   "execution_count": 2,
   "id": "801506be",
   "metadata": {
    "execution": {
     "iopub.execute_input": "2021-08-18T09:07:58.659134Z",
     "iopub.status.busy": "2021-08-18T09:07:58.658444Z",
     "iopub.status.idle": "2021-08-18T09:07:58.708887Z",
     "shell.execute_reply": "2021-08-18T09:07:58.709395Z",
     "shell.execute_reply.started": "2021-08-18T09:03:32.319910Z"
    },
    "papermill": {
     "duration": 0.068811,
     "end_time": "2021-08-18T09:07:58.709567",
     "exception": false,
     "start_time": "2021-08-18T09:07:58.640756",
     "status": "completed"
    },
    "tags": []
   },
   "outputs": [
    {
     "data": {
      "text/html": [
       "<div>\n",
       "<style scoped>\n",
       "    .dataframe tbody tr th:only-of-type {\n",
       "        vertical-align: middle;\n",
       "    }\n",
       "\n",
       "    .dataframe tbody tr th {\n",
       "        vertical-align: top;\n",
       "    }\n",
       "\n",
       "    .dataframe thead th {\n",
       "        text-align: right;\n",
       "    }\n",
       "</style>\n",
       "<table border=\"1\" class=\"dataframe\">\n",
       "  <thead>\n",
       "    <tr style=\"text-align: right;\">\n",
       "      <th></th>\n",
       "      <th>fixed acidity</th>\n",
       "      <th>volatile acidity</th>\n",
       "      <th>citric acid</th>\n",
       "      <th>residual sugar</th>\n",
       "      <th>chlorides</th>\n",
       "      <th>free sulfur dioxide</th>\n",
       "      <th>total sulfur dioxide</th>\n",
       "      <th>density</th>\n",
       "      <th>pH</th>\n",
       "      <th>sulphates</th>\n",
       "      <th>alcohol</th>\n",
       "      <th>quality</th>\n",
       "    </tr>\n",
       "  </thead>\n",
       "  <tbody>\n",
       "    <tr>\n",
       "      <th>0</th>\n",
       "      <td>7.4</td>\n",
       "      <td>0.70</td>\n",
       "      <td>0.00</td>\n",
       "      <td>1.9</td>\n",
       "      <td>0.076</td>\n",
       "      <td>11.0</td>\n",
       "      <td>34.0</td>\n",
       "      <td>0.9978</td>\n",
       "      <td>3.51</td>\n",
       "      <td>0.56</td>\n",
       "      <td>9.4</td>\n",
       "      <td>5</td>\n",
       "    </tr>\n",
       "    <tr>\n",
       "      <th>1</th>\n",
       "      <td>7.8</td>\n",
       "      <td>0.88</td>\n",
       "      <td>0.00</td>\n",
       "      <td>2.6</td>\n",
       "      <td>0.098</td>\n",
       "      <td>25.0</td>\n",
       "      <td>67.0</td>\n",
       "      <td>0.9968</td>\n",
       "      <td>3.20</td>\n",
       "      <td>0.68</td>\n",
       "      <td>9.8</td>\n",
       "      <td>5</td>\n",
       "    </tr>\n",
       "    <tr>\n",
       "      <th>2</th>\n",
       "      <td>7.8</td>\n",
       "      <td>0.76</td>\n",
       "      <td>0.04</td>\n",
       "      <td>2.3</td>\n",
       "      <td>0.092</td>\n",
       "      <td>15.0</td>\n",
       "      <td>54.0</td>\n",
       "      <td>0.9970</td>\n",
       "      <td>3.26</td>\n",
       "      <td>0.65</td>\n",
       "      <td>9.8</td>\n",
       "      <td>5</td>\n",
       "    </tr>\n",
       "    <tr>\n",
       "      <th>3</th>\n",
       "      <td>11.2</td>\n",
       "      <td>0.28</td>\n",
       "      <td>0.56</td>\n",
       "      <td>1.9</td>\n",
       "      <td>0.075</td>\n",
       "      <td>17.0</td>\n",
       "      <td>60.0</td>\n",
       "      <td>0.9980</td>\n",
       "      <td>3.16</td>\n",
       "      <td>0.58</td>\n",
       "      <td>9.8</td>\n",
       "      <td>6</td>\n",
       "    </tr>\n",
       "    <tr>\n",
       "      <th>4</th>\n",
       "      <td>7.4</td>\n",
       "      <td>0.70</td>\n",
       "      <td>0.00</td>\n",
       "      <td>1.9</td>\n",
       "      <td>0.076</td>\n",
       "      <td>11.0</td>\n",
       "      <td>34.0</td>\n",
       "      <td>0.9978</td>\n",
       "      <td>3.51</td>\n",
       "      <td>0.56</td>\n",
       "      <td>9.4</td>\n",
       "      <td>5</td>\n",
       "    </tr>\n",
       "  </tbody>\n",
       "</table>\n",
       "</div>"
      ],
      "text/plain": [
       "   fixed acidity  volatile acidity  citric acid  residual sugar  chlorides  \\\n",
       "0            7.4              0.70         0.00             1.9      0.076   \n",
       "1            7.8              0.88         0.00             2.6      0.098   \n",
       "2            7.8              0.76         0.04             2.3      0.092   \n",
       "3           11.2              0.28         0.56             1.9      0.075   \n",
       "4            7.4              0.70         0.00             1.9      0.076   \n",
       "\n",
       "   free sulfur dioxide  total sulfur dioxide  density    pH  sulphates  \\\n",
       "0                 11.0                  34.0   0.9978  3.51       0.56   \n",
       "1                 25.0                  67.0   0.9968  3.20       0.68   \n",
       "2                 15.0                  54.0   0.9970  3.26       0.65   \n",
       "3                 17.0                  60.0   0.9980  3.16       0.58   \n",
       "4                 11.0                  34.0   0.9978  3.51       0.56   \n",
       "\n",
       "   alcohol  quality  \n",
       "0      9.4        5  \n",
       "1      9.8        5  \n",
       "2      9.8        5  \n",
       "3      9.8        6  \n",
       "4      9.4        5  "
      ]
     },
     "execution_count": 2,
     "metadata": {},
     "output_type": "execute_result"
    }
   ],
   "source": [
    "import pandas as pd\n",
    "\n",
    "red_wine = pd.read_csv('../input/dl-course-data/red-wine.csv')\n",
    "red_wine.head()"
   ]
  },
  {
   "cell_type": "markdown",
   "id": "2bd23ba8",
   "metadata": {
    "papermill": {
     "duration": 0.014465,
     "end_time": "2021-08-18T09:07:58.738755",
     "exception": false,
     "start_time": "2021-08-18T09:07:58.724290",
     "status": "completed"
    },
    "tags": []
   },
   "source": [
    "You can get the number of rows and columns of a dataframe (or a Numpy array) with the `shape` attribute."
   ]
  },
  {
   "cell_type": "code",
   "execution_count": 3,
   "id": "c71fe404",
   "metadata": {
    "execution": {
     "iopub.execute_input": "2021-08-18T09:07:58.771970Z",
     "iopub.status.busy": "2021-08-18T09:07:58.771281Z",
     "iopub.status.idle": "2021-08-18T09:07:58.773939Z",
     "shell.execute_reply": "2021-08-18T09:07:58.774515Z",
     "shell.execute_reply.started": "2021-08-18T09:03:34.639854Z"
    },
    "papermill": {
     "duration": 0.022066,
     "end_time": "2021-08-18T09:07:58.774670",
     "exception": false,
     "start_time": "2021-08-18T09:07:58.752604",
     "status": "completed"
    },
    "tags": []
   },
   "outputs": [
    {
     "data": {
      "text/plain": [
       "(1599, 12)"
      ]
     },
     "execution_count": 3,
     "metadata": {},
     "output_type": "execute_result"
    }
   ],
   "source": [
    "red_wine.shape # (rows, columns)"
   ]
  },
  {
   "cell_type": "markdown",
   "id": "26c935c4",
   "metadata": {
    "papermill": {
     "duration": 0.016948,
     "end_time": "2021-08-18T09:07:58.805832",
     "exception": false,
     "start_time": "2021-08-18T09:07:58.788884",
     "status": "completed"
    },
    "tags": []
   },
   "source": [
    "# 1) Input shape #\n",
    "\n",
    "How well can we predict a wine's perceived quality from the physiochemical measurements?  \n",
    "\n",
    "The target is `'quality'`, and the remaining columns are the features.  How would you set the `input_shape` parameter for a Keras model on this task?"
   ]
  },
  {
   "cell_type": "code",
   "execution_count": 4,
   "id": "a02d0330",
   "metadata": {
    "execution": {
     "iopub.execute_input": "2021-08-18T09:07:58.838223Z",
     "iopub.status.busy": "2021-08-18T09:07:58.837543Z",
     "iopub.status.idle": "2021-08-18T09:07:58.844126Z",
     "shell.execute_reply": "2021-08-18T09:07:58.844631Z",
     "shell.execute_reply.started": "2021-08-18T09:03:36.793354Z"
    },
    "lines_to_next_cell": 0,
    "papermill": {
     "duration": 0.024236,
     "end_time": "2021-08-18T09:07:58.844819",
     "exception": false,
     "start_time": "2021-08-18T09:07:58.820583",
     "status": "completed"
    },
    "tags": []
   },
   "outputs": [
    {
     "data": {
      "application/javascript": [
       "parent.postMessage({\"jupyterEvent\": \"custom.exercise_interaction\", \"data\": {\"outcomeType\": 1, \"valueTowardsCompletion\": 0.3333333333333333, \"interactionType\": 1, \"questionType\": 2, \"questionId\": \"1_Q1\", \"learnToolsVersion\": \"0.3.4\", \"failureMessage\": \"\", \"exceptionClass\": \"\", \"trace\": \"\"}}, \"*\")"
      ],
      "text/plain": [
       "<IPython.core.display.Javascript object>"
      ]
     },
     "metadata": {},
     "output_type": "display_data"
    },
    {
     "data": {
      "text/markdown": [
       "<span style=\"color:#33cc33\">Correct</span>"
      ],
      "text/plain": [
       "Correct"
      ]
     },
     "metadata": {},
     "output_type": "display_data"
    }
   ],
   "source": [
    "# YOUR CODE HERE\n",
    "input_shape = [len(red_wine.columns) - 1]\n",
    "\n",
    "# Check your answer\n",
    "q_1.check()"
   ]
  },
  {
   "cell_type": "code",
   "execution_count": 5,
   "id": "a847082c",
   "metadata": {
    "execution": {
     "iopub.execute_input": "2021-08-18T09:07:58.878805Z",
     "iopub.status.busy": "2021-08-18T09:07:58.878204Z",
     "iopub.status.idle": "2021-08-18T09:07:58.881252Z",
     "shell.execute_reply": "2021-08-18T09:07:58.881783Z",
     "shell.execute_reply.started": "2021-08-18T07:47:40.836203Z"
    },
    "papermill": {
     "duration": 0.021664,
     "end_time": "2021-08-18T09:07:58.881953",
     "exception": false,
     "start_time": "2021-08-18T09:07:58.860289",
     "status": "completed"
    },
    "tags": []
   },
   "outputs": [],
   "source": [
    "# Lines below will give you a hint or solution code\n",
    "#q_1.hint()\n",
    "#q_1.solution()"
   ]
  },
  {
   "cell_type": "markdown",
   "id": "bf87a3c9",
   "metadata": {
    "papermill": {
     "duration": 0.014968,
     "end_time": "2021-08-18T09:07:58.912397",
     "exception": false,
     "start_time": "2021-08-18T09:07:58.897429",
     "status": "completed"
    },
    "tags": []
   },
   "source": [
    "# 2) Define a linear model\n",
    "\n",
    "Now define a linear model appropriate for this task. Pay attention to how many inputs and outputs the model should have."
   ]
  },
  {
   "cell_type": "code",
   "execution_count": 6,
   "id": "d3f6640f",
   "metadata": {
    "execution": {
     "iopub.execute_input": "2021-08-18T09:07:58.945813Z",
     "iopub.status.busy": "2021-08-18T09:07:58.945218Z",
     "iopub.status.idle": "2021-08-18T09:07:59.028741Z",
     "shell.execute_reply": "2021-08-18T09:07:59.029303Z",
     "shell.execute_reply.started": "2021-08-18T09:03:43.674453Z"
    },
    "lines_to_next_cell": 0,
    "papermill": {
     "duration": 0.10185,
     "end_time": "2021-08-18T09:07:59.029478",
     "exception": false,
     "start_time": "2021-08-18T09:07:58.927628",
     "status": "completed"
    },
    "tags": []
   },
   "outputs": [
    {
     "data": {
      "application/javascript": [
       "parent.postMessage({\"jupyterEvent\": \"custom.exercise_interaction\", \"data\": {\"outcomeType\": 1, \"valueTowardsCompletion\": 0.3333333333333333, \"interactionType\": 1, \"questionType\": 2, \"questionId\": \"2_Q2\", \"learnToolsVersion\": \"0.3.4\", \"failureMessage\": \"\", \"exceptionClass\": \"\", \"trace\": \"\"}}, \"*\")"
      ],
      "text/plain": [
       "<IPython.core.display.Javascript object>"
      ]
     },
     "metadata": {},
     "output_type": "display_data"
    },
    {
     "data": {
      "text/markdown": [
       "<span style=\"color:#33cc33\">Correct</span>"
      ],
      "text/plain": [
       "Correct"
      ]
     },
     "metadata": {},
     "output_type": "display_data"
    }
   ],
   "source": [
    "from tensorflow import keras\n",
    "from tensorflow.keras import layers\n",
    "\n",
    "# YOUR CODE HERE\n",
    "model = keras.Sequential([\n",
    "    layers.Dense(units=1, input_shape=input_shape)\n",
    "])\n",
    "\n",
    "# Check your answer\n",
    "q_2.check()"
   ]
  },
  {
   "cell_type": "code",
   "execution_count": 7,
   "id": "c2e93035",
   "metadata": {
    "execution": {
     "iopub.execute_input": "2021-08-18T09:07:59.065482Z",
     "iopub.status.busy": "2021-08-18T09:07:59.064913Z",
     "iopub.status.idle": "2021-08-18T09:07:59.067780Z",
     "shell.execute_reply": "2021-08-18T09:07:59.068337Z"
    },
    "papermill": {
     "duration": 0.022577,
     "end_time": "2021-08-18T09:07:59.068504",
     "exception": false,
     "start_time": "2021-08-18T09:07:59.045927",
     "status": "completed"
    },
    "tags": []
   },
   "outputs": [],
   "source": [
    "# Lines below will give you a hint or solution code\n",
    "#q_2.hint()\n",
    "#q_2.solution()"
   ]
  },
  {
   "cell_type": "markdown",
   "id": "2ba38ea6",
   "metadata": {
    "papermill": {
     "duration": 0.016369,
     "end_time": "2021-08-18T09:07:59.101890",
     "exception": false,
     "start_time": "2021-08-18T09:07:59.085521",
     "status": "completed"
    },
    "tags": []
   },
   "source": [
    "# 3) Look at the weights\n",
    "\n",
    "Internally, Keras represents the weights of a neural network with **tensors**. Tensors are basically TensorFlow's version of a Numpy array with a few differences that make them better suited to deep learning. One of the most important is that tensors are compatible with [GPU](https://www.kaggle.com/docs/efficient-gpu-usage) and [TPU](https://www.kaggle.com/docs/tpu)) accelerators. TPUs, in fact, are designed specifically for tensor computations.\n",
    "\n",
    "A model's weights are kept in its `weights` attribute as a list of tensors. Get the weights of the model you defined above. (If you want, you could display the weights with something like: `print(\"Weights\\n{}\\n\\nBias\\n{}\".format(w, b))`)."
   ]
  },
  {
   "cell_type": "code",
   "execution_count": 8,
   "id": "467e1a9c",
   "metadata": {
    "execution": {
     "iopub.execute_input": "2021-08-18T09:07:59.138350Z",
     "iopub.status.busy": "2021-08-18T09:07:59.137718Z",
     "iopub.status.idle": "2021-08-18T09:07:59.143921Z",
     "shell.execute_reply": "2021-08-18T09:07:59.144456Z",
     "shell.execute_reply.started": "2021-08-18T09:05:20.771933Z"
    },
    "lines_to_next_cell": 0,
    "papermill": {
     "duration": 0.026059,
     "end_time": "2021-08-18T09:07:59.144608",
     "exception": false,
     "start_time": "2021-08-18T09:07:59.118549",
     "status": "completed"
    },
    "tags": []
   },
   "outputs": [
    {
     "data": {
      "application/javascript": [
       "parent.postMessage({\"jupyterEvent\": \"custom.exercise_interaction\", \"data\": {\"outcomeType\": 1, \"valueTowardsCompletion\": 0.3333333333333333, \"interactionType\": 1, \"questionType\": 2, \"questionId\": \"3_Q3\", \"learnToolsVersion\": \"0.3.4\", \"failureMessage\": \"\", \"exceptionClass\": \"\", \"trace\": \"\"}}, \"*\")"
      ],
      "text/plain": [
       "<IPython.core.display.Javascript object>"
      ]
     },
     "metadata": {},
     "output_type": "display_data"
    },
    {
     "data": {
      "text/markdown": [
       "<span style=\"color:#33cc33\">Correct:</span> Do you see how there's one weight for each input (and a bias)? Notice though that there doesn't seem to be any pattern to the values the weights have. Before the model is trained, the weights are set to random numbers (and the bias to 0.0). A neural network learns by finding better values for its weights.\n"
      ],
      "text/plain": [
       "Correct: Do you see how there's one weight for each input (and a bias)? Notice though that there doesn't seem to be any pattern to the values the weights have. Before the model is trained, the weights are set to random numbers (and the bias to 0.0). A neural network learns by finding better values for its weights."
      ]
     },
     "metadata": {},
     "output_type": "display_data"
    }
   ],
   "source": [
    "# YOUR CODE HERE\n",
    "w, b = model.weights\n",
    "\n",
    "# Check your answer\n",
    "q_3.check()"
   ]
  },
  {
   "cell_type": "code",
   "execution_count": 9,
   "id": "23824d3a",
   "metadata": {
    "execution": {
     "iopub.execute_input": "2021-08-18T09:07:59.181898Z",
     "iopub.status.busy": "2021-08-18T09:07:59.181276Z",
     "iopub.status.idle": "2021-08-18T09:07:59.184209Z",
     "shell.execute_reply": "2021-08-18T09:07:59.184772Z",
     "shell.execute_reply.started": "2021-08-18T09:05:25.861925Z"
    },
    "lines_to_next_cell": 0,
    "papermill": {
     "duration": 0.02316,
     "end_time": "2021-08-18T09:07:59.184930",
     "exception": false,
     "start_time": "2021-08-18T09:07:59.161770",
     "status": "completed"
    },
    "tags": []
   },
   "outputs": [],
   "source": [
    "# Lines below will give you a hint or solution code\n",
    "#q_3.hint()\n",
    "#q_3.solution()"
   ]
  },
  {
   "cell_type": "markdown",
   "id": "5fbeaa43",
   "metadata": {
    "papermill": {
     "duration": 0.016954,
     "end_time": "2021-08-18T09:07:59.219369",
     "exception": false,
     "start_time": "2021-08-18T09:07:59.202415",
     "status": "completed"
    },
    "tags": []
   },
   "source": [
    "(By the way, Keras represents weights as tensors, but also uses tensors to represent data. When you set the `input_shape` argument, you are telling Keras the dimensions of the array it should expect for each example in the training data. Setting `input_shape=[3]` would create a network accepting vectors of length 3, like `[0.2, 0.4, 0.6]`.)\n",
    " \n",
    "\n",
    "# Optional: Plot the output of an untrained linear model\n",
    " \n",
    "The kinds of problems we'll work on through Lesson 5 will be *regression* problems, where the goal is to predict some numeric target. Regression problems are like \"curve-fitting\" problems: we're trying to find a curve that best fits the data. Let's take a look at the \"curve\" produced by a linear model. (You've probably guessed that it's a line!)\n",
    " \n",
    "We mentioned that before training a model's weights are set randomly. Run the cell below a few times to see the different lines produced with a random initialization. (There's no coding for this exercise -- it's just a demonstration.)"
   ]
  },
  {
   "cell_type": "code",
   "execution_count": 10,
   "id": "902cacf2",
   "metadata": {
    "execution": {
     "iopub.execute_input": "2021-08-18T09:07:59.257143Z",
     "iopub.status.busy": "2021-08-18T09:07:59.256475Z",
     "iopub.status.idle": "2021-08-18T09:07:59.795719Z",
     "shell.execute_reply": "2021-08-18T09:07:59.795080Z",
     "shell.execute_reply.started": "2021-08-18T09:07:24.868153Z"
    },
    "lines_to_next_cell": 0,
    "papermill": {
     "duration": 0.559064,
     "end_time": "2021-08-18T09:07:59.795856",
     "exception": false,
     "start_time": "2021-08-18T09:07:59.236792",
     "status": "completed"
    },
    "tags": []
   },
   "outputs": [
    {
     "data": {
      "image/png": "[encoded data removed]",
      "text/plain": [
       "<Figure size 600x400 with 1 Axes>"
      ]
     },
     "metadata": {},
     "output_type": "display_data"
    }
   ],
   "source": [
    "import tensorflow as tf\n",
    "import matplotlib.pyplot as plt\n",
    "\n",
    "model = keras.Sequential([\n",
    "    layers.Dense(1, input_shape=[1]),\n",
    "])\n",
    "\n",
    "x = tf.linspace(-1.0, 1.0, 100)\n",
    "y = model.predict(x)\n",
    "\n",
    "plt.figure(dpi=100)\n",
    "plt.plot(x, y, 'k')\n",
    "plt.xlim(-1, 1)\n",
    "plt.ylim(-1, 1)\n",
    "plt.xlabel(\"Input: x\")\n",
    "plt.ylabel(\"Target y\")\n",
    "w, b = model.weights # you could also use model.get_weights() here\n",
    "plt.title(\"Weight: {:0.2f}\\nBias: {:0.2f}\".format(w[0][0], b[0]))\n",
    "plt.show()"
   ]
  },
  {
   "cell_type": "markdown",
   "id": "1ebe1bb2",
   "metadata": {
    "papermill": {
     "duration": 0.018999,
     "end_time": "2021-08-18T09:07:59.833861",
     "exception": false,
     "start_time": "2021-08-18T09:07:59.814862",
     "status": "completed"
    },
    "tags": []
   },
   "source": [
    "# Keep Going #\n",
    "\n",
    "Add hidden layers and [**make your models deep**](https://www.kaggle.com/ryanholbrook/deep-neural-networks) in Lesson 2."
   ]
  },
  {
   "cell_type": "markdown",
   "id": "02c831e5",
   "metadata": {
    "papermill": {
     "duration": 0.018777,
     "end_time": "2021-08-18T09:07:59.871930",
     "exception": false,
     "start_time": "2021-08-18T09:07:59.853153",
     "status": "completed"
    },
    "tags": []
   },
   "source": [
    "---\n",
    "\n",
    "\n",
    "\n",
    "\n",
    "*Have questions or comments? Visit the [Learn Discussion forum](https://www.kaggle.com/learn-forum/191966) to chat with other Learners.*"
   ]
  }
 ],
 "metadata": {
  "kernelspec": {
   "display_name": "Python 3",
   "language": "python",
   "name": "python3"
  },
  "language_info": {
   "codemirror_mode": {
    "name": "ipython",
    "version": 3
   },
   "file_extension": ".py",
   "mimetype": "text/x-python",
   "name": "python",
   "nbconvert_exporter": "python",
   "pygments_lexer": "ipython3",
   "version": "3.7.10"
  },
  "papermill": {
   "default_parameters": {},
   "duration": 16.739334,
   "end_time": "2021-08-18T09:08:02.077769",
   "environment_variables": {},
   "exception": null,
   "input_path": "__notebook__.ipynb",
   "output_path": "__notebook__.ipynb",
   "parameters": {},
   "start_time": "2021-08-18T09:07:45.338435",
   "version": "2.3.3"
  }
 },
 "nbformat": 4,
 "nbformat_minor": 5
}
