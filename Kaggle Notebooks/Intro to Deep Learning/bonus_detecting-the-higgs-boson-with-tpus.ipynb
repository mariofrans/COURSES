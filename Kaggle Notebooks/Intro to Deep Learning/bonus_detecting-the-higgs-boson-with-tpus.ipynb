{
 "cells": [
  {
   "cell_type": "markdown",
   "metadata": {
    "papermill": {
     "duration": 0.009923,
     "end_time": "2021-03-11T15:43:03.372275",
     "exception": false,
     "start_time": "2021-03-11T15:43:03.362352",
     "status": "completed"
    },
    "tags": []
   },
   "source": [
    "# Searching for the Higgs Boson #\n",
    "\n",
    "The Standard Model is a theory in particle physics that describes some of the most basic forces of nature. One fundamental particle, the Higgs boson, is what accounts for the *mass* of matter. First theorized in the 1964, the Higgs boson eluded observation for almost fifty years. In 2012 it was finally observed experimentally at the Large Hadron Collider. These experiments produced millions of gigabytes of data.\n",
    "\n",
    "Large and complicated datasets like these are where deep learning excels. In this notebook, we'll build a Wide and Deep neural network to determine whether an observed particle collision produced a Higgs boson or not.\n",
    "\n",
    "# The Collision Data #\n",
    "\n",
    "The collision of protons at high energy can produce new particles like the Higgs boson. These particles can't be directly observed, however, since they decay almost instantly. So to detect the presence of a new particle, we instead observe the behavior of the particles they decay into, their \"decay products\".\n",
    "\n",
    "The *Higgs* dataset contains 21 \"low-level\" features of the decay products and also 7 more \"high-level\" features derived from these.\n",
    "\n",
    "# Wide and Deep Neural Networks #\n",
    "\n",
    "A *Wide and Deep* network trains a linear layer side-by-side with a deep stack of dense layers. Wide and Deep networks are often effective on tabular datasets.[^1]\n",
    "\n",
    "Both the dataset and the model are much larger than what we used in the course. To speed up training, we'll use Kaggle's [Tensor Processing Units](https://www.kaggle.com/docs/tpu) (TPUs), an accelerator ideal for large workloads.\n",
    "\n",
    "We've collected some hyperparameters here to make experimentation easier. Fork this notebook by [**clicking here**](https://www.kaggle.com/kernels/fork/12171965) to try it yourself!"
   ]
  },
  {
   "cell_type": "code",
   "execution_count": 1,
   "metadata": {
    "execution": {
     "iopub.execute_input": "2021-03-11T15:43:03.394822Z",
     "iopub.status.busy": "2021-03-11T15:43:03.394296Z",
     "iopub.status.idle": "2021-03-11T15:43:03.396791Z",
     "shell.execute_reply": "2021-03-11T15:43:03.397242Z"
    },
    "papermill": {
     "duration": 0.016412,
     "end_time": "2021-03-11T15:43:03.397485",
     "exception": false,
     "start_time": "2021-03-11T15:43:03.381073",
     "status": "completed"
    },
    "tags": []
   },
   "outputs": [],
   "source": [
    "# Model Configuration\n",
    "UNITS = 2 ** 11 # 2048\n",
    "ACTIVATION = 'relu'\n",
    "DROPOUT = 0.1\n",
    "\n",
    "# Training Configuration\n",
    "BATCH_SIZE_PER_REPLICA = 2 ** 11 # powers of 128 are best"
   ]
  },
  {
   "cell_type": "markdown",
   "metadata": {
    "papermill": {
     "duration": 0.008459,
     "end_time": "2021-03-11T15:43:03.414939",
     "exception": false,
     "start_time": "2021-03-11T15:43:03.406480",
     "status": "completed"
    },
    "tags": []
   },
   "source": [
    "The next few sections set up the TPU computation, data pipeline, and neural network model. If you'd just like to see the results, feel free to skip to the end!\n",
    "\n",
    "# Setup #\n",
    "\n",
    "In addition to our imports, this section contains some code that will connect our notebook to the TPU and create a **distribution strategy**. Each TPU has eight computational cores acting independently. With a distribution strategy, we define how we want to divide up the work between them."
   ]
  },
  {
   "cell_type": "code",
   "execution_count": 2,
   "metadata": {
    "execution": {
     "iopub.execute_input": "2021-03-11T15:43:03.436428Z",
     "iopub.status.busy": "2021-03-11T15:43:03.435781Z",
     "iopub.status.idle": "2021-03-11T15:43:14.897200Z",
     "shell.execute_reply": "2021-03-11T15:43:14.896436Z"
    },
    "papermill": {
     "duration": 11.473298,
     "end_time": "2021-03-11T15:43:14.897365",
     "exception": false,
     "start_time": "2021-03-11T15:43:03.424067",
     "status": "completed"
    },
    "tags": []
   },
   "outputs": [
    {
     "name": "stdout",
     "output_type": "stream",
     "text": [
      "Tensorflow version 2.4.1\n",
      "Number of accelerators:  8\n"
     ]
    }
   ],
   "source": [
    "# TensorFlow\n",
    "import tensorflow as tf\n",
    "print(\"Tensorflow version \" + tf.__version__)\n",
    "\n",
    "# Detect and init the TPU\n",
    "try: # detect TPUs\n",
    "    tpu = tf.distribute.cluster_resolver.TPUClusterResolver.connect() # TPU detection\n",
    "    strategy = tf.distribute.TPUStrategy(tpu)\n",
    "except ValueError: # detect GPUs\n",
    "    strategy = tf.distribute.get_strategy() # default strategy that works on CPU and single GPU\n",
    "print(\"Number of accelerators: \", strategy.num_replicas_in_sync)\n",
    "    \n",
    "# Plotting\n",
    "import pandas as pd\n",
    "import matplotlib.pyplot as plt\n",
    "\n",
    "# Matplotlib defaults\n",
    "plt.style.use('seaborn-whitegrid')\n",
    "plt.rc('figure', autolayout=True)\n",
    "plt.rc('axes', labelweight='bold', labelsize='large',\n",
    "       titleweight='bold', titlesize=18, titlepad=10)\n",
    "\n",
    "\n",
    "# Data\n",
    "from kaggle_datasets import KaggleDatasets\n",
    "from tensorflow.io import FixedLenFeature\n",
    "AUTO = tf.data.experimental.AUTOTUNE\n",
    "\n",
    "\n",
    "# Model\n",
    "from tensorflow import keras\n",
    "from tensorflow.keras import layers\n",
    "from tensorflow.keras import callbacks"
   ]
  },
  {
   "cell_type": "markdown",
   "metadata": {
    "papermill": {
     "duration": 0.010099,
     "end_time": "2021-03-11T15:43:14.917728",
     "exception": false,
     "start_time": "2021-03-11T15:43:14.907629",
     "status": "completed"
    },
    "tags": []
   },
   "source": [
    "Notice that TensorFlow now detects eight accelerators. Using a TPU is a bit like using eight GPUs at once.\n",
    "\n",
    "# Load Data #\n",
    "\n",
    "The dataset has been encoded in a binary file format called *TFRecords*. These two functions will parse the TFRecords and build a TensorFlow `tf.data.Dataset` object that we can use for training."
   ]
  },
  {
   "cell_type": "code",
   "execution_count": 3,
   "metadata": {
    "execution": {
     "iopub.execute_input": "2021-03-11T15:43:14.945438Z",
     "iopub.status.busy": "2021-03-11T15:43:14.944713Z",
     "iopub.status.idle": "2021-03-11T15:43:14.947462Z",
     "shell.execute_reply": "2021-03-11T15:43:14.946874Z"
    },
    "papermill": {
     "duration": 0.019923,
     "end_time": "2021-03-11T15:43:14.947589",
     "exception": false,
     "start_time": "2021-03-11T15:43:14.927666",
     "status": "completed"
    },
    "tags": []
   },
   "outputs": [],
   "source": [
    "def make_decoder(feature_description):\n",
    "    def decoder(example):\n",
    "        example = tf.io.parse_single_example(example, feature_description)\n",
    "        features = tf.io.parse_tensor(example['features'], tf.float32)\n",
    "        features = tf.reshape(features, [28])\n",
    "        label = example['label']\n",
    "        return features, label\n",
    "    return decoder\n",
    "\n",
    "def load_dataset(filenames, decoder, ordered=False):\n",
    "    AUTO = tf.data.experimental.AUTOTUNE\n",
    "    ignore_order = tf.data.Options()\n",
    "    if not ordered:\n",
    "        ignore_order.experimental_deterministic = False\n",
    "    dataset = (\n",
    "        tf.data\n",
    "        .TFRecordDataset(filenames, num_parallel_reads=AUTO)\n",
    "        .with_options(ignore_order)\n",
    "        .map(decoder, AUTO)\n",
    "    )\n",
    "    return dataset"
   ]
  },
  {
   "cell_type": "code",
   "execution_count": 4,
   "metadata": {
    "execution": {
     "iopub.execute_input": "2021-03-11T15:43:14.975645Z",
     "iopub.status.busy": "2021-03-11T15:43:14.974906Z",
     "iopub.status.idle": "2021-03-11T15:43:14.979227Z",
     "shell.execute_reply": "2021-03-11T15:43:14.978692Z"
    },
    "papermill": {
     "duration": 0.021738,
     "end_time": "2021-03-11T15:43:14.979356",
     "exception": false,
     "start_time": "2021-03-11T15:43:14.957618",
     "status": "completed"
    },
    "tags": []
   },
   "outputs": [],
   "source": [
    "dataset_size = int(11e6)\n",
    "validation_size = int(5e5)\n",
    "training_size = dataset_size - validation_size\n",
    "\n",
    "# For model.fit\n",
    "batch_size = BATCH_SIZE_PER_REPLICA * strategy.num_replicas_in_sync\n",
    "steps_per_epoch = training_size // batch_size\n",
    "validation_steps = validation_size // batch_size\n",
    "\n",
    "# For model.compile\n",
    "steps_per_execution = 256"
   ]
  },
  {
   "cell_type": "code",
   "execution_count": 5,
   "metadata": {
    "execution": {
     "iopub.execute_input": "2021-03-11T15:43:15.020783Z",
     "iopub.status.busy": "2021-03-11T15:43:15.008453Z",
     "iopub.status.idle": "2021-03-11T15:43:15.749723Z",
     "shell.execute_reply": "2021-03-11T15:43:15.749050Z"
    },
    "papermill": {
     "duration": 0.759978,
     "end_time": "2021-03-11T15:43:15.749886",
     "exception": false,
     "start_time": "2021-03-11T15:43:14.989908",
     "status": "completed"
    },
    "tags": []
   },
   "outputs": [],
   "source": [
    "feature_description = {\n",
    "    'features': FixedLenFeature([], tf.string),\n",
    "    'label': FixedLenFeature([], tf.float32),\n",
    "}\n",
    "decoder = make_decoder(feature_description)\n",
    "\n",
    "data_dir = KaggleDatasets().get_gcs_path('higgs-boson')\n",
    "train_files = tf.io.gfile.glob(data_dir + '/training' + '/*.tfrecord')\n",
    "valid_files = tf.io.gfile.glob(data_dir + '/validation' + '/*.tfrecord')\n",
    "\n",
    "ds_train = load_dataset(train_files, decoder, ordered=False)\n",
    "ds_train = (\n",
    "    ds_train\n",
    "    .cache()\n",
    "    .repeat()\n",
    "    .shuffle(2 ** 19)\n",
    "    .batch(batch_size)\n",
    "    .prefetch(AUTO)\n",
    ")\n",
    "\n",
    "ds_valid = load_dataset(valid_files, decoder, ordered=False)\n",
    "ds_valid = (\n",
    "    ds_valid\n",
    "    .batch(batch_size)\n",
    "    .cache()\n",
    "    .prefetch(AUTO)\n",
    ")"
   ]
  },
  {
   "cell_type": "markdown",
   "metadata": {
    "papermill": {
     "duration": 0.009881,
     "end_time": "2021-03-11T15:43:15.770705",
     "exception": false,
     "start_time": "2021-03-11T15:43:15.760824",
     "status": "completed"
    },
    "tags": []
   },
   "source": [
    "# Model #\n",
    "\n",
    "Now that the data is ready, let's define the network. We're defining the deep branch of the network using Keras's *Functional API*, which is a bit more flexible that the `Sequential` method we used in the course.\n"
   ]
  },
  {
   "cell_type": "code",
   "execution_count": 6,
   "metadata": {
    "execution": {
     "iopub.execute_input": "2021-03-11T15:43:15.810903Z",
     "iopub.status.busy": "2021-03-11T15:43:15.809980Z",
     "iopub.status.idle": "2021-03-11T15:43:16.678901Z",
     "shell.execute_reply": "2021-03-11T15:43:16.679403Z"
    },
    "papermill": {
     "duration": 0.894423,
     "end_time": "2021-03-11T15:43:16.679577",
     "exception": false,
     "start_time": "2021-03-11T15:43:15.785154",
     "status": "completed"
    },
    "tags": []
   },
   "outputs": [],
   "source": [
    "def dense_block(units, activation, dropout_rate, l1=None, l2=None):\n",
    "    def make(inputs):\n",
    "        x = layers.Dense(units)(inputs)\n",
    "        x = layers.BatchNormalization()(x)\n",
    "        x = layers.Activation(activation)(x)\n",
    "        x = layers.Dropout(dropout_rate)(x)\n",
    "        return x\n",
    "    return make\n",
    "\n",
    "with strategy.scope():\n",
    "    # Wide Network\n",
    "    wide = keras.experimental.LinearModel()\n",
    "\n",
    "    # Deep Network\n",
    "    inputs = keras.Input(shape=[28])\n",
    "    x = dense_block(UNITS, ACTIVATION, DROPOUT)(inputs)\n",
    "    x = dense_block(UNITS, ACTIVATION, DROPOUT)(x)\n",
    "    x = dense_block(UNITS, ACTIVATION, DROPOUT)(x)\n",
    "    x = dense_block(UNITS, ACTIVATION, DROPOUT)(x)\n",
    "    x = dense_block(UNITS, ACTIVATION, DROPOUT)(x)\n",
    "    outputs = layers.Dense(1)(x)\n",
    "    deep = keras.Model(inputs=inputs, outputs=outputs)\n",
    "    \n",
    "    # Wide and Deep Network\n",
    "    wide_and_deep = keras.experimental.WideDeepModel(\n",
    "        linear_model=wide,\n",
    "        dnn_model=deep,\n",
    "        activation='sigmoid',\n",
    "    )\n",
    "\n",
    "wide_and_deep.compile(\n",
    "    loss='binary_crossentropy',\n",
    "    optimizer='adam',\n",
    "    metrics=['AUC', 'binary_accuracy'],\n",
    "    experimental_steps_per_execution=steps_per_execution,\n",
    ")"
   ]
  },
  {
   "cell_type": "markdown",
   "metadata": {
    "papermill": {
     "duration": 0.009743,
     "end_time": "2021-03-11T15:43:16.699975",
     "exception": false,
     "start_time": "2021-03-11T15:43:16.690232",
     "status": "completed"
    },
    "tags": []
   },
   "source": [
    "# Training #\n",
    "\n",
    "During training, we'll use the `EarlyStopping` callback as usual. Notice that we've also defined a **learning rate schedule**. It's been found that gradually decreasing the learning rate over the course of training can improve performance (the weights \"settle in\" to a minimum). This schedule will multiply the learning rate by `0.2` if the validation loss didn't decrease after an epoch."
   ]
  },
  {
   "cell_type": "code",
   "execution_count": 7,
   "metadata": {
    "execution": {
     "iopub.execute_input": "2021-03-11T15:43:16.725213Z",
     "iopub.status.busy": "2021-03-11T15:43:16.724547Z",
     "iopub.status.idle": "2021-03-11T15:43:16.727555Z",
     "shell.execute_reply": "2021-03-11T15:43:16.727128Z"
    },
    "lines_to_next_cell": 2,
    "papermill": {
     "duration": 0.017911,
     "end_time": "2021-03-11T15:43:16.727685",
     "exception": false,
     "start_time": "2021-03-11T15:43:16.709774",
     "status": "completed"
    },
    "tags": []
   },
   "outputs": [],
   "source": [
    "early_stopping = callbacks.EarlyStopping(\n",
    "    patience=2,\n",
    "    min_delta=0.001,\n",
    "    restore_best_weights=True,\n",
    ")\n",
    "\n",
    "lr_schedule = callbacks.ReduceLROnPlateau(\n",
    "    patience=0,\n",
    "    factor=0.2,\n",
    "    min_lr=0.001,\n",
    ")"
   ]
  },
  {
   "cell_type": "code",
   "execution_count": 8,
   "metadata": {
    "execution": {
     "iopub.execute_input": "2021-03-11T15:43:16.755429Z",
     "iopub.status.busy": "2021-03-11T15:43:16.754831Z",
     "iopub.status.idle": "2021-03-11T15:55:01.128002Z",
     "shell.execute_reply": "2021-03-11T15:55:01.127321Z"
    },
    "papermill": {
     "duration": 704.389814,
     "end_time": "2021-03-11T15:55:01.128138",
     "exception": false,
     "start_time": "2021-03-11T15:43:16.738324",
     "status": "completed"
    },
    "tags": []
   },
   "outputs": [
    {
     "name": "stdout",
     "output_type": "stream",
     "text": [
      "Epoch 1/50\n",
      "640/640 [==============================] - 163s 255ms/step - loss: 0.6049 - auc: 0.7589 - binary_accuracy: 0.6923 - val_loss: 0.7150 - val_auc: 0.6417 - val_binary_accuracy: 0.6334\n",
      "Epoch 2/50\n",
      "640/640 [==============================] - 28s 44ms/step - loss: 0.4974 - auc: 0.8349 - binary_accuracy: 0.7525 - val_loss: 0.5277 - val_auc: 0.8233 - val_binary_accuracy: 0.7428\n",
      "Epoch 3/50\n",
      "640/640 [==============================] - 28s 44ms/step - loss: 0.4803 - auc: 0.8476 - binary_accuracy: 0.7638 - val_loss: 0.5147 - val_auc: 0.8315 - val_binary_accuracy: 0.7528\n",
      "Epoch 4/50\n",
      "640/640 [==============================] - 29s 45ms/step - loss: 0.4712 - auc: 0.8540 - binary_accuracy: 0.7698 - val_loss: 0.5038 - val_auc: 0.8385 - val_binary_accuracy: 0.7582\n",
      "Epoch 5/50\n",
      "640/640 [==============================] - 28s 44ms/step - loss: 0.4646 - auc: 0.8585 - binary_accuracy: 0.7738 - val_loss: 0.5008 - val_auc: 0.8395 - val_binary_accuracy: 0.7591\n",
      "Epoch 6/50\n",
      "640/640 [==============================] - 29s 45ms/step - loss: 0.4591 - auc: 0.8622 - binary_accuracy: 0.7773 - val_loss: 0.4709 - val_auc: 0.8606 - val_binary_accuracy: 0.7754\n",
      "Epoch 7/50\n",
      "640/640 [==============================] - 27s 43ms/step - loss: 0.4537 - auc: 0.8657 - binary_accuracy: 0.7807 - val_loss: 0.4631 - val_auc: 0.8620 - val_binary_accuracy: 0.7787\n",
      "Epoch 8/50\n",
      "640/640 [==============================] - 27s 43ms/step - loss: 0.4494 - auc: 0.8686 - binary_accuracy: 0.7836 - val_loss: 0.4565 - val_auc: 0.8670 - val_binary_accuracy: 0.7828\n",
      "Epoch 9/50\n",
      "640/640 [==============================] - 28s 44ms/step - loss: 0.4455 - auc: 0.8711 - binary_accuracy: 0.7860 - val_loss: 0.4491 - val_auc: 0.8713 - val_binary_accuracy: 0.7863\n",
      "Epoch 10/50\n",
      "640/640 [==============================] - 29s 45ms/step - loss: 0.4414 - auc: 0.8737 - binary_accuracy: 0.7885 - val_loss: 0.4431 - val_auc: 0.8751 - val_binary_accuracy: 0.7891\n",
      "Epoch 11/50\n",
      "640/640 [==============================] - 28s 43ms/step - loss: 0.4379 - auc: 0.8759 - binary_accuracy: 0.7908 - val_loss: 0.4409 - val_auc: 0.8748 - val_binary_accuracy: 0.7896\n",
      "Epoch 12/50\n",
      "640/640 [==============================] - 27s 43ms/step - loss: 0.4345 - auc: 0.8780 - binary_accuracy: 0.7927 - val_loss: 0.4377 - val_auc: 0.8787 - val_binary_accuracy: 0.7929\n",
      "Epoch 13/50\n",
      "640/640 [==============================] - 27s 43ms/step - loss: 0.4311 - auc: 0.8801 - binary_accuracy: 0.7949 - val_loss: 0.4325 - val_auc: 0.8800 - val_binary_accuracy: 0.7946\n",
      "Epoch 14/50\n",
      "640/640 [==============================] - 27s 43ms/step - loss: 0.4278 - auc: 0.8821 - binary_accuracy: 0.7970 - val_loss: 0.4314 - val_auc: 0.8811 - val_binary_accuracy: 0.7959\n",
      "Epoch 15/50\n",
      "640/640 [==============================] - 27s 43ms/step - loss: 0.4247 - auc: 0.8840 - binary_accuracy: 0.7989 - val_loss: 0.4284 - val_auc: 0.8820 - val_binary_accuracy: 0.7967\n",
      "Epoch 16/50\n",
      "640/640 [==============================] - 29s 45ms/step - loss: 0.4214 - auc: 0.8859 - binary_accuracy: 0.8008 - val_loss: 0.4268 - val_auc: 0.8828 - val_binary_accuracy: 0.7976\n",
      "Epoch 17/50\n",
      "640/640 [==============================] - 29s 46ms/step - loss: 0.4185 - auc: 0.8876 - binary_accuracy: 0.8024 - val_loss: 0.4257 - val_auc: 0.8838 - val_binary_accuracy: 0.7988\n",
      "Epoch 18/50\n",
      "640/640 [==============================] - 29s 45ms/step - loss: 0.4150 - auc: 0.8897 - binary_accuracy: 0.8047 - val_loss: 0.4246 - val_auc: 0.8841 - val_binary_accuracy: 0.7992\n",
      "Epoch 19/50\n",
      "640/640 [==============================] - 29s 46ms/step - loss: 0.4118 - auc: 0.8915 - binary_accuracy: 0.8066 - val_loss: 0.4249 - val_auc: 0.8840 - val_binary_accuracy: 0.7989\n",
      "Epoch 20/50\n",
      "640/640 [==============================] - 29s 45ms/step - loss: 0.4083 - auc: 0.8935 - binary_accuracy: 0.8086 - val_loss: 0.4246 - val_auc: 0.8844 - val_binary_accuracy: 0.7995\n"
     ]
    }
   ],
   "source": [
    "history = wide_and_deep.fit(\n",
    "    ds_train,\n",
    "    validation_data=ds_valid,\n",
    "    epochs=50,\n",
    "    steps_per_epoch=steps_per_epoch,\n",
    "    validation_steps=validation_steps,\n",
    "    callbacks=[early_stopping, lr_schedule],\n",
    ")"
   ]
  },
  {
   "cell_type": "code",
   "execution_count": 9,
   "metadata": {
    "execution": {
     "iopub.execute_input": "2021-03-11T15:55:01.211658Z",
     "iopub.status.busy": "2021-03-11T15:55:01.210831Z",
     "iopub.status.idle": "2021-03-11T15:55:01.632774Z",
     "shell.execute_reply": "2021-03-11T15:55:01.632310Z"
    },
    "papermill": {
     "duration": 0.466965,
     "end_time": "2021-03-11T15:55:01.632919",
     "exception": false,
     "start_time": "2021-03-11T15:55:01.165954",
     "status": "completed"
    },
    "tags": []
   },
   "outputs": [
    {
     "data": {
      "image/png": "[encoded data removed]",
      "text/plain": [
       "<Figure size 432x288 with 1 Axes>"
      ]
     },
     "metadata": {},
     "output_type": "display_data"
    },
    {
     "data": {
      "image/png": "[encoded data removed]",
      "text/plain": [
       "<Figure size 432x288 with 1 Axes>"
      ]
     },
     "metadata": {},
     "output_type": "display_data"
    }
   ],
   "source": [
    "history_frame = pd.DataFrame(history.history)\n",
    "history_frame.loc[:, ['loss', 'val_loss']].plot(title='Cross-entropy Loss')\n",
    "history_frame.loc[:, ['auc', 'val_auc']].plot(title='AUC');"
   ]
  },
  {
   "cell_type": "markdown",
   "metadata": {
    "papermill": {
     "duration": 0.039185,
     "end_time": "2021-03-11T15:55:01.711218",
     "exception": false,
     "start_time": "2021-03-11T15:55:01.672033",
     "status": "completed"
    },
    "tags": []
   },
   "source": [
    "# References #\n",
    "\n",
    "- Baldi, P. et al. *Searching for Exotic Particles in High-Energy Physics with Deep Learning*. (2014) ([arXiv](https://arxiv.org/abs/1402.4735))\n",
    "- Cheng, H. et al. *Wide & Deep Learning for Recommender Systems*. (2016) ([arXiv](https://arxiv.org/abs/1606.07792))\n",
    "- *What Exactly is the Higgs Boson?* Scientific American. (1999) [(article)](https://www.scientificamerican.com/article/what-exactly-is-the-higgs/)]\n",
    "\n",
    "[^1]: In the original implementation, categorical features were one-hot encoded and crossed to produce the interaction features. This \"wide\" dataset was used with the linear component. For the deep component, the categories were encoded into a much narrower embedding layer."
   ]
  },
  {
   "cell_type": "markdown",
   "metadata": {
    "papermill": {
     "duration": 0.040724,
     "end_time": "2021-03-11T15:55:01.791288",
     "exception": false,
     "start_time": "2021-03-11T15:55:01.750564",
     "status": "completed"
    },
    "tags": []
   },
   "source": [
    "---\n",
    "\n",
    "\n",
    "\n",
    "\n",
    "*Have questions or comments? Visit the [Learn Discussion forum](https://www.kaggle.com/learn-forum/191966) to chat with other Learners.*"
   ]
  }
 ],
 "metadata": {
  "kernelspec": {
   "display_name": "Python 3",
   "language": "python",
   "name": "python3"
  },
  "language_info": {
   "codemirror_mode": {
    "name": "ipython",
    "version": 3
   },
   "file_extension": ".py",
   "mimetype": "text/x-python",
   "name": "python",
   "nbconvert_exporter": "python",
   "pygments_lexer": "ipython3",
   "version": "3.7.9"
  },
  "papermill": {
   "default_parameters": {},
   "duration": 724.894644,
   "end_time": "2021-03-11T15:55:03.142119",
   "environment_variables": {},
   "exception": null,
   "input_path": "__notebook__.ipynb",
   "output_path": "__notebook__.ipynb",
   "parameters": {},
   "start_time": "2021-03-11T15:42:58.247475",
   "version": "2.2.2"
  }
 },
 "nbformat": 4,
 "nbformat_minor": 4
}
