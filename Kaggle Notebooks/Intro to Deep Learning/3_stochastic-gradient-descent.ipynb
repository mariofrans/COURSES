{
 "cells": [
  {
   "cell_type": "markdown",
   "id": "rapid-sapphire",
   "metadata": {
    "papermill": {
     "duration": 0.011816,
     "end_time": "2021-06-03T16:39:49.330610",
     "exception": false,
     "start_time": "2021-06-03T16:39:49.318794",
     "status": "completed"
    },
    "tags": []
   },
   "source": [
    "# Introduction #\n",
    "\n",
    "In the first two lessons, we learned how to build fully-connected networks out of stacks of dense layers. When first created, all of the network's weights are set randomly -- the network doesn't \"know\" anything yet. In this lesson we're going to see how to train a neural network; we're going to see how neural networks *learn*.\n",
    "\n",
    "As with all machine learning tasks, we begin with a set of training data. Each example in the training data consists of some features (the inputs) together with an expected target (the output). Training the network means adjusting its weights in such a way that it can transform the features into the target. In the *80 Cereals* dataset, for instance, we want a network that can take each cereal's `'sugar'`, `'fiber'`, and `'protein'` content and produce a prediction for that cereal's `'calories'`. If we can successfully train a network to do that, its weights must represent in some way the relationship between those features and that target as expressed in the training data.\n",
    "\n",
    "In addition to the training data, we need two more things:\n",
    "- A \"loss function\" that measures how good the network's predictions are.\n",
    "- An \"optimizer\" that can tell the network how to change its weights.\n",
    "\n",
    "# The Loss Function #\n",
    "\n",
    "We've seen how to design an architecture for a network, but we haven't seen how to tell a network *what* problem to solve. This is the job of the loss function.\n",
    "\n",
    "The **loss function** measures the disparity between the the target's true value and the value the model predicts. \n",
    "\n",
    "Different problems call for different loss functions. We have been looking at **regression** problems, where the task is to predict some numerical value -- calories in *80 Cereals*, rating in *Red Wine Quality*. Other regression tasks might be predicting the price of a house or the fuel efficiency of a car.\n",
    "\n",
    "A common loss function for regression problems is the **mean absolute error** or **MAE**. For each prediction `y_pred`, MAE measures the disparity from the true target `y_true` by an absolute difference `abs(y_true - y_pred)`.\n",
    "\n",
    "The total MAE loss on a dataset is the mean of all these absolute differences.\n",
    "\n",
    "<figure style=\"padding: 1em;\">\n",
    "<img src=\"https://i.imgur.com/VDcvkZN.png\" width=\"500\" alt=\"A graph depicting error bars from data points to the fitted line..\">\n",
    "<figcaption style=\"textalign: center; font-style: italic\"><center>The mean absolute error is the average length between the fitted curve and the data points.\n",
    "</center></figcaption>\n",
    "</figure>\n",
    "\n",
    "Besides MAE, other loss functions you might see for regression problems are the mean-squared error (MSE) or the Huber loss (both available in Keras).\n",
    "\n",
    "During training, the model will use the loss function as a guide for finding the correct values of its weights (lower loss is better). In other words, the loss function tells the network its objective.\n",
    "\n",
    "# The Optimizer - Stochastic Gradient Descent #\n",
    "\n",
    "We've described the problem we want the network to solve, but now we need to say *how* to solve it. This is the job of the **optimizer**. The optimizer is an algorithm that adjusts the weights to minimize the loss.\n",
    "\n",
    "Virtually all of the optimization algorithms used in deep learning belong to a family called **stochastic gradient descent**. They are iterative algorithms that train a network in steps. One **step** of training goes like this:\n",
    "1. Sample some training data and run it through the network to make predictions.\n",
    "2. Measure the loss between the predictions and the true values.\n",
    "3. Finally, adjust the weights in a direction that makes the loss smaller.\n",
    "\n",
    "Then just do this over and over until the loss is as small as you like (or until it won't decrease any further.)\n",
    "\n",
    "<figure style=\"padding: 1em;\">\n",
    "<img src=\"https://i.imgur.com/rFI1tIk.gif\" width=\"1600\" alt=\"Fitting a line batch by batch. The loss decreases and the weights approach their true values.\">\n",
    "<figcaption style=\"textalign: center; font-style: italic\"><center>Training a neural network with Stochastic Gradient Descent.\n",
    "</center></figcaption>\n",
    "</figure>\n",
    "\n",
    "Each iteration's sample of training data is called a **minibatch** (or often just \"batch\"), while a complete round of the training data is called an **epoch**. The number of epochs you train for is how many times the network will see each training example.\n",
    "\n",
    "The animation shows the linear model from Lesson 1 being trained with SGD. The pale red dots depict the entire training set, while the solid red dots are the minibatches. Every time SGD sees a new minibatch, it will shift the weights (`w` the slope and `b` the y-intercept) toward their correct values on that batch. Batch after batch, the line eventually converges to its best fit. You can see that the loss gets smaller as the weights get closer to their true values.\n",
    "\n",
    "## Learning Rate and Batch Size ##\n",
    "\n",
    "Notice that the line only makes a small shift in the direction of each batch (instead of moving all the way). The size of these shifts is determined by the **learning rate**. A smaller learning rate means the network needs to see more minibatches before its weights converge to their best values.\n",
    "\n",
    "The learning rate and the size of the minibatches are the two parameters that have the largest effect on how the SGD training proceeds. Their interaction is often subtle and the right choice for these parameters isn't always obvious. (We'll explore these effects in the exercise.)\n",
    "\n",
    "Fortunately, for most work it won't be necessary to do an extensive hyperparameter search to get satisfactory results. **Adam** is an SGD algorithm that has an adaptive learning rate that makes it suitable for most problems without any parameter tuning (it is \"self tuning\", in a sense). Adam is a great general-purpose optimizer.\n",
    "\n",
    "## Adding the Loss and Optimizer ##\n",
    "\n",
    "After defining a model, you can add a loss function and optimizer with the model's `compile` method:\n",
    "\n",
    "```\n",
    "model.compile(\n",
    "    optimizer=\"adam\",\n",
    "    loss=\"mae\",\n",
    ")\n",
    "```\n",
    "\n",
    "Notice that we are able to specify the loss and optimizer with just a string. You can also access these directly through the Keras API -- if you wanted to tune parameters, for instance -- but for us, the defaults will work fine.\n",
    "\n",
    "<blockquote style=\"margin-right:auto; margin-left:auto; background-color: #ebf9ff; padding: 1em; margin:24px;\">\n",
    "    <strong>What's In a Name?</strong><br>\n",
    "The <strong>gradient</strong> is a vector that tells us in what direction the weights need to go. More precisely, it tells us how to change the weights to make the loss change <em>fastest</em>. We call our process gradient <strong>descent</strong> because it uses the gradient to <em>descend</em> the loss curve towards a minimum. <strong>Stochastic</strong> means \"determined by chance.\" Our training is <em>stochastic</em> because the minibatches are <em>random samples</em> from the dataset. And that's why it's called SGD!\n",
    "</blockquote>"
   ]
  },
  {
   "cell_type": "markdown",
   "id": "continent-statistics",
   "metadata": {
    "papermill": {
     "duration": 0.00973,
     "end_time": "2021-06-03T16:39:49.350591",
     "exception": false,
     "start_time": "2021-06-03T16:39:49.340861",
     "status": "completed"
    },
    "tags": []
   },
   "source": [
    "# Example - Red Wine Quality #\n",
    "\n",
    "Now we know everything we need to start training deep learning models. So let's see it in action! We'll use the *Red Wine Quality* dataset.\n",
    "\n",
    "This dataset consists of physiochemical measurements from about 1600 Portuguese red wines. Also included is a quality rating for each wine from blind taste-tests. How well can we predict a wine's perceived quality from these measurements?\n",
    "\n",
    "We've put all of the data preparation into this next hidden cell. It's not essential to what follows so feel free to skip it. One thing you might note for now though is that we've rescaled each feature to lie in the interval $[0, 1]$. As we'll discuss more in Lesson 5, neural networks tend to perform best when their inputs are on a common scale."
   ]
  },
  {
   "cell_type": "code",
   "execution_count": 1,
   "id": "unable-keeping",
   "metadata": {
    "_kg_hide-input": true,
    "execution": {
     "iopub.execute_input": "2021-06-03T16:39:49.379667Z",
     "iopub.status.busy": "2021-06-03T16:39:49.379021Z",
     "iopub.status.idle": "2021-06-03T16:39:49.466509Z",
     "shell.execute_reply": "2021-06-03T16:39:49.465703Z"
    },
    "lines_to_next_cell": 0,
    "papermill": {
     "duration": 0.106036,
     "end_time": "2021-06-03T16:39:49.466672",
     "exception": false,
     "start_time": "2021-06-03T16:39:49.360636",
     "status": "completed"
    },
    "tags": []
   },
   "outputs": [
    {
     "data": {
      "text/html": [
       "<div>\n",
       "<style scoped>\n",
       "    .dataframe tbody tr th:only-of-type {\n",
       "        vertical-align: middle;\n",
       "    }\n",
       "\n",
       "    .dataframe tbody tr th {\n",
       "        vertical-align: top;\n",
       "    }\n",
       "\n",
       "    .dataframe thead th {\n",
       "        text-align: right;\n",
       "    }\n",
       "</style>\n",
       "<table border=\"1\" class=\"dataframe\">\n",
       "  <thead>\n",
       "    <tr style=\"text-align: right;\">\n",
       "      <th></th>\n",
       "      <th>fixed acidity</th>\n",
       "      <th>volatile acidity</th>\n",
       "      <th>citric acid</th>\n",
       "      <th>residual sugar</th>\n",
       "      <th>chlorides</th>\n",
       "      <th>free sulfur dioxide</th>\n",
       "      <th>total sulfur dioxide</th>\n",
       "      <th>density</th>\n",
       "      <th>pH</th>\n",
       "      <th>sulphates</th>\n",
       "      <th>alcohol</th>\n",
       "      <th>quality</th>\n",
       "    </tr>\n",
       "  </thead>\n",
       "  <tbody>\n",
       "    <tr>\n",
       "      <th>1109</th>\n",
       "      <td>10.8</td>\n",
       "      <td>0.470</td>\n",
       "      <td>0.43</td>\n",
       "      <td>2.10</td>\n",
       "      <td>0.171</td>\n",
       "      <td>27.0</td>\n",
       "      <td>66.0</td>\n",
       "      <td>0.99820</td>\n",
       "      <td>3.17</td>\n",
       "      <td>0.76</td>\n",
       "      <td>10.8</td>\n",
       "      <td>6</td>\n",
       "    </tr>\n",
       "    <tr>\n",
       "      <th>1032</th>\n",
       "      <td>8.1</td>\n",
       "      <td>0.820</td>\n",
       "      <td>0.00</td>\n",
       "      <td>4.10</td>\n",
       "      <td>0.095</td>\n",
       "      <td>5.0</td>\n",
       "      <td>14.0</td>\n",
       "      <td>0.99854</td>\n",
       "      <td>3.36</td>\n",
       "      <td>0.53</td>\n",
       "      <td>9.6</td>\n",
       "      <td>5</td>\n",
       "    </tr>\n",
       "    <tr>\n",
       "      <th>1002</th>\n",
       "      <td>9.1</td>\n",
       "      <td>0.290</td>\n",
       "      <td>0.33</td>\n",
       "      <td>2.05</td>\n",
       "      <td>0.063</td>\n",
       "      <td>13.0</td>\n",
       "      <td>27.0</td>\n",
       "      <td>0.99516</td>\n",
       "      <td>3.26</td>\n",
       "      <td>0.84</td>\n",
       "      <td>11.7</td>\n",
       "      <td>7</td>\n",
       "    </tr>\n",
       "    <tr>\n",
       "      <th>487</th>\n",
       "      <td>10.2</td>\n",
       "      <td>0.645</td>\n",
       "      <td>0.36</td>\n",
       "      <td>1.80</td>\n",
       "      <td>0.053</td>\n",
       "      <td>5.0</td>\n",
       "      <td>14.0</td>\n",
       "      <td>0.99820</td>\n",
       "      <td>3.17</td>\n",
       "      <td>0.42</td>\n",
       "      <td>10.0</td>\n",
       "      <td>6</td>\n",
       "    </tr>\n",
       "  </tbody>\n",
       "</table>\n",
       "</div>"
      ],
      "text/plain": [
       "      fixed acidity  volatile acidity  citric acid  residual sugar  chlorides  \\\n",
       "1109           10.8             0.470         0.43            2.10      0.171   \n",
       "1032            8.1             0.820         0.00            4.10      0.095   \n",
       "1002            9.1             0.290         0.33            2.05      0.063   \n",
       "487            10.2             0.645         0.36            1.80      0.053   \n",
       "\n",
       "      free sulfur dioxide  total sulfur dioxide  density    pH  sulphates  \\\n",
       "1109                 27.0                  66.0  0.99820  3.17       0.76   \n",
       "1032                  5.0                  14.0  0.99854  3.36       0.53   \n",
       "1002                 13.0                  27.0  0.99516  3.26       0.84   \n",
       "487                   5.0                  14.0  0.99820  3.17       0.42   \n",
       "\n",
       "      alcohol  quality  \n",
       "1109     10.8        6  \n",
       "1032      9.6        5  \n",
       "1002     11.7        7  \n",
       "487      10.0        6  "
      ]
     },
     "metadata": {},
     "output_type": "display_data"
    }
   ],
   "source": [
    "\n",
    "import pandas as pd\n",
    "from IPython.display import display\n",
    "\n",
    "red_wine = pd.read_csv('../input/dl-course-data/red-wine.csv')\n",
    "\n",
    "# Create training and validation splits\n",
    "df_train = red_wine.sample(frac=0.7, random_state=0)\n",
    "df_valid = red_wine.drop(df_train.index)\n",
    "display(df_train.head(4))\n",
    "\n",
    "# Scale to [0, 1]\n",
    "max_ = df_train.max(axis=0)\n",
    "min_ = df_train.min(axis=0)\n",
    "df_train = (df_train - min_) / (max_ - min_)\n",
    "df_valid = (df_valid - min_) / (max_ - min_)\n",
    "\n",
    "# Split features and target\n",
    "X_train = df_train.drop('quality', axis=1)\n",
    "X_valid = df_valid.drop('quality', axis=1)\n",
    "y_train = df_train['quality']\n",
    "y_valid = df_valid['quality']"
   ]
  },
  {
   "cell_type": "markdown",
   "id": "activated-corpus",
   "metadata": {
    "papermill": {
     "duration": 0.010882,
     "end_time": "2021-06-03T16:39:49.489193",
     "exception": false,
     "start_time": "2021-06-03T16:39:49.478311",
     "status": "completed"
    },
    "tags": []
   },
   "source": [
    "How many inputs should this network have? We can discover this by looking at the number of columns in the data matrix. Be sure not to include the target (`'quality'`) here -- only the input features."
   ]
  },
  {
   "cell_type": "code",
   "execution_count": 2,
   "id": "integral-resource",
   "metadata": {
    "execution": {
     "iopub.execute_input": "2021-06-03T16:39:49.515257Z",
     "iopub.status.busy": "2021-06-03T16:39:49.514598Z",
     "iopub.status.idle": "2021-06-03T16:39:49.520518Z",
     "shell.execute_reply": "2021-06-03T16:39:49.519796Z"
    },
    "lines_to_next_cell": 2,
    "papermill": {
     "duration": 0.020093,
     "end_time": "2021-06-03T16:39:49.520659",
     "exception": false,
     "start_time": "2021-06-03T16:39:49.500566",
     "status": "completed"
    },
    "tags": []
   },
   "outputs": [
    {
     "name": "stdout",
     "output_type": "stream",
     "text": [
      "(1119, 11)\n"
     ]
    }
   ],
   "source": [
    "print(X_train.shape)"
   ]
  },
  {
   "cell_type": "markdown",
   "id": "beginning-length",
   "metadata": {
    "papermill": {
     "duration": 0.011212,
     "end_time": "2021-06-03T16:39:49.543635",
     "exception": false,
     "start_time": "2021-06-03T16:39:49.532423",
     "status": "completed"
    },
    "tags": []
   },
   "source": [
    "Eleven columns means eleven inputs.\n",
    "\n",
    "We've chosen a three-layer network with over 1500 neurons. This network should be capable of learning fairly complex relationships in the data."
   ]
  },
  {
   "cell_type": "code",
   "execution_count": 3,
   "id": "personal-contamination",
   "metadata": {
    "execution": {
     "iopub.execute_input": "2021-06-03T16:39:49.573159Z",
     "iopub.status.busy": "2021-06-03T16:39:49.572388Z",
     "iopub.status.idle": "2021-06-03T16:39:55.292738Z",
     "shell.execute_reply": "2021-06-03T16:39:55.292052Z"
    },
    "papermill": {
     "duration": 5.737616,
     "end_time": "2021-06-03T16:39:55.292879",
     "exception": false,
     "start_time": "2021-06-03T16:39:49.555263",
     "status": "completed"
    },
    "tags": []
   },
   "outputs": [],
   "source": [
    "from tensorflow import keras\n",
    "from tensorflow.keras import layers\n",
    "\n",
    "model = keras.Sequential([\n",
    "    layers.Dense(512, activation='relu', input_shape=[11]),\n",
    "    layers.Dense(512, activation='relu'),\n",
    "    layers.Dense(512, activation='relu'),\n",
    "    layers.Dense(1),\n",
    "])"
   ]
  },
  {
   "cell_type": "markdown",
   "id": "cardiac-newton",
   "metadata": {
    "papermill": {
     "duration": 0.011023,
     "end_time": "2021-06-03T16:39:55.315380",
     "exception": false,
     "start_time": "2021-06-03T16:39:55.304357",
     "status": "completed"
    },
    "tags": []
   },
   "source": [
    "Deciding the architecture of your model should be part of a process. Start simple and use the validation loss as your guide. You'll learn more about model development in the exercises.\n",
    "\n",
    "After defining the model, we compile in the optimizer and loss function."
   ]
  },
  {
   "cell_type": "code",
   "execution_count": 4,
   "id": "broad-wrist",
   "metadata": {
    "execution": {
     "iopub.execute_input": "2021-06-03T16:39:55.351152Z",
     "iopub.status.busy": "2021-06-03T16:39:55.343003Z",
     "iopub.status.idle": "2021-06-03T16:39:55.357770Z",
     "shell.execute_reply": "2021-06-03T16:39:55.358262Z"
    },
    "papermill": {
     "duration": 0.031809,
     "end_time": "2021-06-03T16:39:55.358442",
     "exception": false,
     "start_time": "2021-06-03T16:39:55.326633",
     "status": "completed"
    },
    "tags": []
   },
   "outputs": [],
   "source": [
    "model.compile(\n",
    "    optimizer='adam',\n",
    "    loss='mae',\n",
    ")"
   ]
  },
  {
   "cell_type": "markdown",
   "id": "thrown-groove",
   "metadata": {
    "papermill": {
     "duration": 0.011527,
     "end_time": "2021-06-03T16:39:55.383073",
     "exception": false,
     "start_time": "2021-06-03T16:39:55.371546",
     "status": "completed"
    },
    "tags": []
   },
   "source": [
    "Now we're ready to start the training! We've told Keras to feed the optimizer 256 rows of the training data at a time (the `batch_size`) and to do that 10 times all the way through the dataset (the `epochs`)."
   ]
  },
  {
   "cell_type": "code",
   "execution_count": 5,
   "id": "exterior-salmon",
   "metadata": {
    "execution": {
     "iopub.execute_input": "2021-06-03T16:39:55.410503Z",
     "iopub.status.busy": "2021-06-03T16:39:55.409480Z",
     "iopub.status.idle": "2021-06-03T16:39:57.654723Z",
     "shell.execute_reply": "2021-06-03T16:39:57.654136Z"
    },
    "papermill": {
     "duration": 2.26011,
     "end_time": "2021-06-03T16:39:57.654875",
     "exception": false,
     "start_time": "2021-06-03T16:39:55.394765",
     "status": "completed"
    },
    "tags": []
   },
   "outputs": [
    {
     "name": "stdout",
     "output_type": "stream",
     "text": [
      "Epoch 1/10\n",
      "5/5 [==============================] - 1s 147ms/step - loss: 0.3181 - val_loss: 0.1427\n",
      "Epoch 2/10\n",
      "5/5 [==============================] - 0s 24ms/step - loss: 0.1440 - val_loss: 0.1279\n",
      "Epoch 3/10\n",
      "5/5 [==============================] - 0s 24ms/step - loss: 0.1309 - val_loss: 0.1194\n",
      "Epoch 4/10\n",
      "5/5 [==============================] - 0s 24ms/step - loss: 0.1169 - val_loss: 0.1085\n",
      "Epoch 5/10\n",
      "5/5 [==============================] - 0s 24ms/step - loss: 0.1108 - val_loss: 0.1086\n",
      "Epoch 6/10\n",
      "5/5 [==============================] - 0s 25ms/step - loss: 0.1051 - val_loss: 0.1007\n",
      "Epoch 7/10\n",
      "5/5 [==============================] - 0s 25ms/step - loss: 0.1048 - val_loss: 0.1015\n",
      "Epoch 8/10\n",
      "5/5 [==============================] - 0s 24ms/step - loss: 0.1001 - val_loss: 0.1020\n",
      "Epoch 9/10\n",
      "5/5 [==============================] - 0s 25ms/step - loss: 0.1002 - val_loss: 0.1009\n",
      "Epoch 10/10\n",
      "5/5 [==============================] - 0s 24ms/step - loss: 0.0988 - val_loss: 0.1074\n"
     ]
    }
   ],
   "source": [
    "history = model.fit(\n",
    "    X_train, y_train,\n",
    "    validation_data=(X_valid, y_valid),\n",
    "    batch_size=256,\n",
    "    epochs=10,\n",
    ")"
   ]
  },
  {
   "cell_type": "markdown",
   "id": "vanilla-commitment",
   "metadata": {
    "papermill": {
     "duration": 0.017833,
     "end_time": "2021-06-03T16:39:57.691047",
     "exception": false,
     "start_time": "2021-06-03T16:39:57.673214",
     "status": "completed"
    },
    "tags": []
   },
   "source": [
    "You can see that Keras will keep you updated on the loss as the model trains.\n",
    "\n",
    "Often, a better way to view the loss though is to plot it. The `fit` method in fact keeps a record of the loss produced during training in a `History` object. We'll convert the data to a Pandas dataframe, which makes the plotting easy."
   ]
  },
  {
   "cell_type": "code",
   "execution_count": 6,
   "id": "environmental-least",
   "metadata": {
    "execution": {
     "iopub.execute_input": "2021-06-03T16:39:57.733848Z",
     "iopub.status.busy": "2021-06-03T16:39:57.733080Z",
     "iopub.status.idle": "2021-06-03T16:39:57.920929Z",
     "shell.execute_reply": "2021-06-03T16:39:57.921401Z"
    },
    "lines_to_next_cell": 2,
    "papermill": {
     "duration": 0.212211,
     "end_time": "2021-06-03T16:39:57.921573",
     "exception": false,
     "start_time": "2021-06-03T16:39:57.709362",
     "status": "completed"
    },
    "tags": []
   },
   "outputs": [
    {
     "data": {
      "image/png": "[encoded data removed]",
      "text/plain": [
       "<Figure size 432x288 with 1 Axes>"
      ]
     },
     "metadata": {
      "needs_background": "light"
     },
     "output_type": "display_data"
    }
   ],
   "source": [
    "import pandas as pd\n",
    "\n",
    "# convert the training history to a dataframe\n",
    "history_df = pd.DataFrame(history.history)\n",
    "# use Pandas native plot method\n",
    "history_df['loss'].plot();"
   ]
  },
  {
   "cell_type": "markdown",
   "id": "driven-renaissance",
   "metadata": {
    "papermill": {
     "duration": 0.018626,
     "end_time": "2021-06-03T16:39:57.959069",
     "exception": false,
     "start_time": "2021-06-03T16:39:57.940443",
     "status": "completed"
    },
    "tags": []
   },
   "source": [
    "Notice how the loss levels off as the epochs go by. When the loss curve becomes horizontal like that, it means the model has learned all it can and there would be no reason continue for additional epochs."
   ]
  },
  {
   "cell_type": "markdown",
   "id": "english-incidence",
   "metadata": {
    "papermill": {
     "duration": 0.018714,
     "end_time": "2021-06-03T16:39:57.996697",
     "exception": false,
     "start_time": "2021-06-03T16:39:57.977983",
     "status": "completed"
    },
    "tags": []
   },
   "source": [
    "# Your Turn #\n",
    "\n",
    "Now, [**use stochastic gradient descent**](https://www.kaggle.com/kernels/fork/11887330) to train your network."
   ]
  },
  {
   "cell_type": "markdown",
   "id": "recovered-intersection",
   "metadata": {
    "papermill": {
     "duration": 0.019551,
     "end_time": "2021-06-03T16:39:58.035291",
     "exception": false,
     "start_time": "2021-06-03T16:39:58.015740",
     "status": "completed"
    },
    "tags": []
   },
   "source": [
    "---\n",
    "\n",
    "\n",
    "\n",
    "\n",
    "*Have questions or comments? Visit the [Learn Discussion forum](https://www.kaggle.com/learn-forum/191966) to chat with other Learners.*"
   ]
  }
 ],
 "metadata": {
  "jupytext": {
   "cell_metadata_filter": "-all",
   "formats": "ipynb"
  },
  "kernelspec": {
   "display_name": "Python 3",
   "language": "python",
   "name": "python3"
  },
  "language_info": {
   "codemirror_mode": {
    "name": "ipython",
    "version": 3
   },
   "file_extension": ".py",
   "mimetype": "text/x-python",
   "name": "python",
   "nbconvert_exporter": "python",
   "pygments_lexer": "ipython3",
   "version": "3.7.9"
  },
  "papermill": {
   "default_parameters": {},
   "duration": 15.83577,
   "end_time": "2021-06-03T16:39:59.065293",
   "environment_variables": {},
   "exception": null,
   "input_path": "__notebook__.ipynb",
   "output_path": "__notebook__.ipynb",
   "parameters": {},
   "start_time": "2021-06-03T16:39:43.229523",
   "version": "2.3.2"
  }
 },
 "nbformat": 4,
 "nbformat_minor": 5
}
