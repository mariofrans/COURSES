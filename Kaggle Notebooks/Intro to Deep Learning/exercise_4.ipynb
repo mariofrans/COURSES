{
 "cells": [
  {
   "cell_type": "markdown",
   "id": "ca7f93ec",
   "metadata": {
    "papermill": {
     "duration": 0.013348,
     "end_time": "2021-08-18T10:28:31.513891",
     "exception": false,
     "start_time": "2021-08-18T10:28:31.500543",
     "status": "completed"
    },
    "tags": []
   },
   "source": [
    "**This notebook is an exercise in the [Intro to Deep Learning](https://www.kaggle.com/learn/intro-to-deep-learning) course.  You can reference the tutorial at [this link](https://www.kaggle.com/ryanholbrook/overfitting-and-underfitting).**\n",
    "\n",
    "---\n"
   ]
  },
  {
   "cell_type": "markdown",
   "id": "535c4629",
   "metadata": {
    "papermill": {
     "duration": 0.011963,
     "end_time": "2021-08-18T10:28:31.540089",
     "exception": false,
     "start_time": "2021-08-18T10:28:31.528126",
     "status": "completed"
    },
    "tags": []
   },
   "source": [
    "# Introduction #\n",
    "\n",
    "In this exercise, you’ll learn how to improve training outcomes by including an early stopping callback to prevent overfitting.\n",
    "\n",
    "When you're ready, run this next cell to set everything up!"
   ]
  },
  {
   "cell_type": "code",
   "execution_count": 1,
   "id": "7fd385aa",
   "metadata": {
    "execution": {
     "iopub.execute_input": "2021-08-18T10:28:31.578357Z",
     "iopub.status.busy": "2021-08-18T10:28:31.577719Z",
     "iopub.status.idle": "2021-08-18T10:28:31.714057Z",
     "shell.execute_reply": "2021-08-18T10:28:31.714564Z",
     "shell.execute_reply.started": "2021-08-18T10:14:51.542808Z"
    },
    "papermill": {
     "duration": 0.162113,
     "end_time": "2021-08-18T10:28:31.714882",
     "exception": false,
     "start_time": "2021-08-18T10:28:31.552769",
     "status": "completed"
    },
    "tags": []
   },
   "outputs": [],
   "source": [
    "# Setup plotting\n",
    "import matplotlib.pyplot as plt\n",
    "plt.style.use('seaborn-whitegrid')\n",
    "# Set Matplotlib defaults\n",
    "plt.rc('figure', autolayout=True)\n",
    "plt.rc('axes', labelweight='bold', labelsize='large',\n",
    "       titleweight='bold', titlesize=18, titlepad=10)\n",
    "plt.rc('animation', html='html5')\n",
    "\n",
    "# Setup feedback system\n",
    "from learntools.core import binder\n",
    "binder.bind(globals())\n",
    "from learntools.deep_learning_intro.ex4 import *"
   ]
  },
  {
   "cell_type": "markdown",
   "id": "36109cb7",
   "metadata": {
    "papermill": {
     "duration": 0.011635,
     "end_time": "2021-08-18T10:28:31.738621",
     "exception": false,
     "start_time": "2021-08-18T10:28:31.726986",
     "status": "completed"
    },
    "tags": []
   },
   "source": [
    "First load the *Spotify* dataset. Your task will be to predict the popularity of a song based on various audio features, like `'tempo'`, `'danceability'`, and `'mode'`."
   ]
  },
  {
   "cell_type": "code",
   "execution_count": 2,
   "id": "accebcd6",
   "metadata": {
    "execution": {
     "iopub.execute_input": "2021-08-18T10:28:31.765598Z",
     "iopub.status.busy": "2021-08-18T10:28:31.764897Z",
     "iopub.status.idle": "2021-08-18T10:28:40.206306Z",
     "shell.execute_reply": "2021-08-18T10:28:40.207150Z",
     "shell.execute_reply.started": "2021-08-18T10:14:53.782394Z"
    },
    "papermill": {
     "duration": 8.456858,
     "end_time": "2021-08-18T10:28:40.207354",
     "exception": false,
     "start_time": "2021-08-18T10:28:31.750496",
     "status": "completed"
    },
    "tags": []
   },
   "outputs": [
    {
     "name": "stdout",
     "output_type": "stream",
     "text": [
      "Input shape: [18]\n"
     ]
    }
   ],
   "source": [
    "import pandas as pd\n",
    "from sklearn.preprocessing import StandardScaler, OneHotEncoder\n",
    "from sklearn.compose import make_column_transformer\n",
    "from sklearn.model_selection import GroupShuffleSplit\n",
    "\n",
    "from tensorflow import keras\n",
    "from tensorflow.keras import layers\n",
    "from tensorflow.keras import callbacks\n",
    "\n",
    "spotify = pd.read_csv('../input/dl-course-data/spotify.csv')\n",
    "\n",
    "X = spotify.copy().dropna()\n",
    "y = X.pop('track_popularity')\n",
    "artists = X['track_artist']\n",
    "\n",
    "features_num = ['danceability', 'energy', 'key', 'loudness', 'mode',\n",
    "                'speechiness', 'acousticness', 'instrumentalness',\n",
    "                'liveness', 'valence', 'tempo', 'duration_ms']\n",
    "features_cat = ['playlist_genre']\n",
    "\n",
    "preprocessor = make_column_transformer(\n",
    "    (StandardScaler(), features_num),\n",
    "    (OneHotEncoder(), features_cat),\n",
    ")\n",
    "\n",
    "# We'll do a \"grouped\" split to keep all of an artist's songs in one\n",
    "# split or the other. This is to help prevent signal leakage.\n",
    "def group_split(X, y, group, train_size=0.75):\n",
    "    splitter = GroupShuffleSplit(train_size=train_size)\n",
    "    train, test = next(splitter.split(X, y, groups=group))\n",
    "    return (X.iloc[train], X.iloc[test], y.iloc[train], y.iloc[test])\n",
    "\n",
    "X_train, X_valid, y_train, y_valid = group_split(X, y, artists)\n",
    "\n",
    "X_train = preprocessor.fit_transform(X_train)\n",
    "X_valid = preprocessor.transform(X_valid)\n",
    "y_train = y_train / 100 # popularity is on a scale 0-100, so this rescales to 0-1.\n",
    "y_valid = y_valid / 100\n",
    "\n",
    "input_shape = [X_train.shape[1]]\n",
    "print(\"Input shape: {}\".format(input_shape))"
   ]
  },
  {
   "cell_type": "markdown",
   "id": "d807aaf5",
   "metadata": {
    "papermill": {
     "duration": 0.011806,
     "end_time": "2021-08-18T10:28:40.231885",
     "exception": false,
     "start_time": "2021-08-18T10:28:40.220079",
     "status": "completed"
    },
    "tags": []
   },
   "source": [
    "Let's start with the simplest network, a linear model. This model has low capacity.\n",
    "\n",
    "Run this next cell without any changes to train a linear model on the *Spotify* dataset."
   ]
  },
  {
   "cell_type": "code",
   "execution_count": 3,
   "id": "25f43e1a",
   "metadata": {
    "execution": {
     "iopub.execute_input": "2021-08-18T10:28:40.263359Z",
     "iopub.status.busy": "2021-08-18T10:28:40.262372Z",
     "iopub.status.idle": "2021-08-18T10:28:46.689033Z",
     "shell.execute_reply": "2021-08-18T10:28:46.688353Z",
     "shell.execute_reply.started": "2021-08-18T10:15:36.563345Z"
    },
    "lines_to_next_cell": 0,
    "papermill": {
     "duration": 6.44502,
     "end_time": "2021-08-18T10:28:46.689190",
     "exception": false,
     "start_time": "2021-08-18T10:28:40.244170",
     "status": "completed"
    },
    "tags": []
   },
   "outputs": [
    {
     "name": "stdout",
     "output_type": "stream",
     "text": [
      "Minimum Validation Loss: 0.1966\n"
     ]
    },
    {
     "data": {
      "image/png": "[encoded data removed]",
      "text/plain": [
       "<Figure size 432x288 with 1 Axes>"
      ]
     },
     "metadata": {},
     "output_type": "display_data"
    }
   ],
   "source": [
    "model = keras.Sequential([\n",
    "    layers.Dense(1, input_shape=input_shape),\n",
    "])\n",
    "model.compile(\n",
    "    optimizer='adam',\n",
    "    loss='mae',\n",
    ")\n",
    "history = model.fit(\n",
    "    X_train, y_train,\n",
    "    validation_data=(X_valid, y_valid),\n",
    "    batch_size=512,\n",
    "    epochs=50,\n",
    "    verbose=0, # suppress output since we'll plot the curves\n",
    ")\n",
    "history_df = pd.DataFrame(history.history)\n",
    "history_df.loc[0:, ['loss', 'val_loss']].plot()\n",
    "print(\"Minimum Validation Loss: {:0.4f}\".format(history_df['val_loss'].min()));"
   ]
  },
  {
   "cell_type": "markdown",
   "id": "cdbe1227",
   "metadata": {
    "papermill": {
     "duration": 0.013133,
     "end_time": "2021-08-18T10:28:46.716316",
     "exception": false,
     "start_time": "2021-08-18T10:28:46.703183",
     "status": "completed"
    },
    "tags": []
   },
   "source": [
    "It's not uncommon for the curves to follow a \"hockey stick\" pattern like you see here. This makes the final part of training hard to see, so let's start at epoch 10 instead:"
   ]
  },
  {
   "cell_type": "code",
   "execution_count": 4,
   "id": "6ae9044d",
   "metadata": {
    "execution": {
     "iopub.execute_input": "2021-08-18T10:28:46.772063Z",
     "iopub.status.busy": "2021-08-18T10:28:46.767081Z",
     "iopub.status.idle": "2021-08-18T10:28:47.021811Z",
     "shell.execute_reply": "2021-08-18T10:28:47.021094Z",
     "shell.execute_reply.started": "2021-08-18T10:16:25.466249Z"
    },
    "papermill": {
     "duration": 0.292127,
     "end_time": "2021-08-18T10:28:47.021962",
     "exception": false,
     "start_time": "2021-08-18T10:28:46.729835",
     "status": "completed"
    },
    "tags": []
   },
   "outputs": [
    {
     "name": "stdout",
     "output_type": "stream",
     "text": [
      "Minimum Validation Loss: 0.1966\n"
     ]
    },
    {
     "data": {
      "image/png": "[encoded data removed]",
      "text/plain": [
       "<Figure size 432x288 with 1 Axes>"
      ]
     },
     "metadata": {},
     "output_type": "display_data"
    }
   ],
   "source": [
    "# Start the plot at epoch 10\n",
    "history_df.loc[10:, ['loss', 'val_loss']].plot()\n",
    "print(\"Minimum Validation Loss: {:0.4f}\".format(history_df['val_loss'].min()));"
   ]
  },
  {
   "cell_type": "markdown",
   "id": "5fe880b8",
   "metadata": {
    "papermill": {
     "duration": 0.014823,
     "end_time": "2021-08-18T10:28:47.053392",
     "exception": false,
     "start_time": "2021-08-18T10:28:47.038569",
     "status": "completed"
    },
    "tags": []
   },
   "source": [
    "# 1) Evaluate Baseline\n",
    "\n",
    "What do you think? Would you say this model is underfitting, overfitting, just right?"
   ]
  },
  {
   "cell_type": "code",
   "execution_count": 5,
   "id": "96868ceb",
   "metadata": {
    "execution": {
     "iopub.execute_input": "2021-08-18T10:28:47.088170Z",
     "iopub.status.busy": "2021-08-18T10:28:47.087207Z",
     "iopub.status.idle": "2021-08-18T10:28:47.094622Z",
     "shell.execute_reply": "2021-08-18T10:28:47.093746Z",
     "shell.execute_reply.started": "2021-08-18T10:17:22.047463Z"
    },
    "papermill": {
     "duration": 0.026588,
     "end_time": "2021-08-18T10:28:47.094838",
     "exception": false,
     "start_time": "2021-08-18T10:28:47.068250",
     "status": "completed"
    },
    "tags": []
   },
   "outputs": [
    {
     "data": {
      "application/javascript": [
       "parent.postMessage({\"jupyterEvent\": \"custom.exercise_interaction\", \"data\": {\"outcomeType\": 1, \"valueTowardsCompletion\": 0.25, \"interactionType\": 1, \"questionType\": 4, \"questionId\": \"1_Q1\", \"learnToolsVersion\": \"0.3.4\", \"failureMessage\": \"\", \"exceptionClass\": \"\", \"trace\": \"\"}}, \"*\")"
      ],
      "text/plain": [
       "<IPython.core.display.Javascript object>"
      ]
     },
     "metadata": {},
     "output_type": "display_data"
    },
    {
     "data": {
      "text/markdown": [
       "<span style=\"color:#33cc33\">Correct:</span> \n",
       "\n",
       "The gap between these curves is quite small and the validation loss never increases, so it's more likely that the network is underfitting than overfitting. It would be worth experimenting with more capacity to see if that's the case."
      ],
      "text/plain": [
       "Correct: \n",
       "\n",
       "The gap between these curves is quite small and the validation loss never increases, so it's more likely that the network is underfitting than overfitting. It would be worth experimenting with more capacity to see if that's the case."
      ]
     },
     "metadata": {},
     "output_type": "display_data"
    }
   ],
   "source": [
    "# View the solution (Run this cell to receive credit!)\n",
    "q_1.check()"
   ]
  },
  {
   "cell_type": "markdown",
   "id": "c77a7278",
   "metadata": {
    "papermill": {
     "duration": 0.016155,
     "end_time": "2021-08-18T10:28:47.127201",
     "exception": false,
     "start_time": "2021-08-18T10:28:47.111046",
     "status": "completed"
    },
    "tags": []
   },
   "source": [
    "Now let's add some capacity to our network. We'll add three hidden layers with 128 units each. Run the next cell to train the network and see the learning curves."
   ]
  },
  {
   "cell_type": "code",
   "execution_count": 6,
   "id": "2b45bf8e",
   "metadata": {
    "execution": {
     "iopub.execute_input": "2021-08-18T10:28:47.167703Z",
     "iopub.status.busy": "2021-08-18T10:28:47.166166Z",
     "iopub.status.idle": "2021-08-18T10:28:57.994325Z",
     "shell.execute_reply": "2021-08-18T10:28:57.993368Z",
     "shell.execute_reply.started": "2021-08-18T10:19:56.970412Z"
    },
    "papermill": {
     "duration": 10.852085,
     "end_time": "2021-08-18T10:28:57.994529",
     "exception": false,
     "start_time": "2021-08-18T10:28:47.142444",
     "status": "completed"
    },
    "tags": []
   },
   "outputs": [
    {
     "name": "stdout",
     "output_type": "stream",
     "text": [
      "Epoch 1/50\n",
      "49/49 [==============================] - 1s 6ms/step - loss: 0.2441 - val_loss: 0.2053\n",
      "Epoch 2/50\n",
      "49/49 [==============================] - 0s 4ms/step - loss: 0.1986 - val_loss: 0.2000\n",
      "Epoch 3/50\n",
      "49/49 [==============================] - 0s 4ms/step - loss: 0.1937 - val_loss: 0.2011\n",
      "Epoch 4/50\n",
      "49/49 [==============================] - 0s 4ms/step - loss: 0.1905 - val_loss: 0.1985\n",
      "Epoch 5/50\n",
      "49/49 [==============================] - 0s 4ms/step - loss: 0.1882 - val_loss: 0.1993\n",
      "Epoch 6/50\n",
      "49/49 [==============================] - 0s 4ms/step - loss: 0.1874 - val_loss: 0.1974\n",
      "Epoch 7/50\n",
      "49/49 [==============================] - 0s 4ms/step - loss: 0.1843 - val_loss: 0.1976\n",
      "Epoch 8/50\n",
      "49/49 [==============================] - 0s 4ms/step - loss: 0.1840 - val_loss: 0.1973\n",
      "Epoch 9/50\n",
      "49/49 [==============================] - 0s 4ms/step - loss: 0.1836 - val_loss: 0.1976\n",
      "Epoch 10/50\n",
      "49/49 [==============================] - 0s 4ms/step - loss: 0.1833 - val_loss: 0.1997\n",
      "Epoch 11/50\n",
      "49/49 [==============================] - 0s 4ms/step - loss: 0.1830 - val_loss: 0.1968\n",
      "Epoch 12/50\n",
      "49/49 [==============================] - 0s 4ms/step - loss: 0.1814 - val_loss: 0.1979\n",
      "Epoch 13/50\n",
      "49/49 [==============================] - 0s 4ms/step - loss: 0.1809 - val_loss: 0.1976\n",
      "Epoch 14/50\n",
      "49/49 [==============================] - 0s 4ms/step - loss: 0.1811 - val_loss: 0.1977\n",
      "Epoch 15/50\n",
      "49/49 [==============================] - 0s 4ms/step - loss: 0.1800 - val_loss: 0.1978\n",
      "Epoch 16/50\n",
      "49/49 [==============================] - 0s 4ms/step - loss: 0.1779 - val_loss: 0.1991\n",
      "Epoch 17/50\n",
      "49/49 [==============================] - 0s 4ms/step - loss: 0.1815 - val_loss: 0.1988\n",
      "Epoch 18/50\n",
      "49/49 [==============================] - 0s 4ms/step - loss: 0.1765 - val_loss: 0.1992\n",
      "Epoch 19/50\n",
      "49/49 [==============================] - 0s 4ms/step - loss: 0.1775 - val_loss: 0.1981\n",
      "Epoch 20/50\n",
      "49/49 [==============================] - 0s 4ms/step - loss: 0.1772 - val_loss: 0.1989\n",
      "Epoch 21/50\n",
      "49/49 [==============================] - 0s 4ms/step - loss: 0.1765 - val_loss: 0.1978\n",
      "Epoch 22/50\n",
      "49/49 [==============================] - 0s 4ms/step - loss: 0.1764 - val_loss: 0.2007\n",
      "Epoch 23/50\n",
      "49/49 [==============================] - 0s 4ms/step - loss: 0.1754 - val_loss: 0.1991\n",
      "Epoch 24/50\n",
      "49/49 [==============================] - 0s 4ms/step - loss: 0.1746 - val_loss: 0.1990\n",
      "Epoch 25/50\n",
      "49/49 [==============================] - 0s 4ms/step - loss: 0.1740 - val_loss: 0.2000\n",
      "Epoch 26/50\n",
      "49/49 [==============================] - 0s 4ms/step - loss: 0.1744 - val_loss: 0.2017\n",
      "Epoch 27/50\n",
      "49/49 [==============================] - 0s 4ms/step - loss: 0.1741 - val_loss: 0.2000\n",
      "Epoch 28/50\n",
      "49/49 [==============================] - 0s 4ms/step - loss: 0.1728 - val_loss: 0.1995\n",
      "Epoch 29/50\n",
      "49/49 [==============================] - 0s 4ms/step - loss: 0.1732 - val_loss: 0.2003\n",
      "Epoch 30/50\n",
      "49/49 [==============================] - 0s 4ms/step - loss: 0.1723 - val_loss: 0.2005\n",
      "Epoch 31/50\n",
      "49/49 [==============================] - 0s 4ms/step - loss: 0.1732 - val_loss: 0.1991\n",
      "Epoch 32/50\n",
      "49/49 [==============================] - 0s 4ms/step - loss: 0.1701 - val_loss: 0.2008\n",
      "Epoch 33/50\n",
      "49/49 [==============================] - 0s 4ms/step - loss: 0.1710 - val_loss: 0.1998\n",
      "Epoch 34/50\n",
      "49/49 [==============================] - 0s 4ms/step - loss: 0.1679 - val_loss: 0.2000\n",
      "Epoch 35/50\n",
      "49/49 [==============================] - 0s 4ms/step - loss: 0.1689 - val_loss: 0.2022\n",
      "Epoch 36/50\n",
      "49/49 [==============================] - 0s 4ms/step - loss: 0.1698 - val_loss: 0.2034\n",
      "Epoch 37/50\n",
      "49/49 [==============================] - 0s 5ms/step - loss: 0.1708 - val_loss: 0.2017\n",
      "Epoch 38/50\n",
      "49/49 [==============================] - 0s 4ms/step - loss: 0.1692 - val_loss: 0.2011\n",
      "Epoch 39/50\n",
      "49/49 [==============================] - 0s 4ms/step - loss: 0.1679 - val_loss: 0.2008\n",
      "Epoch 40/50\n",
      "49/49 [==============================] - 0s 4ms/step - loss: 0.1671 - val_loss: 0.2017\n",
      "Epoch 41/50\n",
      "49/49 [==============================] - 0s 4ms/step - loss: 0.1666 - val_loss: 0.2010\n",
      "Epoch 42/50\n",
      "49/49 [==============================] - 0s 4ms/step - loss: 0.1659 - val_loss: 0.2018\n",
      "Epoch 43/50\n",
      "49/49 [==============================] - 0s 4ms/step - loss: 0.1643 - val_loss: 0.2028\n",
      "Epoch 44/50\n",
      "49/49 [==============================] - 0s 4ms/step - loss: 0.1650 - val_loss: 0.2025\n",
      "Epoch 45/50\n",
      "49/49 [==============================] - 0s 4ms/step - loss: 0.1672 - val_loss: 0.2026\n",
      "Epoch 46/50\n",
      "49/49 [==============================] - 0s 4ms/step - loss: 0.1661 - val_loss: 0.2029\n",
      "Epoch 47/50\n",
      "49/49 [==============================] - 0s 4ms/step - loss: 0.1663 - val_loss: 0.2029\n",
      "Epoch 48/50\n",
      "49/49 [==============================] - 0s 4ms/step - loss: 0.1659 - val_loss: 0.2025\n",
      "Epoch 49/50\n",
      "49/49 [==============================] - 0s 4ms/step - loss: 0.1652 - val_loss: 0.2032\n",
      "Epoch 50/50\n",
      "49/49 [==============================] - 0s 4ms/step - loss: 0.1643 - val_loss: 0.2046\n",
      "Minimum Validation Loss: 0.1968\n"
     ]
    },
    {
     "data": {
      "image/png": "[encoded data removed]",
      "text/plain": [
       "<Figure size 432x288 with 1 Axes>"
      ]
     },
     "metadata": {},
     "output_type": "display_data"
    }
   ],
   "source": [
    "model = keras.Sequential([\n",
    "    layers.Dense(128, activation='relu', input_shape=input_shape),\n",
    "    layers.Dense(64, activation='relu'),\n",
    "    layers.Dense(1)\n",
    "])\n",
    "model.compile(\n",
    "    optimizer='adam',\n",
    "    loss='mae',\n",
    ")\n",
    "history = model.fit(\n",
    "    X_train, y_train,\n",
    "    validation_data=(X_valid, y_valid),\n",
    "    batch_size=512,\n",
    "    epochs=50,\n",
    ")\n",
    "history_df = pd.DataFrame(history.history)\n",
    "history_df.loc[:, ['loss', 'val_loss']].plot()\n",
    "print(\"Minimum Validation Loss: {:0.4f}\".format(history_df['val_loss'].min()));"
   ]
  },
  {
   "cell_type": "markdown",
   "id": "18e7abf7",
   "metadata": {
    "papermill": {
     "duration": 0.066017,
     "end_time": "2021-08-18T10:28:58.128559",
     "exception": false,
     "start_time": "2021-08-18T10:28:58.062542",
     "status": "completed"
    },
    "tags": []
   },
   "source": [
    "# 2) Add Capacity\n",
    "\n",
    "What is your evaluation of these curves? Underfitting, overfitting, just right?"
   ]
  },
  {
   "cell_type": "code",
   "execution_count": 7,
   "id": "80a2ad8d",
   "metadata": {
    "execution": {
     "iopub.execute_input": "2021-08-18T10:28:58.267095Z",
     "iopub.status.busy": "2021-08-18T10:28:58.266364Z",
     "iopub.status.idle": "2021-08-18T10:28:58.273324Z",
     "shell.execute_reply": "2021-08-18T10:28:58.272800Z",
     "shell.execute_reply.started": "2021-08-18T10:20:59.906232Z"
    },
    "papermill": {
     "duration": 0.07775,
     "end_time": "2021-08-18T10:28:58.273470",
     "exception": false,
     "start_time": "2021-08-18T10:28:58.195720",
     "status": "completed"
    },
    "tags": []
   },
   "outputs": [
    {
     "data": {
      "application/javascript": [
       "parent.postMessage({\"jupyterEvent\": \"custom.exercise_interaction\", \"data\": {\"outcomeType\": 1, \"valueTowardsCompletion\": 0.25, \"interactionType\": 1, \"questionType\": 4, \"questionId\": \"2_Q2\", \"learnToolsVersion\": \"0.3.4\", \"failureMessage\": \"\", \"exceptionClass\": \"\", \"trace\": \"\"}}, \"*\")"
      ],
      "text/plain": [
       "<IPython.core.display.Javascript object>"
      ]
     },
     "metadata": {},
     "output_type": "display_data"
    },
    {
     "data": {
      "text/markdown": [
       "<span style=\"color:#33cc33\">Correct:</span> \n",
       "\n",
       "Now the validation loss begins to rise very early, while the training loss continues to decrease. This indicates that the network has begun to overfit. At this point, we would need to try something to prevent it, either by reducing the number of units or through a method like early stopping. (We'll see another in the next lesson!)"
      ],
      "text/plain": [
       "Correct: \n",
       "\n",
       "Now the validation loss begins to rise very early, while the training loss continues to decrease. This indicates that the network has begun to overfit. At this point, we would need to try something to prevent it, either by reducing the number of units or through a method like early stopping. (We'll see another in the next lesson!)"
      ]
     },
     "metadata": {},
     "output_type": "display_data"
    }
   ],
   "source": [
    "# View the solution (Run this cell to receive credit!)\n",
    "q_2.check()"
   ]
  },
  {
   "cell_type": "markdown",
   "id": "c1a7e302",
   "metadata": {
    "papermill": {
     "duration": 0.070437,
     "end_time": "2021-08-18T10:28:58.412286",
     "exception": false,
     "start_time": "2021-08-18T10:28:58.341849",
     "status": "completed"
    },
    "tags": []
   },
   "source": [
    "# 3) Define Early Stopping Callback\n",
    "\n",
    "Now define an early stopping callback that waits 5 epochs (`patience'`) for a change in validation loss of at least `0.001` (`min_delta`) and keeps the weights with the best loss (`restore_best_weights`)."
   ]
  },
  {
   "cell_type": "code",
   "execution_count": 8,
   "id": "eab72855",
   "metadata": {
    "execution": {
     "iopub.execute_input": "2021-08-18T10:28:58.552708Z",
     "iopub.status.busy": "2021-08-18T10:28:58.552092Z",
     "iopub.status.idle": "2021-08-18T10:28:58.561017Z",
     "shell.execute_reply": "2021-08-18T10:28:58.560322Z",
     "shell.execute_reply.started": "2021-08-18T10:23:47.366332Z"
    },
    "lines_to_next_cell": 0,
    "papermill": {
     "duration": 0.079751,
     "end_time": "2021-08-18T10:28:58.561172",
     "exception": false,
     "start_time": "2021-08-18T10:28:58.481421",
     "status": "completed"
    },
    "tags": []
   },
   "outputs": [
    {
     "data": {
      "application/javascript": [
       "parent.postMessage({\"jupyterEvent\": \"custom.exercise_interaction\", \"data\": {\"outcomeType\": 1, \"valueTowardsCompletion\": 0.25, \"interactionType\": 1, \"questionType\": 2, \"questionId\": \"3_Q3\", \"learnToolsVersion\": \"0.3.4\", \"failureMessage\": \"\", \"exceptionClass\": \"\", \"trace\": \"\"}}, \"*\")"
      ],
      "text/plain": [
       "<IPython.core.display.Javascript object>"
      ]
     },
     "metadata": {},
     "output_type": "display_data"
    },
    {
     "data": {
      "text/markdown": [
       "<span style=\"color:#33cc33\">Correct</span>"
      ],
      "text/plain": [
       "Correct"
      ]
     },
     "metadata": {},
     "output_type": "display_data"
    }
   ],
   "source": [
    "from tensorflow.keras import callbacks\n",
    "\n",
    "# YOUR CODE HERE: define an early stopping callback\n",
    "early_stopping = callbacks.EarlyStopping(\n",
    "    min_delta=0.001, # minimium amount of change to count as an improvement\n",
    "    patience=5, # how many epochs to wait before stopping\n",
    "    restore_best_weights=True,\n",
    ")\n",
    "\n",
    "# Check your answer\n",
    "q_3.check()"
   ]
  },
  {
   "cell_type": "code",
   "execution_count": 9,
   "id": "f8669f4f",
   "metadata": {
    "execution": {
     "iopub.execute_input": "2021-08-18T10:28:58.700937Z",
     "iopub.status.busy": "2021-08-18T10:28:58.699959Z",
     "iopub.status.idle": "2021-08-18T10:28:58.702275Z",
     "shell.execute_reply": "2021-08-18T10:28:58.702658Z"
    },
    "papermill": {
     "duration": 0.074268,
     "end_time": "2021-08-18T10:28:58.702850",
     "exception": false,
     "start_time": "2021-08-18T10:28:58.628582",
     "status": "completed"
    },
    "tags": []
   },
   "outputs": [],
   "source": [
    "# Lines below will give you a hint or solution code\n",
    "#q_3.hint()\n",
    "#q_3.solution()"
   ]
  },
  {
   "cell_type": "markdown",
   "id": "630ffdf5",
   "metadata": {
    "papermill": {
     "duration": 0.067446,
     "end_time": "2021-08-18T10:28:58.838183",
     "exception": false,
     "start_time": "2021-08-18T10:28:58.770737",
     "status": "completed"
    },
    "tags": []
   },
   "source": [
    "Now run this cell to train the model and get the learning curves. Notice the `callbacks` argument in `model.fit`."
   ]
  },
  {
   "cell_type": "code",
   "execution_count": 10,
   "id": "3a01aeee",
   "metadata": {
    "execution": {
     "iopub.execute_input": "2021-08-18T10:28:58.978467Z",
     "iopub.status.busy": "2021-08-18T10:28:58.977546Z",
     "iopub.status.idle": "2021-08-18T10:29:02.012629Z",
     "shell.execute_reply": "2021-08-18T10:29:02.012067Z",
     "shell.execute_reply.started": "2021-08-18T10:26:07.572656Z"
    },
    "papermill": {
     "duration": 3.106119,
     "end_time": "2021-08-18T10:29:02.012785",
     "exception": false,
     "start_time": "2021-08-18T10:28:58.906666",
     "status": "completed"
    },
    "tags": []
   },
   "outputs": [
    {
     "name": "stdout",
     "output_type": "stream",
     "text": [
      "Epoch 1/50\n",
      "49/49 [==============================] - 1s 6ms/step - loss: 0.2620 - val_loss: 0.2059\n",
      "Epoch 2/50\n",
      "49/49 [==============================] - 0s 4ms/step - loss: 0.2014 - val_loss: 0.2020\n",
      "Epoch 3/50\n",
      "49/49 [==============================] - 0s 4ms/step - loss: 0.1948 - val_loss: 0.1993\n",
      "Epoch 4/50\n",
      "49/49 [==============================] - 0s 4ms/step - loss: 0.1933 - val_loss: 0.1990\n",
      "Epoch 5/50\n",
      "49/49 [==============================] - 0s 4ms/step - loss: 0.1878 - val_loss: 0.1999\n",
      "Epoch 6/50\n",
      "49/49 [==============================] - 0s 4ms/step - loss: 0.1879 - val_loss: 0.1982\n",
      "Epoch 7/50\n",
      "49/49 [==============================] - 0s 4ms/step - loss: 0.1858 - val_loss: 0.1983\n",
      "Epoch 8/50\n",
      "49/49 [==============================] - 0s 4ms/step - loss: 0.1872 - val_loss: 0.1984\n",
      "Epoch 9/50\n",
      "49/49 [==============================] - 0s 4ms/step - loss: 0.1851 - val_loss: 0.1986\n",
      "Epoch 10/50\n",
      "49/49 [==============================] - 0s 4ms/step - loss: 0.1836 - val_loss: 0.1980\n",
      "Epoch 11/50\n",
      "49/49 [==============================] - 0s 4ms/step - loss: 0.1820 - val_loss: 0.1982\n",
      "Minimum Validation Loss: 0.1980\n"
     ]
    },
    {
     "data": {
      "image/png": "[encoded data removed]",
      "text/plain": [
       "<Figure size 432x288 with 1 Axes>"
      ]
     },
     "metadata": {},
     "output_type": "display_data"
    }
   ],
   "source": [
    "model = keras.Sequential([\n",
    "    layers.Dense(128, activation='relu', input_shape=input_shape),\n",
    "    layers.Dense(64, activation='relu'),    \n",
    "    layers.Dense(1)\n",
    "])\n",
    "model.compile(\n",
    "    optimizer='adam',\n",
    "    loss='mae',\n",
    ")\n",
    "history = model.fit(\n",
    "    X_train, y_train,\n",
    "    validation_data=(X_valid, y_valid),\n",
    "    batch_size=512,\n",
    "    epochs=50,\n",
    "    callbacks=[early_stopping]\n",
    ")\n",
    "history_df = pd.DataFrame(history.history)\n",
    "history_df.loc[:, ['loss', 'val_loss']].plot()\n",
    "print(\"Minimum Validation Loss: {:0.4f}\".format(history_df['val_loss'].min()));"
   ]
  },
  {
   "cell_type": "markdown",
   "id": "46a94b91",
   "metadata": {
    "papermill": {
     "duration": 0.08106,
     "end_time": "2021-08-18T10:29:02.174724",
     "exception": false,
     "start_time": "2021-08-18T10:29:02.093664",
     "status": "completed"
    },
    "tags": []
   },
   "source": [
    "# 4) Train and Interpret\n",
    "\n",
    "Was this an improvement compared to training without early stopping?"
   ]
  },
  {
   "cell_type": "code",
   "execution_count": 11,
   "id": "61c22c6b",
   "metadata": {
    "execution": {
     "iopub.execute_input": "2021-08-18T10:29:02.345332Z",
     "iopub.status.busy": "2021-08-18T10:29:02.344635Z",
     "iopub.status.idle": "2021-08-18T10:29:02.352873Z",
     "shell.execute_reply": "2021-08-18T10:29:02.352236Z",
     "shell.execute_reply.started": "2021-08-18T10:26:46.265153Z"
    },
    "papermill": {
     "duration": 0.094722,
     "end_time": "2021-08-18T10:29:02.353014",
     "exception": false,
     "start_time": "2021-08-18T10:29:02.258292",
     "status": "completed"
    },
    "tags": []
   },
   "outputs": [
    {
     "data": {
      "application/javascript": [
       "parent.postMessage({\"jupyterEvent\": \"custom.exercise_interaction\", \"data\": {\"outcomeType\": 1, \"valueTowardsCompletion\": 0.25, \"interactionType\": 1, \"questionType\": 4, \"questionId\": \"4_Q4\", \"learnToolsVersion\": \"0.3.4\", \"failureMessage\": \"\", \"exceptionClass\": \"\", \"trace\": \"\"}}, \"*\")"
      ],
      "text/plain": [
       "<IPython.core.display.Javascript object>"
      ]
     },
     "metadata": {},
     "output_type": "display_data"
    },
    {
     "data": {
      "text/markdown": [
       "<span style=\"color:#33cc33\">Correct:</span> \n",
       "\n",
       "The early stopping callback did stop the training once the network began overfitting. Moreover, by including `restore_best_weights` we still get to keep the model where validation loss was lowest."
      ],
      "text/plain": [
       "Correct: \n",
       "\n",
       "The early stopping callback did stop the training once the network began overfitting. Moreover, by including `restore_best_weights` we still get to keep the model where validation loss was lowest."
      ]
     },
     "metadata": {},
     "output_type": "display_data"
    }
   ],
   "source": [
    "# View the solution (Run this cell to receive credit!)\n",
    "q_4.check()"
   ]
  },
  {
   "cell_type": "markdown",
   "id": "9efb9bfe",
   "metadata": {
    "papermill": {
     "duration": 0.081042,
     "end_time": "2021-08-18T10:29:02.517209",
     "exception": false,
     "start_time": "2021-08-18T10:29:02.436167",
     "status": "completed"
    },
    "tags": []
   },
   "source": [
    "If you like, try experimenting with `patience` and `min_delta` to see what difference it might make.\n",
    "\n",
    "# Keep Going #\n",
    "\n",
    "Move on to [**learn about a couple of special layers**](https://www.kaggle.com/ryanholbrook/dropout-and-batch-normalization): batch normalization and dropout."
   ]
  },
  {
   "cell_type": "markdown",
   "id": "51abdc49",
   "metadata": {
    "papermill": {
     "duration": 0.081741,
     "end_time": "2021-08-18T10:29:02.691132",
     "exception": false,
     "start_time": "2021-08-18T10:29:02.609391",
     "status": "completed"
    },
    "tags": []
   },
   "source": [
    "---\n",
    "\n",
    "\n",
    "\n",
    "\n",
    "*Have questions or comments? Visit the [Learn Discussion forum](https://www.kaggle.com/learn-forum/191966) to chat with other Learners.*"
   ]
  }
 ],
 "metadata": {
  "kernelspec": {
   "display_name": "Python 3",
   "language": "python",
   "name": "python3"
  },
  "language_info": {
   "codemirror_mode": {
    "name": "ipython",
    "version": 3
   },
   "file_extension": ".py",
   "mimetype": "text/x-python",
   "name": "python",
   "nbconvert_exporter": "python",
   "pygments_lexer": "ipython3",
   "version": "3.7.10"
  },
  "papermill": {
   "default_parameters": {},
   "duration": 40.932909,
   "end_time": "2021-08-18T10:29:04.556388",
   "environment_variables": {},
   "exception": null,
   "input_path": "__notebook__.ipynb",
   "output_path": "__notebook__.ipynb",
   "parameters": {},
   "start_time": "2021-08-18T10:28:23.623479",
   "version": "2.3.3"
  }
 },
 "nbformat": 4,
 "nbformat_minor": 5
}
