{
 "cells": [
  {
   "cell_type": "markdown",
   "id": "e11e1d5e",
   "metadata": {
    "papermill": {
     "duration": 0.013403,
     "end_time": "2021-08-18T09:32:20.650845",
     "exception": false,
     "start_time": "2021-08-18T09:32:20.637442",
     "status": "completed"
    },
    "tags": []
   },
   "source": [
    "**This notebook is an exercise in the [Intro to Deep Learning](https://www.kaggle.com/learn/intro-to-deep-learning) course.  You can reference the tutorial at [this link](https://www.kaggle.com/ryanholbrook/deep-neural-networks).**\n",
    "\n",
    "---\n"
   ]
  },
  {
   "cell_type": "markdown",
   "id": "94ed30ab",
   "metadata": {
    "papermill": {
     "duration": 0.012123,
     "end_time": "2021-08-18T09:32:20.675792",
     "exception": false,
     "start_time": "2021-08-18T09:32:20.663669",
     "status": "completed"
    },
    "tags": []
   },
   "source": [
    "# Introduction #\n",
    "\n",
    "In the tutorial, we saw how to build deep neural networks by stacking layers inside a `Sequential` model. By adding an *activation function* after the hidden layers, we gave the network the ability to learn more complex (non-linear) relationships in the data.\n",
    "\n",
    "In these exercises, you'll build a neural network with several hidden layers and then explore some activation functions beyond ReLU. Run this next cell to set everything up!"
   ]
  },
  {
   "cell_type": "code",
   "execution_count": 1,
   "id": "ae1323bb",
   "metadata": {
    "execution": {
     "iopub.execute_input": "2021-08-18T09:32:20.714137Z",
     "iopub.status.busy": "2021-08-18T09:32:20.713337Z",
     "iopub.status.idle": "2021-08-18T09:32:26.873231Z",
     "shell.execute_reply": "2021-08-18T09:32:26.872512Z",
     "shell.execute_reply.started": "2021-08-18T09:14:19.237388Z"
    },
    "papermill": {
     "duration": 6.185299,
     "end_time": "2021-08-18T09:32:26.873433",
     "exception": false,
     "start_time": "2021-08-18T09:32:20.688134",
     "status": "completed"
    },
    "tags": []
   },
   "outputs": [],
   "source": [
    "import tensorflow as tf\n",
    "\n",
    "# Setup plotting\n",
    "import matplotlib.pyplot as plt\n",
    "\n",
    "plt.style.use('seaborn-whitegrid')\n",
    "# Set Matplotlib defaults\n",
    "plt.rc('figure', autolayout=True)\n",
    "plt.rc('axes', labelweight='bold', labelsize='large',\n",
    "       titleweight='bold', titlesize=18, titlepad=10)\n",
    "\n",
    "# Setup feedback system\n",
    "from learntools.core import binder\n",
    "binder.bind(globals())\n",
    "from learntools.deep_learning_intro.ex2 import *"
   ]
  },
  {
   "cell_type": "markdown",
   "id": "2426fd69",
   "metadata": {
    "papermill": {
     "duration": 0.01208,
     "end_time": "2021-08-18T09:32:26.898238",
     "exception": false,
     "start_time": "2021-08-18T09:32:26.886158",
     "status": "completed"
    },
    "tags": []
   },
   "source": [
    "In the *Concrete* dataset, your task is to predict the compressive strength of concrete manufactured according to various recipes.\n",
    "\n",
    "Run the next code cell without changes to load the dataset."
   ]
  },
  {
   "cell_type": "code",
   "execution_count": 2,
   "id": "59aff300",
   "metadata": {
    "execution": {
     "iopub.execute_input": "2021-08-18T09:32:26.928644Z",
     "iopub.status.busy": "2021-08-18T09:32:26.927841Z",
     "iopub.status.idle": "2021-08-18T09:32:26.972606Z",
     "shell.execute_reply": "2021-08-18T09:32:26.973117Z",
     "shell.execute_reply.started": "2021-08-18T09:14:33.820010Z"
    },
    "papermill": {
     "duration": 0.062664,
     "end_time": "2021-08-18T09:32:26.973300",
     "exception": false,
     "start_time": "2021-08-18T09:32:26.910636",
     "status": "completed"
    },
    "tags": []
   },
   "outputs": [
    {
     "data": {
      "text/html": [
       "<div>\n",
       "<style scoped>\n",
       "    .dataframe tbody tr th:only-of-type {\n",
       "        vertical-align: middle;\n",
       "    }\n",
       "\n",
       "    .dataframe tbody tr th {\n",
       "        vertical-align: top;\n",
       "    }\n",
       "\n",
       "    .dataframe thead th {\n",
       "        text-align: right;\n",
       "    }\n",
       "</style>\n",
       "<table border=\"1\" class=\"dataframe\">\n",
       "  <thead>\n",
       "    <tr style=\"text-align: right;\">\n",
       "      <th></th>\n",
       "      <th>Cement</th>\n",
       "      <th>BlastFurnaceSlag</th>\n",
       "      <th>FlyAsh</th>\n",
       "      <th>Water</th>\n",
       "      <th>Superplasticizer</th>\n",
       "      <th>CoarseAggregate</th>\n",
       "      <th>FineAggregate</th>\n",
       "      <th>Age</th>\n",
       "      <th>CompressiveStrength</th>\n",
       "    </tr>\n",
       "  </thead>\n",
       "  <tbody>\n",
       "    <tr>\n",
       "      <th>0</th>\n",
       "      <td>540.0</td>\n",
       "      <td>0.0</td>\n",
       "      <td>0.0</td>\n",
       "      <td>162.0</td>\n",
       "      <td>2.5</td>\n",
       "      <td>1040.0</td>\n",
       "      <td>676.0</td>\n",
       "      <td>28</td>\n",
       "      <td>79.99</td>\n",
       "    </tr>\n",
       "    <tr>\n",
       "      <th>1</th>\n",
       "      <td>540.0</td>\n",
       "      <td>0.0</td>\n",
       "      <td>0.0</td>\n",
       "      <td>162.0</td>\n",
       "      <td>2.5</td>\n",
       "      <td>1055.0</td>\n",
       "      <td>676.0</td>\n",
       "      <td>28</td>\n",
       "      <td>61.89</td>\n",
       "    </tr>\n",
       "    <tr>\n",
       "      <th>2</th>\n",
       "      <td>332.5</td>\n",
       "      <td>142.5</td>\n",
       "      <td>0.0</td>\n",
       "      <td>228.0</td>\n",
       "      <td>0.0</td>\n",
       "      <td>932.0</td>\n",
       "      <td>594.0</td>\n",
       "      <td>270</td>\n",
       "      <td>40.27</td>\n",
       "    </tr>\n",
       "    <tr>\n",
       "      <th>3</th>\n",
       "      <td>332.5</td>\n",
       "      <td>142.5</td>\n",
       "      <td>0.0</td>\n",
       "      <td>228.0</td>\n",
       "      <td>0.0</td>\n",
       "      <td>932.0</td>\n",
       "      <td>594.0</td>\n",
       "      <td>365</td>\n",
       "      <td>41.05</td>\n",
       "    </tr>\n",
       "    <tr>\n",
       "      <th>4</th>\n",
       "      <td>198.6</td>\n",
       "      <td>132.4</td>\n",
       "      <td>0.0</td>\n",
       "      <td>192.0</td>\n",
       "      <td>0.0</td>\n",
       "      <td>978.4</td>\n",
       "      <td>825.5</td>\n",
       "      <td>360</td>\n",
       "      <td>44.30</td>\n",
       "    </tr>\n",
       "  </tbody>\n",
       "</table>\n",
       "</div>"
      ],
      "text/plain": [
       "   Cement  BlastFurnaceSlag  FlyAsh  Water  Superplasticizer  CoarseAggregate  \\\n",
       "0   540.0               0.0     0.0  162.0               2.5           1040.0   \n",
       "1   540.0               0.0     0.0  162.0               2.5           1055.0   \n",
       "2   332.5             142.5     0.0  228.0               0.0            932.0   \n",
       "3   332.5             142.5     0.0  228.0               0.0            932.0   \n",
       "4   198.6             132.4     0.0  192.0               0.0            978.4   \n",
       "\n",
       "   FineAggregate  Age  CompressiveStrength  \n",
       "0          676.0   28                79.99  \n",
       "1          676.0   28                61.89  \n",
       "2          594.0  270                40.27  \n",
       "3          594.0  365                41.05  \n",
       "4          825.5  360                44.30  "
      ]
     },
     "execution_count": 2,
     "metadata": {},
     "output_type": "execute_result"
    }
   ],
   "source": [
    "import pandas as pd\n",
    "\n",
    "concrete = pd.read_csv('../input/dl-course-data/concrete.csv')\n",
    "concrete.head()"
   ]
  },
  {
   "cell_type": "markdown",
   "id": "478965b2",
   "metadata": {
    "papermill": {
     "duration": 0.013174,
     "end_time": "2021-08-18T09:32:27.000467",
     "exception": false,
     "start_time": "2021-08-18T09:32:26.987293",
     "status": "completed"
    },
    "tags": []
   },
   "source": [
    "# 1) Input Shape #\n",
    "\n",
    "The target for this task is the column `'CompressiveStrength'`. The remaining columns are the features we'll use as inputs.\n",
    "\n",
    "What would be the input shape for this dataset?"
   ]
  },
  {
   "cell_type": "code",
   "execution_count": 3,
   "id": "adc3c5ef",
   "metadata": {
    "execution": {
     "iopub.execute_input": "2021-08-18T09:32:27.032951Z",
     "iopub.status.busy": "2021-08-18T09:32:27.032315Z",
     "iopub.status.idle": "2021-08-18T09:32:27.038280Z",
     "shell.execute_reply": "2021-08-18T09:32:27.037722Z",
     "shell.execute_reply.started": "2021-08-18T09:15:07.055160Z"
    },
    "lines_to_next_cell": 2,
    "papermill": {
     "duration": 0.024613,
     "end_time": "2021-08-18T09:32:27.038428",
     "exception": false,
     "start_time": "2021-08-18T09:32:27.013815",
     "status": "completed"
    },
    "tags": []
   },
   "outputs": [
    {
     "data": {
      "application/javascript": [
       "parent.postMessage({\"jupyterEvent\": \"custom.exercise_interaction\", \"data\": {\"outcomeType\": 1, \"valueTowardsCompletion\": 0.3333333333333333, \"interactionType\": 1, \"questionType\": 2, \"questionId\": \"1_Q1\", \"learnToolsVersion\": \"0.3.4\", \"failureMessage\": \"\", \"exceptionClass\": \"\", \"trace\": \"\"}}, \"*\")"
      ],
      "text/plain": [
       "<IPython.core.display.Javascript object>"
      ]
     },
     "metadata": {},
     "output_type": "display_data"
    },
    {
     "data": {
      "text/markdown": [
       "<span style=\"color:#33cc33\">Correct</span>"
      ],
      "text/plain": [
       "Correct"
      ]
     },
     "metadata": {},
     "output_type": "display_data"
    }
   ],
   "source": [
    "# YOUR CODE HERE\n",
    "input_shape = [len(concrete.columns) - 1]\n",
    "\n",
    "# Check your answer\n",
    "q_1.check()"
   ]
  },
  {
   "cell_type": "code",
   "execution_count": 4,
   "id": "85de9c4f",
   "metadata": {
    "execution": {
     "iopub.execute_input": "2021-08-18T09:32:27.071720Z",
     "iopub.status.busy": "2021-08-18T09:32:27.070729Z",
     "iopub.status.idle": "2021-08-18T09:32:27.073314Z",
     "shell.execute_reply": "2021-08-18T09:32:27.073833Z"
    },
    "papermill": {
     "duration": 0.021535,
     "end_time": "2021-08-18T09:32:27.074006",
     "exception": false,
     "start_time": "2021-08-18T09:32:27.052471",
     "status": "completed"
    },
    "tags": []
   },
   "outputs": [],
   "source": [
    "# Lines below will give you a hint or solution code\n",
    "#q_1.hint()\n",
    "#q_1.solution()"
   ]
  },
  {
   "cell_type": "markdown",
   "id": "595c0c0c",
   "metadata": {
    "papermill": {
     "duration": 0.013727,
     "end_time": "2021-08-18T09:32:27.102013",
     "exception": false,
     "start_time": "2021-08-18T09:32:27.088286",
     "status": "completed"
    },
    "tags": []
   },
   "source": [
    "# 2) Define a Model with Hidden Layers #\n",
    "\n",
    "Now create a model with three hidden layers, each having 512 units and the ReLU activation.  Be sure to include an output layer of one unit and no activation, and also `input_shape` as an argument to the first layer."
   ]
  },
  {
   "cell_type": "code",
   "execution_count": 5,
   "id": "5662d094",
   "metadata": {
    "execution": {
     "iopub.execute_input": "2021-08-18T09:32:27.134922Z",
     "iopub.status.busy": "2021-08-18T09:32:27.133952Z",
     "iopub.status.idle": "2021-08-18T09:32:27.266464Z",
     "shell.execute_reply": "2021-08-18T09:32:27.267008Z",
     "shell.execute_reply.started": "2021-08-18T09:24:34.904152Z"
    },
    "lines_to_next_cell": 0,
    "papermill": {
     "duration": 0.15028,
     "end_time": "2021-08-18T09:32:27.267229",
     "exception": false,
     "start_time": "2021-08-18T09:32:27.116949",
     "status": "completed"
    },
    "tags": []
   },
   "outputs": [
    {
     "data": {
      "application/javascript": [
       "parent.postMessage({\"jupyterEvent\": \"custom.exercise_interaction\", \"data\": {\"outcomeType\": 1, \"valueTowardsCompletion\": 0.3333333333333333, \"interactionType\": 1, \"questionType\": 2, \"questionId\": \"2_Q2\", \"learnToolsVersion\": \"0.3.4\", \"failureMessage\": \"\", \"exceptionClass\": \"\", \"trace\": \"\"}}, \"*\")"
      ],
      "text/plain": [
       "<IPython.core.display.Javascript object>"
      ]
     },
     "metadata": {},
     "output_type": "display_data"
    },
    {
     "data": {
      "text/markdown": [
       "<span style=\"color:#33cc33\">Correct</span>"
      ],
      "text/plain": [
       "Correct"
      ]
     },
     "metadata": {},
     "output_type": "display_data"
    }
   ],
   "source": [
    "from tensorflow import keras\n",
    "from tensorflow.keras import layers\n",
    "\n",
    "# YOUR CODE HERE\n",
    "model = keras.Sequential([\n",
    "    # the hidden ReLU layers\n",
    "    layers.Dense(units=512, activation='relu', input_shape=input_shape),\n",
    "    layers.Dense(units=512, activation='relu', input_shape=input_shape),\n",
    "    layers.Dense(units=512, activation='relu', input_shape=input_shape),\n",
    "    # the linear output layer \n",
    "    layers.Dense(1),\n",
    "])\n",
    "\n",
    "# Check your answer\n",
    "q_2.check()"
   ]
  },
  {
   "cell_type": "code",
   "execution_count": 6,
   "id": "155c4fda",
   "metadata": {
    "execution": {
     "iopub.execute_input": "2021-08-18T09:32:27.308407Z",
     "iopub.status.busy": "2021-08-18T09:32:27.307369Z",
     "iopub.status.idle": "2021-08-18T09:32:27.312078Z",
     "shell.execute_reply": "2021-08-18T09:32:27.311533Z"
    },
    "papermill": {
     "duration": 0.027749,
     "end_time": "2021-08-18T09:32:27.312224",
     "exception": false,
     "start_time": "2021-08-18T09:32:27.284475",
     "status": "completed"
    },
    "tags": []
   },
   "outputs": [],
   "source": [
    "# Lines below will give you a hint or solution code\n",
    "#q_2.hint()\n",
    "#q_2.solution()"
   ]
  },
  {
   "cell_type": "markdown",
   "id": "c02ad046",
   "metadata": {
    "papermill": {
     "duration": 0.015514,
     "end_time": "2021-08-18T09:32:27.343810",
     "exception": false,
     "start_time": "2021-08-18T09:32:27.328296",
     "status": "completed"
    },
    "tags": []
   },
   "source": [
    "# 3) Activation Layers #\n",
    "\n",
    "Let's explore activations functions some.\n",
    "\n",
    "The usual way of attaching an activation function to a `Dense` layer is to include it as part of the definition with the `activation` argument. Sometimes though you'll want to put some other layer between the `Dense` layer and its activation function. (We'll see an example of this in Lesson 5 with *batch normalization*.) In this case, we can define the activation in its own `Activation` layer, like so:\n",
    "\n",
    "```\n",
    "layers.Dense(units=8),\n",
    "layers.Activation('relu')\n",
    "```\n",
    "\n",
    "This is completely equivalent to the ordinary way: `layers.Dense(units=8, activation='relu')`.\n",
    "\n",
    "Rewrite the following model so that each activation is in its own `Activation` layer."
   ]
  },
  {
   "cell_type": "code",
   "execution_count": 7,
   "id": "ac000550",
   "metadata": {
    "execution": {
     "iopub.execute_input": "2021-08-18T09:32:27.392597Z",
     "iopub.status.busy": "2021-08-18T09:32:27.391519Z",
     "iopub.status.idle": "2021-08-18T09:32:27.426543Z",
     "shell.execute_reply": "2021-08-18T09:32:27.425909Z",
     "shell.execute_reply.started": "2021-08-18T09:28:59.726006Z"
    },
    "lines_to_next_cell": 0,
    "papermill": {
     "duration": 0.06508,
     "end_time": "2021-08-18T09:32:27.426699",
     "exception": false,
     "start_time": "2021-08-18T09:32:27.361619",
     "status": "completed"
    },
    "tags": []
   },
   "outputs": [
    {
     "data": {
      "application/javascript": [
       "parent.postMessage({\"jupyterEvent\": \"custom.exercise_interaction\", \"data\": {\"outcomeType\": 1, \"valueTowardsCompletion\": 0.3333333333333333, \"interactionType\": 1, \"questionType\": 2, \"questionId\": \"3_Q3\", \"learnToolsVersion\": \"0.3.4\", \"failureMessage\": \"\", \"exceptionClass\": \"\", \"trace\": \"\"}}, \"*\")"
      ],
      "text/plain": [
       "<IPython.core.display.Javascript object>"
      ]
     },
     "metadata": {},
     "output_type": "display_data"
    },
    {
     "data": {
      "text/markdown": [
       "<span style=\"color:#33cc33\">Correct</span>"
      ],
      "text/plain": [
       "Correct"
      ]
     },
     "metadata": {},
     "output_type": "display_data"
    }
   ],
   "source": [
    "### YOUR CODE HERE: rewrite this to use activation layers\n",
    "model = keras.Sequential([\n",
    "    layers.Dense(32, input_shape=[8]),\n",
    "    layers.Activation('relu'),\n",
    "    layers.Dense(32),\n",
    "    layers.Activation('relu'),\n",
    "    layers.Dense(1)\n",
    "])\n",
    "\n",
    "# Check your answer\n",
    "q_3.check()"
   ]
  },
  {
   "cell_type": "code",
   "execution_count": 8,
   "id": "9754d1ac",
   "metadata": {
    "execution": {
     "iopub.execute_input": "2021-08-18T09:32:27.465872Z",
     "iopub.status.busy": "2021-08-18T09:32:27.464891Z",
     "iopub.status.idle": "2021-08-18T09:32:27.468402Z",
     "shell.execute_reply": "2021-08-18T09:32:27.467845Z",
     "shell.execute_reply.started": "2021-08-18T09:29:05.563710Z"
    },
    "papermill": {
     "duration": 0.024736,
     "end_time": "2021-08-18T09:32:27.468552",
     "exception": false,
     "start_time": "2021-08-18T09:32:27.443816",
     "status": "completed"
    },
    "tags": []
   },
   "outputs": [],
   "source": [
    "# Lines below will give you a hint or solution code\n",
    "#q_3.hint()\n",
    "#q_3.solution()"
   ]
  },
  {
   "cell_type": "markdown",
   "id": "d07d6574",
   "metadata": {
    "papermill": {
     "duration": 0.016814,
     "end_time": "2021-08-18T09:32:27.506909",
     "exception": false,
     "start_time": "2021-08-18T09:32:27.490095",
     "status": "completed"
    },
    "tags": []
   },
   "source": [
    "# Optional: Alternatives to ReLU #\n",
    "\n",
    "There is a whole family of variants of the `'relu'` activation -- `'elu'`, `'selu'`, and `'swish'`, among others -- all of which you can use in Keras. Sometimes one activation will perform better than another on a given task, so you could consider experimenting with activations as you develop a model. The ReLU activation tends to do well on most problems, so it's a good one to start with.\n",
    "\n",
    "Let's look at the graphs of some of these. Change the activation from `'relu'` to one of the others named above. Then run the cell to see the graph. (Check out the [documentation](https://www.tensorflow.org/api_docs/python/tf/keras/activations) for more ideas.)"
   ]
  },
  {
   "cell_type": "code",
   "execution_count": 9,
   "id": "2cb90f11",
   "metadata": {
    "execution": {
     "iopub.execute_input": "2021-08-18T09:32:27.547552Z",
     "iopub.status.busy": "2021-08-18T09:32:27.546603Z",
     "iopub.status.idle": "2021-08-18T09:32:27.925265Z",
     "shell.execute_reply": "2021-08-18T09:32:27.926143Z",
     "shell.execute_reply.started": "2021-08-18T09:30:28.362168Z"
    },
    "lines_to_next_cell": 0,
    "papermill": {
     "duration": 0.402496,
     "end_time": "2021-08-18T09:32:27.926322",
     "exception": false,
     "start_time": "2021-08-18T09:32:27.523826",
     "status": "completed"
    },
    "tags": []
   },
   "outputs": [
    {
     "data": {
      "image/png": "[encoded data removed]",
      "text/plain": [
       "<Figure size 600x400 with 1 Axes>"
      ]
     },
     "metadata": {},
     "output_type": "display_data"
    }
   ],
   "source": [
    "# YOUR CODE HERE: Change 'relu' to 'elu', 'selu', 'swish'... or something else\n",
    "activation_layer = layers.Activation('elu')\n",
    "\n",
    "x = tf.linspace(-3.0, 3.0, 100)\n",
    "y = activation_layer(x) # once created, a layer is callable just like a function\n",
    "\n",
    "plt.figure(dpi=100)\n",
    "plt.plot(x, y)\n",
    "plt.xlim(-3, 3)\n",
    "plt.xlabel(\"Input\")\n",
    "plt.ylabel(\"Output\")\n",
    "plt.show()"
   ]
  },
  {
   "cell_type": "markdown",
   "id": "19225d59",
   "metadata": {
    "papermill": {
     "duration": 0.017093,
     "end_time": "2021-08-18T09:32:27.961122",
     "exception": false,
     "start_time": "2021-08-18T09:32:27.944029",
     "status": "completed"
    },
    "tags": []
   },
   "source": [
    "# Keep Going #\n",
    "\n",
    "Now move on to Lesson 3 and [**learn how to train neural networks**](https://www.kaggle.com/ryanholbrook/stochastic-gradient-descent) with stochastic gradient descent."
   ]
  },
  {
   "cell_type": "markdown",
   "id": "c4ff5bd6",
   "metadata": {
    "papermill": {
     "duration": 0.017084,
     "end_time": "2021-08-18T09:32:27.995615",
     "exception": false,
     "start_time": "2021-08-18T09:32:27.978531",
     "status": "completed"
    },
    "tags": []
   },
   "source": [
    "---\n",
    "\n",
    "\n",
    "\n",
    "\n",
    "*Have questions or comments? Visit the [Learn Discussion forum](https://www.kaggle.com/learn-forum/191966) to chat with other Learners.*"
   ]
  }
 ],
 "metadata": {
  "kernelspec": {
   "display_name": "Python 3",
   "language": "python",
   "name": "python3"
  },
  "language_info": {
   "codemirror_mode": {
    "name": "ipython",
    "version": 3
   },
   "file_extension": ".py",
   "mimetype": "text/x-python",
   "name": "python",
   "nbconvert_exporter": "python",
   "pygments_lexer": "ipython3",
   "version": "3.7.10"
  },
  "papermill": {
   "default_parameters": {},
   "duration": 17.871113,
   "end_time": "2021-08-18T09:32:30.064230",
   "environment_variables": {},
   "exception": null,
   "input_path": "__notebook__.ipynb",
   "output_path": "__notebook__.ipynb",
   "parameters": {},
   "start_time": "2021-08-18T09:32:12.193117",
   "version": "2.3.3"
  }
 },
 "nbformat": 4,
 "nbformat_minor": 5
}
