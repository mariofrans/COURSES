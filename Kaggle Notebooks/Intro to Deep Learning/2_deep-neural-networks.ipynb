{
 "cells": [
  {
   "cell_type": "markdown",
   "id": "curious-brush",
   "metadata": {
    "papermill": {
     "duration": 0.005234,
     "end_time": "2021-06-03T16:39:51.861454",
     "exception": false,
     "start_time": "2021-06-03T16:39:51.856220",
     "status": "completed"
    },
    "tags": []
   },
   "source": [
    "# Introduction #\n",
    "\n",
    "In this lesson we're going to see how we can build neural networks capable of learning the complex kinds of relationships deep neural nets are famous for.\n",
    "\n",
    "The key idea here is *modularity*, building up a complex network from simpler functional units. We've seen how a linear unit computes a linear function -- now we'll see how to combine and modify these single units to model more complex relationships.\n",
    "\n",
    "# Layers #\n",
    "\n",
    "Neural networks typically organize their neurons into **layers**. When we collect together linear units having a common set of inputs we get a **dense** layer.\n",
    "\n",
    "<figure style=\"padding: 1em;\">\n",
    "<img src=\"https://i.imgur.com/2MA4iMV.png\" width=\"300\" alt=\"A stack of three circles in an input layer connected to two circles in a dense layer.\">\n",
    "<figcaption style=\"textalign: center; font-style: italic\"><center>A dense layer of two linear units receiving two inputs and a bias.\n",
    "</center></figcaption>\n",
    "</figure>\n",
    "\n",
    "You could think of each layer in a neural network as performing some kind of relatively simple transformation. Through a deep stack of layers, a neural network can transform its inputs in more and more complex ways. In a well-trained neural network, each layer is a transformation getting us a little bit closer to a solution.\n",
    "\n",
    "<blockquote style=\"margin-right:auto; margin-left:auto; background-color: #ebf9ff; padding: 1em; margin:24px;\">\n",
    "    <strong>Many Kinds of Layers</strong><br>\n",
    "A \"layer\" in Keras is a very general kind of thing. A layer can be, essentially, any kind of <em>data transformation</em>. Many layers, like the <a href=\"https://www.tensorflow.org/api_docs/python/tf/keras/layers/Conv2D\">convolutional</a> and <a href=\"https://www.tensorflow.org/api_docs/python/tf/keras/layers/RNN\">recurrent</a> layers, transform data through use of neurons and differ primarily in the pattern of connections they form. Others though are used for <a href=\"https://www.tensorflow.org/api_docs/python/tf/keras/layers/Embedding\">feature engineering</a> or just <a href=\"https://www.tensorflow.org/api_docs/python/tf/keras/layers/Add\">simple arithmetic</a>. There's a whole world of layers to discover -- <a href=\"https://www.tensorflow.org/api_docs/python/tf/keras/layers\">check them out</a>!\n",
    "</blockquote>\n",
    "\n",
    "# The Activation Function #\n",
    "\n",
    "It turns out, however, that two dense layers with nothing in between are no better than a single dense layer by itself. Dense layers by themselves can never move us out of the world of lines and planes. What we need is something *nonlinear*. What we need are activation functions.\n",
    "\n",
    "<figure style=\"padding: 1em;\">\n",
    "<img src=\"https://i.imgur.com/OLSUEYT.png\" width=\"400\" alt=\" \">\n",
    "<figcaption style=\"textalign: center; font-style: italic\"><center>Without activation functions, neural networks can only learn linear relationships. In order to fit curves, we'll need to use activation functions. \n",
    "</center></figcaption>\n",
    "</figure>\n",
    "\n",
    "An **activation function** is simply some function we apply to each of a layer's outputs (its *activations*). The most common is the *rectifier* function $max(0, x)$.\n",
    "\n",
    "<figure style=\"padding: 1em;\">\n",
    "<img src=\"https://i.imgur.com/aeIyAlF.png\" width=\"400\" alt=\"A graph of the rectifier function. The line y=x when x>0 and y=0 when x<0, making a 'hinge' shape like '_/'.\">\n",
    "<figcaption style=\"textalign: center; font-style: italic\"><center>\n",
    "</center></figcaption>\n",
    "</figure>\n",
    "\n",
    "The rectifier function has a graph that's a line with the negative part \"rectified\" to zero. Applying the function to the outputs of a neuron will put a *bend* in the data, moving us away from simple lines.\n",
    "\n",
    "When we attach the rectifier to a linear unit, we get a **rectified linear unit** or **ReLU**. (For this reason, it's common to call the rectifier function the \"ReLU function\".)  Applying a ReLU activation to a linear unit means the output becomes `max(0, w * x + b)`, which we might draw in a diagram like:\n",
    "\n",
    "<figure style=\"padding: 1em;\">\n",
    "<img src=\"https://i.imgur.com/eFry7Yu.png\" width=\"250\" alt=\"Diagram of a single ReLU. Like a linear unit, but instead of a '+' symbol we now have a hinge '_/'. \">\n",
    "<figcaption style=\"textalign: center; font-style: italic\"><center>A rectified linear unit.\n",
    "</center></figcaption>\n",
    "</figure>"
   ]
  },
  {
   "cell_type": "markdown",
   "id": "moving-polymer",
   "metadata": {
    "papermill": {
     "duration": 0.004058,
     "end_time": "2021-06-03T16:39:51.869992",
     "exception": false,
     "start_time": "2021-06-03T16:39:51.865934",
     "status": "completed"
    },
    "tags": []
   },
   "source": [
    "# Stacking Dense Layers #\n",
    "\n",
    "Now that we have some nonlinearity, let's see how we can stack layers to get complex data transformations.\n",
    "\n",
    "<figure style=\"padding: 1em;\">\n",
    "<img src=\"https://i.imgur.com/Y5iwFQZ.png\" width=\"450\" alt=\"An input layer, two hidden layers, and a final linear layer.\">\n",
    "<figcaption style=\"textalign: center; font-style: italic\"><center>A stack of dense layers makes a \"fully-connected\" network.\n",
    "</center></figcaption>\n",
    "</figure>\n",
    "\n",
    "The layers before the output layer are sometimes called **hidden** since we never see their outputs directly.\n",
    "\n",
    "Now, notice that the final (output) layer is a linear unit (meaning, no activation function). That makes this network appropriate to a regression task, where we are trying to predict some arbitrary numeric value. Other tasks (like classification) might require an activation function on the output.\n",
    "\n",
    "## Building Sequential Models ##\n",
    "\n",
    "The `Sequential` model we've been using will connect together a list of layers in order from first to last: the first layer gets the input, the last layer produces the output. This creates the model in the figure above:"
   ]
  },
  {
   "cell_type": "code",
   "execution_count": 1,
   "id": "adaptive-search",
   "metadata": {
    "execution": {
     "iopub.execute_input": "2021-06-03T16:39:51.882598Z",
     "iopub.status.busy": "2021-06-03T16:39:51.881388Z",
     "iopub.status.idle": "2021-06-03T16:39:57.749668Z",
     "shell.execute_reply": "2021-06-03T16:39:57.748225Z"
    },
    "papermill": {
     "duration": 5.875691,
     "end_time": "2021-06-03T16:39:57.749869",
     "exception": false,
     "start_time": "2021-06-03T16:39:51.874178",
     "status": "completed"
    },
    "tags": []
   },
   "outputs": [],
   "source": [
    "from tensorflow import keras\n",
    "from tensorflow.keras import layers\n",
    "\n",
    "model = keras.Sequential([\n",
    "    # the hidden ReLU layers\n",
    "    layers.Dense(units=4, activation='relu', input_shape=[2]),\n",
    "    layers.Dense(units=3, activation='relu'),\n",
    "    # the linear output layer \n",
    "    layers.Dense(units=1),\n",
    "])"
   ]
  },
  {
   "cell_type": "markdown",
   "id": "dominican-zealand",
   "metadata": {
    "papermill": {
     "duration": 0.004071,
     "end_time": "2021-06-03T16:39:57.758784",
     "exception": false,
     "start_time": "2021-06-03T16:39:57.754713",
     "status": "completed"
    },
    "tags": []
   },
   "source": [
    "Be sure to pass all the layers together in a list, like `[layer, layer, layer, ...]`, instead of as separate arguments. To add an activation function to a layer, just give its name in the `activation` argument.\n",
    "\n",
    "# Your Turn #\n",
    "\n",
    "Now, [**create a deep neural network**](https://www.kaggle.com/kernels/fork/11887344) for the *Concrete* dataset."
   ]
  },
  {
   "cell_type": "markdown",
   "id": "tired-archive",
   "metadata": {
    "papermill": {
     "duration": 0.004555,
     "end_time": "2021-06-03T16:39:57.767765",
     "exception": false,
     "start_time": "2021-06-03T16:39:57.763210",
     "status": "completed"
    },
    "tags": []
   },
   "source": [
    "---\n",
    "\n",
    "\n",
    "\n",
    "\n",
    "*Have questions or comments? Visit the [Learn Discussion forum](https://www.kaggle.com/learn-forum/191966) to chat with other Learners.*"
   ]
  }
 ],
 "metadata": {
  "jupytext": {
   "cell_metadata_filter": "-all",
   "formats": "ipynb"
  },
  "kernelspec": {
   "display_name": "Python 3",
   "language": "python",
   "name": "python3"
  },
  "language_info": {
   "codemirror_mode": {
    "name": "ipython",
    "version": 3
   },
   "file_extension": ".py",
   "mimetype": "text/x-python",
   "name": "python",
   "nbconvert_exporter": "python",
   "pygments_lexer": "ipython3",
   "version": "3.7.9"
  },
  "papermill": {
   "default_parameters": {},
   "duration": 13.196573,
   "end_time": "2021-06-03T16:39:58.784291",
   "environment_variables": {},
   "exception": null,
   "input_path": "__notebook__.ipynb",
   "output_path": "__notebook__.ipynb",
   "parameters": {},
   "start_time": "2021-06-03T16:39:45.587718",
   "version": "2.3.2"
  }
 },
 "nbformat": 4,
 "nbformat_minor": 5
}
