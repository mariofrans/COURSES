{
 "cells": [
  {
   "cell_type": "markdown",
   "id": "fifty-liberty",
   "metadata": {
    "papermill": {
     "duration": 0.008658,
     "end_time": "2021-06-03T16:37:17.261901",
     "exception": false,
     "start_time": "2021-06-03T16:37:17.253243",
     "status": "completed"
    },
    "tags": []
   },
   "source": [
    "# Word Embeddings\n",
    "\n",
    "You know at this point that machine learning on text requires that you first represent the text numerically. So far, you've done this with bag of words representations. But you can usually do better with word embeddings.\n",
    "\n",
    "**Word embeddings** (also called word vectors) represent each word numerically in such a way that the vector corresponds to how that word is used or what it means. Vector encodings are learned by considering the context in which the words appear. Words that appear in similar contexts will have similar vectors. For example, vectors for \"leopard\", \"lion\", and \"tiger\" will be close together, while they'll be far away from \"planet\" and \"castle\".\n",
    "\n",
    "Even cooler, relations between words can be examined with mathematical operations. Subtracting the vectors for \"man\" and \"woman\" will return another vector. If you add that to the vector for \"king\" the result is close to the vector for \"queen.\"\n",
    "\n",
    "![Word vector examples](https://www.tensorflow.org/images/linear-relationships.png)\n",
    "\n",
    "These vectors can be used as features for machine learning models. Word vectors will typically improve the performance of your models above bag of words encoding. spaCy provides embeddings learned from a model called Word2Vec. You can access them by loading a large language model like `en_core_web_lg`. Then they will be available on tokens from the `.vector` attribute."
   ]
  },
  {
   "cell_type": "code",
   "execution_count": 1,
   "id": "serious-place",
   "metadata": {
    "execution": {
     "iopub.execute_input": "2021-06-03T16:37:17.279725Z",
     "iopub.status.busy": "2021-06-03T16:37:17.278800Z",
     "iopub.status.idle": "2021-06-03T16:37:26.038669Z",
     "shell.execute_reply": "2021-06-03T16:37:26.039147Z"
    },
    "papermill": {
     "duration": 8.770407,
     "end_time": "2021-06-03T16:37:26.039447",
     "exception": false,
     "start_time": "2021-06-03T16:37:17.269040",
     "status": "completed"
    },
    "tags": []
   },
   "outputs": [],
   "source": [
    "import numpy as np\n",
    "import spacy\n",
    "\n",
    "# Need to load the large model to get the vectors\n",
    "nlp = spacy.load('en_core_web_lg')"
   ]
  },
  {
   "cell_type": "code",
   "execution_count": 2,
   "id": "nervous-population",
   "metadata": {
    "execution": {
     "iopub.execute_input": "2021-06-03T16:37:26.057720Z",
     "iopub.status.busy": "2021-06-03T16:37:26.057172Z",
     "iopub.status.idle": "2021-06-03T16:37:26.093369Z",
     "shell.execute_reply": "2021-06-03T16:37:26.093816Z"
    },
    "papermill": {
     "duration": 0.046853,
     "end_time": "2021-06-03T16:37:26.093997",
     "exception": false,
     "start_time": "2021-06-03T16:37:26.047144",
     "status": "completed"
    },
    "tags": []
   },
   "outputs": [],
   "source": [
    "# Disabling other pipes because we don't need them and it'll speed up this part a bit\n",
    "text = \"These vectors can be used as features for machine learning models.\"\n",
    "with nlp.disable_pipes():\n",
    "    vectors = np.array([token.vector for token in  nlp(text)])"
   ]
  },
  {
   "cell_type": "code",
   "execution_count": 3,
   "id": "responsible-armstrong",
   "metadata": {
    "execution": {
     "iopub.execute_input": "2021-06-03T16:37:26.115231Z",
     "iopub.status.busy": "2021-06-03T16:37:26.114522Z",
     "iopub.status.idle": "2021-06-03T16:37:26.118551Z",
     "shell.execute_reply": "2021-06-03T16:37:26.118000Z"
    },
    "papermill": {
     "duration": 0.017367,
     "end_time": "2021-06-03T16:37:26.118684",
     "exception": false,
     "start_time": "2021-06-03T16:37:26.101317",
     "status": "completed"
    },
    "tags": []
   },
   "outputs": [
    {
     "data": {
      "text/plain": [
       "(12, 300)"
      ]
     },
     "execution_count": 3,
     "metadata": {},
     "output_type": "execute_result"
    }
   ],
   "source": [
    "vectors.shape"
   ]
  },
  {
   "cell_type": "markdown",
   "id": "baking-fiction",
   "metadata": {
    "papermill": {
     "duration": 0.007223,
     "end_time": "2021-06-03T16:37:26.133915",
     "exception": false,
     "start_time": "2021-06-03T16:37:26.126692",
     "status": "completed"
    },
    "tags": []
   },
   "source": [
    "These are 300-dimensional vectors, with one vector for each word. However, we only have document-level labels and our models won't be able to use the word-level embeddings. So, you need a vector representation for the entire document. \n",
    "\n",
    "There are many ways to combine all the word vectors into a single document vector we can use for model training. A simple and surprisingly effective approach is simply averaging the vectors for each word in the document. Then, you can use these document vectors for modeling.\n",
    "\n",
    "spaCy calculates the average document vector which you can get with `doc.vector`. Here is an example loading the spam data and converting it to document vectors."
   ]
  },
  {
   "cell_type": "code",
   "execution_count": 4,
   "id": "italic-flood",
   "metadata": {
    "execution": {
     "iopub.execute_input": "2021-06-03T16:37:26.154144Z",
     "iopub.status.busy": "2021-06-03T16:37:26.153507Z",
     "iopub.status.idle": "2021-06-03T16:38:16.902303Z",
     "shell.execute_reply": "2021-06-03T16:38:16.902747Z"
    },
    "papermill": {
     "duration": 50.761525,
     "end_time": "2021-06-03T16:38:16.902956",
     "exception": false,
     "start_time": "2021-06-03T16:37:26.141431",
     "status": "completed"
    },
    "tags": []
   },
   "outputs": [
    {
     "data": {
      "text/plain": [
       "(5572, 300)"
      ]
     },
     "execution_count": 4,
     "metadata": {},
     "output_type": "execute_result"
    }
   ],
   "source": [
    "import pandas as pd\n",
    "\n",
    "# Loading the spam data\n",
    "# ham is the label for non-spam messages\n",
    "spam = pd.read_csv('../input/nlp-course/spam.csv')\n",
    "\n",
    "with nlp.disable_pipes():\n",
    "    doc_vectors = np.array([nlp(text).vector for text in spam.text])\n",
    "    \n",
    "doc_vectors.shape"
   ]
  },
  {
   "cell_type": "markdown",
   "id": "technical-participant",
   "metadata": {
    "papermill": {
     "duration": 0.007686,
     "end_time": "2021-06-03T16:38:16.918722",
     "exception": false,
     "start_time": "2021-06-03T16:38:16.911036",
     "status": "completed"
    },
    "tags": []
   },
   "source": [
    "## Classification Models\n",
    "\n",
    "With the document vectors, you can train scikit-learn models, xgboost models, or any other standard approach to modeling."
   ]
  },
  {
   "cell_type": "code",
   "execution_count": 5,
   "id": "manual-private",
   "metadata": {
    "execution": {
     "iopub.execute_input": "2021-06-03T16:38:16.939973Z",
     "iopub.status.busy": "2021-06-03T16:38:16.939158Z",
     "iopub.status.idle": "2021-06-03T16:38:18.006063Z",
     "shell.execute_reply": "2021-06-03T16:38:18.004530Z"
    },
    "papermill": {
     "duration": 1.079508,
     "end_time": "2021-06-03T16:38:18.006224",
     "exception": false,
     "start_time": "2021-06-03T16:38:16.926716",
     "status": "completed"
    },
    "tags": []
   },
   "outputs": [],
   "source": [
    "from sklearn.model_selection import train_test_split\n",
    "\n",
    "X_train, X_test, y_train, y_test = train_test_split(doc_vectors, spam.label,\n",
    "                                                    test_size=0.1, random_state=1)"
   ]
  },
  {
   "cell_type": "markdown",
   "id": "absent-deputy",
   "metadata": {
    "papermill": {
     "duration": 0.00765,
     "end_time": "2021-06-03T16:38:18.023429",
     "exception": false,
     "start_time": "2021-06-03T16:38:18.015779",
     "status": "completed"
    },
    "tags": []
   },
   "source": [
    "Here is an example using [support vector machines (SVMs)](https://scikit-learn.org/stable/modules/svm.html#svm). Scikit-learn provides an SVM classifier `LinearSVC`. This works similar to other scikit-learn models."
   ]
  },
  {
   "cell_type": "code",
   "execution_count": 6,
   "id": "legitimate-china",
   "metadata": {
    "execution": {
     "iopub.execute_input": "2021-06-03T16:38:18.043539Z",
     "iopub.status.busy": "2021-06-03T16:38:18.043006Z",
     "iopub.status.idle": "2021-06-03T16:38:18.341794Z",
     "shell.execute_reply": "2021-06-03T16:38:18.340935Z"
    },
    "papermill": {
     "duration": 0.310699,
     "end_time": "2021-06-03T16:38:18.342010",
     "exception": false,
     "start_time": "2021-06-03T16:38:18.031311",
     "status": "completed"
    },
    "tags": []
   },
   "outputs": [
    {
     "name": "stdout",
     "output_type": "stream",
     "text": [
      "Accuracy: 97.312%\n"
     ]
    }
   ],
   "source": [
    "from sklearn.svm import LinearSVC\n",
    "\n",
    "# Set dual=False to speed up training, and it's not needed\n",
    "svc = LinearSVC(random_state=1, dual=False, max_iter=10000)\n",
    "svc.fit(X_train, y_train)\n",
    "print(f\"Accuracy: {svc.score(X_test, y_test) * 100:.3f}%\", )"
   ]
  },
  {
   "cell_type": "markdown",
   "id": "velvet-cooling",
   "metadata": {
    "papermill": {
     "duration": 0.015017,
     "end_time": "2021-06-03T16:38:18.372827",
     "exception": false,
     "start_time": "2021-06-03T16:38:18.357810",
     "status": "completed"
    },
    "tags": []
   },
   "source": [
    "## Document Similarity\n",
    "\n",
    "Documents with similar content generally have similar vectors. So you can find similar documents by measuring the similarity between the vectors. A common metric for this is the **cosine similarity** which measures the angle between two vectors, $\\mathbf{a}$ and $\\mathbf{b}$.\n",
    "\n",
    "$$\n",
    "\\cos \\theta = \\frac{\\mathbf{a}\\cdot\\mathbf{b}}{\\| \\mathbf{a} \\| \\, \\| \\mathbf{b} \\|}\n",
    "$$\n",
    "\n",
    "This is the dot product of $\\mathbf{a}$ and $\\mathbf{b}$, divided by the magnitudes of each vector. The cosine similarity can vary between -1 and 1, corresponding complete opposite to perfect similarity, respectively. To calculate it, you can use [the metric from scikit-learn](https://scikit-learn.org/stable/modules/generated/sklearn.metrics.pairwise.cosine_similarity.html) or write your own function."
   ]
  },
  {
   "cell_type": "code",
   "execution_count": 7,
   "id": "rapid-communications",
   "metadata": {
    "execution": {
     "iopub.execute_input": "2021-06-03T16:38:18.414592Z",
     "iopub.status.busy": "2021-06-03T16:38:18.413520Z",
     "iopub.status.idle": "2021-06-03T16:38:18.416170Z",
     "shell.execute_reply": "2021-06-03T16:38:18.415415Z"
    },
    "papermill": {
     "duration": 0.027372,
     "end_time": "2021-06-03T16:38:18.416363",
     "exception": false,
     "start_time": "2021-06-03T16:38:18.388991",
     "status": "completed"
    },
    "tags": []
   },
   "outputs": [],
   "source": [
    "def cosine_similarity(a, b):\n",
    "    return a.dot(b)/np.sqrt(a.dot(a) * b.dot(b))"
   ]
  },
  {
   "cell_type": "code",
   "execution_count": 8,
   "id": "verbal-improvement",
   "metadata": {
    "execution": {
     "iopub.execute_input": "2021-06-03T16:38:18.454388Z",
     "iopub.status.busy": "2021-06-03T16:38:18.453765Z",
     "iopub.status.idle": "2021-06-03T16:38:18.476283Z",
     "shell.execute_reply": "2021-06-03T16:38:18.476743Z"
    },
    "papermill": {
     "duration": 0.044384,
     "end_time": "2021-06-03T16:38:18.476924",
     "exception": false,
     "start_time": "2021-06-03T16:38:18.432540",
     "status": "completed"
    },
    "tags": []
   },
   "outputs": [
    {
     "data": {
      "text/plain": [
       "0.7030031"
      ]
     },
     "execution_count": 8,
     "metadata": {},
     "output_type": "execute_result"
    }
   ],
   "source": [
    "a = nlp(\"REPLY NOW FOR FREE TEA\").vector\n",
    "b = nlp(\"According to legend, Emperor Shen Nung discovered tea when leaves from a wild tree blew into his pot of boiling water.\").vector\n",
    "cosine_similarity(a, b)"
   ]
  },
  {
   "cell_type": "markdown",
   "id": "combined-charlotte",
   "metadata": {
    "papermill": {
     "duration": 0.008959,
     "end_time": "2021-06-03T16:38:18.494722",
     "exception": false,
     "start_time": "2021-06-03T16:38:18.485763",
     "status": "completed"
    },
    "tags": []
   },
   "source": [
    "# Your Turn\n",
    "Word embeddings are incredibly powerful. You know know enough to apply embeddings to **[improve your models and find similar documents](https://www.kaggle.com/kernels/fork/6061026)**."
   ]
  },
  {
   "cell_type": "markdown",
   "id": "korean-canvas",
   "metadata": {
    "papermill": {
     "duration": 0.008713,
     "end_time": "2021-06-03T16:38:18.512794",
     "exception": false,
     "start_time": "2021-06-03T16:38:18.504081",
     "status": "completed"
    },
    "tags": []
   },
   "source": [
    "---\n",
    "\n",
    "\n",
    "\n",
    "\n",
    "*Have questions or comments? Visit the [Learn Discussion forum](https://www.kaggle.com/learn-forum/161466) to chat with other Learners.*"
   ]
  }
 ],
 "metadata": {
  "kernelspec": {
   "display_name": "Python 3",
   "language": "python",
   "name": "python3"
  },
  "language_info": {
   "codemirror_mode": {
    "name": "ipython",
    "version": 3
   },
   "file_extension": ".py",
   "mimetype": "text/x-python",
   "name": "python",
   "nbconvert_exporter": "python",
   "pygments_lexer": "ipython3",
   "version": "3.7.9"
  },
  "papermill": {
   "default_parameters": {},
   "duration": 68.736184,
   "end_time": "2021-06-03T16:38:20.755321",
   "environment_variables": {},
   "exception": null,
   "input_path": "__notebook__.ipynb",
   "output_path": "__notebook__.ipynb",
   "parameters": {},
   "start_time": "2021-06-03T16:37:12.019137",
   "version": "2.3.2"
  }
 },
 "nbformat": 4,
 "nbformat_minor": 5
}
