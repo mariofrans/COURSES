{
 "cells": [
  {
   "cell_type": "markdown",
   "id": "identical-waterproof",
   "metadata": {
    "papermill": {
     "duration": 0.011544,
     "end_time": "2021-06-03T16:37:26.698855",
     "exception": false,
     "start_time": "2021-06-03T16:37:26.687311",
     "status": "completed"
    },
    "tags": []
   },
   "source": [
    "# Intro\n",
    "\n",
    "Data comes in many different forms: time stamps, sensor readings, images, categorical labels, and so much more. But text is still some of the most valuable data out there for those who know how to use it.  \n",
    "\n",
    "In this course about **Natural Language Processing (NLP)**, you will use the leading NLP library (spaCy) to take on some of the most important tasks in working with text. \n",
    "\n",
    "By the end, you will be able to use spaCy for:\n",
    "\n",
    "* Basic text processing and pattern matching\n",
    "* Building machine learning models with text\n",
    "* Representing text with word embeddings that numerically capture the meaning of words and documents"
   ]
  },
  {
   "cell_type": "markdown",
   "id": "advisory-messaging",
   "metadata": {
    "papermill": {
     "duration": 0.009181,
     "end_time": "2021-06-03T16:37:26.717637",
     "exception": false,
     "start_time": "2021-06-03T16:37:26.708456",
     "status": "completed"
    },
    "tags": []
   },
   "source": [
    "To get the most out of this course, you'll need some experience with machine learning. If you don't have experience with scikit-learn, check out [Intro to Machine Learning](https://www.kaggle.com/learn/intro-to-machine-learning) and [Intermediate Machine Learning](https://www.kaggle.com/learn/intermediate-machine-learning) to learn the fundamentals."
   ]
  },
  {
   "cell_type": "markdown",
   "id": "eligible-corner",
   "metadata": {
    "papermill": {
     "duration": 0.008808,
     "end_time": "2021-06-03T16:37:26.735742",
     "exception": false,
     "start_time": "2021-06-03T16:37:26.726934",
     "status": "completed"
    },
    "tags": []
   },
   "source": [
    "## NLP with spaCy\n",
    "\n",
    "spaCy is the leading library for NLP, and it has quickly become one of the most popular Python frameworks. Most people find it intuitive, and it has excellent [documentation](https://spacy.io/usage).\n",
    "\n",
    "spaCy relies on **models** that are language-specific and come in different sizes. You can load a spaCy model with `spacy.load`. \n",
    "\n",
    "For example, here's how you would load the English language model."
   ]
  },
  {
   "cell_type": "code",
   "execution_count": 1,
   "id": "metallic-intranet",
   "metadata": {
    "execution": {
     "iopub.execute_input": "2021-06-03T16:37:26.758533Z",
     "iopub.status.busy": "2021-06-03T16:37:26.757497Z",
     "iopub.status.idle": "2021-06-03T16:37:28.268410Z",
     "shell.execute_reply": "2021-06-03T16:37:28.268925Z"
    },
    "papermill": {
     "duration": 1.524234,
     "end_time": "2021-06-03T16:37:28.269233",
     "exception": false,
     "start_time": "2021-06-03T16:37:26.744999",
     "status": "completed"
    },
    "tags": []
   },
   "outputs": [],
   "source": [
    "import spacy\n",
    "nlp = spacy.load('en_core_web_sm')"
   ]
  },
  {
   "cell_type": "markdown",
   "id": "inside-package",
   "metadata": {
    "papermill": {
     "duration": 0.008817,
     "end_time": "2021-06-03T16:37:28.287636",
     "exception": false,
     "start_time": "2021-06-03T16:37:28.278819",
     "status": "completed"
    },
    "tags": []
   },
   "source": [
    "With the model loaded, you can process text like this:"
   ]
  },
  {
   "cell_type": "code",
   "execution_count": 2,
   "id": "defined-conditions",
   "metadata": {
    "execution": {
     "iopub.execute_input": "2021-06-03T16:37:28.310356Z",
     "iopub.status.busy": "2021-06-03T16:37:28.309760Z",
     "iopub.status.idle": "2021-06-03T16:37:28.344828Z",
     "shell.execute_reply": "2021-06-03T16:37:28.344163Z"
    },
    "papermill": {
     "duration": 0.048123,
     "end_time": "2021-06-03T16:37:28.344974",
     "exception": false,
     "start_time": "2021-06-03T16:37:28.296851",
     "status": "completed"
    },
    "tags": []
   },
   "outputs": [],
   "source": [
    "doc = nlp(\"Tea is healthy and calming, don't you think?\")"
   ]
  },
  {
   "cell_type": "markdown",
   "id": "norwegian-tablet",
   "metadata": {
    "papermill": {
     "duration": 0.009051,
     "end_time": "2021-06-03T16:37:28.363396",
     "exception": false,
     "start_time": "2021-06-03T16:37:28.354345",
     "status": "completed"
    },
    "tags": []
   },
   "source": [
    "There's a lot you can do with the `doc` object you just created.\n",
    "\n",
    "# Tokenizing\n",
    "\n",
    "This returns a document object that contains **tokens**. A token is a unit of text in the document, such as individual words and punctuation. SpaCy splits contractions like \"don't\" into two tokens, \"do\" and \"n't\". You can see the tokens by iterating through the document."
   ]
  },
  {
   "cell_type": "code",
   "execution_count": 3,
   "id": "caring-toolbox",
   "metadata": {
    "execution": {
     "iopub.execute_input": "2021-06-03T16:37:28.387245Z",
     "iopub.status.busy": "2021-06-03T16:37:28.386268Z",
     "iopub.status.idle": "2021-06-03T16:37:28.390862Z",
     "shell.execute_reply": "2021-06-03T16:37:28.390351Z"
    },
    "papermill": {
     "duration": 0.018261,
     "end_time": "2021-06-03T16:37:28.391016",
     "exception": false,
     "start_time": "2021-06-03T16:37:28.372755",
     "status": "completed"
    },
    "tags": []
   },
   "outputs": [
    {
     "name": "stdout",
     "output_type": "stream",
     "text": [
      "Tea\n",
      "is\n",
      "healthy\n",
      "and\n",
      "calming\n",
      ",\n",
      "do\n",
      "n't\n",
      "you\n",
      "think\n",
      "?\n"
     ]
    }
   ],
   "source": [
    "for token in doc:\n",
    "    print(token)"
   ]
  },
  {
   "cell_type": "markdown",
   "id": "forty-judge",
   "metadata": {
    "papermill": {
     "duration": 0.010822,
     "end_time": "2021-06-03T16:37:28.414127",
     "exception": false,
     "start_time": "2021-06-03T16:37:28.403305",
     "status": "completed"
    },
    "tags": []
   },
   "source": [
    "Iterating through a document gives you token objects. Each of these tokens comes with additional information. In most cases, the important ones are `token.lemma_` and `token.is_stop`.\n",
    "\n",
    "# Text preprocessing\n",
    "\n",
    "There are a few types of preprocessing to improve how we model with words. The first is \"lemmatizing.\"\n",
    "The \"lemma\" of a word is its base form.  For example, \"walk\" is the lemma of the word \"walking\". So, when you lemmatize the word walking, you would convert it to walk.\n",
    "\n",
    "It's also common to remove stopwords. Stopwords are words that occur frequently in the language and don't contain much information. English  stopwords include \"the\", \"is\", \"and\", \"but\", \"not\". \n",
    "\n",
    "With a spaCy token, `token.lemma_` returns the lemma, while `token.is_stop` returns a boolean `True` if the token is a stopword (and `False` otherwise)."
   ]
  },
  {
   "cell_type": "code",
   "execution_count": 4,
   "id": "racial-cradle",
   "metadata": {
    "execution": {
     "iopub.execute_input": "2021-06-03T16:37:28.438756Z",
     "iopub.status.busy": "2021-06-03T16:37:28.438066Z",
     "iopub.status.idle": "2021-06-03T16:37:28.443241Z",
     "shell.execute_reply": "2021-06-03T16:37:28.442731Z"
    },
    "papermill": {
     "duration": 0.019447,
     "end_time": "2021-06-03T16:37:28.443390",
     "exception": false,
     "start_time": "2021-06-03T16:37:28.423943",
     "status": "completed"
    },
    "tags": []
   },
   "outputs": [
    {
     "name": "stdout",
     "output_type": "stream",
     "text": [
      "Token \t\tLemma \t\tStopword\n",
      "----------------------------------------\n",
      "Tea\t\ttea\t\tFalse\n",
      "is\t\tbe\t\tTrue\n",
      "healthy\t\thealthy\t\tFalse\n",
      "and\t\tand\t\tTrue\n",
      "calming\t\tcalm\t\tFalse\n",
      ",\t\t,\t\tFalse\n",
      "do\t\tdo\t\tTrue\n",
      "n't\t\tnot\t\tTrue\n",
      "you\t\t-PRON-\t\tTrue\n",
      "think\t\tthink\t\tFalse\n",
      "?\t\t?\t\tFalse\n"
     ]
    }
   ],
   "source": [
    "print(f\"Token \\t\\tLemma \\t\\tStopword\".format('Token', 'Lemma', 'Stopword'))\n",
    "print(\"-\"*40)\n",
    "for token in doc:\n",
    "    print(f\"{str(token)}\\t\\t{token.lemma_}\\t\\t{token.is_stop}\")"
   ]
  },
  {
   "cell_type": "markdown",
   "id": "checked-caution",
   "metadata": {
    "papermill": {
     "duration": 0.009882,
     "end_time": "2021-06-03T16:37:28.463617",
     "exception": false,
     "start_time": "2021-06-03T16:37:28.453735",
     "status": "completed"
    },
    "tags": []
   },
   "source": [
    "Why are lemmas and identifying stopwords important? Language data has a lot of noise mixed in with informative content. In the sentence above, the important words are tea, healthy and calming. Removing stop words might help the predictive model focus on relevant words. Lemmatizing similarly helps by combining multiple forms of the same word into one base form (\"calming\", \"calms\", \"calmed\" would all change to \"calm\").\n",
    "\n",
    "However, lemmatizing and dropping stopwords might result in your models performing worse. So you should treat this preprocessing as part of your hyperparameter optimization process."
   ]
  },
  {
   "cell_type": "markdown",
   "id": "grateful-watershed",
   "metadata": {
    "papermill": {
     "duration": 0.01,
     "end_time": "2021-06-03T16:37:28.483598",
     "exception": false,
     "start_time": "2021-06-03T16:37:28.473598",
     "status": "completed"
    },
    "tags": []
   },
   "source": [
    "# Pattern Matching\n",
    "\n",
    "Another common NLP task is matching tokens or phrases within chunks of text or whole documents. You can do pattern matching with regular expressions, but spaCy's matching capabilities tend to be easier to use.\n",
    "\n",
    "To match individual tokens, you create a `Matcher`. When you want to match a list of terms, it's easier and more efficient to use `PhraseMatcher`. For example, if you want to find where different smartphone models show up in some text, you can create patterns for the model names of interest. First you create the `PhraseMatcher` itself."
   ]
  },
  {
   "cell_type": "code",
   "execution_count": 5,
   "id": "important-underwear",
   "metadata": {
    "execution": {
     "iopub.execute_input": "2021-06-03T16:37:28.507956Z",
     "iopub.status.busy": "2021-06-03T16:37:28.507346Z",
     "iopub.status.idle": "2021-06-03T16:37:28.510332Z",
     "shell.execute_reply": "2021-06-03T16:37:28.509886Z"
    },
    "papermill": {
     "duration": 0.016889,
     "end_time": "2021-06-03T16:37:28.510457",
     "exception": false,
     "start_time": "2021-06-03T16:37:28.493568",
     "status": "completed"
    },
    "tags": []
   },
   "outputs": [],
   "source": [
    "from spacy.matcher import PhraseMatcher\n",
    "matcher = PhraseMatcher(nlp.vocab, attr='LOWER')"
   ]
  },
  {
   "cell_type": "markdown",
   "id": "introductory-calculation",
   "metadata": {
    "papermill": {
     "duration": 0.009665,
     "end_time": "2021-06-03T16:37:28.530296",
     "exception": false,
     "start_time": "2021-06-03T16:37:28.520631",
     "status": "completed"
    },
    "tags": []
   },
   "source": [
    "The matcher is created using the vocabulary of your model. Here we're using the small English model you loaded earlier. Setting `attr='LOWER'` will match the phrases on lowercased text. This provides case insensitive matching.\n",
    "\n",
    "Next you create a list of terms to match in the text. The phrase matcher needs the patterns as document objects. The easiest way to get these is with a list comprehension using the `nlp` model."
   ]
  },
  {
   "cell_type": "code",
   "execution_count": 6,
   "id": "focused-secretary",
   "metadata": {
    "execution": {
     "iopub.execute_input": "2021-06-03T16:37:28.556285Z",
     "iopub.status.busy": "2021-06-03T16:37:28.555741Z",
     "iopub.status.idle": "2021-06-03T16:37:28.586189Z",
     "shell.execute_reply": "2021-06-03T16:37:28.585561Z"
    },
    "papermill": {
     "duration": 0.046036,
     "end_time": "2021-06-03T16:37:28.586337",
     "exception": false,
     "start_time": "2021-06-03T16:37:28.540301",
     "status": "completed"
    },
    "tags": []
   },
   "outputs": [],
   "source": [
    "terms = ['Galaxy Note', 'iPhone 11', 'iPhone XS', 'Google Pixel']\n",
    "patterns = [nlp(text) for text in terms]\n",
    "matcher.add(\"TerminologyList\", patterns)"
   ]
  },
  {
   "cell_type": "markdown",
   "id": "embedded-providence",
   "metadata": {
    "papermill": {
     "duration": 0.010144,
     "end_time": "2021-06-03T16:37:28.606881",
     "exception": false,
     "start_time": "2021-06-03T16:37:28.596737",
     "status": "completed"
    },
    "tags": []
   },
   "source": [
    "Then you create a document from the text to search and use the phrase matcher to find where the terms occur in the text."
   ]
  },
  {
   "cell_type": "code",
   "execution_count": 7,
   "id": "federal-riverside",
   "metadata": {
    "execution": {
     "iopub.execute_input": "2021-06-03T16:37:28.633729Z",
     "iopub.status.busy": "2021-06-03T16:37:28.633091Z",
     "iopub.status.idle": "2021-06-03T16:37:28.649905Z",
     "shell.execute_reply": "2021-06-03T16:37:28.649291Z"
    },
    "papermill": {
     "duration": 0.032876,
     "end_time": "2021-06-03T16:37:28.650046",
     "exception": false,
     "start_time": "2021-06-03T16:37:28.617170",
     "status": "completed"
    },
    "tags": []
   },
   "outputs": [
    {
     "name": "stdout",
     "output_type": "stream",
     "text": [
      "[(3766102292120407359, 17, 19), (3766102292120407359, 22, 24), (3766102292120407359, 30, 32), (3766102292120407359, 33, 35)]\n"
     ]
    }
   ],
   "source": [
    "# Borrowed from https://daringfireball.net/linked/2019/09/21/patel-11-pro\n",
    "text_doc = nlp(\"Glowing review overall, and some really interesting side-by-side \"\n",
    "               \"photography tests pitting the iPhone 11 Pro against the \"\n",
    "               \"Galaxy Note 10 Plus and last year’s iPhone XS and Google Pixel 3.\") \n",
    "matches = matcher(text_doc)\n",
    "print(matches)"
   ]
  },
  {
   "cell_type": "markdown",
   "id": "limiting-kruger",
   "metadata": {
    "papermill": {
     "duration": 0.010832,
     "end_time": "2021-06-03T16:37:28.671775",
     "exception": false,
     "start_time": "2021-06-03T16:37:28.660943",
     "status": "completed"
    },
    "tags": []
   },
   "source": [
    "The matches here are a tuple of the match id and the positions of the start and end of the phrase."
   ]
  },
  {
   "cell_type": "code",
   "execution_count": 8,
   "id": "boxed-slave",
   "metadata": {
    "execution": {
     "iopub.execute_input": "2021-06-03T16:37:28.701394Z",
     "iopub.status.busy": "2021-06-03T16:37:28.700496Z",
     "iopub.status.idle": "2021-06-03T16:37:28.704283Z",
     "shell.execute_reply": "2021-06-03T16:37:28.703826Z"
    },
    "papermill": {
     "duration": 0.021458,
     "end_time": "2021-06-03T16:37:28.704411",
     "exception": false,
     "start_time": "2021-06-03T16:37:28.682953",
     "status": "completed"
    },
    "tags": []
   },
   "outputs": [
    {
     "name": "stdout",
     "output_type": "stream",
     "text": [
      "TerminologyList iPhone 11\n"
     ]
    }
   ],
   "source": [
    "match_id, start, end = matches[0]\n",
    "print(nlp.vocab.strings[match_id], text_doc[start:end])"
   ]
  },
  {
   "cell_type": "markdown",
   "id": "champion-guard",
   "metadata": {
    "papermill": {
     "duration": 0.01093,
     "end_time": "2021-06-03T16:37:28.726877",
     "exception": false,
     "start_time": "2021-06-03T16:37:28.715947",
     "status": "completed"
    },
    "tags": []
   },
   "source": [
    "# Your Turn\n",
    "Now that you've seen a few uses of SpaCy for NLP, it's your turn to try it to **[analyze Yelp reviews](https://www.kaggle.com/kernels/fork/6061023)**."
   ]
  },
  {
   "cell_type": "markdown",
   "id": "honest-investor",
   "metadata": {
    "papermill": {
     "duration": 0.010902,
     "end_time": "2021-06-03T16:37:28.748854",
     "exception": false,
     "start_time": "2021-06-03T16:37:28.737952",
     "status": "completed"
    },
    "tags": []
   },
   "source": [
    "---\n",
    "\n",
    "\n",
    "\n",
    "\n",
    "*Have questions or comments? Visit the [Learn Discussion forum](https://www.kaggle.com/learn-forum/161466) to chat with other Learners.*"
   ]
  }
 ],
 "metadata": {
  "kernelspec": {
   "display_name": "Python 3",
   "language": "python",
   "name": "python3"
  },
  "language_info": {
   "codemirror_mode": {
    "name": "ipython",
    "version": 3
   },
   "file_extension": ".py",
   "mimetype": "text/x-python",
   "name": "python",
   "nbconvert_exporter": "python",
   "pygments_lexer": "ipython3",
   "version": "3.7.9"
  },
  "papermill": {
   "default_parameters": {},
   "duration": 8.913217,
   "end_time": "2021-06-03T16:37:29.369433",
   "environment_variables": {},
   "exception": null,
   "input_path": "__notebook__.ipynb",
   "output_path": "__notebook__.ipynb",
   "parameters": {},
   "start_time": "2021-06-03T16:37:20.456216",
   "version": "2.3.2"
  }
 },
 "nbformat": 4,
 "nbformat_minor": 5
}
