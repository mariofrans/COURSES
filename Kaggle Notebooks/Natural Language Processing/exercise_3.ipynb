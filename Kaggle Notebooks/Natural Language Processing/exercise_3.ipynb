{
 "cells": [
  {
   "cell_type": "markdown",
   "id": "dfc14b47",
   "metadata": {
    "papermill": {
     "duration": 0.016639,
     "end_time": "2021-08-21T05:17:51.374613",
     "exception": false,
     "start_time": "2021-08-21T05:17:51.357974",
     "status": "completed"
    },
    "tags": []
   },
   "source": [
    "**This notebook is an exercise in the [Natural Language Processing](https://www.kaggle.com/learn/natural-language-processing) course.  You can reference the tutorial at [this link](https://www.kaggle.com/matleonard/word-vectors).**\n",
    "\n",
    "---\n"
   ]
  },
  {
   "cell_type": "markdown",
   "id": "e57bb2e7",
   "metadata": {
    "papermill": {
     "duration": 0.015405,
     "end_time": "2021-08-21T05:17:51.406010",
     "exception": false,
     "start_time": "2021-08-21T05:17:51.390605",
     "status": "completed"
    },
    "tags": []
   },
   "source": [
    "# Vectorizing Language\n",
    "\n",
    "Embeddings are both conceptually clever and practically effective. \n",
    "\n",
    "So let's try them for the sentiment analysis model you built for the restaurant. Then you can find the most similar review in the data set given some example text. It's a task where you can easily judge for yourself how well the embeddings work."
   ]
  },
  {
   "cell_type": "code",
   "execution_count": 1,
   "id": "9da5470d",
   "metadata": {
    "execution": {
     "iopub.execute_input": "2021-08-21T05:17:51.451516Z",
     "iopub.status.busy": "2021-08-21T05:17:51.450819Z",
     "iopub.status.idle": "2021-08-21T05:18:05.344291Z",
     "shell.execute_reply": "2021-08-21T05:18:05.345231Z",
     "shell.execute_reply.started": "2021-08-21T05:16:39.431270Z"
    },
    "papermill": {
     "duration": 13.924023,
     "end_time": "2021-08-21T05:18:05.345644",
     "exception": false,
     "start_time": "2021-08-21T05:17:51.421621",
     "status": "completed"
    },
    "tags": []
   },
   "outputs": [
    {
     "name": "stdout",
     "output_type": "stream",
     "text": [
      "\n",
      "Setup complete\n"
     ]
    }
   ],
   "source": [
    "%matplotlib inline\n",
    "\n",
    "import matplotlib.pyplot as plt\n",
    "import numpy as np\n",
    "import pandas as pd\n",
    "import spacy\n",
    "\n",
    "# Set up code checking\n",
    "from learntools.core import binder\n",
    "binder.bind(globals())\n",
    "from learntools.nlp.ex3 import *\n",
    "print(\"\\nSetup complete\")"
   ]
  },
  {
   "cell_type": "code",
   "execution_count": 2,
   "id": "588860de",
   "metadata": {
    "execution": {
     "iopub.execute_input": "2021-08-21T05:18:05.384861Z",
     "iopub.status.busy": "2021-08-21T05:18:05.383854Z",
     "iopub.status.idle": "2021-08-21T05:18:11.839229Z",
     "shell.execute_reply": "2021-08-21T05:18:11.838466Z",
     "shell.execute_reply.started": "2021-08-21T05:16:47.073654Z"
    },
    "papermill": {
     "duration": 6.475008,
     "end_time": "2021-08-21T05:18:11.839374",
     "exception": false,
     "start_time": "2021-08-21T05:18:05.364366",
     "status": "completed"
    },
    "tags": []
   },
   "outputs": [
    {
     "data": {
      "text/html": [
       "<div>\n",
       "<style scoped>\n",
       "    .dataframe tbody tr th:only-of-type {\n",
       "        vertical-align: middle;\n",
       "    }\n",
       "\n",
       "    .dataframe tbody tr th {\n",
       "        vertical-align: top;\n",
       "    }\n",
       "\n",
       "    .dataframe thead th {\n",
       "        text-align: right;\n",
       "    }\n",
       "</style>\n",
       "<table border=\"1\" class=\"dataframe\">\n",
       "  <thead>\n",
       "    <tr style=\"text-align: right;\">\n",
       "      <th></th>\n",
       "      <th>text</th>\n",
       "      <th>stars</th>\n",
       "      <th>sentiment</th>\n",
       "    </tr>\n",
       "  </thead>\n",
       "  <tbody>\n",
       "    <tr>\n",
       "      <th>0</th>\n",
       "      <td>Total bill for this horrible service? Over $8G...</td>\n",
       "      <td>1.0</td>\n",
       "      <td>0</td>\n",
       "    </tr>\n",
       "    <tr>\n",
       "      <th>1</th>\n",
       "      <td>I *adore* Travis at the Hard Rock's new Kelly ...</td>\n",
       "      <td>5.0</td>\n",
       "      <td>1</td>\n",
       "    </tr>\n",
       "    <tr>\n",
       "      <th>2</th>\n",
       "      <td>I have to say that this office really has it t...</td>\n",
       "      <td>5.0</td>\n",
       "      <td>1</td>\n",
       "    </tr>\n",
       "    <tr>\n",
       "      <th>3</th>\n",
       "      <td>Went in for a lunch. Steak sandwich was delici...</td>\n",
       "      <td>5.0</td>\n",
       "      <td>1</td>\n",
       "    </tr>\n",
       "    <tr>\n",
       "      <th>4</th>\n",
       "      <td>Today was my second out of three sessions I ha...</td>\n",
       "      <td>1.0</td>\n",
       "      <td>0</td>\n",
       "    </tr>\n",
       "  </tbody>\n",
       "</table>\n",
       "</div>"
      ],
      "text/plain": [
       "                                                text  stars  sentiment\n",
       "0  Total bill for this horrible service? Over $8G...    1.0          0\n",
       "1  I *adore* Travis at the Hard Rock's new Kelly ...    5.0          1\n",
       "2  I have to say that this office really has it t...    5.0          1\n",
       "3  Went in for a lunch. Steak sandwich was delici...    5.0          1\n",
       "4  Today was my second out of three sessions I ha...    1.0          0"
      ]
     },
     "execution_count": 2,
     "metadata": {},
     "output_type": "execute_result"
    }
   ],
   "source": [
    "# Load the large model to get the vectors\n",
    "nlp = spacy.load('en_core_web_lg')\n",
    "\n",
    "review_data = pd.read_csv('../input/nlp-course/yelp_ratings.csv')\n",
    "review_data.head()"
   ]
  },
  {
   "cell_type": "markdown",
   "id": "2b3b6cae",
   "metadata": {
    "papermill": {
     "duration": 0.016075,
     "end_time": "2021-08-21T05:18:11.872002",
     "exception": false,
     "start_time": "2021-08-21T05:18:11.855927",
     "status": "completed"
    },
    "tags": []
   },
   "source": [
    "Here's an example of loading some document vectors. \n",
    "\n",
    "Calculating 44,500 document vectors takes about 20 minutes, so we'll get only the first 100. To save time, we'll load pre-saved document vectors for the hands-on coding exercises."
   ]
  },
  {
   "cell_type": "code",
   "execution_count": 3,
   "id": "29345391",
   "metadata": {
    "execution": {
     "iopub.execute_input": "2021-08-21T05:18:11.916042Z",
     "iopub.status.busy": "2021-08-21T05:18:11.915386Z",
     "iopub.status.idle": "2021-08-21T05:18:15.124076Z",
     "shell.execute_reply": "2021-08-21T05:18:15.123547Z",
     "shell.execute_reply.started": "2021-08-21T05:16:53.627304Z"
    },
    "papermill": {
     "duration": 3.235774,
     "end_time": "2021-08-21T05:18:15.124270",
     "exception": false,
     "start_time": "2021-08-21T05:18:11.888496",
     "status": "completed"
    },
    "tags": []
   },
   "outputs": [
    {
     "data": {
      "text/plain": [
       "(100, 300)"
      ]
     },
     "execution_count": 3,
     "metadata": {},
     "output_type": "execute_result"
    }
   ],
   "source": [
    "reviews = review_data[:100]\n",
    "# We just want the vectors so we can turn off other models in the pipeline\n",
    "with nlp.disable_pipes():\n",
    "    vectors = np.array([nlp(review.text).vector for idx, review in reviews.iterrows()])\n",
    "    \n",
    "vectors.shape"
   ]
  },
  {
   "cell_type": "markdown",
   "id": "ae69afe0",
   "metadata": {
    "papermill": {
     "duration": 0.016964,
     "end_time": "2021-08-21T05:18:15.158379",
     "exception": false,
     "start_time": "2021-08-21T05:18:15.141415",
     "status": "completed"
    },
    "tags": []
   },
   "source": [
    "The result is a matrix of 100 rows and 300 columns. \n",
    "\n",
    "Why 100 rows?\n",
    "Because we have 1 row for each column.\n",
    "\n",
    "Why 300 columns?\n",
    "This is the same length as word vectors. See if you can figure out why document vectors have the same length as word vectors (some knowledge of linear algebra or vector math would be needed to figure this out)."
   ]
  },
  {
   "cell_type": "markdown",
   "id": "f23b0970",
   "metadata": {
    "papermill": {
     "duration": 0.016758,
     "end_time": "2021-08-21T05:18:15.192061",
     "exception": false,
     "start_time": "2021-08-21T05:18:15.175303",
     "status": "completed"
    },
    "tags": []
   },
   "source": [
    "Go ahead and run the following cell to load in the rest of the document vectors."
   ]
  },
  {
   "cell_type": "code",
   "execution_count": 4,
   "id": "016e8a66",
   "metadata": {
    "execution": {
     "iopub.execute_input": "2021-08-21T05:18:15.229599Z",
     "iopub.status.busy": "2021-08-21T05:18:15.228972Z",
     "iopub.status.idle": "2021-08-21T05:18:15.259798Z",
     "shell.execute_reply": "2021-08-21T05:18:15.259026Z",
     "shell.execute_reply.started": "2021-08-21T05:16:56.998605Z"
    },
    "papermill": {
     "duration": 0.051144,
     "end_time": "2021-08-21T05:18:15.259983",
     "exception": false,
     "start_time": "2021-08-21T05:18:15.208839",
     "status": "completed"
    },
    "tags": []
   },
   "outputs": [],
   "source": [
    "# Loading all document vectors from file\n",
    "vectors = np.load('../input/nlp-course/review_vectors.npy')"
   ]
  },
  {
   "cell_type": "markdown",
   "id": "52d2de42",
   "metadata": {
    "papermill": {
     "duration": 0.016488,
     "end_time": "2021-08-21T05:18:15.293606",
     "exception": false,
     "start_time": "2021-08-21T05:18:15.277118",
     "status": "completed"
    },
    "tags": []
   },
   "source": [
    "# 1) Training a Model on Document Vectors\n",
    "\n",
    "Next you'll train a `LinearSVC` model using the document vectors. It runs pretty quick and works well in high dimensional settings like you have here.\n",
    "\n",
    "After running the LinearSVC model, you might try experimenting with other types of models to see whether it improves your results."
   ]
  },
  {
   "cell_type": "code",
   "execution_count": 5,
   "id": "a623910b",
   "metadata": {
    "execution": {
     "iopub.execute_input": "2021-08-21T05:18:15.336425Z",
     "iopub.status.busy": "2021-08-21T05:18:15.335726Z",
     "iopub.status.idle": "2021-08-21T05:18:19.133646Z",
     "shell.execute_reply": "2021-08-21T05:18:19.133025Z",
     "shell.execute_reply.started": "2021-08-21T05:16:57.028505Z"
    },
    "papermill": {
     "duration": 3.823443,
     "end_time": "2021-08-21T05:18:19.133782",
     "exception": false,
     "start_time": "2021-08-21T05:18:15.310339",
     "status": "completed"
    },
    "tags": []
   },
   "outputs": [
    {
     "name": "stdout",
     "output_type": "stream",
     "text": [
      "Model test accuracy: 93.847%\n"
     ]
    },
    {
     "data": {
      "application/javascript": [
       "parent.postMessage({\"jupyterEvent\": \"custom.exercise_interaction\", \"data\": {\"outcomeType\": 1, \"valueTowardsCompletion\": 0.25, \"interactionType\": 1, \"questionType\": 2, \"questionId\": \"1_TrainAModel\", \"learnToolsVersion\": \"0.3.4\", \"failureMessage\": \"\", \"exceptionClass\": \"\", \"trace\": \"\"}}, \"*\")"
      ],
      "text/plain": [
       "<IPython.core.display.Javascript object>"
      ]
     },
     "metadata": {},
     "output_type": "display_data"
    },
    {
     "data": {
      "text/markdown": [
       "<span style=\"color:#33cc33\">Correct</span>"
      ],
      "text/plain": [
       "Correct"
      ]
     },
     "metadata": {},
     "output_type": "display_data"
    }
   ],
   "source": [
    "from sklearn.svm import LinearSVC\n",
    "from sklearn.model_selection import train_test_split\n",
    "\n",
    "X_train, X_test, y_train, y_test = train_test_split(vectors, review_data.sentiment, \n",
    "                                                    test_size=0.1, random_state=1)\n",
    "\n",
    "# Create the LinearSVC model\n",
    "model = LinearSVC(random_state=1, dual=False)\n",
    "# Fit the model\n",
    "model.fit(X_train, y_train)\n",
    "\n",
    "# Uncomment and run to see model accuracy\n",
    "print(f'Model test accuracy: {model.score(X_test, y_test)*100:.3f}%')\n",
    "\n",
    "# Uncomment to check your work\n",
    "q_1.check()"
   ]
  },
  {
   "cell_type": "code",
   "execution_count": 6,
   "id": "200cb130",
   "metadata": {
    "execution": {
     "iopub.execute_input": "2021-08-21T05:18:19.174379Z",
     "iopub.status.busy": "2021-08-21T05:18:19.173674Z",
     "iopub.status.idle": "2021-08-21T05:18:19.176863Z",
     "shell.execute_reply": "2021-08-21T05:18:19.176353Z",
     "shell.execute_reply.started": "2021-08-21T05:17:00.582627Z"
    },
    "papermill": {
     "duration": 0.024842,
     "end_time": "2021-08-21T05:18:19.177020",
     "exception": false,
     "start_time": "2021-08-21T05:18:19.152178",
     "status": "completed"
    },
    "tags": []
   },
   "outputs": [],
   "source": [
    "# Lines below will give you a hint or solution code\n",
    "#q_1.hint()\n",
    "#q_1.solution()"
   ]
  },
  {
   "cell_type": "code",
   "execution_count": 7,
   "id": "9f22cae1",
   "metadata": {
    "execution": {
     "iopub.execute_input": "2021-08-21T05:18:19.219385Z",
     "iopub.status.busy": "2021-08-21T05:18:19.218639Z",
     "iopub.status.idle": "2021-08-21T05:18:28.995312Z",
     "shell.execute_reply": "2021-08-21T05:18:28.996189Z",
     "shell.execute_reply.started": "2021-08-21T05:17:00.591112Z"
    },
    "papermill": {
     "duration": 9.800952,
     "end_time": "2021-08-21T05:18:28.996458",
     "exception": false,
     "start_time": "2021-08-21T05:18:19.195506",
     "status": "completed"
    },
    "tags": []
   },
   "outputs": [
    {
     "name": "stdout",
     "output_type": "stream",
     "text": [
      "Model test accuracy: 93.847%\n"
     ]
    }
   ],
   "source": [
    "# Scratch space in case you want to experiment with other models\n",
    "\n",
    "second_model = LinearSVC(random_state=1, dual=True)\n",
    "second_model.fit(X_train, y_train)\n",
    "print(f'Model test accuracy: {second_model.score(X_test, y_test)*100:.3f}%')"
   ]
  },
  {
   "cell_type": "markdown",
   "id": "a839e668",
   "metadata": {
    "papermill": {
     "duration": 0.032467,
     "end_time": "2021-08-21T05:18:29.062472",
     "exception": false,
     "start_time": "2021-08-21T05:18:29.030005",
     "status": "completed"
    },
    "tags": []
   },
   "source": [
    "# Document Similarity\n",
    "\n",
    "For the same tea house review, find the most similar review in the dataset using cosine similarity.\n",
    "\n",
    "# 2) Centering the Vectors\n",
    "\n",
    "Sometimes people center document vectors when calculating similarities. That is, they calculate the mean vector from all documents, and they subtract this from each individual document's vector. Why do you think this could help with similarity metrics?\n",
    "\n",
    "Run the following line after you've decided your answer."
   ]
  },
  {
   "cell_type": "code",
   "execution_count": 8,
   "id": "d28fa467",
   "metadata": {
    "execution": {
     "iopub.execute_input": "2021-08-21T05:18:29.122508Z",
     "iopub.status.busy": "2021-08-21T05:18:29.121784Z",
     "iopub.status.idle": "2021-08-21T05:18:29.125808Z",
     "shell.execute_reply": "2021-08-21T05:18:29.126317Z",
     "shell.execute_reply.started": "2021-08-21T05:17:10.673504Z"
    },
    "papermill": {
     "duration": 0.03073,
     "end_time": "2021-08-21T05:18:29.126478",
     "exception": false,
     "start_time": "2021-08-21T05:18:29.095748",
     "status": "completed"
    },
    "tags": []
   },
   "outputs": [
    {
     "data": {
      "application/javascript": [
       "parent.postMessage({\"jupyterEvent\": \"custom.exercise_interaction\", \"data\": {\"interactionType\": 3, \"questionType\": 4, \"questionId\": \"2_CenteringVectors\", \"learnToolsVersion\": \"0.3.4\", \"valueTowardsCompletion\": 0.0, \"failureMessage\": \"\", \"exceptionClass\": \"\", \"trace\": \"\", \"outcomeType\": 4}}, \"*\")"
      ],
      "text/plain": [
       "<IPython.core.display.Javascript object>"
      ]
     },
     "metadata": {},
     "output_type": "display_data"
    },
    {
     "data": {
      "text/markdown": [
       "<span style=\"color:#33cc99\">Solution:</span> \n",
       "    Sometimes your documents will already be fairly similar. For example, this data set\n",
       "    is all reviews of businesses. There will be stong similarities between the documents\n",
       "    compared to news articles, technical manuals, and recipes. You end up with all the\n",
       "    similarities between 0.8 and 1 and no anti-similar documents (similarity < 0). When the\n",
       "    vectors are centered, you are comparing documents within your dataset as opposed to all\n",
       "    possible documents.\n",
       "    "
      ],
      "text/plain": [
       "Solution: \n",
       "    Sometimes your documents will already be fairly similar. For example, this data set\n",
       "    is all reviews of businesses. There will be stong similarities between the documents\n",
       "    compared to news articles, technical manuals, and recipes. You end up with all the\n",
       "    similarities between 0.8 and 1 and no anti-similar documents (similarity < 0). When the\n",
       "    vectors are centered, you are comparing documents within your dataset as opposed to all\n",
       "    possible documents.\n",
       "    "
      ]
     },
     "metadata": {},
     "output_type": "display_data"
    }
   ],
   "source": [
    "# Check your answer (Run this code cell to receive credit!)\n",
    "q_2.solution()"
   ]
  },
  {
   "cell_type": "markdown",
   "id": "21e2a8b9",
   "metadata": {
    "papermill": {
     "duration": 0.019963,
     "end_time": "2021-08-21T05:18:29.166167",
     "exception": false,
     "start_time": "2021-08-21T05:18:29.146204",
     "status": "completed"
    },
    "tags": []
   },
   "source": [
    "# 3) Find the most similar review\n",
    "\n",
    "Given an example review below, find the most similar document within the Yelp dataset using the cosine similarity."
   ]
  },
  {
   "cell_type": "code",
   "execution_count": 9,
   "id": "98a314d7",
   "metadata": {
    "execution": {
     "iopub.execute_input": "2021-08-21T05:18:29.214674Z",
     "iopub.status.busy": "2021-08-21T05:18:29.213998Z",
     "iopub.status.idle": "2021-08-21T05:18:29.715634Z",
     "shell.execute_reply": "2021-08-21T05:18:29.716150Z",
     "shell.execute_reply.started": "2021-08-21T05:17:18.056366Z"
    },
    "papermill": {
     "duration": 0.530309,
     "end_time": "2021-08-21T05:18:29.716315",
     "exception": false,
     "start_time": "2021-08-21T05:18:29.186006",
     "status": "completed"
    },
    "tags": []
   },
   "outputs": [
    {
     "data": {
      "application/javascript": [
       "parent.postMessage({\"jupyterEvent\": \"custom.exercise_interaction\", \"data\": {\"outcomeType\": 1, \"valueTowardsCompletion\": 0.25, \"interactionType\": 1, \"questionType\": 1, \"questionId\": \"3_SimilarReview\", \"learnToolsVersion\": \"0.3.4\", \"failureMessage\": \"\", \"exceptionClass\": \"\", \"trace\": \"\"}}, \"*\")"
      ],
      "text/plain": [
       "<IPython.core.display.Javascript object>"
      ]
     },
     "metadata": {},
     "output_type": "display_data"
    },
    {
     "data": {
      "text/markdown": [
       "<span style=\"color:#33cc33\">Correct</span>"
      ],
      "text/plain": [
       "Correct"
      ]
     },
     "metadata": {},
     "output_type": "display_data"
    }
   ],
   "source": [
    "review = \"\"\"I absolutely love this place. The 360 degree glass windows with the \n",
    "Yerba buena garden view, tea pots all around and the smell of fresh tea everywhere \n",
    "transports you to what feels like a different zen zone within the city. I know \n",
    "the price is slightly more compared to the normal American size, however the food \n",
    "is very wholesome, the tea selection is incredible and I know service can be hit \n",
    "or miss often but it was on point during our most recent visit. Definitely recommend!\n",
    "\n",
    "I would especially recommend the butternut squash gyoza.\"\"\"\n",
    "\n",
    "def cosine_similarity(a, b):\n",
    "    return np.dot(a, b)/np.sqrt(a.dot(a)*b.dot(b))\n",
    "\n",
    "review_vec = nlp(review).vector\n",
    "\n",
    "## Center the document vectors\n",
    "# Calculate the mean for the document vectors\n",
    "vec_mean = vectors.mean(axis=0)\n",
    "# Subtract the mean from the vectors\n",
    "centered = vectors - vec_mean\n",
    "\n",
    "# Calculate similarities for each document in the dataset\n",
    "# Make sure to subtract the mean from the review vector\n",
    "sims = np.array([cosine_similarity(review_vec - vec_mean, vec) for vec in centered])\n",
    "\n",
    "# Get the index for the most similar document\n",
    "most_similar = sims.argmax()\n",
    "\n",
    "# Uncomment to check your work\n",
    "q_3.check()"
   ]
  },
  {
   "cell_type": "code",
   "execution_count": 10,
   "id": "a24127ae",
   "metadata": {
    "execution": {
     "iopub.execute_input": "2021-08-21T05:18:29.761636Z",
     "iopub.status.busy": "2021-08-21T05:18:29.761056Z",
     "iopub.status.idle": "2021-08-21T05:18:29.764050Z",
     "shell.execute_reply": "2021-08-21T05:18:29.764565Z",
     "shell.execute_reply.started": "2021-08-21T05:17:11.396916Z"
    },
    "papermill": {
     "duration": 0.026925,
     "end_time": "2021-08-21T05:18:29.764731",
     "exception": false,
     "start_time": "2021-08-21T05:18:29.737806",
     "status": "completed"
    },
    "tags": []
   },
   "outputs": [],
   "source": [
    "# Lines below will give you a hint or solution code\n",
    "#q_3.hint()\n",
    "#q_3.solution()"
   ]
  },
  {
   "cell_type": "code",
   "execution_count": 11,
   "id": "0ff57af4",
   "metadata": {
    "execution": {
     "iopub.execute_input": "2021-08-21T05:18:29.809464Z",
     "iopub.status.busy": "2021-08-21T05:18:29.808852Z",
     "iopub.status.idle": "2021-08-21T05:18:29.815478Z",
     "shell.execute_reply": "2021-08-21T05:18:29.814694Z",
     "shell.execute_reply.started": "2021-08-21T05:17:11.401811Z"
    },
    "papermill": {
     "duration": 0.030414,
     "end_time": "2021-08-21T05:18:29.815660",
     "exception": false,
     "start_time": "2021-08-21T05:18:29.785246",
     "status": "completed"
    },
    "tags": []
   },
   "outputs": [
    {
     "name": "stdout",
     "output_type": "stream",
     "text": [
      "After purchasing my final christmas gifts at the Urban Tea Merchant in Vancouver, I was surprised to hear about Teopia at the new outdoor mall at Don Mills and Lawrence when I went back home to Toronto for Christmas.\n",
      "Across from the outdoor skating rink and perfect to sit by the ledge to people watch, the location was prime for tea connesieurs... or people who are just freezing cold in need of a drinK!\n",
      "Like any gourmet tea shop, there were large tins of tea leaves on the walls, and although the tea menu seemed interesting enough, you can get any specialty tea as your drink. We didn't know what to get... so the lady suggested the Goji Berries... it smelled so succulent and juicy... instantly SOLD! I got it into a tea latte and watched the tea steep while the milk was steamed, and surprisingly, with the click of a button, all the water from the tea can be instantly drained into the cup (see photo).. very fascinating!\n",
      "\n",
      "The tea was aromatic and tasty, not over powering. The price was also very reasonable and I recommend everyone to get a taste of this place :)\n"
     ]
    }
   ],
   "source": [
    "print(review_data.iloc[most_similar].text)"
   ]
  },
  {
   "cell_type": "markdown",
   "id": "c80d2d92",
   "metadata": {
    "papermill": {
     "duration": 0.020203,
     "end_time": "2021-08-21T05:18:29.857277",
     "exception": false,
     "start_time": "2021-08-21T05:18:29.837074",
     "status": "completed"
    },
    "tags": []
   },
   "source": [
    "Even though there are many different sorts of businesses in our Yelp dataset, you should have found another tea shop. \n",
    "\n",
    "# 4) Looking at similar reviews\n",
    "\n",
    "If you look at other similar reviews, you'll see many coffee shops. Why do you think reviews for coffee are similar to the example review which mentions only tea?"
   ]
  },
  {
   "cell_type": "code",
   "execution_count": 12,
   "id": "5a22288a",
   "metadata": {
    "execution": {
     "iopub.execute_input": "2021-08-21T05:18:29.903503Z",
     "iopub.status.busy": "2021-08-21T05:18:29.902766Z",
     "iopub.status.idle": "2021-08-21T05:18:29.908225Z",
     "shell.execute_reply": "2021-08-21T05:18:29.908671Z",
     "shell.execute_reply.started": "2021-08-21T05:17:11.422775Z"
    },
    "papermill": {
     "duration": 0.031046,
     "end_time": "2021-08-21T05:18:29.908837",
     "exception": false,
     "start_time": "2021-08-21T05:18:29.877791",
     "status": "completed"
    },
    "tags": []
   },
   "outputs": [
    {
     "data": {
      "application/javascript": [
       "parent.postMessage({\"jupyterEvent\": \"custom.exercise_interaction\", \"data\": {\"interactionType\": 3, \"questionType\": 4, \"questionId\": \"4_OtherSimilarReviews\", \"learnToolsVersion\": \"0.3.4\", \"valueTowardsCompletion\": 0.0, \"failureMessage\": \"\", \"exceptionClass\": \"\", \"trace\": \"\", \"outcomeType\": 4}}, \"*\")"
      ],
      "text/plain": [
       "<IPython.core.display.Javascript object>"
      ]
     },
     "metadata": {},
     "output_type": "display_data"
    },
    {
     "data": {
      "text/markdown": [
       "<span style=\"color:#33cc99\">Solution:</span> \n",
       "    Reviews for coffee shops will also be similar to our tea house review because\n",
       "    coffee and tea are semantically similar. Most cafes serve both coffee and tea\n",
       "    so you'll see the terms appearing together often.\n",
       "    "
      ],
      "text/plain": [
       "Solution: \n",
       "    Reviews for coffee shops will also be similar to our tea house review because\n",
       "    coffee and tea are semantically similar. Most cafes serve both coffee and tea\n",
       "    so you'll see the terms appearing together often.\n",
       "    "
      ]
     },
     "metadata": {},
     "output_type": "display_data"
    }
   ],
   "source": [
    "# Check your answer (Run this code cell to receive credit!)\n",
    "q_4.solution()"
   ]
  },
  {
   "cell_type": "markdown",
   "id": "a9864150",
   "metadata": {
    "papermill": {
     "duration": 0.021391,
     "end_time": "2021-08-21T05:18:29.952524",
     "exception": false,
     "start_time": "2021-08-21T05:18:29.931133",
     "status": "completed"
    },
    "tags": []
   },
   "source": [
    "# Congratulations!\n",
    "\n",
    "You've finished the NLP course. It's an exciting field that will help you make use of vast amounts of data you didn't know how to work with before.\n",
    "\n",
    "This course should be just your introduction. Try a project **[with text](https://www.kaggle.com/datasets?tags=14104-text+data)**. You'll have fun with it, and your skills will continue growing."
   ]
  },
  {
   "cell_type": "markdown",
   "id": "5a32cd6a",
   "metadata": {
    "papermill": {
     "duration": 0.02131,
     "end_time": "2021-08-21T05:18:29.995678",
     "exception": false,
     "start_time": "2021-08-21T05:18:29.974368",
     "status": "completed"
    },
    "tags": []
   },
   "source": [
    "---\n",
    "\n",
    "\n",
    "\n",
    "\n",
    "*Have questions or comments? Visit the [Learn Discussion forum](https://www.kaggle.com/learn-forum/161466) to chat with other Learners.*"
   ]
  }
 ],
 "metadata": {
  "kernelspec": {
   "display_name": "Python 3",
   "language": "python",
   "name": "python3"
  },
  "language_info": {
   "codemirror_mode": {
    "name": "ipython",
    "version": 3
   },
   "file_extension": ".py",
   "mimetype": "text/x-python",
   "name": "python",
   "nbconvert_exporter": "python",
   "pygments_lexer": "ipython3",
   "version": "3.7.10"
  },
  "papermill": {
   "default_parameters": {},
   "duration": 49.819588,
   "end_time": "2021-08-21T05:18:33.164567",
   "environment_variables": {},
   "exception": null,
   "input_path": "__notebook__.ipynb",
   "output_path": "__notebook__.ipynb",
   "parameters": {},
   "start_time": "2021-08-21T05:17:43.344979",
   "version": "2.3.3"
  }
 },
 "nbformat": 4,
 "nbformat_minor": 5
}
