{
 "cells": [
  {
   "cell_type": "markdown",
   "id": "dd527a77",
   "metadata": {
    "papermill": {
     "duration": 0.022642,
     "end_time": "2021-08-20T09:27:02.862498",
     "exception": false,
     "start_time": "2021-08-20T09:27:02.839856",
     "status": "completed"
    },
    "tags": []
   },
   "source": [
    "**This notebook is an exercise in the [Natural Language Processing](https://www.kaggle.com/learn/natural-language-processing) course.  You can reference the tutorial at [this link](https://www.kaggle.com/matleonard/text-classification).**\n",
    "\n",
    "---\n"
   ]
  },
  {
   "cell_type": "markdown",
   "id": "b7789b2c",
   "metadata": {
    "papermill": {
     "duration": 0.021862,
     "end_time": "2021-08-20T09:27:02.906961",
     "exception": false,
     "start_time": "2021-08-20T09:27:02.885099",
     "status": "completed"
    },
    "tags": []
   },
   "source": [
    "# Natural Language Classification\n",
    "\n",
    "You did such a great job for DeFalco's restaurant in the previous exercise that the chef has hired you for a new project.\n",
    "\n",
    "The restaurant's menu includes an email address where visitors can give feedback about their food. \n",
    "\n",
    "The manager wants you to create a tool that automatically sends him all the negative reviews so he can fix them, while automatically sending all the positive reviews to the owner, so the manager can ask for a raise. \n",
    "\n",
    "You will first build a model to distinguish positive reviews from negative reviews using Yelp reviews because these reviews include a rating with each review. Your data consists of the text body of each review along with the star rating. Ratings with 1-2 stars count as \"negative\", and ratings with 4-5 stars are \"positive\". Ratings with 3 stars are \"neutral\" and have been dropped from the data.\n",
    "\n",
    "Let's get started. First, run the next code cell."
   ]
  },
  {
   "cell_type": "code",
   "execution_count": 1,
   "id": "4a4a0808",
   "metadata": {
    "execution": {
     "iopub.execute_input": "2021-08-20T09:27:02.954951Z",
     "iopub.status.busy": "2021-08-20T09:27:02.953723Z",
     "iopub.status.idle": "2021-08-20T09:27:04.646808Z",
     "shell.execute_reply": "2021-08-20T09:27:04.646062Z",
     "shell.execute_reply.started": "2021-08-20T08:38:17.698202Z"
    },
    "papermill": {
     "duration": 1.718211,
     "end_time": "2021-08-20T09:27:04.646970",
     "exception": false,
     "start_time": "2021-08-20T09:27:02.928759",
     "status": "completed"
    },
    "tags": []
   },
   "outputs": [
    {
     "name": "stdout",
     "output_type": "stream",
     "text": [
      "\n",
      "Setup complete\n"
     ]
    }
   ],
   "source": [
    "import pandas as pd\n",
    "\n",
    "# Set up code checking\n",
    "from learntools.core import binder\n",
    "binder.bind(globals())\n",
    "from learntools.nlp.ex2 import *\n",
    "print(\"\\nSetup complete\")"
   ]
  },
  {
   "cell_type": "markdown",
   "id": "5061642a",
   "metadata": {
    "papermill": {
     "duration": 0.021879,
     "end_time": "2021-08-20T09:27:04.691309",
     "exception": false,
     "start_time": "2021-08-20T09:27:04.669430",
     "status": "completed"
    },
    "tags": []
   },
   "source": [
    "# Step 1: Evaluate the Approach\n",
    "\n",
    "Is there anything about this approach that concerns you? After you've thought about it, run the function below to see one point of view."
   ]
  },
  {
   "cell_type": "code",
   "execution_count": 2,
   "id": "3c4422f3",
   "metadata": {
    "execution": {
     "iopub.execute_input": "2021-08-20T09:27:04.743042Z",
     "iopub.status.busy": "2021-08-20T09:27:04.742352Z",
     "iopub.status.idle": "2021-08-20T09:27:04.748723Z",
     "shell.execute_reply": "2021-08-20T09:27:04.748085Z",
     "shell.execute_reply.started": "2021-08-20T08:38:44.590106Z"
    },
    "papermill": {
     "duration": 0.035213,
     "end_time": "2021-08-20T09:27:04.748857",
     "exception": false,
     "start_time": "2021-08-20T09:27:04.713644",
     "status": "completed"
    },
    "tags": []
   },
   "outputs": [
    {
     "data": {
      "application/javascript": [
       "parent.postMessage({\"jupyterEvent\": \"custom.exercise_interaction\", \"data\": {\"interactionType\": 3, \"questionType\": 4, \"questionId\": \"1_EvaluateFeedbackFormApproach\", \"learnToolsVersion\": \"0.3.4\", \"valueTowardsCompletion\": 0.0, \"failureMessage\": \"\", \"exceptionClass\": \"\", \"trace\": \"\", \"outcomeType\": 4}}, \"*\")"
      ],
      "text/plain": [
       "<IPython.core.display.Javascript object>"
      ]
     },
     "metadata": {},
     "output_type": "display_data"
    },
    {
     "data": {
      "text/markdown": [
       "<span style=\"color:#33cc99\">Solution:</span> Any way of setting up an ML problem will have multiple strengths and weaknesses.  So you may have thought of different issues than listed here.\n",
       "\n",
       "The strength of this approach is that it allows you to distinguish positive email messages from negative emails even though you don't have historical emails that you have labeled as positive or negative.\n",
       "\n",
       "The weakness of this approach is that emails may be systematically different from Yelp reviews in ways that make your model less accurate. For example, customers might generally use different words or slang in emails, and the model based on Yelp reviews won't have seen these words.\n",
       "\n",
       "If you wanted to see how serious this issue is, you could compare word frequencies between the two sources. In practice, manually reading a few emails from each source may be enough to see if it's a serious issue. \n",
       "\n",
       "If you wanted to do something fancier, you could create a dataset that contains both Yelp reviews and emails and see whether a model can tell a reviews source from the text content. Ideally, you'd like to find that model didn't perform well, because it would mean your data sources are similar. That approach seems unnecessarily complex here."
      ],
      "text/plain": [
       "Solution: Any way of setting up an ML problem will have multiple strengths and weaknesses.  So you may have thought of different issues than listed here.\n",
       "\n",
       "The strength of this approach is that it allows you to distinguish positive email messages from negative emails even though you don't have historical emails that you have labeled as positive or negative.\n",
       "\n",
       "The weakness of this approach is that emails may be systematically different from Yelp reviews in ways that make your model less accurate. For example, customers might generally use different words or slang in emails, and the model based on Yelp reviews won't have seen these words.\n",
       "\n",
       "If you wanted to see how serious this issue is, you could compare word frequencies between the two sources. In practice, manually reading a few emails from each source may be enough to see if it's a serious issue. \n",
       "\n",
       "If you wanted to do something fancier, you could create a dataset that contains both Yelp reviews and emails and see whether a model can tell a reviews source from the text content. Ideally, you'd like to find that model didn't perform well, because it would mean your data sources are similar. That approach seems unnecessarily complex here."
      ]
     },
     "metadata": {},
     "output_type": "display_data"
    }
   ],
   "source": [
    "# Check your answer (Run this code cell to receive credit!)\n",
    "step_1.solution()"
   ]
  },
  {
   "cell_type": "markdown",
   "id": "18cbc1be",
   "metadata": {
    "papermill": {
     "duration": 0.02333,
     "end_time": "2021-08-20T09:27:04.795246",
     "exception": false,
     "start_time": "2021-08-20T09:27:04.771916",
     "status": "completed"
    },
    "tags": []
   },
   "source": [
    "# Step 2: Review Data and Create the model\n",
    "\n",
    "Moving forward with your plan, you'll need to load the data. Here's some basic code to load data and split it into a training and validation set. Run this code."
   ]
  },
  {
   "cell_type": "code",
   "execution_count": 3,
   "id": "fcc21b26",
   "metadata": {
    "execution": {
     "iopub.execute_input": "2021-08-20T09:27:04.851541Z",
     "iopub.status.busy": "2021-08-20T09:27:04.850371Z",
     "iopub.status.idle": "2021-08-20T09:27:05.316568Z",
     "shell.execute_reply": "2021-08-20T09:27:05.317061Z",
     "shell.execute_reply.started": "2021-08-20T08:44:47.036429Z"
    },
    "papermill": {
     "duration": 0.498993,
     "end_time": "2021-08-20T09:27:05.317253",
     "exception": false,
     "start_time": "2021-08-20T09:27:04.818260",
     "status": "completed"
    },
    "tags": []
   },
   "outputs": [],
   "source": [
    "def load_data(csv_file, split=0.9):\n",
    "    data = pd.read_csv(csv_file)\n",
    "    \n",
    "    # Shuffle data\n",
    "    train_data = data.sample(frac=1, random_state=7)\n",
    "    \n",
    "    texts = train_data.text.values\n",
    "    labels = [{\"POSITIVE\": bool(y), \"NEGATIVE\": not bool(y)}\n",
    "              for y in train_data.sentiment.values]\n",
    "    split = int(len(train_data) * split)\n",
    "    \n",
    "    train_labels = [{\"cats\": labels} for labels in labels[:split]]\n",
    "    val_labels = [{\"cats\": labels} for labels in labels[split:]]\n",
    "    \n",
    "    return texts[:split], train_labels, texts[split:], val_labels\n",
    "\n",
    "train_texts, train_labels, val_texts, val_labels = load_data('../input/nlp-course/yelp_ratings.csv')"
   ]
  },
  {
   "cell_type": "markdown",
   "id": "f406fd15",
   "metadata": {
    "papermill": {
     "duration": 0.028438,
     "end_time": "2021-08-20T09:27:05.369103",
     "exception": false,
     "start_time": "2021-08-20T09:27:05.340665",
     "status": "completed"
    },
    "tags": []
   },
   "source": [
    "You will use this training data to build a model. The code to build the model is the same as what you saw in the tutorial. So that is copied below for you.\n",
    "\n",
    "But because your data is different, there are **two lines in the modeling code cell that you'll need to change.** Can you figure out what they are? \n",
    "\n",
    "First, run the cell below to look at a couple elements from your training data."
   ]
  },
  {
   "cell_type": "code",
   "execution_count": 4,
   "id": "13e18763",
   "metadata": {
    "execution": {
     "iopub.execute_input": "2021-08-20T09:27:05.431120Z",
     "iopub.status.busy": "2021-08-20T09:27:05.429517Z",
     "iopub.status.idle": "2021-08-20T09:27:05.435791Z",
     "shell.execute_reply": "2021-08-20T09:27:05.436312Z",
     "shell.execute_reply.started": "2021-08-20T08:44:49.825394Z"
    },
    "papermill": {
     "duration": 0.040874,
     "end_time": "2021-08-20T09:27:05.436514",
     "exception": false,
     "start_time": "2021-08-20T09:27:05.395640",
     "status": "completed"
    },
    "tags": []
   },
   "outputs": [
    {
     "name": "stdout",
     "output_type": "stream",
     "text": [
      "Texts from training data\n",
      "------\n",
      "[\"Some of the best sushi I've ever had....and I come from the East Coast.  Unreal toro, have some of it's available.\"\n",
      " \"One of the best burgers I've ever had and very well priced. I got the tortilla burger and is was delicious especially with there tortilla soup!\"]\n",
      "\n",
      "Labels from training data\n",
      "------\n",
      "[{'cats': {'POSITIVE': True, 'NEGATIVE': False}}, {'cats': {'POSITIVE': True, 'NEGATIVE': False}}]\n"
     ]
    }
   ],
   "source": [
    "print('Texts from training data\\n------')\n",
    "print(train_texts[:2])\n",
    "print('\\nLabels from training data\\n------')\n",
    "print(train_labels[:2])\n"
   ]
  },
  {
   "cell_type": "markdown",
   "id": "53944163",
   "metadata": {
    "papermill": {
     "duration": 0.023755,
     "end_time": "2021-08-20T09:27:05.487320",
     "exception": false,
     "start_time": "2021-08-20T09:27:05.463565",
     "status": "completed"
    },
    "tags": []
   },
   "source": [
    "Now, having seen this data, find the two lines that need to be changed."
   ]
  },
  {
   "cell_type": "code",
   "execution_count": 5,
   "id": "13fd2194",
   "metadata": {
    "execution": {
     "iopub.execute_input": "2021-08-20T09:27:05.537842Z",
     "iopub.status.busy": "2021-08-20T09:27:05.537158Z",
     "iopub.status.idle": "2021-08-20T09:27:06.026864Z",
     "shell.execute_reply": "2021-08-20T09:27:06.027317Z",
     "shell.execute_reply.started": "2021-08-20T08:48:08.264266Z"
    },
    "papermill": {
     "duration": 0.516313,
     "end_time": "2021-08-20T09:27:06.027520",
     "exception": false,
     "start_time": "2021-08-20T09:27:05.511207",
     "status": "completed"
    },
    "tags": []
   },
   "outputs": [
    {
     "data": {
      "application/javascript": [
       "parent.postMessage({\"jupyterEvent\": \"custom.exercise_interaction\", \"data\": {\"outcomeType\": 1, \"valueTowardsCompletion\": 0.16666666666666666, \"interactionType\": 1, \"questionType\": 2, \"questionId\": \"2_CreateTextCatModel\", \"learnToolsVersion\": \"0.3.4\", \"failureMessage\": \"\", \"exceptionClass\": \"\", \"trace\": \"\"}}, \"*\")"
      ],
      "text/plain": [
       "<IPython.core.display.Javascript object>"
      ]
     },
     "metadata": {},
     "output_type": "display_data"
    },
    {
     "data": {
      "text/markdown": [
       "<span style=\"color:#33cc33\">Correct</span>"
      ],
      "text/plain": [
       "Correct"
      ]
     },
     "metadata": {},
     "output_type": "display_data"
    }
   ],
   "source": [
    "import spacy\n",
    "\n",
    "# Create an empty model\n",
    "nlp = spacy.blank(\"en\")\n",
    "\n",
    "# Create the TextCategorizer with exclusive classes and \"bow\" architecture\n",
    "textcat = nlp.create_pipe(\n",
    "              \"textcat\",\n",
    "              config={\n",
    "                \"exclusive_classes\": True,\n",
    "                \"architecture\": \"bow\"})\n",
    "\n",
    "# Add the TextCategorizer to the empty model\n",
    "nlp.add_pipe(textcat)\n",
    "\n",
    "# Add labels to text classifier\n",
    "textcat.add_label(\"NEGATIVE\")\n",
    "textcat.add_label(\"POSITIVE\")\n",
    "\n",
    "# Check your answer\n",
    "step_2.check()"
   ]
  },
  {
   "cell_type": "code",
   "execution_count": 6,
   "id": "1355813c",
   "metadata": {
    "execution": {
     "iopub.execute_input": "2021-08-20T09:27:06.080708Z",
     "iopub.status.busy": "2021-08-20T09:27:06.080025Z",
     "iopub.status.idle": "2021-08-20T09:27:06.083277Z",
     "shell.execute_reply": "2021-08-20T09:27:06.082781Z"
    },
    "papermill": {
     "duration": 0.031368,
     "end_time": "2021-08-20T09:27:06.083416",
     "exception": false,
     "start_time": "2021-08-20T09:27:06.052048",
     "status": "completed"
    },
    "tags": []
   },
   "outputs": [],
   "source": [
    "# Lines below will give you a hint or solution code\n",
    "#step_2.hint()\n",
    "#step_2.solution()"
   ]
  },
  {
   "cell_type": "markdown",
   "id": "5cef882c",
   "metadata": {
    "papermill": {
     "duration": 0.023994,
     "end_time": "2021-08-20T09:27:06.131974",
     "exception": false,
     "start_time": "2021-08-20T09:27:06.107980",
     "status": "completed"
    },
    "tags": []
   },
   "source": [
    "# Step 3: Train Function\n",
    "\n",
    "Implement a function `train` that updates a model with training data. Most of this is general data munging, which we've filled in for you. Just add the one line of code necessary to update your model."
   ]
  },
  {
   "cell_type": "code",
   "execution_count": 7,
   "id": "31da073e",
   "metadata": {
    "execution": {
     "iopub.execute_input": "2021-08-20T09:27:06.325879Z",
     "iopub.status.busy": "2021-08-20T09:27:06.315352Z",
     "iopub.status.idle": "2021-08-20T09:27:13.639893Z",
     "shell.execute_reply": "2021-08-20T09:27:13.639197Z",
     "shell.execute_reply.started": "2021-08-20T09:01:05.283003Z"
    },
    "papermill": {
     "duration": 7.483733,
     "end_time": "2021-08-20T09:27:13.640049",
     "exception": false,
     "start_time": "2021-08-20T09:27:06.156316",
     "status": "completed"
    },
    "tags": []
   },
   "outputs": [
    {
     "data": {
      "application/javascript": [
       "parent.postMessage({\"jupyterEvent\": \"custom.exercise_interaction\", \"data\": {\"outcomeType\": 1, \"valueTowardsCompletion\": 0.16666666666666666, \"interactionType\": 1, \"questionType\": 2, \"questionId\": \"3_TrainFunction\", \"learnToolsVersion\": \"0.3.4\", \"failureMessage\": \"\", \"exceptionClass\": \"\", \"trace\": \"\"}}, \"*\")"
      ],
      "text/plain": [
       "<IPython.core.display.Javascript object>"
      ]
     },
     "metadata": {},
     "output_type": "display_data"
    },
    {
     "data": {
      "text/markdown": [
       "<span style=\"color:#33cc33\">Correct</span>"
      ],
      "text/plain": [
       "Correct"
      ]
     },
     "metadata": {},
     "output_type": "display_data"
    }
   ],
   "source": [
    "from spacy.util import minibatch\n",
    "import random\n",
    "\n",
    "def train(model, train_data, optimizer):\n",
    "    losses = {}\n",
    "    random.seed(1)\n",
    "    random.shuffle(train_data)\n",
    "    \n",
    "    batches = minibatch(train_data, size=8)\n",
    "    for batch in batches:\n",
    "        # train_data is a list of tuples [(text0, label0), (text1, label1), ...]\n",
    "        # Split batch into texts and labels\n",
    "        texts, labels = zip(*batch)\n",
    "        \n",
    "        # Update model with texts and labels\n",
    "        model.update(texts, labels, sgd=optimizer, losses=losses)\n",
    "        \n",
    "    return losses\n",
    "\n",
    "# Check your answer\n",
    "step_3.check()"
   ]
  },
  {
   "cell_type": "code",
   "execution_count": 8,
   "id": "9945252f",
   "metadata": {
    "execution": {
     "iopub.execute_input": "2021-08-20T09:27:13.696403Z",
     "iopub.status.busy": "2021-08-20T09:27:13.695445Z",
     "iopub.status.idle": "2021-08-20T09:27:13.698959Z",
     "shell.execute_reply": "2021-08-20T09:27:13.698401Z",
     "shell.execute_reply.started": "2021-08-20T09:01:02.331295Z"
    },
    "papermill": {
     "duration": 0.033393,
     "end_time": "2021-08-20T09:27:13.699095",
     "exception": false,
     "start_time": "2021-08-20T09:27:13.665702",
     "status": "completed"
    },
    "tags": []
   },
   "outputs": [],
   "source": [
    "# Lines below will give you a hint or solution code\n",
    "#step_3.hint()\n",
    "#step_3.solution()"
   ]
  },
  {
   "cell_type": "code",
   "execution_count": 9,
   "id": "e0e7e9ae",
   "metadata": {
    "execution": {
     "iopub.execute_input": "2021-08-20T09:27:13.780397Z",
     "iopub.status.busy": "2021-08-20T09:27:13.775221Z",
     "iopub.status.idle": "2021-08-20T09:29:11.278438Z",
     "shell.execute_reply": "2021-08-20T09:29:11.278980Z",
     "shell.execute_reply.started": "2021-08-20T09:02:09.485295Z"
    },
    "papermill": {
     "duration": 117.554311,
     "end_time": "2021-08-20T09:29:11.279167",
     "exception": false,
     "start_time": "2021-08-20T09:27:13.724856",
     "status": "completed"
    },
    "tags": []
   },
   "outputs": [
    {
     "name": "stdout",
     "output_type": "stream",
     "text": [
      "8.701575470772399\n"
     ]
    }
   ],
   "source": [
    "# Fix seed for reproducibility\n",
    "spacy.util.fix_random_seed(1)\n",
    "random.seed(1)\n",
    "\n",
    "# This may take a while to run!\n",
    "optimizer = nlp.begin_training()\n",
    "train_data = list(zip(train_texts, train_labels))\n",
    "losses = train(nlp, train_data, optimizer)\n",
    "print(losses['textcat'])"
   ]
  },
  {
   "cell_type": "markdown",
   "id": "df6e34f8",
   "metadata": {
    "papermill": {
     "duration": 0.025412,
     "end_time": "2021-08-20T09:29:11.330073",
     "exception": false,
     "start_time": "2021-08-20T09:29:11.304661",
     "status": "completed"
    },
    "tags": []
   },
   "source": [
    "We can try this slightly trained model on some example text and look at the probabilities assigned to each label."
   ]
  },
  {
   "cell_type": "code",
   "execution_count": 10,
   "id": "c0b9c223",
   "metadata": {
    "execution": {
     "iopub.execute_input": "2021-08-20T09:29:11.385106Z",
     "iopub.status.busy": "2021-08-20T09:29:11.384121Z",
     "iopub.status.idle": "2021-08-20T09:29:11.390405Z",
     "shell.execute_reply": "2021-08-20T09:29:11.389881Z",
     "shell.execute_reply.started": "2021-08-20T09:04:49.451984Z"
    },
    "papermill": {
     "duration": 0.034842,
     "end_time": "2021-08-20T09:29:11.390556",
     "exception": false,
     "start_time": "2021-08-20T09:29:11.355714",
     "status": "completed"
    },
    "tags": []
   },
   "outputs": [
    {
     "name": "stdout",
     "output_type": "stream",
     "text": [
      "{'NEGATIVE': 0.7731689214706421, 'POSITIVE': 0.22683113813400269}\n"
     ]
    }
   ],
   "source": [
    "text = \"This tea cup was full of holes. Do not recommend.\"\n",
    "doc = nlp(text)\n",
    "print(doc.cats)"
   ]
  },
  {
   "cell_type": "markdown",
   "id": "c96f696e",
   "metadata": {
    "papermill": {
     "duration": 0.026451,
     "end_time": "2021-08-20T09:29:11.443252",
     "exception": false,
     "start_time": "2021-08-20T09:29:11.416801",
     "status": "completed"
    },
    "tags": []
   },
   "source": [
    "These probabilities look reasonable. Now you should turn them into an actual prediction.\n",
    "\n",
    "# Step 4: Making Predictions\n",
    "\n",
    "Implement a function `predict` that predicts the sentiment of text examples. \n",
    "- First, tokenize the texts using `nlp.tokenizer()`. \n",
    "- Then, pass those docs to the TextCategorizer which you can get from `nlp.get_pipe()`. \n",
    "- Use the `textcat.predict()` method to get scores for each document, then choose the class with the highest score (probability) as the predicted class."
   ]
  },
  {
   "cell_type": "code",
   "execution_count": 11,
   "id": "38211bca",
   "metadata": {
    "execution": {
     "iopub.execute_input": "2021-08-20T09:29:11.546312Z",
     "iopub.status.busy": "2021-08-20T09:29:11.535804Z",
     "iopub.status.idle": "2021-08-20T09:29:15.053613Z",
     "shell.execute_reply": "2021-08-20T09:29:15.054053Z",
     "shell.execute_reply.started": "2021-08-20T09:05:43.368380Z"
    },
    "papermill": {
     "duration": 3.584702,
     "end_time": "2021-08-20T09:29:15.054248",
     "exception": false,
     "start_time": "2021-08-20T09:29:11.469546",
     "status": "completed"
    },
    "tags": []
   },
   "outputs": [
    {
     "data": {
      "application/javascript": [
       "parent.postMessage({\"jupyterEvent\": \"custom.exercise_interaction\", \"data\": {\"outcomeType\": 1, \"valueTowardsCompletion\": 0.16666666666666666, \"interactionType\": 1, \"questionType\": 2, \"questionId\": \"4_PredictFunction\", \"learnToolsVersion\": \"0.3.4\", \"failureMessage\": \"\", \"exceptionClass\": \"\", \"trace\": \"\"}}, \"*\")"
      ],
      "text/plain": [
       "<IPython.core.display.Javascript object>"
      ]
     },
     "metadata": {},
     "output_type": "display_data"
    },
    {
     "data": {
      "text/markdown": [
       "<span style=\"color:#33cc33\">Correct</span>"
      ],
      "text/plain": [
       "Correct"
      ]
     },
     "metadata": {},
     "output_type": "display_data"
    }
   ],
   "source": [
    "def predict(nlp, texts):\n",
    "    # Use the tokenizer to tokenize each input text example\n",
    "    docs = [nlp.tokenizer(text) for text in texts]\n",
    "\n",
    "    # Use textcat to get the scores for each doc\n",
    "    textcat = nlp.get_pipe('textcat')\n",
    "    scores, _ = textcat.predict(docs)\n",
    "\n",
    "    # From the scores, find the class with the highest score/probability\n",
    "    predicted_class = scores.argmax(axis=1)\n",
    "\n",
    "    return predicted_class\n",
    "\n",
    "# Check your answer\n",
    "step_4.check()"
   ]
  },
  {
   "cell_type": "code",
   "execution_count": 12,
   "id": "2ce8712a",
   "metadata": {
    "execution": {
     "iopub.execute_input": "2021-08-20T09:29:15.113743Z",
     "iopub.status.busy": "2021-08-20T09:29:15.112985Z",
     "iopub.status.idle": "2021-08-20T09:29:15.116999Z",
     "shell.execute_reply": "2021-08-20T09:29:15.116371Z",
     "shell.execute_reply.started": "2021-08-20T09:06:23.402001Z"
    },
    "papermill": {
     "duration": 0.035882,
     "end_time": "2021-08-20T09:29:15.117134",
     "exception": false,
     "start_time": "2021-08-20T09:29:15.081252",
     "status": "completed"
    },
    "tags": []
   },
   "outputs": [],
   "source": [
    "# Lines below will give you a hint or solution code\n",
    "#step_4.hint()\n",
    "#step_4.solution()"
   ]
  },
  {
   "cell_type": "code",
   "execution_count": 13,
   "id": "e3b92365",
   "metadata": {
    "execution": {
     "iopub.execute_input": "2021-08-20T09:29:15.175405Z",
     "iopub.status.busy": "2021-08-20T09:29:15.174494Z",
     "iopub.status.idle": "2021-08-20T09:29:15.183111Z",
     "shell.execute_reply": "2021-08-20T09:29:15.183709Z",
     "shell.execute_reply.started": "2021-08-20T09:07:08.152778Z"
    },
    "papermill": {
     "duration": 0.039699,
     "end_time": "2021-08-20T09:29:15.183881",
     "exception": false,
     "start_time": "2021-08-20T09:29:15.144182",
     "status": "completed"
    },
    "tags": []
   },
   "outputs": [
    {
     "name": "stdout",
     "output_type": "stream",
     "text": [
      "POSITIVE: Came over and had their \"Pick 2\" lunch combo and chose their best selling 1/2 chicken sandwich with quinoa.  Both were tasty, the chicken salad is a bit creamy but was perfect with quinoa on the side.  This is a good lunch joint, casual and clean! \n",
      "\n",
      "POSITIVE: Went here last night and got oysters, fried okra, fries, and onion rings. I cannot complain. The portions were great and tasty!!! I will definitely be back for more. I cannot wait to try the crawfish boudin and soft shell crab. \n",
      "\n",
      "POSITIVE: This restaurant was fantastic! \n",
      "The concept of eating without vision was intriguing. The dinner was filled with laughs and good conversation. \n",
      "\n",
      "We were lead in a line to our table and each person to their seat. This was not just dark but you could not see something right in front of your face. \n",
      "\n",
      "The waiters/waitresses were all blind and allowed us to see how aware you need to be without the vision. \n",
      "\n",
      "Taking away one sense is said to increase your other senses so as taste and hearing which I believed to be true in this experience. \n",
      "\n",
      "The meal was extremely delicious. I had the chicken and it was cooked to perfection. I also had a surprise beer which was a nice surprise. \n",
      "\n",
      "The whole experience was unlike anything I have ever done and I hope this spreads to other cities. \n",
      "\n",
      "A must do! \n",
      "\n",
      "NEGATIVE: They won't book new patients for same day appointments. My dog is sick but it's not necessarily urgent so I asked when I would be able to book an appointment and was told \"new patients book out at least 6 weeks in advance\" so just a heads up this seems like a great vet from other reviews but it'll be hard to get in their system to know \n",
      "\n"
     ]
    }
   ],
   "source": [
    "texts = val_texts[34:38]\n",
    "predictions = predict(nlp, texts)\n",
    "\n",
    "for p, t in zip(predictions, texts):\n",
    "    print(f\"{textcat.labels[p]}: {t} \\n\")"
   ]
  },
  {
   "cell_type": "markdown",
   "id": "e522b95f",
   "metadata": {
    "papermill": {
     "duration": 0.027627,
     "end_time": "2021-08-20T09:29:15.238912",
     "exception": false,
     "start_time": "2021-08-20T09:29:15.211285",
     "status": "completed"
    },
    "tags": []
   },
   "source": [
    "It looks like your model is working well after going through the data just once. However you need to calculate some metric for the model's performance on the hold-out validation data.\n",
    "\n",
    "# Step 5: Evaluate The Model\n",
    "\n",
    "Implement a function that evaluates a `TextCategorizer` model. This function `evaluate` takes a model along with texts and labels. It returns the accuracy of the model, which is the number of correct predictions divided by all predictions.\n",
    "\n",
    "First, use the `predict` method you wrote earlier to get the predicted class for each text in `texts`. Then, find where the predicted labels match the true \"gold-standard\" labels and calculate the accuracy."
   ]
  },
  {
   "cell_type": "code",
   "execution_count": 14,
   "id": "0d586b67",
   "metadata": {
    "execution": {
     "iopub.execute_input": "2021-08-20T09:29:15.345099Z",
     "iopub.status.busy": "2021-08-20T09:29:15.334278Z",
     "iopub.status.idle": "2021-08-20T09:29:18.822758Z",
     "shell.execute_reply": "2021-08-20T09:29:18.822237Z",
     "shell.execute_reply.started": "2021-08-20T09:09:20.342447Z"
    },
    "papermill": {
     "duration": 3.556563,
     "end_time": "2021-08-20T09:29:18.822901",
     "exception": false,
     "start_time": "2021-08-20T09:29:15.266338",
     "status": "completed"
    },
    "tags": []
   },
   "outputs": [
    {
     "data": {
      "application/javascript": [
       "parent.postMessage({\"jupyterEvent\": \"custom.exercise_interaction\", \"data\": {\"outcomeType\": 1, \"valueTowardsCompletion\": 0.16666666666666666, \"interactionType\": 1, \"questionType\": 2, \"questionId\": \"5_EvaluateFunction\", \"learnToolsVersion\": \"0.3.4\", \"failureMessage\": \"\", \"exceptionClass\": \"\", \"trace\": \"\"}}, \"*\")"
      ],
      "text/plain": [
       "<IPython.core.display.Javascript object>"
      ]
     },
     "metadata": {},
     "output_type": "display_data"
    },
    {
     "data": {
      "text/markdown": [
       "<span style=\"color:#33cc33\">Correct</span>"
      ],
      "text/plain": [
       "Correct"
      ]
     },
     "metadata": {},
     "output_type": "display_data"
    }
   ],
   "source": [
    "def evaluate(model, texts, labels):\n",
    "    \"\"\" \n",
    "    Returns the accuracy of a TextCategorizer model. \n",
    "    Arguments\n",
    "    ---------\n",
    "    model: ScaPy model with a TextCategorizer\n",
    "    texts: Text samples, from load_data function\n",
    "    labels: True labels, from load_data function\n",
    "    \"\"\"\n",
    "    \n",
    "    # Get predictions from textcat model (using your predict method)\n",
    "    predicted_class = predict(model, texts)\n",
    "    \n",
    "    # From labels, get the true class as a list of integers (POSITIVE -> 1, NEGATIVE -> 0)\n",
    "    true_class = [int(each['cats']['POSITIVE']) for each in labels]\n",
    "    \n",
    "    # A boolean or int array indicating correct predictions\n",
    "    correct_predictions = predicted_class == true_class\n",
    "    \n",
    "    # The accuracy, number of correct predictions divided by all predictions\n",
    "    accuracy = correct_predictions.mean()\n",
    "    return accuracy\n",
    "\n",
    "step_5.check()"
   ]
  },
  {
   "cell_type": "code",
   "execution_count": 15,
   "id": "9276a1d3",
   "metadata": {
    "execution": {
     "iopub.execute_input": "2021-08-20T09:29:18.884774Z",
     "iopub.status.busy": "2021-08-20T09:29:18.884136Z",
     "iopub.status.idle": "2021-08-20T09:29:18.887464Z",
     "shell.execute_reply": "2021-08-20T09:29:18.886944Z",
     "shell.execute_reply.started": "2021-08-20T09:09:14.063690Z"
    },
    "papermill": {
     "duration": 0.035412,
     "end_time": "2021-08-20T09:29:18.887635",
     "exception": false,
     "start_time": "2021-08-20T09:29:18.852223",
     "status": "completed"
    },
    "tags": []
   },
   "outputs": [],
   "source": [
    "# Lines below will give you a hint or solution code\n",
    "#step_5.hint()\n",
    "#step_5.solution()"
   ]
  },
  {
   "cell_type": "code",
   "execution_count": 16,
   "id": "c727b9f0",
   "metadata": {
    "execution": {
     "iopub.execute_input": "2021-08-20T09:29:18.969198Z",
     "iopub.status.busy": "2021-08-20T09:29:18.964046Z",
     "iopub.status.idle": "2021-08-20T09:29:21.445925Z",
     "shell.execute_reply": "2021-08-20T09:29:21.446659Z",
     "shell.execute_reply.started": "2021-08-20T09:09:33.494567Z"
    },
    "papermill": {
     "duration": 2.530618,
     "end_time": "2021-08-20T09:29:21.446883",
     "exception": false,
     "start_time": "2021-08-20T09:29:18.916265",
     "status": "completed"
    },
    "tags": []
   },
   "outputs": [
    {
     "name": "stdout",
     "output_type": "stream",
     "text": [
      "Accuracy: 0.9486\n"
     ]
    }
   ],
   "source": [
    "accuracy = evaluate(nlp, val_texts, val_labels)\n",
    "print(f\"Accuracy: {accuracy:.4f}\")"
   ]
  },
  {
   "cell_type": "markdown",
   "id": "07ea403c",
   "metadata": {
    "papermill": {
     "duration": 0.028212,
     "end_time": "2021-08-20T09:29:21.504377",
     "exception": false,
     "start_time": "2021-08-20T09:29:21.476165",
     "status": "completed"
    },
    "tags": []
   },
   "source": [
    "With the functions implemented, you can train and evaluate in a loop."
   ]
  },
  {
   "cell_type": "code",
   "execution_count": 17,
   "id": "bde4f771",
   "metadata": {
    "execution": {
     "iopub.execute_input": "2021-08-20T09:29:21.590676Z",
     "iopub.status.busy": "2021-08-20T09:29:21.585540Z",
     "iopub.status.idle": "2021-08-20T09:41:24.893225Z",
     "shell.execute_reply": "2021-08-20T09:41:24.893790Z",
     "shell.execute_reply.started": "2021-08-20T09:09:48.264589Z"
    },
    "papermill": {
     "duration": 723.360826,
     "end_time": "2021-08-20T09:41:24.894092",
     "exception": false,
     "start_time": "2021-08-20T09:29:21.533266",
     "status": "completed"
    },
    "tags": []
   },
   "outputs": [
    {
     "name": "stdout",
     "output_type": "stream",
     "text": [
      "Loss: 4.498 \t Accuracy: 0.945\n",
      "Loss: 3.108 \t Accuracy: 0.946\n",
      "Loss: 2.348 \t Accuracy: 0.944\n",
      "Loss: 1.929 \t Accuracy: 0.945\n",
      "Loss: 1.591 \t Accuracy: 0.945\n"
     ]
    }
   ],
   "source": [
    "# This may take a while to run!\n",
    "n_iters = 5\n",
    "for i in range(n_iters):\n",
    "    losses = train(nlp, train_data, optimizer)\n",
    "    accuracy = evaluate(nlp, val_texts, val_labels)\n",
    "    print(f\"Loss: {losses['textcat']:.3f} \\t Accuracy: {accuracy:.3f}\")"
   ]
  },
  {
   "cell_type": "markdown",
   "id": "9ac29168",
   "metadata": {
    "papermill": {
     "duration": 0.03051,
     "end_time": "2021-08-20T09:41:24.955307",
     "exception": false,
     "start_time": "2021-08-20T09:41:24.924797",
     "status": "completed"
    },
    "tags": []
   },
   "source": [
    "# Step 6: Keep Improving\n",
    "\n",
    "You've built the necessary components to train a text classifier with spaCy. What could you do further to optimize the model?\n",
    "\n",
    "Run the next line to check your answer."
   ]
  },
  {
   "cell_type": "code",
   "execution_count": 18,
   "id": "f250b7e9",
   "metadata": {
    "execution": {
     "iopub.execute_input": "2021-08-20T09:41:25.021593Z",
     "iopub.status.busy": "2021-08-20T09:41:25.020943Z",
     "iopub.status.idle": "2021-08-20T09:41:25.026665Z",
     "shell.execute_reply": "2021-08-20T09:41:25.027136Z",
     "shell.execute_reply.started": "2021-08-20T09:26:01.567285Z"
    },
    "papermill": {
     "duration": 0.041634,
     "end_time": "2021-08-20T09:41:25.027303",
     "exception": false,
     "start_time": "2021-08-20T09:41:24.985669",
     "status": "completed"
    },
    "tags": []
   },
   "outputs": [
    {
     "data": {
      "application/javascript": [
       "parent.postMessage({\"jupyterEvent\": \"custom.exercise_interaction\", \"data\": {\"interactionType\": 3, \"questionType\": 4, \"questionId\": \"6_ModelOptimizationQuestion\", \"learnToolsVersion\": \"0.3.4\", \"valueTowardsCompletion\": 0.0, \"failureMessage\": \"\", \"exceptionClass\": \"\", \"trace\": \"\", \"outcomeType\": 4}}, \"*\")"
      ],
      "text/plain": [
       "<IPython.core.display.Javascript object>"
      ]
     },
     "metadata": {},
     "output_type": "display_data"
    },
    {
     "data": {
      "text/markdown": [
       "<span style=\"color:#33cc99\">Solution:</span> Answer: There are various hyperparameters to work with here. The biggest one is the TextCategorizer architecture. You used the simplest model which trains faster but likely has worse performance than the CNN and ensemble models. "
      ],
      "text/plain": [
       "Solution: Answer: There are various hyperparameters to work with here. The biggest one is the TextCategorizer architecture. You used the simplest model which trains faster but likely has worse performance than the CNN and ensemble models. "
      ]
     },
     "metadata": {},
     "output_type": "display_data"
    }
   ],
   "source": [
    "# Check your answer (Run this code cell to receive credit!)\n",
    "step_6.solution()"
   ]
  },
  {
   "cell_type": "markdown",
   "id": "69bb3e32",
   "metadata": {
    "papermill": {
     "duration": 0.031465,
     "end_time": "2021-08-20T09:41:25.090289",
     "exception": false,
     "start_time": "2021-08-20T09:41:25.058824",
     "status": "completed"
    },
    "tags": []
   },
   "source": [
    "## Keep Going\n",
    "\n",
    "The next step is a big one. See how you can **[represent tokens as vectors that describe their meaning](https://www.kaggle.com/matleonard/word-vectors)**, and plug those into your machine learning models."
   ]
  },
  {
   "cell_type": "markdown",
   "id": "f03b5f76",
   "metadata": {
    "papermill": {
     "duration": 0.03128,
     "end_time": "2021-08-20T09:41:25.152904",
     "exception": false,
     "start_time": "2021-08-20T09:41:25.121624",
     "status": "completed"
    },
    "tags": []
   },
   "source": [
    "---\n",
    "\n",
    "\n",
    "\n",
    "\n",
    "*Have questions or comments? Visit the [Learn Discussion forum](https://www.kaggle.com/learn-forum/161466) to chat with other Learners.*"
   ]
  }
 ],
 "metadata": {
  "kernelspec": {
   "display_name": "Python 3",
   "language": "python",
   "name": "python3"
  },
  "language_info": {
   "codemirror_mode": {
    "name": "ipython",
    "version": 3
   },
   "file_extension": ".py",
   "mimetype": "text/x-python",
   "name": "python",
   "nbconvert_exporter": "python",
   "pygments_lexer": "ipython3",
   "version": "3.7.10"
  },
  "papermill": {
   "default_parameters": {},
   "duration": 870.932212,
   "end_time": "2021-08-20T09:41:25.995407",
   "environment_variables": {},
   "exception": null,
   "input_path": "__notebook__.ipynb",
   "output_path": "__notebook__.ipynb",
   "parameters": {},
   "start_time": "2021-08-20T09:26:55.063195",
   "version": "2.3.3"
  }
 },
 "nbformat": 4,
 "nbformat_minor": 5
}
