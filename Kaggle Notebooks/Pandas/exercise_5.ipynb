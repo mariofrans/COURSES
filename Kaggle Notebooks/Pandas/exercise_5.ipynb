{
 "cells": [
  {
   "cell_type": "markdown",
   "id": "72ce4610",
   "metadata": {
    "papermill": {
     "duration": 0.013688,
     "end_time": "2021-08-07T07:49:55.811661",
     "exception": false,
     "start_time": "2021-08-07T07:49:55.797973",
     "status": "completed"
    },
    "tags": []
   },
   "source": [
    "**This notebook is an exercise in the [Pandas](https://www.kaggle.com/learn/pandas) course.  You can reference the tutorial at [this link](https://www.kaggle.com/residentmario/data-types-and-missing-values).**\n",
    "\n",
    "---\n"
   ]
  },
  {
   "cell_type": "markdown",
   "id": "cd34425a",
   "metadata": {
    "papermill": {
     "duration": 0.01219,
     "end_time": "2021-08-07T07:49:55.836658",
     "exception": false,
     "start_time": "2021-08-07T07:49:55.824468",
     "status": "completed"
    },
    "tags": []
   },
   "source": [
    "# Introduction\n",
    "\n",
    "Run the following cell to load your data and some utility functions."
   ]
  },
  {
   "cell_type": "code",
   "execution_count": 1,
   "id": "d4f00545",
   "metadata": {
    "execution": {
     "iopub.execute_input": "2021-08-07T07:49:55.876233Z",
     "iopub.status.busy": "2021-08-07T07:49:55.875516Z",
     "iopub.status.idle": "2021-08-07T07:49:59.661853Z",
     "shell.execute_reply": "2021-08-07T07:49:59.660903Z",
     "shell.execute_reply.started": "2021-08-07T07:32:47.989092Z"
    },
    "papermill": {
     "duration": 3.812941,
     "end_time": "2021-08-07T07:49:59.662051",
     "exception": false,
     "start_time": "2021-08-07T07:49:55.849110",
     "status": "completed"
    },
    "tags": []
   },
   "outputs": [
    {
     "name": "stdout",
     "output_type": "stream",
     "text": [
      "Setup complete.\n"
     ]
    }
   ],
   "source": [
    "import pandas as pd\n",
    "\n",
    "reviews = pd.read_csv(\"../input/wine-reviews/winemag-data-130k-v2.csv\", index_col=0)\n",
    "\n",
    "from learntools.core import binder; binder.bind(globals())\n",
    "from learntools.pandas.data_types_and_missing_data import *\n",
    "print(\"Setup complete.\")"
   ]
  },
  {
   "cell_type": "markdown",
   "id": "c8dddcec",
   "metadata": {
    "papermill": {
     "duration": 0.013462,
     "end_time": "2021-08-07T07:49:59.689444",
     "exception": false,
     "start_time": "2021-08-07T07:49:59.675982",
     "status": "completed"
    },
    "tags": []
   },
   "source": [
    "# Exercises"
   ]
  },
  {
   "cell_type": "markdown",
   "id": "94e7b743",
   "metadata": {
    "papermill": {
     "duration": 0.013825,
     "end_time": "2021-08-07T07:49:59.718586",
     "exception": false,
     "start_time": "2021-08-07T07:49:59.704761",
     "status": "completed"
    },
    "tags": []
   },
   "source": [
    "## 1. \n",
    "What is the data type of the `points` column in the dataset?"
   ]
  },
  {
   "cell_type": "code",
   "execution_count": 2,
   "id": "eb9bf82a",
   "metadata": {
    "execution": {
     "iopub.execute_input": "2021-08-07T07:49:59.754902Z",
     "iopub.status.busy": "2021-08-07T07:49:59.754080Z",
     "iopub.status.idle": "2021-08-07T07:49:59.760084Z",
     "shell.execute_reply": "2021-08-07T07:49:59.760614Z",
     "shell.execute_reply.started": "2021-08-07T07:33:11.510263Z"
    },
    "papermill": {
     "duration": 0.028727,
     "end_time": "2021-08-07T07:49:59.760819",
     "exception": false,
     "start_time": "2021-08-07T07:49:59.732092",
     "status": "completed"
    },
    "tags": []
   },
   "outputs": [
    {
     "data": {
      "application/javascript": [
       "parent.postMessage({\"jupyterEvent\": \"custom.exercise_interaction\", \"data\": {\"outcomeType\": 1, \"valueTowardsCompletion\": 0.25, \"interactionType\": 1, \"questionType\": 1, \"questionId\": \"1_PointsDtype\", \"learnToolsVersion\": \"0.3.4\", \"failureMessage\": \"\", \"exceptionClass\": \"\", \"trace\": \"\"}}, \"*\")"
      ],
      "text/plain": [
       "<IPython.core.display.Javascript object>"
      ]
     },
     "metadata": {},
     "output_type": "display_data"
    },
    {
     "data": {
      "text/markdown": [
       "<span style=\"color:#33cc33\">Correct</span>"
      ],
      "text/plain": [
       "Correct"
      ]
     },
     "metadata": {},
     "output_type": "display_data"
    }
   ],
   "source": [
    "# Your code here\n",
    "dtype = reviews['points'].dtype\n",
    "\n",
    "# Check your answer\n",
    "q1.check()"
   ]
  },
  {
   "cell_type": "code",
   "execution_count": 3,
   "id": "727b9e09",
   "metadata": {
    "execution": {
     "iopub.execute_input": "2021-08-07T07:49:59.793671Z",
     "iopub.status.busy": "2021-08-07T07:49:59.792961Z",
     "iopub.status.idle": "2021-08-07T07:49:59.795964Z",
     "shell.execute_reply": "2021-08-07T07:49:59.796418Z"
    },
    "papermill": {
     "duration": 0.021821,
     "end_time": "2021-08-07T07:49:59.796663",
     "exception": false,
     "start_time": "2021-08-07T07:49:59.774842",
     "status": "completed"
    },
    "tags": []
   },
   "outputs": [],
   "source": [
    "#q1.hint()\n",
    "#q1.solution()"
   ]
  },
  {
   "cell_type": "markdown",
   "id": "1259bedd",
   "metadata": {
    "papermill": {
     "duration": 0.013963,
     "end_time": "2021-08-07T07:49:59.825974",
     "exception": false,
     "start_time": "2021-08-07T07:49:59.812011",
     "status": "completed"
    },
    "tags": []
   },
   "source": [
    "## 2. \n",
    "Create a Series from entries in the `points` column, but convert the entries to strings. Hint: strings are `str` in native Python."
   ]
  },
  {
   "cell_type": "code",
   "execution_count": 4,
   "id": "ec2c5982",
   "metadata": {
    "execution": {
     "iopub.execute_input": "2021-08-07T07:49:59.858789Z",
     "iopub.status.busy": "2021-08-07T07:49:59.858104Z",
     "iopub.status.idle": "2021-08-07T07:50:00.107623Z",
     "shell.execute_reply": "2021-08-07T07:50:00.108141Z",
     "shell.execute_reply.started": "2021-08-07T07:34:41.239768Z"
    },
    "papermill": {
     "duration": 0.267875,
     "end_time": "2021-08-07T07:50:00.108326",
     "exception": false,
     "start_time": "2021-08-07T07:49:59.840451",
     "status": "completed"
    },
    "tags": []
   },
   "outputs": [
    {
     "data": {
      "application/javascript": [
       "parent.postMessage({\"jupyterEvent\": \"custom.exercise_interaction\", \"data\": {\"outcomeType\": 1, \"valueTowardsCompletion\": 0.25, \"interactionType\": 1, \"questionType\": 1, \"questionId\": \"2_StrPoints\", \"learnToolsVersion\": \"0.3.4\", \"failureMessage\": \"\", \"exceptionClass\": \"\", \"trace\": \"\"}}, \"*\")"
      ],
      "text/plain": [
       "<IPython.core.display.Javascript object>"
      ]
     },
     "metadata": {},
     "output_type": "display_data"
    },
    {
     "data": {
      "text/markdown": [
       "<span style=\"color:#33cc33\">Correct</span>"
      ],
      "text/plain": [
       "Correct"
      ]
     },
     "metadata": {},
     "output_type": "display_data"
    }
   ],
   "source": [
    "point_strings = pd.Series(list(reviews['points'])).astype(str)\n",
    "\n",
    "# Check your answer\n",
    "q2.check()"
   ]
  },
  {
   "cell_type": "code",
   "execution_count": 5,
   "id": "11a2314a",
   "metadata": {
    "execution": {
     "iopub.execute_input": "2021-08-07T07:50:00.142734Z",
     "iopub.status.busy": "2021-08-07T07:50:00.142053Z",
     "iopub.status.idle": "2021-08-07T07:50:00.145467Z",
     "shell.execute_reply": "2021-08-07T07:50:00.144862Z",
     "shell.execute_reply.started": "2021-08-07T07:36:17.715140Z"
    },
    "papermill": {
     "duration": 0.02247,
     "end_time": "2021-08-07T07:50:00.145623",
     "exception": false,
     "start_time": "2021-08-07T07:50:00.123153",
     "status": "completed"
    },
    "tags": []
   },
   "outputs": [],
   "source": [
    "#q2.hint()\n",
    "#q2.solution()"
   ]
  },
  {
   "cell_type": "markdown",
   "id": "0abf91a0",
   "metadata": {
    "papermill": {
     "duration": 0.014402,
     "end_time": "2021-08-07T07:50:00.174673",
     "exception": false,
     "start_time": "2021-08-07T07:50:00.160271",
     "status": "completed"
    },
    "tags": []
   },
   "source": [
    "## 3.\n",
    "Sometimes the price column is null. How many reviews in the dataset are missing a price?"
   ]
  },
  {
   "cell_type": "code",
   "execution_count": 6,
   "id": "dbbd17e6",
   "metadata": {
    "execution": {
     "iopub.execute_input": "2021-08-07T07:50:00.210790Z",
     "iopub.status.busy": "2021-08-07T07:50:00.210127Z",
     "iopub.status.idle": "2021-08-07T07:50:00.226135Z",
     "shell.execute_reply": "2021-08-07T07:50:00.225454Z",
     "shell.execute_reply.started": "2021-08-07T07:37:47.796375Z"
    },
    "papermill": {
     "duration": 0.036598,
     "end_time": "2021-08-07T07:50:00.226276",
     "exception": false,
     "start_time": "2021-08-07T07:50:00.189678",
     "status": "completed"
    },
    "tags": []
   },
   "outputs": [
    {
     "data": {
      "application/javascript": [
       "parent.postMessage({\"jupyterEvent\": \"custom.exercise_interaction\", \"data\": {\"outcomeType\": 1, \"valueTowardsCompletion\": 0.25, \"interactionType\": 1, \"questionType\": 1, \"questionId\": \"3_CountMissingPrices\", \"learnToolsVersion\": \"0.3.4\", \"failureMessage\": \"\", \"exceptionClass\": \"\", \"trace\": \"\"}}, \"*\")"
      ],
      "text/plain": [
       "<IPython.core.display.Javascript object>"
      ]
     },
     "metadata": {},
     "output_type": "display_data"
    },
    {
     "data": {
      "text/markdown": [
       "<span style=\"color:#33cc33\">Correct</span>"
      ],
      "text/plain": [
       "Correct"
      ]
     },
     "metadata": {},
     "output_type": "display_data"
    }
   ],
   "source": [
    "n_missing_prices = len(reviews[pd.isnull(reviews['price'])])\n",
    "\n",
    "# Check your answer\n",
    "q3.check()"
   ]
  },
  {
   "cell_type": "code",
   "execution_count": 7,
   "id": "16c4436c",
   "metadata": {
    "execution": {
     "iopub.execute_input": "2021-08-07T07:50:00.262810Z",
     "iopub.status.busy": "2021-08-07T07:50:00.262120Z",
     "iopub.status.idle": "2021-08-07T07:50:00.265332Z",
     "shell.execute_reply": "2021-08-07T07:50:00.264847Z",
     "shell.execute_reply.started": "2021-08-07T07:38:27.213547Z"
    },
    "papermill": {
     "duration": 0.023217,
     "end_time": "2021-08-07T07:50:00.265479",
     "exception": false,
     "start_time": "2021-08-07T07:50:00.242262",
     "status": "completed"
    },
    "tags": []
   },
   "outputs": [],
   "source": [
    "#q3.hint()\n",
    "#q3.solution()"
   ]
  },
  {
   "cell_type": "markdown",
   "id": "5640122e",
   "metadata": {
    "papermill": {
     "duration": 0.015394,
     "end_time": "2021-08-07T07:50:00.296800",
     "exception": false,
     "start_time": "2021-08-07T07:50:00.281406",
     "status": "completed"
    },
    "tags": []
   },
   "source": [
    "## 4.\n",
    "What are the most common wine-producing regions? Create a Series counting the number of times each value occurs in the `region_1` field. This field is often missing data, so replace missing values with `Unknown`. Sort in descending order.  Your output should look something like this:\n",
    "\n",
    "```\n",
    "Unknown                    21247\n",
    "Napa Valley                 4480\n",
    "                           ...  \n",
    "Bardolino Superiore            1\n",
    "Primitivo del Tarantino        1\n",
    "Name: region_1, Length: 1230, dtype: int64\n",
    "```"
   ]
  },
  {
   "cell_type": "code",
   "execution_count": 8,
   "id": "99328b34",
   "metadata": {
    "execution": {
     "iopub.execute_input": "2021-08-07T07:50:00.346062Z",
     "iopub.status.busy": "2021-08-07T07:50:00.345368Z",
     "iopub.status.idle": "2021-08-07T07:50:00.433589Z",
     "shell.execute_reply": "2021-08-07T07:50:00.434098Z",
     "shell.execute_reply.started": "2021-08-07T07:48:46.702035Z"
    },
    "papermill": {
     "duration": 0.121767,
     "end_time": "2021-08-07T07:50:00.434279",
     "exception": false,
     "start_time": "2021-08-07T07:50:00.312512",
     "status": "completed"
    },
    "tags": []
   },
   "outputs": [
    {
     "data": {
      "application/javascript": [
       "parent.postMessage({\"jupyterEvent\": \"custom.exercise_interaction\", \"data\": {\"outcomeType\": 1, \"valueTowardsCompletion\": 0.25, \"interactionType\": 1, \"questionType\": 2, \"questionId\": \"4_ReviewsPerRegion\", \"learnToolsVersion\": \"0.3.4\", \"failureMessage\": \"\", \"exceptionClass\": \"\", \"trace\": \"\"}}, \"*\")"
      ],
      "text/plain": [
       "<IPython.core.display.Javascript object>"
      ]
     },
     "metadata": {},
     "output_type": "display_data"
    },
    {
     "data": {
      "text/markdown": [
       "<span style=\"color:#33cc33\">Correct</span>"
      ],
      "text/plain": [
       "Correct"
      ]
     },
     "metadata": {},
     "output_type": "display_data"
    }
   ],
   "source": [
    "reviews_per_region = reviews['region_1'].fillna(\"Unknown\").value_counts()\n",
    "reviews_per_region = reviews_per_region.sort_values(ascending=False)\n",
    "\n",
    "# Check your answer\n",
    "q4.check()"
   ]
  },
  {
   "cell_type": "code",
   "execution_count": 9,
   "id": "b51e4cbc",
   "metadata": {
    "execution": {
     "iopub.execute_input": "2021-08-07T07:50:00.472329Z",
     "iopub.status.busy": "2021-08-07T07:50:00.471725Z",
     "iopub.status.idle": "2021-08-07T07:50:00.474067Z",
     "shell.execute_reply": "2021-08-07T07:50:00.474522Z",
     "shell.execute_reply.started": "2021-08-07T07:49:19.334134Z"
    },
    "papermill": {
     "duration": 0.023737,
     "end_time": "2021-08-07T07:50:00.474703",
     "exception": false,
     "start_time": "2021-08-07T07:50:00.450966",
     "status": "completed"
    },
    "tags": []
   },
   "outputs": [],
   "source": [
    "#q4.hint()\n",
    "#q4.solution()"
   ]
  },
  {
   "cell_type": "markdown",
   "id": "581feb53",
   "metadata": {
    "papermill": {
     "duration": 0.01626,
     "end_time": "2021-08-07T07:50:00.507658",
     "exception": false,
     "start_time": "2021-08-07T07:50:00.491398",
     "status": "completed"
    },
    "tags": []
   },
   "source": [
    "# Keep going\n",
    "\n",
    "Move on to **[renaming and combining](https://www.kaggle.com/residentmario/renaming-and-combining)**."
   ]
  },
  {
   "cell_type": "markdown",
   "id": "ddf197eb",
   "metadata": {
    "papermill": {
     "duration": 0.016372,
     "end_time": "2021-08-07T07:50:00.540686",
     "exception": false,
     "start_time": "2021-08-07T07:50:00.524314",
     "status": "completed"
    },
    "tags": []
   },
   "source": [
    "---\n",
    "\n",
    "\n",
    "\n",
    "\n",
    "*Have questions or comments? Visit the [Learn Discussion forum](https://www.kaggle.com/learn-forum/161299) to chat with other Learners.*"
   ]
  }
 ],
 "metadata": {
  "kernelspec": {
   "display_name": "Python 3",
   "language": "python",
   "name": "python3"
  },
  "language_info": {
   "codemirror_mode": {
    "name": "ipython",
    "version": 3
   },
   "file_extension": ".py",
   "mimetype": "text/x-python",
   "name": "python",
   "nbconvert_exporter": "python",
   "pygments_lexer": "ipython3",
   "version": "3.7.10"
  },
  "papermill": {
   "default_parameters": {},
   "duration": 14.902022,
   "end_time": "2021-08-07T07:50:01.865270",
   "environment_variables": {},
   "exception": null,
   "input_path": "__notebook__.ipynb",
   "output_path": "__notebook__.ipynb",
   "parameters": {},
   "start_time": "2021-08-07T07:49:46.963248",
   "version": "2.3.3"
  }
 },
 "nbformat": 4,
 "nbformat_minor": 5
}
