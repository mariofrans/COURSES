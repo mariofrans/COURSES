{
 "cells": [
  {
   "cell_type": "markdown",
   "id": "9ad5c135",
   "metadata": {
    "papermill": {
     "duration": 0.019229,
     "end_time": "2021-08-07T07:31:17.547641",
     "exception": false,
     "start_time": "2021-08-07T07:31:17.528412",
     "status": "completed"
    },
    "tags": []
   },
   "source": [
    "**This notebook is an exercise in the [Pandas](https://www.kaggle.com/learn/pandas) course.  You can reference the tutorial at [this link](https://www.kaggle.com/residentmario/summary-functions-and-maps).**\n",
    "\n",
    "---\n"
   ]
  },
  {
   "cell_type": "markdown",
   "id": "7f2308c4",
   "metadata": {
    "papermill": {
     "duration": 0.020781,
     "end_time": "2021-08-07T07:31:17.590432",
     "exception": false,
     "start_time": "2021-08-07T07:31:17.569651",
     "status": "completed"
    },
    "tags": []
   },
   "source": [
    "# Introduction\n",
    "\n",
    "Now you are ready to get a deeper understanding of your data.\n",
    "\n",
    "Run the following cell to load your data and some utility functions (including code to check your answers)."
   ]
  },
  {
   "cell_type": "code",
   "execution_count": 1,
   "id": "f02315e9",
   "metadata": {
    "execution": {
     "iopub.execute_input": "2021-08-07T07:31:17.649465Z",
     "iopub.status.busy": "2021-08-07T07:31:17.648382Z",
     "iopub.status.idle": "2021-08-07T07:31:25.779381Z",
     "shell.execute_reply": "2021-08-07T07:31:25.780036Z",
     "shell.execute_reply.started": "2021-08-07T04:08:15.291109Z"
    },
    "papermill": {
     "duration": 8.161462,
     "end_time": "2021-08-07T07:31:25.780361",
     "exception": false,
     "start_time": "2021-08-07T07:31:17.618899",
     "status": "completed"
    },
    "tags": []
   },
   "outputs": [
    {
     "name": "stdout",
     "output_type": "stream",
     "text": [
      "Setup complete.\n"
     ]
    },
    {
     "data": {
      "text/html": [
       "<div>\n",
       "<style scoped>\n",
       "    .dataframe tbody tr th:only-of-type {\n",
       "        vertical-align: middle;\n",
       "    }\n",
       "\n",
       "    .dataframe tbody tr th {\n",
       "        vertical-align: top;\n",
       "    }\n",
       "\n",
       "    .dataframe thead th {\n",
       "        text-align: right;\n",
       "    }\n",
       "</style>\n",
       "<table border=\"1\" class=\"dataframe\">\n",
       "  <thead>\n",
       "    <tr style=\"text-align: right;\">\n",
       "      <th></th>\n",
       "      <th>country</th>\n",
       "      <th>description</th>\n",
       "      <th>designation</th>\n",
       "      <th>points</th>\n",
       "      <th>price</th>\n",
       "      <th>province</th>\n",
       "      <th>region_1</th>\n",
       "      <th>region_2</th>\n",
       "      <th>taster_name</th>\n",
       "      <th>taster_twitter_handle</th>\n",
       "      <th>title</th>\n",
       "      <th>variety</th>\n",
       "      <th>winery</th>\n",
       "    </tr>\n",
       "  </thead>\n",
       "  <tbody>\n",
       "    <tr>\n",
       "      <th>0</th>\n",
       "      <td>Italy</td>\n",
       "      <td>Aromas include tropical fruit, broom, brimston...</td>\n",
       "      <td>Vulkà Bianco</td>\n",
       "      <td>87</td>\n",
       "      <td>NaN</td>\n",
       "      <td>Sicily &amp; Sardinia</td>\n",
       "      <td>Etna</td>\n",
       "      <td>NaN</td>\n",
       "      <td>Kerin O’Keefe</td>\n",
       "      <td>@kerinokeefe</td>\n",
       "      <td>Nicosia 2013 Vulkà Bianco  (Etna)</td>\n",
       "      <td>White Blend</td>\n",
       "      <td>Nicosia</td>\n",
       "    </tr>\n",
       "    <tr>\n",
       "      <th>1</th>\n",
       "      <td>Portugal</td>\n",
       "      <td>This is ripe and fruity, a wine that is smooth...</td>\n",
       "      <td>Avidagos</td>\n",
       "      <td>87</td>\n",
       "      <td>15.0</td>\n",
       "      <td>Douro</td>\n",
       "      <td>NaN</td>\n",
       "      <td>NaN</td>\n",
       "      <td>Roger Voss</td>\n",
       "      <td>@vossroger</td>\n",
       "      <td>Quinta dos Avidagos 2011 Avidagos Red (Douro)</td>\n",
       "      <td>Portuguese Red</td>\n",
       "      <td>Quinta dos Avidagos</td>\n",
       "    </tr>\n",
       "    <tr>\n",
       "      <th>2</th>\n",
       "      <td>US</td>\n",
       "      <td>Tart and snappy, the flavors of lime flesh and...</td>\n",
       "      <td>NaN</td>\n",
       "      <td>87</td>\n",
       "      <td>14.0</td>\n",
       "      <td>Oregon</td>\n",
       "      <td>Willamette Valley</td>\n",
       "      <td>Willamette Valley</td>\n",
       "      <td>Paul Gregutt</td>\n",
       "      <td>@paulgwine</td>\n",
       "      <td>Rainstorm 2013 Pinot Gris (Willamette Valley)</td>\n",
       "      <td>Pinot Gris</td>\n",
       "      <td>Rainstorm</td>\n",
       "    </tr>\n",
       "    <tr>\n",
       "      <th>3</th>\n",
       "      <td>US</td>\n",
       "      <td>Pineapple rind, lemon pith and orange blossom ...</td>\n",
       "      <td>Reserve Late Harvest</td>\n",
       "      <td>87</td>\n",
       "      <td>13.0</td>\n",
       "      <td>Michigan</td>\n",
       "      <td>Lake Michigan Shore</td>\n",
       "      <td>NaN</td>\n",
       "      <td>Alexander Peartree</td>\n",
       "      <td>NaN</td>\n",
       "      <td>St. Julian 2013 Reserve Late Harvest Riesling ...</td>\n",
       "      <td>Riesling</td>\n",
       "      <td>St. Julian</td>\n",
       "    </tr>\n",
       "    <tr>\n",
       "      <th>4</th>\n",
       "      <td>US</td>\n",
       "      <td>Much like the regular bottling from 2012, this...</td>\n",
       "      <td>Vintner's Reserve Wild Child Block</td>\n",
       "      <td>87</td>\n",
       "      <td>65.0</td>\n",
       "      <td>Oregon</td>\n",
       "      <td>Willamette Valley</td>\n",
       "      <td>Willamette Valley</td>\n",
       "      <td>Paul Gregutt</td>\n",
       "      <td>@paulgwine</td>\n",
       "      <td>Sweet Cheeks 2012 Vintner's Reserve Wild Child...</td>\n",
       "      <td>Pinot Noir</td>\n",
       "      <td>Sweet Cheeks</td>\n",
       "    </tr>\n",
       "  </tbody>\n",
       "</table>\n",
       "</div>"
      ],
      "text/plain": [
       "    country                                        description  \\\n",
       "0     Italy  Aromas include tropical fruit, broom, brimston...   \n",
       "1  Portugal  This is ripe and fruity, a wine that is smooth...   \n",
       "2        US  Tart and snappy, the flavors of lime flesh and...   \n",
       "3        US  Pineapple rind, lemon pith and orange blossom ...   \n",
       "4        US  Much like the regular bottling from 2012, this...   \n",
       "\n",
       "                          designation  points  price           province  \\\n",
       "0                        Vulkà Bianco      87    NaN  Sicily & Sardinia   \n",
       "1                            Avidagos      87   15.0              Douro   \n",
       "2                                 NaN      87   14.0             Oregon   \n",
       "3                Reserve Late Harvest      87   13.0           Michigan   \n",
       "4  Vintner's Reserve Wild Child Block      87   65.0             Oregon   \n",
       "\n",
       "              region_1           region_2         taster_name  \\\n",
       "0                 Etna                NaN       Kerin O’Keefe   \n",
       "1                  NaN                NaN          Roger Voss   \n",
       "2    Willamette Valley  Willamette Valley        Paul Gregutt   \n",
       "3  Lake Michigan Shore                NaN  Alexander Peartree   \n",
       "4    Willamette Valley  Willamette Valley        Paul Gregutt   \n",
       "\n",
       "  taster_twitter_handle                                              title  \\\n",
       "0          @kerinokeefe                  Nicosia 2013 Vulkà Bianco  (Etna)   \n",
       "1            @vossroger      Quinta dos Avidagos 2011 Avidagos Red (Douro)   \n",
       "2           @paulgwine       Rainstorm 2013 Pinot Gris (Willamette Valley)   \n",
       "3                   NaN  St. Julian 2013 Reserve Late Harvest Riesling ...   \n",
       "4           @paulgwine   Sweet Cheeks 2012 Vintner's Reserve Wild Child...   \n",
       "\n",
       "          variety               winery  \n",
       "0     White Blend              Nicosia  \n",
       "1  Portuguese Red  Quinta dos Avidagos  \n",
       "2      Pinot Gris            Rainstorm  \n",
       "3        Riesling           St. Julian  \n",
       "4      Pinot Noir         Sweet Cheeks  "
      ]
     },
     "execution_count": 1,
     "metadata": {},
     "output_type": "execute_result"
    }
   ],
   "source": [
    "import pandas as pd\n",
    "pd.set_option(\"display.max_rows\", 5)\n",
    "reviews = pd.read_csv(\"../input/wine-reviews/winemag-data-130k-v2.csv\", index_col=0)\n",
    "\n",
    "from learntools.core import binder; binder.bind(globals())\n",
    "from learntools.pandas.summary_functions_and_maps import *\n",
    "print(\"Setup complete.\")\n",
    "\n",
    "reviews.head()"
   ]
  },
  {
   "cell_type": "markdown",
   "id": "3fb10d63",
   "metadata": {
    "papermill": {
     "duration": 0.025208,
     "end_time": "2021-08-07T07:31:25.838053",
     "exception": false,
     "start_time": "2021-08-07T07:31:25.812845",
     "status": "completed"
    },
    "tags": []
   },
   "source": [
    "# Exercises"
   ]
  },
  {
   "cell_type": "markdown",
   "id": "609e17d7",
   "metadata": {
    "papermill": {
     "duration": 0.01948,
     "end_time": "2021-08-07T07:31:25.877614",
     "exception": false,
     "start_time": "2021-08-07T07:31:25.858134",
     "status": "completed"
    },
    "tags": []
   },
   "source": [
    "## 1.\n",
    "\n",
    "What is the median of the `points` column in the `reviews` DataFrame?"
   ]
  },
  {
   "cell_type": "code",
   "execution_count": 2,
   "id": "36fc1d18",
   "metadata": {
    "execution": {
     "iopub.execute_input": "2021-08-07T07:31:25.927455Z",
     "iopub.status.busy": "2021-08-07T07:31:25.926497Z",
     "iopub.status.idle": "2021-08-07T07:31:25.934712Z",
     "shell.execute_reply": "2021-08-07T07:31:25.935306Z",
     "shell.execute_reply.started": "2021-08-07T04:08:24.645115Z"
    },
    "papermill": {
     "duration": 0.038,
     "end_time": "2021-08-07T07:31:25.935479",
     "exception": false,
     "start_time": "2021-08-07T07:31:25.897479",
     "status": "completed"
    },
    "tags": []
   },
   "outputs": [
    {
     "data": {
      "application/javascript": [
       "parent.postMessage({\"jupyterEvent\": \"custom.exercise_interaction\", \"data\": {\"outcomeType\": 1, \"valueTowardsCompletion\": 0.14285714285714285, \"interactionType\": 1, \"questionType\": 1, \"questionId\": \"1_MedianPoints\", \"learnToolsVersion\": \"0.3.4\", \"failureMessage\": \"\", \"exceptionClass\": \"\", \"trace\": \"\"}}, \"*\")"
      ],
      "text/plain": [
       "<IPython.core.display.Javascript object>"
      ]
     },
     "metadata": {},
     "output_type": "display_data"
    },
    {
     "data": {
      "text/markdown": [
       "<span style=\"color:#33cc33\">Correct</span>"
      ],
      "text/plain": [
       "Correct"
      ]
     },
     "metadata": {},
     "output_type": "display_data"
    }
   ],
   "source": [
    "median_points = reviews['points'].median()\n",
    "\n",
    "# Check your answer\n",
    "q1.check()"
   ]
  },
  {
   "cell_type": "code",
   "execution_count": 3,
   "id": "69949bb6",
   "metadata": {
    "execution": {
     "iopub.execute_input": "2021-08-07T07:31:25.979865Z",
     "iopub.status.busy": "2021-08-07T07:31:25.979220Z",
     "iopub.status.idle": "2021-08-07T07:31:25.983683Z",
     "shell.execute_reply": "2021-08-07T07:31:25.984251Z"
    },
    "papermill": {
     "duration": 0.028635,
     "end_time": "2021-08-07T07:31:25.984420",
     "exception": false,
     "start_time": "2021-08-07T07:31:25.955785",
     "status": "completed"
    },
    "tags": []
   },
   "outputs": [],
   "source": [
    "#q1.hint()\n",
    "#q1.solution()"
   ]
  },
  {
   "cell_type": "markdown",
   "id": "9cb9d9e4",
   "metadata": {
    "papermill": {
     "duration": 0.020393,
     "end_time": "2021-08-07T07:31:26.025167",
     "exception": false,
     "start_time": "2021-08-07T07:31:26.004774",
     "status": "completed"
    },
    "tags": []
   },
   "source": [
    "## 2. \n",
    "What countries are represented in the dataset? (Your answer should not include any duplicates.)"
   ]
  },
  {
   "cell_type": "code",
   "execution_count": 4,
   "id": "3dd90cb6",
   "metadata": {
    "execution": {
     "iopub.execute_input": "2021-08-07T07:31:26.105217Z",
     "iopub.status.busy": "2021-08-07T07:31:26.104213Z",
     "iopub.status.idle": "2021-08-07T07:31:26.109719Z",
     "shell.execute_reply": "2021-08-07T07:31:26.110396Z",
     "shell.execute_reply.started": "2021-08-07T04:08:27.306996Z"
    },
    "papermill": {
     "duration": 0.060203,
     "end_time": "2021-08-07T07:31:26.110648",
     "exception": false,
     "start_time": "2021-08-07T07:31:26.050445",
     "status": "completed"
    },
    "tags": []
   },
   "outputs": [
    {
     "data": {
      "application/javascript": [
       "parent.postMessage({\"jupyterEvent\": \"custom.exercise_interaction\", \"data\": {\"outcomeType\": 1, \"valueTowardsCompletion\": 0.14285714285714285, \"interactionType\": 1, \"questionType\": 2, \"questionId\": \"2_UniqueCountries\", \"learnToolsVersion\": \"0.3.4\", \"failureMessage\": \"\", \"exceptionClass\": \"\", \"trace\": \"\"}}, \"*\")"
      ],
      "text/plain": [
       "<IPython.core.display.Javascript object>"
      ]
     },
     "metadata": {},
     "output_type": "display_data"
    },
    {
     "data": {
      "text/markdown": [
       "<span style=\"color:#33cc33\">Correct</span>"
      ],
      "text/plain": [
       "Correct"
      ]
     },
     "metadata": {},
     "output_type": "display_data"
    }
   ],
   "source": [
    "countries = list(dict.fromkeys(list(reviews['country'])))\n",
    "\n",
    "# Check your answer\n",
    "q2.check()"
   ]
  },
  {
   "cell_type": "code",
   "execution_count": 5,
   "id": "d84f39cb",
   "metadata": {
    "execution": {
     "iopub.execute_input": "2021-08-07T07:31:26.162813Z",
     "iopub.status.busy": "2021-08-07T07:31:26.162096Z",
     "iopub.status.idle": "2021-08-07T07:31:26.165267Z",
     "shell.execute_reply": "2021-08-07T07:31:26.164671Z"
    },
    "papermill": {
     "duration": 0.0298,
     "end_time": "2021-08-07T07:31:26.165412",
     "exception": false,
     "start_time": "2021-08-07T07:31:26.135612",
     "status": "completed"
    },
    "tags": []
   },
   "outputs": [],
   "source": [
    "#q2.hint()\n",
    "#q2.solution()"
   ]
  },
  {
   "cell_type": "markdown",
   "id": "18d3861b",
   "metadata": {
    "papermill": {
     "duration": 0.022365,
     "end_time": "2021-08-07T07:31:26.210260",
     "exception": false,
     "start_time": "2021-08-07T07:31:26.187895",
     "status": "completed"
    },
    "tags": []
   },
   "source": [
    "## 3.\n",
    "How often does each country appear in the dataset? Create a Series `reviews_per_country` mapping countries to the count of reviews of wines from that country."
   ]
  },
  {
   "cell_type": "code",
   "execution_count": 6,
   "id": "c88f0f20",
   "metadata": {
    "execution": {
     "iopub.execute_input": "2021-08-07T07:31:26.296418Z",
     "iopub.status.busy": "2021-08-07T07:31:26.293011Z",
     "iopub.status.idle": "2021-08-07T07:31:26.306263Z",
     "shell.execute_reply": "2021-08-07T07:31:26.305305Z",
     "shell.execute_reply.started": "2021-08-07T04:08:32.1621Z"
    },
    "papermill": {
     "duration": 0.073465,
     "end_time": "2021-08-07T07:31:26.306417",
     "exception": false,
     "start_time": "2021-08-07T07:31:26.232952",
     "status": "completed"
    },
    "tags": []
   },
   "outputs": [
    {
     "data": {
      "application/javascript": [
       "parent.postMessage({\"jupyterEvent\": \"custom.exercise_interaction\", \"data\": {\"outcomeType\": 1, \"valueTowardsCompletion\": 0.14285714285714285, \"interactionType\": 1, \"questionType\": 1, \"questionId\": \"3_ReviewsPerCountry\", \"learnToolsVersion\": \"0.3.4\", \"failureMessage\": \"\", \"exceptionClass\": \"\", \"trace\": \"\"}}, \"*\")"
      ],
      "text/plain": [
       "<IPython.core.display.Javascript object>"
      ]
     },
     "metadata": {},
     "output_type": "display_data"
    },
    {
     "data": {
      "text/markdown": [
       "<span style=\"color:#33cc33\">Correct</span>"
      ],
      "text/plain": [
       "Correct"
      ]
     },
     "metadata": {},
     "output_type": "display_data"
    }
   ],
   "source": [
    "reviews_per_country = reviews.country.value_counts()\n",
    "\n",
    "# Check your answer\n",
    "q3.check()"
   ]
  },
  {
   "cell_type": "code",
   "execution_count": 7,
   "id": "5bbdd544",
   "metadata": {
    "execution": {
     "iopub.execute_input": "2021-08-07T07:31:26.358736Z",
     "iopub.status.busy": "2021-08-07T07:31:26.358039Z",
     "iopub.status.idle": "2021-08-07T07:31:26.360867Z",
     "shell.execute_reply": "2021-08-07T07:31:26.361351Z",
     "shell.execute_reply.started": "2021-08-07T03:46:42.50566Z"
    },
    "papermill": {
     "duration": 0.031283,
     "end_time": "2021-08-07T07:31:26.361516",
     "exception": false,
     "start_time": "2021-08-07T07:31:26.330233",
     "status": "completed"
    },
    "tags": []
   },
   "outputs": [],
   "source": [
    "#q3.hint()\n",
    "#q3.solution()"
   ]
  },
  {
   "cell_type": "markdown",
   "id": "909e8ca6",
   "metadata": {
    "papermill": {
     "duration": 0.022983,
     "end_time": "2021-08-07T07:31:26.407945",
     "exception": false,
     "start_time": "2021-08-07T07:31:26.384962",
     "status": "completed"
    },
    "tags": []
   },
   "source": [
    "## 4.\n",
    "Create variable `centered_price` containing a version of the `price` column with the mean price subtracted.\n",
    "\n",
    "(Note: this 'centering' transformation is a common preprocessing step before applying various machine learning algorithms.) "
   ]
  },
  {
   "cell_type": "code",
   "execution_count": 8,
   "id": "a2d42884",
   "metadata": {
    "execution": {
     "iopub.execute_input": "2021-08-07T07:31:26.460748Z",
     "iopub.status.busy": "2021-08-07T07:31:26.459678Z",
     "iopub.status.idle": "2021-08-07T07:31:26.468712Z",
     "shell.execute_reply": "2021-08-07T07:31:26.468134Z",
     "shell.execute_reply.started": "2021-08-07T04:10:39.234688Z"
    },
    "papermill": {
     "duration": 0.037403,
     "end_time": "2021-08-07T07:31:26.468867",
     "exception": false,
     "start_time": "2021-08-07T07:31:26.431464",
     "status": "completed"
    },
    "tags": []
   },
   "outputs": [
    {
     "data": {
      "application/javascript": [
       "parent.postMessage({\"jupyterEvent\": \"custom.exercise_interaction\", \"data\": {\"outcomeType\": 1, \"valueTowardsCompletion\": 0.14285714285714285, \"interactionType\": 1, \"questionType\": 1, \"questionId\": \"4_CenteredPrice\", \"learnToolsVersion\": \"0.3.4\", \"failureMessage\": \"\", \"exceptionClass\": \"\", \"trace\": \"\"}}, \"*\")"
      ],
      "text/plain": [
       "<IPython.core.display.Javascript object>"
      ]
     },
     "metadata": {},
     "output_type": "display_data"
    },
    {
     "data": {
      "text/markdown": [
       "<span style=\"color:#33cc33\">Correct</span>"
      ],
      "text/plain": [
       "Correct"
      ]
     },
     "metadata": {},
     "output_type": "display_data"
    }
   ],
   "source": [
    "centered_price = reviews.price - reviews.price.mean()\n",
    "\n",
    "# Check your answer\n",
    "q4.check()"
   ]
  },
  {
   "cell_type": "code",
   "execution_count": 9,
   "id": "97991ba7",
   "metadata": {
    "execution": {
     "iopub.execute_input": "2021-08-07T07:31:26.520471Z",
     "iopub.status.busy": "2021-08-07T07:31:26.519805Z",
     "iopub.status.idle": "2021-08-07T07:31:26.524169Z",
     "shell.execute_reply": "2021-08-07T07:31:26.523503Z",
     "shell.execute_reply.started": "2021-08-07T04:10:36.33323Z"
    },
    "papermill": {
     "duration": 0.031539,
     "end_time": "2021-08-07T07:31:26.524316",
     "exception": false,
     "start_time": "2021-08-07T07:31:26.492777",
     "status": "completed"
    },
    "tags": []
   },
   "outputs": [],
   "source": [
    "#q4.hint()\n",
    "#q4.solution()"
   ]
  },
  {
   "cell_type": "markdown",
   "id": "f616cdd4",
   "metadata": {
    "papermill": {
     "duration": 0.023531,
     "end_time": "2021-08-07T07:31:26.574201",
     "exception": false,
     "start_time": "2021-08-07T07:31:26.550670",
     "status": "completed"
    },
    "tags": []
   },
   "source": [
    "## 5.\n",
    "I'm an economical wine buyer. Which wine is the \"best bargain\"? Create a variable `bargain_wine` with the title of the wine with the highest points-to-price ratio in the dataset."
   ]
  },
  {
   "cell_type": "code",
   "execution_count": 10,
   "id": "2736b427",
   "metadata": {
    "execution": {
     "iopub.execute_input": "2021-08-07T07:31:26.628924Z",
     "iopub.status.busy": "2021-08-07T07:31:26.628252Z",
     "iopub.status.idle": "2021-08-07T07:31:26.640178Z",
     "shell.execute_reply": "2021-08-07T07:31:26.639572Z",
     "shell.execute_reply.started": "2021-08-07T04:14:14.085173Z"
    },
    "papermill": {
     "duration": 0.04172,
     "end_time": "2021-08-07T07:31:26.640320",
     "exception": false,
     "start_time": "2021-08-07T07:31:26.598600",
     "status": "completed"
    },
    "tags": []
   },
   "outputs": [
    {
     "data": {
      "application/javascript": [
       "parent.postMessage({\"jupyterEvent\": \"custom.exercise_interaction\", \"data\": {\"outcomeType\": 1, \"valueTowardsCompletion\": 0.14285714285714285, \"interactionType\": 1, \"questionType\": 2, \"questionId\": \"5_BargainWine\", \"learnToolsVersion\": \"0.3.4\", \"failureMessage\": \"\", \"exceptionClass\": \"\", \"trace\": \"\"}}, \"*\")"
      ],
      "text/plain": [
       "<IPython.core.display.Javascript object>"
      ]
     },
     "metadata": {},
     "output_type": "display_data"
    },
    {
     "data": {
      "text/markdown": [
       "<span style=\"color:#33cc33\">Correct</span>"
      ],
      "text/plain": [
       "Correct"
      ]
     },
     "metadata": {},
     "output_type": "display_data"
    }
   ],
   "source": [
    "bargain_idx = (reviews.points / reviews.price).idxmax()\n",
    "bargain_wine = reviews.loc[bargain_idx, 'title']\n",
    "\n",
    "# Check your answer\n",
    "q5.check()"
   ]
  },
  {
   "cell_type": "code",
   "execution_count": 11,
   "id": "702369fc",
   "metadata": {
    "execution": {
     "iopub.execute_input": "2021-08-07T07:31:26.695480Z",
     "iopub.status.busy": "2021-08-07T07:31:26.694878Z",
     "iopub.status.idle": "2021-08-07T07:31:26.697990Z",
     "shell.execute_reply": "2021-08-07T07:31:26.697422Z",
     "shell.execute_reply.started": "2021-08-07T04:14:20.830146Z"
    },
    "papermill": {
     "duration": 0.031866,
     "end_time": "2021-08-07T07:31:26.698140",
     "exception": false,
     "start_time": "2021-08-07T07:31:26.666274",
     "status": "completed"
    },
    "tags": []
   },
   "outputs": [],
   "source": [
    "#q5.hint()\n",
    "#q5.solution()"
   ]
  },
  {
   "cell_type": "markdown",
   "id": "9cd3b5f2",
   "metadata": {
    "papermill": {
     "duration": 0.024662,
     "end_time": "2021-08-07T07:31:26.747922",
     "exception": false,
     "start_time": "2021-08-07T07:31:26.723260",
     "status": "completed"
    },
    "tags": []
   },
   "source": [
    "## 6.\n",
    "There are only so many words you can use when describing a bottle of wine. Is a wine more likely to be \"tropical\" or \"fruity\"? Create a Series `descriptor_counts` counting how many times each of these two words appears in the `description` column in the dataset."
   ]
  },
  {
   "cell_type": "code",
   "execution_count": 12,
   "id": "c66963f2",
   "metadata": {
    "execution": {
     "iopub.execute_input": "2021-08-07T07:31:26.810153Z",
     "iopub.status.busy": "2021-08-07T07:31:26.809256Z",
     "iopub.status.idle": "2021-08-07T07:31:26.965490Z",
     "shell.execute_reply": "2021-08-07T07:31:26.966070Z",
     "shell.execute_reply.started": "2021-08-07T04:21:15.057941Z"
    },
    "papermill": {
     "duration": 0.193198,
     "end_time": "2021-08-07T07:31:26.966244",
     "exception": false,
     "start_time": "2021-08-07T07:31:26.773046",
     "status": "completed"
    },
    "tags": []
   },
   "outputs": [
    {
     "data": {
      "application/javascript": [
       "parent.postMessage({\"jupyterEvent\": \"custom.exercise_interaction\", \"data\": {\"outcomeType\": 1, \"valueTowardsCompletion\": 0.14285714285714285, \"interactionType\": 1, \"questionType\": 1, \"questionId\": \"6_DescriptorCounts\", \"learnToolsVersion\": \"0.3.4\", \"failureMessage\": \"\", \"exceptionClass\": \"\", \"trace\": \"\"}}, \"*\")"
      ],
      "text/plain": [
       "<IPython.core.display.Javascript object>"
      ]
     },
     "metadata": {},
     "output_type": "display_data"
    },
    {
     "data": {
      "text/markdown": [
       "<span style=\"color:#33cc33\">Correct</span>"
      ],
      "text/plain": [
       "Correct"
      ]
     },
     "metadata": {},
     "output_type": "display_data"
    }
   ],
   "source": [
    "n_trop = reviews.description.map(lambda desc: \"tropical\" in desc).sum()\n",
    "n_fruity = reviews.description.map(lambda desc: \"fruity\" in desc).sum()\n",
    "descriptor_counts = pd.Series([n_trop, n_fruity], index=['tropical', 'fruity'])\n",
    "\n",
    "# Check your answer\n",
    "q6.check()"
   ]
  },
  {
   "cell_type": "code",
   "execution_count": 13,
   "id": "8281ab34",
   "metadata": {
    "execution": {
     "iopub.execute_input": "2021-08-07T07:31:27.024306Z",
     "iopub.status.busy": "2021-08-07T07:31:27.023150Z",
     "iopub.status.idle": "2021-08-07T07:31:27.025890Z",
     "shell.execute_reply": "2021-08-07T07:31:27.026350Z",
     "shell.execute_reply.started": "2021-08-07T04:18:08.953565Z"
    },
    "papermill": {
     "duration": 0.033152,
     "end_time": "2021-08-07T07:31:27.026527",
     "exception": false,
     "start_time": "2021-08-07T07:31:26.993375",
     "status": "completed"
    },
    "tags": []
   },
   "outputs": [],
   "source": [
    "#q6.hint()\n",
    "#q6.solution()"
   ]
  },
  {
   "cell_type": "markdown",
   "id": "e575e918",
   "metadata": {
    "papermill": {
     "duration": 0.025898,
     "end_time": "2021-08-07T07:31:27.078790",
     "exception": false,
     "start_time": "2021-08-07T07:31:27.052892",
     "status": "completed"
    },
    "tags": []
   },
   "source": [
    "## 7.\n",
    "We'd like to host these wine reviews on our website, but a rating system ranging from 80 to 100 points is too hard to understand - we'd like to translate them into simple star ratings. A score of 95 or higher counts as 3 stars, a score of at least 85 but less than 95 is 2 stars. Any other score is 1 star.\n",
    "\n",
    "Also, the Canadian Vintners Association bought a lot of ads on the site, so any wines from Canada should automatically get 3 stars, regardless of points.\n",
    "\n",
    "Create a series `star_ratings` with the number of stars corresponding to each review in the dataset."
   ]
  },
  {
   "cell_type": "code",
   "execution_count": 14,
   "id": "3358218f",
   "metadata": {
    "execution": {
     "iopub.execute_input": "2021-08-07T07:31:27.139257Z",
     "iopub.status.busy": "2021-08-07T07:31:27.138053Z",
     "iopub.status.idle": "2021-08-07T07:31:32.013756Z",
     "shell.execute_reply": "2021-08-07T07:31:32.012624Z",
     "shell.execute_reply.started": "2021-08-07T04:24:00.693848Z"
    },
    "papermill": {
     "duration": 4.907925,
     "end_time": "2021-08-07T07:31:32.013926",
     "exception": false,
     "start_time": "2021-08-07T07:31:27.106001",
     "status": "completed"
    },
    "tags": []
   },
   "outputs": [
    {
     "data": {
      "application/javascript": [
       "parent.postMessage({\"jupyterEvent\": \"custom.exercise_interaction\", \"data\": {\"outcomeType\": 1, \"valueTowardsCompletion\": 0.14285714285714285, \"interactionType\": 1, \"questionType\": 1, \"questionId\": \"7_StarRatings\", \"learnToolsVersion\": \"0.3.4\", \"failureMessage\": \"\", \"exceptionClass\": \"\", \"trace\": \"\"}}, \"*\")"
      ],
      "text/plain": [
       "<IPython.core.display.Javascript object>"
      ]
     },
     "metadata": {},
     "output_type": "display_data"
    },
    {
     "data": {
      "text/markdown": [
       "<span style=\"color:#33cc33\">Correct</span>"
      ],
      "text/plain": [
       "Correct"
      ]
     },
     "metadata": {},
     "output_type": "display_data"
    }
   ],
   "source": [
    "def stars(row):\n",
    "    if row.country == 'Canada': return 3\n",
    "    elif row.points >= 95: return 3\n",
    "    elif row.points >= 85: return 2\n",
    "    else: return 1\n",
    "\n",
    "star_ratings = reviews.apply(stars, axis='columns')\n",
    "\n",
    "# Check your answer\n",
    "q7.check()"
   ]
  },
  {
   "cell_type": "code",
   "execution_count": 15,
   "id": "20564118",
   "metadata": {
    "execution": {
     "iopub.execute_input": "2021-08-07T07:31:32.079019Z",
     "iopub.status.busy": "2021-08-07T07:31:32.078327Z",
     "iopub.status.idle": "2021-08-07T07:31:32.081106Z",
     "shell.execute_reply": "2021-08-07T07:31:32.081735Z",
     "shell.execute_reply.started": "2021-08-07T04:24:03.853292Z"
    },
    "papermill": {
     "duration": 0.037891,
     "end_time": "2021-08-07T07:31:32.081965",
     "exception": false,
     "start_time": "2021-08-07T07:31:32.044074",
     "status": "completed"
    },
    "tags": []
   },
   "outputs": [],
   "source": [
    "#q7.hint()\n",
    "#q7.solution()"
   ]
  },
  {
   "cell_type": "markdown",
   "id": "930786c9",
   "metadata": {
    "papermill": {
     "duration": 0.026503,
     "end_time": "2021-08-07T07:31:32.136592",
     "exception": false,
     "start_time": "2021-08-07T07:31:32.110089",
     "status": "completed"
    },
    "tags": []
   },
   "source": [
    "# Keep going\n",
    "Continue to **[grouping and sorting](https://www.kaggle.com/residentmario/grouping-and-sorting)**."
   ]
  },
  {
   "cell_type": "markdown",
   "id": "117e240f",
   "metadata": {
    "papermill": {
     "duration": 0.026275,
     "end_time": "2021-08-07T07:31:32.190107",
     "exception": false,
     "start_time": "2021-08-07T07:31:32.163832",
     "status": "completed"
    },
    "tags": []
   },
   "source": [
    "---\n",
    "\n",
    "\n",
    "\n",
    "\n",
    "*Have questions or comments? Visit the [Learn Discussion forum](https://www.kaggle.com/learn-forum/161299) to chat with other Learners.*"
   ]
  }
 ],
 "metadata": {
  "kernelspec": {
   "display_name": "Python 3",
   "language": "python",
   "name": "python3"
  },
  "language_info": {
   "codemirror_mode": {
    "name": "ipython",
    "version": 3
   },
   "file_extension": ".py",
   "mimetype": "text/x-python",
   "name": "python",
   "nbconvert_exporter": "python",
   "pygments_lexer": "ipython3",
   "version": "3.7.10"
  },
  "papermill": {
   "default_parameters": {},
   "duration": 23.784327,
   "end_time": "2021-08-07T07:31:32.926794",
   "environment_variables": {},
   "exception": null,
   "input_path": "__notebook__.ipynb",
   "output_path": "__notebook__.ipynb",
   "parameters": {},
   "start_time": "2021-08-07T07:31:09.142467",
   "version": "2.3.3"
  }
 },
 "nbformat": 4,
 "nbformat_minor": 5
}
