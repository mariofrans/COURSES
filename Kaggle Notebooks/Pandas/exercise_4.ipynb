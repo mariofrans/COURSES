{
 "cells": [
  {
   "cell_type": "markdown",
   "id": "24d1c962",
   "metadata": {
    "papermill": {
     "duration": 0.019818,
     "end_time": "2021-08-07T07:30:43.530473",
     "exception": false,
     "start_time": "2021-08-07T07:30:43.510655",
     "status": "completed"
    },
    "tags": []
   },
   "source": [
    "**This notebook is an exercise in the [Pandas](https://www.kaggle.com/learn/pandas) course.  You can reference the tutorial at [this link](https://www.kaggle.com/residentmario/grouping-and-sorting).**\n",
    "\n",
    "---\n"
   ]
  },
  {
   "cell_type": "markdown",
   "id": "4b1e7108",
   "metadata": {
    "papermill": {
     "duration": 0.017702,
     "end_time": "2021-08-07T07:30:43.568174",
     "exception": false,
     "start_time": "2021-08-07T07:30:43.550472",
     "status": "completed"
    },
    "tags": []
   },
   "source": [
    "# Introduction\n",
    "\n",
    "In these exercises we'll apply groupwise analysis to our dataset.\n",
    "\n",
    "Run the code cell below to load the data before running the exercises."
   ]
  },
  {
   "cell_type": "code",
   "execution_count": 1,
   "id": "a11f1099",
   "metadata": {
    "execution": {
     "iopub.execute_input": "2021-08-07T07:30:43.618597Z",
     "iopub.status.busy": "2021-08-07T07:30:43.617931Z",
     "iopub.status.idle": "2021-08-07T07:30:46.931561Z",
     "shell.execute_reply": "2021-08-07T07:30:46.930659Z",
     "shell.execute_reply.started": "2021-08-07T06:56:58.115321Z"
    },
    "papermill": {
     "duration": 3.345497,
     "end_time": "2021-08-07T07:30:46.931740",
     "exception": false,
     "start_time": "2021-08-07T07:30:43.586243",
     "status": "completed"
    },
    "tags": []
   },
   "outputs": [
    {
     "name": "stdout",
     "output_type": "stream",
     "text": [
      "Setup complete.\n"
     ]
    }
   ],
   "source": [
    "import pandas as pd\n",
    "\n",
    "reviews = pd.read_csv(\"../input/wine-reviews/winemag-data-130k-v2.csv\", index_col=0)\n",
    "#pd.set_option(\"display.max_rows\", 5)\n",
    "\n",
    "from learntools.core import binder; binder.bind(globals())\n",
    "from learntools.pandas.grouping_and_sorting import *\n",
    "print(\"Setup complete.\")"
   ]
  },
  {
   "cell_type": "markdown",
   "id": "c8169aab",
   "metadata": {
    "papermill": {
     "duration": 0.017967,
     "end_time": "2021-08-07T07:30:46.968603",
     "exception": false,
     "start_time": "2021-08-07T07:30:46.950636",
     "status": "completed"
    },
    "tags": []
   },
   "source": [
    "# Exercises"
   ]
  },
  {
   "cell_type": "markdown",
   "id": "ca601786",
   "metadata": {
    "papermill": {
     "duration": 0.017689,
     "end_time": "2021-08-07T07:30:47.004757",
     "exception": false,
     "start_time": "2021-08-07T07:30:46.987068",
     "status": "completed"
    },
    "tags": []
   },
   "source": [
    "## 1.\n",
    "Who are the most common wine reviewers in the dataset? Create a `Series` whose index is the `taster_twitter_handle` category from the dataset, and whose values count how many reviews each person wrote."
   ]
  },
  {
   "cell_type": "code",
   "execution_count": 2,
   "id": "a9f57af2",
   "metadata": {
    "execution": {
     "iopub.execute_input": "2021-08-07T07:30:47.062608Z",
     "iopub.status.busy": "2021-08-07T07:30:47.061897Z",
     "iopub.status.idle": "2021-08-07T07:30:47.074132Z",
     "shell.execute_reply": "2021-08-07T07:30:47.073580Z",
     "shell.execute_reply.started": "2021-08-07T06:57:04.911637Z"
    },
    "papermill": {
     "duration": 0.05136,
     "end_time": "2021-08-07T07:30:47.074321",
     "exception": false,
     "start_time": "2021-08-07T07:30:47.022961",
     "status": "completed"
    },
    "tags": []
   },
   "outputs": [
    {
     "data": {
      "application/javascript": [
       "parent.postMessage({\"jupyterEvent\": \"custom.exercise_interaction\", \"data\": {\"outcomeType\": 1, \"valueTowardsCompletion\": 0.16666666666666666, \"interactionType\": 1, \"questionType\": 1, \"questionId\": \"1_ReviewsWritten\", \"learnToolsVersion\": \"0.3.4\", \"failureMessage\": \"\", \"exceptionClass\": \"\", \"trace\": \"\"}}, \"*\")"
      ],
      "text/plain": [
       "<IPython.core.display.Javascript object>"
      ]
     },
     "metadata": {},
     "output_type": "display_data"
    },
    {
     "data": {
      "text/markdown": [
       "<span style=\"color:#33cc33\">Correct:</span> \n",
       "\n",
       "\n",
       "```python\n",
       "reviews_written = reviews.groupby('taster_twitter_handle').size()\n",
       "```\n",
       "or\n",
       "```python\n",
       "reviews_written = reviews.groupby('taster_twitter_handle').taster_twitter_handle.count()\n",
       "```\n"
      ],
      "text/plain": [
       "Correct: \n",
       "\n",
       "\n",
       "```python\n",
       "reviews_written = reviews.groupby('taster_twitter_handle').size()\n",
       "```\n",
       "or\n",
       "```python\n",
       "reviews_written = reviews.groupby('taster_twitter_handle').taster_twitter_handle.count()\n",
       "```"
      ]
     },
     "metadata": {},
     "output_type": "display_data"
    }
   ],
   "source": [
    "# Your code here\n",
    "reviews_written = reviews.groupby('taster_twitter_handle').size()\n",
    "\n",
    "# Check your answer\n",
    "q1.check()"
   ]
  },
  {
   "cell_type": "code",
   "execution_count": 3,
   "id": "4e2a54d2",
   "metadata": {
    "execution": {
     "iopub.execute_input": "2021-08-07T07:30:47.117688Z",
     "iopub.status.busy": "2021-08-07T07:30:47.116945Z",
     "iopub.status.idle": "2021-08-07T07:30:47.120291Z",
     "shell.execute_reply": "2021-08-07T07:30:47.119651Z",
     "shell.execute_reply.started": "2021-08-07T04:47:57.496084Z"
    },
    "papermill": {
     "duration": 0.026702,
     "end_time": "2021-08-07T07:30:47.120433",
     "exception": false,
     "start_time": "2021-08-07T07:30:47.093731",
     "status": "completed"
    },
    "tags": []
   },
   "outputs": [],
   "source": [
    "#q1.hint()\n",
    "#q1.solution()"
   ]
  },
  {
   "cell_type": "markdown",
   "id": "2aa000e7",
   "metadata": {
    "papermill": {
     "duration": 0.018907,
     "end_time": "2021-08-07T07:30:47.158644",
     "exception": false,
     "start_time": "2021-08-07T07:30:47.139737",
     "status": "completed"
    },
    "tags": []
   },
   "source": [
    "## 2.\n",
    "What is the best wine I can buy for a given amount of money? Create a `Series` whose index is wine prices and whose values is the maximum number of points a wine costing that much was given in a review. Sort the values by price, ascending (so that `4.0` dollars is at the top and `3300.0` dollars is at the bottom)."
   ]
  },
  {
   "cell_type": "code",
   "execution_count": 4,
   "id": "aa4422ae",
   "metadata": {
    "execution": {
     "iopub.execute_input": "2021-08-07T07:30:47.202831Z",
     "iopub.status.busy": "2021-08-07T07:30:47.202146Z",
     "iopub.status.idle": "2021-08-07T07:30:47.213459Z",
     "shell.execute_reply": "2021-08-07T07:30:47.213940Z",
     "shell.execute_reply.started": "2021-08-07T06:57:07.346173Z"
    },
    "papermill": {
     "duration": 0.036389,
     "end_time": "2021-08-07T07:30:47.214252",
     "exception": false,
     "start_time": "2021-08-07T07:30:47.177863",
     "status": "completed"
    },
    "tags": []
   },
   "outputs": [
    {
     "data": {
      "application/javascript": [
       "parent.postMessage({\"jupyterEvent\": \"custom.exercise_interaction\", \"data\": {\"outcomeType\": 1, \"valueTowardsCompletion\": 0.16666666666666666, \"interactionType\": 1, \"questionType\": 1, \"questionId\": \"2_BestRatingPerPrice\", \"learnToolsVersion\": \"0.3.4\", \"failureMessage\": \"\", \"exceptionClass\": \"\", \"trace\": \"\"}}, \"*\")"
      ],
      "text/plain": [
       "<IPython.core.display.Javascript object>"
      ]
     },
     "metadata": {},
     "output_type": "display_data"
    },
    {
     "data": {
      "text/markdown": [
       "<span style=\"color:#33cc33\">Correct</span>"
      ],
      "text/plain": [
       "Correct"
      ]
     },
     "metadata": {},
     "output_type": "display_data"
    }
   ],
   "source": [
    "best_rating_per_price = reviews.groupby('price')['points'].max().sort_index()\n",
    "\n",
    "# Check your answer\n",
    "q2.check()"
   ]
  },
  {
   "cell_type": "code",
   "execution_count": 5,
   "id": "8c4537df",
   "metadata": {
    "execution": {
     "iopub.execute_input": "2021-08-07T07:30:47.258772Z",
     "iopub.status.busy": "2021-08-07T07:30:47.258041Z",
     "iopub.status.idle": "2021-08-07T07:30:47.261408Z",
     "shell.execute_reply": "2021-08-07T07:30:47.260852Z",
     "shell.execute_reply.started": "2021-08-07T04:53:25.798252Z"
    },
    "papermill": {
     "duration": 0.027049,
     "end_time": "2021-08-07T07:30:47.261547",
     "exception": false,
     "start_time": "2021-08-07T07:30:47.234498",
     "status": "completed"
    },
    "tags": []
   },
   "outputs": [],
   "source": [
    "#q2.hint()\n",
    "#q2.solution()"
   ]
  },
  {
   "cell_type": "markdown",
   "id": "5b8fa244",
   "metadata": {
    "papermill": {
     "duration": 0.019804,
     "end_time": "2021-08-07T07:30:47.302385",
     "exception": false,
     "start_time": "2021-08-07T07:30:47.282581",
     "status": "completed"
    },
    "tags": []
   },
   "source": [
    "## 3.\n",
    "What are the minimum and maximum prices for each `variety` of wine? Create a `DataFrame` whose index is the `variety` category from the dataset and whose values are the `min` and `max` values thereof."
   ]
  },
  {
   "cell_type": "code",
   "execution_count": 6,
   "id": "0119a51c",
   "metadata": {
    "execution": {
     "iopub.execute_input": "2021-08-07T07:30:47.346958Z",
     "iopub.status.busy": "2021-08-07T07:30:47.346325Z",
     "iopub.status.idle": "2021-08-07T07:30:47.382279Z",
     "shell.execute_reply": "2021-08-07T07:30:47.381693Z",
     "shell.execute_reply.started": "2021-08-07T06:57:34.789888Z"
    },
    "papermill": {
     "duration": 0.060468,
     "end_time": "2021-08-07T07:30:47.382435",
     "exception": false,
     "start_time": "2021-08-07T07:30:47.321967",
     "status": "completed"
    },
    "tags": []
   },
   "outputs": [
    {
     "data": {
      "application/javascript": [
       "parent.postMessage({\"jupyterEvent\": \"custom.exercise_interaction\", \"data\": {\"outcomeType\": 1, \"valueTowardsCompletion\": 0.16666666666666666, \"interactionType\": 1, \"questionType\": 1, \"questionId\": \"3_PriceExtremes\", \"learnToolsVersion\": \"0.3.4\", \"failureMessage\": \"\", \"exceptionClass\": \"\", \"trace\": \"\"}}, \"*\")"
      ],
      "text/plain": [
       "<IPython.core.display.Javascript object>"
      ]
     },
     "metadata": {},
     "output_type": "display_data"
    },
    {
     "data": {
      "text/markdown": [
       "<span style=\"color:#33cc33\">Correct</span>"
      ],
      "text/plain": [
       "Correct"
      ]
     },
     "metadata": {},
     "output_type": "display_data"
    }
   ],
   "source": [
    "price_extremes = reviews.groupby('variety').price.agg([min, max])\n",
    "\n",
    "# Check your answer\n",
    "q3.check()"
   ]
  },
  {
   "cell_type": "code",
   "execution_count": 7,
   "id": "293b2f8e",
   "metadata": {
    "execution": {
     "iopub.execute_input": "2021-08-07T07:30:47.429190Z",
     "iopub.status.busy": "2021-08-07T07:30:47.428474Z",
     "iopub.status.idle": "2021-08-07T07:30:47.431534Z",
     "shell.execute_reply": "2021-08-07T07:30:47.430888Z",
     "shell.execute_reply.started": "2021-08-07T06:57:31.643737Z"
    },
    "papermill": {
     "duration": 0.027983,
     "end_time": "2021-08-07T07:30:47.431688",
     "exception": false,
     "start_time": "2021-08-07T07:30:47.403705",
     "status": "completed"
    },
    "tags": []
   },
   "outputs": [],
   "source": [
    "#q3.hint()\n",
    "#q3.solution()"
   ]
  },
  {
   "cell_type": "markdown",
   "id": "e7ba2ed0",
   "metadata": {
    "papermill": {
     "duration": 0.020848,
     "end_time": "2021-08-07T07:30:47.473730",
     "exception": false,
     "start_time": "2021-08-07T07:30:47.452882",
     "status": "completed"
    },
    "tags": []
   },
   "source": [
    "## 4.\n",
    "What are the most expensive wine varieties? Create a variable `sorted_varieties` containing a copy of the dataframe from the previous question where varieties are sorted in descending order based on minimum price, then on maximum price (to break ties)."
   ]
  },
  {
   "cell_type": "code",
   "execution_count": 8,
   "id": "f61c8464",
   "metadata": {
    "execution": {
     "iopub.execute_input": "2021-08-07T07:30:47.523985Z",
     "iopub.status.busy": "2021-08-07T07:30:47.523341Z",
     "iopub.status.idle": "2021-08-07T07:30:47.532445Z",
     "shell.execute_reply": "2021-08-07T07:30:47.531825Z",
     "shell.execute_reply.started": "2021-08-07T07:14:49.367488Z"
    },
    "papermill": {
     "duration": 0.036523,
     "end_time": "2021-08-07T07:30:47.532599",
     "exception": false,
     "start_time": "2021-08-07T07:30:47.496076",
     "status": "completed"
    },
    "tags": []
   },
   "outputs": [
    {
     "data": {
      "application/javascript": [
       "parent.postMessage({\"jupyterEvent\": \"custom.exercise_interaction\", \"data\": {\"outcomeType\": 1, \"valueTowardsCompletion\": 0.16666666666666666, \"interactionType\": 1, \"questionType\": 1, \"questionId\": \"4_SortedVarieties\", \"learnToolsVersion\": \"0.3.4\", \"failureMessage\": \"\", \"exceptionClass\": \"\", \"trace\": \"\"}}, \"*\")"
      ],
      "text/plain": [
       "<IPython.core.display.Javascript object>"
      ]
     },
     "metadata": {},
     "output_type": "display_data"
    },
    {
     "data": {
      "text/markdown": [
       "<span style=\"color:#33cc33\">Correct</span>"
      ],
      "text/plain": [
       "Correct"
      ]
     },
     "metadata": {},
     "output_type": "display_data"
    }
   ],
   "source": [
    "sorted_varieties = price_extremes.sort_values(by=['min', 'max'], ascending=False)\n",
    "\n",
    "# Check your answer\n",
    "q4.check()"
   ]
  },
  {
   "cell_type": "code",
   "execution_count": 9,
   "id": "4a3b7312",
   "metadata": {
    "execution": {
     "iopub.execute_input": "2021-08-07T07:30:47.582331Z",
     "iopub.status.busy": "2021-08-07T07:30:47.581572Z",
     "iopub.status.idle": "2021-08-07T07:30:47.584377Z",
     "shell.execute_reply": "2021-08-07T07:30:47.583643Z",
     "shell.execute_reply.started": "2021-08-07T07:14:54.469413Z"
    },
    "papermill": {
     "duration": 0.029199,
     "end_time": "2021-08-07T07:30:47.584528",
     "exception": false,
     "start_time": "2021-08-07T07:30:47.555329",
     "status": "completed"
    },
    "tags": []
   },
   "outputs": [],
   "source": [
    "#q4.hint()\n",
    "#q4.solution()"
   ]
  },
  {
   "cell_type": "markdown",
   "id": "557ec31c",
   "metadata": {
    "papermill": {
     "duration": 0.022282,
     "end_time": "2021-08-07T07:30:47.629602",
     "exception": false,
     "start_time": "2021-08-07T07:30:47.607320",
     "status": "completed"
    },
    "tags": []
   },
   "source": [
    "## 5.\n",
    "Create a `Series` whose index is reviewers and whose values is the average review score given out by that reviewer. Hint: you will need the `taster_name` and `points` columns."
   ]
  },
  {
   "cell_type": "code",
   "execution_count": 10,
   "id": "3b4419c7",
   "metadata": {
    "execution": {
     "iopub.execute_input": "2021-08-07T07:30:47.679455Z",
     "iopub.status.busy": "2021-08-07T07:30:47.678729Z",
     "iopub.status.idle": "2021-08-07T07:30:47.703960Z",
     "shell.execute_reply": "2021-08-07T07:30:47.703436Z",
     "shell.execute_reply.started": "2021-08-07T07:16:35.233232Z"
    },
    "papermill": {
     "duration": 0.05211,
     "end_time": "2021-08-07T07:30:47.704236",
     "exception": false,
     "start_time": "2021-08-07T07:30:47.652126",
     "status": "completed"
    },
    "tags": []
   },
   "outputs": [
    {
     "data": {
      "application/javascript": [
       "parent.postMessage({\"jupyterEvent\": \"custom.exercise_interaction\", \"data\": {\"outcomeType\": 1, \"valueTowardsCompletion\": 0.16666666666666666, \"interactionType\": 1, \"questionType\": 1, \"questionId\": \"5_ReviewerMeanRatings\", \"learnToolsVersion\": \"0.3.4\", \"failureMessage\": \"\", \"exceptionClass\": \"\", \"trace\": \"\"}}, \"*\")"
      ],
      "text/plain": [
       "<IPython.core.display.Javascript object>"
      ]
     },
     "metadata": {},
     "output_type": "display_data"
    },
    {
     "data": {
      "text/markdown": [
       "<span style=\"color:#33cc33\">Correct</span>"
      ],
      "text/plain": [
       "Correct"
      ]
     },
     "metadata": {},
     "output_type": "display_data"
    }
   ],
   "source": [
    "reviewer_mean_ratings = reviews.groupby('taster_name').points.mean()\n",
    "\n",
    "# Check your answer\n",
    "q5.check()"
   ]
  },
  {
   "cell_type": "code",
   "execution_count": 11,
   "id": "91994c0a",
   "metadata": {
    "execution": {
     "iopub.execute_input": "2021-08-07T07:30:47.757655Z",
     "iopub.status.busy": "2021-08-07T07:30:47.756916Z",
     "iopub.status.idle": "2021-08-07T07:30:47.758879Z",
     "shell.execute_reply": "2021-08-07T07:30:47.759388Z",
     "shell.execute_reply.started": "2021-08-07T07:16:39.903614Z"
    },
    "papermill": {
     "duration": 0.030934,
     "end_time": "2021-08-07T07:30:47.759570",
     "exception": false,
     "start_time": "2021-08-07T07:30:47.728636",
     "status": "completed"
    },
    "tags": []
   },
   "outputs": [],
   "source": [
    "#q5.hint()\n",
    "#q5.solution()"
   ]
  },
  {
   "cell_type": "markdown",
   "id": "0412ed24",
   "metadata": {
    "papermill": {
     "duration": 0.02255,
     "end_time": "2021-08-07T07:30:47.805139",
     "exception": false,
     "start_time": "2021-08-07T07:30:47.782589",
     "status": "completed"
    },
    "tags": []
   },
   "source": [
    "Are there significant differences in the average scores assigned by the various reviewers? Run the cell below to use the `describe()` method to see a summary of the range of values."
   ]
  },
  {
   "cell_type": "code",
   "execution_count": 12,
   "id": "89031d0f",
   "metadata": {
    "execution": {
     "iopub.execute_input": "2021-08-07T07:30:47.854958Z",
     "iopub.status.busy": "2021-08-07T07:30:47.854316Z",
     "iopub.status.idle": "2021-08-07T07:30:47.869194Z",
     "shell.execute_reply": "2021-08-07T07:30:47.868594Z",
     "shell.execute_reply.started": "2021-08-07T07:17:47.864134Z"
    },
    "papermill": {
     "duration": 0.04038,
     "end_time": "2021-08-07T07:30:47.869341",
     "exception": false,
     "start_time": "2021-08-07T07:30:47.828961",
     "status": "completed"
    },
    "tags": []
   },
   "outputs": [
    {
     "data": {
      "text/plain": [
       "count    19.000000\n",
       "mean     88.233026\n",
       "std       1.243610\n",
       "min      85.855422\n",
       "25%      87.323501\n",
       "50%      88.536235\n",
       "75%      88.975256\n",
       "max      90.562551\n",
       "Name: points, dtype: float64"
      ]
     },
     "execution_count": 12,
     "metadata": {},
     "output_type": "execute_result"
    }
   ],
   "source": [
    "reviewer_mean_ratings.describe()"
   ]
  },
  {
   "cell_type": "markdown",
   "id": "93a7cbc8",
   "metadata": {
    "papermill": {
     "duration": 0.023436,
     "end_time": "2021-08-07T07:30:47.917753",
     "exception": false,
     "start_time": "2021-08-07T07:30:47.894317",
     "status": "completed"
    },
    "tags": []
   },
   "source": [
    "## 6.\n",
    "What combination of countries and varieties are most common? Create a `Series` whose index is a `MultiIndex`of `{country, variety}` pairs. For example, a pinot noir produced in the US should map to `{\"US\", \"Pinot Noir\"}`. Sort the values in the `Series` in descending order based on wine count."
   ]
  },
  {
   "cell_type": "code",
   "execution_count": 13,
   "id": "92596aa9",
   "metadata": {
    "execution": {
     "iopub.execute_input": "2021-08-07T07:30:47.967812Z",
     "iopub.status.busy": "2021-08-07T07:30:47.967115Z",
     "iopub.status.idle": "2021-08-07T07:30:48.015357Z",
     "shell.execute_reply": "2021-08-07T07:30:48.015804Z",
     "shell.execute_reply.started": "2021-08-07T07:29:59.925671Z"
    },
    "papermill": {
     "duration": 0.074704,
     "end_time": "2021-08-07T07:30:48.015979",
     "exception": false,
     "start_time": "2021-08-07T07:30:47.941275",
     "status": "completed"
    },
    "tags": []
   },
   "outputs": [
    {
     "data": {
      "application/javascript": [
       "parent.postMessage({\"jupyterEvent\": \"custom.exercise_interaction\", \"data\": {\"outcomeType\": 1, \"valueTowardsCompletion\": 0.16666666666666666, \"interactionType\": 1, \"questionType\": 1, \"questionId\": \"6_GroupbyCountryVariety\", \"learnToolsVersion\": \"0.3.4\", \"failureMessage\": \"\", \"exceptionClass\": \"\", \"trace\": \"\"}}, \"*\")"
      ],
      "text/plain": [
       "<IPython.core.display.Javascript object>"
      ]
     },
     "metadata": {},
     "output_type": "display_data"
    },
    {
     "data": {
      "text/markdown": [
       "<span style=\"color:#33cc33\">Correct</span>"
      ],
      "text/plain": [
       "Correct"
      ]
     },
     "metadata": {},
     "output_type": "display_data"
    }
   ],
   "source": [
    "country_variety_counts = reviews.groupby(['country', 'variety']).size().sort_values(ascending=False)\n",
    "\n",
    "# Check your answer\n",
    "q6.check()"
   ]
  },
  {
   "cell_type": "code",
   "execution_count": 14,
   "id": "e0eea6a4",
   "metadata": {
    "execution": {
     "iopub.execute_input": "2021-08-07T07:30:48.069734Z",
     "iopub.status.busy": "2021-08-07T07:30:48.069068Z",
     "iopub.status.idle": "2021-08-07T07:30:48.072465Z",
     "shell.execute_reply": "2021-08-07T07:30:48.073200Z",
     "shell.execute_reply.started": "2021-08-07T07:28:47.600118Z"
    },
    "papermill": {
     "duration": 0.031964,
     "end_time": "2021-08-07T07:30:48.073410",
     "exception": false,
     "start_time": "2021-08-07T07:30:48.041446",
     "status": "completed"
    },
    "tags": []
   },
   "outputs": [],
   "source": [
    "#q6.hint()\n",
    "#q6.solution()"
   ]
  },
  {
   "cell_type": "markdown",
   "id": "011fb88b",
   "metadata": {
    "papermill": {
     "duration": 0.024386,
     "end_time": "2021-08-07T07:30:48.122437",
     "exception": false,
     "start_time": "2021-08-07T07:30:48.098051",
     "status": "completed"
    },
    "tags": []
   },
   "source": [
    "# Keep going\n",
    "\n",
    "Move on to the [**data types and missing data**](https://www.kaggle.com/residentmario/data-types-and-missing-values)."
   ]
  },
  {
   "cell_type": "markdown",
   "id": "d7dec8bf",
   "metadata": {
    "papermill": {
     "duration": 0.023823,
     "end_time": "2021-08-07T07:30:48.170599",
     "exception": false,
     "start_time": "2021-08-07T07:30:48.146776",
     "status": "completed"
    },
    "tags": []
   },
   "source": [
    "---\n",
    "\n",
    "\n",
    "\n",
    "\n",
    "*Have questions or comments? Visit the [Learn Discussion forum](https://www.kaggle.com/learn-forum/161299) to chat with other Learners.*"
   ]
  }
 ],
 "metadata": {
  "kernelspec": {
   "display_name": "Python 3",
   "language": "python",
   "name": "python3"
  },
  "language_info": {
   "codemirror_mode": {
    "name": "ipython",
    "version": 3
   },
   "file_extension": ".py",
   "mimetype": "text/x-python",
   "name": "python",
   "nbconvert_exporter": "python",
   "pygments_lexer": "ipython3",
   "version": "3.7.10"
  },
  "papermill": {
   "default_parameters": {},
   "duration": 14.860276,
   "end_time": "2021-08-07T07:30:49.882778",
   "environment_variables": {},
   "exception": null,
   "input_path": "__notebook__.ipynb",
   "output_path": "__notebook__.ipynb",
   "parameters": {},
   "start_time": "2021-08-07T07:30:35.022502",
   "version": "2.3.3"
  }
 },
 "nbformat": 4,
 "nbformat_minor": 5
}
