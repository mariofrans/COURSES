{
 "cells": [
  {
   "cell_type": "markdown",
   "id": "db163941",
   "metadata": {
    "papermill": {
     "duration": 0.020506,
     "end_time": "2021-08-07T08:42:31.618272",
     "exception": false,
     "start_time": "2021-08-07T08:42:31.597766",
     "status": "completed"
    },
    "tags": []
   },
   "source": [
    "**This notebook is an exercise in the [Pandas](https://www.kaggle.com/learn/pandas) course.  You can reference the tutorial at [this link](https://www.kaggle.com/residentmario/renaming-and-combining).**\n",
    "\n",
    "---\n"
   ]
  },
  {
   "cell_type": "markdown",
   "id": "8e82d654",
   "metadata": {
    "papermill": {
     "duration": 0.015003,
     "end_time": "2021-08-07T08:42:31.650960",
     "exception": false,
     "start_time": "2021-08-07T08:42:31.635957",
     "status": "completed"
    },
    "tags": []
   },
   "source": [
    "# Introduction\n",
    "\n",
    "Run the following cell to load your data and some utility functions."
   ]
  },
  {
   "cell_type": "code",
   "execution_count": 1,
   "id": "0efc08bd",
   "metadata": {
    "execution": {
     "iopub.execute_input": "2021-08-07T08:42:31.686930Z",
     "iopub.status.busy": "2021-08-07T08:42:31.685821Z",
     "iopub.status.idle": "2021-08-07T08:42:35.675898Z",
     "shell.execute_reply": "2021-08-07T08:42:35.675198Z",
     "shell.execute_reply.started": "2021-08-07T08:38:13.855181Z"
    },
    "papermill": {
     "duration": 4.00782,
     "end_time": "2021-08-07T08:42:35.676052",
     "exception": false,
     "start_time": "2021-08-07T08:42:31.668232",
     "status": "completed"
    },
    "tags": []
   },
   "outputs": [
    {
     "name": "stdout",
     "output_type": "stream",
     "text": [
      "Setup complete.\n"
     ]
    }
   ],
   "source": [
    "import pandas as pd\n",
    "\n",
    "reviews = pd.read_csv(\"../input/wine-reviews/winemag-data-130k-v2.csv\", index_col=0)\n",
    "\n",
    "from learntools.core import binder; binder.bind(globals())\n",
    "from learntools.pandas.renaming_and_combining import *\n",
    "print(\"Setup complete.\")"
   ]
  },
  {
   "cell_type": "markdown",
   "id": "09be5627",
   "metadata": {
    "papermill": {
     "duration": 0.01482,
     "end_time": "2021-08-07T08:42:35.706521",
     "exception": false,
     "start_time": "2021-08-07T08:42:35.691701",
     "status": "completed"
    },
    "tags": []
   },
   "source": [
    "# Exercises\n",
    "\n",
    "View the first several lines of your data by running the cell below:"
   ]
  },
  {
   "cell_type": "code",
   "execution_count": 2,
   "id": "56d249bd",
   "metadata": {
    "execution": {
     "iopub.execute_input": "2021-08-07T08:42:35.743347Z",
     "iopub.status.busy": "2021-08-07T08:42:35.742687Z",
     "iopub.status.idle": "2021-08-07T08:42:35.764328Z",
     "shell.execute_reply": "2021-08-07T08:42:35.764843Z",
     "shell.execute_reply.started": "2021-08-07T08:38:18.005412Z"
    },
    "papermill": {
     "duration": 0.043564,
     "end_time": "2021-08-07T08:42:35.765001",
     "exception": false,
     "start_time": "2021-08-07T08:42:35.721437",
     "status": "completed"
    },
    "tags": []
   },
   "outputs": [
    {
     "data": {
      "text/html": [
       "<div>\n",
       "<style scoped>\n",
       "    .dataframe tbody tr th:only-of-type {\n",
       "        vertical-align: middle;\n",
       "    }\n",
       "\n",
       "    .dataframe tbody tr th {\n",
       "        vertical-align: top;\n",
       "    }\n",
       "\n",
       "    .dataframe thead th {\n",
       "        text-align: right;\n",
       "    }\n",
       "</style>\n",
       "<table border=\"1\" class=\"dataframe\">\n",
       "  <thead>\n",
       "    <tr style=\"text-align: right;\">\n",
       "      <th></th>\n",
       "      <th>country</th>\n",
       "      <th>description</th>\n",
       "      <th>designation</th>\n",
       "      <th>points</th>\n",
       "      <th>price</th>\n",
       "      <th>province</th>\n",
       "      <th>region_1</th>\n",
       "      <th>region_2</th>\n",
       "      <th>taster_name</th>\n",
       "      <th>taster_twitter_handle</th>\n",
       "      <th>title</th>\n",
       "      <th>variety</th>\n",
       "      <th>winery</th>\n",
       "    </tr>\n",
       "  </thead>\n",
       "  <tbody>\n",
       "    <tr>\n",
       "      <th>0</th>\n",
       "      <td>Italy</td>\n",
       "      <td>Aromas include tropical fruit, broom, brimston...</td>\n",
       "      <td>Vulkà Bianco</td>\n",
       "      <td>87</td>\n",
       "      <td>NaN</td>\n",
       "      <td>Sicily &amp; Sardinia</td>\n",
       "      <td>Etna</td>\n",
       "      <td>NaN</td>\n",
       "      <td>Kerin O’Keefe</td>\n",
       "      <td>@kerinokeefe</td>\n",
       "      <td>Nicosia 2013 Vulkà Bianco  (Etna)</td>\n",
       "      <td>White Blend</td>\n",
       "      <td>Nicosia</td>\n",
       "    </tr>\n",
       "    <tr>\n",
       "      <th>1</th>\n",
       "      <td>Portugal</td>\n",
       "      <td>This is ripe and fruity, a wine that is smooth...</td>\n",
       "      <td>Avidagos</td>\n",
       "      <td>87</td>\n",
       "      <td>15.0</td>\n",
       "      <td>Douro</td>\n",
       "      <td>NaN</td>\n",
       "      <td>NaN</td>\n",
       "      <td>Roger Voss</td>\n",
       "      <td>@vossroger</td>\n",
       "      <td>Quinta dos Avidagos 2011 Avidagos Red (Douro)</td>\n",
       "      <td>Portuguese Red</td>\n",
       "      <td>Quinta dos Avidagos</td>\n",
       "    </tr>\n",
       "    <tr>\n",
       "      <th>2</th>\n",
       "      <td>US</td>\n",
       "      <td>Tart and snappy, the flavors of lime flesh and...</td>\n",
       "      <td>NaN</td>\n",
       "      <td>87</td>\n",
       "      <td>14.0</td>\n",
       "      <td>Oregon</td>\n",
       "      <td>Willamette Valley</td>\n",
       "      <td>Willamette Valley</td>\n",
       "      <td>Paul Gregutt</td>\n",
       "      <td>@paulgwine</td>\n",
       "      <td>Rainstorm 2013 Pinot Gris (Willamette Valley)</td>\n",
       "      <td>Pinot Gris</td>\n",
       "      <td>Rainstorm</td>\n",
       "    </tr>\n",
       "    <tr>\n",
       "      <th>3</th>\n",
       "      <td>US</td>\n",
       "      <td>Pineapple rind, lemon pith and orange blossom ...</td>\n",
       "      <td>Reserve Late Harvest</td>\n",
       "      <td>87</td>\n",
       "      <td>13.0</td>\n",
       "      <td>Michigan</td>\n",
       "      <td>Lake Michigan Shore</td>\n",
       "      <td>NaN</td>\n",
       "      <td>Alexander Peartree</td>\n",
       "      <td>NaN</td>\n",
       "      <td>St. Julian 2013 Reserve Late Harvest Riesling ...</td>\n",
       "      <td>Riesling</td>\n",
       "      <td>St. Julian</td>\n",
       "    </tr>\n",
       "    <tr>\n",
       "      <th>4</th>\n",
       "      <td>US</td>\n",
       "      <td>Much like the regular bottling from 2012, this...</td>\n",
       "      <td>Vintner's Reserve Wild Child Block</td>\n",
       "      <td>87</td>\n",
       "      <td>65.0</td>\n",
       "      <td>Oregon</td>\n",
       "      <td>Willamette Valley</td>\n",
       "      <td>Willamette Valley</td>\n",
       "      <td>Paul Gregutt</td>\n",
       "      <td>@paulgwine</td>\n",
       "      <td>Sweet Cheeks 2012 Vintner's Reserve Wild Child...</td>\n",
       "      <td>Pinot Noir</td>\n",
       "      <td>Sweet Cheeks</td>\n",
       "    </tr>\n",
       "  </tbody>\n",
       "</table>\n",
       "</div>"
      ],
      "text/plain": [
       "    country                                        description  \\\n",
       "0     Italy  Aromas include tropical fruit, broom, brimston...   \n",
       "1  Portugal  This is ripe and fruity, a wine that is smooth...   \n",
       "2        US  Tart and snappy, the flavors of lime flesh and...   \n",
       "3        US  Pineapple rind, lemon pith and orange blossom ...   \n",
       "4        US  Much like the regular bottling from 2012, this...   \n",
       "\n",
       "                          designation  points  price           province  \\\n",
       "0                        Vulkà Bianco      87    NaN  Sicily & Sardinia   \n",
       "1                            Avidagos      87   15.0              Douro   \n",
       "2                                 NaN      87   14.0             Oregon   \n",
       "3                Reserve Late Harvest      87   13.0           Michigan   \n",
       "4  Vintner's Reserve Wild Child Block      87   65.0             Oregon   \n",
       "\n",
       "              region_1           region_2         taster_name  \\\n",
       "0                 Etna                NaN       Kerin O’Keefe   \n",
       "1                  NaN                NaN          Roger Voss   \n",
       "2    Willamette Valley  Willamette Valley        Paul Gregutt   \n",
       "3  Lake Michigan Shore                NaN  Alexander Peartree   \n",
       "4    Willamette Valley  Willamette Valley        Paul Gregutt   \n",
       "\n",
       "  taster_twitter_handle                                              title  \\\n",
       "0          @kerinokeefe                  Nicosia 2013 Vulkà Bianco  (Etna)   \n",
       "1            @vossroger      Quinta dos Avidagos 2011 Avidagos Red (Douro)   \n",
       "2           @paulgwine       Rainstorm 2013 Pinot Gris (Willamette Valley)   \n",
       "3                   NaN  St. Julian 2013 Reserve Late Harvest Riesling ...   \n",
       "4           @paulgwine   Sweet Cheeks 2012 Vintner's Reserve Wild Child...   \n",
       "\n",
       "          variety               winery  \n",
       "0     White Blend              Nicosia  \n",
       "1  Portuguese Red  Quinta dos Avidagos  \n",
       "2      Pinot Gris            Rainstorm  \n",
       "3        Riesling           St. Julian  \n",
       "4      Pinot Noir         Sweet Cheeks  "
      ]
     },
     "execution_count": 2,
     "metadata": {},
     "output_type": "execute_result"
    }
   ],
   "source": [
    "reviews.head()"
   ]
  },
  {
   "cell_type": "markdown",
   "id": "14c6977a",
   "metadata": {
    "papermill": {
     "duration": 0.015627,
     "end_time": "2021-08-07T08:42:35.796548",
     "exception": false,
     "start_time": "2021-08-07T08:42:35.780921",
     "status": "completed"
    },
    "tags": []
   },
   "source": [
    "## 1.\n",
    "`region_1` and `region_2` are pretty uninformative names for locale columns in the dataset. Create a copy of `reviews` with these columns renamed to `region` and `locale`, respectively."
   ]
  },
  {
   "cell_type": "code",
   "execution_count": 3,
   "id": "96ba79a8",
   "metadata": {
    "execution": {
     "iopub.execute_input": "2021-08-07T08:42:35.831505Z",
     "iopub.status.busy": "2021-08-07T08:42:35.830931Z",
     "iopub.status.idle": "2021-08-07T08:42:35.861363Z",
     "shell.execute_reply": "2021-08-07T08:42:35.860892Z",
     "shell.execute_reply.started": "2021-08-07T08:38:18.037271Z"
    },
    "papermill": {
     "duration": 0.049033,
     "end_time": "2021-08-07T08:42:35.861494",
     "exception": false,
     "start_time": "2021-08-07T08:42:35.812461",
     "status": "completed"
    },
    "tags": []
   },
   "outputs": [
    {
     "data": {
      "application/javascript": [
       "parent.postMessage({\"jupyterEvent\": \"custom.exercise_interaction\", \"data\": {\"outcomeType\": 1, \"valueTowardsCompletion\": 0.25, \"interactionType\": 1, \"questionType\": 1, \"questionId\": \"1_RenameCols\", \"learnToolsVersion\": \"0.3.4\", \"failureMessage\": \"\", \"exceptionClass\": \"\", \"trace\": \"\"}}, \"*\")"
      ],
      "text/plain": [
       "<IPython.core.display.Javascript object>"
      ]
     },
     "metadata": {},
     "output_type": "display_data"
    },
    {
     "data": {
      "text/markdown": [
       "<span style=\"color:#33cc33\">Correct</span>"
      ],
      "text/plain": [
       "Correct"
      ]
     },
     "metadata": {},
     "output_type": "display_data"
    }
   ],
   "source": [
    "# Your code here\n",
    "renamed = reviews.rename(columns={'region_1': 'region', 'region_2': 'locale'})\n",
    "\n",
    "# Check your answer\n",
    "q1.check()"
   ]
  },
  {
   "cell_type": "code",
   "execution_count": 4,
   "id": "ec952654",
   "metadata": {
    "execution": {
     "iopub.execute_input": "2021-08-07T08:42:35.898433Z",
     "iopub.status.busy": "2021-08-07T08:42:35.897868Z",
     "iopub.status.idle": "2021-08-07T08:42:35.900565Z",
     "shell.execute_reply": "2021-08-07T08:42:35.901010Z",
     "shell.execute_reply.started": "2021-08-07T08:38:18.078725Z"
    },
    "papermill": {
     "duration": 0.022735,
     "end_time": "2021-08-07T08:42:35.901163",
     "exception": false,
     "start_time": "2021-08-07T08:42:35.878428",
     "status": "completed"
    },
    "tags": []
   },
   "outputs": [],
   "source": [
    "#q1.hint()\n",
    "#q1.solution()"
   ]
  },
  {
   "cell_type": "markdown",
   "id": "a01f21e4",
   "metadata": {
    "papermill": {
     "duration": 0.016338,
     "end_time": "2021-08-07T08:42:35.933741",
     "exception": false,
     "start_time": "2021-08-07T08:42:35.917403",
     "status": "completed"
    },
    "tags": []
   },
   "source": [
    "## 2.\n",
    "Set the index name in the dataset to `wines`."
   ]
  },
  {
   "cell_type": "code",
   "execution_count": 5,
   "id": "f768d1ab",
   "metadata": {
    "execution": {
     "iopub.execute_input": "2021-08-07T08:42:35.970538Z",
     "iopub.status.busy": "2021-08-07T08:42:35.969912Z",
     "iopub.status.idle": "2021-08-07T08:42:36.000291Z",
     "shell.execute_reply": "2021-08-07T08:42:36.000789Z",
     "shell.execute_reply.started": "2021-08-07T08:38:18.085861Z"
    },
    "papermill": {
     "duration": 0.050531,
     "end_time": "2021-08-07T08:42:36.000951",
     "exception": false,
     "start_time": "2021-08-07T08:42:35.950420",
     "status": "completed"
    },
    "tags": []
   },
   "outputs": [
    {
     "data": {
      "application/javascript": [
       "parent.postMessage({\"jupyterEvent\": \"custom.exercise_interaction\", \"data\": {\"outcomeType\": 1, \"valueTowardsCompletion\": 0.25, \"interactionType\": 1, \"questionType\": 1, \"questionId\": \"2_RenameIndex\", \"learnToolsVersion\": \"0.3.4\", \"failureMessage\": \"\", \"exceptionClass\": \"\", \"trace\": \"\"}}, \"*\")"
      ],
      "text/plain": [
       "<IPython.core.display.Javascript object>"
      ]
     },
     "metadata": {},
     "output_type": "display_data"
    },
    {
     "data": {
      "text/markdown": [
       "<span style=\"color:#33cc33\">Correct</span>"
      ],
      "text/plain": [
       "Correct"
      ]
     },
     "metadata": {},
     "output_type": "display_data"
    }
   ],
   "source": [
    "reindexed = reviews.rename_axis(\"wines\", axis='rows')\n",
    "\n",
    "# Check your answer\n",
    "q2.check()"
   ]
  },
  {
   "cell_type": "code",
   "execution_count": 6,
   "id": "a10d5bc3",
   "metadata": {
    "execution": {
     "iopub.execute_input": "2021-08-07T08:42:36.040190Z",
     "iopub.status.busy": "2021-08-07T08:42:36.039522Z",
     "iopub.status.idle": "2021-08-07T08:42:36.042261Z",
     "shell.execute_reply": "2021-08-07T08:42:36.042754Z",
     "shell.execute_reply.started": "2021-08-07T08:38:18.129966Z"
    },
    "papermill": {
     "duration": 0.023447,
     "end_time": "2021-08-07T08:42:36.042923",
     "exception": false,
     "start_time": "2021-08-07T08:42:36.019476",
     "status": "completed"
    },
    "tags": []
   },
   "outputs": [],
   "source": [
    "#q2.hint()\n",
    "#q2.solution()"
   ]
  },
  {
   "cell_type": "markdown",
   "id": "62485e5c",
   "metadata": {
    "papermill": {
     "duration": 0.017303,
     "end_time": "2021-08-07T08:42:36.077934",
     "exception": false,
     "start_time": "2021-08-07T08:42:36.060631",
     "status": "completed"
    },
    "tags": []
   },
   "source": [
    "## 3.\n",
    "The [Things on Reddit](https://www.kaggle.com/residentmario/things-on-reddit/data) dataset includes product links from a selection of top-ranked forums (\"subreddits\") on reddit.com. Run the cell below to load a dataframe of products mentioned on the */r/gaming* subreddit and another dataframe for products mentioned on the *r//movies* subreddit."
   ]
  },
  {
   "cell_type": "code",
   "execution_count": 7,
   "id": "ed600447",
   "metadata": {
    "execution": {
     "iopub.execute_input": "2021-08-07T08:42:36.116099Z",
     "iopub.status.busy": "2021-08-07T08:42:36.115430Z",
     "iopub.status.idle": "2021-08-07T08:42:36.128749Z",
     "shell.execute_reply": "2021-08-07T08:42:36.129185Z",
     "shell.execute_reply.started": "2021-08-07T08:38:18.135924Z"
    },
    "papermill": {
     "duration": 0.03386,
     "end_time": "2021-08-07T08:42:36.129341",
     "exception": false,
     "start_time": "2021-08-07T08:42:36.095481",
     "status": "completed"
    },
    "tags": []
   },
   "outputs": [],
   "source": [
    "gaming_products = pd.read_csv(\"../input/things-on-reddit/top-things/top-things/reddits/g/gaming.csv\")\n",
    "gaming_products['subreddit'] = \"r/gaming\"\n",
    "movie_products = pd.read_csv(\"../input/things-on-reddit/top-things/top-things/reddits/m/movies.csv\")\n",
    "movie_products['subreddit'] = \"r/movies\""
   ]
  },
  {
   "cell_type": "markdown",
   "id": "a9b7cfe6",
   "metadata": {
    "papermill": {
     "duration": 0.018316,
     "end_time": "2021-08-07T08:42:36.166512",
     "exception": false,
     "start_time": "2021-08-07T08:42:36.148196",
     "status": "completed"
    },
    "tags": []
   },
   "source": [
    "Create a `DataFrame` of products mentioned on *either* subreddit."
   ]
  },
  {
   "cell_type": "code",
   "execution_count": 8,
   "id": "6a36d77c",
   "metadata": {
    "execution": {
     "iopub.execute_input": "2021-08-07T08:42:36.205410Z",
     "iopub.status.busy": "2021-08-07T08:42:36.204768Z",
     "iopub.status.idle": "2021-08-07T08:42:36.218018Z",
     "shell.execute_reply": "2021-08-07T08:42:36.218498Z",
     "shell.execute_reply.started": "2021-08-07T08:38:18.162717Z"
    },
    "papermill": {
     "duration": 0.034382,
     "end_time": "2021-08-07T08:42:36.218680",
     "exception": false,
     "start_time": "2021-08-07T08:42:36.184298",
     "status": "completed"
    },
    "tags": []
   },
   "outputs": [
    {
     "data": {
      "application/javascript": [
       "parent.postMessage({\"jupyterEvent\": \"custom.exercise_interaction\", \"data\": {\"outcomeType\": 1, \"valueTowardsCompletion\": 0.25, \"interactionType\": 1, \"questionType\": 2, \"questionId\": \"3_ConcatReddit\", \"learnToolsVersion\": \"0.3.4\", \"failureMessage\": \"\", \"exceptionClass\": \"\", \"trace\": \"\"}}, \"*\")"
      ],
      "text/plain": [
       "<IPython.core.display.Javascript object>"
      ]
     },
     "metadata": {},
     "output_type": "display_data"
    },
    {
     "data": {
      "text/markdown": [
       "<span style=\"color:#33cc33\">Correct</span>"
      ],
      "text/plain": [
       "Correct"
      ]
     },
     "metadata": {},
     "output_type": "display_data"
    }
   ],
   "source": [
    "combined_products = pd.concat([gaming_products, movie_products])\n",
    "\n",
    "# Check your answer\n",
    "q3.check()"
   ]
  },
  {
   "cell_type": "code",
   "execution_count": 9,
   "id": "e8e32f44",
   "metadata": {
    "execution": {
     "iopub.execute_input": "2021-08-07T08:42:36.259781Z",
     "iopub.status.busy": "2021-08-07T08:42:36.259160Z",
     "iopub.status.idle": "2021-08-07T08:42:36.262075Z",
     "shell.execute_reply": "2021-08-07T08:42:36.262572Z",
     "shell.execute_reply.started": "2021-08-07T08:38:18.185535Z"
    },
    "papermill": {
     "duration": 0.024876,
     "end_time": "2021-08-07T08:42:36.262741",
     "exception": false,
     "start_time": "2021-08-07T08:42:36.237865",
     "status": "completed"
    },
    "tags": []
   },
   "outputs": [],
   "source": [
    "#q3.hint()\n",
    "#q3.solution()"
   ]
  },
  {
   "cell_type": "markdown",
   "id": "330a4586",
   "metadata": {
    "papermill": {
     "duration": 0.018555,
     "end_time": "2021-08-07T08:42:36.300495",
     "exception": false,
     "start_time": "2021-08-07T08:42:36.281940",
     "status": "completed"
    },
    "tags": []
   },
   "source": [
    "## 4.\n",
    "The [Powerlifting Database](https://www.kaggle.com/open-powerlifting/powerlifting-database) dataset on Kaggle includes one CSV table for powerlifting meets and a separate one for powerlifting competitors. Run the cell below to load these datasets into dataframes:"
   ]
  },
  {
   "cell_type": "code",
   "execution_count": 10,
   "id": "dbc3f526",
   "metadata": {
    "execution": {
     "iopub.execute_input": "2021-08-07T08:42:36.340668Z",
     "iopub.status.busy": "2021-08-07T08:42:36.340014Z",
     "iopub.status.idle": "2021-08-07T08:42:37.159851Z",
     "shell.execute_reply": "2021-08-07T08:42:37.159135Z",
     "shell.execute_reply.started": "2021-08-07T08:38:18.191097Z"
    },
    "papermill": {
     "duration": 0.840802,
     "end_time": "2021-08-07T08:42:37.159999",
     "exception": false,
     "start_time": "2021-08-07T08:42:36.319197",
     "status": "completed"
    },
    "tags": []
   },
   "outputs": [],
   "source": [
    "powerlifting_meets = pd.read_csv(\"../input/powerlifting-database/meets.csv\")\n",
    "powerlifting_competitors = pd.read_csv(\"../input/powerlifting-database/openpowerlifting.csv\")"
   ]
  },
  {
   "cell_type": "markdown",
   "id": "971015a4",
   "metadata": {
    "papermill": {
     "duration": 0.020612,
     "end_time": "2021-08-07T08:42:37.201699",
     "exception": false,
     "start_time": "2021-08-07T08:42:37.181087",
     "status": "completed"
    },
    "tags": []
   },
   "source": [
    "Both tables include references to a `MeetID`, a unique key for each meet (competition) included in the database. Using this, generate a dataset combining the two tables into one."
   ]
  },
  {
   "cell_type": "code",
   "execution_count": 11,
   "id": "1f8f0966",
   "metadata": {
    "execution": {
     "iopub.execute_input": "2021-08-07T08:42:37.246892Z",
     "iopub.status.busy": "2021-08-07T08:42:37.246221Z",
     "iopub.status.idle": "2021-08-07T08:42:38.555818Z",
     "shell.execute_reply": "2021-08-07T08:42:38.556268Z",
     "shell.execute_reply.started": "2021-08-07T08:38:19.281052Z"
    },
    "papermill": {
     "duration": 1.335654,
     "end_time": "2021-08-07T08:42:38.556424",
     "exception": false,
     "start_time": "2021-08-07T08:42:37.220770",
     "status": "completed"
    },
    "tags": []
   },
   "outputs": [
    {
     "data": {
      "application/javascript": [
       "parent.postMessage({\"jupyterEvent\": \"custom.exercise_interaction\", \"data\": {\"outcomeType\": 1, \"valueTowardsCompletion\": 0.25, \"interactionType\": 1, \"questionType\": 2, \"questionId\": \"4_JoinLifting\", \"learnToolsVersion\": \"0.3.4\", \"failureMessage\": \"\", \"exceptionClass\": \"\", \"trace\": \"\"}}, \"*\")"
      ],
      "text/plain": [
       "<IPython.core.display.Javascript object>"
      ]
     },
     "metadata": {},
     "output_type": "display_data"
    },
    {
     "data": {
      "text/markdown": [
       "<span style=\"color:#33cc33\">Correct</span>"
      ],
      "text/plain": [
       "Correct"
      ]
     },
     "metadata": {},
     "output_type": "display_data"
    }
   ],
   "source": [
    "powerlifting_meets = powerlifting_meets.set_index(\"MeetID\")\n",
    "powerlifting_competitors = powerlifting_competitors.set_index(\"MeetID\")\n",
    "powerlifting_combined = powerlifting_meets.join(powerlifting_competitors)\n",
    "\n",
    "# Check your answer\n",
    "q4.check()"
   ]
  },
  {
   "cell_type": "code",
   "execution_count": 12,
   "id": "0e668902",
   "metadata": {
    "execution": {
     "iopub.execute_input": "2021-08-07T08:42:38.600221Z",
     "iopub.status.busy": "2021-08-07T08:42:38.599634Z",
     "iopub.status.idle": "2021-08-07T08:42:38.601680Z",
     "shell.execute_reply": "2021-08-07T08:42:38.602132Z",
     "shell.execute_reply.started": "2021-08-07T08:38:20.891155Z"
    },
    "papermill": {
     "duration": 0.026141,
     "end_time": "2021-08-07T08:42:38.602271",
     "exception": false,
     "start_time": "2021-08-07T08:42:38.576130",
     "status": "completed"
    },
    "tags": []
   },
   "outputs": [],
   "source": [
    "#q4.hint()\n",
    "#q4.solution()"
   ]
  },
  {
   "cell_type": "markdown",
   "id": "5c12396d",
   "metadata": {
    "papermill": {
     "duration": 0.020225,
     "end_time": "2021-08-07T08:42:38.642431",
     "exception": false,
     "start_time": "2021-08-07T08:42:38.622206",
     "status": "completed"
    },
    "tags": []
   },
   "source": [
    "# Congratulations!\n",
    "\n",
    "You've finished the Pandas micro-course.  Many data scientists feel efficiency with Pandas is the most useful and practical skill they have, because it allows you to progress quickly in any project you have.\n",
    "\n",
    "If you'd like to apply your new skills to examining geospatial data, you're encouraged to check out our **[Geospatial Analysis](https://www.kaggle.com/learn/geospatial-analysis)** micro-course.\n",
    "\n",
    "You can also take advantage of your Pandas skills by entering a **[Kaggle Competition](https://www.kaggle.com/competitions)** or by answering a question you find interesting using **[Kaggle Datasets](https://www.kaggle.com/datasets)**."
   ]
  },
  {
   "cell_type": "markdown",
   "id": "c1228318",
   "metadata": {
    "papermill": {
     "duration": 0.019737,
     "end_time": "2021-08-07T08:42:38.682643",
     "exception": false,
     "start_time": "2021-08-07T08:42:38.662906",
     "status": "completed"
    },
    "tags": []
   },
   "source": [
    "---\n",
    "\n",
    "\n",
    "\n",
    "\n",
    "*Have questions or comments? Visit the [Learn Discussion forum](https://www.kaggle.com/learn-forum/161299) to chat with other Learners.*"
   ]
  }
 ],
 "metadata": {
  "kernelspec": {
   "display_name": "Python 3",
   "language": "python",
   "name": "python3"
  },
  "language_info": {
   "codemirror_mode": {
    "name": "ipython",
    "version": 3
   },
   "file_extension": ".py",
   "mimetype": "text/x-python",
   "name": "python",
   "nbconvert_exporter": "python",
   "pygments_lexer": "ipython3",
   "version": "3.7.10"
  },
  "papermill": {
   "default_parameters": {},
   "duration": 15.30122,
   "end_time": "2021-08-07T08:42:39.413385",
   "environment_variables": {},
   "exception": null,
   "input_path": "__notebook__.ipynb",
   "output_path": "__notebook__.ipynb",
   "parameters": {},
   "start_time": "2021-08-07T08:42:24.112165",
   "version": "2.3.3"
  }
 },
 "nbformat": 4,
 "nbformat_minor": 5
}
