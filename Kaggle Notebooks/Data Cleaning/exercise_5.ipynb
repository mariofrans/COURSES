{
 "cells": [
  {
   "cell_type": "markdown",
   "id": "04a29696",
   "metadata": {
    "papermill": {
     "duration": 0.016114,
     "end_time": "2021-08-20T07:54:55.264088",
     "exception": false,
     "start_time": "2021-08-20T07:54:55.247974",
     "status": "completed"
    },
    "tags": []
   },
   "source": [
    "**This notebook is an exercise in the [Data Cleaning](https://www.kaggle.com/learn/data-cleaning) course.  You can reference the tutorial at [this link](https://www.kaggle.com/alexisbcook/inconsistent-data-entry).**\n",
    "\n",
    "---\n"
   ]
  },
  {
   "cell_type": "markdown",
   "id": "6e8f3442",
   "metadata": {
    "papermill": {
     "duration": 0.014473,
     "end_time": "2021-08-20T07:54:55.293733",
     "exception": false,
     "start_time": "2021-08-20T07:54:55.279260",
     "status": "completed"
    },
    "tags": []
   },
   "source": [
    "In this exercise, you'll apply what you learned in the **Inconsistent data entry** tutorial.\n",
    "\n",
    "# Setup\n",
    "\n",
    "The questions below will give you feedback on your work. Run the following cell to set up the feedback system."
   ]
  },
  {
   "cell_type": "code",
   "execution_count": 1,
   "id": "1bd194cf",
   "metadata": {
    "execution": {
     "iopub.execute_input": "2021-08-20T07:54:55.327903Z",
     "iopub.status.busy": "2021-08-20T07:54:55.326728Z",
     "iopub.status.idle": "2021-08-20T07:54:55.515984Z",
     "shell.execute_reply": "2021-08-20T07:54:55.516733Z",
     "shell.execute_reply.started": "2021-08-20T07:26:15.973107Z"
    },
    "papermill": {
     "duration": 0.208346,
     "end_time": "2021-08-20T07:54:55.517073",
     "exception": false,
     "start_time": "2021-08-20T07:54:55.308727",
     "status": "completed"
    },
    "tags": []
   },
   "outputs": [
    {
     "name": "stdout",
     "output_type": "stream",
     "text": [
      "Setup Complete\n"
     ]
    }
   ],
   "source": [
    "from learntools.core import binder\n",
    "binder.bind(globals())\n",
    "from learntools.data_cleaning.ex5 import *\n",
    "print(\"Setup Complete\")"
   ]
  },
  {
   "cell_type": "markdown",
   "id": "d8c41bc5",
   "metadata": {
    "papermill": {
     "duration": 0.015075,
     "end_time": "2021-08-20T07:54:55.548510",
     "exception": false,
     "start_time": "2021-08-20T07:54:55.533435",
     "status": "completed"
    },
    "tags": []
   },
   "source": [
    "# Get our environment set up\n",
    "\n",
    "The first thing we'll need to do is load in the libraries and dataset we'll be using.  We use the same dataset from the tutorial."
   ]
  },
  {
   "cell_type": "code",
   "execution_count": 2,
   "id": "0b77a9d0",
   "metadata": {
    "execution": {
     "iopub.execute_input": "2021-08-20T07:54:55.585770Z",
     "iopub.status.busy": "2021-08-20T07:54:55.585081Z",
     "iopub.status.idle": "2021-08-20T07:54:55.598942Z",
     "shell.execute_reply": "2021-08-20T07:54:55.598413Z",
     "shell.execute_reply.started": "2021-08-20T07:37:11.224671Z"
    },
    "papermill": {
     "duration": 0.035165,
     "end_time": "2021-08-20T07:54:55.599103",
     "exception": false,
     "start_time": "2021-08-20T07:54:55.563938",
     "status": "completed"
    },
    "tags": []
   },
   "outputs": [],
   "source": [
    "# modules we'll use\n",
    "import pandas as pd\n",
    "import numpy as np\n",
    "\n",
    "# helpful modules\n",
    "import fuzzywuzzy\n",
    "from fuzzywuzzy import process\n",
    "import chardet\n",
    "\n",
    "# read in all our data\n",
    "professors = pd.read_csv(\"../input/pakistan-intellectual-capital/pakistan_intellectual_capital.csv\")\n",
    "\n",
    "# set seed for reproducibility\n",
    "np.random.seed(0)"
   ]
  },
  {
   "cell_type": "markdown",
   "id": "17e01501",
   "metadata": {
    "papermill": {
     "duration": 0.01548,
     "end_time": "2021-08-20T07:54:55.630317",
     "exception": false,
     "start_time": "2021-08-20T07:54:55.614837",
     "status": "completed"
    },
    "tags": []
   },
   "source": [
    "Next, we'll redo all of the work that we did in the tutorial."
   ]
  },
  {
   "cell_type": "code",
   "execution_count": 3,
   "id": "4a1251ef",
   "metadata": {
    "execution": {
     "iopub.execute_input": "2021-08-20T07:54:55.677299Z",
     "iopub.status.busy": "2021-08-20T07:54:55.674626Z",
     "iopub.status.idle": "2021-08-20T07:54:55.680251Z",
     "shell.execute_reply": "2021-08-20T07:54:55.680702Z",
     "shell.execute_reply.started": "2021-08-20T07:52:07.059232Z"
    },
    "papermill": {
     "duration": 0.034088,
     "end_time": "2021-08-20T07:54:55.680868",
     "exception": false,
     "start_time": "2021-08-20T07:54:55.646780",
     "status": "completed"
    },
    "tags": []
   },
   "outputs": [
    {
     "name": "stdout",
     "output_type": "stream",
     "text": [
      "All done!\n"
     ]
    }
   ],
   "source": [
    "# convert to lower case\n",
    "professors['Country'] = professors['Country'].str.lower()\n",
    "# remove trailing white spaces\n",
    "professors['Country'] = professors['Country'].str.strip()\n",
    "\n",
    "# get the top 10 closest matches to \"south korea\"\n",
    "countries = professors['Country'].unique()\n",
    "matches = fuzzywuzzy.process.extract(\"south korea\", countries, limit=10, scorer=fuzzywuzzy.fuzz.token_sort_ratio)\n",
    "\n",
    "def replace_matches_in_column(df, column, string_to_match, min_ratio = 47):\n",
    "    # get a list of unique strings\n",
    "    strings = df[column].unique()\n",
    "    # get the top 10 closest matches to our input string\n",
    "    matches = fuzzywuzzy.process.extract(string_to_match, strings, limit=10, \n",
    "                                         scorer=fuzzywuzzy.fuzz.token_sort_ratio)\n",
    "    # only get matches with a ratio > 90\n",
    "    close_matches = [matches[0] for matches in matches if matches[1] >= min_ratio]\n",
    "    # get the rows of all the close matches in our dataframe\n",
    "    rows_with_matches = df[column].isin(close_matches)\n",
    "    # replace all rows with close matches with the input matches \n",
    "    df.loc[rows_with_matches, column] = string_to_match\n",
    "    # let us know the function's done\n",
    "    print(\"All done!\")\n",
    "    \n",
    "replace_matches_in_column(df=professors, column='Country', string_to_match=\"south korea\")\n",
    "countries = professors['Country'].unique()"
   ]
  },
  {
   "cell_type": "markdown",
   "id": "091bd987",
   "metadata": {
    "papermill": {
     "duration": 0.015121,
     "end_time": "2021-08-20T07:54:55.711575",
     "exception": false,
     "start_time": "2021-08-20T07:54:55.696454",
     "status": "completed"
    },
    "tags": []
   },
   "source": [
    "# 1) Examine another column\n",
    "\n",
    "Write code below to take a look at all the unique values in the \"Graduated from\" column."
   ]
  },
  {
   "cell_type": "code",
   "execution_count": 4,
   "id": "191fe05d",
   "metadata": {
    "execution": {
     "iopub.execute_input": "2021-08-20T07:54:55.753301Z",
     "iopub.status.busy": "2021-08-20T07:54:55.752368Z",
     "iopub.status.idle": "2021-08-20T07:54:55.759358Z",
     "shell.execute_reply": "2021-08-20T07:54:55.759859Z",
     "shell.execute_reply.started": "2021-08-20T07:39:52.969939Z"
    },
    "papermill": {
     "duration": 0.032723,
     "end_time": "2021-08-20T07:54:55.760022",
     "exception": false,
     "start_time": "2021-08-20T07:54:55.727299",
     "status": "completed"
    },
    "tags": []
   },
   "outputs": [
    {
     "data": {
      "text/plain": [
       "array([' Columbia University', ' Delft University of Technology',\n",
       "       ' Iowa State University', ' University of Central Florida',\n",
       "       ' University of Innsbruck',\n",
       "       ' University of Texas at Arlington (UTA)', ' University of Turin',\n",
       "       'Abasyn University', 'Abdul Wali Khan University, Mardan',\n",
       "       'Abdus Salam School of Mathematical Sciences,GC University',\n",
       "       'Agricultural University Peshawar', 'Allama Iqbal Open University',\n",
       "       'Asian Institute of Technology', 'Aston University, Birmingham',\n",
       "       'Australian National University, Caneberra', 'BUKC',\n",
       "       'Bahauddin Zakariya University', 'Bahria University',\n",
       "       'Bahria University,Islamabad',\n",
       "       'Balochistan University of Information Technology, Engineering and Management Sciences',\n",
       "       'Barani Institute of Information Technology',\n",
       "       'Beaconhouse National University', 'Beihang University',\n",
       "       'Beijing Institute of Technology',\n",
       "       'Beijing Institute of Technology Beijing',\n",
       "       'Beijing University of Posts & Telecommunications',\n",
       "       'Biztek Institute Of Business & Technology,Karachi',\n",
       "       'Blekinge Institute of Technology', 'Brock University Canada',\n",
       "       'Brunel University',\n",
       "       'CECOS University of Information Technology and Emerging Sciences,Peshawar',\n",
       "       'COMSATS Institute of Information Technology',\n",
       "       'COMSATS Institute of Information Technology,Islamabad',\n",
       "       'COMSATS Institute of Information Technology,Lahore',\n",
       "       'COMSATS Institute of Information Technology,Vehari',\n",
       "       'COMSATS Institute of Information Technology,Wah Cantt',\n",
       "       'California State University',\n",
       "       'Capital University of Science & Technology',\n",
       "       'Capital University of Science and Technology',\n",
       "       'Carnegie Mellon University, Pittsburgh',\n",
       "       'Centre for Advanced Studies in Engineering',\n",
       "       'Chalmers University of Technology', 'Chinese Academy of Sciences',\n",
       "       'Chosun University', 'City University of Science and Technology',\n",
       "       'Colorado State University', 'Colorado Technical University',\n",
       "       'Columbia University', 'Concordia University,Montreal',\n",
       "       'Coventry University', 'Cranfield University', 'DUET,Karachi',\n",
       "       'DePaul University, Chicago',\n",
       "       'Dresden University Of Technology, Dresden\\xa0',\n",
       "       'Eindhoven University of Technology (TU/e)',\n",
       "       'FAST– National University of Computer and Emerging Sciences',\n",
       "       'FAST– National University of Computer and Emerging Sciences,Chiniot-Faisalabad',\n",
       "       'FAST– National University of Computer and Emerging Sciences,Islamabad',\n",
       "       'FAST– National University of Computer and Emerging Sciences,Lahore',\n",
       "       'FAST– National University of Computer and Emerging Sciences,Peshawar',\n",
       "       'Fatima Jinnah Women University, Rawalpindi',\n",
       "       'Fedral Urdu University', 'Florida Atlantic University',\n",
       "       'Foundation University', 'Galilée - Université Paris 13',\n",
       "       'George Mason University', 'George Washington University',\n",
       "       'Georgetown University,DC',\n",
       "       'Ghulam Ishaq Khan Institute of Science and Technology',\n",
       "       'Gomal University', 'Government College University',\n",
       "       'Government College University, Faisalabad',\n",
       "       'Government College University,Faisalabad',\n",
       "       'Graz University of Technology', 'Grenoble', 'Griffith University',\n",
       "       'Griffith University,Nathan Campus', 'Guildford',\n",
       "       'Gwangju Institute of Science and Technology',\n",
       "       'HITEC University,Taxila', 'Hamburg University of Technology',\n",
       "       'Hamdard University', 'Hanyang University, Ansan',\n",
       "       'Harbin Institute of Technology',\n",
       "       'Huazhong University of Science and Technology (HUST), Wuhan',\n",
       "       'IBMS KP Agricultural University Peshawar',\n",
       "       'INRIA Saclay Ile-de-France', 'INSA de Lyon, Rhone',\n",
       "       'IQRA University', 'IQRA University,Islamabad',\n",
       "       'IQRA University,Karachi', 'ISRA University',\n",
       "       'Illinois Institute of Technology',\n",
       "       'Ilmenau University of Technology',\n",
       "       'Imperial College, University of London',\n",
       "       'Information Technology University (ITU)',\n",
       "       'Institute Of Managment Sciences, Peshawar',\n",
       "       'Institute of Business Administration',\n",
       "       'Institute of Business Administration,Karachi',\n",
       "       'Institute of Business Administration,Sukkur',\n",
       "       'Institute of Management Sciences, Peshawar',\n",
       "       'International Islamic University',\n",
       "       'International Islamic University,Islamabad',\n",
       "       'Islamia College University ', 'JKU', 'JNU',\n",
       "       'Jinnah University for Women', 'John Moorse University, Liverpool',\n",
       "       'Jonkoping University', 'KTH Royal Institute of Technology',\n",
       "       'King Abdullah University of Science and Technology',\n",
       "       'Kingston University London',\n",
       "       'Kohat University of Science & Technology, Kohat',\n",
       "       'Kyung Hee University', 'Kyungpook National University',\n",
       "       'Kyushu University,Fukuoka', 'Lahore College for Women University',\n",
       "       'Lahore Leads University',\n",
       "       'Lahore University of Management Sciences', 'Linköping University',\n",
       "       'Liverpool John Moores University', 'London University',\n",
       "       'Loughborough University', 'Manchester Metropolitan University',\n",
       "       'Manchester University', 'Massachusetts Institute of Technology',\n",
       "       'Max Planck Institute for Computer Science',\n",
       "       'Mehran University of Engineering & Technology',\n",
       "       'Mid Sweden University', 'Middle East Technical University',\n",
       "       'Middlesex University', 'Minhaj University Lahore',\n",
       "       'Mohammad Ali Jinnah University', 'Monash University',\n",
       "       'Muroran Institute of Technology,Hokkaido', 'Myongji University',\n",
       "       'NCSU', 'NED University of Engineering And Technology',\n",
       "       'Nancy 2 University', 'Nanyang Tech University',\n",
       "       'National College of Business Administration and Economics',\n",
       "       'National Textile University',\n",
       "       'National University of Modern Languages',\n",
       "       'National University of Modern Languages,Islamabad',\n",
       "       'National University of Sciences and Technology',\n",
       "       'National University of Singapore',\n",
       "       'New York Institute of Technology',\n",
       "       'North Dakota State University', 'Northeastern University,Boston',\n",
       "       'Norwegian University of Science and Technology (NTNU),',\n",
       "       'Nottingham Trent University', 'Oxford Brookes University',\n",
       "       'PAF-Karachi Institute of Economics and Technology',\n",
       "       'Pace University, New York',\n",
       "       'Pakistan Institute of Engineering and Applied Sciences',\n",
       "       'Paris Descartes University', 'Paris Tech University of Eurecom',\n",
       "       'Pir Mehr Ali Shah Arid Agriculture University',\n",
       "       'Pohang University of Science and Technology',\n",
       "       'Politecnico di Milano', 'Politecnico di Torino',\n",
       "       'Pompeu Fabra University Barcelona', 'Preston',\n",
       "       'Punjab University College of Information Technology',\n",
       "       'Purdue University',\n",
       "       'Quaid-e-Awam University of Engineering, Science & Technology',\n",
       "       'Quaid-i-Azam University', 'Queen Mary University of London',\n",
       "       'RWTH Aachen University',\n",
       "       'Razak School of Engineering and Advanced Technology, Universiti Teknologi Malaysia (UTM)',\n",
       "       'Riphah International University',\n",
       "       'Riphah International University,Faisalabad',\n",
       "       'Rutgers State University of New Jersey, NJ',\n",
       "       'SRH Hochschule Heidelberg', 'SSindh Agriculture University',\n",
       "       'Saarland University', 'Sapienza University of Rome',\n",
       "       \"Sardar Bahadur Khan Women's University\",\n",
       "       'Seoul National University',\n",
       "       'Shah Abdul Latif University, Khairpur',\n",
       "       'Shaheed Zulfikar Ali Bhutto Institute of Science and Technology',\n",
       "       'Shaheed Zulfikar Ali Bhutto Institute of Science and Technology,Islamabad',\n",
       "       'Sindh Agriculture University', 'Sindh University',\n",
       "       'Sir Syed University of Engineering and Technology',\n",
       "       'Skolkovo Institute of Science and Technology,\\xa0',\n",
       "       'South Asian University', 'Staffordshire University',\n",
       "       'Stanford University', 'State University of New York System',\n",
       "       'Stockholm University', 'Sungkyunkwan University',\n",
       "       'Superior University, Lahore', 'Swansea',\n",
       "       'Swedish University of Agricultural Sciences, Uppsala',\n",
       "       'Swinburne University Of Technology', 'TU Berlin', 'TU Wien',\n",
       "       'Technical University of Braunschweig',\n",
       "       'Technical University of Graz', 'Temple University',\n",
       "       'The Islamia University of Bahawalpur ',\n",
       "       'The Ohio State University', 'The Queens University of Belfast',\n",
       "       'The State University of New Jersey', 'The University of Auckland',\n",
       "       'The University of Birmingham', 'The University of Cambridge',\n",
       "       'The University of Leeds', 'The University of Manchester',\n",
       "       'The University of Queensland',\n",
       "       'The University of Texas at Austin', 'The University of York',\n",
       "       'Tilburg University', 'Tokyo Institute of Technology',\n",
       "       'Tsinghua University',\n",
       "       'United Nations University International Institute for Software Technology (UNU-IIST)',\n",
       "       'Univ of Porto/Univ of Aveiro Portugal/Uni of Minho',\n",
       "       \"Universite d'Evry Val d'Essonne\",\n",
       "       'Universiti Putra Malaysia Putra', 'Universiti Technologi',\n",
       "       'Universiti Teknologi PETRONAS',\n",
       "       'Universiti Tun Hussein Onn Malaysia',\n",
       "       'University Institute of Information Technology',\n",
       "       'University Of Caen', 'University Of Oslo',\n",
       "       'University Of Salford', 'University Of Southern California',\n",
       "       'University Of Waterloo', 'University Paris',\n",
       "       'University of Abertay Dundee', 'University of Agriculture',\n",
       "       'University of Agriculture Faisalabad',\n",
       "       'University of Agriculture, Faisalabad',\n",
       "       'University of Agriculture, Faisalabad\\xa0',\n",
       "       'University of Arid Agriculture', 'University of Balochistan',\n",
       "       'University of Bath', 'University of Bayreuth',\n",
       "       'University of BedfordShire', 'University of Bedfordshire',\n",
       "       'University of Bergen', 'University of Birmingham',\n",
       "       'University of Bologna', 'University of Bonn',\n",
       "       'University of Bradford', 'University of Bristol',\n",
       "       'University of British Columbia', 'University of Canterbury',\n",
       "       'University of Central Florida', 'University of Central Missouri',\n",
       "       'University of Central Punjab', 'University of Colorado\\xa0',\n",
       "       'University of Dundee', 'University of Engineering & Technology',\n",
       "       'University of Engineering and Technology',\n",
       "       'University of Engineering and Technology,Peshawar',\n",
       "       'University of Engineering and Technology,Taxila',\n",
       "       'University of Essex', 'University of Florida',\n",
       "       'University of Freiburg', 'University of Genova',\n",
       "       'University of Glasgow', 'University of Grenoble',\n",
       "       'University of Gujrat', 'University of Huddersfield',\n",
       "       'University of Illinois', 'University of Innsbruck',\n",
       "       'University of Karachi', 'University of Kent',\n",
       "       'University of Konstanz', 'University of Kuala Lumpur',\n",
       "       'University of Lahore', 'University of Leeds',\n",
       "       'University of Leicester', 'University of Limerick',\n",
       "       'University of Liverpool', 'University of Malaga',\n",
       "       'University of Malaya', 'University of Management and Technology',\n",
       "       'University of Manchester',\n",
       "       'University of Manchester Institute of Science and Technology',\n",
       "       'University of Mississippi\\xa0',\n",
       "       'University of New South Wales, Sydney',\n",
       "       'University of Nice, Sophia Antipolis',\n",
       "       'University of Northampton',\n",
       "       'University of Notre Dame Indiana\\xa0', 'University of Orleans',\n",
       "       'University of Oviedo', 'University of Paisley',\n",
       "       'University of Paris', 'University of Paris-Est',\n",
       "       'University of Patras', 'University of Peshawar',\n",
       "       'University of Pittsburgh', 'University of Plymouth',\n",
       "       'University of Porto', 'University of Regina',\n",
       "       'University of Rochester', 'University of Rome Tor Vergata',\n",
       "       'University of Saarland', 'University of Salford',\n",
       "       'University of Shanghai for Science and Technology',\n",
       "       'University of South Australia', 'University of South Brittany',\n",
       "       'University of South Florida', 'University of Southampton',\n",
       "       'University of Southern California', 'University of Stirling',\n",
       "       'University of Stuttgart', 'University of Sunderland',\n",
       "       'University of Surrey', 'University of Sussex',\n",
       "       'University of Technology', 'University of Trento',\n",
       "       'University of Turbat', 'University of Ulm',\n",
       "       'University of Vienna', 'University of Virginia',\n",
       "       'University of Wales', 'University of Wales,Aberystwyth',\n",
       "       'University of Westminster', 'University of York',\n",
       "       'University of the Punjab', 'University of the Punjab,Gujranwala',\n",
       "       'University of the West Scotland',\n",
       "       'University of\\xa0Liverpool John Moores University',\n",
       "       'Universität Salzburg', 'Université Henri Poincaré, Nancy 1,',\n",
       "       'Université de la Rochelle', 'Universtiy of Karachi',\n",
       "       'Universtiy of Lahore', 'Uppsala University',\n",
       "       'Usman Institute of Technology',\n",
       "       'Usman Institute of Technology (Hamdard University)',\n",
       "       'Vienna University of Technology',\n",
       "       'Virtual University of Pakistan', 'Vrije University, Amsterdam',\n",
       "       'Wayne State University', 'Xiamen university',\n",
       "       'Zhejiang University', '\\xa0Boston University',\n",
       "       '\\xa0Hongik University', '\\xa0Nanyang Technological University',\n",
       "       '\\xa0National University of Sciences and Technology-NIIT',\n",
       "       '\\xa0University of Bedfordshire', '\\xa0University of Bonn',\n",
       "       '\\xa0University of Missouri, KC', '\\xa0University of Windsor',\n",
       "       'Åbo Akademi University,'], dtype=object)"
      ]
     },
     "execution_count": 4,
     "metadata": {},
     "output_type": "execute_result"
    }
   ],
   "source": [
    "# TODO: Your code here\n",
    "graduated = professors['Graduated from'].unique()\n",
    "graduated.sort()\n",
    "graduated"
   ]
  },
  {
   "cell_type": "markdown",
   "id": "5c15c327",
   "metadata": {
    "papermill": {
     "duration": 0.01568,
     "end_time": "2021-08-20T07:54:55.791962",
     "exception": false,
     "start_time": "2021-08-20T07:54:55.776282",
     "status": "completed"
    },
    "tags": []
   },
   "source": [
    "Do you notice any inconsistencies in the data?  Can any of the inconsistencies in the data be fixed by removing white spaces at the beginning and end of cells?\n",
    "\n",
    "Once you have answered these questions, run the code cell below to get credit for your work."
   ]
  },
  {
   "cell_type": "code",
   "execution_count": 5,
   "id": "23264efa",
   "metadata": {
    "execution": {
     "iopub.execute_input": "2021-08-20T07:54:55.828607Z",
     "iopub.status.busy": "2021-08-20T07:54:55.827557Z",
     "iopub.status.idle": "2021-08-20T07:54:55.835524Z",
     "shell.execute_reply": "2021-08-20T07:54:55.836098Z",
     "shell.execute_reply.started": "2021-08-20T07:40:59.767557Z"
    },
    "papermill": {
     "duration": 0.028127,
     "end_time": "2021-08-20T07:54:55.836256",
     "exception": false,
     "start_time": "2021-08-20T07:54:55.808129",
     "status": "completed"
    },
    "tags": []
   },
   "outputs": [
    {
     "data": {
      "application/javascript": [
       "parent.postMessage({\"jupyterEvent\": \"custom.exercise_interaction\", \"data\": {\"outcomeType\": 1, \"valueTowardsCompletion\": 0.3333333333333333, \"interactionType\": 1, \"questionType\": 4, \"questionId\": \"1_ExamineProvince\", \"learnToolsVersion\": \"0.3.4\", \"failureMessage\": \"\", \"exceptionClass\": \"\", \"trace\": \"\"}}, \"*\")"
      ],
      "text/plain": [
       "<IPython.core.display.Javascript object>"
      ]
     },
     "metadata": {},
     "output_type": "display_data"
    },
    {
     "data": {
      "text/markdown": [
       "<span style=\"color:#33cc33\">Correct:</span> \n",
       "\n",
       "There are inconsistencies that can be fixed by removing white spaces at the beginning and end of cells.  For instance, \"University of Central Florida\" and \" University of Central Florida\" both appear in the column."
      ],
      "text/plain": [
       "Correct: \n",
       "\n",
       "There are inconsistencies that can be fixed by removing white spaces at the beginning and end of cells.  For instance, \"University of Central Florida\" and \" University of Central Florida\" both appear in the column."
      ]
     },
     "metadata": {},
     "output_type": "display_data"
    }
   ],
   "source": [
    "# Check your answer (Run this code cell to receive credit!)\n",
    "q1.check()"
   ]
  },
  {
   "cell_type": "code",
   "execution_count": 6,
   "id": "6030a294",
   "metadata": {
    "execution": {
     "iopub.execute_input": "2021-08-20T07:54:55.875075Z",
     "iopub.status.busy": "2021-08-20T07:54:55.874124Z",
     "iopub.status.idle": "2021-08-20T07:54:55.877527Z",
     "shell.execute_reply": "2021-08-20T07:54:55.878117Z",
     "shell.execute_reply.started": "2021-08-20T07:43:28.765295Z"
    },
    "papermill": {
     "duration": 0.024402,
     "end_time": "2021-08-20T07:54:55.878305",
     "exception": false,
     "start_time": "2021-08-20T07:54:55.853903",
     "status": "completed"
    },
    "tags": []
   },
   "outputs": [],
   "source": [
    "# Line below will give you a hint\n",
    "#q1.hint()"
   ]
  },
  {
   "cell_type": "markdown",
   "id": "aab7c812",
   "metadata": {
    "papermill": {
     "duration": 0.017072,
     "end_time": "2021-08-20T07:54:55.912587",
     "exception": false,
     "start_time": "2021-08-20T07:54:55.895515",
     "status": "completed"
    },
    "tags": []
   },
   "source": [
    "# 2) Do some text pre-processing\n",
    "\n",
    "Convert every entry in the \"Graduated from\" column in the `professors` DataFrame to remove white spaces at the beginning and end of cells."
   ]
  },
  {
   "cell_type": "code",
   "execution_count": 7,
   "id": "f5a6dd0f",
   "metadata": {
    "execution": {
     "iopub.execute_input": "2021-08-20T07:54:55.951212Z",
     "iopub.status.busy": "2021-08-20T07:54:55.950272Z",
     "iopub.status.idle": "2021-08-20T07:54:55.962510Z",
     "shell.execute_reply": "2021-08-20T07:54:55.963094Z",
     "shell.execute_reply.started": "2021-08-20T07:48:00.882664Z"
    },
    "papermill": {
     "duration": 0.033106,
     "end_time": "2021-08-20T07:54:55.963256",
     "exception": false,
     "start_time": "2021-08-20T07:54:55.930150",
     "status": "completed"
    },
    "tags": []
   },
   "outputs": [
    {
     "data": {
      "application/javascript": [
       "parent.postMessage({\"jupyterEvent\": \"custom.exercise_interaction\", \"data\": {\"outcomeType\": 1, \"valueTowardsCompletion\": 0.3333333333333333, \"interactionType\": 1, \"questionType\": 1, \"questionId\": \"2_TextProcessing\", \"learnToolsVersion\": \"0.3.4\", \"failureMessage\": \"\", \"exceptionClass\": \"\", \"trace\": \"\"}}, \"*\")"
      ],
      "text/plain": [
       "<IPython.core.display.Javascript object>"
      ]
     },
     "metadata": {},
     "output_type": "display_data"
    },
    {
     "data": {
      "text/markdown": [
       "<span style=\"color:#33cc33\">Correct</span>"
      ],
      "text/plain": [
       "Correct"
      ]
     },
     "metadata": {},
     "output_type": "display_data"
    }
   ],
   "source": [
    "# remove white spaced in the beginning & end of data\n",
    "professors['Graduated from'] = professors['Graduated from'].str.strip()\n",
    "\n",
    "# Check your answer\n",
    "q2.check()"
   ]
  },
  {
   "cell_type": "code",
   "execution_count": 8,
   "id": "2c58a567",
   "metadata": {
    "execution": {
     "iopub.execute_input": "2021-08-20T07:54:56.003974Z",
     "iopub.status.busy": "2021-08-20T07:54:56.002980Z",
     "iopub.status.idle": "2021-08-20T07:54:56.006432Z",
     "shell.execute_reply": "2021-08-20T07:54:56.007029Z",
     "shell.execute_reply.started": "2021-08-20T07:47:58.694405Z"
    },
    "papermill": {
     "duration": 0.025464,
     "end_time": "2021-08-20T07:54:56.007201",
     "exception": false,
     "start_time": "2021-08-20T07:54:55.981737",
     "status": "completed"
    },
    "tags": []
   },
   "outputs": [],
   "source": [
    "# Lines below will give you a hint or solution code\n",
    "#q2.hint()\n",
    "#q2.solution()"
   ]
  },
  {
   "cell_type": "markdown",
   "id": "63738ca1",
   "metadata": {
    "papermill": {
     "duration": 0.018106,
     "end_time": "2021-08-20T07:54:56.043697",
     "exception": false,
     "start_time": "2021-08-20T07:54:56.025591",
     "status": "completed"
    },
    "tags": []
   },
   "source": [
    "# 3) Continue working with countries\n",
    "\n",
    "In the tutorial, we focused on cleaning up inconsistencies in the \"Country\" column.  Run the code cell below to view the list of unique values that we ended with."
   ]
  },
  {
   "cell_type": "code",
   "execution_count": 9,
   "id": "72359518",
   "metadata": {
    "execution": {
     "iopub.execute_input": "2021-08-20T07:54:56.084578Z",
     "iopub.status.busy": "2021-08-20T07:54:56.083602Z",
     "iopub.status.idle": "2021-08-20T07:54:56.090228Z",
     "shell.execute_reply": "2021-08-20T07:54:56.090744Z",
     "shell.execute_reply.started": "2021-08-20T07:49:07.217443Z"
    },
    "papermill": {
     "duration": 0.028625,
     "end_time": "2021-08-20T07:54:56.090914",
     "exception": false,
     "start_time": "2021-08-20T07:54:56.062289",
     "status": "completed"
    },
    "tags": []
   },
   "outputs": [
    {
     "data": {
      "text/plain": [
       "array(['australia', 'austria', 'canada', 'china', 'finland', 'france',\n",
       "       'germany', 'greece', 'hongkong', 'ireland', 'italy', 'japan',\n",
       "       'macau', 'malaysia', 'mauritius', 'netherland', 'new zealand',\n",
       "       'norway', 'pakistan', 'portugal', 'russian federation',\n",
       "       'saudi arabia', 'scotland', 'singapore', 'south korea', 'spain',\n",
       "       'sweden', 'thailand', 'turkey', 'uk', 'urbana', 'usa', 'usofa'],\n",
       "      dtype=object)"
      ]
     },
     "execution_count": 9,
     "metadata": {},
     "output_type": "execute_result"
    }
   ],
   "source": [
    "# get all the unique values in the 'City' column\n",
    "countries = professors['Country'].unique()\n",
    "\n",
    "# sort them alphabetically and then take a closer look\n",
    "countries.sort()\n",
    "countries"
   ]
  },
  {
   "cell_type": "markdown",
   "id": "873af314",
   "metadata": {
    "papermill": {
     "duration": 0.018475,
     "end_time": "2021-08-20T07:54:56.128334",
     "exception": false,
     "start_time": "2021-08-20T07:54:56.109859",
     "status": "completed"
    },
    "tags": []
   },
   "source": [
    "Take another look at the \"Country\" column and see if there's any more data cleaning we need to do.\n",
    "\n",
    "It looks like 'usa' and 'usofa' should be the same country.  Correct the \"Country\" column in the dataframe so that 'usofa' appears instead as 'usa'.\n",
    "\n",
    "**Use the most recent version of the DataFrame (with the whitespaces at the beginning and end of cells removed) from question 2.**"
   ]
  },
  {
   "cell_type": "code",
   "execution_count": 10,
   "id": "e0df13df",
   "metadata": {
    "execution": {
     "iopub.execute_input": "2021-08-20T07:54:56.169356Z",
     "iopub.status.busy": "2021-08-20T07:54:56.168742Z",
     "iopub.status.idle": "2021-08-20T07:54:56.181618Z",
     "shell.execute_reply": "2021-08-20T07:54:56.180958Z",
     "shell.execute_reply.started": "2021-08-20T07:54:26.285260Z"
    },
    "papermill": {
     "duration": 0.034536,
     "end_time": "2021-08-20T07:54:56.181764",
     "exception": false,
     "start_time": "2021-08-20T07:54:56.147228",
     "status": "completed"
    },
    "tags": []
   },
   "outputs": [
    {
     "name": "stdout",
     "output_type": "stream",
     "text": [
      "All done!\n"
     ]
    },
    {
     "data": {
      "application/javascript": [
       "parent.postMessage({\"jupyterEvent\": \"custom.exercise_interaction\", \"data\": {\"outcomeType\": 1, \"valueTowardsCompletion\": 0.3333333333333333, \"interactionType\": 1, \"questionType\": 1, \"questionId\": \"3_WorkingWithCities\", \"learnToolsVersion\": \"0.3.4\", \"failureMessage\": \"\", \"exceptionClass\": \"\", \"trace\": \"\"}}, \"*\")"
      ],
      "text/plain": [
       "<IPython.core.display.Javascript object>"
      ]
     },
     "metadata": {},
     "output_type": "display_data"
    },
    {
     "data": {
      "text/markdown": [
       "<span style=\"color:#33cc33\">Correct</span>"
      ],
      "text/plain": [
       "Correct"
      ]
     },
     "metadata": {},
     "output_type": "display_data"
    }
   ],
   "source": [
    "# TODO: Your code here!\n",
    "matches = fuzzywuzzy.process.extract(\"usa\", countries, limit=10, scorer=fuzzywuzzy.fuzz.token_sort_ratio)\n",
    "replace_matches_in_column(df=professors, column='Country', string_to_match=\"usa\", min_ratio=70)\n",
    "\n",
    "# Check your answer\n",
    "q3.check()"
   ]
  },
  {
   "cell_type": "code",
   "execution_count": 11,
   "id": "1ab525e8",
   "metadata": {
    "execution": {
     "iopub.execute_input": "2021-08-20T07:54:56.226607Z",
     "iopub.status.busy": "2021-08-20T07:54:56.225941Z",
     "iopub.status.idle": "2021-08-20T07:54:56.228879Z",
     "shell.execute_reply": "2021-08-20T07:54:56.228248Z",
     "shell.execute_reply.started": "2021-08-20T07:54:17.251982Z"
    },
    "papermill": {
     "duration": 0.026958,
     "end_time": "2021-08-20T07:54:56.229016",
     "exception": false,
     "start_time": "2021-08-20T07:54:56.202058",
     "status": "completed"
    },
    "tags": []
   },
   "outputs": [],
   "source": [
    "# Lines below will give you a hint or solution code\n",
    "#q3.hint()\n",
    "#q3.solution()"
   ]
  },
  {
   "cell_type": "markdown",
   "id": "e35288f2",
   "metadata": {
    "papermill": {
     "duration": 0.025528,
     "end_time": "2021-08-20T07:54:56.278097",
     "exception": false,
     "start_time": "2021-08-20T07:54:56.252569",
     "status": "completed"
    },
    "tags": []
   },
   "source": [
    "# Congratulations!\n",
    "\n",
    "Congratulations for completing the **Data Cleaning** course on Kaggle Learn!\n",
    "\n",
    "To practice your new skills, you're encouraged to download and investigate some of [Kaggle's Datasets](https://www.kaggle.com/datasets)."
   ]
  },
  {
   "cell_type": "markdown",
   "id": "83f63205",
   "metadata": {
    "papermill": {
     "duration": 0.023886,
     "end_time": "2021-08-20T07:54:56.330583",
     "exception": false,
     "start_time": "2021-08-20T07:54:56.306697",
     "status": "completed"
    },
    "tags": []
   },
   "source": [
    "---\n",
    "\n",
    "\n",
    "\n",
    "\n",
    "*Have questions or comments? Visit the [Learn Discussion forum](https://www.kaggle.com/learn-forum/172650) to chat with other Learners.*"
   ]
  }
 ],
 "metadata": {
  "kernelspec": {
   "display_name": "Python 3",
   "language": "python",
   "name": "python3"
  },
  "language_info": {
   "codemirror_mode": {
    "name": "ipython",
    "version": 3
   },
   "file_extension": ".py",
   "mimetype": "text/x-python",
   "name": "python",
   "nbconvert_exporter": "python",
   "pygments_lexer": "ipython3",
   "version": "3.7.10"
  },
  "papermill": {
   "default_parameters": {},
   "duration": 9.681269,
   "end_time": "2021-08-20T07:54:56.964203",
   "environment_variables": {},
   "exception": null,
   "input_path": "__notebook__.ipynb",
   "output_path": "__notebook__.ipynb",
   "parameters": {},
   "start_time": "2021-08-20T07:54:47.282934",
   "version": "2.3.3"
  }
 },
 "nbformat": 4,
 "nbformat_minor": 5
}
