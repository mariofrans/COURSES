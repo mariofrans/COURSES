{
 "cells": [
  {
   "cell_type": "markdown",
   "id": "1c518857",
   "metadata": {
    "papermill": {
     "duration": 0.017054,
     "end_time": "2021-08-20T06:37:29.082837",
     "exception": false,
     "start_time": "2021-08-20T06:37:29.065783",
     "status": "completed"
    },
    "tags": []
   },
   "source": [
    "**This notebook is an exercise in the [Data Cleaning](https://www.kaggle.com/learn/data-cleaning) course.  You can reference the tutorial at [this link](https://www.kaggle.com/alexisbcook/scaling-and-normalization).**\n",
    "\n",
    "---\n"
   ]
  },
  {
   "cell_type": "markdown",
   "id": "db4ba090",
   "metadata": {
    "papermill": {
     "duration": 0.016071,
     "end_time": "2021-08-20T06:37:29.116705",
     "exception": false,
     "start_time": "2021-08-20T06:37:29.100634",
     "status": "completed"
    },
    "tags": []
   },
   "source": [
    "In this exercise, you'll apply what you learned in the **Scaling and normalization** tutorial.\n",
    "\n",
    "# Setup\n",
    "\n",
    "The questions below will give you feedback on your work. Run the following cell to set up the feedback system."
   ]
  },
  {
   "cell_type": "code",
   "execution_count": 1,
   "id": "6862a8a2",
   "metadata": {
    "execution": {
     "iopub.execute_input": "2021-08-20T06:37:29.154571Z",
     "iopub.status.busy": "2021-08-20T06:37:29.153381Z",
     "iopub.status.idle": "2021-08-20T06:37:32.688277Z",
     "shell.execute_reply": "2021-08-20T06:37:32.687307Z",
     "shell.execute_reply.started": "2021-08-20T06:24:42.034524Z"
    },
    "papermill": {
     "duration": 3.554699,
     "end_time": "2021-08-20T06:37:32.688443",
     "exception": false,
     "start_time": "2021-08-20T06:37:29.133744",
     "status": "completed"
    },
    "tags": []
   },
   "outputs": [
    {
     "name": "stdout",
     "output_type": "stream",
     "text": [
      "Setup Complete\n"
     ]
    }
   ],
   "source": [
    "from learntools.core import binder\n",
    "binder.bind(globals())\n",
    "from learntools.data_cleaning.ex2 import *\n",
    "print(\"Setup Complete\")"
   ]
  },
  {
   "cell_type": "markdown",
   "id": "177ba683",
   "metadata": {
    "papermill": {
     "duration": 0.016931,
     "end_time": "2021-08-20T06:37:32.722316",
     "exception": false,
     "start_time": "2021-08-20T06:37:32.705385",
     "status": "completed"
    },
    "tags": []
   },
   "source": [
    "# Get our environment set up\n",
    "\n",
    "To practice scaling and normalization, we're going to use a [dataset of Kickstarter campaigns](https://www.kaggle.com/kemical/kickstarter-projects). (Kickstarter is a website where people can ask people to invest in various projects and concept products.)\n",
    "\n",
    "The next code cell loads in the libraries and dataset we'll be using. "
   ]
  },
  {
   "cell_type": "code",
   "execution_count": 2,
   "id": "e98a02e4",
   "metadata": {
    "execution": {
     "iopub.execute_input": "2021-08-20T06:37:32.762239Z",
     "iopub.status.busy": "2021-08-20T06:37:32.761439Z",
     "iopub.status.idle": "2021-08-20T06:37:34.338307Z",
     "shell.execute_reply": "2021-08-20T06:37:34.337457Z"
    },
    "papermill": {
     "duration": 1.599244,
     "end_time": "2021-08-20T06:37:34.338484",
     "exception": false,
     "start_time": "2021-08-20T06:37:32.739240",
     "status": "completed"
    },
    "tags": []
   },
   "outputs": [],
   "source": [
    "# modules we'll use\n",
    "import pandas as pd\n",
    "import numpy as np\n",
    "\n",
    "# for Box-Cox Transformation\n",
    "from scipy import stats\n",
    "\n",
    "# for min_max scaling\n",
    "from mlxtend.preprocessing import minmax_scaling\n",
    "\n",
    "# plotting modules\n",
    "import seaborn as sns\n",
    "import matplotlib.pyplot as plt\n",
    "\n",
    "# read in all our data\n",
    "kickstarters_2017 = pd.read_csv(\"../input/kickstarter-projects/ks-projects-201801.csv\")\n",
    "\n",
    "# set seed for reproducibility\n",
    "np.random.seed(0)"
   ]
  },
  {
   "cell_type": "markdown",
   "id": "5b3f5631",
   "metadata": {
    "papermill": {
     "duration": 0.017909,
     "end_time": "2021-08-20T06:37:34.374047",
     "exception": false,
     "start_time": "2021-08-20T06:37:34.356138",
     "status": "completed"
    },
    "tags": []
   },
   "source": [
    "Let's start by scaling the goals of each campaign, which is how much money they were asking for.  The plots show a histogram of the values in the \"usd_goal_real\" column, both before and after scaling.  "
   ]
  },
  {
   "cell_type": "code",
   "execution_count": 3,
   "id": "8270422f",
   "metadata": {
    "execution": {
     "iopub.execute_input": "2021-08-20T06:37:34.416191Z",
     "iopub.status.busy": "2021-08-20T06:37:34.415136Z",
     "iopub.status.idle": "2021-08-20T06:37:38.009573Z",
     "shell.execute_reply": "2021-08-20T06:37:38.009014Z",
     "shell.execute_reply.started": "2021-08-20T06:26:40.291372Z"
    },
    "papermill": {
     "duration": 3.618735,
     "end_time": "2021-08-20T06:37:38.009714",
     "exception": false,
     "start_time": "2021-08-20T06:37:34.390979",
     "status": "completed"
    },
    "tags": []
   },
   "outputs": [
    {
     "name": "stderr",
     "output_type": "stream",
     "text": [
      "/opt/conda/lib/python3.7/site-packages/seaborn/distributions.py:2557: FutureWarning: `distplot` is a deprecated function and will be removed in a future version. Please adapt your code to use either `displot` (a figure-level function with similar flexibility) or `histplot` (an axes-level function for histograms).\n",
      "  warnings.warn(msg, FutureWarning)\n",
      "/opt/conda/lib/python3.7/site-packages/seaborn/distributions.py:2557: FutureWarning: `distplot` is a deprecated function and will be removed in a future version. Please adapt your code to use either `displot` (a figure-level function with similar flexibility) or `histplot` (an axes-level function for histograms).\n",
      "  warnings.warn(msg, FutureWarning)\n"
     ]
    },
    {
     "data": {
      "text/plain": [
       "Text(0.5, 1.0, 'Scaled data')"
      ]
     },
     "execution_count": 3,
     "metadata": {},
     "output_type": "execute_result"
    },
    {
     "data": {
      "image/png": "[encoded data removed]",
      "text/plain": [
       "<Figure size 1080x216 with 2 Axes>"
      ]
     },
     "metadata": {
      "needs_background": "light"
     },
     "output_type": "display_data"
    }
   ],
   "source": [
    "# select the usd_goal_real column\n",
    "original_data = pd.DataFrame(kickstarters_2017.usd_goal_real)\n",
    "\n",
    "# scale the goals from 0 to 1\n",
    "scaled_data = minmax_scaling(original_data, columns=['usd_goal_real'])\n",
    "\n",
    "# plot the original & scaled data together to compare\n",
    "fig, ax=plt.subplots(1,2,figsize=(15,3))\n",
    "sns.distplot(kickstarters_2017.usd_goal_real, ax=ax[0])\n",
    "ax[0].set_title(\"Original Data\")\n",
    "sns.distplot(scaled_data, ax=ax[1])\n",
    "ax[1].set_title(\"Scaled data\")"
   ]
  },
  {
   "cell_type": "markdown",
   "id": "c3fb4350",
   "metadata": {
    "papermill": {
     "duration": 0.02026,
     "end_time": "2021-08-20T06:37:38.051966",
     "exception": false,
     "start_time": "2021-08-20T06:37:38.031706",
     "status": "completed"
    },
    "tags": []
   },
   "source": [
    "After scaling, all values lie between 0 and 1 (you can read this in the horizontal axis of the second plot above, and we verify in the code cell below)."
   ]
  },
  {
   "cell_type": "code",
   "execution_count": 4,
   "id": "6b0a0e36",
   "metadata": {
    "execution": {
     "iopub.execute_input": "2021-08-20T06:37:38.099092Z",
     "iopub.status.busy": "2021-08-20T06:37:38.098106Z",
     "iopub.status.idle": "2021-08-20T06:37:38.115186Z",
     "shell.execute_reply": "2021-08-20T06:37:38.114512Z",
     "shell.execute_reply.started": "2021-08-20T06:27:49.198203Z"
    },
    "papermill": {
     "duration": 0.043402,
     "end_time": "2021-08-20T06:37:38.115327",
     "exception": false,
     "start_time": "2021-08-20T06:37:38.071925",
     "status": "completed"
    },
    "tags": []
   },
   "outputs": [
    {
     "name": "stdout",
     "output_type": "stream",
     "text": [
      "Original data\n",
      "Preview:\n",
      "    usd_goal_real\n",
      "0        1533.95\n",
      "1       30000.00\n",
      "2       45000.00\n",
      "3        5000.00\n",
      "4       19500.00\n",
      "Minimum value: 0.01 \n",
      "Maximum value: 166361390.71\n",
      "______________________________\n",
      "\n",
      "Scaled data\n",
      "Preview:\n",
      "    usd_goal_real\n",
      "0       0.000009\n",
      "1       0.000180\n",
      "2       0.000270\n",
      "3       0.000030\n",
      "4       0.000117\n",
      "Minimum value: 0.0 \n",
      "Maximum value: 1.0\n"
     ]
    }
   ],
   "source": [
    "print('Original data\\nPreview:\\n', original_data.head())\n",
    "print('Minimum value:', float(original_data.min()),\n",
    "      '\\nMaximum value:', float(original_data.max()))\n",
    "print('_'*30)\n",
    "\n",
    "print('\\nScaled data\\nPreview:\\n', scaled_data.head())\n",
    "print('Minimum value:', float(scaled_data.min()),\n",
    "      '\\nMaximum value:', float(scaled_data.max()))"
   ]
  },
  {
   "cell_type": "markdown",
   "id": "65988f88",
   "metadata": {
    "papermill": {
     "duration": 0.018921,
     "end_time": "2021-08-20T06:37:38.154145",
     "exception": false,
     "start_time": "2021-08-20T06:37:38.135224",
     "status": "completed"
    },
    "tags": []
   },
   "source": [
    "# 1) Practice scaling\n",
    "\n",
    "We just scaled the \"usd_goal_real\" column. What about the \"goal\" column?\n",
    "\n",
    "Begin by running the code cell below to create a DataFrame `original_goal_data` containing the \"goal\" column."
   ]
  },
  {
   "cell_type": "code",
   "execution_count": 5,
   "id": "0dbb43de",
   "metadata": {
    "execution": {
     "iopub.execute_input": "2021-08-20T06:37:38.197991Z",
     "iopub.status.busy": "2021-08-20T06:37:38.197310Z",
     "iopub.status.idle": "2021-08-20T06:37:38.201002Z",
     "shell.execute_reply": "2021-08-20T06:37:38.201493Z",
     "shell.execute_reply.started": "2021-08-20T06:30:12.234398Z"
    },
    "papermill": {
     "duration": 0.028475,
     "end_time": "2021-08-20T06:37:38.201666",
     "exception": false,
     "start_time": "2021-08-20T06:37:38.173191",
     "status": "completed"
    },
    "tags": []
   },
   "outputs": [],
   "source": [
    "# select the usd_goal_real column\n",
    "original_goal_data = pd.DataFrame(kickstarters_2017.goal)"
   ]
  },
  {
   "cell_type": "markdown",
   "id": "6ebd34fe",
   "metadata": {
    "papermill": {
     "duration": 0.018691,
     "end_time": "2021-08-20T06:37:38.239815",
     "exception": false,
     "start_time": "2021-08-20T06:37:38.221124",
     "status": "completed"
    },
    "tags": []
   },
   "source": [
    "Use `original_goal_data` to create a new DataFrame `scaled_goal_data` with values scaled between 0 and 1. You must use the `minmax_scaling()` function."
   ]
  },
  {
   "cell_type": "code",
   "execution_count": 6,
   "id": "a7725c2b",
   "metadata": {
    "execution": {
     "iopub.execute_input": "2021-08-20T06:37:38.283121Z",
     "iopub.status.busy": "2021-08-20T06:37:38.282459Z",
     "iopub.status.idle": "2021-08-20T06:37:38.308004Z",
     "shell.execute_reply": "2021-08-20T06:37:38.308460Z",
     "shell.execute_reply.started": "2021-08-20T06:30:32.204450Z"
    },
    "papermill": {
     "duration": 0.049673,
     "end_time": "2021-08-20T06:37:38.308631",
     "exception": false,
     "start_time": "2021-08-20T06:37:38.258958",
     "status": "completed"
    },
    "tags": []
   },
   "outputs": [
    {
     "data": {
      "application/javascript": [
       "parent.postMessage({\"jupyterEvent\": \"custom.exercise_interaction\", \"data\": {\"outcomeType\": 1, \"valueTowardsCompletion\": 0.3333333333333333, \"interactionType\": 1, \"questionType\": 1, \"questionId\": \"1_TryScaling\", \"learnToolsVersion\": \"0.3.4\", \"failureMessage\": \"\", \"exceptionClass\": \"\", \"trace\": \"\"}}, \"*\")"
      ],
      "text/plain": [
       "<IPython.core.display.Javascript object>"
      ]
     },
     "metadata": {},
     "output_type": "display_data"
    },
    {
     "data": {
      "text/markdown": [
       "<span style=\"color:#33cc33\">Correct</span>"
      ],
      "text/plain": [
       "Correct"
      ]
     },
     "metadata": {},
     "output_type": "display_data"
    }
   ],
   "source": [
    "# TODO: Your code here\n",
    "scaled_goal_data = minmax_scaling(original_goal_data, columns=['goal'])\n",
    "\n",
    "# Check your answer\n",
    "q1.check()"
   ]
  },
  {
   "cell_type": "code",
   "execution_count": 7,
   "id": "aac58b29",
   "metadata": {
    "execution": {
     "iopub.execute_input": "2021-08-20T06:37:38.354436Z",
     "iopub.status.busy": "2021-08-20T06:37:38.353799Z",
     "iopub.status.idle": "2021-08-20T06:37:38.356587Z",
     "shell.execute_reply": "2021-08-20T06:37:38.357078Z",
     "shell.execute_reply.started": "2021-08-16T18:39:21.78289Z"
    },
    "papermill": {
     "duration": 0.028005,
     "end_time": "2021-08-20T06:37:38.357252",
     "exception": false,
     "start_time": "2021-08-20T06:37:38.329247",
     "status": "completed"
    },
    "tags": []
   },
   "outputs": [],
   "source": [
    "# Lines below will give you a hint or solution code\n",
    "#q1.hint()\n",
    "#q1.solution()"
   ]
  },
  {
   "cell_type": "markdown",
   "id": "a002bf6c",
   "metadata": {
    "papermill": {
     "duration": 0.019414,
     "end_time": "2021-08-20T06:37:38.396834",
     "exception": false,
     "start_time": "2021-08-20T06:37:38.377420",
     "status": "completed"
    },
    "tags": []
   },
   "source": [
    "# 2) Practice normalization\n",
    "\n",
    "Now you'll practice normalization. We begin by normalizing the amount of money pledged to each campaign."
   ]
  },
  {
   "cell_type": "code",
   "execution_count": 8,
   "id": "7dfb375f",
   "metadata": {
    "execution": {
     "iopub.execute_input": "2021-08-20T06:37:38.445503Z",
     "iopub.status.busy": "2021-08-20T06:37:38.444835Z",
     "iopub.status.idle": "2021-08-20T06:37:42.600870Z",
     "shell.execute_reply": "2021-08-20T06:37:42.600332Z",
     "shell.execute_reply.started": "2021-08-20T06:31:52.732990Z"
    },
    "papermill": {
     "duration": 4.184226,
     "end_time": "2021-08-20T06:37:42.601023",
     "exception": false,
     "start_time": "2021-08-20T06:37:38.416797",
     "status": "completed"
    },
    "tags": []
   },
   "outputs": [
    {
     "name": "stderr",
     "output_type": "stream",
     "text": [
      "/opt/conda/lib/python3.7/site-packages/seaborn/distributions.py:2557: FutureWarning: `distplot` is a deprecated function and will be removed in a future version. Please adapt your code to use either `displot` (a figure-level function with similar flexibility) or `histplot` (an axes-level function for histograms).\n",
      "  warnings.warn(msg, FutureWarning)\n",
      "/opt/conda/lib/python3.7/site-packages/seaborn/distributions.py:2557: FutureWarning: `distplot` is a deprecated function and will be removed in a future version. Please adapt your code to use either `displot` (a figure-level function with similar flexibility) or `histplot` (an axes-level function for histograms).\n",
      "  warnings.warn(msg, FutureWarning)\n"
     ]
    },
    {
     "data": {
      "text/plain": [
       "Text(0.5, 1.0, 'Normalized data')"
      ]
     },
     "execution_count": 8,
     "metadata": {},
     "output_type": "execute_result"
    },
    {
     "data": {
      "image/png": "[encoded data removed]",
      "text/plain": [
       "<Figure size 1080x216 with 2 Axes>"
      ]
     },
     "metadata": {
      "needs_background": "light"
     },
     "output_type": "display_data"
    }
   ],
   "source": [
    "# get the index of all positive pledges (Box-Cox only takes positive values)\n",
    "index_of_positive_pledges = kickstarters_2017.usd_pledged_real > 0\n",
    "\n",
    "# get only positive pledges (using their indexes)\n",
    "positive_pledges = kickstarters_2017.usd_pledged_real.loc[index_of_positive_pledges]\n",
    "\n",
    "# normalize the pledges (w/ Box-Cox)\n",
    "normalized_pledges = pd.Series(stats.boxcox(positive_pledges)[0], \n",
    "                               name='usd_pledged_real', index=positive_pledges.index)\n",
    "\n",
    "# plot both together to compare\n",
    "fig, ax=plt.subplots(1,2,figsize=(15,3))\n",
    "sns.distplot(positive_pledges, ax=ax[0])\n",
    "ax[0].set_title(\"Original Data\")\n",
    "sns.distplot(normalized_pledges, ax=ax[1])\n",
    "ax[1].set_title(\"Normalized data\")"
   ]
  },
  {
   "cell_type": "markdown",
   "id": "0830a57d",
   "metadata": {
    "papermill": {
     "duration": 0.021933,
     "end_time": "2021-08-20T06:37:42.644958",
     "exception": false,
     "start_time": "2021-08-20T06:37:42.623025",
     "status": "completed"
    },
    "tags": []
   },
   "source": [
    "It's not perfect (it looks like a lot pledges got very few pledges) but it is much closer to a normal distribution!"
   ]
  },
  {
   "cell_type": "code",
   "execution_count": 9,
   "id": "54881a28",
   "metadata": {
    "execution": {
     "iopub.execute_input": "2021-08-20T06:37:42.697705Z",
     "iopub.status.busy": "2021-08-20T06:37:42.696670Z",
     "iopub.status.idle": "2021-08-20T06:37:42.706923Z",
     "shell.execute_reply": "2021-08-20T06:37:42.707976Z"
    },
    "papermill": {
     "duration": 0.041189,
     "end_time": "2021-08-20T06:37:42.708291",
     "exception": false,
     "start_time": "2021-08-20T06:37:42.667102",
     "status": "completed"
    },
    "tags": []
   },
   "outputs": [
    {
     "name": "stdout",
     "output_type": "stream",
     "text": [
      "Original data\n",
      "Preview:\n",
      " 1     2421.0\n",
      "2      220.0\n",
      "3        1.0\n",
      "4     1283.0\n",
      "5    52375.0\n",
      "Name: usd_pledged_real, dtype: float64\n",
      "Minimum value: 0.45 \n",
      "Maximum value: 20338986.27\n",
      "______________________________\n",
      "\n",
      "Normalized data\n",
      "Preview:\n",
      " 1    10.165142\n",
      "2     6.468598\n",
      "3     0.000000\n",
      "4     9.129277\n",
      "5    15.836853\n",
      "Name: usd_pledged_real, dtype: float64\n",
      "Minimum value: -0.7779954122762203 \n",
      "Maximum value: 30.69054020451361\n"
     ]
    }
   ],
   "source": [
    "print('Original data\\nPreview:\\n', positive_pledges.head())\n",
    "print('Minimum value:', float(positive_pledges.min()),\n",
    "      '\\nMaximum value:', float(positive_pledges.max()))\n",
    "print('_'*30)\n",
    "\n",
    "print('\\nNormalized data\\nPreview:\\n', normalized_pledges.head())\n",
    "print('Minimum value:', float(normalized_pledges.min()),\n",
    "      '\\nMaximum value:', float(normalized_pledges.max()))"
   ]
  },
  {
   "cell_type": "markdown",
   "id": "36126cf3",
   "metadata": {
    "papermill": {
     "duration": 0.024971,
     "end_time": "2021-08-20T06:37:42.758210",
     "exception": false,
     "start_time": "2021-08-20T06:37:42.733239",
     "status": "completed"
    },
    "tags": []
   },
   "source": [
    "We used the \"usd_pledged_real\" column. Follow the same process to normalize the \"pledged\" column. "
   ]
  },
  {
   "cell_type": "code",
   "execution_count": 10,
   "id": "d2c2b6e4",
   "metadata": {
    "execution": {
     "iopub.execute_input": "2021-08-20T06:37:42.812516Z",
     "iopub.status.busy": "2021-08-20T06:37:42.811794Z",
     "iopub.status.idle": "2021-08-20T06:37:47.091266Z",
     "shell.execute_reply": "2021-08-20T06:37:47.090348Z",
     "shell.execute_reply.started": "2021-08-20T06:35:27.487071Z"
    },
    "papermill": {
     "duration": 4.31068,
     "end_time": "2021-08-20T06:37:47.091413",
     "exception": false,
     "start_time": "2021-08-20T06:37:42.780733",
     "status": "completed"
    },
    "tags": []
   },
   "outputs": [
    {
     "name": "stderr",
     "output_type": "stream",
     "text": [
      "/opt/conda/lib/python3.7/site-packages/seaborn/distributions.py:2557: FutureWarning: `distplot` is a deprecated function and will be removed in a future version. Please adapt your code to use either `displot` (a figure-level function with similar flexibility) or `histplot` (an axes-level function for histograms).\n",
      "  warnings.warn(msg, FutureWarning)\n",
      "/opt/conda/lib/python3.7/site-packages/seaborn/distributions.py:2557: FutureWarning: `distplot` is a deprecated function and will be removed in a future version. Please adapt your code to use either `displot` (a figure-level function with similar flexibility) or `histplot` (an axes-level function for histograms).\n",
      "  warnings.warn(msg, FutureWarning)\n"
     ]
    },
    {
     "data": {
      "text/plain": [
       "Text(0.5, 1.0, 'Normalized data')"
      ]
     },
     "execution_count": 10,
     "metadata": {},
     "output_type": "execute_result"
    },
    {
     "data": {
      "image/png": "[encoded data removed]",
      "text/plain": [
       "<Figure size 1080x216 with 2 Axes>"
      ]
     },
     "metadata": {
      "needs_background": "light"
     },
     "output_type": "display_data"
    }
   ],
   "source": [
    "# get the index of all positive pledges (Box-Cox only takes positive values)\n",
    "index_of_positive_pledges = kickstarters_2017.pledged > 0\n",
    "# get only positive pledges (using their indexes)\n",
    "positive_pledges = kickstarters_2017.pledged.loc[index_of_positive_pledges]\n",
    "# normalize the pledges (w/ Box-Cox)\n",
    "normalized_pledges = pd.Series(stats.boxcox(positive_pledges)[0], \n",
    "                               name='usd_pledged_real', \n",
    "                               index=positive_pledges.index)\n",
    "\n",
    "# plot both together to compare\n",
    "fig, ax=plt.subplots(1,2,figsize=(15,3))\n",
    "sns.distplot(positive_pledges, ax=ax[0])\n",
    "ax[0].set_title(\"Original Data\")\n",
    "sns.distplot(normalized_pledges, ax=ax[1])\n",
    "ax[1].set_title(\"Normalized data\")"
   ]
  },
  {
   "cell_type": "markdown",
   "id": "c6cbbda2",
   "metadata": {
    "papermill": {
     "duration": 0.024274,
     "end_time": "2021-08-20T06:37:47.140649",
     "exception": false,
     "start_time": "2021-08-20T06:37:47.116375",
     "status": "completed"
    },
    "tags": []
   },
   "source": [
    "How does the normalized \"usd_pledged_real\" column look different from when we normalized the \"pledged\" column?  Or, do they look mostly the same?\n",
    "\n",
    "Once you have an answer, run the code cell below."
   ]
  },
  {
   "cell_type": "code",
   "execution_count": 11,
   "id": "e1e37644",
   "metadata": {
    "execution": {
     "iopub.execute_input": "2021-08-20T06:37:47.195467Z",
     "iopub.status.busy": "2021-08-20T06:37:47.194739Z",
     "iopub.status.idle": "2021-08-20T06:37:47.201240Z",
     "shell.execute_reply": "2021-08-20T06:37:47.200573Z",
     "shell.execute_reply.started": "2021-08-20T06:36:50.257632Z"
    },
    "papermill": {
     "duration": 0.036103,
     "end_time": "2021-08-20T06:37:47.201383",
     "exception": false,
     "start_time": "2021-08-20T06:37:47.165280",
     "status": "completed"
    },
    "tags": []
   },
   "outputs": [
    {
     "data": {
      "application/javascript": [
       "parent.postMessage({\"jupyterEvent\": \"custom.exercise_interaction\", \"data\": {\"outcomeType\": 1, \"valueTowardsCompletion\": 0.3333333333333333, \"interactionType\": 1, \"questionType\": 4, \"questionId\": \"2_TryNormalization\", \"learnToolsVersion\": \"0.3.4\", \"failureMessage\": \"\", \"exceptionClass\": \"\", \"trace\": \"\"}}, \"*\")"
      ],
      "text/plain": [
       "<IPython.core.display.Javascript object>"
      ]
     },
     "metadata": {},
     "output_type": "display_data"
    },
    {
     "data": {
      "text/markdown": [
       "<span style=\"color:#33cc33\">Correct:</span> \n",
       "\n",
       "The distributions in the normalized data look mostly the same."
      ],
      "text/plain": [
       "Correct: \n",
       "\n",
       "The distributions in the normalized data look mostly the same."
      ]
     },
     "metadata": {},
     "output_type": "display_data"
    }
   ],
   "source": [
    "# Check your answer (Run this code cell to receive credit!)\n",
    "q2.check()"
   ]
  },
  {
   "cell_type": "code",
   "execution_count": 12,
   "id": "7cc86726",
   "metadata": {
    "execution": {
     "iopub.execute_input": "2021-08-20T06:37:47.256874Z",
     "iopub.status.busy": "2021-08-20T06:37:47.256185Z",
     "iopub.status.idle": "2021-08-20T06:37:47.259213Z",
     "shell.execute_reply": "2021-08-20T06:37:47.258598Z"
    },
    "papermill": {
     "duration": 0.032186,
     "end_time": "2021-08-20T06:37:47.259360",
     "exception": false,
     "start_time": "2021-08-20T06:37:47.227174",
     "status": "completed"
    },
    "tags": []
   },
   "outputs": [],
   "source": [
    "# Line below will give you a hint\n",
    "#q2.hint()"
   ]
  },
  {
   "cell_type": "markdown",
   "id": "783632fc",
   "metadata": {
    "papermill": {
     "duration": 0.025283,
     "end_time": "2021-08-20T06:37:47.311035",
     "exception": false,
     "start_time": "2021-08-20T06:37:47.285752",
     "status": "completed"
    },
    "tags": []
   },
   "source": [
    "# (Optional) More practice\n",
    "\n",
    "Try finding a new dataset and pretend you're preparing to perform a [regression analysis](https://www.kaggle.com/rtatman/the-5-day-regression-challenge). \n",
    "\n",
    "[These datasets are a good start!](https://www.kaggle.com/rtatman/datasets-for-regression-analysis)\n",
    "\n",
    "Pick three or four variables and decide if you need to normalize or scale any of them and, if you think you should, practice applying the correct technique.\n",
    "\n",
    "# Keep going\n",
    "\n",
    "In the next lesson, learn how to [**parse dates**](https://www.kaggle.com/alexisbcook/parsing-dates) in a dataset."
   ]
  },
  {
   "cell_type": "markdown",
   "id": "969342d2",
   "metadata": {
    "papermill": {
     "duration": 0.02493,
     "end_time": "2021-08-20T06:37:47.362073",
     "exception": false,
     "start_time": "2021-08-20T06:37:47.337143",
     "status": "completed"
    },
    "tags": []
   },
   "source": [
    "---\n",
    "\n",
    "\n",
    "\n",
    "\n",
    "*Have questions or comments? Visit the [Learn Discussion forum](https://www.kaggle.com/learn-forum/172650) to chat with other Learners.*"
   ]
  }
 ],
 "metadata": {
  "kernelspec": {
   "display_name": "Python 3",
   "language": "python",
   "name": "python3"
  },
  "language_info": {
   "codemirror_mode": {
    "name": "ipython",
    "version": 3
   },
   "file_extension": ".py",
   "mimetype": "text/x-python",
   "name": "python",
   "nbconvert_exporter": "python",
   "pygments_lexer": "ipython3",
   "version": "3.7.10"
  },
  "papermill": {
   "default_parameters": {},
   "duration": 27.78692,
   "end_time": "2021-08-20T06:37:48.718386",
   "environment_variables": {},
   "exception": null,
   "input_path": "__notebook__.ipynb",
   "output_path": "__notebook__.ipynb",
   "parameters": {},
   "start_time": "2021-08-20T06:37:20.931466",
   "version": "2.3.3"
  }
 },
 "nbformat": 4,
 "nbformat_minor": 5
}
