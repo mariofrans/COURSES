{
 "cells": [
  {
   "cell_type": "markdown",
   "id": "86ba5811",
   "metadata": {
    "papermill": {
     "duration": 0.01987,
     "end_time": "2021-08-20T06:16:51.268498",
     "exception": false,
     "start_time": "2021-08-20T06:16:51.248628",
     "status": "completed"
    },
    "tags": []
   },
   "source": [
    "**This notebook is an exercise in the [Data Cleaning](https://www.kaggle.com/learn/data-cleaning) course.  You can reference the tutorial at [this link](https://www.kaggle.com/alexisbcook/handling-missing-values).**\n",
    "\n",
    "---\n"
   ]
  },
  {
   "cell_type": "markdown",
   "id": "7e2c40cd",
   "metadata": {
    "papermill": {
     "duration": 0.017785,
     "end_time": "2021-08-20T06:16:51.305114",
     "exception": false,
     "start_time": "2021-08-20T06:16:51.287329",
     "status": "completed"
    },
    "tags": []
   },
   "source": [
    "In this exercise, you'll apply what you learned in the **Handling missing values** tutorial.\n",
    "\n",
    "# Setup\n",
    "\n",
    "The questions below will give you feedback on your work. Run the following cell to set up the feedback system."
   ]
  },
  {
   "cell_type": "code",
   "execution_count": 1,
   "id": "87bf7f48",
   "metadata": {
    "execution": {
     "iopub.execute_input": "2021-08-20T06:16:51.354705Z",
     "iopub.status.busy": "2021-08-20T06:16:51.354042Z",
     "iopub.status.idle": "2021-08-20T06:16:56.103281Z",
     "shell.execute_reply": "2021-08-20T06:16:56.103784Z",
     "shell.execute_reply.started": "2021-08-20T06:10:15.557233Z"
    },
    "papermill": {
     "duration": 4.780516,
     "end_time": "2021-08-20T06:16:56.104052",
     "exception": false,
     "start_time": "2021-08-20T06:16:51.323536",
     "status": "completed"
    },
    "tags": []
   },
   "outputs": [
    {
     "name": "stderr",
     "output_type": "stream",
     "text": [
      "/opt/conda/lib/python3.7/site-packages/IPython/core/interactiveshell.py:3361: DtypeWarning: Columns (22,32) have mixed types.Specify dtype option on import or set low_memory=False.\n",
      "  if (await self.run_code(code, result,  async_=asy)):\n"
     ]
    },
    {
     "name": "stdout",
     "output_type": "stream",
     "text": [
      "Setup Complete\n"
     ]
    }
   ],
   "source": [
    "from learntools.core import binder\n",
    "binder.bind(globals())\n",
    "from learntools.data_cleaning.ex1 import *\n",
    "print(\"Setup Complete\")"
   ]
  },
  {
   "cell_type": "markdown",
   "id": "1ed285f7",
   "metadata": {
    "papermill": {
     "duration": 0.018062,
     "end_time": "2021-08-20T06:16:56.140644",
     "exception": false,
     "start_time": "2021-08-20T06:16:56.122582",
     "status": "completed"
    },
    "tags": []
   },
   "source": [
    "# 1) Take a first look at the data\n",
    "\n",
    "Run the next code cell to load in the libraries and dataset you'll use to complete the exercise."
   ]
  },
  {
   "cell_type": "code",
   "execution_count": 2,
   "id": "da6eb72c",
   "metadata": {
    "execution": {
     "iopub.execute_input": "2021-08-20T06:16:56.179910Z",
     "iopub.status.busy": "2021-08-20T06:16:56.179286Z",
     "iopub.status.idle": "2021-08-20T06:16:57.783482Z",
     "shell.execute_reply": "2021-08-20T06:16:57.784149Z",
     "shell.execute_reply.started": "2021-08-20T06:10:21.647664Z"
    },
    "papermill": {
     "duration": 1.625621,
     "end_time": "2021-08-20T06:16:57.784370",
     "exception": false,
     "start_time": "2021-08-20T06:16:56.158749",
     "status": "completed"
    },
    "tags": []
   },
   "outputs": [
    {
     "name": "stderr",
     "output_type": "stream",
     "text": [
      "/opt/conda/lib/python3.7/site-packages/IPython/core/interactiveshell.py:3170: DtypeWarning: Columns (22,32) have mixed types.Specify dtype option on import or set low_memory=False.\n",
      "  interactivity=interactivity, compiler=compiler, result=result)\n"
     ]
    }
   ],
   "source": [
    "# modules we'll use\n",
    "import pandas as pd\n",
    "import numpy as np\n",
    "\n",
    "# read in all our data\n",
    "sf_permits = pd.read_csv(\"../input/building-permit-applications-data/Building_Permits.csv\")\n",
    "\n",
    "# set seed for reproducibility\n",
    "np.random.seed(0) "
   ]
  },
  {
   "cell_type": "markdown",
   "id": "ef9c1107",
   "metadata": {
    "papermill": {
     "duration": 0.019015,
     "end_time": "2021-08-20T06:16:57.823302",
     "exception": false,
     "start_time": "2021-08-20T06:16:57.804287",
     "status": "completed"
    },
    "tags": []
   },
   "source": [
    "Use the code cell below to print the first five rows of the `sf_permits` DataFrame."
   ]
  },
  {
   "cell_type": "code",
   "execution_count": 3,
   "id": "291988aa",
   "metadata": {
    "execution": {
     "iopub.execute_input": "2021-08-20T06:16:57.865186Z",
     "iopub.status.busy": "2021-08-20T06:16:57.864246Z",
     "iopub.status.idle": "2021-08-20T06:16:57.902067Z",
     "shell.execute_reply": "2021-08-20T06:16:57.901223Z",
     "shell.execute_reply.started": "2021-08-20T06:10:25.117460Z"
    },
    "papermill": {
     "duration": 0.059738,
     "end_time": "2021-08-20T06:16:57.902202",
     "exception": false,
     "start_time": "2021-08-20T06:16:57.842464",
     "status": "completed"
    },
    "tags": []
   },
   "outputs": [
    {
     "data": {
      "text/html": [
       "<div>\n",
       "<style scoped>\n",
       "    .dataframe tbody tr th:only-of-type {\n",
       "        vertical-align: middle;\n",
       "    }\n",
       "\n",
       "    .dataframe tbody tr th {\n",
       "        vertical-align: top;\n",
       "    }\n",
       "\n",
       "    .dataframe thead th {\n",
       "        text-align: right;\n",
       "    }\n",
       "</style>\n",
       "<table border=\"1\" class=\"dataframe\">\n",
       "  <thead>\n",
       "    <tr style=\"text-align: right;\">\n",
       "      <th></th>\n",
       "      <th>Permit Number</th>\n",
       "      <th>Permit Type</th>\n",
       "      <th>Permit Type Definition</th>\n",
       "      <th>Permit Creation Date</th>\n",
       "      <th>Block</th>\n",
       "      <th>Lot</th>\n",
       "      <th>Street Number</th>\n",
       "      <th>Street Number Suffix</th>\n",
       "      <th>Street Name</th>\n",
       "      <th>Street Suffix</th>\n",
       "      <th>...</th>\n",
       "      <th>Existing Construction Type</th>\n",
       "      <th>Existing Construction Type Description</th>\n",
       "      <th>Proposed Construction Type</th>\n",
       "      <th>Proposed Construction Type Description</th>\n",
       "      <th>Site Permit</th>\n",
       "      <th>Supervisor District</th>\n",
       "      <th>Neighborhoods - Analysis Boundaries</th>\n",
       "      <th>Zipcode</th>\n",
       "      <th>Location</th>\n",
       "      <th>Record ID</th>\n",
       "    </tr>\n",
       "  </thead>\n",
       "  <tbody>\n",
       "    <tr>\n",
       "      <th>0</th>\n",
       "      <td>201505065519</td>\n",
       "      <td>4</td>\n",
       "      <td>sign - erect</td>\n",
       "      <td>05/06/2015</td>\n",
       "      <td>0326</td>\n",
       "      <td>023</td>\n",
       "      <td>140</td>\n",
       "      <td>NaN</td>\n",
       "      <td>Ellis</td>\n",
       "      <td>St</td>\n",
       "      <td>...</td>\n",
       "      <td>3.0</td>\n",
       "      <td>constr type 3</td>\n",
       "      <td>NaN</td>\n",
       "      <td>NaN</td>\n",
       "      <td>NaN</td>\n",
       "      <td>3.0</td>\n",
       "      <td>Tenderloin</td>\n",
       "      <td>94102.0</td>\n",
       "      <td>(37.785719256680785, -122.40852313194863)</td>\n",
       "      <td>1380611233945</td>\n",
       "    </tr>\n",
       "    <tr>\n",
       "      <th>1</th>\n",
       "      <td>201604195146</td>\n",
       "      <td>4</td>\n",
       "      <td>sign - erect</td>\n",
       "      <td>04/19/2016</td>\n",
       "      <td>0306</td>\n",
       "      <td>007</td>\n",
       "      <td>440</td>\n",
       "      <td>NaN</td>\n",
       "      <td>Geary</td>\n",
       "      <td>St</td>\n",
       "      <td>...</td>\n",
       "      <td>3.0</td>\n",
       "      <td>constr type 3</td>\n",
       "      <td>NaN</td>\n",
       "      <td>NaN</td>\n",
       "      <td>NaN</td>\n",
       "      <td>3.0</td>\n",
       "      <td>Tenderloin</td>\n",
       "      <td>94102.0</td>\n",
       "      <td>(37.78733980600732, -122.41063199757738)</td>\n",
       "      <td>1420164406718</td>\n",
       "    </tr>\n",
       "    <tr>\n",
       "      <th>2</th>\n",
       "      <td>201605278609</td>\n",
       "      <td>3</td>\n",
       "      <td>additions alterations or repairs</td>\n",
       "      <td>05/27/2016</td>\n",
       "      <td>0595</td>\n",
       "      <td>203</td>\n",
       "      <td>1647</td>\n",
       "      <td>NaN</td>\n",
       "      <td>Pacific</td>\n",
       "      <td>Av</td>\n",
       "      <td>...</td>\n",
       "      <td>1.0</td>\n",
       "      <td>constr type 1</td>\n",
       "      <td>1.0</td>\n",
       "      <td>constr type 1</td>\n",
       "      <td>NaN</td>\n",
       "      <td>3.0</td>\n",
       "      <td>Russian Hill</td>\n",
       "      <td>94109.0</td>\n",
       "      <td>(37.7946573324287, -122.42232562979227)</td>\n",
       "      <td>1424856504716</td>\n",
       "    </tr>\n",
       "    <tr>\n",
       "      <th>3</th>\n",
       "      <td>201611072166</td>\n",
       "      <td>8</td>\n",
       "      <td>otc alterations permit</td>\n",
       "      <td>11/07/2016</td>\n",
       "      <td>0156</td>\n",
       "      <td>011</td>\n",
       "      <td>1230</td>\n",
       "      <td>NaN</td>\n",
       "      <td>Pacific</td>\n",
       "      <td>Av</td>\n",
       "      <td>...</td>\n",
       "      <td>5.0</td>\n",
       "      <td>wood frame (5)</td>\n",
       "      <td>5.0</td>\n",
       "      <td>wood frame (5)</td>\n",
       "      <td>NaN</td>\n",
       "      <td>3.0</td>\n",
       "      <td>Nob Hill</td>\n",
       "      <td>94109.0</td>\n",
       "      <td>(37.79595867909168, -122.41557405519474)</td>\n",
       "      <td>1443574295566</td>\n",
       "    </tr>\n",
       "    <tr>\n",
       "      <th>4</th>\n",
       "      <td>201611283529</td>\n",
       "      <td>6</td>\n",
       "      <td>demolitions</td>\n",
       "      <td>11/28/2016</td>\n",
       "      <td>0342</td>\n",
       "      <td>001</td>\n",
       "      <td>950</td>\n",
       "      <td>NaN</td>\n",
       "      <td>Market</td>\n",
       "      <td>St</td>\n",
       "      <td>...</td>\n",
       "      <td>3.0</td>\n",
       "      <td>constr type 3</td>\n",
       "      <td>NaN</td>\n",
       "      <td>NaN</td>\n",
       "      <td>NaN</td>\n",
       "      <td>6.0</td>\n",
       "      <td>Tenderloin</td>\n",
       "      <td>94102.0</td>\n",
       "      <td>(37.78315261897309, -122.40950883997789)</td>\n",
       "      <td>144548169992</td>\n",
       "    </tr>\n",
       "  </tbody>\n",
       "</table>\n",
       "<p>5 rows × 43 columns</p>\n",
       "</div>"
      ],
      "text/plain": [
       "  Permit Number  Permit Type            Permit Type Definition  \\\n",
       "0  201505065519            4                      sign - erect   \n",
       "1  201604195146            4                      sign - erect   \n",
       "2  201605278609            3  additions alterations or repairs   \n",
       "3  201611072166            8            otc alterations permit   \n",
       "4  201611283529            6                       demolitions   \n",
       "\n",
       "  Permit Creation Date Block  Lot  Street Number Street Number Suffix  \\\n",
       "0           05/06/2015  0326  023            140                  NaN   \n",
       "1           04/19/2016  0306  007            440                  NaN   \n",
       "2           05/27/2016  0595  203           1647                  NaN   \n",
       "3           11/07/2016  0156  011           1230                  NaN   \n",
       "4           11/28/2016  0342  001            950                  NaN   \n",
       "\n",
       "  Street Name Street Suffix  ...  Existing Construction Type  \\\n",
       "0       Ellis            St  ...                         3.0   \n",
       "1       Geary            St  ...                         3.0   \n",
       "2     Pacific            Av  ...                         1.0   \n",
       "3     Pacific            Av  ...                         5.0   \n",
       "4      Market            St  ...                         3.0   \n",
       "\n",
       "  Existing Construction Type Description Proposed Construction Type  \\\n",
       "0                          constr type 3                        NaN   \n",
       "1                          constr type 3                        NaN   \n",
       "2                          constr type 1                        1.0   \n",
       "3                         wood frame (5)                        5.0   \n",
       "4                          constr type 3                        NaN   \n",
       "\n",
       "  Proposed Construction Type Description Site Permit Supervisor District  \\\n",
       "0                                    NaN         NaN                 3.0   \n",
       "1                                    NaN         NaN                 3.0   \n",
       "2                          constr type 1         NaN                 3.0   \n",
       "3                         wood frame (5)         NaN                 3.0   \n",
       "4                                    NaN         NaN                 6.0   \n",
       "\n",
       "  Neighborhoods - Analysis Boundaries  Zipcode  \\\n",
       "0                          Tenderloin  94102.0   \n",
       "1                          Tenderloin  94102.0   \n",
       "2                        Russian Hill  94109.0   \n",
       "3                            Nob Hill  94109.0   \n",
       "4                          Tenderloin  94102.0   \n",
       "\n",
       "                                    Location      Record ID  \n",
       "0  (37.785719256680785, -122.40852313194863)  1380611233945  \n",
       "1   (37.78733980600732, -122.41063199757738)  1420164406718  \n",
       "2    (37.7946573324287, -122.42232562979227)  1424856504716  \n",
       "3   (37.79595867909168, -122.41557405519474)  1443574295566  \n",
       "4   (37.78315261897309, -122.40950883997789)   144548169992  \n",
       "\n",
       "[5 rows x 43 columns]"
      ]
     },
     "execution_count": 3,
     "metadata": {},
     "output_type": "execute_result"
    }
   ],
   "source": [
    "# TODO: Your code here!\n",
    "sf_permits.head()"
   ]
  },
  {
   "cell_type": "markdown",
   "id": "f9f4c2b5",
   "metadata": {
    "papermill": {
     "duration": 0.01967,
     "end_time": "2021-08-20T06:16:57.941713",
     "exception": false,
     "start_time": "2021-08-20T06:16:57.922043",
     "status": "completed"
    },
    "tags": []
   },
   "source": [
    "Does the dataset have any missing values?  Once you have an answer, run the code cell below to get credit for your work."
   ]
  },
  {
   "cell_type": "code",
   "execution_count": 4,
   "id": "6d1d3ca6",
   "metadata": {
    "execution": {
     "iopub.execute_input": "2021-08-20T06:16:57.986260Z",
     "iopub.status.busy": "2021-08-20T06:16:57.985397Z",
     "iopub.status.idle": "2021-08-20T06:16:57.991963Z",
     "shell.execute_reply": "2021-08-20T06:16:57.992457Z",
     "shell.execute_reply.started": "2021-08-20T06:10:30.568246Z"
    },
    "papermill": {
     "duration": 0.031207,
     "end_time": "2021-08-20T06:16:57.992613",
     "exception": false,
     "start_time": "2021-08-20T06:16:57.961406",
     "status": "completed"
    },
    "tags": []
   },
   "outputs": [
    {
     "data": {
      "application/javascript": [
       "parent.postMessage({\"jupyterEvent\": \"custom.exercise_interaction\", \"data\": {\"outcomeType\": 1, \"valueTowardsCompletion\": 0.16666666666666666, \"interactionType\": 1, \"questionType\": 4, \"questionId\": \"1_TakeFirstLook\", \"learnToolsVersion\": \"0.3.4\", \"failureMessage\": \"\", \"exceptionClass\": \"\", \"trace\": \"\"}}, \"*\")"
      ],
      "text/plain": [
       "<IPython.core.display.Javascript object>"
      ]
     },
     "metadata": {},
     "output_type": "display_data"
    },
    {
     "data": {
      "text/markdown": [
       "<span style=\"color:#33cc33\">Correct:</span> \n",
       "\n",
       "The first five rows of the data does show that several columns have missing values.  You can see this in the \"Street Number Suffix\", \"Proposed Construction Type\" and \"Site Permit\" columns, among others."
      ],
      "text/plain": [
       "Correct: \n",
       "\n",
       "The first five rows of the data does show that several columns have missing values.  You can see this in the \"Street Number Suffix\", \"Proposed Construction Type\" and \"Site Permit\" columns, among others."
      ]
     },
     "metadata": {},
     "output_type": "display_data"
    }
   ],
   "source": [
    "# Check your answer (Run this code cell to receive credit!)\n",
    "q1.check()"
   ]
  },
  {
   "cell_type": "code",
   "execution_count": 5,
   "id": "f65ae996",
   "metadata": {
    "execution": {
     "iopub.execute_input": "2021-08-20T06:16:58.037513Z",
     "iopub.status.busy": "2021-08-20T06:16:58.036657Z",
     "iopub.status.idle": "2021-08-20T06:16:58.040335Z",
     "shell.execute_reply": "2021-08-20T06:16:58.039719Z"
    },
    "papermill": {
     "duration": 0.027384,
     "end_time": "2021-08-20T06:16:58.040464",
     "exception": false,
     "start_time": "2021-08-20T06:16:58.013080",
     "status": "completed"
    },
    "tags": []
   },
   "outputs": [],
   "source": [
    "# Line below will give you a hint\n",
    "#q1.hint()"
   ]
  },
  {
   "cell_type": "markdown",
   "id": "c5a4a911",
   "metadata": {
    "papermill": {
     "duration": 0.021126,
     "end_time": "2021-08-20T06:16:58.082963",
     "exception": false,
     "start_time": "2021-08-20T06:16:58.061837",
     "status": "completed"
    },
    "tags": []
   },
   "source": [
    "# 2) How many missing data points do we have?\n",
    "\n",
    "What percentage of the values in the dataset are missing?  Your answer should be a number between 0 and 100.  (If 1/4 of the values in the dataset are missing, the answer is 25.)"
   ]
  },
  {
   "cell_type": "code",
   "execution_count": 6,
   "id": "ed5047ec",
   "metadata": {
    "execution": {
     "iopub.execute_input": "2021-08-20T06:16:58.130439Z",
     "iopub.status.busy": "2021-08-20T06:16:58.129778Z",
     "iopub.status.idle": "2021-08-20T06:16:58.575277Z",
     "shell.execute_reply": "2021-08-20T06:16:58.575740Z",
     "shell.execute_reply.started": "2021-08-20T06:10:36.862572Z"
    },
    "papermill": {
     "duration": 0.471817,
     "end_time": "2021-08-20T06:16:58.575905",
     "exception": false,
     "start_time": "2021-08-20T06:16:58.104088",
     "status": "completed"
    },
    "tags": []
   },
   "outputs": [
    {
     "data": {
      "application/javascript": [
       "parent.postMessage({\"jupyterEvent\": \"custom.exercise_interaction\", \"data\": {\"outcomeType\": 1, \"valueTowardsCompletion\": 0.16666666666666666, \"interactionType\": 1, \"questionType\": 1, \"questionId\": \"2_PercentMissingValues\", \"learnToolsVersion\": \"0.3.4\", \"failureMessage\": \"\", \"exceptionClass\": \"\", \"trace\": \"\"}}, \"*\")"
      ],
      "text/plain": [
       "<IPython.core.display.Javascript object>"
      ]
     },
     "metadata": {},
     "output_type": "display_data"
    },
    {
     "data": {
      "text/markdown": [
       "<span style=\"color:#33cc33\">Correct</span>"
      ],
      "text/plain": [
       "Correct"
      ]
     },
     "metadata": {},
     "output_type": "display_data"
    }
   ],
   "source": [
    "# TODO: Your code here!\n",
    "missing_data_per_column = sf_permits.isnull().sum()\n",
    "total_cells = np.product(sf_permits.shape)\n",
    "total_missing = missing_data_per_column.sum()\n",
    "\n",
    "percent_missing = total_missing/total_cells *100\n",
    "\n",
    "# Check your answer\n",
    "q2.check()"
   ]
  },
  {
   "cell_type": "code",
   "execution_count": 7,
   "id": "3ef94512",
   "metadata": {
    "execution": {
     "iopub.execute_input": "2021-08-20T06:16:58.621316Z",
     "iopub.status.busy": "2021-08-20T06:16:58.620653Z",
     "iopub.status.idle": "2021-08-20T06:16:58.623264Z",
     "shell.execute_reply": "2021-08-20T06:16:58.623726Z"
    },
    "papermill": {
     "duration": 0.02636,
     "end_time": "2021-08-20T06:16:58.623886",
     "exception": false,
     "start_time": "2021-08-20T06:16:58.597526",
     "status": "completed"
    },
    "tags": []
   },
   "outputs": [],
   "source": [
    "# Lines below will give you a hint or solution code\n",
    "#q2.hint()\n",
    "#q2.solution()"
   ]
  },
  {
   "cell_type": "markdown",
   "id": "2bad86e3",
   "metadata": {
    "papermill": {
     "duration": 0.021831,
     "end_time": "2021-08-20T06:16:58.667849",
     "exception": false,
     "start_time": "2021-08-20T06:16:58.646018",
     "status": "completed"
    },
    "tags": []
   },
   "source": [
    "# 3) Figure out why the data is missing\n",
    "\n",
    "Look at the columns **\"Street Number Suffix\"** and **\"Zipcode\"** from the [San Francisco Building Permits dataset](https://www.kaggle.com/aparnashastry/building-permit-applications-data). Both of these contain missing values. \n",
    "- Which, if either, are missing because they don't exist? \n",
    "- Which, if either, are missing because they weren't recorded?  \n",
    "\n",
    "Once you have an answer, run the code cell below."
   ]
  },
  {
   "cell_type": "code",
   "execution_count": 8,
   "id": "4987c47c",
   "metadata": {
    "execution": {
     "iopub.execute_input": "2021-08-20T06:16:58.714749Z",
     "iopub.status.busy": "2021-08-20T06:16:58.714178Z",
     "iopub.status.idle": "2021-08-20T06:16:58.719782Z",
     "shell.execute_reply": "2021-08-20T06:16:58.720259Z",
     "shell.execute_reply.started": "2021-08-20T06:10:41.138733Z"
    },
    "papermill": {
     "duration": 0.030477,
     "end_time": "2021-08-20T06:16:58.720418",
     "exception": false,
     "start_time": "2021-08-20T06:16:58.689941",
     "status": "completed"
    },
    "tags": []
   },
   "outputs": [
    {
     "data": {
      "application/javascript": [
       "parent.postMessage({\"jupyterEvent\": \"custom.exercise_interaction\", \"data\": {\"outcomeType\": 1, \"valueTowardsCompletion\": 0.16666666666666666, \"interactionType\": 1, \"questionType\": 4, \"questionId\": \"3_WhyDataMissing\", \"learnToolsVersion\": \"0.3.4\", \"failureMessage\": \"\", \"exceptionClass\": \"\", \"trace\": \"\"}}, \"*\")"
      ],
      "text/plain": [
       "<IPython.core.display.Javascript object>"
      ]
     },
     "metadata": {},
     "output_type": "display_data"
    },
    {
     "data": {
      "text/markdown": [
       "<span style=\"color:#33cc33\">Correct:</span> \n",
       "\n",
       "If a value in the \"Street Number Suffix\" column is missing, it is likely because it does not exist. If a value in the \"Zipcode\" column is missing, it was not recorded."
      ],
      "text/plain": [
       "Correct: \n",
       "\n",
       "If a value in the \"Street Number Suffix\" column is missing, it is likely because it does not exist. If a value in the \"Zipcode\" column is missing, it was not recorded."
      ]
     },
     "metadata": {},
     "output_type": "display_data"
    }
   ],
   "source": [
    "# Check your answer (Run this code cell to receive credit!)\n",
    "q3.check()"
   ]
  },
  {
   "cell_type": "code",
   "execution_count": 9,
   "id": "f46cc3ac",
   "metadata": {
    "execution": {
     "iopub.execute_input": "2021-08-20T06:16:58.769749Z",
     "iopub.status.busy": "2021-08-20T06:16:58.769134Z",
     "iopub.status.idle": "2021-08-20T06:16:58.771820Z",
     "shell.execute_reply": "2021-08-20T06:16:58.772304Z"
    },
    "papermill": {
     "duration": 0.028749,
     "end_time": "2021-08-20T06:16:58.772461",
     "exception": false,
     "start_time": "2021-08-20T06:16:58.743712",
     "status": "completed"
    },
    "tags": []
   },
   "outputs": [],
   "source": [
    "# Line below will give you a hint\n",
    "#q3.hint()"
   ]
  },
  {
   "cell_type": "markdown",
   "id": "ce3c0805",
   "metadata": {
    "papermill": {
     "duration": 0.022295,
     "end_time": "2021-08-20T06:16:58.817713",
     "exception": false,
     "start_time": "2021-08-20T06:16:58.795418",
     "status": "completed"
    },
    "tags": []
   },
   "source": [
    "# 4) Drop missing values: rows\n",
    "\n",
    "If you removed all of the rows of `sf_permits` with missing values, how many rows are left?\n",
    "\n",
    "**Note**: Do not change the value of `sf_permits` when checking this.  "
   ]
  },
  {
   "cell_type": "code",
   "execution_count": 10,
   "id": "a26cac01",
   "metadata": {
    "execution": {
     "iopub.execute_input": "2021-08-20T06:16:58.866372Z",
     "iopub.status.busy": "2021-08-20T06:16:58.865746Z",
     "iopub.status.idle": "2021-08-20T06:16:59.317988Z",
     "shell.execute_reply": "2021-08-20T06:16:59.317344Z",
     "shell.execute_reply.started": "2021-08-20T06:10:48.743473Z"
    },
    "papermill": {
     "duration": 0.477892,
     "end_time": "2021-08-20T06:16:59.318118",
     "exception": false,
     "start_time": "2021-08-20T06:16:58.840226",
     "status": "completed"
    },
    "tags": []
   },
   "outputs": [],
   "source": [
    "# TODO: Your code here!\n",
    "sf_permits_dropped_rows = sf_permits.dropna()\n"
   ]
  },
  {
   "cell_type": "markdown",
   "id": "f21ba0cd",
   "metadata": {
    "papermill": {
     "duration": 0.022305,
     "end_time": "2021-08-20T06:16:59.363484",
     "exception": false,
     "start_time": "2021-08-20T06:16:59.341179",
     "status": "completed"
    },
    "tags": []
   },
   "source": [
    "Once you have an answer, run the code cell below."
   ]
  },
  {
   "cell_type": "code",
   "execution_count": 11,
   "id": "a48191a3",
   "metadata": {
    "execution": {
     "iopub.execute_input": "2021-08-20T06:16:59.414133Z",
     "iopub.status.busy": "2021-08-20T06:16:59.413512Z",
     "iopub.status.idle": "2021-08-20T06:16:59.419074Z",
     "shell.execute_reply": "2021-08-20T06:16:59.418586Z",
     "shell.execute_reply.started": "2021-08-20T06:10:51.908421Z"
    },
    "papermill": {
     "duration": 0.032631,
     "end_time": "2021-08-20T06:16:59.419199",
     "exception": false,
     "start_time": "2021-08-20T06:16:59.386568",
     "status": "completed"
    },
    "tags": []
   },
   "outputs": [
    {
     "data": {
      "application/javascript": [
       "parent.postMessage({\"jupyterEvent\": \"custom.exercise_interaction\", \"data\": {\"outcomeType\": 1, \"valueTowardsCompletion\": 0.16666666666666666, \"interactionType\": 1, \"questionType\": 4, \"questionId\": \"4_DropMissingRows\", \"learnToolsVersion\": \"0.3.4\", \"failureMessage\": \"\", \"exceptionClass\": \"\", \"trace\": \"\"}}, \"*\")"
      ],
      "text/plain": [
       "<IPython.core.display.Javascript object>"
      ]
     },
     "metadata": {},
     "output_type": "display_data"
    },
    {
     "data": {
      "text/markdown": [
       "<span style=\"color:#33cc33\">Correct:</span> \n",
       "\n",
       "There are no rows remaining in the dataset!"
      ],
      "text/plain": [
       "Correct: \n",
       "\n",
       "There are no rows remaining in the dataset!"
      ]
     },
     "metadata": {},
     "output_type": "display_data"
    }
   ],
   "source": [
    "# Check your answer (Run this code cell to receive credit!)\n",
    "q4.check()"
   ]
  },
  {
   "cell_type": "code",
   "execution_count": 12,
   "id": "0f807a82",
   "metadata": {
    "execution": {
     "iopub.execute_input": "2021-08-20T06:16:59.470820Z",
     "iopub.status.busy": "2021-08-20T06:16:59.470219Z",
     "iopub.status.idle": "2021-08-20T06:16:59.473478Z",
     "shell.execute_reply": "2021-08-20T06:16:59.472903Z"
    },
    "papermill": {
     "duration": 0.030568,
     "end_time": "2021-08-20T06:16:59.473593",
     "exception": false,
     "start_time": "2021-08-20T06:16:59.443025",
     "status": "completed"
    },
    "tags": []
   },
   "outputs": [],
   "source": [
    "# Line below will give you a hint\n",
    "#q4.hint()"
   ]
  },
  {
   "cell_type": "markdown",
   "id": "2262c8bd",
   "metadata": {
    "papermill": {
     "duration": 0.023585,
     "end_time": "2021-08-20T06:16:59.521629",
     "exception": false,
     "start_time": "2021-08-20T06:16:59.498044",
     "status": "completed"
    },
    "tags": []
   },
   "source": [
    "# 5) Drop missing values: columns\n",
    "\n",
    "Now try removing all the columns with empty values.  \n",
    "- Create a new DataFrame called `sf_permits_with_na_dropped` that has all of the columns with empty values removed.  \n",
    "- How many columns were removed from the original `sf_permits` DataFrame? Use this number to set the value of the `dropped_columns` variable below."
   ]
  },
  {
   "cell_type": "code",
   "execution_count": 13,
   "id": "bd56d764",
   "metadata": {
    "execution": {
     "iopub.execute_input": "2021-08-20T06:16:59.574363Z",
     "iopub.status.busy": "2021-08-20T06:16:59.573740Z",
     "iopub.status.idle": "2021-08-20T06:17:00.033743Z",
     "shell.execute_reply": "2021-08-20T06:17:00.034206Z",
     "shell.execute_reply.started": "2021-08-20T06:11:04.036302Z"
    },
    "papermill": {
     "duration": 0.488737,
     "end_time": "2021-08-20T06:17:00.034375",
     "exception": false,
     "start_time": "2021-08-20T06:16:59.545638",
     "status": "completed"
    },
    "tags": []
   },
   "outputs": [
    {
     "data": {
      "application/javascript": [
       "parent.postMessage({\"jupyterEvent\": \"custom.exercise_interaction\", \"data\": {\"outcomeType\": 1, \"valueTowardsCompletion\": 0.16666666666666666, \"interactionType\": 1, \"questionType\": 1, \"questionId\": \"5_DropMissingCols\", \"learnToolsVersion\": \"0.3.4\", \"failureMessage\": \"\", \"exceptionClass\": \"\", \"trace\": \"\"}}, \"*\")"
      ],
      "text/plain": [
       "<IPython.core.display.Javascript object>"
      ]
     },
     "metadata": {},
     "output_type": "display_data"
    },
    {
     "data": {
      "text/markdown": [
       "<span style=\"color:#33cc33\">Correct</span>"
      ],
      "text/plain": [
       "Correct"
      ]
     },
     "metadata": {},
     "output_type": "display_data"
    }
   ],
   "source": [
    "# TODO: Your code here\n",
    "sf_permits_with_na_dropped = sf_permits.dropna(axis=1)\n",
    "dropped_columns = sf_permits.shape[1] - sf_permits_with_na_dropped.shape[1]\n",
    "\n",
    "# Check your answer\n",
    "q5.check()"
   ]
  },
  {
   "cell_type": "code",
   "execution_count": 14,
   "id": "0cb32c2e",
   "metadata": {
    "execution": {
     "iopub.execute_input": "2021-08-20T06:17:00.088519Z",
     "iopub.status.busy": "2021-08-20T06:17:00.087977Z",
     "iopub.status.idle": "2021-08-20T06:17:00.091107Z",
     "shell.execute_reply": "2021-08-20T06:17:00.090568Z"
    },
    "papermill": {
     "duration": 0.031468,
     "end_time": "2021-08-20T06:17:00.091229",
     "exception": false,
     "start_time": "2021-08-20T06:17:00.059761",
     "status": "completed"
    },
    "tags": []
   },
   "outputs": [],
   "source": [
    "# Lines below will give you a hint or solution code\n",
    "#q5.hint()\n",
    "#q5.solution()"
   ]
  },
  {
   "cell_type": "markdown",
   "id": "b11cddc0",
   "metadata": {
    "papermill": {
     "duration": 0.024788,
     "end_time": "2021-08-20T06:17:00.140980",
     "exception": false,
     "start_time": "2021-08-20T06:17:00.116192",
     "status": "completed"
    },
    "tags": []
   },
   "source": [
    "# 6) Fill in missing values automatically\n",
    "\n",
    "Try replacing all the NaN's in the `sf_permits` data with the one that comes directly after it and then replacing any remaining NaN's with 0.  Set the result to a new DataFrame `sf_permits_with_na_imputed`."
   ]
  },
  {
   "cell_type": "code",
   "execution_count": 15,
   "id": "d338e2fc",
   "metadata": {
    "execution": {
     "iopub.execute_input": "2021-08-20T06:17:00.195532Z",
     "iopub.status.busy": "2021-08-20T06:17:00.194936Z",
     "iopub.status.idle": "2021-08-20T06:17:01.527160Z",
     "shell.execute_reply": "2021-08-20T06:17:01.526555Z",
     "shell.execute_reply.started": "2021-08-20T06:16:30.161792Z"
    },
    "papermill": {
     "duration": 1.361598,
     "end_time": "2021-08-20T06:17:01.527289",
     "exception": false,
     "start_time": "2021-08-20T06:17:00.165691",
     "status": "completed"
    },
    "tags": []
   },
   "outputs": [
    {
     "data": {
      "application/javascript": [
       "parent.postMessage({\"jupyterEvent\": \"custom.exercise_interaction\", \"data\": {\"outcomeType\": 1, \"valueTowardsCompletion\": 0.16666666666666666, \"interactionType\": 1, \"questionType\": 1, \"questionId\": \"6_ImputeAutomatically\", \"learnToolsVersion\": \"0.3.4\", \"failureMessage\": \"\", \"exceptionClass\": \"\", \"trace\": \"\"}}, \"*\")"
      ],
      "text/plain": [
       "<IPython.core.display.Javascript object>"
      ]
     },
     "metadata": {},
     "output_type": "display_data"
    },
    {
     "data": {
      "text/markdown": [
       "<span style=\"color:#33cc33\">Correct</span>"
      ],
      "text/plain": [
       "Correct"
      ]
     },
     "metadata": {},
     "output_type": "display_data"
    }
   ],
   "source": [
    "# TODO: Your code here\n",
    "sf_permits_with_na_imputed = sf_permits.fillna(method='bfill', axis=0).fillna(0)\n",
    "\n",
    "# Check your answer\n",
    "q6.check()"
   ]
  },
  {
   "cell_type": "code",
   "execution_count": 16,
   "id": "61d93df2",
   "metadata": {
    "execution": {
     "iopub.execute_input": "2021-08-20T06:17:01.583000Z",
     "iopub.status.busy": "2021-08-20T06:17:01.582424Z",
     "iopub.status.idle": "2021-08-20T06:17:01.584837Z",
     "shell.execute_reply": "2021-08-20T06:17:01.585284Z",
     "shell.execute_reply.started": "2021-08-20T06:16:21.885025Z"
    },
    "papermill": {
     "duration": 0.031914,
     "end_time": "2021-08-20T06:17:01.585432",
     "exception": false,
     "start_time": "2021-08-20T06:17:01.553518",
     "status": "completed"
    },
    "tags": []
   },
   "outputs": [],
   "source": [
    "# Lines below will give you a hint or solution code\n",
    "#q6.hint()\n",
    "#q6.solution()"
   ]
  },
  {
   "cell_type": "markdown",
   "id": "b039ad30",
   "metadata": {
    "papermill": {
     "duration": 0.025493,
     "end_time": "2021-08-20T06:17:01.636843",
     "exception": false,
     "start_time": "2021-08-20T06:17:01.611350",
     "status": "completed"
    },
    "tags": []
   },
   "source": [
    "# More practice\n",
    "\n",
    "If you're looking for more practice handling missing values:\n",
    "\n",
    "* Check out [this noteboook](https://www.kaggle.com/alexisbcook/missing-values) on handling missing values using scikit-learn's imputer. \n",
    "* Look back at the \"Zipcode\" column in the `sf_permits` dataset, which has some missing values. How would you go about figuring out what the actual zipcode of each address should be? (You might try using another dataset. You can search for datasets about San Fransisco on the [Datasets listing](https://www.kaggle.com/datasets).) \n",
    "\n",
    "# Keep going\n",
    "\n",
    "In the next lesson, learn how to [**apply scaling and normalization**](https://www.kaggle.com/alexisbcook/scaling-and-normalization) to transform your data."
   ]
  },
  {
   "cell_type": "markdown",
   "id": "30f85494",
   "metadata": {
    "papermill": {
     "duration": 0.026113,
     "end_time": "2021-08-20T06:17:01.689171",
     "exception": false,
     "start_time": "2021-08-20T06:17:01.663058",
     "status": "completed"
    },
    "tags": []
   },
   "source": [
    "---\n",
    "\n",
    "\n",
    "\n",
    "\n",
    "*Have questions or comments? Visit the [Learn Discussion forum](https://www.kaggle.com/learn-forum/172650) to chat with other Learners.*"
   ]
  }
 ],
 "metadata": {
  "kernelspec": {
   "display_name": "Python 3",
   "language": "python",
   "name": "python3"
  },
  "language_info": {
   "codemirror_mode": {
    "name": "ipython",
    "version": 3
   },
   "file_extension": ".py",
   "mimetype": "text/x-python",
   "name": "python",
   "nbconvert_exporter": "python",
   "pygments_lexer": "ipython3",
   "version": "3.7.10"
  },
  "papermill": {
   "default_parameters": {},
   "duration": 18.389659,
   "end_time": "2021-08-20T06:17:02.424945",
   "environment_variables": {},
   "exception": null,
   "input_path": "__notebook__.ipynb",
   "output_path": "__notebook__.ipynb",
   "parameters": {},
   "start_time": "2021-08-20T06:16:44.035286",
   "version": "2.3.3"
  }
 },
 "nbformat": 4,
 "nbformat_minor": 5
}
