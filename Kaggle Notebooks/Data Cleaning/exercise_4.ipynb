{
 "cells": [
  {
   "cell_type": "markdown",
   "id": "f0a849e3",
   "metadata": {
    "papermill": {
     "duration": 0.014592,
     "end_time": "2021-08-20T07:26:04.169631",
     "exception": false,
     "start_time": "2021-08-20T07:26:04.155039",
     "status": "completed"
    },
    "tags": []
   },
   "source": [
    "**This notebook is an exercise in the [Data Cleaning](https://www.kaggle.com/learn/data-cleaning) course.  You can reference the tutorial at [this link](https://www.kaggle.com/alexisbcook/character-encodings).**\n",
    "\n",
    "---\n"
   ]
  },
  {
   "cell_type": "markdown",
   "id": "bcb1e481",
   "metadata": {
    "papermill": {
     "duration": 0.015354,
     "end_time": "2021-08-20T07:26:04.199790",
     "exception": false,
     "start_time": "2021-08-20T07:26:04.184436",
     "status": "completed"
    },
    "tags": []
   },
   "source": [
    "In this exercise, you'll apply what you learned in the **Character encodings** tutorial.\n",
    "\n",
    "# Setup\n",
    "\n",
    "The questions below will give you feedback on your work. Run the following cell to set up the feedback system."
   ]
  },
  {
   "cell_type": "code",
   "execution_count": 1,
   "id": "02bfcf37",
   "metadata": {
    "execution": {
     "iopub.execute_input": "2021-08-20T07:26:04.233636Z",
     "iopub.status.busy": "2021-08-20T07:26:04.231846Z",
     "iopub.status.idle": "2021-08-20T07:26:04.428595Z",
     "shell.execute_reply": "2021-08-20T07:26:04.429446Z",
     "shell.execute_reply.started": "2021-08-20T07:02:28.562544Z"
    },
    "papermill": {
     "duration": 0.215893,
     "end_time": "2021-08-20T07:26:04.429827",
     "exception": false,
     "start_time": "2021-08-20T07:26:04.213934",
     "status": "completed"
    },
    "tags": []
   },
   "outputs": [
    {
     "name": "stdout",
     "output_type": "stream",
     "text": [
      "Setup Complete\n"
     ]
    }
   ],
   "source": [
    "from learntools.core import binder\n",
    "binder.bind(globals())\n",
    "from learntools.data_cleaning.ex4 import *\n",
    "print(\"Setup Complete\")"
   ]
  },
  {
   "cell_type": "markdown",
   "id": "9f609b30",
   "metadata": {
    "papermill": {
     "duration": 0.01737,
     "end_time": "2021-08-20T07:26:04.464006",
     "exception": false,
     "start_time": "2021-08-20T07:26:04.446636",
     "status": "completed"
    },
    "tags": []
   },
   "source": [
    "# Get our environment set up\n",
    "\n",
    "The first thing we'll need to do is load in the libraries we'll be using."
   ]
  },
  {
   "cell_type": "code",
   "execution_count": 2,
   "id": "c5284046",
   "metadata": {
    "execution": {
     "iopub.execute_input": "2021-08-20T07:26:04.497380Z",
     "iopub.status.busy": "2021-08-20T07:26:04.496430Z",
     "iopub.status.idle": "2021-08-20T07:26:04.499177Z",
     "shell.execute_reply": "2021-08-20T07:26:04.499692Z"
    },
    "papermill": {
     "duration": 0.021985,
     "end_time": "2021-08-20T07:26:04.499863",
     "exception": false,
     "start_time": "2021-08-20T07:26:04.477878",
     "status": "completed"
    },
    "tags": []
   },
   "outputs": [],
   "source": [
    "# modules we'll use\n",
    "import pandas as pd\n",
    "import numpy as np\n",
    "\n",
    "# helpful character encoding module\n",
    "import chardet\n",
    "\n",
    "# set seed for reproducibility\n",
    "np.random.seed(0)"
   ]
  },
  {
   "cell_type": "markdown",
   "id": "7a76b520",
   "metadata": {
    "papermill": {
     "duration": 0.013724,
     "end_time": "2021-08-20T07:26:04.527767",
     "exception": false,
     "start_time": "2021-08-20T07:26:04.514043",
     "status": "completed"
    },
    "tags": []
   },
   "source": [
    "# 1) What are encodings?\n",
    "\n",
    "You're working with a dataset composed of bytes.  Run the code cell below to print a sample entry."
   ]
  },
  {
   "cell_type": "code",
   "execution_count": 3,
   "id": "b8636103",
   "metadata": {
    "execution": {
     "iopub.execute_input": "2021-08-20T07:26:04.561762Z",
     "iopub.status.busy": "2021-08-20T07:26:04.560895Z",
     "iopub.status.idle": "2021-08-20T07:26:04.564744Z",
     "shell.execute_reply": "2021-08-20T07:26:04.564094Z",
     "shell.execute_reply.started": "2021-08-20T07:07:08.012678Z"
    },
    "papermill": {
     "duration": 0.022889,
     "end_time": "2021-08-20T07:26:04.564888",
     "exception": false,
     "start_time": "2021-08-20T07:26:04.541999",
     "status": "completed"
    },
    "tags": []
   },
   "outputs": [
    {
     "name": "stdout",
     "output_type": "stream",
     "text": [
      "b'\\xa7A\\xa6n'\n",
      "data type: <class 'bytes'>\n"
     ]
    }
   ],
   "source": [
    "sample_entry = b'\\xa7A\\xa6n'\n",
    "print(sample_entry)\n",
    "print('data type:', type(sample_entry))"
   ]
  },
  {
   "cell_type": "markdown",
   "id": "827df7aa",
   "metadata": {
    "papermill": {
     "duration": 0.013921,
     "end_time": "2021-08-20T07:26:04.593194",
     "exception": false,
     "start_time": "2021-08-20T07:26:04.579273",
     "status": "completed"
    },
    "tags": []
   },
   "source": [
    "You notice that it doesn't use the standard UTF-8 encoding. \n",
    "\n",
    "Use the next code cell to create a variable `new_entry` that changes the encoding from `\"big5-tw\"` to `\"utf-8\"`.  `new_entry` should have the bytes datatype."
   ]
  },
  {
   "cell_type": "code",
   "execution_count": 4,
   "id": "43a910e1",
   "metadata": {
    "execution": {
     "iopub.execute_input": "2021-08-20T07:26:04.630262Z",
     "iopub.status.busy": "2021-08-20T07:26:04.629278Z",
     "iopub.status.idle": "2021-08-20T07:26:04.635744Z",
     "shell.execute_reply": "2021-08-20T07:26:04.635208Z",
     "shell.execute_reply.started": "2021-08-20T07:08:52.253406Z"
    },
    "papermill": {
     "duration": 0.028369,
     "end_time": "2021-08-20T07:26:04.635889",
     "exception": false,
     "start_time": "2021-08-20T07:26:04.607520",
     "status": "completed"
    },
    "tags": []
   },
   "outputs": [
    {
     "data": {
      "application/javascript": [
       "parent.postMessage({\"jupyterEvent\": \"custom.exercise_interaction\", \"data\": {\"outcomeType\": 1, \"valueTowardsCompletion\": 0.3333333333333333, \"interactionType\": 1, \"questionType\": 1, \"questionId\": \"1_EncodingsIntro\", \"learnToolsVersion\": \"0.3.4\", \"failureMessage\": \"\", \"exceptionClass\": \"\", \"trace\": \"\"}}, \"*\")"
      ],
      "text/plain": [
       "<IPython.core.display.Javascript object>"
      ]
     },
     "metadata": {},
     "output_type": "display_data"
    },
    {
     "data": {
      "text/markdown": [
       "<span style=\"color:#33cc33\">Correct</span>"
      ],
      "text/plain": [
       "Correct"
      ]
     },
     "metadata": {},
     "output_type": "display_data"
    }
   ],
   "source": [
    "before = sample_entry.decode(\"big5-tw\")\n",
    "new_entry = before.encode()\n",
    "\n",
    "# Check your answer\n",
    "q1.check()"
   ]
  },
  {
   "cell_type": "code",
   "execution_count": 5,
   "id": "88347921",
   "metadata": {
    "execution": {
     "iopub.execute_input": "2021-08-20T07:26:04.670353Z",
     "iopub.status.busy": "2021-08-20T07:26:04.669758Z",
     "iopub.status.idle": "2021-08-20T07:26:04.672992Z",
     "shell.execute_reply": "2021-08-20T07:26:04.672458Z",
     "shell.execute_reply.started": "2021-08-20T07:08:49.771701Z"
    },
    "papermill": {
     "duration": 0.021913,
     "end_time": "2021-08-20T07:26:04.673144",
     "exception": false,
     "start_time": "2021-08-20T07:26:04.651231",
     "status": "completed"
    },
    "tags": []
   },
   "outputs": [],
   "source": [
    "# Lines below will give you a hint or solution code\n",
    "#q1.hint()\n",
    "#q1.solution()"
   ]
  },
  {
   "cell_type": "markdown",
   "id": "c23bfe35",
   "metadata": {
    "papermill": {
     "duration": 0.015369,
     "end_time": "2021-08-20T07:26:04.703902",
     "exception": false,
     "start_time": "2021-08-20T07:26:04.688533",
     "status": "completed"
    },
    "tags": []
   },
   "source": [
    "# 2) Reading in files with encoding problems\n",
    "\n",
    "Use the code cell below to read in this file at path `\"../input/fatal-police-shootings-in-the-us/PoliceKillingsUS.csv\"`.  \n",
    "\n",
    "Figure out what the correct encoding should be and read in the file to a DataFrame `police_killings`."
   ]
  },
  {
   "cell_type": "code",
   "execution_count": 6,
   "id": "29399e27",
   "metadata": {
    "execution": {
     "iopub.execute_input": "2021-08-20T07:26:04.740826Z",
     "iopub.status.busy": "2021-08-20T07:26:04.739763Z",
     "iopub.status.idle": "2021-08-20T07:26:04.763570Z",
     "shell.execute_reply": "2021-08-20T07:26:04.764064Z",
     "shell.execute_reply.started": "2021-08-20T07:16:20.192439Z"
    },
    "papermill": {
     "duration": 0.044789,
     "end_time": "2021-08-20T07:26:04.764243",
     "exception": false,
     "start_time": "2021-08-20T07:26:04.719454",
     "status": "completed"
    },
    "tags": []
   },
   "outputs": [
    {
     "data": {
      "application/javascript": [
       "parent.postMessage({\"jupyterEvent\": \"custom.exercise_interaction\", \"data\": {\"outcomeType\": 1, \"valueTowardsCompletion\": 0.3333333333333333, \"interactionType\": 1, \"questionType\": 1, \"questionId\": \"2_ReadIn\", \"learnToolsVersion\": \"0.3.4\", \"failureMessage\": \"\", \"exceptionClass\": \"\", \"trace\": \"\"}}, \"*\")"
      ],
      "text/plain": [
       "<IPython.core.display.Javascript object>"
      ]
     },
     "metadata": {},
     "output_type": "display_data"
    },
    {
     "data": {
      "text/markdown": [
       "<span style=\"color:#33cc33\">Correct</span>"
      ],
      "text/plain": [
       "Correct"
      ]
     },
     "metadata": {},
     "output_type": "display_data"
    }
   ],
   "source": [
    "import pandas as pd\n",
    "\n",
    "path_police_killings = \"../input/fatal-police-shootings-in-the-us/PoliceKillingsUS.csv\"\n",
    "police_killings = pd.read_csv(path_police_killings)\n",
    "\n",
    "# Check your answer\n",
    "q2.check()"
   ]
  },
  {
   "cell_type": "markdown",
   "id": "5d080479",
   "metadata": {
    "papermill": {
     "duration": 0.015976,
     "end_time": "2021-08-20T07:26:04.796626",
     "exception": false,
     "start_time": "2021-08-20T07:26:04.780650",
     "status": "completed"
    },
    "tags": []
   },
   "source": [
    "Feel free to use any additional code cells for supplemental work.  To get credit for finishing this question, you'll need to run `q2.check()` and get a result of **Correct**."
   ]
  },
  {
   "cell_type": "code",
   "execution_count": 7,
   "id": "3db0eec4",
   "metadata": {
    "execution": {
     "iopub.execute_input": "2021-08-20T07:26:04.836607Z",
     "iopub.status.busy": "2021-08-20T07:26:04.835915Z",
     "iopub.status.idle": "2021-08-20T07:26:08.069008Z",
     "shell.execute_reply": "2021-08-20T07:26:08.067824Z",
     "shell.execute_reply.started": "2021-08-20T07:25:15.182417Z"
    },
    "papermill": {
     "duration": 3.256262,
     "end_time": "2021-08-20T07:26:08.069161",
     "exception": false,
     "start_time": "2021-08-20T07:26:04.812899",
     "status": "completed"
    },
    "tags": []
   },
   "outputs": [],
   "source": [
    "# (Optional) Use this code cell for any additional work.\n",
    "rawdata = open(path_police_killings, \"rb\").read()\n",
    "result = chardet.detect(bytes(rawdata))\n",
    "# print(result)\n",
    "police_killings = pd.read_csv(path_police_killings, encoding=result['encoding'])"
   ]
  },
  {
   "cell_type": "code",
   "execution_count": 8,
   "id": "909ea44c",
   "metadata": {
    "execution": {
     "iopub.execute_input": "2021-08-20T07:26:08.106166Z",
     "iopub.status.busy": "2021-08-20T07:26:08.105534Z",
     "iopub.status.idle": "2021-08-20T07:26:08.108543Z",
     "shell.execute_reply": "2021-08-20T07:26:08.107894Z",
     "shell.execute_reply.started": "2021-08-20T07:17:35.897688Z"
    },
    "papermill": {
     "duration": 0.023015,
     "end_time": "2021-08-20T07:26:08.108701",
     "exception": false,
     "start_time": "2021-08-20T07:26:08.085686",
     "status": "completed"
    },
    "tags": []
   },
   "outputs": [],
   "source": [
    "# Lines below will give you a hint or solution code\n",
    "#q2.hint()\n",
    "#q2.solution()"
   ]
  },
  {
   "cell_type": "markdown",
   "id": "91156a10",
   "metadata": {
    "papermill": {
     "duration": 0.016042,
     "end_time": "2021-08-20T07:26:08.142116",
     "exception": false,
     "start_time": "2021-08-20T07:26:08.126074",
     "status": "completed"
    },
    "tags": []
   },
   "source": [
    "# 3) Saving your files with UTF-8 encoding\n",
    "\n",
    "Save a version of the police killings dataset to CSV with UTF-8 encoding.  Your answer will be marked correct after saving this file.  \n",
    "\n",
    "Note: When using the `to_csv()` method, supply only the name of the file (e.g., `\"my_file.csv\"`).  This saves the file at the filepath `\"/kaggle/working/my_file.csv\"`."
   ]
  },
  {
   "cell_type": "code",
   "execution_count": 9,
   "id": "86fc8502",
   "metadata": {
    "execution": {
     "iopub.execute_input": "2021-08-20T07:26:08.180060Z",
     "iopub.status.busy": "2021-08-20T07:26:08.179387Z",
     "iopub.status.idle": "2021-08-20T07:26:08.220653Z",
     "shell.execute_reply": "2021-08-20T07:26:08.220014Z",
     "shell.execute_reply.started": "2021-08-20T07:19:38.615292Z"
    },
    "papermill": {
     "duration": 0.06239,
     "end_time": "2021-08-20T07:26:08.220798",
     "exception": false,
     "start_time": "2021-08-20T07:26:08.158408",
     "status": "completed"
    },
    "tags": []
   },
   "outputs": [
    {
     "data": {
      "application/javascript": [
       "parent.postMessage({\"jupyterEvent\": \"custom.exercise_interaction\", \"data\": {\"outcomeType\": 1, \"valueTowardsCompletion\": 0.3333333333333333, \"interactionType\": 1, \"questionType\": 2, \"questionId\": \"3_SaveCSV\", \"learnToolsVersion\": \"0.3.4\", \"failureMessage\": \"\", \"exceptionClass\": \"\", \"trace\": \"\"}}, \"*\")"
      ],
      "text/plain": [
       "<IPython.core.display.Javascript object>"
      ]
     },
     "metadata": {},
     "output_type": "display_data"
    },
    {
     "data": {
      "text/markdown": [
       "<span style=\"color:#33cc33\">Correct</span>"
      ],
      "text/plain": [
       "Correct"
      ]
     },
     "metadata": {},
     "output_type": "display_data"
    }
   ],
   "source": [
    "# TODO: Save the police killings dataset to CSV\n",
    "# UTF-8 by default\n",
    "police_killings.to_csv(\"my_file.csv\")\n",
    "\n",
    "# Check your answer\n",
    "q3.check()"
   ]
  },
  {
   "cell_type": "code",
   "execution_count": 10,
   "id": "bc73fb09",
   "metadata": {
    "execution": {
     "iopub.execute_input": "2021-08-20T07:26:08.259456Z",
     "iopub.status.busy": "2021-08-20T07:26:08.258787Z",
     "iopub.status.idle": "2021-08-20T07:26:08.261885Z",
     "shell.execute_reply": "2021-08-20T07:26:08.261348Z"
    },
    "papermill": {
     "duration": 0.023956,
     "end_time": "2021-08-20T07:26:08.262037",
     "exception": false,
     "start_time": "2021-08-20T07:26:08.238081",
     "status": "completed"
    },
    "tags": []
   },
   "outputs": [],
   "source": [
    "# Lines below will give you a hint or solution code\n",
    "#q3.hint()\n",
    "#q3.solution()"
   ]
  },
  {
   "cell_type": "markdown",
   "id": "7fd312a4",
   "metadata": {
    "papermill": {
     "duration": 0.017167,
     "end_time": "2021-08-20T07:26:08.296819",
     "exception": false,
     "start_time": "2021-08-20T07:26:08.279652",
     "status": "completed"
    },
    "tags": []
   },
   "source": [
    "# (Optional) More practice\n",
    "\n",
    "Check out [this dataset of files in different character encodings](https://www.kaggle.com/rtatman/character-encoding-examples). Can you read in all the files with their original encodings and them save them out as UTF-8 files?\n",
    "\n",
    "If you have a file that's in UTF-8 but has just a couple of weird-looking characters in it, you can try out the [ftfy module](https://ftfy.readthedocs.io/en/latest/#) and see if it helps. \n",
    "\n",
    "# Keep going\n",
    "\n",
    "In the final lesson, learn how to [**clean up inconsistent text entries**](https://www.kaggle.com/alexisbcook/inconsistent-data-entry) in your dataset."
   ]
  },
  {
   "cell_type": "markdown",
   "id": "e8f54656",
   "metadata": {
    "papermill": {
     "duration": 0.017228,
     "end_time": "2021-08-20T07:26:08.331734",
     "exception": false,
     "start_time": "2021-08-20T07:26:08.314506",
     "status": "completed"
    },
    "tags": []
   },
   "source": [
    "---\n",
    "\n",
    "\n",
    "\n",
    "\n",
    "*Have questions or comments? Visit the [Learn Discussion forum](https://www.kaggle.com/learn-forum/172650) to chat with other Learners.*"
   ]
  }
 ],
 "metadata": {
  "kernelspec": {
   "display_name": "Python 3",
   "language": "python",
   "name": "python3"
  },
  "language_info": {
   "codemirror_mode": {
    "name": "ipython",
    "version": 3
   },
   "file_extension": ".py",
   "mimetype": "text/x-python",
   "name": "python",
   "nbconvert_exporter": "python",
   "pygments_lexer": "ipython3",
   "version": "3.7.10"
  },
  "papermill": {
   "default_parameters": {},
   "duration": 13.795518,
   "end_time": "2021-08-20T07:26:09.705725",
   "environment_variables": {},
   "exception": null,
   "input_path": "__notebook__.ipynb",
   "output_path": "__notebook__.ipynb",
   "parameters": {},
   "start_time": "2021-08-20T07:25:55.910207",
   "version": "2.3.3"
  }
 },
 "nbformat": 4,
 "nbformat_minor": 5
}
