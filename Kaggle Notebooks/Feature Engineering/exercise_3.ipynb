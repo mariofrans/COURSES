{
 "cells": [
  {
   "cell_type": "markdown",
   "id": "db4db595",
   "metadata": {
    "papermill": {
     "duration": 0.017544,
     "end_time": "2021-08-27T07:21:41.092396",
     "exception": false,
     "start_time": "2021-08-27T07:21:41.074852",
     "status": "completed"
    },
    "tags": []
   },
   "source": [
    "**This notebook is an exercise in the [Feature Engineering](https://www.kaggle.com/learn/feature-engineering) course.  You can reference the tutorial at [this link](https://www.kaggle.com/ryanholbrook/creating-features).**\n",
    "\n",
    "---\n"
   ]
  },
  {
   "cell_type": "markdown",
   "id": "ba13ace9",
   "metadata": {
    "papermill": {
     "duration": 0.015933,
     "end_time": "2021-08-27T07:21:41.124921",
     "exception": false,
     "start_time": "2021-08-27T07:21:41.108988",
     "status": "completed"
    },
    "tags": []
   },
   "source": [
    "# Introduction #\n",
    "\n",
    "In this exercise you'll start developing the features you identified in Exercise 2 as having the most potential. As you work through this exercise, you might take a moment to look at the data documentation again and consider whether the features we're creating make sense from a real-world perspective, and whether there are any useful combinations that stand out to you.\n",
    "\n",
    "Run this cell to set everything up!"
   ]
  },
  {
   "cell_type": "code",
   "execution_count": 1,
   "id": "a102c8b6",
   "metadata": {
    "execution": {
     "iopub.execute_input": "2021-08-27T07:21:41.163850Z",
     "iopub.status.busy": "2021-08-27T07:21:41.162014Z",
     "iopub.status.idle": "2021-08-27T07:21:42.577101Z",
     "shell.execute_reply": "2021-08-27T07:21:42.577730Z",
     "shell.execute_reply.started": "2021-08-27T06:50:34.730151Z"
    },
    "papermill": {
     "duration": 1.436725,
     "end_time": "2021-08-27T07:21:42.578091",
     "exception": false,
     "start_time": "2021-08-27T07:21:41.141366",
     "status": "completed"
    },
    "tags": []
   },
   "outputs": [],
   "source": [
    "# Setup feedback system\n",
    "from learntools.core import binder\n",
    "binder.bind(globals())\n",
    "from learntools.feature_engineering_new.ex3 import *\n",
    "\n",
    "import numpy as np\n",
    "import pandas as pd\n",
    "from sklearn.model_selection import cross_val_score\n",
    "from xgboost import XGBRegressor\n",
    "\n",
    "\n",
    "def score_dataset(X, y, model=XGBRegressor()):\n",
    "    # Label encoding for categoricals\n",
    "    for colname in X.select_dtypes([\"category\", \"object\"]):\n",
    "        X[colname], _ = X[colname].factorize()\n",
    "    # Metric for Housing competition is RMSLE (Root Mean Squared Log Error)\n",
    "    score = cross_val_score(\n",
    "        model, X, y, cv=5, scoring=\"neg_mean_squared_log_error\",\n",
    "    )\n",
    "    score = -1 * score.mean()\n",
    "    score = np.sqrt(score)\n",
    "    return score\n",
    "\n",
    "\n",
    "# Prepare data\n",
    "df = pd.read_csv(\"../input/fe-course-data/ames.csv\")\n",
    "X = df.copy()\n",
    "y = X.pop(\"SalePrice\")"
   ]
  },
  {
   "cell_type": "markdown",
   "id": "d4fe14ea",
   "metadata": {
    "papermill": {
     "duration": 0.016543,
     "end_time": "2021-08-27T07:21:42.611650",
     "exception": false,
     "start_time": "2021-08-27T07:21:42.595107",
     "status": "completed"
    },
    "tags": []
   },
   "source": [
    "-------------------------------------------------------------------------------\n",
    "\n",
    "Let's start with a few mathematical combinations. We'll focus on features describing areas -- having the same units (square-feet) makes it easy to combine them in sensible ways. Since we're using XGBoost (a tree-based model), we'll focus on ratios and sums.\n",
    "\n",
    "# 1) Create Mathematical Transforms\n",
    "\n",
    "Create the following features:\n",
    "\n",
    "- `LivLotRatio`: the ratio of `GrLivArea` to `LotArea`\n",
    "- `Spaciousness`: the sum of `FirstFlrSF` and `SecondFlrSF` divided by `TotRmsAbvGrd`\n",
    "- `TotalOutsideSF`: the sum of `WoodDeckSF`, `OpenPorchSF`, `EnclosedPorch`, `Threeseasonporch`, and `ScreenPorch`"
   ]
  },
  {
   "cell_type": "code",
   "execution_count": 2,
   "id": "c3ab08c3",
   "metadata": {
    "execution": {
     "iopub.execute_input": "2021-08-27T07:21:42.649799Z",
     "iopub.status.busy": "2021-08-27T07:21:42.648749Z",
     "iopub.status.idle": "2021-08-27T07:21:42.695761Z",
     "shell.execute_reply": "2021-08-27T07:21:42.696249Z",
     "shell.execute_reply.started": "2021-08-27T07:02:36.135106Z"
    },
    "lines_to_next_cell": 0,
    "papermill": {
     "duration": 0.067883,
     "end_time": "2021-08-27T07:21:42.696441",
     "exception": false,
     "start_time": "2021-08-27T07:21:42.628558",
     "status": "completed"
    },
    "tags": []
   },
   "outputs": [
    {
     "data": {
      "application/javascript": [
       "parent.postMessage({\"jupyterEvent\": \"custom.exercise_interaction\", \"data\": {\"outcomeType\": 1, \"valueTowardsCompletion\": 0.2, \"interactionType\": 1, \"questionType\": 2, \"questionId\": \"1_Q1\", \"learnToolsVersion\": \"0.3.4\", \"failureMessage\": \"\", \"exceptionClass\": \"\", \"trace\": \"\"}}, \"*\")"
      ],
      "text/plain": [
       "<IPython.core.display.Javascript object>"
      ]
     },
     "metadata": {},
     "output_type": "display_data"
    },
    {
     "data": {
      "text/markdown": [
       "<span style=\"color:#33cc33\">Correct</span>"
      ],
      "text/plain": [
       "Correct"
      ]
     },
     "metadata": {},
     "output_type": "display_data"
    }
   ],
   "source": [
    "X_1 = pd.DataFrame()\n",
    "\n",
    "X_1[\"LivLotRatio\"] = df['GrLivArea']/df['LotArea']\n",
    "X_1[\"Spaciousness\"] = (df['FirstFlrSF'] + df['SecondFlrSF'])/df['TotRmsAbvGrd']\n",
    "X_1[\"TotalOutsideSF\"] = df['WoodDeckSF'] + df['OpenPorchSF'] + df['EnclosedPorch'] + \\\n",
    "                        df['Threeseasonporch'] + df['ScreenPorch']\n",
    "\n",
    "# Check your answer\n",
    "q_1.check()"
   ]
  },
  {
   "cell_type": "code",
   "execution_count": 3,
   "id": "70264f09",
   "metadata": {
    "execution": {
     "iopub.execute_input": "2021-08-27T07:21:42.738701Z",
     "iopub.status.busy": "2021-08-27T07:21:42.737656Z",
     "iopub.status.idle": "2021-08-27T07:21:42.739995Z",
     "shell.execute_reply": "2021-08-27T07:21:42.740449Z",
     "shell.execute_reply.started": "2021-08-27T07:02:47.408261Z"
    },
    "lines_to_next_cell": 0,
    "papermill": {
     "duration": 0.025917,
     "end_time": "2021-08-27T07:21:42.740686",
     "exception": false,
     "start_time": "2021-08-27T07:21:42.714769",
     "status": "completed"
    },
    "tags": []
   },
   "outputs": [],
   "source": [
    "# Lines below will give you a hint or solution code\n",
    "#q_1.hint()\n",
    "#q_1.solution()"
   ]
  },
  {
   "cell_type": "markdown",
   "id": "4092d5b7",
   "metadata": {
    "papermill": {
     "duration": 0.01749,
     "end_time": "2021-08-27T07:21:42.776219",
     "exception": false,
     "start_time": "2021-08-27T07:21:42.758729",
     "status": "completed"
    },
    "tags": []
   },
   "source": [
    "-------------------------------------------------------------------------------\n",
    "\n",
    "If you've discovered an interaction effect between a numeric feature and a categorical feature, you might want to model it explicitly using a one-hot encoding, like so:\n",
    "\n",
    "```\n",
    "# One-hot encode Categorical feature, adding a column prefix \"Cat\"\n",
    "X_new = pd.get_dummies(df.Categorical, prefix=\"Cat\")\n",
    "\n",
    "# Multiply row-by-row\n",
    "X_new = X_new.mul(df.Continuous, axis=0)\n",
    "\n",
    "# Join the new features to the feature set\n",
    "X = X.join(X_new)\n",
    "```\n",
    "\n",
    "# 2) Interaction with a Categorical\n",
    "\n",
    "We discovered an interaction between `BldgType` and `GrLivArea` in Exercise 2. Now create their interaction features."
   ]
  },
  {
   "cell_type": "code",
   "execution_count": 4,
   "id": "67975c6d",
   "metadata": {
    "execution": {
     "iopub.execute_input": "2021-08-27T07:21:42.816093Z",
     "iopub.status.busy": "2021-08-27T07:21:42.815067Z",
     "iopub.status.idle": "2021-08-27T07:21:42.840382Z",
     "shell.execute_reply": "2021-08-27T07:21:42.840948Z",
     "shell.execute_reply.started": "2021-08-27T07:08:55.812556Z"
    },
    "lines_to_next_cell": 0,
    "papermill": {
     "duration": 0.047047,
     "end_time": "2021-08-27T07:21:42.841156",
     "exception": false,
     "start_time": "2021-08-27T07:21:42.794109",
     "status": "completed"
    },
    "tags": []
   },
   "outputs": [
    {
     "data": {
      "application/javascript": [
       "parent.postMessage({\"jupyterEvent\": \"custom.exercise_interaction\", \"data\": {\"outcomeType\": 1, \"valueTowardsCompletion\": 0.2, \"interactionType\": 1, \"questionType\": 2, \"questionId\": \"2_Q2\", \"learnToolsVersion\": \"0.3.4\", \"failureMessage\": \"\", \"exceptionClass\": \"\", \"trace\": \"\"}}, \"*\")"
      ],
      "text/plain": [
       "<IPython.core.display.Javascript object>"
      ]
     },
     "metadata": {},
     "output_type": "display_data"
    },
    {
     "data": {
      "text/markdown": [
       "<span style=\"color:#33cc33\">Correct</span>"
      ],
      "text/plain": [
       "Correct"
      ]
     },
     "metadata": {},
     "output_type": "display_data"
    }
   ],
   "source": [
    "# One-hot encode BldgType. Use `prefix=\"Bldg\"` in `get_dummies`\n",
    "X_2 = pd.get_dummies(df['BldgType'], prefix=\"Bldg\") \n",
    "# Multiply\n",
    "X_2 = X_2.mul(df['GrLivArea'], axis=0)\n",
    "\n",
    "# Check your answer\n",
    "q_2.check()"
   ]
  },
  {
   "cell_type": "code",
   "execution_count": 5,
   "id": "35cf5c0f",
   "metadata": {
    "execution": {
     "iopub.execute_input": "2021-08-27T07:21:42.882546Z",
     "iopub.status.busy": "2021-08-27T07:21:42.881939Z",
     "iopub.status.idle": "2021-08-27T07:21:42.884095Z",
     "shell.execute_reply": "2021-08-27T07:21:42.884582Z",
     "shell.execute_reply.started": "2021-08-27T07:08:02.223600Z"
    },
    "lines_to_next_cell": 0,
    "papermill": {
     "duration": 0.024802,
     "end_time": "2021-08-27T07:21:42.884759",
     "exception": false,
     "start_time": "2021-08-27T07:21:42.859957",
     "status": "completed"
    },
    "tags": []
   },
   "outputs": [],
   "source": [
    "# Lines below will give you a hint or solution code\n",
    "#q_2.hint()\n",
    "#q_2.solution()"
   ]
  },
  {
   "cell_type": "markdown",
   "id": "0689f3df",
   "metadata": {
    "lines_to_next_cell": 0,
    "papermill": {
     "duration": 0.017908,
     "end_time": "2021-08-27T07:21:42.920872",
     "exception": false,
     "start_time": "2021-08-27T07:21:42.902964",
     "status": "completed"
    },
    "tags": []
   },
   "source": [
    "# 3) Count Feature\n",
    "\n",
    "Let's try creating a feature that describes how many kinds of outdoor areas a dwelling has. Create a feature `PorchTypes` that counts how many of the following are greater than 0.0:\n",
    "\n",
    "```\n",
    "WoodDeckSF\n",
    "OpenPorchSF\n",
    "EnclosedPorch\n",
    "Threeseasonporch\n",
    "ScreenPorch\n",
    "```"
   ]
  },
  {
   "cell_type": "code",
   "execution_count": 6,
   "id": "36b16d78",
   "metadata": {
    "execution": {
     "iopub.execute_input": "2021-08-27T07:21:42.960908Z",
     "iopub.status.busy": "2021-08-27T07:21:42.960254Z",
     "iopub.status.idle": "2021-08-27T07:21:42.978343Z",
     "shell.execute_reply": "2021-08-27T07:21:42.978808Z",
     "shell.execute_reply.started": "2021-08-27T07:11:13.013945Z"
    },
    "lines_to_next_cell": 0,
    "papermill": {
     "duration": 0.039901,
     "end_time": "2021-08-27T07:21:42.978991",
     "exception": false,
     "start_time": "2021-08-27T07:21:42.939090",
     "status": "completed"
    },
    "tags": []
   },
   "outputs": [
    {
     "data": {
      "application/javascript": [
       "parent.postMessage({\"jupyterEvent\": \"custom.exercise_interaction\", \"data\": {\"outcomeType\": 1, \"valueTowardsCompletion\": 0.2, \"interactionType\": 1, \"questionType\": 2, \"questionId\": \"3_Q3\", \"learnToolsVersion\": \"0.3.4\", \"failureMessage\": \"\", \"exceptionClass\": \"\", \"trace\": \"\"}}, \"*\")"
      ],
      "text/plain": [
       "<IPython.core.display.Javascript object>"
      ]
     },
     "metadata": {},
     "output_type": "display_data"
    },
    {
     "data": {
      "text/markdown": [
       "<span style=\"color:#33cc33\">Correct</span>"
      ],
      "text/plain": [
       "Correct"
      ]
     },
     "metadata": {},
     "output_type": "display_data"
    }
   ],
   "source": [
    "X_3 = pd.DataFrame()\n",
    "features = ['WoodDeckSF', 'OpenPorchSF', 'EnclosedPorch', 'Threeseasonporch', 'ScreenPorch']\n",
    "X_3[\"PorchTypes\"] = df[features].gt(0).sum(axis=1)\n",
    "\n",
    "# Check your answer\n",
    "q_3.check()"
   ]
  },
  {
   "cell_type": "code",
   "execution_count": 7,
   "id": "0f26f749",
   "metadata": {
    "execution": {
     "iopub.execute_input": "2021-08-27T07:21:43.022259Z",
     "iopub.status.busy": "2021-08-27T07:21:43.021235Z",
     "iopub.status.idle": "2021-08-27T07:21:43.024598Z",
     "shell.execute_reply": "2021-08-27T07:21:43.023949Z"
    },
    "lines_to_next_cell": 0,
    "papermill": {
     "duration": 0.026758,
     "end_time": "2021-08-27T07:21:43.024756",
     "exception": false,
     "start_time": "2021-08-27T07:21:42.997998",
     "status": "completed"
    },
    "tags": []
   },
   "outputs": [],
   "source": [
    "# Lines below will give you a hint or solution code\n",
    "#q_3.hint()\n",
    "#q_3.solution()"
   ]
  },
  {
   "cell_type": "markdown",
   "id": "2b6bffcd",
   "metadata": {
    "papermill": {
     "duration": 0.019101,
     "end_time": "2021-08-27T07:21:43.063772",
     "exception": false,
     "start_time": "2021-08-27T07:21:43.044671",
     "status": "completed"
    },
    "tags": []
   },
   "source": [
    "# 4) Break Down a Categorical Feature\n",
    "\n",
    "`MSSubClass` describes the type of a dwelling:"
   ]
  },
  {
   "cell_type": "code",
   "execution_count": 8,
   "id": "b9063ef1",
   "metadata": {
    "execution": {
     "iopub.execute_input": "2021-08-27T07:21:43.109981Z",
     "iopub.status.busy": "2021-08-27T07:21:43.108201Z",
     "iopub.status.idle": "2021-08-27T07:21:43.113211Z",
     "shell.execute_reply": "2021-08-27T07:21:43.113700Z",
     "shell.execute_reply.started": "2021-08-27T07:13:02.026343Z"
    },
    "papermill": {
     "duration": 0.030835,
     "end_time": "2021-08-27T07:21:43.113862",
     "exception": false,
     "start_time": "2021-08-27T07:21:43.083027",
     "status": "completed"
    },
    "tags": []
   },
   "outputs": [
    {
     "data": {
      "text/plain": [
       "array(['One_Story_1946_and_Newer_All_Styles', 'Two_Story_1946_and_Newer',\n",
       "       'One_Story_PUD_1946_and_Newer',\n",
       "       'One_and_Half_Story_Finished_All_Ages', 'Split_Foyer',\n",
       "       'Two_Story_PUD_1946_and_Newer', 'Split_or_Multilevel',\n",
       "       'One_Story_1945_and_Older', 'Duplex_All_Styles_and_Ages',\n",
       "       'Two_Family_conversion_All_Styles_and_Ages',\n",
       "       'One_and_Half_Story_Unfinished_All_Ages',\n",
       "       'Two_Story_1945_and_Older', 'Two_and_Half_Story_All_Ages',\n",
       "       'One_Story_with_Finished_Attic_All_Ages',\n",
       "       'PUD_Multilevel_Split_Level_Foyer',\n",
       "       'One_and_Half_Story_PUD_All_Ages'], dtype=object)"
      ]
     },
     "execution_count": 8,
     "metadata": {},
     "output_type": "execute_result"
    }
   ],
   "source": [
    "df['MSSubClass'].unique()"
   ]
  },
  {
   "cell_type": "markdown",
   "id": "05051719",
   "metadata": {
    "papermill": {
     "duration": 0.01951,
     "end_time": "2021-08-27T07:21:43.153156",
     "exception": false,
     "start_time": "2021-08-27T07:21:43.133646",
     "status": "completed"
    },
    "tags": []
   },
   "source": [
    "You can see that there is a more general categorization described (roughly) by the first word of each category. Create a feature containing only these first words by splitting `MSSubClass` at the first underscore `_`. (Hint: In the `split` method use an argument `n=1`.)"
   ]
  },
  {
   "cell_type": "code",
   "execution_count": 9,
   "id": "5677b859",
   "metadata": {
    "execution": {
     "iopub.execute_input": "2021-08-27T07:21:43.196180Z",
     "iopub.status.busy": "2021-08-27T07:21:43.195233Z",
     "iopub.status.idle": "2021-08-27T07:21:43.227028Z",
     "shell.execute_reply": "2021-08-27T07:21:43.226375Z",
     "shell.execute_reply.started": "2021-08-27T07:16:05.801650Z"
    },
    "lines_to_next_cell": 0,
    "papermill": {
     "duration": 0.054368,
     "end_time": "2021-08-27T07:21:43.227170",
     "exception": false,
     "start_time": "2021-08-27T07:21:43.172802",
     "status": "completed"
    },
    "tags": []
   },
   "outputs": [
    {
     "data": {
      "application/javascript": [
       "parent.postMessage({\"jupyterEvent\": \"custom.exercise_interaction\", \"data\": {\"outcomeType\": 1, \"valueTowardsCompletion\": 0.2, \"interactionType\": 1, \"questionType\": 2, \"questionId\": \"4_Q4\", \"learnToolsVersion\": \"0.3.4\", \"failureMessage\": \"\", \"exceptionClass\": \"\", \"trace\": \"\"}}, \"*\")"
      ],
      "text/plain": [
       "<IPython.core.display.Javascript object>"
      ]
     },
     "metadata": {},
     "output_type": "display_data"
    },
    {
     "data": {
      "text/markdown": [
       "<span style=\"color:#33cc33\">Correct</span>"
      ],
      "text/plain": [
       "Correct"
      ]
     },
     "metadata": {},
     "output_type": "display_data"
    }
   ],
   "source": [
    "X_4 = pd.DataFrame()\n",
    "X_4[\"MSClass\"] = df['MSSubClass'].str.split(\"_\", n=1, expand=True)[0]\n",
    "\n",
    "# Check your answer\n",
    "q_4.check()"
   ]
  },
  {
   "cell_type": "code",
   "execution_count": 10,
   "id": "efec94c8",
   "metadata": {
    "execution": {
     "iopub.execute_input": "2021-08-27T07:21:43.272435Z",
     "iopub.status.busy": "2021-08-27T07:21:43.271799Z",
     "iopub.status.idle": "2021-08-27T07:21:43.274860Z",
     "shell.execute_reply": "2021-08-27T07:21:43.275439Z",
     "shell.execute_reply.started": "2021-08-27T07:16:03.234718Z"
    },
    "lines_to_next_cell": 0,
    "papermill": {
     "duration": 0.027486,
     "end_time": "2021-08-27T07:21:43.275634",
     "exception": false,
     "start_time": "2021-08-27T07:21:43.248148",
     "status": "completed"
    },
    "tags": []
   },
   "outputs": [],
   "source": [
    "# Lines below will give you a hint or solution code\n",
    "#q_4.hint()\n",
    "#q_4.solution()"
   ]
  },
  {
   "cell_type": "markdown",
   "id": "8024a8d6",
   "metadata": {
    "papermill": {
     "duration": 0.020729,
     "end_time": "2021-08-27T07:21:43.317199",
     "exception": false,
     "start_time": "2021-08-27T07:21:43.296470",
     "status": "completed"
    },
    "tags": []
   },
   "source": [
    "# 5) Use a Grouped Transform\n",
    "\n",
    "The value of a home often depends on how it compares to typical homes in its neighborhood. Create a feature `MedNhbdArea` that describes the *median* of `GrLivArea` grouped on `Neighborhood`."
   ]
  },
  {
   "cell_type": "code",
   "execution_count": 11,
   "id": "6d75bb67",
   "metadata": {
    "execution": {
     "iopub.execute_input": "2021-08-27T07:21:43.363168Z",
     "iopub.status.busy": "2021-08-27T07:21:43.362542Z",
     "iopub.status.idle": "2021-08-27T07:21:43.380838Z",
     "shell.execute_reply": "2021-08-27T07:21:43.381389Z",
     "shell.execute_reply.started": "2021-08-27T07:18:21.021593Z"
    },
    "lines_to_next_cell": 0,
    "papermill": {
     "duration": 0.043263,
     "end_time": "2021-08-27T07:21:43.381556",
     "exception": false,
     "start_time": "2021-08-27T07:21:43.338293",
     "status": "completed"
    },
    "tags": []
   },
   "outputs": [
    {
     "data": {
      "application/javascript": [
       "parent.postMessage({\"jupyterEvent\": \"custom.exercise_interaction\", \"data\": {\"outcomeType\": 1, \"valueTowardsCompletion\": 0.2, \"interactionType\": 1, \"questionType\": 2, \"questionId\": \"5_Q5\", \"learnToolsVersion\": \"0.3.4\", \"failureMessage\": \"\", \"exceptionClass\": \"\", \"trace\": \"\"}}, \"*\")"
      ],
      "text/plain": [
       "<IPython.core.display.Javascript object>"
      ]
     },
     "metadata": {},
     "output_type": "display_data"
    },
    {
     "data": {
      "text/markdown": [
       "<span style=\"color:#33cc33\">Correct</span>"
      ],
      "text/plain": [
       "Correct"
      ]
     },
     "metadata": {},
     "output_type": "display_data"
    }
   ],
   "source": [
    "X_5 = pd.DataFrame()\n",
    "X_5[\"MedNhbdArea\"] = df.groupby(\"Neighborhood\")[\"GrLivArea\"].transform(\"median\")\n",
    "\n",
    "# Check your answer\n",
    "q_5.check()"
   ]
  },
  {
   "cell_type": "code",
   "execution_count": 12,
   "id": "1a2cf158",
   "metadata": {
    "execution": {
     "iopub.execute_input": "2021-08-27T07:21:43.429918Z",
     "iopub.status.busy": "2021-08-27T07:21:43.429146Z",
     "iopub.status.idle": "2021-08-27T07:21:43.432219Z",
     "shell.execute_reply": "2021-08-27T07:21:43.432800Z",
     "shell.execute_reply.started": "2021-08-27T07:18:25.697088Z"
    },
    "lines_to_next_cell": 0,
    "papermill": {
     "duration": 0.028834,
     "end_time": "2021-08-27T07:21:43.432992",
     "exception": false,
     "start_time": "2021-08-27T07:21:43.404158",
     "status": "completed"
    },
    "tags": []
   },
   "outputs": [],
   "source": [
    "# Lines below will give you a hint or solution code\n",
    "#q_5.hint()\n",
    "#q_5.solution()"
   ]
  },
  {
   "cell_type": "markdown",
   "id": "35685c47",
   "metadata": {
    "papermill": {
     "duration": 0.022269,
     "end_time": "2021-08-27T07:21:43.477584",
     "exception": false,
     "start_time": "2021-08-27T07:21:43.455315",
     "status": "completed"
    },
    "tags": []
   },
   "source": [
    "Now you've made your first new feature set! If you like, you can run the cell below to score the model with all of your new features added:"
   ]
  },
  {
   "cell_type": "code",
   "execution_count": 13,
   "id": "67c855b7",
   "metadata": {
    "execution": {
     "iopub.execute_input": "2021-08-27T07:21:43.524012Z",
     "iopub.status.busy": "2021-08-27T07:21:43.523356Z",
     "iopub.status.idle": "2021-08-27T07:21:47.758059Z",
     "shell.execute_reply": "2021-08-27T07:21:47.757173Z",
     "shell.execute_reply.started": "2021-08-27T07:18:28.380659Z"
    },
    "papermill": {
     "duration": 4.259133,
     "end_time": "2021-08-27T07:21:47.758294",
     "exception": false,
     "start_time": "2021-08-27T07:21:43.499161",
     "status": "completed"
    },
    "tags": []
   },
   "outputs": [
    {
     "data": {
      "text/plain": [
       "0.13847331710099203"
      ]
     },
     "execution_count": 13,
     "metadata": {},
     "output_type": "execute_result"
    }
   ],
   "source": [
    "X_new = X.join([X_1, X_2, X_3, X_4, X_5])\n",
    "score_dataset(X_new, y)"
   ]
  },
  {
   "cell_type": "markdown",
   "id": "60487590",
   "metadata": {
    "papermill": {
     "duration": 0.022236,
     "end_time": "2021-08-27T07:21:47.810361",
     "exception": false,
     "start_time": "2021-08-27T07:21:47.788125",
     "status": "completed"
    },
    "tags": []
   },
   "source": [
    "# Keep Going #\n",
    "\n",
    "[**Untangle spatial relationships**](https://www.kaggle.com/ryanholbrook/clustering-with-k-means) by adding cluster labels to your dataset."
   ]
  },
  {
   "cell_type": "markdown",
   "id": "fbfe139e",
   "metadata": {
    "papermill": {
     "duration": 0.022167,
     "end_time": "2021-08-27T07:21:47.855100",
     "exception": false,
     "start_time": "2021-08-27T07:21:47.832933",
     "status": "completed"
    },
    "tags": []
   },
   "source": [
    "---\n",
    "\n",
    "\n",
    "\n",
    "\n",
    "*Have questions or comments? Visit the [Learn Discussion forum](https://www.kaggle.com/learn-forum/221677) to chat with other Learners.*"
   ]
  }
 ],
 "metadata": {
  "kernelspec": {
   "display_name": "Python 3",
   "language": "python",
   "name": "python3"
  },
  "language_info": {
   "codemirror_mode": {
    "name": "ipython",
    "version": 3
   },
   "file_extension": ".py",
   "mimetype": "text/x-python",
   "name": "python",
   "nbconvert_exporter": "python",
   "pygments_lexer": "ipython3",
   "version": "3.7.10"
  },
  "papermill": {
   "default_parameters": {},
   "duration": 16.847607,
   "end_time": "2021-08-27T07:21:49.570509",
   "environment_variables": {},
   "exception": null,
   "input_path": "__notebook__.ipynb",
   "output_path": "__notebook__.ipynb",
   "parameters": {},
   "start_time": "2021-08-27T07:21:32.722902",
   "version": "2.3.3"
  }
 },
 "nbformat": 4,
 "nbformat_minor": 5
}
