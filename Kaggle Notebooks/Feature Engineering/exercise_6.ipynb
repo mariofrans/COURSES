{
 "cells": [
  {
   "cell_type": "markdown",
   "id": "7892aaf8",
   "metadata": {
    "papermill": {
     "duration": 0.021299,
     "end_time": "2021-08-27T08:44:12.670584",
     "exception": false,
     "start_time": "2021-08-27T08:44:12.649285",
     "status": "completed"
    },
    "tags": []
   },
   "source": [
    "**This notebook is an exercise in the [Feature Engineering](https://www.kaggle.com/learn/feature-engineering) course.  You can reference the tutorial at [this link](https://www.kaggle.com/ryanholbrook/target-encoding).**\n",
    "\n",
    "---\n"
   ]
  },
  {
   "cell_type": "markdown",
   "id": "1de5e574",
   "metadata": {
    "papermill": {
     "duration": 0.019971,
     "end_time": "2021-08-27T08:44:12.711187",
     "exception": false,
     "start_time": "2021-08-27T08:44:12.691216",
     "status": "completed"
    },
    "tags": []
   },
   "source": [
    "# Introduction #\n",
    "\n",
    "In this exercise, you'll apply target encoding to features in the [*Ames*](https://www.kaggle.com/c/house-prices-advanced-regression-techniques/data) dataset.\n",
    "\n",
    "Run this cell to set everything up!"
   ]
  },
  {
   "cell_type": "code",
   "execution_count": 1,
   "id": "6aaabe4f",
   "metadata": {
    "execution": {
     "iopub.execute_input": "2021-08-27T08:44:12.769346Z",
     "iopub.status.busy": "2021-08-27T08:44:12.768706Z",
     "iopub.status.idle": "2021-08-27T08:44:14.310846Z",
     "shell.execute_reply": "2021-08-27T08:44:14.310103Z",
     "shell.execute_reply.started": "2021-08-27T08:23:02.586791Z"
    },
    "papermill": {
     "duration": 1.579646,
     "end_time": "2021-08-27T08:44:14.311008",
     "exception": false,
     "start_time": "2021-08-27T08:44:12.731362",
     "status": "completed"
    },
    "tags": []
   },
   "outputs": [],
   "source": [
    "# Setup feedback system\n",
    "from learntools.core import binder\n",
    "binder.bind(globals())\n",
    "from learntools.feature_engineering_new.ex6 import *\n",
    "\n",
    "import matplotlib.pyplot as plt\n",
    "import numpy as np\n",
    "import pandas as pd\n",
    "import seaborn as sns\n",
    "import warnings\n",
    "from category_encoders import MEstimateEncoder\n",
    "from sklearn.model_selection import cross_val_score\n",
    "from xgboost import XGBRegressor\n",
    "\n",
    "# Set Matplotlib defaults\n",
    "plt.style.use(\"seaborn-whitegrid\")\n",
    "plt.rc(\"figure\", autolayout=True)\n",
    "plt.rc(\n",
    "    \"axes\",\n",
    "    labelweight=\"bold\",\n",
    "    labelsize=\"large\",\n",
    "    titleweight=\"bold\",\n",
    "    titlesize=14,\n",
    "    titlepad=10,\n",
    ")\n",
    "warnings.filterwarnings('ignore')\n",
    "\n",
    "\n",
    "def score_dataset(X, y, model=XGBRegressor()):\n",
    "    # Label encoding for categoricals\n",
    "    for colname in X.select_dtypes([\"category\", \"object\"]):\n",
    "        X[colname], _ = X[colname].factorize()\n",
    "    # Metric for Housing competition is RMSLE (Root Mean Squared Log Error)\n",
    "    score = cross_val_score(\n",
    "        model, X, y, cv=5, scoring=\"neg_mean_squared_log_error\",\n",
    "    )\n",
    "    score = -1 * score.mean()\n",
    "    score = np.sqrt(score)\n",
    "    return score\n",
    "\n",
    "\n",
    "df = pd.read_csv(\"../input/fe-course-data/ames.csv\")"
   ]
  },
  {
   "cell_type": "markdown",
   "id": "de22e901",
   "metadata": {
    "papermill": {
     "duration": 0.020219,
     "end_time": "2021-08-27T08:44:14.351819",
     "exception": false,
     "start_time": "2021-08-27T08:44:14.331600",
     "status": "completed"
    },
    "tags": []
   },
   "source": [
    "-------------------------------------------------------------------------------\n",
    "\n",
    "First you'll need to choose which features you want to apply a target encoding to. Categorical features with a large number of categories are often good candidates. Run this cell to see how many categories each categorical feature in the *Ames* dataset has."
   ]
  },
  {
   "cell_type": "code",
   "execution_count": 2,
   "id": "aaab0083",
   "metadata": {
    "execution": {
     "iopub.execute_input": "2021-08-27T08:44:14.404160Z",
     "iopub.status.busy": "2021-08-27T08:44:14.403491Z",
     "iopub.status.idle": "2021-08-27T08:44:14.451499Z",
     "shell.execute_reply": "2021-08-27T08:44:14.451985Z",
     "shell.execute_reply.started": "2021-08-27T08:31:55.479051Z"
    },
    "papermill": {
     "duration": 0.079741,
     "end_time": "2021-08-27T08:44:14.452161",
     "exception": false,
     "start_time": "2021-08-27T08:44:14.372420",
     "status": "completed"
    },
    "tags": []
   },
   "outputs": [
    {
     "data": {
      "text/plain": [
       "MSSubClass       16\n",
       "MSZoning          7\n",
       "Street            2\n",
       "Alley             3\n",
       "LotShape          4\n",
       "LandContour       4\n",
       "Utilities         3\n",
       "LotConfig         5\n",
       "LandSlope         3\n",
       "Neighborhood     28\n",
       "Condition1        9\n",
       "Condition2        8\n",
       "BldgType          5\n",
       "HouseStyle        8\n",
       "OverallQual      10\n",
       "OverallCond       9\n",
       "RoofStyle         6\n",
       "RoofMatl          8\n",
       "Exterior1st      16\n",
       "Exterior2nd      17\n",
       "MasVnrType        5\n",
       "ExterQual         4\n",
       "ExterCond         5\n",
       "Foundation        6\n",
       "BsmtQual          6\n",
       "BsmtCond          6\n",
       "BsmtExposure      5\n",
       "BsmtFinType1      7\n",
       "BsmtFinType2      7\n",
       "Heating           6\n",
       "HeatingQC         5\n",
       "CentralAir        2\n",
       "Electrical        6\n",
       "KitchenQual       5\n",
       "Functional        8\n",
       "FireplaceQu       6\n",
       "GarageType        7\n",
       "GarageFinish      4\n",
       "GarageQual        6\n",
       "GarageCond        6\n",
       "PavedDrive        3\n",
       "PoolQC            5\n",
       "Fence             5\n",
       "MiscFeature       6\n",
       "SaleType         10\n",
       "SaleCondition     6\n",
       "dtype: int64"
      ]
     },
     "execution_count": 2,
     "metadata": {},
     "output_type": "execute_result"
    }
   ],
   "source": [
    "df.select_dtypes([\"object\"]).nunique()"
   ]
  },
  {
   "cell_type": "markdown",
   "id": "cc13c8ef",
   "metadata": {
    "papermill": {
     "duration": 0.020235,
     "end_time": "2021-08-27T08:44:14.493300",
     "exception": false,
     "start_time": "2021-08-27T08:44:14.473065",
     "status": "completed"
    },
    "tags": []
   },
   "source": [
    "We talked about how the M-estimate encoding uses smoothing to improve estimates for rare categories. To see how many times a category occurs in the dataset, you can use the `value_counts` method. This cell shows the counts for `SaleType`, but you might want to consider others as well."
   ]
  },
  {
   "cell_type": "code",
   "execution_count": 3,
   "id": "bee9a290",
   "metadata": {
    "execution": {
     "iopub.execute_input": "2021-08-27T08:44:14.545219Z",
     "iopub.status.busy": "2021-08-27T08:44:14.544285Z",
     "iopub.status.idle": "2021-08-27T08:44:14.548729Z",
     "shell.execute_reply": "2021-08-27T08:44:14.548197Z",
     "shell.execute_reply.started": "2021-08-27T08:32:28.060694Z"
    },
    "papermill": {
     "duration": 0.035037,
     "end_time": "2021-08-27T08:44:14.548863",
     "exception": false,
     "start_time": "2021-08-27T08:44:14.513826",
     "status": "completed"
    },
    "tags": []
   },
   "outputs": [
    {
     "data": {
      "text/plain": [
       "WD       2536\n",
       "New       239\n",
       "COD        87\n",
       "ConLD      26\n",
       "CWD        12\n",
       "ConLI       9\n",
       "ConLw       8\n",
       "Oth         7\n",
       "Con         5\n",
       "VWD         1\n",
       "Name: SaleType, dtype: int64"
      ]
     },
     "execution_count": 3,
     "metadata": {},
     "output_type": "execute_result"
    }
   ],
   "source": [
    "df[\"SaleType\"].value_counts()"
   ]
  },
  {
   "cell_type": "markdown",
   "id": "33c56261",
   "metadata": {
    "papermill": {
     "duration": 0.020649,
     "end_time": "2021-08-27T08:44:14.590552",
     "exception": false,
     "start_time": "2021-08-27T08:44:14.569903",
     "status": "completed"
    },
    "tags": []
   },
   "source": [
    "# 1) Choose Features for Encoding\n",
    "\n",
    "Which features did you identify for target encoding? After you've thought about your answer, run the next cell for some discussion."
   ]
  },
  {
   "cell_type": "code",
   "execution_count": 4,
   "id": "77bcb08d",
   "metadata": {
    "execution": {
     "iopub.execute_input": "2021-08-27T08:44:14.638113Z",
     "iopub.status.busy": "2021-08-27T08:44:14.637288Z",
     "iopub.status.idle": "2021-08-27T08:44:14.644057Z",
     "shell.execute_reply": "2021-08-27T08:44:14.643561Z",
     "shell.execute_reply.started": "2021-08-27T08:33:22.217721Z"
    },
    "papermill": {
     "duration": 0.032738,
     "end_time": "2021-08-27T08:44:14.644196",
     "exception": false,
     "start_time": "2021-08-27T08:44:14.611458",
     "status": "completed"
    },
    "tags": []
   },
   "outputs": [
    {
     "data": {
      "application/javascript": [
       "parent.postMessage({\"jupyterEvent\": \"custom.exercise_interaction\", \"data\": {\"outcomeType\": 1, \"valueTowardsCompletion\": 0.3333333333333333, \"interactionType\": 1, \"questionType\": 4, \"questionId\": \"1_Q1\", \"learnToolsVersion\": \"0.3.4\", \"failureMessage\": \"\", \"exceptionClass\": \"\", \"trace\": \"\"}}, \"*\")"
      ],
      "text/plain": [
       "<IPython.core.display.Javascript object>"
      ]
     },
     "metadata": {},
     "output_type": "display_data"
    },
    {
     "data": {
      "text/markdown": [
       "<span style=\"color:#33cc33\">Correct:</span> \n",
       "\n",
       " The `Neighborhood` feature looks promising. It has the most categories of any feature, and several categories are rare. Others that could be worth considering are `SaleType`, `MSSubClass`, `Exterior1st`, `Exterior2nd`. In fact, almost any of the nominal features would be worth trying because of the prevalence of rare categories."
      ],
      "text/plain": [
       "Correct: \n",
       "\n",
       " The `Neighborhood` feature looks promising. It has the most categories of any feature, and several categories are rare. Others that could be worth considering are `SaleType`, `MSSubClass`, `Exterior1st`, `Exterior2nd`. In fact, almost any of the nominal features would be worth trying because of the prevalence of rare categories."
      ]
     },
     "metadata": {},
     "output_type": "display_data"
    }
   ],
   "source": [
    "# View the solution (Run this cell to receive credit!)\n",
    "q_1.check()"
   ]
  },
  {
   "cell_type": "markdown",
   "id": "b5b308b8",
   "metadata": {
    "papermill": {
     "duration": 0.021803,
     "end_time": "2021-08-27T08:44:14.688124",
     "exception": false,
     "start_time": "2021-08-27T08:44:14.666321",
     "status": "completed"
    },
    "tags": []
   },
   "source": [
    "-------------------------------------------------------------------------------\n",
    "\n",
    "Now you'll apply a target encoding to your choice of feature. As we discussed in the tutorial, to avoid overfitting, we need to fit the encoder on data heldout from the training set. Run this cell to create the encoding and training splits:"
   ]
  },
  {
   "cell_type": "code",
   "execution_count": 5,
   "id": "472e5f29",
   "metadata": {
    "execution": {
     "iopub.execute_input": "2021-08-27T08:44:14.739649Z",
     "iopub.status.busy": "2021-08-27T08:44:14.738693Z",
     "iopub.status.idle": "2021-08-27T08:44:14.746326Z",
     "shell.execute_reply": "2021-08-27T08:44:14.745792Z",
     "shell.execute_reply.started": "2021-08-27T08:36:48.195770Z"
    },
    "lines_to_next_cell": 2,
    "papermill": {
     "duration": 0.036216,
     "end_time": "2021-08-27T08:44:14.746479",
     "exception": false,
     "start_time": "2021-08-27T08:44:14.710263",
     "status": "completed"
    },
    "tags": []
   },
   "outputs": [],
   "source": [
    "# Encoding split\n",
    "X_encode = df.sample(frac=0.20, random_state=0)\n",
    "y_encode = X_encode.pop(\"SalePrice\")\n",
    "\n",
    "# Training split\n",
    "X_pretrain = df.drop(X_encode.index)\n",
    "y_train = X_pretrain.pop(\"SalePrice\")"
   ]
  },
  {
   "cell_type": "markdown",
   "id": "d482f70d",
   "metadata": {
    "papermill": {
     "duration": 0.021703,
     "end_time": "2021-08-27T08:44:14.790200",
     "exception": false,
     "start_time": "2021-08-27T08:44:14.768497",
     "status": "completed"
    },
    "tags": []
   },
   "source": [
    "# 2) Apply M-Estimate Encoding\n",
    "\n",
    "Apply a target encoding to your choice of categorical features. Also choose a value for the smoothing parameter `m` (any value is okay for a correct answer)."
   ]
  },
  {
   "cell_type": "code",
   "execution_count": 6,
   "id": "c57d56d3",
   "metadata": {
    "execution": {
     "iopub.execute_input": "2021-08-27T08:44:14.842069Z",
     "iopub.status.busy": "2021-08-27T08:44:14.840724Z",
     "iopub.status.idle": "2021-08-27T08:44:14.914878Z",
     "shell.execute_reply": "2021-08-27T08:44:14.915324Z",
     "shell.execute_reply.started": "2021-08-27T08:37:13.783901Z"
    },
    "lines_to_next_cell": 0,
    "papermill": {
     "duration": 0.103415,
     "end_time": "2021-08-27T08:44:14.915628",
     "exception": false,
     "start_time": "2021-08-27T08:44:14.812213",
     "status": "completed"
    },
    "tags": []
   },
   "outputs": [
    {
     "data": {
      "application/javascript": [
       "parent.postMessage({\"jupyterEvent\": \"custom.exercise_interaction\", \"data\": {\"outcomeType\": 1, \"valueTowardsCompletion\": 0.3333333333333333, \"interactionType\": 1, \"questionType\": 2, \"questionId\": \"2_Q2\", \"learnToolsVersion\": \"0.3.4\", \"failureMessage\": \"\", \"exceptionClass\": \"\", \"trace\": \"\"}}, \"*\")"
      ],
      "text/plain": [
       "<IPython.core.display.Javascript object>"
      ]
     },
     "metadata": {},
     "output_type": "display_data"
    },
    {
     "data": {
      "text/markdown": [
       "<span style=\"color:#33cc33\">Correct</span>"
      ],
      "text/plain": [
       "Correct"
      ]
     },
     "metadata": {},
     "output_type": "display_data"
    }
   ],
   "source": [
    "# YCreate the MEstimateEncoder\n",
    "# Choose a set of features to encode and a value for m\n",
    "encoder = MEstimateEncoder(cols=[\"Neighborhood\"], m=2.0)\n",
    "\n",
    "# Fit the encoder on the encoding split\n",
    "encoder.fit(X_encode, y_encode)\n",
    "\n",
    "# Encode the training split\n",
    "X_train = encoder.transform(X_pretrain, y_train)\n",
    "\n",
    "# Check your answer\n",
    "q_2.check()"
   ]
  },
  {
   "cell_type": "code",
   "execution_count": 7,
   "id": "b5a28851",
   "metadata": {
    "execution": {
     "iopub.execute_input": "2021-08-27T08:44:14.967792Z",
     "iopub.status.busy": "2021-08-27T08:44:14.967080Z",
     "iopub.status.idle": "2021-08-27T08:44:14.969431Z",
     "shell.execute_reply": "2021-08-27T08:44:14.969920Z",
     "shell.execute_reply.started": "2021-08-27T08:37:20.766843Z"
    },
    "lines_to_next_cell": 0,
    "papermill": {
     "duration": 0.030337,
     "end_time": "2021-08-27T08:44:14.970097",
     "exception": false,
     "start_time": "2021-08-27T08:44:14.939760",
     "status": "completed"
    },
    "tags": []
   },
   "outputs": [],
   "source": [
    "# Lines below will give you a hint or solution code\n",
    "#q_2.hint()\n",
    "#q_2.solution()"
   ]
  },
  {
   "cell_type": "markdown",
   "id": "30b38d61",
   "metadata": {
    "papermill": {
     "duration": 0.022688,
     "end_time": "2021-08-27T08:44:15.016463",
     "exception": false,
     "start_time": "2021-08-27T08:44:14.993775",
     "status": "completed"
    },
    "tags": []
   },
   "source": [
    "If you'd like to see how the encoded feature compares to the target, you can run this cell:"
   ]
  },
  {
   "cell_type": "code",
   "execution_count": 8,
   "id": "09e1a6ff",
   "metadata": {
    "execution": {
     "iopub.execute_input": "2021-08-27T08:44:15.084152Z",
     "iopub.status.busy": "2021-08-27T08:44:15.083473Z",
     "iopub.status.idle": "2021-08-27T08:44:15.513789Z",
     "shell.execute_reply": "2021-08-27T08:44:15.514271Z",
     "shell.execute_reply.started": "2021-08-27T08:37:41.364312Z"
    },
    "papermill": {
     "duration": 0.47489,
     "end_time": "2021-08-27T08:44:15.514490",
     "exception": false,
     "start_time": "2021-08-27T08:44:15.039600",
     "status": "completed"
    },
    "tags": []
   },
   "outputs": [
    {
     "data": {
      "image/png": "[encoded data removed]",
      "text/plain": [
       "<Figure size 540x360 with 1 Axes>"
      ]
     },
     "metadata": {},
     "output_type": "display_data"
    }
   ],
   "source": [
    "feature = encoder.cols\n",
    "\n",
    "plt.figure(dpi=90)\n",
    "ax = sns.distplot(y_train, kde=True, hist=False)\n",
    "ax = sns.distplot(X_train[feature], color='r', ax=ax, hist=True, kde=False, norm_hist=True)\n",
    "ax.set_xlabel(\"SalePrice\");"
   ]
  },
  {
   "cell_type": "markdown",
   "id": "1e7de343",
   "metadata": {
    "papermill": {
     "duration": 0.024036,
     "end_time": "2021-08-27T08:44:15.562305",
     "exception": false,
     "start_time": "2021-08-27T08:44:15.538269",
     "status": "completed"
    },
    "tags": []
   },
   "source": [
    "From the distribution plots, does it seem like the encoding is informative?\n",
    "\n",
    "And this cell will show you the score of the encoded set compared to the original set:"
   ]
  },
  {
   "cell_type": "code",
   "execution_count": 9,
   "id": "fc9d219e",
   "metadata": {
    "execution": {
     "iopub.execute_input": "2021-08-27T08:44:15.615646Z",
     "iopub.status.busy": "2021-08-27T08:44:15.614980Z",
     "iopub.status.idle": "2021-08-27T08:44:20.984086Z",
     "shell.execute_reply": "2021-08-27T08:44:20.985111Z",
     "shell.execute_reply.started": "2021-08-27T08:38:31.071437Z"
    },
    "papermill": {
     "duration": 5.399253,
     "end_time": "2021-08-27T08:44:20.985352",
     "exception": false,
     "start_time": "2021-08-27T08:44:15.586099",
     "status": "completed"
    },
    "tags": []
   },
   "outputs": [
    {
     "name": "stdout",
     "output_type": "stream",
     "text": [
      "Baseline Score: 0.1428 RMSLE\n",
      "Score with Encoding: 0.1408 RMSLE\n"
     ]
    }
   ],
   "source": [
    "X = df.copy()\n",
    "y = X.pop(\"SalePrice\")\n",
    "score_base = score_dataset(X, y)\n",
    "score_new = score_dataset(X_train, y_train)\n",
    "\n",
    "print(f\"Baseline Score: {score_base:.4f} RMSLE\")\n",
    "print(f\"Score with Encoding: {score_new:.4f} RMSLE\")"
   ]
  },
  {
   "cell_type": "markdown",
   "id": "53d3153f",
   "metadata": {
    "papermill": {
     "duration": 0.023766,
     "end_time": "2021-08-27T08:44:21.036508",
     "exception": false,
     "start_time": "2021-08-27T08:44:21.012742",
     "status": "completed"
    },
    "tags": []
   },
   "source": [
    "Do you think that target encoding was worthwhile in this case? Depending on which feature or features you chose, you may have ended up with a score significantly worse than the baseline. In that case, it's likely the extra information gained by the encoding couldn't make up for the loss of data used for the encoding."
   ]
  },
  {
   "cell_type": "markdown",
   "id": "e8e72322",
   "metadata": {
    "papermill": {
     "duration": 0.024683,
     "end_time": "2021-08-27T08:44:21.085261",
     "exception": false,
     "start_time": "2021-08-27T08:44:21.060578",
     "status": "completed"
    },
    "tags": []
   },
   "source": [
    "-------------------------------------------------------------------------------\n",
    "\n",
    "In this question, you'll explore the problem of overfitting with target encodings. This will illustrate this importance of training fitting target encoders on data held-out from the training set.\n",
    "\n",
    "So let's see what happens when we fit the encoder and the model on the *same* dataset. To emphasize how dramatic the overfitting can be, we'll mean-encode a feature that should have no relationship with `SalePrice`, a count: `0, 1, 2, 3, 4, 5, ...`."
   ]
  },
  {
   "cell_type": "code",
   "execution_count": 10,
   "id": "fdcac3f3",
   "metadata": {
    "execution": {
     "iopub.execute_input": "2021-08-27T08:44:21.140016Z",
     "iopub.status.busy": "2021-08-27T08:44:21.139312Z",
     "iopub.status.idle": "2021-08-27T08:44:24.152005Z",
     "shell.execute_reply": "2021-08-27T08:44:24.152621Z"
    },
    "papermill": {
     "duration": 3.043251,
     "end_time": "2021-08-27T08:44:24.152809",
     "exception": false,
     "start_time": "2021-08-27T08:44:21.109558",
     "status": "completed"
    },
    "tags": []
   },
   "outputs": [
    {
     "name": "stdout",
     "output_type": "stream",
     "text": [
      "Score: 0.0293 RMSLE\n"
     ]
    }
   ],
   "source": [
    "# Try experimenting with the smoothing parameter m\n",
    "# Try 0, 1, 5, 50\n",
    "m = 0\n",
    "\n",
    "X = df.copy()\n",
    "y = X.pop('SalePrice')\n",
    "\n",
    "# Create an uninformative feature\n",
    "X[\"Count\"] = range(len(X))\n",
    "X[\"Count\"][1] = 0  # actually need one duplicate value to circumvent error-checking in MEstimateEncoder\n",
    "\n",
    "# fit and transform on the same dataset\n",
    "encoder = MEstimateEncoder(cols=\"Count\", m=m)\n",
    "X = encoder.fit_transform(X, y)\n",
    "\n",
    "# Results\n",
    "score =  score_dataset(X, y)\n",
    "print(f\"Score: {score:.4f} RMSLE\")"
   ]
  },
  {
   "cell_type": "code",
   "execution_count": 11,
   "id": "a30a699b",
   "metadata": {
    "execution": {
     "iopub.execute_input": "2021-08-27T08:44:24.210673Z",
     "iopub.status.busy": "2021-08-27T08:44:24.209962Z",
     "iopub.status.idle": "2021-08-27T08:44:27.286925Z",
     "shell.execute_reply": "2021-08-27T08:44:27.287480Z",
     "shell.execute_reply.started": "2021-08-27T08:41:27.779802Z"
    },
    "papermill": {
     "duration": 3.108179,
     "end_time": "2021-08-27T08:44:27.287668",
     "exception": false,
     "start_time": "2021-08-27T08:44:24.179489",
     "status": "completed"
    },
    "tags": []
   },
   "outputs": [
    {
     "name": "stdout",
     "output_type": "stream",
     "text": [
      "Score: 0.0298 RMSLE\n"
     ]
    }
   ],
   "source": [
    "# Try experimenting with the smoothing parameter m\n",
    "# Try 0, 1, 5, 50\n",
    "m = 1\n",
    "\n",
    "X = df.copy()\n",
    "y = X.pop('SalePrice')\n",
    "\n",
    "# Create an uninformative feature\n",
    "X[\"Count\"] = range(len(X))\n",
    "X[\"Count\"][1] = 0  # actually need one duplicate value to circumvent error-checking in MEstimateEncoder\n",
    "\n",
    "# fit and transform on the same dataset\n",
    "encoder = MEstimateEncoder(cols=\"Count\", m=m)\n",
    "X = encoder.fit_transform(X, y)\n",
    "\n",
    "# Results\n",
    "score =  score_dataset(X, y)\n",
    "print(f\"Score: {score:.4f} RMSLE\")"
   ]
  },
  {
   "cell_type": "code",
   "execution_count": 12,
   "id": "080d1201",
   "metadata": {
    "execution": {
     "iopub.execute_input": "2021-08-27T08:44:27.348295Z",
     "iopub.status.busy": "2021-08-27T08:44:27.347305Z",
     "iopub.status.idle": "2021-08-27T08:44:31.120938Z",
     "shell.execute_reply": "2021-08-27T08:44:31.121657Z",
     "shell.execute_reply.started": "2021-08-27T08:41:30.843190Z"
    },
    "papermill": {
     "duration": 3.806692,
     "end_time": "2021-08-27T08:44:31.121890",
     "exception": false,
     "start_time": "2021-08-27T08:44:27.315198",
     "status": "completed"
    },
    "tags": []
   },
   "outputs": [
    {
     "name": "stdout",
     "output_type": "stream",
     "text": [
      "Score: 0.0291 RMSLE\n"
     ]
    }
   ],
   "source": [
    "# Try experimenting with the smoothing parameter m\n",
    "# Try 0, 1, 5, 50\n",
    "m = 5\n",
    "\n",
    "X = df.copy()\n",
    "y = X.pop('SalePrice')\n",
    "\n",
    "# Create an uninformative feature\n",
    "X[\"Count\"] = range(len(X))\n",
    "X[\"Count\"][1] = 0  # actually need one duplicate value to circumvent error-checking in MEstimateEncoder\n",
    "\n",
    "# fit and transform on the same dataset\n",
    "encoder = MEstimateEncoder(cols=\"Count\", m=m)\n",
    "X = encoder.fit_transform(X, y)\n",
    "\n",
    "# Results\n",
    "score =  score_dataset(X, y)\n",
    "print(f\"Score: {score:.4f} RMSLE\")"
   ]
  },
  {
   "cell_type": "code",
   "execution_count": 13,
   "id": "458ea72e",
   "metadata": {
    "execution": {
     "iopub.execute_input": "2021-08-27T08:44:31.183582Z",
     "iopub.status.busy": "2021-08-27T08:44:31.182598Z",
     "iopub.status.idle": "2021-08-27T08:44:34.257897Z",
     "shell.execute_reply": "2021-08-27T08:44:34.258826Z",
     "shell.execute_reply.started": "2021-08-27T08:41:33.868696Z"
    },
    "papermill": {
     "duration": 3.109352,
     "end_time": "2021-08-27T08:44:34.259026",
     "exception": false,
     "start_time": "2021-08-27T08:44:31.149674",
     "status": "completed"
    },
    "tags": []
   },
   "outputs": [
    {
     "name": "stdout",
     "output_type": "stream",
     "text": [
      "Score: 0.0303 RMSLE\n"
     ]
    }
   ],
   "source": [
    "# Try experimenting with the smoothing parameter m\n",
    "# Try 0, 1, 5, 50\n",
    "m = 50\n",
    "\n",
    "X = df.copy()\n",
    "y = X.pop('SalePrice')\n",
    "\n",
    "# Create an uninformative feature\n",
    "X[\"Count\"] = range(len(X))\n",
    "X[\"Count\"][1] = 0  # actually need one duplicate value to circumvent error-checking in MEstimateEncoder\n",
    "\n",
    "# fit and transform on the same dataset\n",
    "encoder = MEstimateEncoder(cols=\"Count\", m=m)\n",
    "X = encoder.fit_transform(X, y)\n",
    "\n",
    "# Results\n",
    "score =  score_dataset(X, y)\n",
    "print(f\"Score: {score:.4f} RMSLE\")"
   ]
  },
  {
   "cell_type": "markdown",
   "id": "c93cf01d",
   "metadata": {
    "papermill": {
     "duration": 0.025151,
     "end_time": "2021-08-27T08:44:34.311631",
     "exception": false,
     "start_time": "2021-08-27T08:44:34.286480",
     "status": "completed"
    },
    "tags": []
   },
   "source": [
    "Almost a perfect score!"
   ]
  },
  {
   "cell_type": "code",
   "execution_count": 14,
   "id": "a6aeb100",
   "metadata": {
    "execution": {
     "iopub.execute_input": "2021-08-27T08:44:34.388135Z",
     "iopub.status.busy": "2021-08-27T08:44:34.379630Z",
     "iopub.status.idle": "2021-08-27T08:44:34.804176Z",
     "shell.execute_reply": "2021-08-27T08:44:34.803652Z",
     "shell.execute_reply.started": "2021-08-27T08:41:36.882010Z"
    },
    "papermill": {
     "duration": 0.467093,
     "end_time": "2021-08-27T08:44:34.804318",
     "exception": false,
     "start_time": "2021-08-27T08:44:34.337225",
     "status": "completed"
    },
    "tags": []
   },
   "outputs": [
    {
     "data": {
      "image/png": "[encoded data removed]",
      "text/plain": [
       "<Figure size 540x360 with 1 Axes>"
      ]
     },
     "metadata": {},
     "output_type": "display_data"
    }
   ],
   "source": [
    "plt.figure(dpi=90)\n",
    "ax = sns.distplot(y, kde=True, hist=False)\n",
    "ax = sns.distplot(X[\"Count\"], color='r', ax=ax, hist=True, kde=False, norm_hist=True)\n",
    "ax.set_xlabel(\"SalePrice\");"
   ]
  },
  {
   "cell_type": "markdown",
   "id": "20cddf03",
   "metadata": {
    "papermill": {
     "duration": 0.027623,
     "end_time": "2021-08-27T08:44:34.859061",
     "exception": false,
     "start_time": "2021-08-27T08:44:34.831438",
     "status": "completed"
    },
    "tags": []
   },
   "source": [
    "And the distributions are almost exactly the same, too.\n",
    "\n",
    "# 3) Overfitting with Target Encoders\n",
    "\n",
    "Based on your understanding of how mean-encoding works, can you explain how XGBoost was able to get an almost a perfect fit after mean-encoding the count feature?"
   ]
  },
  {
   "cell_type": "code",
   "execution_count": 15,
   "id": "5dc08c56",
   "metadata": {
    "execution": {
     "iopub.execute_input": "2021-08-27T08:44:34.918301Z",
     "iopub.status.busy": "2021-08-27T08:44:34.917274Z",
     "iopub.status.idle": "2021-08-27T08:44:34.924317Z",
     "shell.execute_reply": "2021-08-27T08:44:34.923778Z",
     "shell.execute_reply.started": "2021-08-27T08:43:14.186610Z"
    },
    "lines_to_next_cell": 0,
    "papermill": {
     "duration": 0.038962,
     "end_time": "2021-08-27T08:44:34.924497",
     "exception": false,
     "start_time": "2021-08-27T08:44:34.885535",
     "status": "completed"
    },
    "tags": []
   },
   "outputs": [
    {
     "data": {
      "application/javascript": [
       "parent.postMessage({\"jupyterEvent\": \"custom.exercise_interaction\", \"data\": {\"outcomeType\": 1, \"valueTowardsCompletion\": 0.3333333333333333, \"interactionType\": 1, \"questionType\": 4, \"questionId\": \"3_Q3\", \"learnToolsVersion\": \"0.3.4\", \"failureMessage\": \"\", \"exceptionClass\": \"\", \"trace\": \"\"}}, \"*\")"
      ],
      "text/plain": [
       "<IPython.core.display.Javascript object>"
      ]
     },
     "metadata": {},
     "output_type": "display_data"
    },
    {
     "data": {
      "text/markdown": [
       "<span style=\"color:#33cc33\">Correct:</span> \n",
       "\n",
       "\n",
       "Since `Count` never has any duplicate values, the mean-encoded `Count` is essentially an exact copy of the target. In other words, mean-encoding turned a completely meaningless feature into a perfect feature.\n",
       "\n",
       "Now, the only reason this worked is because we trained XGBoost on the same set we used to train the encoder. If we had used a hold-out set instead, none of this \"fake\" encoding would have transferred to the training data.\n",
       "\n",
       "The lesson is that when using a target encoder it's very important to use separate data sets for training the encoder and training the model. Otherwise the results can be very disappointing!\n"
      ],
      "text/plain": [
       "Correct: \n",
       "\n",
       "\n",
       "Since `Count` never has any duplicate values, the mean-encoded `Count` is essentially an exact copy of the target. In other words, mean-encoding turned a completely meaningless feature into a perfect feature.\n",
       "\n",
       "Now, the only reason this worked is because we trained XGBoost on the same set we used to train the encoder. If we had used a hold-out set instead, none of this \"fake\" encoding would have transferred to the training data.\n",
       "\n",
       "The lesson is that when using a target encoder it's very important to use separate data sets for training the encoder and training the model. Otherwise the results can be very disappointing!"
      ]
     },
     "metadata": {},
     "output_type": "display_data"
    }
   ],
   "source": [
    "# View the solution (Run this cell to receive credit!)\n",
    "q_3.check()"
   ]
  },
  {
   "cell_type": "code",
   "execution_count": 16,
   "id": "232bf205",
   "metadata": {
    "execution": {
     "iopub.execute_input": "2021-08-27T08:44:34.984070Z",
     "iopub.status.busy": "2021-08-27T08:44:34.983121Z",
     "iopub.status.idle": "2021-08-27T08:44:34.986421Z",
     "shell.execute_reply": "2021-08-27T08:44:34.985801Z"
    },
    "papermill": {
     "duration": 0.034259,
     "end_time": "2021-08-27T08:44:34.986587",
     "exception": false,
     "start_time": "2021-08-27T08:44:34.952328",
     "status": "completed"
    },
    "tags": []
   },
   "outputs": [],
   "source": [
    "# Uncomment this if you'd like a hint before seeing the answer\n",
    "#q_3.hint()"
   ]
  },
  {
   "cell_type": "markdown",
   "id": "c1b9f5c7",
   "metadata": {
    "papermill": {
     "duration": 0.027421,
     "end_time": "2021-08-27T08:44:35.041657",
     "exception": false,
     "start_time": "2021-08-27T08:44:35.014236",
     "status": "completed"
    },
    "tags": []
   },
   "source": [
    "# The End #\n",
    "\n",
    "That's it for *Feature Engineering*! We hope you enjoyed your time with us.\n",
    "\n",
    "Now, are you ready to try out your new skills? Now would be a great time to join our [Housing Prices](https://www.kaggle.com/c/house-prices-advanced-regression-techniques) Getting Started competition. We've even prepared a [Bonus Lesson]() that collects all the work we've done together into a starter notebook.\n",
    "\n",
    "# References #\n",
    "Here are some great resources you might like to consult for more information. They all played a part in shaping this course:\n",
    "- *The Art of Feature Engineering*, a book by Pablo Duboue.\n",
    "- *An Empirical Analysis of Feature Engineering for Predictive Modeling*, an article by Jeff Heaton.\n",
    "- *Feature Engineering for Machine Learning*, a book by Alice Zheng and Amanda Casari. The tutorial on clustering was inspired by this excellent book.\n",
    "- *Feature Engineering and Selection*, a book by Max Kuhn and Kjell Johnson."
   ]
  },
  {
   "cell_type": "markdown",
   "id": "e348578f",
   "metadata": {
    "papermill": {
     "duration": 0.027603,
     "end_time": "2021-08-27T08:44:35.096999",
     "exception": false,
     "start_time": "2021-08-27T08:44:35.069396",
     "status": "completed"
    },
    "tags": []
   },
   "source": [
    "---\n",
    "\n",
    "\n",
    "\n",
    "\n",
    "*Have questions or comments? Visit the [Learn Discussion forum](https://www.kaggle.com/learn-forum/221677) to chat with other Learners.*"
   ]
  }
 ],
 "metadata": {
  "kernelspec": {
   "display_name": "Python 3",
   "language": "python",
   "name": "python3"
  },
  "language_info": {
   "codemirror_mode": {
    "name": "ipython",
    "version": 3
   },
   "file_extension": ".py",
   "mimetype": "text/x-python",
   "name": "python",
   "nbconvert_exporter": "python",
   "pygments_lexer": "ipython3",
   "version": "3.7.10"
  },
  "papermill": {
   "default_parameters": {},
   "duration": 31.74049,
   "end_time": "2021-08-27T08:44:36.640053",
   "environment_variables": {},
   "exception": null,
   "input_path": "__notebook__.ipynb",
   "output_path": "__notebook__.ipynb",
   "parameters": {},
   "start_time": "2021-08-27T08:44:04.899563",
   "version": "2.3.3"
  }
 },
 "nbformat": 4,
 "nbformat_minor": 5
}
