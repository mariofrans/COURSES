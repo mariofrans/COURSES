{
 "cells": [
  {
   "cell_type": "markdown",
   "id": "dirty-motivation",
   "metadata": {
    "papermill": {
     "duration": 0.00962,
     "end_time": "2021-06-03T16:34:30.882645",
     "exception": false,
     "start_time": "2021-06-03T16:34:30.873025",
     "status": "completed"
    },
    "tags": []
   },
   "source": [
    "Now that you can create your own line charts, it's time to learn about more chart types!  \n",
    "\n",
    "> By the way, if this is your first experience with writing code in Python, you should be _very proud_ of all that you have accomplished so far, because it's never easy to learn a completely new skill!  If you stick with the micro-course, you'll notice that everything will only get easier (while the charts you'll build will get more impressive!), since the code is pretty similar for all of the charts.  Like any skill, coding becomes natural over time, and with repetition.\n",
    "\n",
    "In this tutorial, you'll learn about **bar charts** and **heatmaps**.\n",
    "\n",
    "# Set up the notebook\n",
    "\n",
    "As always, we begin by setting up the coding environment.  (_This code is hidden, but you can un-hide it by clicking on the \"Code\" button immediately below this text, on the right._)"
   ]
  },
  {
   "cell_type": "code",
   "execution_count": 1,
   "id": "approved-animation",
   "metadata": {
    "_kg_hide-input": true,
    "_kg_hide-output": true,
    "execution": {
     "iopub.execute_input": "2021-06-03T16:34:30.906433Z",
     "iopub.status.busy": "2021-06-03T16:34:30.905723Z",
     "iopub.status.idle": "2021-06-03T16:34:31.877160Z",
     "shell.execute_reply": "2021-06-03T16:34:31.877715Z"
    },
    "papermill": {
     "duration": 0.987257,
     "end_time": "2021-06-03T16:34:31.878006",
     "exception": false,
     "start_time": "2021-06-03T16:34:30.890749",
     "status": "completed"
    },
    "tags": []
   },
   "outputs": [
    {
     "name": "stdout",
     "output_type": "stream",
     "text": [
      "Setup Complete\n"
     ]
    }
   ],
   "source": [
    "\n",
    "import pandas as pd\n",
    "pd.plotting.register_matplotlib_converters()\n",
    "import matplotlib.pyplot as plt\n",
    "%matplotlib inline\n",
    "import seaborn as sns\n",
    "print(\"Setup Complete\")"
   ]
  },
  {
   "cell_type": "markdown",
   "id": "sealed-drove",
   "metadata": {
    "papermill": {
     "duration": 0.008396,
     "end_time": "2021-06-03T16:34:31.895908",
     "exception": false,
     "start_time": "2021-06-03T16:34:31.887512",
     "status": "completed"
    },
    "tags": []
   },
   "source": [
    "# Select a dataset\n",
    "\n",
    "In this tutorial, we'll work with a dataset from the US Department of Transportation that tracks flight delays.\n",
    "\n",
    "Opening this CSV file in Excel shows a row for each month (where `1` = January, `2` = February, etc) and a column for each airline code.\n",
    "\n",
    "![tut2_flight_delay_head](https://i.imgur.com/5nYs9se.png)\n",
    "\n",
    "Each entry shows the average arrival delay (in minutes) for a different airline and month (all in year 2015).  Negative entries denote flights that (_on average_) tended to arrive early.  For instance, the average American Airlines flight (_airline code: **AA**_) in January arrived roughly 7 minutes late, and the average Alaska Airlines flight (_airline code: **AS**_) in April arrived roughly 3 minutes early.\n",
    "\n",
    "# Load the data\n",
    "\n",
    "As before, we load the dataset using the `pd.read_csv` command."
   ]
  },
  {
   "cell_type": "code",
   "execution_count": 2,
   "id": "chemical-excess",
   "metadata": {
    "execution": {
     "iopub.execute_input": "2021-06-03T16:34:31.918663Z",
     "iopub.status.busy": "2021-06-03T16:34:31.918027Z",
     "iopub.status.idle": "2021-06-03T16:34:31.950391Z",
     "shell.execute_reply": "2021-06-03T16:34:31.950886Z"
    },
    "papermill": {
     "duration": 0.04648,
     "end_time": "2021-06-03T16:34:31.951073",
     "exception": false,
     "start_time": "2021-06-03T16:34:31.904593",
     "status": "completed"
    },
    "tags": []
   },
   "outputs": [],
   "source": [
    "# Path of the file to read\n",
    "flight_filepath = \"../input/flight_delays.csv\"\n",
    "\n",
    "# Read the file into a variable flight_data\n",
    "flight_data = pd.read_csv(flight_filepath, index_col=\"Month\")"
   ]
  },
  {
   "cell_type": "markdown",
   "id": "casual-hello",
   "metadata": {
    "papermill": {
     "duration": 0.008271,
     "end_time": "2021-06-03T16:34:31.968090",
     "exception": false,
     "start_time": "2021-06-03T16:34:31.959819",
     "status": "completed"
    },
    "tags": []
   },
   "source": [
    "You may notice that the code is slightly shorter than what we used in the previous tutorial.  In this case, since the row labels (from the `'Month'` column) don't correspond to dates, we don't add `parse_dates=True` in the parentheses.  But, we keep the first two pieces of text as before, to provide both: \n",
    "- the filepath for the dataset (in this case, `flight_filepath`), and \n",
    "- the name of the column that will be used to index the rows (in this case, `index_col=\"Month\"`). \n",
    "\n",
    "# Examine the data\n",
    "\n",
    "Since the dataset is small, we can easily print all of its contents.  This is done by writing a single line of code with just the name of the dataset."
   ]
  },
  {
   "cell_type": "code",
   "execution_count": 3,
   "id": "textile-respondent",
   "metadata": {
    "execution": {
     "iopub.execute_input": "2021-06-03T16:34:31.988358Z",
     "iopub.status.busy": "2021-06-03T16:34:31.987761Z",
     "iopub.status.idle": "2021-06-03T16:34:32.018176Z",
     "shell.execute_reply": "2021-06-03T16:34:32.018673Z"
    },
    "papermill": {
     "duration": 0.04219,
     "end_time": "2021-06-03T16:34:32.018841",
     "exception": false,
     "start_time": "2021-06-03T16:34:31.976651",
     "status": "completed"
    },
    "tags": []
   },
   "outputs": [
    {
     "data": {
      "text/html": [
       "<div>\n",
       "<style scoped>\n",
       "    .dataframe tbody tr th:only-of-type {\n",
       "        vertical-align: middle;\n",
       "    }\n",
       "\n",
       "    .dataframe tbody tr th {\n",
       "        vertical-align: top;\n",
       "    }\n",
       "\n",
       "    .dataframe thead th {\n",
       "        text-align: right;\n",
       "    }\n",
       "</style>\n",
       "<table border=\"1\" class=\"dataframe\">\n",
       "  <thead>\n",
       "    <tr style=\"text-align: right;\">\n",
       "      <th></th>\n",
       "      <th>AA</th>\n",
       "      <th>AS</th>\n",
       "      <th>B6</th>\n",
       "      <th>DL</th>\n",
       "      <th>EV</th>\n",
       "      <th>F9</th>\n",
       "      <th>HA</th>\n",
       "      <th>MQ</th>\n",
       "      <th>NK</th>\n",
       "      <th>OO</th>\n",
       "      <th>UA</th>\n",
       "      <th>US</th>\n",
       "      <th>VX</th>\n",
       "      <th>WN</th>\n",
       "    </tr>\n",
       "    <tr>\n",
       "      <th>Month</th>\n",
       "      <th></th>\n",
       "      <th></th>\n",
       "      <th></th>\n",
       "      <th></th>\n",
       "      <th></th>\n",
       "      <th></th>\n",
       "      <th></th>\n",
       "      <th></th>\n",
       "      <th></th>\n",
       "      <th></th>\n",
       "      <th></th>\n",
       "      <th></th>\n",
       "      <th></th>\n",
       "      <th></th>\n",
       "    </tr>\n",
       "  </thead>\n",
       "  <tbody>\n",
       "    <tr>\n",
       "      <th>1</th>\n",
       "      <td>6.955843</td>\n",
       "      <td>-0.320888</td>\n",
       "      <td>7.347281</td>\n",
       "      <td>-2.043847</td>\n",
       "      <td>8.537497</td>\n",
       "      <td>18.357238</td>\n",
       "      <td>3.512640</td>\n",
       "      <td>18.164974</td>\n",
       "      <td>11.398054</td>\n",
       "      <td>10.889894</td>\n",
       "      <td>6.352729</td>\n",
       "      <td>3.107457</td>\n",
       "      <td>1.420702</td>\n",
       "      <td>3.389466</td>\n",
       "    </tr>\n",
       "    <tr>\n",
       "      <th>2</th>\n",
       "      <td>7.530204</td>\n",
       "      <td>-0.782923</td>\n",
       "      <td>18.657673</td>\n",
       "      <td>5.614745</td>\n",
       "      <td>10.417236</td>\n",
       "      <td>27.424179</td>\n",
       "      <td>6.029967</td>\n",
       "      <td>21.301627</td>\n",
       "      <td>16.474466</td>\n",
       "      <td>9.588895</td>\n",
       "      <td>7.260662</td>\n",
       "      <td>7.114455</td>\n",
       "      <td>7.784410</td>\n",
       "      <td>3.501363</td>\n",
       "    </tr>\n",
       "    <tr>\n",
       "      <th>3</th>\n",
       "      <td>6.693587</td>\n",
       "      <td>-0.544731</td>\n",
       "      <td>10.741317</td>\n",
       "      <td>2.077965</td>\n",
       "      <td>6.730101</td>\n",
       "      <td>20.074855</td>\n",
       "      <td>3.468383</td>\n",
       "      <td>11.018418</td>\n",
       "      <td>10.039118</td>\n",
       "      <td>3.181693</td>\n",
       "      <td>4.892212</td>\n",
       "      <td>3.330787</td>\n",
       "      <td>5.348207</td>\n",
       "      <td>3.263341</td>\n",
       "    </tr>\n",
       "    <tr>\n",
       "      <th>4</th>\n",
       "      <td>4.931778</td>\n",
       "      <td>-3.009003</td>\n",
       "      <td>2.780105</td>\n",
       "      <td>0.083343</td>\n",
       "      <td>4.821253</td>\n",
       "      <td>12.640440</td>\n",
       "      <td>0.011022</td>\n",
       "      <td>5.131228</td>\n",
       "      <td>8.766224</td>\n",
       "      <td>3.223796</td>\n",
       "      <td>4.376092</td>\n",
       "      <td>2.660290</td>\n",
       "      <td>0.995507</td>\n",
       "      <td>2.996399</td>\n",
       "    </tr>\n",
       "    <tr>\n",
       "      <th>5</th>\n",
       "      <td>5.173878</td>\n",
       "      <td>-1.716398</td>\n",
       "      <td>-0.709019</td>\n",
       "      <td>0.149333</td>\n",
       "      <td>7.724290</td>\n",
       "      <td>13.007554</td>\n",
       "      <td>0.826426</td>\n",
       "      <td>5.466790</td>\n",
       "      <td>22.397347</td>\n",
       "      <td>4.141162</td>\n",
       "      <td>6.827695</td>\n",
       "      <td>0.681605</td>\n",
       "      <td>7.102021</td>\n",
       "      <td>5.680777</td>\n",
       "    </tr>\n",
       "    <tr>\n",
       "      <th>6</th>\n",
       "      <td>8.191017</td>\n",
       "      <td>-0.220621</td>\n",
       "      <td>5.047155</td>\n",
       "      <td>4.419594</td>\n",
       "      <td>13.952793</td>\n",
       "      <td>19.712951</td>\n",
       "      <td>0.882786</td>\n",
       "      <td>9.639323</td>\n",
       "      <td>35.561501</td>\n",
       "      <td>8.338477</td>\n",
       "      <td>16.932663</td>\n",
       "      <td>5.766296</td>\n",
       "      <td>5.779415</td>\n",
       "      <td>10.743462</td>\n",
       "    </tr>\n",
       "    <tr>\n",
       "      <th>7</th>\n",
       "      <td>3.870440</td>\n",
       "      <td>0.377408</td>\n",
       "      <td>5.841454</td>\n",
       "      <td>1.204862</td>\n",
       "      <td>6.926421</td>\n",
       "      <td>14.464543</td>\n",
       "      <td>2.001586</td>\n",
       "      <td>3.980289</td>\n",
       "      <td>14.352382</td>\n",
       "      <td>6.790333</td>\n",
       "      <td>10.262551</td>\n",
       "      <td>NaN</td>\n",
       "      <td>7.135773</td>\n",
       "      <td>10.504942</td>\n",
       "    </tr>\n",
       "    <tr>\n",
       "      <th>8</th>\n",
       "      <td>3.193907</td>\n",
       "      <td>2.503899</td>\n",
       "      <td>9.280950</td>\n",
       "      <td>0.653114</td>\n",
       "      <td>5.154422</td>\n",
       "      <td>9.175737</td>\n",
       "      <td>7.448029</td>\n",
       "      <td>1.896565</td>\n",
       "      <td>20.519018</td>\n",
       "      <td>5.606689</td>\n",
       "      <td>5.014041</td>\n",
       "      <td>NaN</td>\n",
       "      <td>5.106221</td>\n",
       "      <td>5.532108</td>\n",
       "    </tr>\n",
       "    <tr>\n",
       "      <th>9</th>\n",
       "      <td>-1.432732</td>\n",
       "      <td>-1.813800</td>\n",
       "      <td>3.539154</td>\n",
       "      <td>-3.703377</td>\n",
       "      <td>0.851062</td>\n",
       "      <td>0.978460</td>\n",
       "      <td>3.696915</td>\n",
       "      <td>-2.167268</td>\n",
       "      <td>8.000101</td>\n",
       "      <td>1.530896</td>\n",
       "      <td>-1.794265</td>\n",
       "      <td>NaN</td>\n",
       "      <td>0.070998</td>\n",
       "      <td>-1.336260</td>\n",
       "    </tr>\n",
       "    <tr>\n",
       "      <th>10</th>\n",
       "      <td>-0.580930</td>\n",
       "      <td>-2.993617</td>\n",
       "      <td>3.676787</td>\n",
       "      <td>-5.011516</td>\n",
       "      <td>2.303760</td>\n",
       "      <td>0.082127</td>\n",
       "      <td>0.467074</td>\n",
       "      <td>-3.735054</td>\n",
       "      <td>6.810736</td>\n",
       "      <td>1.750897</td>\n",
       "      <td>-2.456542</td>\n",
       "      <td>NaN</td>\n",
       "      <td>2.254278</td>\n",
       "      <td>-0.688851</td>\n",
       "    </tr>\n",
       "    <tr>\n",
       "      <th>11</th>\n",
       "      <td>0.772630</td>\n",
       "      <td>-1.916516</td>\n",
       "      <td>1.418299</td>\n",
       "      <td>-3.175414</td>\n",
       "      <td>4.415930</td>\n",
       "      <td>11.164527</td>\n",
       "      <td>-2.719894</td>\n",
       "      <td>0.220061</td>\n",
       "      <td>7.543881</td>\n",
       "      <td>4.925548</td>\n",
       "      <td>0.281064</td>\n",
       "      <td>NaN</td>\n",
       "      <td>0.116370</td>\n",
       "      <td>0.995684</td>\n",
       "    </tr>\n",
       "    <tr>\n",
       "      <th>12</th>\n",
       "      <td>4.149684</td>\n",
       "      <td>-1.846681</td>\n",
       "      <td>13.839290</td>\n",
       "      <td>2.504595</td>\n",
       "      <td>6.685176</td>\n",
       "      <td>9.346221</td>\n",
       "      <td>-1.706475</td>\n",
       "      <td>0.662486</td>\n",
       "      <td>12.733123</td>\n",
       "      <td>10.947612</td>\n",
       "      <td>7.012079</td>\n",
       "      <td>NaN</td>\n",
       "      <td>13.498720</td>\n",
       "      <td>6.720893</td>\n",
       "    </tr>\n",
       "  </tbody>\n",
       "</table>\n",
       "</div>"
      ],
      "text/plain": [
       "             AA        AS         B6        DL         EV         F9  \\\n",
       "Month                                                                  \n",
       "1      6.955843 -0.320888   7.347281 -2.043847   8.537497  18.357238   \n",
       "2      7.530204 -0.782923  18.657673  5.614745  10.417236  27.424179   \n",
       "3      6.693587 -0.544731  10.741317  2.077965   6.730101  20.074855   \n",
       "4      4.931778 -3.009003   2.780105  0.083343   4.821253  12.640440   \n",
       "5      5.173878 -1.716398  -0.709019  0.149333   7.724290  13.007554   \n",
       "6      8.191017 -0.220621   5.047155  4.419594  13.952793  19.712951   \n",
       "7      3.870440  0.377408   5.841454  1.204862   6.926421  14.464543   \n",
       "8      3.193907  2.503899   9.280950  0.653114   5.154422   9.175737   \n",
       "9     -1.432732 -1.813800   3.539154 -3.703377   0.851062   0.978460   \n",
       "10    -0.580930 -2.993617   3.676787 -5.011516   2.303760   0.082127   \n",
       "11     0.772630 -1.916516   1.418299 -3.175414   4.415930  11.164527   \n",
       "12     4.149684 -1.846681  13.839290  2.504595   6.685176   9.346221   \n",
       "\n",
       "             HA         MQ         NK         OO         UA        US  \\\n",
       "Month                                                                   \n",
       "1      3.512640  18.164974  11.398054  10.889894   6.352729  3.107457   \n",
       "2      6.029967  21.301627  16.474466   9.588895   7.260662  7.114455   \n",
       "3      3.468383  11.018418  10.039118   3.181693   4.892212  3.330787   \n",
       "4      0.011022   5.131228   8.766224   3.223796   4.376092  2.660290   \n",
       "5      0.826426   5.466790  22.397347   4.141162   6.827695  0.681605   \n",
       "6      0.882786   9.639323  35.561501   8.338477  16.932663  5.766296   \n",
       "7      2.001586   3.980289  14.352382   6.790333  10.262551       NaN   \n",
       "8      7.448029   1.896565  20.519018   5.606689   5.014041       NaN   \n",
       "9      3.696915  -2.167268   8.000101   1.530896  -1.794265       NaN   \n",
       "10     0.467074  -3.735054   6.810736   1.750897  -2.456542       NaN   \n",
       "11    -2.719894   0.220061   7.543881   4.925548   0.281064       NaN   \n",
       "12    -1.706475   0.662486  12.733123  10.947612   7.012079       NaN   \n",
       "\n",
       "              VX         WN  \n",
       "Month                        \n",
       "1       1.420702   3.389466  \n",
       "2       7.784410   3.501363  \n",
       "3       5.348207   3.263341  \n",
       "4       0.995507   2.996399  \n",
       "5       7.102021   5.680777  \n",
       "6       5.779415  10.743462  \n",
       "7       7.135773  10.504942  \n",
       "8       5.106221   5.532108  \n",
       "9       0.070998  -1.336260  \n",
       "10      2.254278  -0.688851  \n",
       "11      0.116370   0.995684  \n",
       "12     13.498720   6.720893  "
      ]
     },
     "execution_count": 3,
     "metadata": {},
     "output_type": "execute_result"
    }
   ],
   "source": [
    "# Print the data\n",
    "flight_data"
   ]
  },
  {
   "cell_type": "markdown",
   "id": "assisted-spain",
   "metadata": {
    "papermill": {
     "duration": 0.009638,
     "end_time": "2021-06-03T16:34:32.038682",
     "exception": false,
     "start_time": "2021-06-03T16:34:32.029044",
     "status": "completed"
    },
    "tags": []
   },
   "source": [
    "# Bar chart\n",
    "\n",
    "Say we'd like to create a bar chart showing the average arrival delay for Spirit Airlines (_airline code: **NK**_) flights, by month.  "
   ]
  },
  {
   "cell_type": "code",
   "execution_count": 4,
   "id": "protected-ceramic",
   "metadata": {
    "execution": {
     "iopub.execute_input": "2021-06-03T16:34:32.062234Z",
     "iopub.status.busy": "2021-06-03T16:34:32.061525Z",
     "iopub.status.idle": "2021-06-03T16:34:32.329215Z",
     "shell.execute_reply": "2021-06-03T16:34:32.329733Z"
    },
    "papermill": {
     "duration": 0.281381,
     "end_time": "2021-06-03T16:34:32.329930",
     "exception": false,
     "start_time": "2021-06-03T16:34:32.048549",
     "status": "completed"
    },
    "tags": []
   },
   "outputs": [
    {
     "data": {
      "text/plain": [
       "Text(0, 0.5, 'Arrival delay (in minutes)')"
      ]
     },
     "execution_count": 4,
     "metadata": {},
     "output_type": "execute_result"
    },
    {
     "data": {
      "image/png": "[encoded data removed]",
      "text/plain": [
       "<Figure size 720x432 with 1 Axes>"
      ]
     },
     "metadata": {
      "needs_background": "light"
     },
     "output_type": "display_data"
    }
   ],
   "source": [
    "# Set the width and height of the figure\n",
    "plt.figure(figsize=(10,6))\n",
    "\n",
    "# Add title\n",
    "plt.title(\"Average Arrival Delay for Spirit Airlines Flights, by Month\")\n",
    "\n",
    "# Bar chart showing average arrival delay for Spirit Airlines flights by month\n",
    "sns.barplot(x=flight_data.index, y=flight_data['NK'])\n",
    "\n",
    "# Add label for vertical axis\n",
    "plt.ylabel(\"Arrival delay (in minutes)\")"
   ]
  },
  {
   "cell_type": "markdown",
   "id": "collectible-thumbnail",
   "metadata": {
    "papermill": {
     "duration": 0.010352,
     "end_time": "2021-06-03T16:34:32.351173",
     "exception": false,
     "start_time": "2021-06-03T16:34:32.340821",
     "status": "completed"
    },
    "tags": []
   },
   "source": [
    "The commands for customizing the text (title and vertical axis label) and size of the figure are familiar from the previous tutorial.  The code that creates the bar chart is new:\n",
    "\n",
    "```python\n",
    "# Bar chart showing average arrival delay for Spirit Airlines flights by month\n",
    "sns.barplot(x=flight_data.index, y=flight_data['NK'])\n",
    "```\n",
    "It has three main components:\n",
    "- `sns.barplot` - This tells the notebook that we want to create a bar chart.\n",
    " - _Remember that `sns` refers to the [seaborn](https://seaborn.pydata.org/) package, and all of the commands that you use to create charts in this course will start with this prefix._\n",
    "- `x=flight_data.index` - This determines what to use on the horizontal axis.  In this case, we have selected the column that **_index_**es the rows (in this case, the column containing the months).\n",
    "- `y=flight_data['NK']` - This sets the column in the data that will be used to determine the height of each bar.  In this case, we select the `'NK'` column.\n",
    "\n",
    "> **Important Note**: You must select the indexing column with `flight_data.index`, and it is not possible to use `flight_data['Month']` (_which will return an error_).  This is because when we loaded the dataset, the `\"Month\"` column was used to index the rows.  **We always have to use this special notation to select the indexing column.**\n",
    "\n",
    "# Heatmap\n",
    "\n",
    "We have one more plot type to learn about: **heatmaps**! \n",
    "\n",
    "In the code cell below, we create a heatmap to quickly visualize patterns in `flight_data`.  Each cell is color-coded according to its corresponding value."
   ]
  },
  {
   "cell_type": "code",
   "execution_count": 5,
   "id": "amino-opportunity",
   "metadata": {
    "execution": {
     "iopub.execute_input": "2021-06-03T16:34:32.421328Z",
     "iopub.status.busy": "2021-06-03T16:34:32.420578Z",
     "iopub.status.idle": "2021-06-03T16:34:33.279402Z",
     "shell.execute_reply": "2021-06-03T16:34:33.279905Z"
    },
    "papermill": {
     "duration": 0.917973,
     "end_time": "2021-06-03T16:34:33.280081",
     "exception": false,
     "start_time": "2021-06-03T16:34:32.362108",
     "status": "completed"
    },
    "tags": []
   },
   "outputs": [
    {
     "data": {
      "text/plain": [
       "Text(0.5, 42.0, 'Airline')"
      ]
     },
     "execution_count": 5,
     "metadata": {},
     "output_type": "execute_result"
    },
    {
     "data": {
      "image/png": "[encoded data removed]",
      "text/plain": [
       "<Figure size 1008x504 with 2 Axes>"
      ]
     },
     "metadata": {
      "needs_background": "light"
     },
     "output_type": "display_data"
    }
   ],
   "source": [
    "# Set the width and height of the figure\n",
    "plt.figure(figsize=(14,7))\n",
    "\n",
    "# Add title\n",
    "plt.title(\"Average Arrival Delay for Each Airline, by Month\")\n",
    "\n",
    "# Heatmap showing average arrival delay for each airline by month\n",
    "sns.heatmap(data=flight_data, annot=True)\n",
    "\n",
    "# Add label for horizontal axis\n",
    "plt.xlabel(\"Airline\")"
   ]
  },
  {
   "cell_type": "markdown",
   "id": "twelve-large",
   "metadata": {
    "papermill": {
     "duration": 0.013098,
     "end_time": "2021-06-03T16:34:33.308109",
     "exception": false,
     "start_time": "2021-06-03T16:34:33.295011",
     "status": "completed"
    },
    "tags": []
   },
   "source": [
    "The relevant code to create the heatmap is as follows:\n",
    "```python\n",
    "# Heatmap showing average arrival delay for each airline by month\n",
    "sns.heatmap(data=flight_data, annot=True)\n",
    "```\n",
    "This code has three main components:\n",
    "- `sns.heatmap` - This tells the notebook that we want to create a heatmap.\n",
    "- `data=flight_data` - This tells the notebook to use all of the entries in `flight_data` to create the heatmap.\n",
    "- `annot=True` - This ensures that the values for each cell appear on the chart.  (_Leaving this out removes the numbers from each of the cells!_)\n",
    "\n",
    "_What patterns can you detect in the table?  For instance, if you look closely, the months toward the end of the year (especially months 9-11) appear relatively dark for all airlines.  This suggests that airlines are better (on average) at keeping schedule during these months!_  \n",
    "\n",
    "# What's next?\n",
    "\n",
    "Create your own visualizations with a **[coding exercise](https://www.kaggle.com/kernels/fork/2951537)**!"
   ]
  },
  {
   "cell_type": "markdown",
   "id": "broke-static",
   "metadata": {
    "papermill": {
     "duration": 0.013886,
     "end_time": "2021-06-03T16:34:33.335411",
     "exception": false,
     "start_time": "2021-06-03T16:34:33.321525",
     "status": "completed"
    },
    "tags": []
   },
   "source": [
    "---\n",
    "\n",
    "\n",
    "\n",
    "\n",
    "*Have questions or comments? Visit the [Learn Discussion forum](https://www.kaggle.com/learn-forum/161291) to chat with other Learners.*"
   ]
  }
 ],
 "metadata": {
  "kernelspec": {
   "display_name": "Python 3",
   "language": "python",
   "name": "python3"
  },
  "language_info": {
   "codemirror_mode": {
    "name": "ipython",
    "version": 3
   },
   "file_extension": ".py",
   "mimetype": "text/x-python",
   "name": "python",
   "nbconvert_exporter": "python",
   "pygments_lexer": "ipython3",
   "version": "3.7.9"
  },
  "papermill": {
   "default_parameters": {},
   "duration": 9.504743,
   "end_time": "2021-06-03T16:34:34.059062",
   "environment_variables": {},
   "exception": null,
   "input_path": "__notebook__.ipynb",
   "output_path": "__notebook__.ipynb",
   "parameters": {},
   "start_time": "2021-06-03T16:34:24.554319",
   "version": "2.3.2"
  }
 },
 "nbformat": 4,
 "nbformat_minor": 5
}
