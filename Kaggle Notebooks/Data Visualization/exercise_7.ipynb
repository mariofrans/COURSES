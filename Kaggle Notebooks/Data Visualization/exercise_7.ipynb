{
 "cells": [
  {
   "cell_type": "markdown",
   "id": "0c72744d",
   "metadata": {
    "papermill": {
     "duration": 0.015172,
     "end_time": "2021-08-24T06:16:46.730035",
     "exception": false,
     "start_time": "2021-08-24T06:16:46.714863",
     "status": "completed"
    },
    "tags": []
   },
   "source": [
    "**This notebook is an exercise in the [Data Visualization](https://www.kaggle.com/learn/data-visualization) course.  You can reference the tutorial at [this link](https://www.kaggle.com/alexisbcook/final-project).**\n",
    "\n",
    "---\n"
   ]
  },
  {
   "cell_type": "markdown",
   "id": "96df7ee6",
   "metadata": {
    "papermill": {
     "duration": 0.009314,
     "end_time": "2021-08-24T06:16:46.751360",
     "exception": false,
     "start_time": "2021-08-24T06:16:46.742046",
     "status": "completed"
    },
    "tags": []
   },
   "source": [
    "Now it's time for you to demonstrate your new skills with a project of your own!\n",
    "\n",
    "In this exercise, you will work with a dataset of your choosing.  Once you've selected a dataset, you'll design and create your own plot to tell interesting stories behind the data!\n",
    "\n",
    "## Setup\n",
    "\n",
    "Run the next cell to import and configure the Python libraries that you need to complete the exercise."
   ]
  },
  {
   "cell_type": "code",
   "execution_count": 1,
   "id": "336c319e",
   "metadata": {
    "execution": {
     "iopub.execute_input": "2021-08-24T06:16:46.785326Z",
     "iopub.status.busy": "2021-08-24T06:16:46.783984Z",
     "iopub.status.idle": "2021-08-24T06:16:47.900044Z",
     "shell.execute_reply": "2021-08-24T06:16:47.900583Z",
     "shell.execute_reply.started": "2021-08-24T05:51:07.450112Z"
    },
    "papermill": {
     "duration": 1.140132,
     "end_time": "2021-08-24T06:16:47.900891",
     "exception": false,
     "start_time": "2021-08-24T06:16:46.760759",
     "status": "completed"
    },
    "tags": []
   },
   "outputs": [
    {
     "name": "stdout",
     "output_type": "stream",
     "text": [
      "Setup Complete\n"
     ]
    }
   ],
   "source": [
    "import pandas as pd\n",
    "pd.plotting.register_matplotlib_converters()\n",
    "import matplotlib.pyplot as plt\n",
    "%matplotlib inline\n",
    "import seaborn as sns\n",
    "print(\"Setup Complete\")"
   ]
  },
  {
   "cell_type": "markdown",
   "id": "5cdfdabc",
   "metadata": {
    "papermill": {
     "duration": 0.008897,
     "end_time": "2021-08-24T06:16:47.919291",
     "exception": false,
     "start_time": "2021-08-24T06:16:47.910394",
     "status": "completed"
    },
    "tags": []
   },
   "source": [
    "The questions below will give you feedback on your work. Run the following cell to set up the feedback system."
   ]
  },
  {
   "cell_type": "code",
   "execution_count": 2,
   "id": "3fa0fdb5",
   "metadata": {
    "execution": {
     "iopub.execute_input": "2021-08-24T06:16:47.942281Z",
     "iopub.status.busy": "2021-08-24T06:16:47.941646Z",
     "iopub.status.idle": "2021-08-24T06:16:47.989553Z",
     "shell.execute_reply": "2021-08-24T06:16:47.990251Z",
     "shell.execute_reply.started": "2021-08-24T05:51:08.512882Z"
    },
    "papermill": {
     "duration": 0.062072,
     "end_time": "2021-08-24T06:16:47.990491",
     "exception": false,
     "start_time": "2021-08-24T06:16:47.928419",
     "status": "completed"
    },
    "tags": []
   },
   "outputs": [
    {
     "name": "stdout",
     "output_type": "stream",
     "text": [
      "Setup Complete\n"
     ]
    }
   ],
   "source": [
    "# Set up code checking\n",
    "from learntools.core import binder\n",
    "binder.bind(globals())\n",
    "from learntools.data_viz_to_coder.ex7 import *\n",
    "print(\"Setup Complete\")"
   ]
  },
  {
   "cell_type": "markdown",
   "id": "50e677e5",
   "metadata": {
    "papermill": {
     "duration": 0.010167,
     "end_time": "2021-08-24T06:16:48.013499",
     "exception": false,
     "start_time": "2021-08-24T06:16:48.003332",
     "status": "completed"
    },
    "tags": []
   },
   "source": [
    "## Step 1: Attach a dataset to the notebook\n",
    "\n",
    "Begin by selecting a CSV dataset from [Kaggle Datasets](https://www.kaggle.com/datasets).  If you're unsure how to do this or would like to work with your own data, please revisit the instructions in the previous tutorial.\n",
    "\n",
    "Once you have selected a dataset, click on the **[+ Add Data]** option in the top right corner.  This will generate a pop-up window that you can use to search for your chosen dataset.  \n",
    "\n",
    "![ex6_search_dataset](https://i.imgur.com/cIIWPUS.png)\n",
    "\n",
    "Once you have found the dataset, click on the **[Add]** button to attach it to the notebook.  You can check that it was successful by looking at the **Data** dropdown menu to the right of the notebook -- look for an **input** folder containing a subfolder that matches the name of the dataset.\n",
    "\n",
    "<center>\n",
    "<img src=\"https://i.imgur.com/nMYc1Nu.png\" width=30%><br/>\n",
    "</center>\n",
    "\n",
    "You can click on the carat to the left of the name of the dataset to double-check that it contains a CSV file.  For instance, the image below shows that the example dataset contains two CSV files: (1) **dc-wikia-data.csv**, and (2) **marvel-wikia-data.csv**.\n",
    "\n",
    "<center>\n",
    "<img src=\"https://i.imgur.com/B4sJkVA.png\" width=30%><br/>\n",
    "</center>\n",
    "\n",
    "Once you've uploaded a dataset with a CSV file, run the code cell below **without changes** to receive credit for your work!"
   ]
  },
  {
   "cell_type": "code",
   "execution_count": 3,
   "id": "662b6ffa",
   "metadata": {
    "execution": {
     "iopub.execute_input": "2021-08-24T06:16:48.044771Z",
     "iopub.status.busy": "2021-08-24T06:16:48.043845Z",
     "iopub.status.idle": "2021-08-24T06:16:48.060073Z",
     "shell.execute_reply": "2021-08-24T06:16:48.059372Z",
     "shell.execute_reply.started": "2021-08-24T06:08:58.899552Z"
    },
    "papermill": {
     "duration": 0.034408,
     "end_time": "2021-08-24T06:16:48.060279",
     "exception": false,
     "start_time": "2021-08-24T06:16:48.025871",
     "status": "completed"
    },
    "tags": []
   },
   "outputs": [
    {
     "data": {
      "application/javascript": [
       "parent.postMessage({\"jupyterEvent\": \"custom.exercise_interaction\", \"data\": {\"outcomeType\": 1, \"valueTowardsCompletion\": 0.25, \"interactionType\": 1, \"questionType\": 2, \"questionId\": \"1_AttachData\", \"learnToolsVersion\": \"0.3.4\", \"failureMessage\": \"\", \"exceptionClass\": \"\", \"trace\": \"\"}}, \"*\")"
      ],
      "text/plain": [
       "<IPython.core.display.Javascript object>"
      ]
     },
     "metadata": {},
     "output_type": "display_data"
    },
    {
     "data": {
      "text/markdown": [
       "<span style=\"color:#33cc33\">Correct:</span> \n",
       "\n"
      ],
      "text/plain": [
       "Correct: \n"
      ]
     },
     "metadata": {},
     "output_type": "display_data"
    }
   ],
   "source": [
    "# Check for a dataset with a CSV file\n",
    "step_1.check()"
   ]
  },
  {
   "cell_type": "markdown",
   "id": "d17cf80f",
   "metadata": {
    "papermill": {
     "duration": 0.010427,
     "end_time": "2021-08-24T06:16:48.088258",
     "exception": false,
     "start_time": "2021-08-24T06:16:48.077831",
     "status": "completed"
    },
    "tags": []
   },
   "source": [
    "## Step 2: Specify the filepath\n",
    "\n",
    "Now that the dataset is attached to the notebook, you can find its filepath.  To do this, begin by clicking on the CSV file you'd like to use.  This will open the CSV file in a tab below the notebook.  You can find the filepath towards the top of this new tab.  \n",
    "\n",
    "![ex6_filepath](https://i.imgur.com/fgXQV47.png)\n",
    "\n",
    "After you find the filepath corresponding to your dataset, fill it in as the value for `my_filepath` in the code cell below, and run the code cell to check that you've provided a valid filepath.  For instance, in the case of this example dataset, we would set\n",
    "```\n",
    "my_filepath = \"../input/fivethirtyeight-comic-characters-dataset/dc-wikia-data.csv\"\n",
    "```  \n",
    "Note that **you must enclose the filepath in quotation marks**; otherwise, the code will return an error.\n",
    "\n",
    "Once you've entered the filepath, you can close the tab below the notebook by clicking on the **[X]** at the top of the tab."
   ]
  },
  {
   "cell_type": "code",
   "execution_count": 4,
   "id": "9ebb1940",
   "metadata": {
    "execution": {
     "iopub.execute_input": "2021-08-24T06:16:48.112109Z",
     "iopub.status.busy": "2021-08-24T06:16:48.111495Z",
     "iopub.status.idle": "2021-08-24T06:16:48.120964Z",
     "shell.execute_reply": "2021-08-24T06:16:48.120278Z",
     "shell.execute_reply.started": "2021-08-24T06:09:05.790214Z"
    },
    "papermill": {
     "duration": 0.022613,
     "end_time": "2021-08-24T06:16:48.121117",
     "exception": false,
     "start_time": "2021-08-24T06:16:48.098504",
     "status": "completed"
    },
    "tags": []
   },
   "outputs": [
    {
     "data": {
      "application/javascript": [
       "parent.postMessage({\"jupyterEvent\": \"custom.exercise_interaction\", \"data\": {\"outcomeType\": 1, \"valueTowardsCompletion\": 0.25, \"interactionType\": 1, \"questionType\": 2, \"questionId\": \"2_Filepath\", \"learnToolsVersion\": \"0.3.4\", \"failureMessage\": \"\", \"exceptionClass\": \"\", \"trace\": \"\"}}, \"*\")"
      ],
      "text/plain": [
       "<IPython.core.display.Javascript object>"
      ]
     },
     "metadata": {},
     "output_type": "display_data"
    },
    {
     "data": {
      "text/markdown": [
       "<span style=\"color:#33cc33\">Correct:</span> \n",
       "\n"
      ],
      "text/plain": [
       "Correct: \n"
      ]
     },
     "metadata": {},
     "output_type": "display_data"
    }
   ],
   "source": [
    "# Fill in the line below: Specify the path of the CSV file to read\n",
    "my_filepath = '../input/ramen-ratings/ramen-ratings.csv'\n",
    "\n",
    "# Check for a valid filepath to a CSV file in a dataset\n",
    "step_2.check()"
   ]
  },
  {
   "cell_type": "markdown",
   "id": "5128ed5e",
   "metadata": {
    "papermill": {
     "duration": 0.01091,
     "end_time": "2021-08-24T06:16:48.143994",
     "exception": false,
     "start_time": "2021-08-24T06:16:48.133084",
     "status": "completed"
    },
    "tags": []
   },
   "source": [
    "## Step 3: Load the data\n",
    "\n",
    "Use the next code cell to load your data file into `my_data`.  Use the filepath that you specified in the previous step."
   ]
  },
  {
   "cell_type": "code",
   "execution_count": 5,
   "id": "ac6c3006",
   "metadata": {
    "execution": {
     "iopub.execute_input": "2021-08-24T06:16:48.174572Z",
     "iopub.status.busy": "2021-08-24T06:16:48.173601Z",
     "iopub.status.idle": "2021-08-24T06:16:48.219237Z",
     "shell.execute_reply": "2021-08-24T06:16:48.219811Z",
     "shell.execute_reply.started": "2021-08-24T06:14:00.784821Z"
    },
    "papermill": {
     "duration": 0.064142,
     "end_time": "2021-08-24T06:16:48.220014",
     "exception": false,
     "start_time": "2021-08-24T06:16:48.155872",
     "status": "completed"
    },
    "tags": []
   },
   "outputs": [
    {
     "data": {
      "application/javascript": [
       "parent.postMessage({\"jupyterEvent\": \"custom.exercise_interaction\", \"data\": {\"outcomeType\": 1, \"valueTowardsCompletion\": 0.25, \"interactionType\": 1, \"questionType\": 2, \"questionId\": \"3_LoadData\", \"learnToolsVersion\": \"0.3.4\", \"failureMessage\": \"\", \"exceptionClass\": \"\", \"trace\": \"\"}}, \"*\")"
      ],
      "text/plain": [
       "<IPython.core.display.Javascript object>"
      ]
     },
     "metadata": {},
     "output_type": "display_data"
    },
    {
     "data": {
      "text/markdown": [
       "<span style=\"color:#33cc33\">Correct:</span> \n",
       "\n"
      ],
      "text/plain": [
       "Correct: \n"
      ]
     },
     "metadata": {},
     "output_type": "display_data"
    }
   ],
   "source": [
    "# Fill in the line below: Read the file into a variable my_data\n",
    "my_data = pd.read_csv(my_filepath, index_col='Review #')\n",
    "\n",
    "# Check that a dataset has been uploaded into my_data\n",
    "step_3.check()"
   ]
  },
  {
   "cell_type": "markdown",
   "id": "bace7de8",
   "metadata": {
    "papermill": {
     "duration": 0.019254,
     "end_time": "2021-08-24T06:16:48.257663",
     "exception": false,
     "start_time": "2021-08-24T06:16:48.238409",
     "status": "completed"
    },
    "tags": []
   },
   "source": [
    "**_After the code cell above is marked correct_**, run the code cell below without changes to view the first five rows of the data."
   ]
  },
  {
   "cell_type": "code",
   "execution_count": 6,
   "id": "8061938d",
   "metadata": {
    "execution": {
     "iopub.execute_input": "2021-08-24T06:16:48.298539Z",
     "iopub.status.busy": "2021-08-24T06:16:48.297216Z",
     "iopub.status.idle": "2021-08-24T06:16:48.319028Z",
     "shell.execute_reply": "2021-08-24T06:16:48.319545Z",
     "shell.execute_reply.started": "2021-08-24T06:14:02.526615Z"
    },
    "papermill": {
     "duration": 0.04463,
     "end_time": "2021-08-24T06:16:48.319738",
     "exception": false,
     "start_time": "2021-08-24T06:16:48.275108",
     "status": "completed"
    },
    "tags": []
   },
   "outputs": [
    {
     "data": {
      "text/html": [
       "<div>\n",
       "<style scoped>\n",
       "    .dataframe tbody tr th:only-of-type {\n",
       "        vertical-align: middle;\n",
       "    }\n",
       "\n",
       "    .dataframe tbody tr th {\n",
       "        vertical-align: top;\n",
       "    }\n",
       "\n",
       "    .dataframe thead th {\n",
       "        text-align: right;\n",
       "    }\n",
       "</style>\n",
       "<table border=\"1\" class=\"dataframe\">\n",
       "  <thead>\n",
       "    <tr style=\"text-align: right;\">\n",
       "      <th></th>\n",
       "      <th>Brand</th>\n",
       "      <th>Variety</th>\n",
       "      <th>Style</th>\n",
       "      <th>Country</th>\n",
       "      <th>Stars</th>\n",
       "      <th>Top Ten</th>\n",
       "    </tr>\n",
       "    <tr>\n",
       "      <th>Review #</th>\n",
       "      <th></th>\n",
       "      <th></th>\n",
       "      <th></th>\n",
       "      <th></th>\n",
       "      <th></th>\n",
       "      <th></th>\n",
       "    </tr>\n",
       "  </thead>\n",
       "  <tbody>\n",
       "    <tr>\n",
       "      <th>2580</th>\n",
       "      <td>New Touch</td>\n",
       "      <td>T's Restaurant Tantanmen</td>\n",
       "      <td>Cup</td>\n",
       "      <td>Japan</td>\n",
       "      <td>3.75</td>\n",
       "      <td>NaN</td>\n",
       "    </tr>\n",
       "    <tr>\n",
       "      <th>2579</th>\n",
       "      <td>Just Way</td>\n",
       "      <td>Noodles Spicy Hot Sesame Spicy Hot Sesame Guan...</td>\n",
       "      <td>Pack</td>\n",
       "      <td>Taiwan</td>\n",
       "      <td>1</td>\n",
       "      <td>NaN</td>\n",
       "    </tr>\n",
       "    <tr>\n",
       "      <th>2578</th>\n",
       "      <td>Nissin</td>\n",
       "      <td>Cup Noodles Chicken Vegetable</td>\n",
       "      <td>Cup</td>\n",
       "      <td>USA</td>\n",
       "      <td>2.25</td>\n",
       "      <td>NaN</td>\n",
       "    </tr>\n",
       "    <tr>\n",
       "      <th>2577</th>\n",
       "      <td>Wei Lih</td>\n",
       "      <td>GGE Ramen Snack Tomato Flavor</td>\n",
       "      <td>Pack</td>\n",
       "      <td>Taiwan</td>\n",
       "      <td>2.75</td>\n",
       "      <td>NaN</td>\n",
       "    </tr>\n",
       "    <tr>\n",
       "      <th>2576</th>\n",
       "      <td>Ching's Secret</td>\n",
       "      <td>Singapore Curry</td>\n",
       "      <td>Pack</td>\n",
       "      <td>India</td>\n",
       "      <td>3.75</td>\n",
       "      <td>NaN</td>\n",
       "    </tr>\n",
       "  </tbody>\n",
       "</table>\n",
       "</div>"
      ],
      "text/plain": [
       "                   Brand                                            Variety  \\\n",
       "Review #                                                                      \n",
       "2580           New Touch                          T's Restaurant Tantanmen    \n",
       "2579            Just Way  Noodles Spicy Hot Sesame Spicy Hot Sesame Guan...   \n",
       "2578              Nissin                      Cup Noodles Chicken Vegetable   \n",
       "2577             Wei Lih                      GGE Ramen Snack Tomato Flavor   \n",
       "2576      Ching's Secret                                    Singapore Curry   \n",
       "\n",
       "         Style Country Stars Top Ten  \n",
       "Review #                              \n",
       "2580       Cup   Japan  3.75     NaN  \n",
       "2579      Pack  Taiwan     1     NaN  \n",
       "2578       Cup     USA  2.25     NaN  \n",
       "2577      Pack  Taiwan  2.75     NaN  \n",
       "2576      Pack   India  3.75     NaN  "
      ]
     },
     "execution_count": 6,
     "metadata": {},
     "output_type": "execute_result"
    }
   ],
   "source": [
    "# Print the first five rows of the data\n",
    "my_data.head()"
   ]
  },
  {
   "cell_type": "markdown",
   "id": "ffa77933",
   "metadata": {
    "papermill": {
     "duration": 0.01394,
     "end_time": "2021-08-24T06:16:48.347677",
     "exception": false,
     "start_time": "2021-08-24T06:16:48.333737",
     "status": "completed"
    },
    "tags": []
   },
   "source": [
    "## Step 4: Visualize the data\n",
    "\n",
    "Use the next code cell to create a figure that tells a story behind your dataset.  You can use any chart type (_line chart, bar chart, heatmap, etc_) of your choosing!"
   ]
  },
  {
   "cell_type": "code",
   "execution_count": 7,
   "id": "453ffefc",
   "metadata": {
    "execution": {
     "iopub.execute_input": "2021-08-24T06:16:48.376746Z",
     "iopub.status.busy": "2021-08-24T06:16:48.375810Z",
     "iopub.status.idle": "2021-08-24T06:16:48.630635Z",
     "shell.execute_reply": "2021-08-24T06:16:48.631323Z",
     "shell.execute_reply.started": "2021-08-24T06:16:20.548345Z"
    },
    "papermill": {
     "duration": 0.270891,
     "end_time": "2021-08-24T06:16:48.631659",
     "exception": false,
     "start_time": "2021-08-24T06:16:48.360768",
     "status": "completed"
    },
    "tags": []
   },
   "outputs": [
    {
     "name": "stderr",
     "output_type": "stream",
     "text": [
      "/opt/conda/lib/python3.7/site-packages/seaborn/distributions.py:2557: FutureWarning: `distplot` is a deprecated function and will be removed in a future version. Please adapt your code to use either `displot` (a figure-level function with similar flexibility) or `histplot` (an axes-level function for histograms).\n",
      "  warnings.warn(msg, FutureWarning)\n"
     ]
    },
    {
     "data": {
      "application/javascript": [
       "parent.postMessage({\"jupyterEvent\": \"custom.exercise_interaction\", \"data\": {\"outcomeType\": 1, \"valueTowardsCompletion\": 0.25, \"interactionType\": 1, \"questionType\": 2, \"questionId\": \"4_CreatePlot\", \"learnToolsVersion\": \"0.3.4\", \"failureMessage\": \"\", \"exceptionClass\": \"\", \"trace\": \"\"}}, \"*\")"
      ],
      "text/plain": [
       "<IPython.core.display.Javascript object>"
      ]
     },
     "metadata": {},
     "output_type": "display_data"
    },
    {
     "data": {
      "text/markdown": [
       "<span style=\"color:#33cc33\">Correct:</span> \n",
       "\n"
      ],
      "text/plain": [
       "Correct: \n"
      ]
     },
     "metadata": {},
     "output_type": "display_data"
    },
    {
     "data": {
      "image/png": "[encoded data removed]",
      "text/plain": [
       "<Figure size 432x288 with 1 Axes>"
      ]
     },
     "metadata": {
      "needs_background": "light"
     },
     "output_type": "display_data"
    }
   ],
   "source": [
    "# filter 'Unrated' data\n",
    "my_data = my_data[my_data['Stars']!='Unrated']\n",
    "\n",
    "# Create a plot\n",
    "sns.distplot(my_data['Stars'], kde=False)\n",
    "\n",
    "# Check that a figure appears below\n",
    "step_4.check()"
   ]
  },
  {
   "cell_type": "markdown",
   "id": "4dbafb3a",
   "metadata": {
    "papermill": {
     "duration": 0.013887,
     "end_time": "2021-08-24T06:16:48.667184",
     "exception": false,
     "start_time": "2021-08-24T06:16:48.653297",
     "status": "completed"
    },
    "tags": []
   },
   "source": [
    "## Keep going\n",
    "\n",
    "Learn how to use your skills after completing the micro-course to create data visualizations in a **[final tutorial](https://www.kaggle.com/alexisbcook/creating-your-own-notebooks)**."
   ]
  },
  {
   "cell_type": "markdown",
   "id": "55fd6681",
   "metadata": {
    "papermill": {
     "duration": 0.013111,
     "end_time": "2021-08-24T06:16:48.693911",
     "exception": false,
     "start_time": "2021-08-24T06:16:48.680800",
     "status": "completed"
    },
    "tags": []
   },
   "source": [
    "---\n",
    "\n",
    "\n",
    "\n",
    "\n",
    "*Have questions or comments? Visit the [Learn Discussion forum](https://www.kaggle.com/learn-forum/161291) to chat with other Learners.*"
   ]
  }
 ],
 "metadata": {
  "kernelspec": {
   "display_name": "Python 3",
   "language": "python",
   "name": "python3"
  },
  "language_info": {
   "codemirror_mode": {
    "name": "ipython",
    "version": 3
   },
   "file_extension": ".py",
   "mimetype": "text/x-python",
   "name": "python",
   "nbconvert_exporter": "python",
   "pygments_lexer": "ipython3",
   "version": "3.7.10"
  },
  "papermill": {
   "default_parameters": {},
   "duration": 10.699849,
   "end_time": "2021-08-24T06:16:49.416231",
   "environment_variables": {},
   "exception": null,
   "input_path": "__notebook__.ipynb",
   "output_path": "__notebook__.ipynb",
   "parameters": {},
   "start_time": "2021-08-24T06:16:38.716382",
   "version": "2.3.3"
  }
 },
 "nbformat": 4,
 "nbformat_minor": 5
}
