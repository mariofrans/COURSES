{
 "cells": [
  {
   "cell_type": "markdown",
   "id": "f2f5e49b",
   "metadata": {
    "papermill": {
     "duration": 0.031146,
     "end_time": "2021-08-23T11:03:00.507425",
     "exception": false,
     "start_time": "2021-08-23T11:03:00.476279",
     "status": "completed"
    },
    "tags": []
   },
   "source": [
    "**This notebook is an exercise in the [Data Visualization](https://www.kaggle.com/learn/data-visualization) course.  You can reference the tutorial at [this link](https://www.kaggle.com/alexisbcook/scatter-plots).**\n",
    "\n",
    "---\n"
   ]
  },
  {
   "cell_type": "markdown",
   "id": "11c72b70",
   "metadata": {
    "papermill": {
     "duration": 0.028272,
     "end_time": "2021-08-23T11:03:00.566438",
     "exception": false,
     "start_time": "2021-08-23T11:03:00.538166",
     "status": "completed"
    },
    "tags": []
   },
   "source": [
    "In this exercise, you will use your new knowledge to propose a solution to a real-world scenario.  To succeed, you will need to import data into Python, answer questions using the data, and generate **scatter plots** to understand patterns in the data.\n",
    "\n",
    "## Scenario\n",
    "\n",
    "You work for a major candy producer, and your goal is to write a report that your company can use to guide the design of its next product.  Soon after starting your research, you stumble across this [very interesting dataset](https://fivethirtyeight.com/features/the-ultimate-halloween-candy-power-ranking/) containing results from a fun survey to crowdsource favorite candies.\n",
    "\n",
    "## Setup\n",
    "\n",
    "Run the next cell to import and configure the Python libraries that you need to complete the exercise."
   ]
  },
  {
   "cell_type": "code",
   "execution_count": 1,
   "id": "ec44c682",
   "metadata": {
    "execution": {
     "iopub.execute_input": "2021-08-23T11:03:00.629608Z",
     "iopub.status.busy": "2021-08-23T11:03:00.628434Z",
     "iopub.status.idle": "2021-08-23T11:03:01.803730Z",
     "shell.execute_reply": "2021-08-23T11:03:01.803047Z",
     "shell.execute_reply.started": "2021-08-23T11:02:07.662771Z"
    },
    "papermill": {
     "duration": 1.20749,
     "end_time": "2021-08-23T11:03:01.803926",
     "exception": false,
     "start_time": "2021-08-23T11:03:00.596436",
     "status": "completed"
    },
    "tags": []
   },
   "outputs": [
    {
     "name": "stdout",
     "output_type": "stream",
     "text": [
      "Setup Complete\n"
     ]
    }
   ],
   "source": [
    "import pandas as pd\n",
    "pd.plotting.register_matplotlib_converters()\n",
    "import matplotlib.pyplot as plt\n",
    "%matplotlib inline\n",
    "import seaborn as sns\n",
    "print(\"Setup Complete\")"
   ]
  },
  {
   "cell_type": "markdown",
   "id": "ed63b444",
   "metadata": {
    "papermill": {
     "duration": 0.028784,
     "end_time": "2021-08-23T11:03:01.861914",
     "exception": false,
     "start_time": "2021-08-23T11:03:01.833130",
     "status": "completed"
    },
    "tags": []
   },
   "source": [
    "The questions below will give you feedback on your work. Run the following cell to set up our feedback system."
   ]
  },
  {
   "cell_type": "code",
   "execution_count": 2,
   "id": "ed6ae7d8",
   "metadata": {
    "execution": {
     "iopub.execute_input": "2021-08-23T11:03:01.925910Z",
     "iopub.status.busy": "2021-08-23T11:03:01.925165Z",
     "iopub.status.idle": "2021-08-23T11:03:02.007143Z",
     "shell.execute_reply": "2021-08-23T11:03:02.006476Z",
     "shell.execute_reply.started": "2021-08-23T11:02:07.680790Z"
    },
    "papermill": {
     "duration": 0.116365,
     "end_time": "2021-08-23T11:03:02.007294",
     "exception": false,
     "start_time": "2021-08-23T11:03:01.890929",
     "status": "completed"
    },
    "tags": []
   },
   "outputs": [
    {
     "name": "stdout",
     "output_type": "stream",
     "text": [
      "Setup Complete\n"
     ]
    }
   ],
   "source": [
    "# Set up code checking\n",
    "import os\n",
    "if not os.path.exists(\"../input/candy.csv\"):\n",
    "    os.symlink(\"../input/data-for-datavis/candy.csv\", \"../input/candy.csv\") \n",
    "from learntools.core import binder\n",
    "binder.bind(globals())\n",
    "from learntools.data_viz_to_coder.ex4 import *\n",
    "print(\"Setup Complete\")"
   ]
  },
  {
   "cell_type": "markdown",
   "id": "eafced08",
   "metadata": {
    "papermill": {
     "duration": 0.030159,
     "end_time": "2021-08-23T11:03:02.067155",
     "exception": false,
     "start_time": "2021-08-23T11:03:02.036996",
     "status": "completed"
    },
    "tags": []
   },
   "source": [
    "## Step 1: Load the Data\n",
    "\n",
    "Read the candy data file into `candy_data`.  Use the `\"id\"` column to label the rows."
   ]
  },
  {
   "cell_type": "code",
   "execution_count": 3,
   "id": "4cf30a7d",
   "metadata": {
    "execution": {
     "iopub.execute_input": "2021-08-23T11:03:02.131472Z",
     "iopub.status.busy": "2021-08-23T11:03:02.130750Z",
     "iopub.status.idle": "2021-08-23T11:03:02.145612Z",
     "shell.execute_reply": "2021-08-23T11:03:02.146224Z",
     "shell.execute_reply.started": "2021-08-23T11:02:07.696709Z"
    },
    "papermill": {
     "duration": 0.049969,
     "end_time": "2021-08-23T11:03:02.146395",
     "exception": false,
     "start_time": "2021-08-23T11:03:02.096426",
     "status": "completed"
    },
    "tags": []
   },
   "outputs": [
    {
     "data": {
      "application/javascript": [
       "parent.postMessage({\"jupyterEvent\": \"custom.exercise_interaction\", \"data\": {\"outcomeType\": 1, \"valueTowardsCompletion\": 0.3333333333333333, \"interactionType\": 1, \"questionType\": 1, \"questionId\": \"1_LoadData\", \"learnToolsVersion\": \"0.3.4\", \"failureMessage\": \"\", \"exceptionClass\": \"\", \"trace\": \"\"}}, \"*\")"
      ],
      "text/plain": [
       "<IPython.core.display.Javascript object>"
      ]
     },
     "metadata": {},
     "output_type": "display_data"
    },
    {
     "data": {
      "text/markdown": [
       "<span style=\"color:#33cc33\">Correct</span>"
      ],
      "text/plain": [
       "Correct"
      ]
     },
     "metadata": {},
     "output_type": "display_data"
    }
   ],
   "source": [
    "# Path of the file to read\n",
    "candy_filepath = \"../input/candy.csv\"\n",
    "\n",
    "# Fill in the line below to read the file into a variable candy_data\n",
    "candy_data = pd.read_csv(candy_filepath, index_col='id')\n",
    "\n",
    "# Run the line below with no changes to check that you've loaded the data correctly\n",
    "step_1.check()"
   ]
  },
  {
   "cell_type": "code",
   "execution_count": 4,
   "id": "0e601d50",
   "metadata": {
    "execution": {
     "iopub.execute_input": "2021-08-23T11:03:02.210399Z",
     "iopub.status.busy": "2021-08-23T11:03:02.209573Z",
     "iopub.status.idle": "2021-08-23T11:03:02.212659Z",
     "shell.execute_reply": "2021-08-23T11:03:02.213317Z",
     "shell.execute_reply.started": "2021-08-23T11:02:07.725920Z"
    },
    "papermill": {
     "duration": 0.036858,
     "end_time": "2021-08-23T11:03:02.213497",
     "exception": false,
     "start_time": "2021-08-23T11:03:02.176639",
     "status": "completed"
    },
    "tags": []
   },
   "outputs": [],
   "source": [
    "# Lines below will give you a hint or solution code\n",
    "#step_1.hint()\n",
    "#step_1.solution()"
   ]
  },
  {
   "cell_type": "markdown",
   "id": "97c39057",
   "metadata": {
    "papermill": {
     "duration": 0.030619,
     "end_time": "2021-08-23T11:03:02.275161",
     "exception": false,
     "start_time": "2021-08-23T11:03:02.244542",
     "status": "completed"
    },
    "tags": []
   },
   "source": [
    "## Step 2: Review the data\n",
    "\n",
    "Use a Python command to print the first five rows of the data."
   ]
  },
  {
   "cell_type": "code",
   "execution_count": 5,
   "id": "dee7ac33",
   "metadata": {
    "execution": {
     "iopub.execute_input": "2021-08-23T11:03:02.341775Z",
     "iopub.status.busy": "2021-08-23T11:03:02.341010Z",
     "iopub.status.idle": "2021-08-23T11:03:02.367524Z",
     "shell.execute_reply": "2021-08-23T11:03:02.366897Z",
     "shell.execute_reply.started": "2021-08-23T11:02:07.792790Z"
    },
    "papermill": {
     "duration": 0.060597,
     "end_time": "2021-08-23T11:03:02.367726",
     "exception": false,
     "start_time": "2021-08-23T11:03:02.307129",
     "status": "completed"
    },
    "tags": []
   },
   "outputs": [
    {
     "data": {
      "text/html": [
       "<div>\n",
       "<style scoped>\n",
       "    .dataframe tbody tr th:only-of-type {\n",
       "        vertical-align: middle;\n",
       "    }\n",
       "\n",
       "    .dataframe tbody tr th {\n",
       "        vertical-align: top;\n",
       "    }\n",
       "\n",
       "    .dataframe thead th {\n",
       "        text-align: right;\n",
       "    }\n",
       "</style>\n",
       "<table border=\"1\" class=\"dataframe\">\n",
       "  <thead>\n",
       "    <tr style=\"text-align: right;\">\n",
       "      <th></th>\n",
       "      <th>competitorname</th>\n",
       "      <th>chocolate</th>\n",
       "      <th>fruity</th>\n",
       "      <th>caramel</th>\n",
       "      <th>peanutyalmondy</th>\n",
       "      <th>nougat</th>\n",
       "      <th>crispedricewafer</th>\n",
       "      <th>hard</th>\n",
       "      <th>bar</th>\n",
       "      <th>pluribus</th>\n",
       "      <th>sugarpercent</th>\n",
       "      <th>pricepercent</th>\n",
       "      <th>winpercent</th>\n",
       "    </tr>\n",
       "    <tr>\n",
       "      <th>id</th>\n",
       "      <th></th>\n",
       "      <th></th>\n",
       "      <th></th>\n",
       "      <th></th>\n",
       "      <th></th>\n",
       "      <th></th>\n",
       "      <th></th>\n",
       "      <th></th>\n",
       "      <th></th>\n",
       "      <th></th>\n",
       "      <th></th>\n",
       "      <th></th>\n",
       "      <th></th>\n",
       "    </tr>\n",
       "  </thead>\n",
       "  <tbody>\n",
       "    <tr>\n",
       "      <th>0</th>\n",
       "      <td>100 Grand</td>\n",
       "      <td>Yes</td>\n",
       "      <td>No</td>\n",
       "      <td>Yes</td>\n",
       "      <td>No</td>\n",
       "      <td>No</td>\n",
       "      <td>Yes</td>\n",
       "      <td>No</td>\n",
       "      <td>Yes</td>\n",
       "      <td>No</td>\n",
       "      <td>0.732</td>\n",
       "      <td>0.860</td>\n",
       "      <td>66.971725</td>\n",
       "    </tr>\n",
       "    <tr>\n",
       "      <th>1</th>\n",
       "      <td>3 Musketeers</td>\n",
       "      <td>Yes</td>\n",
       "      <td>No</td>\n",
       "      <td>No</td>\n",
       "      <td>No</td>\n",
       "      <td>Yes</td>\n",
       "      <td>No</td>\n",
       "      <td>No</td>\n",
       "      <td>Yes</td>\n",
       "      <td>No</td>\n",
       "      <td>0.604</td>\n",
       "      <td>0.511</td>\n",
       "      <td>67.602936</td>\n",
       "    </tr>\n",
       "    <tr>\n",
       "      <th>2</th>\n",
       "      <td>Air Heads</td>\n",
       "      <td>No</td>\n",
       "      <td>Yes</td>\n",
       "      <td>No</td>\n",
       "      <td>No</td>\n",
       "      <td>No</td>\n",
       "      <td>No</td>\n",
       "      <td>No</td>\n",
       "      <td>No</td>\n",
       "      <td>No</td>\n",
       "      <td>0.906</td>\n",
       "      <td>0.511</td>\n",
       "      <td>52.341465</td>\n",
       "    </tr>\n",
       "    <tr>\n",
       "      <th>3</th>\n",
       "      <td>Almond Joy</td>\n",
       "      <td>Yes</td>\n",
       "      <td>No</td>\n",
       "      <td>No</td>\n",
       "      <td>Yes</td>\n",
       "      <td>No</td>\n",
       "      <td>No</td>\n",
       "      <td>No</td>\n",
       "      <td>Yes</td>\n",
       "      <td>No</td>\n",
       "      <td>0.465</td>\n",
       "      <td>0.767</td>\n",
       "      <td>50.347546</td>\n",
       "    </tr>\n",
       "    <tr>\n",
       "      <th>4</th>\n",
       "      <td>Baby Ruth</td>\n",
       "      <td>Yes</td>\n",
       "      <td>No</td>\n",
       "      <td>Yes</td>\n",
       "      <td>Yes</td>\n",
       "      <td>Yes</td>\n",
       "      <td>No</td>\n",
       "      <td>No</td>\n",
       "      <td>Yes</td>\n",
       "      <td>No</td>\n",
       "      <td>0.604</td>\n",
       "      <td>0.767</td>\n",
       "      <td>56.914547</td>\n",
       "    </tr>\n",
       "  </tbody>\n",
       "</table>\n",
       "</div>"
      ],
      "text/plain": [
       "   competitorname chocolate fruity caramel peanutyalmondy nougat  \\\n",
       "id                                                                 \n",
       "0       100 Grand       Yes     No     Yes             No     No   \n",
       "1    3 Musketeers       Yes     No      No             No    Yes   \n",
       "2       Air Heads        No    Yes      No             No     No   \n",
       "3      Almond Joy       Yes     No      No            Yes     No   \n",
       "4       Baby Ruth       Yes     No     Yes            Yes    Yes   \n",
       "\n",
       "   crispedricewafer hard  bar pluribus  sugarpercent  pricepercent  winpercent  \n",
       "id                                                                              \n",
       "0               Yes   No  Yes       No         0.732         0.860   66.971725  \n",
       "1                No   No  Yes       No         0.604         0.511   67.602936  \n",
       "2                No   No   No       No         0.906         0.511   52.341465  \n",
       "3                No   No  Yes       No         0.465         0.767   50.347546  \n",
       "4                No   No  Yes       No         0.604         0.767   56.914547  "
      ]
     },
     "execution_count": 5,
     "metadata": {},
     "output_type": "execute_result"
    }
   ],
   "source": [
    "# Print the first five rows of the data\n",
    "candy_data.head()"
   ]
  },
  {
   "cell_type": "markdown",
   "id": "9a657582",
   "metadata": {
    "papermill": {
     "duration": 0.03097,
     "end_time": "2021-08-23T11:03:02.429737",
     "exception": false,
     "start_time": "2021-08-23T11:03:02.398767",
     "status": "completed"
    },
    "tags": []
   },
   "source": [
    "The dataset contains 83 rows, where each corresponds to a different candy bar.  There are 13 columns:\n",
    "- `'competitorname'` contains the name of the candy bar. \n",
    "- the next **9** columns (from `'chocolate'` to `'pluribus'`) describe the candy.  For instance, rows with chocolate candies have `\"Yes\"` in the `'chocolate'` column (and candies without chocolate have `\"No\"` in the same column).\n",
    "- `'sugarpercent'` provides some indication of the amount of sugar, where higher values signify higher sugar content.\n",
    "- `'pricepercent'` shows the price per unit, relative to the other candies in the dataset.\n",
    "- `'winpercent'` is calculated from the survey results; higher values indicate that the candy was more popular with survey respondents.\n",
    "\n",
    "Use the first five rows of the data to answer the questions below."
   ]
  },
  {
   "cell_type": "code",
   "execution_count": 6,
   "id": "393b1d70",
   "metadata": {
    "execution": {
     "iopub.execute_input": "2021-08-23T11:03:02.506476Z",
     "iopub.status.busy": "2021-08-23T11:03:02.505629Z",
     "iopub.status.idle": "2021-08-23T11:03:02.510390Z",
     "shell.execute_reply": "2021-08-23T11:03:02.510922Z",
     "shell.execute_reply.started": "2021-08-23T11:02:07.817653Z"
    },
    "papermill": {
     "duration": 0.05044,
     "end_time": "2021-08-23T11:03:02.511099",
     "exception": false,
     "start_time": "2021-08-23T11:03:02.460659",
     "status": "completed"
    },
    "tags": []
   },
   "outputs": [
    {
     "data": {
      "application/javascript": [
       "parent.postMessage({\"jupyterEvent\": \"custom.exercise_interaction\", \"data\": {\"outcomeType\": 1, \"valueTowardsCompletion\": 0.3333333333333333, \"interactionType\": 1, \"questionType\": 1, \"questionId\": \"2_ReviewData\", \"learnToolsVersion\": \"0.3.4\", \"failureMessage\": \"\", \"exceptionClass\": \"\", \"trace\": \"\"}}, \"*\")"
      ],
      "text/plain": [
       "<IPython.core.display.Javascript object>"
      ]
     },
     "metadata": {},
     "output_type": "display_data"
    },
    {
     "data": {
      "text/markdown": [
       "<span style=\"color:#33cc33\">Correct</span>"
      ],
      "text/plain": [
       "Correct"
      ]
     },
     "metadata": {},
     "output_type": "display_data"
    }
   ],
   "source": [
    "# Fill in the line below: Which candy was more popular with survey respondents:\n",
    "# '3 Musketeers' or 'Almond Joy'?  (Please enclose your answer in single quotes.)\n",
    "\n",
    "winpercent_almond_joy = float(candy_data.loc[candy_data['competitorname']=='Almond Joy']['winpercent'])\n",
    "winpercent_3_musketeers = float(candy_data.loc[candy_data['competitorname']=='3 Musketeers']['winpercent'])\n",
    "\n",
    "if winpercent_almond_joy>winpercent_3_musketeers: more_popular = 'Almond Joy'\n",
    "elif winpercent_almond_joy<winpercent_3_musketeers: more_popular = '3 Musketeers'\n",
    "else: print(\"Same Popularity\")\n",
    "\n",
    "# Fill in the line below: Which candy has higher sugar content: 'Air Heads'\n",
    "# or 'Baby Ruth'? (Please enclose your answer in single quotes.)\n",
    "sugarpercent_air_heads = float(candy_data.loc[candy_data['competitorname']=='Air Heads']['sugarpercent'])\n",
    "sugarpercent_baby_ruth = float(candy_data.loc[candy_data['competitorname']=='Baby Ruth']['sugarpercent'])\n",
    "\n",
    "if sugarpercent_air_heads>sugarpercent_baby_ruth: more_sugar = 'Air Heads'\n",
    "elif sugarpercent_air_heads<sugarpercent_baby_ruth: more_sugar = 'Baby Ruth'\n",
    "else: print(\"Same Sugar Count\")\n",
    "\n",
    "# Check your answers\n",
    "step_2.check()"
   ]
  },
  {
   "cell_type": "code",
   "execution_count": 7,
   "id": "d0966b2f",
   "metadata": {
    "execution": {
     "iopub.execute_input": "2021-08-23T11:03:02.578070Z",
     "iopub.status.busy": "2021-08-23T11:03:02.577416Z",
     "iopub.status.idle": "2021-08-23T11:03:02.580286Z",
     "shell.execute_reply": "2021-08-23T11:03:02.580819Z",
     "shell.execute_reply.started": "2021-08-23T11:02:07.845845Z"
    },
    "papermill": {
     "duration": 0.038038,
     "end_time": "2021-08-23T11:03:02.580992",
     "exception": false,
     "start_time": "2021-08-23T11:03:02.542954",
     "status": "completed"
    },
    "tags": []
   },
   "outputs": [],
   "source": [
    "# Lines below will give you a hint or solution code\n",
    "#step_2.hint()\n",
    "#step_2.solution()"
   ]
  },
  {
   "cell_type": "markdown",
   "id": "5acc261a",
   "metadata": {
    "papermill": {
     "duration": 0.031543,
     "end_time": "2021-08-23T11:03:02.646499",
     "exception": false,
     "start_time": "2021-08-23T11:03:02.614956",
     "status": "completed"
    },
    "tags": []
   },
   "source": [
    "## Step 3: The role of sugar\n",
    "\n",
    "Do people tend to prefer candies with higher sugar content?  \n",
    "\n",
    "#### Part A\n",
    "\n",
    "Create a scatter plot that shows the relationship between `'sugarpercent'` (on the horizontal x-axis) and `'winpercent'` (on the vertical y-axis).  _Don't add a regression line just yet -- you'll do that in the next step!_"
   ]
  },
  {
   "cell_type": "code",
   "execution_count": 8,
   "id": "0dc6539f",
   "metadata": {
    "execution": {
     "iopub.execute_input": "2021-08-23T11:03:02.714466Z",
     "iopub.status.busy": "2021-08-23T11:03:02.713860Z",
     "iopub.status.idle": "2021-08-23T11:03:02.988303Z",
     "shell.execute_reply": "2021-08-23T11:03:02.987691Z",
     "shell.execute_reply.started": "2021-08-23T11:02:07.853504Z"
    },
    "papermill": {
     "duration": 0.309919,
     "end_time": "2021-08-23T11:03:02.988445",
     "exception": false,
     "start_time": "2021-08-23T11:03:02.678526",
     "status": "completed"
    },
    "tags": []
   },
   "outputs": [
    {
     "data": {
      "application/javascript": [
       "parent.postMessage({\"jupyterEvent\": \"custom.exercise_interaction\", \"data\": {\"outcomeType\": 1, \"valueTowardsCompletion\": 0.3333333333333333, \"interactionType\": 1, \"questionType\": 2, \"questionId\": \"3.1_PlotBlueScatter\", \"learnToolsVersion\": \"0.3.4\", \"failureMessage\": \"\", \"exceptionClass\": \"\", \"trace\": \"\"}}, \"*\")"
      ],
      "text/plain": [
       "<IPython.core.display.Javascript object>"
      ]
     },
     "metadata": {},
     "output_type": "display_data"
    },
    {
     "data": {
      "text/markdown": [
       "<span style=\"color:#33cc33\">Correct</span>"
      ],
      "text/plain": [
       "Correct"
      ]
     },
     "metadata": {},
     "output_type": "display_data"
    },
    {
     "data": {
      "image/png": "[encoded data removed]",
      "text/plain": [
       "<Figure size 432x288 with 1 Axes>"
      ]
     },
     "metadata": {
      "needs_background": "light"
     },
     "output_type": "display_data"
    }
   ],
   "source": [
    "# Scatter plot showing the relationship between 'sugarpercent' and 'winpercent'\n",
    "sns.scatterplot(x=candy_data['sugarpercent'], y=candy_data['winpercent'])\n",
    "\n",
    "# Check your answer\n",
    "step_3.a.check()"
   ]
  },
  {
   "cell_type": "code",
   "execution_count": 9,
   "id": "93af0271",
   "metadata": {
    "execution": {
     "iopub.execute_input": "2021-08-23T11:03:03.061188Z",
     "iopub.status.busy": "2021-08-23T11:03:03.060438Z",
     "iopub.status.idle": "2021-08-23T11:03:03.062740Z",
     "shell.execute_reply": "2021-08-23T11:03:03.063247Z",
     "shell.execute_reply.started": "2021-08-23T11:02:08.077006Z"
    },
    "papermill": {
     "duration": 0.040366,
     "end_time": "2021-08-23T11:03:03.063438",
     "exception": false,
     "start_time": "2021-08-23T11:03:03.023072",
     "status": "completed"
    },
    "tags": []
   },
   "outputs": [],
   "source": [
    "# Lines below will give you a hint or solution code\n",
    "#step_3.a.hint()\n",
    "#step_3.a.solution_plot()"
   ]
  },
  {
   "cell_type": "markdown",
   "id": "e0b3aeb5",
   "metadata": {
    "papermill": {
     "duration": 0.033417,
     "end_time": "2021-08-23T11:03:03.131285",
     "exception": false,
     "start_time": "2021-08-23T11:03:03.097868",
     "status": "completed"
    },
    "tags": []
   },
   "source": [
    "#### Part B\n",
    "\n",
    "Does the scatter plot show a **strong** correlation between the two variables?  If so, are candies with more sugar relatively more or less popular with the survey respondents?"
   ]
  },
  {
   "cell_type": "code",
   "execution_count": 10,
   "id": "70c01988",
   "metadata": {
    "execution": {
     "iopub.execute_input": "2021-08-23T11:03:03.201611Z",
     "iopub.status.busy": "2021-08-23T11:03:03.200962Z",
     "iopub.status.idle": "2021-08-23T11:03:03.204360Z",
     "shell.execute_reply": "2021-08-23T11:03:03.204887Z",
     "shell.execute_reply.started": "2021-08-23T11:02:08.083840Z"
    },
    "papermill": {
     "duration": 0.040176,
     "end_time": "2021-08-23T11:03:03.205061",
     "exception": false,
     "start_time": "2021-08-23T11:03:03.164885",
     "status": "completed"
    },
    "tags": []
   },
   "outputs": [],
   "source": [
    "#step_3.b.hint()"
   ]
  },
  {
   "cell_type": "code",
   "execution_count": 11,
   "id": "4d81aee8",
   "metadata": {
    "execution": {
     "iopub.execute_input": "2021-08-23T11:03:03.275566Z",
     "iopub.status.busy": "2021-08-23T11:03:03.274904Z",
     "iopub.status.idle": "2021-08-23T11:03:03.282426Z",
     "shell.execute_reply": "2021-08-23T11:03:03.281676Z",
     "shell.execute_reply.started": "2021-08-23T11:02:08.098779Z"
    },
    "papermill": {
     "duration": 0.043956,
     "end_time": "2021-08-23T11:03:03.282572",
     "exception": false,
     "start_time": "2021-08-23T11:03:03.238616",
     "status": "completed"
    },
    "tags": []
   },
   "outputs": [
    {
     "data": {
      "application/javascript": [
       "parent.postMessage({\"jupyterEvent\": \"custom.exercise_interaction\", \"data\": {\"interactionType\": 3, \"questionType\": 4, \"questionId\": \"3.2_ThinkBlueScatter\", \"learnToolsVersion\": \"0.3.4\", \"valueTowardsCompletion\": 0.0, \"failureMessage\": \"\", \"exceptionClass\": \"\", \"trace\": \"\", \"outcomeType\": 4}}, \"*\")"
      ],
      "text/plain": [
       "<IPython.core.display.Javascript object>"
      ]
     },
     "metadata": {},
     "output_type": "display_data"
    },
    {
     "data": {
      "text/markdown": [
       "<span style=\"color:#33cc99\">Solution:</span> The scatter plot does not show a strong correlation between the two variables. Since there is no clear relationship between the two variables, this tells us that sugar content does not play a strong role in candy popularity."
      ],
      "text/plain": [
       "Solution: The scatter plot does not show a strong correlation between the two variables. Since there is no clear relationship between the two variables, this tells us that sugar content does not play a strong role in candy popularity."
      ]
     },
     "metadata": {},
     "output_type": "display_data"
    }
   ],
   "source": [
    "# Check your answer (Run this code cell to receive credit!)\n",
    "step_3.b.solution()"
   ]
  },
  {
   "cell_type": "markdown",
   "id": "9c16cc90",
   "metadata": {
    "papermill": {
     "duration": 0.034751,
     "end_time": "2021-08-23T11:03:03.352107",
     "exception": false,
     "start_time": "2021-08-23T11:03:03.317356",
     "status": "completed"
    },
    "tags": []
   },
   "source": [
    "## Step 4: Take a closer look\n",
    "\n",
    "#### Part A\n",
    "\n",
    "Create the same scatter plot you created in **Step 3**, but now with a regression line!"
   ]
  },
  {
   "cell_type": "code",
   "execution_count": 12,
   "id": "d8ed135a",
   "metadata": {
    "execution": {
     "iopub.execute_input": "2021-08-23T11:03:03.453506Z",
     "iopub.status.busy": "2021-08-23T11:03:03.452822Z",
     "iopub.status.idle": "2021-08-23T11:03:03.718325Z",
     "shell.execute_reply": "2021-08-23T11:03:03.717754Z",
     "shell.execute_reply.started": "2021-08-23T11:02:08.122931Z"
    },
    "papermill": {
     "duration": 0.332032,
     "end_time": "2021-08-23T11:03:03.718472",
     "exception": false,
     "start_time": "2021-08-23T11:03:03.386440",
     "status": "completed"
    },
    "tags": []
   },
   "outputs": [
    {
     "data": {
      "application/javascript": [
       "parent.postMessage({\"jupyterEvent\": \"custom.exercise_interaction\", \"data\": {\"outcomeType\": 1, \"valueTowardsCompletion\": 0.3333333333333333, \"interactionType\": 1, \"questionType\": 2, \"questionId\": \"4.1_PlotBlueReg\", \"learnToolsVersion\": \"0.3.4\", \"failureMessage\": \"\", \"exceptionClass\": \"\", \"trace\": \"\"}}, \"*\")"
      ],
      "text/plain": [
       "<IPython.core.display.Javascript object>"
      ]
     },
     "metadata": {},
     "output_type": "display_data"
    },
    {
     "data": {
      "text/markdown": [
       "<span style=\"color:#33cc33\">Correct</span>"
      ],
      "text/plain": [
       "Correct"
      ]
     },
     "metadata": {},
     "output_type": "display_data"
    },
    {
     "data": {
      "image/png": "[encoded data removed]",
      "text/plain": [
       "<Figure size 432x288 with 1 Axes>"
      ]
     },
     "metadata": {
      "needs_background": "light"
     },
     "output_type": "display_data"
    }
   ],
   "source": [
    "# Scatter plot w/ regression line showing the relationship between 'sugarpercent' and 'winpercent'\n",
    "sns.regplot(x=candy_data['sugarpercent'], y=candy_data['winpercent'])\n",
    "\n",
    "# Check your answer\n",
    "step_4.a.check()"
   ]
  },
  {
   "cell_type": "code",
   "execution_count": 13,
   "id": "7183e6f7",
   "metadata": {
    "execution": {
     "iopub.execute_input": "2021-08-23T11:03:03.796654Z",
     "iopub.status.busy": "2021-08-23T11:03:03.795958Z",
     "iopub.status.idle": "2021-08-23T11:03:03.799823Z",
     "shell.execute_reply": "2021-08-23T11:03:03.799132Z",
     "shell.execute_reply.started": "2021-08-23T11:02:08.467095Z"
    },
    "papermill": {
     "duration": 0.044633,
     "end_time": "2021-08-23T11:03:03.799977",
     "exception": false,
     "start_time": "2021-08-23T11:03:03.755344",
     "status": "completed"
    },
    "tags": []
   },
   "outputs": [],
   "source": [
    "# Lines below will give you a hint or solution code\n",
    "#step_4.a.hint()\n",
    "#step_4.a.solution_plot()"
   ]
  },
  {
   "cell_type": "markdown",
   "id": "99674c93",
   "metadata": {
    "papermill": {
     "duration": 0.036283,
     "end_time": "2021-08-23T11:03:03.873227",
     "exception": false,
     "start_time": "2021-08-23T11:03:03.836944",
     "status": "completed"
    },
    "tags": []
   },
   "source": [
    "#### Part B\n",
    "\n",
    "According to the plot above, is there a **slight** correlation between `'winpercent'` and `'sugarpercent'`?  What does this tell you about the candy that people tend to prefer?"
   ]
  },
  {
   "cell_type": "code",
   "execution_count": 14,
   "id": "292012d0",
   "metadata": {
    "execution": {
     "iopub.execute_input": "2021-08-23T11:03:03.952043Z",
     "iopub.status.busy": "2021-08-23T11:03:03.951073Z",
     "iopub.status.idle": "2021-08-23T11:03:03.953866Z",
     "shell.execute_reply": "2021-08-23T11:03:03.954325Z",
     "shell.execute_reply.started": "2021-08-23T11:02:08.476534Z"
    },
    "papermill": {
     "duration": 0.044835,
     "end_time": "2021-08-23T11:03:03.954497",
     "exception": false,
     "start_time": "2021-08-23T11:03:03.909662",
     "status": "completed"
    },
    "tags": []
   },
   "outputs": [],
   "source": [
    "#step_4.b.hint()"
   ]
  },
  {
   "cell_type": "code",
   "execution_count": 15,
   "id": "1b3ff71b",
   "metadata": {
    "execution": {
     "iopub.execute_input": "2021-08-23T11:03:04.035532Z",
     "iopub.status.busy": "2021-08-23T11:03:04.034517Z",
     "iopub.status.idle": "2021-08-23T11:03:04.040150Z",
     "shell.execute_reply": "2021-08-23T11:03:04.040708Z",
     "shell.execute_reply.started": "2021-08-23T11:02:08.487145Z"
    },
    "papermill": {
     "duration": 0.048573,
     "end_time": "2021-08-23T11:03:04.040940",
     "exception": false,
     "start_time": "2021-08-23T11:03:03.992367",
     "status": "completed"
    },
    "tags": []
   },
   "outputs": [
    {
     "data": {
      "application/javascript": [
       "parent.postMessage({\"jupyterEvent\": \"custom.exercise_interaction\", \"data\": {\"interactionType\": 3, \"questionType\": 4, \"questionId\": \"4.2_ThinkBlueReg\", \"learnToolsVersion\": \"0.3.4\", \"valueTowardsCompletion\": 0.0, \"failureMessage\": \"\", \"exceptionClass\": \"\", \"trace\": \"\", \"outcomeType\": 4}}, \"*\")"
      ],
      "text/plain": [
       "<IPython.core.display.Javascript object>"
      ]
     },
     "metadata": {},
     "output_type": "display_data"
    },
    {
     "data": {
      "text/markdown": [
       "<span style=\"color:#33cc99\">Solution:</span> Since the regression line has a slightly positive slope, this tells us that there is a slightly positive correlation between `'winpercent'` and `'sugarpercent'`. Thus, people have a slight preference for candies containing relatively more sugar."
      ],
      "text/plain": [
       "Solution: Since the regression line has a slightly positive slope, this tells us that there is a slightly positive correlation between `'winpercent'` and `'sugarpercent'`. Thus, people have a slight preference for candies containing relatively more sugar."
      ]
     },
     "metadata": {},
     "output_type": "display_data"
    }
   ],
   "source": [
    "# Check your answer (Run this code cell to receive credit!)\n",
    "step_4.b.solution()"
   ]
  },
  {
   "cell_type": "markdown",
   "id": "f7ed7e62",
   "metadata": {
    "papermill": {
     "duration": 0.037875,
     "end_time": "2021-08-23T11:03:04.119630",
     "exception": false,
     "start_time": "2021-08-23T11:03:04.081755",
     "status": "completed"
    },
    "tags": []
   },
   "source": [
    "## Step 5: Chocolate!\n",
    "\n",
    "In the code cell below, create a scatter plot to show the relationship between `'pricepercent'` (on the horizontal x-axis) and `'winpercent'` (on the vertical y-axis). Use the `'chocolate'` column to color-code the points.  _Don't add any regression lines just yet -- you'll do that in the next step!_"
   ]
  },
  {
   "cell_type": "code",
   "execution_count": 16,
   "id": "bab8afd2",
   "metadata": {
    "execution": {
     "iopub.execute_input": "2021-08-23T11:03:04.216071Z",
     "iopub.status.busy": "2021-08-23T11:03:04.215374Z",
     "iopub.status.idle": "2021-08-23T11:03:04.462823Z",
     "shell.execute_reply": "2021-08-23T11:03:04.463330Z",
     "shell.execute_reply.started": "2021-08-23T11:02:08.510784Z"
    },
    "papermill": {
     "duration": 0.30547,
     "end_time": "2021-08-23T11:03:04.463515",
     "exception": false,
     "start_time": "2021-08-23T11:03:04.158045",
     "status": "completed"
    },
    "tags": []
   },
   "outputs": [
    {
     "data": {
      "application/javascript": [
       "parent.postMessage({\"jupyterEvent\": \"custom.exercise_interaction\", \"data\": {\"outcomeType\": 1, \"valueTowardsCompletion\": 0.3333333333333333, \"interactionType\": 1, \"questionType\": 2, \"questionId\": \"5_ColorScatter\", \"learnToolsVersion\": \"0.3.4\", \"failureMessage\": \"\", \"exceptionClass\": \"\", \"trace\": \"\"}}, \"*\")"
      ],
      "text/plain": [
       "<IPython.core.display.Javascript object>"
      ]
     },
     "metadata": {},
     "output_type": "display_data"
    },
    {
     "data": {
      "text/markdown": [
       "<span style=\"color:#33cc33\">Correct</span>"
      ],
      "text/plain": [
       "Correct"
      ]
     },
     "metadata": {},
     "output_type": "display_data"
    },
    {
     "data": {
      "image/png": "[encoded data removed]",
      "text/plain": [
       "<Figure size 432x288 with 1 Axes>"
      ]
     },
     "metadata": {
      "needs_background": "light"
     },
     "output_type": "display_data"
    }
   ],
   "source": [
    "# Scatter plot showing the relationship between 'pricepercent', 'winpercent', and 'chocolate'\n",
    "sns.scatterplot(x=candy_data['pricepercent'], y=candy_data['winpercent'], hue=candy_data['chocolate'])\n",
    "\n",
    "# Check your answer\n",
    "step_5.check()"
   ]
  },
  {
   "cell_type": "code",
   "execution_count": 17,
   "id": "3bc10d9e",
   "metadata": {
    "execution": {
     "iopub.execute_input": "2021-08-23T11:03:04.548643Z",
     "iopub.status.busy": "2021-08-23T11:03:04.547972Z",
     "iopub.status.idle": "2021-08-23T11:03:04.551073Z",
     "shell.execute_reply": "2021-08-23T11:03:04.551582Z",
     "shell.execute_reply.started": "2021-08-23T11:02:08.811810Z"
    },
    "papermill": {
     "duration": 0.047446,
     "end_time": "2021-08-23T11:03:04.551755",
     "exception": false,
     "start_time": "2021-08-23T11:03:04.504309",
     "status": "completed"
    },
    "tags": []
   },
   "outputs": [],
   "source": [
    "# Lines below will give you a hint or solution code\n",
    "#step_5.hint()\n",
    "#step_5.solution_plot()"
   ]
  },
  {
   "cell_type": "markdown",
   "id": "16c2112c",
   "metadata": {
    "papermill": {
     "duration": 0.040965,
     "end_time": "2021-08-23T11:03:04.633614",
     "exception": false,
     "start_time": "2021-08-23T11:03:04.592649",
     "status": "completed"
    },
    "tags": []
   },
   "source": [
    "Can you see any interesting patterns in the scatter plot?  We'll investigate this plot further  by adding regression lines in the next step!\n",
    "\n",
    "## Step 6: Investigate chocolate\n",
    "\n",
    "#### Part A\n",
    "\n",
    "Create the same scatter plot you created in **Step 5**, but now with two regression lines, corresponding to (1) chocolate candies and (2) candies without chocolate."
   ]
  },
  {
   "cell_type": "code",
   "execution_count": 18,
   "id": "b8a7a4aa",
   "metadata": {
    "execution": {
     "iopub.execute_input": "2021-08-23T11:03:04.719350Z",
     "iopub.status.busy": "2021-08-23T11:03:04.718648Z",
     "iopub.status.idle": "2021-08-23T11:03:05.312824Z",
     "shell.execute_reply": "2021-08-23T11:03:05.313381Z",
     "shell.execute_reply.started": "2021-08-23T11:02:08.818160Z"
    },
    "papermill": {
     "duration": 0.637576,
     "end_time": "2021-08-23T11:03:05.313558",
     "exception": false,
     "start_time": "2021-08-23T11:03:04.675982",
     "status": "completed"
    },
    "tags": []
   },
   "outputs": [
    {
     "data": {
      "application/javascript": [
       "parent.postMessage({\"jupyterEvent\": \"custom.exercise_interaction\", \"data\": {\"outcomeType\": 1, \"valueTowardsCompletion\": 0.3333333333333333, \"interactionType\": 1, \"questionType\": 2, \"questionId\": \"6.1_PlotColorReg\", \"learnToolsVersion\": \"0.3.4\", \"failureMessage\": \"\", \"exceptionClass\": \"\", \"trace\": \"\"}}, \"*\")"
      ],
      "text/plain": [
       "<IPython.core.display.Javascript object>"
      ]
     },
     "metadata": {},
     "output_type": "display_data"
    },
    {
     "data": {
      "text/markdown": [
       "<span style=\"color:#33cc33\">Correct</span>"
      ],
      "text/plain": [
       "Correct"
      ]
     },
     "metadata": {},
     "output_type": "display_data"
    },
    {
     "data": {
      "image/png": "[encoded data removed]",
      "text/plain": [
       "<Figure size 416.375x360 with 1 Axes>"
      ]
     },
     "metadata": {
      "needs_background": "light"
     },
     "output_type": "display_data"
    }
   ],
   "source": [
    "# Color-coded scatter plot w/ regression lines\n",
    "sns.lmplot(x=\"pricepercent\", y=\"winpercent\", hue=\"chocolate\", data=candy_data)\n",
    "\n",
    "# Check your answer\n",
    "step_6.a.check()"
   ]
  },
  {
   "cell_type": "code",
   "execution_count": 19,
   "id": "aeb52ef5",
   "metadata": {
    "execution": {
     "iopub.execute_input": "2021-08-23T11:03:05.400593Z",
     "iopub.status.busy": "2021-08-23T11:03:05.399937Z",
     "iopub.status.idle": "2021-08-23T11:03:05.403170Z",
     "shell.execute_reply": "2021-08-23T11:03:05.403660Z",
     "shell.execute_reply.started": "2021-08-23T11:02:09.507517Z"
    },
    "papermill": {
     "duration": 0.048202,
     "end_time": "2021-08-23T11:03:05.403862",
     "exception": false,
     "start_time": "2021-08-23T11:03:05.355660",
     "status": "completed"
    },
    "tags": []
   },
   "outputs": [],
   "source": [
    "# Lines below will give you a hint or solution code\n",
    "#step_6.a.hint()\n",
    "#step_6.a.solution_plot()"
   ]
  },
  {
   "cell_type": "markdown",
   "id": "f23746e8",
   "metadata": {
    "papermill": {
     "duration": 0.041192,
     "end_time": "2021-08-23T11:03:05.487779",
     "exception": false,
     "start_time": "2021-08-23T11:03:05.446587",
     "status": "completed"
    },
    "tags": []
   },
   "source": [
    "#### Part B\n",
    "\n",
    "Using the regression lines, what conclusions can you draw about the effects of chocolate and price on candy popularity?"
   ]
  },
  {
   "cell_type": "code",
   "execution_count": 20,
   "id": "234a495b",
   "metadata": {
    "execution": {
     "iopub.execute_input": "2021-08-23T11:03:05.575035Z",
     "iopub.status.busy": "2021-08-23T11:03:05.574364Z",
     "iopub.status.idle": "2021-08-23T11:03:05.577325Z",
     "shell.execute_reply": "2021-08-23T11:03:05.577861Z",
     "shell.execute_reply.started": "2021-08-23T11:02:09.513485Z"
    },
    "papermill": {
     "duration": 0.048521,
     "end_time": "2021-08-23T11:03:05.578036",
     "exception": false,
     "start_time": "2021-08-23T11:03:05.529515",
     "status": "completed"
    },
    "tags": []
   },
   "outputs": [],
   "source": [
    "#step_6.b.hint()"
   ]
  },
  {
   "cell_type": "code",
   "execution_count": 21,
   "id": "2d841c16",
   "metadata": {
    "execution": {
     "iopub.execute_input": "2021-08-23T11:03:05.668385Z",
     "iopub.status.busy": "2021-08-23T11:03:05.667645Z",
     "iopub.status.idle": "2021-08-23T11:03:05.674103Z",
     "shell.execute_reply": "2021-08-23T11:03:05.674588Z",
     "shell.execute_reply.started": "2021-08-23T11:02:09.531281Z"
    },
    "papermill": {
     "duration": 0.053383,
     "end_time": "2021-08-23T11:03:05.674771",
     "exception": false,
     "start_time": "2021-08-23T11:03:05.621388",
     "status": "completed"
    },
    "tags": []
   },
   "outputs": [
    {
     "data": {
      "application/javascript": [
       "parent.postMessage({\"jupyterEvent\": \"custom.exercise_interaction\", \"data\": {\"interactionType\": 3, \"questionType\": 4, \"questionId\": \"6.2_ThinkColorReg\", \"learnToolsVersion\": \"0.3.4\", \"valueTowardsCompletion\": 0.0, \"failureMessage\": \"\", \"exceptionClass\": \"\", \"trace\": \"\", \"outcomeType\": 4}}, \"*\")"
      ],
      "text/plain": [
       "<IPython.core.display.Javascript object>"
      ]
     },
     "metadata": {},
     "output_type": "display_data"
    },
    {
     "data": {
      "text/markdown": [
       "<span style=\"color:#33cc99\">Solution:</span> We'll begin with the regression line for chocolate candies. Since this line has a slightly positive slope, we can say that more expensive chocolate candies tend to be more popular (than relatively cheaper chocolate candies).  Likewise, since the regression line for candies without chocolate has a negative slope, we can say that if candies don't contain chocolate, they tend to be more popular when they are cheaper.  One important note, however, is that the dataset is quite small -- so we shouldn't invest too much trust in these patterns!  To inspire more confidence in the results, we should add more candies to the dataset."
      ],
      "text/plain": [
       "Solution: We'll begin with the regression line for chocolate candies. Since this line has a slightly positive slope, we can say that more expensive chocolate candies tend to be more popular (than relatively cheaper chocolate candies).  Likewise, since the regression line for candies without chocolate has a negative slope, we can say that if candies don't contain chocolate, they tend to be more popular when they are cheaper.  One important note, however, is that the dataset is quite small -- so we shouldn't invest too much trust in these patterns!  To inspire more confidence in the results, we should add more candies to the dataset."
      ]
     },
     "metadata": {},
     "output_type": "display_data"
    }
   ],
   "source": [
    "# Check your answer (Run this code cell to receive credit!)\n",
    "step_6.b.solution()"
   ]
  },
  {
   "cell_type": "markdown",
   "id": "8407c97f",
   "metadata": {
    "papermill": {
     "duration": 0.042425,
     "end_time": "2021-08-23T11:03:05.761337",
     "exception": false,
     "start_time": "2021-08-23T11:03:05.718912",
     "status": "completed"
    },
    "tags": []
   },
   "source": [
    "## Step 7: Everybody loves chocolate.\n",
    "\n",
    "#### Part A\n",
    "\n",
    "Create a categorical scatter plot to highlight the relationship between `'chocolate'` and `'winpercent'`.  Put `'chocolate'` on the (horizontal) x-axis, and `'winpercent'` on the (vertical) y-axis."
   ]
  },
  {
   "cell_type": "code",
   "execution_count": 22,
   "id": "fa0bb43f",
   "metadata": {
    "execution": {
     "iopub.execute_input": "2021-08-23T11:03:05.852500Z",
     "iopub.status.busy": "2021-08-23T11:03:05.851689Z",
     "iopub.status.idle": "2021-08-23T11:03:06.050487Z",
     "shell.execute_reply": "2021-08-23T11:03:06.049948Z",
     "shell.execute_reply.started": "2021-08-23T11:02:09.550225Z"
    },
    "papermill": {
     "duration": 0.24629,
     "end_time": "2021-08-23T11:03:06.050632",
     "exception": false,
     "start_time": "2021-08-23T11:03:05.804342",
     "status": "completed"
    },
    "tags": []
   },
   "outputs": [
    {
     "data": {
      "application/javascript": [
       "parent.postMessage({\"jupyterEvent\": \"custom.exercise_interaction\", \"data\": {\"outcomeType\": 1, \"valueTowardsCompletion\": 0.3333333333333333, \"interactionType\": 1, \"questionType\": 2, \"questionId\": \"7.1_PlotSwarm\", \"learnToolsVersion\": \"0.3.4\", \"failureMessage\": \"\", \"exceptionClass\": \"\", \"trace\": \"\"}}, \"*\")"
      ],
      "text/plain": [
       "<IPython.core.display.Javascript object>"
      ]
     },
     "metadata": {},
     "output_type": "display_data"
    },
    {
     "data": {
      "text/markdown": [
       "<span style=\"color:#33cc33\">Correct</span>"
      ],
      "text/plain": [
       "Correct"
      ]
     },
     "metadata": {},
     "output_type": "display_data"
    },
    {
     "data": {
      "image/png": "[encoded data removed]",
      "text/plain": [
       "<Figure size 432x288 with 1 Axes>"
      ]
     },
     "metadata": {
      "needs_background": "light"
     },
     "output_type": "display_data"
    }
   ],
   "source": [
    "# Scatter plot showing the relationship between 'chocolate' and 'winpercent'\n",
    "sns.swarmplot(x=candy_data['chocolate'], y=candy_data['winpercent'])\n",
    "\n",
    "# Check your answer\n",
    "step_7.a.check()"
   ]
  },
  {
   "cell_type": "code",
   "execution_count": 23,
   "id": "118101ca",
   "metadata": {
    "execution": {
     "iopub.execute_input": "2021-08-23T11:03:06.145235Z",
     "iopub.status.busy": "2021-08-23T11:03:06.144264Z",
     "iopub.status.idle": "2021-08-23T11:03:06.147590Z",
     "shell.execute_reply": "2021-08-23T11:03:06.146958Z",
     "shell.execute_reply.started": "2021-08-23T11:02:09.778748Z"
    },
    "papermill": {
     "duration": 0.051859,
     "end_time": "2021-08-23T11:03:06.147725",
     "exception": false,
     "start_time": "2021-08-23T11:03:06.095866",
     "status": "completed"
    },
    "tags": []
   },
   "outputs": [],
   "source": [
    "# Lines below will give you a hint or solution code\n",
    "#step_7.a.hint()\n",
    "#step_7.a.solution_plot()"
   ]
  },
  {
   "cell_type": "markdown",
   "id": "6895b0b2",
   "metadata": {
    "papermill": {
     "duration": 0.043928,
     "end_time": "2021-08-23T11:03:06.236216",
     "exception": false,
     "start_time": "2021-08-23T11:03:06.192288",
     "status": "completed"
    },
    "tags": []
   },
   "source": [
    "#### Part B\n",
    "\n",
    "You decide to dedicate a section of your report to the fact that chocolate candies tend to be more popular than candies without chocolate.  Which plot is more appropriate to tell this story: the plot from **Step 6**, or the plot from **Step 7**?"
   ]
  },
  {
   "cell_type": "code",
   "execution_count": 24,
   "id": "8451c0ed",
   "metadata": {
    "execution": {
     "iopub.execute_input": "2021-08-23T11:03:06.327977Z",
     "iopub.status.busy": "2021-08-23T11:03:06.327288Z",
     "iopub.status.idle": "2021-08-23T11:03:06.331762Z",
     "shell.execute_reply": "2021-08-23T11:03:06.330968Z",
     "shell.execute_reply.started": "2021-08-23T11:02:09.784261Z"
    },
    "papermill": {
     "duration": 0.051398,
     "end_time": "2021-08-23T11:03:06.331945",
     "exception": false,
     "start_time": "2021-08-23T11:03:06.280547",
     "status": "completed"
    },
    "tags": []
   },
   "outputs": [],
   "source": [
    "#step_7.b.hint()"
   ]
  },
  {
   "cell_type": "code",
   "execution_count": 25,
   "id": "f2c4a128",
   "metadata": {
    "execution": {
     "iopub.execute_input": "2021-08-23T11:03:06.426868Z",
     "iopub.status.busy": "2021-08-23T11:03:06.425988Z",
     "iopub.status.idle": "2021-08-23T11:03:06.432222Z",
     "shell.execute_reply": "2021-08-23T11:03:06.431567Z",
     "shell.execute_reply.started": "2021-08-23T11:02:09.801971Z"
    },
    "papermill": {
     "duration": 0.0554,
     "end_time": "2021-08-23T11:03:06.432363",
     "exception": false,
     "start_time": "2021-08-23T11:03:06.376963",
     "status": "completed"
    },
    "tags": []
   },
   "outputs": [
    {
     "data": {
      "application/javascript": [
       "parent.postMessage({\"jupyterEvent\": \"custom.exercise_interaction\", \"data\": {\"interactionType\": 3, \"questionType\": 4, \"questionId\": \"7.2_ThinkSwarm\", \"learnToolsVersion\": \"0.3.4\", \"valueTowardsCompletion\": 0.0, \"failureMessage\": \"\", \"exceptionClass\": \"\", \"trace\": \"\", \"outcomeType\": 4}}, \"*\")"
      ],
      "text/plain": [
       "<IPython.core.display.Javascript object>"
      ]
     },
     "metadata": {},
     "output_type": "display_data"
    },
    {
     "data": {
      "text/markdown": [
       "<span style=\"color:#33cc99\">Solution:</span> In this case, the categorical scatter plot from **Step 7** is the more appropriate plot. While both plots tell the desired story, the plot from **Step 6** conveys far more information that could distract from the main point."
      ],
      "text/plain": [
       "Solution: In this case, the categorical scatter plot from **Step 7** is the more appropriate plot. While both plots tell the desired story, the plot from **Step 6** conveys far more information that could distract from the main point."
      ]
     },
     "metadata": {},
     "output_type": "display_data"
    }
   ],
   "source": [
    "# Check your answer (Run this code cell to receive credit!)\n",
    "step_7.b.solution()"
   ]
  },
  {
   "cell_type": "markdown",
   "id": "273502ac",
   "metadata": {
    "papermill": {
     "duration": 0.046447,
     "end_time": "2021-08-23T11:03:06.524965",
     "exception": false,
     "start_time": "2021-08-23T11:03:06.478518",
     "status": "completed"
    },
    "tags": []
   },
   "source": [
    "## Keep going\n",
    "\n",
    "Explore **[histograms and density plots](https://www.kaggle.com/alexisbcook/distributions)**."
   ]
  },
  {
   "cell_type": "markdown",
   "id": "0ae4e557",
   "metadata": {
    "papermill": {
     "duration": 0.046726,
     "end_time": "2021-08-23T11:03:06.617596",
     "exception": false,
     "start_time": "2021-08-23T11:03:06.570870",
     "status": "completed"
    },
    "tags": []
   },
   "source": [
    "---\n",
    "\n",
    "\n",
    "\n",
    "\n",
    "*Have questions or comments? Visit the [Learn Discussion forum](https://www.kaggle.com/learn-forum/161291) to chat with other Learners.*"
   ]
  }
 ],
 "metadata": {
  "kernelspec": {
   "display_name": "Python 3",
   "language": "python",
   "name": "python3"
  },
  "language_info": {
   "codemirror_mode": {
    "name": "ipython",
    "version": 3
   },
   "file_extension": ".py",
   "mimetype": "text/x-python",
   "name": "python",
   "nbconvert_exporter": "python",
   "pygments_lexer": "ipython3",
   "version": "3.7.10"
  },
  "papermill": {
   "default_parameters": {},
   "duration": 15.687183,
   "end_time": "2021-08-23T11:03:07.374167",
   "environment_variables": {},
   "exception": null,
   "input_path": "__notebook__.ipynb",
   "output_path": "__notebook__.ipynb",
   "parameters": {},
   "start_time": "2021-08-23T11:02:51.686984",
   "version": "2.3.3"
  }
 },
 "nbformat": 4,
 "nbformat_minor": 5
}
