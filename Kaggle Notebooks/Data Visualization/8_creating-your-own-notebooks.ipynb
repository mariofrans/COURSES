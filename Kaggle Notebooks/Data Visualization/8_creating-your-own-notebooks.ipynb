{
 "cells": [
  {
   "cell_type": "markdown",
   "id": "awful-boutique",
   "metadata": {
    "papermill": {
     "duration": 0.005345,
     "end_time": "2021-06-03T16:35:02.322664",
     "exception": false,
     "start_time": "2021-06-03T16:35:02.317319",
     "status": "completed"
    },
    "tags": []
   },
   "source": [
    "Congratulations for making it to the end of the micro-course!\n",
    "\n",
    "In this final tutorial, you'll learn an efficient workflow that you can use to continue creating your own stunning data visualizations on the Kaggle website."
   ]
  },
  {
   "cell_type": "markdown",
   "id": "limiting-turner",
   "metadata": {
    "papermill": {
     "duration": 0.003955,
     "end_time": "2021-06-03T16:35:02.331351",
     "exception": false,
     "start_time": "2021-06-03T16:35:02.327396",
     "status": "completed"
    },
    "tags": []
   },
   "source": [
    "## Workflow\n",
    "\n",
    "Begin by navigating to the site for Kaggle Notebooks:\n",
    "> https://www.kaggle.com/kernels\n",
    "\n",
    "Then, in the top right corner, click on **[New Notebook]**.\n",
    "\n",
    "![tut7_new_kernel](https://i.imgur.com/qND102B.png)\n",
    "\n",
    "This opens a pop-up window.\n",
    "\n",
    "![tut7_notebook](https://i.imgur.com/1QRsU30.png)\n",
    "\n",
    "Then, click on **[Create]**.  (Don't change the default settings: so, **\"Python\"** should appear under \"Select language\", and you should have **\"Notebook\"** selected under \"Select type\".)\n",
    "\n",
    "This opens a notebook with some default code.  **_Please erase this code, and replace it with the code in the cell below._**  (_This is the same code that you used in all of the exercises to set up your Python environment._)"
   ]
  },
  {
   "cell_type": "code",
   "execution_count": 1,
   "id": "alike-apple",
   "metadata": {
    "execution": {
     "iopub.execute_input": "2021-06-03T16:35:02.349280Z",
     "iopub.status.busy": "2021-06-03T16:35:02.347324Z",
     "iopub.status.idle": "2021-06-03T16:35:03.405345Z",
     "shell.execute_reply": "2021-06-03T16:35:03.404470Z"
    },
    "papermill": {
     "duration": 1.070266,
     "end_time": "2021-06-03T16:35:03.405543",
     "exception": false,
     "start_time": "2021-06-03T16:35:02.335277",
     "status": "completed"
    },
    "tags": []
   },
   "outputs": [
    {
     "name": "stdout",
     "output_type": "stream",
     "text": [
      "Setup Complete\n"
     ]
    }
   ],
   "source": [
    "import pandas as pd\n",
    "pd.plotting.register_matplotlib_converters()\n",
    "import matplotlib.pyplot as plt\n",
    "%matplotlib inline\n",
    "import seaborn as sns\n",
    "print(\"Setup Complete\")"
   ]
  },
  {
   "cell_type": "markdown",
   "id": "alive-zealand",
   "metadata": {
    "papermill": {
     "duration": 0.004342,
     "end_time": "2021-06-03T16:35:03.415217",
     "exception": false,
     "start_time": "2021-06-03T16:35:03.410875",
     "status": "completed"
    },
    "tags": []
   },
   "source": [
    "The next step is to attach a dataset, before writing code to visualize it.  (_You learned how to do that in the previous tutorial._) \n",
    "\n",
    "Then, once you have generated a figure, you need only save it as an image file that you can easily add to your presentations!"
   ]
  },
  {
   "cell_type": "markdown",
   "id": "utility-buyer",
   "metadata": {
    "papermill": {
     "duration": 0.004301,
     "end_time": "2021-06-03T16:35:03.424055",
     "exception": false,
     "start_time": "2021-06-03T16:35:03.419754",
     "status": "completed"
    },
    "tags": []
   },
   "source": [
    "---\n",
    "\n",
    "\n",
    "\n",
    "\n",
    "*Have questions or comments? Visit the [Learn Discussion forum](https://www.kaggle.com/learn-forum/161291) to chat with other Learners.*"
   ]
  }
 ],
 "metadata": {
  "kernelspec": {
   "display_name": "Python 3",
   "language": "python",
   "name": "python3"
  },
  "language_info": {
   "codemirror_mode": {
    "name": "ipython",
    "version": 3
   },
   "file_extension": ".py",
   "mimetype": "text/x-python",
   "name": "python",
   "nbconvert_exporter": "python",
   "pygments_lexer": "ipython3",
   "version": "3.7.9"
  },
  "papermill": {
   "default_parameters": {},
   "duration": 8.805122,
   "end_time": "2021-06-03T16:35:04.341836",
   "environment_variables": {},
   "exception": null,
   "input_path": "__notebook__.ipynb",
   "output_path": "__notebook__.ipynb",
   "parameters": {},
   "start_time": "2021-06-03T16:34:55.536714",
   "version": "2.3.2"
  }
 },
 "nbformat": 4,
 "nbformat_minor": 5
}
