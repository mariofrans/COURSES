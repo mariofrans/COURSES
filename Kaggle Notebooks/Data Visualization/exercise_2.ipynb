{
 "cells": [
  {
   "cell_type": "markdown",
   "id": "c8045737",
   "metadata": {
    "papermill": {
     "duration": 0.020586,
     "end_time": "2021-08-23T09:54:47.392335",
     "exception": false,
     "start_time": "2021-08-23T09:54:47.371749",
     "status": "completed"
    },
    "tags": []
   },
   "source": [
    "**This notebook is an exercise in the [Data Visualization](https://www.kaggle.com/learn/data-visualization) course.  You can reference the tutorial at [this link](https://www.kaggle.com/alexisbcook/line-charts).**\n",
    "\n",
    "---\n"
   ]
  },
  {
   "cell_type": "markdown",
   "id": "238caeee",
   "metadata": {
    "papermill": {
     "duration": 0.019348,
     "end_time": "2021-08-23T09:54:47.431660",
     "exception": false,
     "start_time": "2021-08-23T09:54:47.412312",
     "status": "completed"
    },
    "tags": []
   },
   "source": [
    "In this exercise, you will use your new knowledge to propose a solution to a real-world scenario. To succeed, you will need to import data into Python, answer questions using the data, and generate **line charts** to understand patterns in the data.\n",
    "\n",
    "## Scenario\n",
    "\n",
    "You have recently been hired to manage the museums in the City of Los Angeles. Your first project focuses on the four museums pictured in the images below.\n",
    "\n",
    "![ex1_museums](https://i.imgur.com/pFYL8J1.png)\n",
    "\n",
    "You will leverage data from the Los Angeles [Data Portal](https://data.lacity.org/) that tracks monthly visitors to each museum.  \n",
    "\n",
    "![ex1_xlsx](https://i.imgur.com/mGWYlym.png)\n",
    "\n",
    "## Setup\n",
    "\n",
    "Run the next cell to import and configure the Python libraries that you need to complete the exercise."
   ]
  },
  {
   "cell_type": "code",
   "execution_count": 1,
   "id": "1f97d433",
   "metadata": {
    "execution": {
     "iopub.execute_input": "2021-08-23T09:54:47.472929Z",
     "iopub.status.busy": "2021-08-23T09:54:47.471644Z",
     "iopub.status.idle": "2021-08-23T09:54:48.660347Z",
     "shell.execute_reply": "2021-08-23T09:54:48.659276Z",
     "shell.execute_reply.started": "2021-08-23T09:46:23.586628Z"
    },
    "papermill": {
     "duration": 1.210729,
     "end_time": "2021-08-23T09:54:48.660525",
     "exception": false,
     "start_time": "2021-08-23T09:54:47.449796",
     "status": "completed"
    },
    "tags": []
   },
   "outputs": [
    {
     "name": "stdout",
     "output_type": "stream",
     "text": [
      "Setup Complete\n"
     ]
    }
   ],
   "source": [
    "import pandas as pd\n",
    "pd.plotting.register_matplotlib_converters()\n",
    "import matplotlib.pyplot as plt\n",
    "%matplotlib inline\n",
    "import seaborn as sns\n",
    "print(\"Setup Complete\")"
   ]
  },
  {
   "cell_type": "markdown",
   "id": "f3c52f8e",
   "metadata": {
    "papermill": {
     "duration": 0.018974,
     "end_time": "2021-08-23T09:54:48.697317",
     "exception": false,
     "start_time": "2021-08-23T09:54:48.678343",
     "status": "completed"
    },
    "tags": []
   },
   "source": [
    "The questions below will give you feedback on your work. Run the following cell to set up the feedback system."
   ]
  },
  {
   "cell_type": "code",
   "execution_count": 2,
   "id": "b262c7da",
   "metadata": {
    "execution": {
     "iopub.execute_input": "2021-08-23T09:54:48.739997Z",
     "iopub.status.busy": "2021-08-23T09:54:48.739074Z",
     "iopub.status.idle": "2021-08-23T09:54:48.825041Z",
     "shell.execute_reply": "2021-08-23T09:54:48.825608Z",
     "shell.execute_reply.started": "2021-08-23T09:46:26.559712Z"
    },
    "papermill": {
     "duration": 0.109417,
     "end_time": "2021-08-23T09:54:48.825812",
     "exception": false,
     "start_time": "2021-08-23T09:54:48.716395",
     "status": "completed"
    },
    "tags": []
   },
   "outputs": [
    {
     "name": "stdout",
     "output_type": "stream",
     "text": [
      "Setup Complete\n"
     ]
    }
   ],
   "source": [
    "# Set up code checking\n",
    "import os\n",
    "if not os.path.exists(\"../input/museum_visitors.csv\"):\n",
    "    os.symlink(\"../input/data-for-datavis/museum_visitors.csv\", \"../input/museum_visitors.csv\") \n",
    "from learntools.core import binder\n",
    "binder.bind(globals())\n",
    "from learntools.data_viz_to_coder.ex2 import *\n",
    "print(\"Setup Complete\")"
   ]
  },
  {
   "cell_type": "markdown",
   "id": "0459fc7e",
   "metadata": {
    "papermill": {
     "duration": 0.019677,
     "end_time": "2021-08-23T09:54:48.866161",
     "exception": false,
     "start_time": "2021-08-23T09:54:48.846484",
     "status": "completed"
    },
    "tags": []
   },
   "source": [
    "## Step 1: Load the data\n",
    "\n",
    "Your first assignment is to read the LA Museum Visitors data file into `museum_data`.  Note that:\n",
    "- The filepath to the dataset is stored as `museum_filepath`.  Please **do not** change the provided value of the filepath.\n",
    "- The name of the column to use as row labels is `\"Date\"`.  (This can be seen in cell A1 when the file is opened in Excel.)\n",
    "\n",
    "To help with this, you may find it useful to revisit some relevant code from the tutorial, which we have pasted below:\n",
    "\n",
    "```python\n",
    "# Path of the file to read\n",
    "spotify_filepath = \"../input/spotify.csv\"\n",
    "\n",
    "# Read the file into a variable spotify_data\n",
    "spotify_data = pd.read_csv(spotify_filepath, index_col=\"Date\", parse_dates=True)\n",
    "```\n",
    "\n",
    "The code you need to write now looks very similar!"
   ]
  },
  {
   "cell_type": "code",
   "execution_count": 3,
   "id": "da8afcaf",
   "metadata": {
    "execution": {
     "iopub.execute_input": "2021-08-23T09:54:48.908398Z",
     "iopub.status.busy": "2021-08-23T09:54:48.907694Z",
     "iopub.status.idle": "2021-08-23T09:54:48.924813Z",
     "shell.execute_reply": "2021-08-23T09:54:48.924132Z",
     "shell.execute_reply.started": "2021-08-23T09:46:32.326003Z"
    },
    "papermill": {
     "duration": 0.04019,
     "end_time": "2021-08-23T09:54:48.924968",
     "exception": false,
     "start_time": "2021-08-23T09:54:48.884778",
     "status": "completed"
    },
    "tags": []
   },
   "outputs": [
    {
     "data": {
      "application/javascript": [
       "parent.postMessage({\"jupyterEvent\": \"custom.exercise_interaction\", \"data\": {\"outcomeType\": 1, \"valueTowardsCompletion\": 0.3333333333333333, \"interactionType\": 1, \"questionType\": 1, \"questionId\": \"1_LoadMuseumData\", \"learnToolsVersion\": \"0.3.4\", \"failureMessage\": \"\", \"exceptionClass\": \"\", \"trace\": \"\"}}, \"*\")"
      ],
      "text/plain": [
       "<IPython.core.display.Javascript object>"
      ]
     },
     "metadata": {},
     "output_type": "display_data"
    },
    {
     "data": {
      "text/markdown": [
       "<span style=\"color:#33cc33\">Correct</span>"
      ],
      "text/plain": [
       "Correct"
      ]
     },
     "metadata": {},
     "output_type": "display_data"
    }
   ],
   "source": [
    "# Path of the file to read\n",
    "museum_filepath = \"../input/museum_visitors.csv\"\n",
    "\n",
    "# Fill in the line below to read the file into a variable museum_data\n",
    "museum_data = pd.read_csv(museum_filepath, index_col='Date', parse_dates=True)\n",
    "\n",
    "# Run the line below with no changes to check that you've loaded the data correctly\n",
    "step_1.check()"
   ]
  },
  {
   "cell_type": "code",
   "execution_count": 4,
   "id": "c63b3630",
   "metadata": {
    "execution": {
     "iopub.execute_input": "2021-08-23T09:54:48.970074Z",
     "iopub.status.busy": "2021-08-23T09:54:48.969198Z",
     "iopub.status.idle": "2021-08-23T09:54:48.973848Z",
     "shell.execute_reply": "2021-08-23T09:54:48.974370Z"
    },
    "papermill": {
     "duration": 0.028115,
     "end_time": "2021-08-23T09:54:48.974566",
     "exception": false,
     "start_time": "2021-08-23T09:54:48.946451",
     "status": "completed"
    },
    "tags": []
   },
   "outputs": [],
   "source": [
    "# Uncomment the line below to receive a hint\n",
    "#step_1.hint()\n",
    "# Uncomment the line below to see the solution\n",
    "#step_1.solution()"
   ]
  },
  {
   "cell_type": "markdown",
   "id": "76f39d61",
   "metadata": {
    "papermill": {
     "duration": 0.020472,
     "end_time": "2021-08-23T09:54:49.014333",
     "exception": false,
     "start_time": "2021-08-23T09:54:48.993861",
     "status": "completed"
    },
    "tags": []
   },
   "source": [
    "## Step 2: Review the data\n",
    "\n",
    "Use a Python command to print the last 5 rows of the data."
   ]
  },
  {
   "cell_type": "code",
   "execution_count": 5,
   "id": "3eadbee7",
   "metadata": {
    "execution": {
     "iopub.execute_input": "2021-08-23T09:54:49.056056Z",
     "iopub.status.busy": "2021-08-23T09:54:49.055393Z",
     "iopub.status.idle": "2021-08-23T09:54:49.074625Z",
     "shell.execute_reply": "2021-08-23T09:54:49.075141Z",
     "shell.execute_reply.started": "2021-08-23T09:46:45.478919Z"
    },
    "papermill": {
     "duration": 0.04224,
     "end_time": "2021-08-23T09:54:49.075418",
     "exception": false,
     "start_time": "2021-08-23T09:54:49.033178",
     "status": "completed"
    },
    "tags": []
   },
   "outputs": [
    {
     "data": {
      "text/html": [
       "<div>\n",
       "<style scoped>\n",
       "    .dataframe tbody tr th:only-of-type {\n",
       "        vertical-align: middle;\n",
       "    }\n",
       "\n",
       "    .dataframe tbody tr th {\n",
       "        vertical-align: top;\n",
       "    }\n",
       "\n",
       "    .dataframe thead th {\n",
       "        text-align: right;\n",
       "    }\n",
       "</style>\n",
       "<table border=\"1\" class=\"dataframe\">\n",
       "  <thead>\n",
       "    <tr style=\"text-align: right;\">\n",
       "      <th></th>\n",
       "      <th>Avila Adobe</th>\n",
       "      <th>Firehouse Museum</th>\n",
       "      <th>Chinese American Museum</th>\n",
       "      <th>America Tropical Interpretive Center</th>\n",
       "    </tr>\n",
       "    <tr>\n",
       "      <th>Date</th>\n",
       "      <th></th>\n",
       "      <th></th>\n",
       "      <th></th>\n",
       "      <th></th>\n",
       "    </tr>\n",
       "  </thead>\n",
       "  <tbody>\n",
       "    <tr>\n",
       "      <th>2018-07-01</th>\n",
       "      <td>23136</td>\n",
       "      <td>4191</td>\n",
       "      <td>2620</td>\n",
       "      <td>4718</td>\n",
       "    </tr>\n",
       "    <tr>\n",
       "      <th>2018-08-01</th>\n",
       "      <td>20815</td>\n",
       "      <td>4866</td>\n",
       "      <td>2409</td>\n",
       "      <td>3891</td>\n",
       "    </tr>\n",
       "    <tr>\n",
       "      <th>2018-09-01</th>\n",
       "      <td>21020</td>\n",
       "      <td>4956</td>\n",
       "      <td>2146</td>\n",
       "      <td>3180</td>\n",
       "    </tr>\n",
       "    <tr>\n",
       "      <th>2018-10-01</th>\n",
       "      <td>19280</td>\n",
       "      <td>4622</td>\n",
       "      <td>2364</td>\n",
       "      <td>3775</td>\n",
       "    </tr>\n",
       "    <tr>\n",
       "      <th>2018-11-01</th>\n",
       "      <td>17163</td>\n",
       "      <td>4082</td>\n",
       "      <td>2385</td>\n",
       "      <td>4562</td>\n",
       "    </tr>\n",
       "  </tbody>\n",
       "</table>\n",
       "</div>"
      ],
      "text/plain": [
       "            Avila Adobe  Firehouse Museum  Chinese American Museum  \\\n",
       "Date                                                                 \n",
       "2018-07-01        23136              4191                     2620   \n",
       "2018-08-01        20815              4866                     2409   \n",
       "2018-09-01        21020              4956                     2146   \n",
       "2018-10-01        19280              4622                     2364   \n",
       "2018-11-01        17163              4082                     2385   \n",
       "\n",
       "            America Tropical Interpretive Center  \n",
       "Date                                              \n",
       "2018-07-01                                  4718  \n",
       "2018-08-01                                  3891  \n",
       "2018-09-01                                  3180  \n",
       "2018-10-01                                  3775  \n",
       "2018-11-01                                  4562  "
      ]
     },
     "execution_count": 5,
     "metadata": {},
     "output_type": "execute_result"
    }
   ],
   "source": [
    "# Print the last five rows of the data \n",
    "museum_data.tail() # Your code here"
   ]
  },
  {
   "cell_type": "markdown",
   "id": "f60440cc",
   "metadata": {
    "papermill": {
     "duration": 0.019698,
     "end_time": "2021-08-23T09:54:49.116372",
     "exception": false,
     "start_time": "2021-08-23T09:54:49.096674",
     "status": "completed"
    },
    "tags": []
   },
   "source": [
    "The last row (for `2018-11-01`) tracks the number of visitors to each museum in November 2018, the next-to-last row (for `2018-10-01`) tracks the number of visitors to each museum in October 2018, _and so on_.\n",
    "\n",
    "Use the last 5 rows of the data to answer the questions below."
   ]
  },
  {
   "cell_type": "code",
   "execution_count": 6,
   "id": "33abeeff",
   "metadata": {
    "execution": {
     "iopub.execute_input": "2021-08-23T09:54:49.162088Z",
     "iopub.status.busy": "2021-08-23T09:54:49.160872Z",
     "iopub.status.idle": "2021-08-23T09:54:49.169185Z",
     "shell.execute_reply": "2021-08-23T09:54:49.167961Z",
     "shell.execute_reply.started": "2021-08-23T09:46:48.858801Z"
    },
    "papermill": {
     "duration": 0.03316,
     "end_time": "2021-08-23T09:54:49.169535",
     "exception": false,
     "start_time": "2021-08-23T09:54:49.136375",
     "status": "completed"
    },
    "tags": []
   },
   "outputs": [
    {
     "data": {
      "application/javascript": [
       "parent.postMessage({\"jupyterEvent\": \"custom.exercise_interaction\", \"data\": {\"outcomeType\": 1, \"valueTowardsCompletion\": 0.3333333333333333, \"interactionType\": 1, \"questionType\": 1, \"questionId\": \"2_ReviewData\", \"learnToolsVersion\": \"0.3.4\", \"failureMessage\": \"\", \"exceptionClass\": \"\", \"trace\": \"\"}}, \"*\")"
      ],
      "text/plain": [
       "<IPython.core.display.Javascript object>"
      ]
     },
     "metadata": {},
     "output_type": "display_data"
    },
    {
     "data": {
      "text/markdown": [
       "<span style=\"color:#33cc33\">Correct</span>"
      ],
      "text/plain": [
       "Correct"
      ]
     },
     "metadata": {},
     "output_type": "display_data"
    }
   ],
   "source": [
    "# Fill in the line below: How many visitors did the Chinese American Museum \n",
    "# receive in July 2018?\n",
    "ca_museum_jul18 = 2620 \n",
    "\n",
    "# Fill in the line below: In October 2018, how many more visitors did Avila \n",
    "# Adobe receive than the Firehouse Museum?\n",
    "avila_oct18 = 19280 - 4622\n",
    "\n",
    "# Check your answers\n",
    "step_2.check()"
   ]
  },
  {
   "cell_type": "code",
   "execution_count": 7,
   "id": "ca545eed",
   "metadata": {
    "execution": {
     "iopub.execute_input": "2021-08-23T09:54:49.221683Z",
     "iopub.status.busy": "2021-08-23T09:54:49.220967Z",
     "iopub.status.idle": "2021-08-23T09:54:49.223402Z",
     "shell.execute_reply": "2021-08-23T09:54:49.223936Z"
    },
    "papermill": {
     "duration": 0.032116,
     "end_time": "2021-08-23T09:54:49.224135",
     "exception": false,
     "start_time": "2021-08-23T09:54:49.192019",
     "status": "completed"
    },
    "tags": []
   },
   "outputs": [],
   "source": [
    "# Lines below will give you a hint or solution code\n",
    "#step_2.hint()\n",
    "#step_2.solution()"
   ]
  },
  {
   "cell_type": "markdown",
   "id": "42293b3a",
   "metadata": {
    "papermill": {
     "duration": 0.024194,
     "end_time": "2021-08-23T09:54:49.270306",
     "exception": false,
     "start_time": "2021-08-23T09:54:49.246112",
     "status": "completed"
    },
    "tags": []
   },
   "source": [
    "## Step 3: Convince the museum board \n",
    "\n",
    "The Firehouse Museum claims they ran an event in 2014 that brought an incredible number of visitors, and that they should get extra budget to run a similar event again.  The other museums think these types of events aren't that important, and budgets should be split purely based on recent visitors on an average day.  \n",
    "\n",
    "To show the museum board how the event compared to regular traffic at each museum, create a line chart that shows how the number of visitors to each museum evolved over time.  Your figure should have four lines (one for each museum).\n",
    "\n",
    "> **(Optional) Note**: If you have some prior experience with plotting figures in Python, you might be familiar with the `plt.show()` command.  If you decide to use this command, please place it **after** the line of code that checks your answer (in this case, place it after `step_3.check()` below) -- otherwise, the checking code will return an error!"
   ]
  },
  {
   "cell_type": "code",
   "execution_count": 8,
   "id": "22b81c7e",
   "metadata": {
    "execution": {
     "iopub.execute_input": "2021-08-23T09:54:49.321459Z",
     "iopub.status.busy": "2021-08-23T09:54:49.320414Z",
     "iopub.status.idle": "2021-08-23T09:54:49.839002Z",
     "shell.execute_reply": "2021-08-23T09:54:49.837931Z",
     "shell.execute_reply.started": "2021-08-23T09:51:17.412220Z"
    },
    "papermill": {
     "duration": 0.54672,
     "end_time": "2021-08-23T09:54:49.839190",
     "exception": false,
     "start_time": "2021-08-23T09:54:49.292470",
     "status": "completed"
    },
    "tags": []
   },
   "outputs": [
    {
     "data": {
      "application/javascript": [
       "parent.postMessage({\"jupyterEvent\": \"custom.exercise_interaction\", \"data\": {\"outcomeType\": 1, \"valueTowardsCompletion\": 0.3333333333333333, \"interactionType\": 1, \"questionType\": 2, \"questionId\": \"3_PlotAll\", \"learnToolsVersion\": \"0.3.4\", \"failureMessage\": \"\", \"exceptionClass\": \"\", \"trace\": \"\"}}, \"*\")"
      ],
      "text/plain": [
       "<IPython.core.display.Javascript object>"
      ]
     },
     "metadata": {},
     "output_type": "display_data"
    },
    {
     "data": {
      "text/markdown": [
       "<span style=\"color:#33cc33\">Correct</span>"
      ],
      "text/plain": [
       "Correct"
      ]
     },
     "metadata": {},
     "output_type": "display_data"
    },
    {
     "data": {
      "image/png": "[encoded data removed]",
      "text/plain": [
       "<Figure size 864x432 with 1 Axes>"
      ]
     },
     "metadata": {
      "needs_background": "light"
     },
     "output_type": "display_data"
    }
   ],
   "source": [
    "plt.figure(figsize=(12,6))\n",
    "sns.lineplot(data=museum_data)\n",
    "\n",
    "# Check your answer\n",
    "step_3.check()"
   ]
  },
  {
   "cell_type": "code",
   "execution_count": 9,
   "id": "19f8a142",
   "metadata": {
    "execution": {
     "iopub.execute_input": "2021-08-23T09:54:49.900637Z",
     "iopub.status.busy": "2021-08-23T09:54:49.899314Z",
     "iopub.status.idle": "2021-08-23T09:54:49.903301Z",
     "shell.execute_reply": "2021-08-23T09:54:49.902044Z",
     "shell.execute_reply.started": "2021-08-23T09:49:39.637749Z"
    },
    "papermill": {
     "duration": 0.036028,
     "end_time": "2021-08-23T09:54:49.903525",
     "exception": false,
     "start_time": "2021-08-23T09:54:49.867497",
     "status": "completed"
    },
    "tags": []
   },
   "outputs": [],
   "source": [
    "# Lines below will give you a hint or solution code\n",
    "#step_3.hint()\n",
    "#step_3.solution_plot()"
   ]
  },
  {
   "cell_type": "markdown",
   "id": "484a55de",
   "metadata": {
    "papermill": {
     "duration": 0.034564,
     "end_time": "2021-08-23T09:54:49.970715",
     "exception": false,
     "start_time": "2021-08-23T09:54:49.936151",
     "status": "completed"
    },
    "tags": []
   },
   "source": [
    "## Step 4: Assess seasonality\n",
    "\n",
    "When meeting with the employees at Avila Adobe, you hear that one major pain point is that the number of museum visitors varies greatly with the seasons, with low seasons (when the employees are perfectly staffed and happy) and also high seasons (when the employees are understaffed and stressed).  You realize that if you can predict these high and low seasons, you can plan ahead to hire some additional seasonal employees to help out with the extra work.\n",
    "\n",
    "#### Part A\n",
    "Create a line chart that shows how the number of visitors to Avila Adobe has evolved over time.  (_If your code returns an error, the first thing that you should check is that you've spelled the name of the column correctly!  You must write the name of the column exactly as it appears in the dataset._)"
   ]
  },
  {
   "cell_type": "code",
   "execution_count": 10,
   "id": "b8173115",
   "metadata": {
    "execution": {
     "iopub.execute_input": "2021-08-23T09:54:50.059288Z",
     "iopub.status.busy": "2021-08-23T09:54:50.058165Z",
     "iopub.status.idle": "2021-08-23T09:54:50.278893Z",
     "shell.execute_reply": "2021-08-23T09:54:50.279436Z",
     "shell.execute_reply.started": "2021-08-23T09:51:53.274356Z"
    },
    "papermill": {
     "duration": 0.280398,
     "end_time": "2021-08-23T09:54:50.279647",
     "exception": false,
     "start_time": "2021-08-23T09:54:49.999249",
     "status": "completed"
    },
    "tags": []
   },
   "outputs": [
    {
     "name": "stdout",
     "output_type": "stream",
     "text": [
      "Thank you for creating a line chart!  To see how your code compares to the official solution, please use the code cell below.\n"
     ]
    },
    {
     "data": {
      "application/javascript": [
       "parent.postMessage({\"jupyterEvent\": \"custom.exercise_interaction\", \"data\": {\"outcomeType\": 1, \"valueTowardsCompletion\": 0.3333333333333333, \"interactionType\": 1, \"questionType\": 2, \"questionId\": \"4.1_PlotAvila\", \"learnToolsVersion\": \"0.3.4\", \"failureMessage\": \"\", \"exceptionClass\": \"\", \"trace\": \"\"}}, \"*\")"
      ],
      "text/plain": [
       "<IPython.core.display.Javascript object>"
      ]
     },
     "metadata": {},
     "output_type": "display_data"
    },
    {
     "data": {
      "text/markdown": [
       "<span style=\"color:#33cc33\">Correct</span>"
      ],
      "text/plain": [
       "Correct"
      ]
     },
     "metadata": {},
     "output_type": "display_data"
    },
    {
     "data": {
      "image/png": "[encoded data removed]",
      "text/plain": [
       "<Figure size 864x432 with 1 Axes>"
      ]
     },
     "metadata": {
      "needs_background": "light"
     },
     "output_type": "display_data"
    }
   ],
   "source": [
    "# Line plot showing the number of visitors to Avila Adobe over time\n",
    "plt.figure(figsize=(12,6))\n",
    "sns.lineplot(data=museum_data['Avila Adobe'])\n",
    "\n",
    "# Check your answer\n",
    "step_4.a.check()"
   ]
  },
  {
   "cell_type": "code",
   "execution_count": 11,
   "id": "63548f60",
   "metadata": {
    "execution": {
     "iopub.execute_input": "2021-08-23T09:54:50.340919Z",
     "iopub.status.busy": "2021-08-23T09:54:50.339911Z",
     "iopub.status.idle": "2021-08-23T09:54:50.343927Z",
     "shell.execute_reply": "2021-08-23T09:54:50.344535Z",
     "shell.execute_reply.started": "2021-08-23T09:52:05.639332Z"
    },
    "papermill": {
     "duration": 0.035978,
     "end_time": "2021-08-23T09:54:50.344746",
     "exception": false,
     "start_time": "2021-08-23T09:54:50.308768",
     "status": "completed"
    },
    "tags": []
   },
   "outputs": [],
   "source": [
    "# Lines below will give you a hint or solution code\n",
    "#step_4.a.hint()\n",
    "#step_4.a.solution_plot()"
   ]
  },
  {
   "cell_type": "markdown",
   "id": "34f1c592",
   "metadata": {
    "papermill": {
     "duration": 0.029048,
     "end_time": "2021-08-23T09:54:50.401190",
     "exception": false,
     "start_time": "2021-08-23T09:54:50.372142",
     "status": "completed"
    },
    "tags": []
   },
   "source": [
    "#### Part B\n",
    "\n",
    "Does Avila Adobe get more visitors:\n",
    "- in September-February (in LA, the fall and winter months), or \n",
    "- in March-August (in LA, the spring and summer)?  \n",
    "\n",
    "Using this information, when should the museum staff additional seasonal employees?"
   ]
  },
  {
   "cell_type": "code",
   "execution_count": 12,
   "id": "eec2b5a8",
   "metadata": {
    "execution": {
     "iopub.execute_input": "2021-08-23T09:54:50.463856Z",
     "iopub.status.busy": "2021-08-23T09:54:50.462453Z",
     "iopub.status.idle": "2021-08-23T09:54:50.468698Z",
     "shell.execute_reply": "2021-08-23T09:54:50.469526Z"
    },
    "papermill": {
     "duration": 0.040162,
     "end_time": "2021-08-23T09:54:50.469771",
     "exception": false,
     "start_time": "2021-08-23T09:54:50.429609",
     "status": "completed"
    },
    "tags": []
   },
   "outputs": [],
   "source": [
    "#step_4.b.hint()"
   ]
  },
  {
   "cell_type": "code",
   "execution_count": 13,
   "id": "8f9deff8",
   "metadata": {
    "execution": {
     "iopub.execute_input": "2021-08-23T09:54:50.533387Z",
     "iopub.status.busy": "2021-08-23T09:54:50.531870Z",
     "iopub.status.idle": "2021-08-23T09:54:50.539558Z",
     "shell.execute_reply": "2021-08-23T09:54:50.540219Z",
     "shell.execute_reply.started": "2021-08-23T09:53:02.623303Z"
    },
    "papermill": {
     "duration": 0.041955,
     "end_time": "2021-08-23T09:54:50.540487",
     "exception": false,
     "start_time": "2021-08-23T09:54:50.498532",
     "status": "completed"
    },
    "tags": []
   },
   "outputs": [
    {
     "data": {
      "application/javascript": [
       "parent.postMessage({\"jupyterEvent\": \"custom.exercise_interaction\", \"data\": {\"interactionType\": 3, \"questionType\": 4, \"questionId\": \"4.2_ThinkAvila\", \"learnToolsVersion\": \"0.3.4\", \"valueTowardsCompletion\": 0.0, \"failureMessage\": \"\", \"exceptionClass\": \"\", \"trace\": \"\", \"outcomeType\": 4}}, \"*\")"
      ],
      "text/plain": [
       "<IPython.core.display.Javascript object>"
      ]
     },
     "metadata": {},
     "output_type": "display_data"
    },
    {
     "data": {
      "text/markdown": [
       "<span style=\"color:#33cc99\">Solution:</span> The line chart generally dips to relatively low values around the early part of each year (in December and January), and reaches its highest values in the middle of the year (especially around May and June).  Thus, Avila Adobe usually gets more visitors in March-August (or the spring and summer months).  With this in mind, Avila Adobe could definitely benefit from hiring more seasonal employees to help with the extra work in March-August (the spring and summer)!"
      ],
      "text/plain": [
       "Solution: The line chart generally dips to relatively low values around the early part of each year (in December and January), and reaches its highest values in the middle of the year (especially around May and June).  Thus, Avila Adobe usually gets more visitors in March-August (or the spring and summer months).  With this in mind, Avila Adobe could definitely benefit from hiring more seasonal employees to help with the extra work in March-August (the spring and summer)!"
      ]
     },
     "metadata": {},
     "output_type": "display_data"
    }
   ],
   "source": [
    "# Check your answer (Run this code cell to receive credit!)\n",
    "step_4.b.solution()"
   ]
  },
  {
   "cell_type": "markdown",
   "id": "5de679f9",
   "metadata": {
    "papermill": {
     "duration": 0.029027,
     "end_time": "2021-08-23T09:54:50.599907",
     "exception": false,
     "start_time": "2021-08-23T09:54:50.570880",
     "status": "completed"
    },
    "tags": []
   },
   "source": [
    "# Keep going\n",
    "\n",
    "Move on to learn about **[bar charts and heatmaps](https://www.kaggle.com/alexisbcook/bar-charts-and-heatmaps)** with a new dataset!"
   ]
  },
  {
   "cell_type": "markdown",
   "id": "68888f78",
   "metadata": {
    "papermill": {
     "duration": 0.028428,
     "end_time": "2021-08-23T09:54:50.660129",
     "exception": false,
     "start_time": "2021-08-23T09:54:50.631701",
     "status": "completed"
    },
    "tags": []
   },
   "source": [
    "---\n",
    "\n",
    "\n",
    "\n",
    "\n",
    "*Have questions or comments? Visit the [Learn Discussion forum](https://www.kaggle.com/learn-forum/161291) to chat with other Learners.*"
   ]
  }
 ],
 "metadata": {
  "kernelspec": {
   "display_name": "Python 3",
   "language": "python",
   "name": "python3"
  },
  "language_info": {
   "codemirror_mode": {
    "name": "ipython",
    "version": 3
   },
   "file_extension": ".py",
   "mimetype": "text/x-python",
   "name": "python",
   "nbconvert_exporter": "python",
   "pygments_lexer": "ipython3",
   "version": "3.7.10"
  },
  "papermill": {
   "default_parameters": {},
   "duration": 15.077795,
   "end_time": "2021-08-23T09:54:52.218158",
   "environment_variables": {},
   "exception": null,
   "input_path": "__notebook__.ipynb",
   "output_path": "__notebook__.ipynb",
   "parameters": {},
   "start_time": "2021-08-23T09:54:37.140363",
   "version": "2.3.3"
  }
 },
 "nbformat": 4,
 "nbformat_minor": 5
}
