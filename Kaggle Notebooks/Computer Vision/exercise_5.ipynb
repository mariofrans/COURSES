{
 "cells": [
  {
   "cell_type": "markdown",
   "id": "8c76da3e",
   "metadata": {
    "papermill": {
     "duration": 0.011795,
     "end_time": "2021-08-23T09:48:47.771298",
     "exception": false,
     "start_time": "2021-08-23T09:48:47.759503",
     "status": "completed"
    },
    "tags": []
   },
   "source": [
    "**This notebook is an exercise in the [Computer Vision](https://www.kaggle.com/learn/computer-vision) course.  You can reference the tutorial at [this link](https://www.kaggle.com/ryanholbrook/custom-convnets).**\n",
    "\n",
    "---\n"
   ]
  },
  {
   "cell_type": "markdown",
   "id": "d328eef8",
   "metadata": {
    "papermill": {
     "duration": 0.010292,
     "end_time": "2021-08-23T09:48:47.792074",
     "exception": false,
     "start_time": "2021-08-23T09:48:47.781782",
     "status": "completed"
    },
    "tags": []
   },
   "source": [
    "# Introduction #\n",
    "\n",
    "In these exercises, you'll build a custom convnet with performance competitive to the VGG16 model from Lesson 1.\n",
    "\n",
    "Get started by running the code cell below."
   ]
  },
  {
   "cell_type": "code",
   "execution_count": 1,
   "id": "ff3c4d1e",
   "metadata": {
    "execution": {
     "iopub.execute_input": "2021-08-23T09:48:47.830581Z",
     "iopub.status.busy": "2021-08-23T09:48:47.829883Z",
     "iopub.status.idle": "2021-08-23T09:48:56.890118Z",
     "shell.execute_reply": "2021-08-23T09:48:56.889553Z",
     "shell.execute_reply.started": "2021-08-23T09:34:28.913438Z"
    },
    "papermill": {
     "duration": 9.087987,
     "end_time": "2021-08-23T09:48:56.890299",
     "exception": false,
     "start_time": "2021-08-23T09:48:47.802312",
     "status": "completed"
    },
    "tags": []
   },
   "outputs": [
    {
     "name": "stdout",
     "output_type": "stream",
     "text": [
      "Found 5117 files belonging to 2 classes.\n",
      "Found 5051 files belonging to 2 classes.\n"
     ]
    }
   ],
   "source": [
    "# Setup feedback system\n",
    "from learntools.core import binder\n",
    "binder.bind(globals())\n",
    "from learntools.computer_vision.ex5 import *\n",
    "\n",
    "# Imports\n",
    "import os, warnings\n",
    "import matplotlib.pyplot as plt\n",
    "from matplotlib import gridspec\n",
    "\n",
    "import numpy as np\n",
    "import tensorflow as tf\n",
    "from tensorflow.keras.preprocessing import image_dataset_from_directory\n",
    "\n",
    "# Reproducability\n",
    "def set_seed(seed=31415):\n",
    "    np.random.seed(seed)\n",
    "    tf.random.set_seed(seed)\n",
    "    os.environ['PYTHONHASHSEED'] = str(seed)\n",
    "    os.environ['TF_DETERMINISTIC_OPS'] = '1'\n",
    "set_seed()\n",
    "\n",
    "# Set Matplotlib defaults\n",
    "plt.rc('figure', autolayout=True)\n",
    "plt.rc('axes', labelweight='bold', labelsize='large',\n",
    "       titleweight='bold', titlesize=18, titlepad=10)\n",
    "plt.rc('image', cmap='magma')\n",
    "warnings.filterwarnings(\"ignore\") # to clean up output cells\n",
    "\n",
    "\n",
    "# Load training and validation sets\n",
    "ds_train_ = image_dataset_from_directory(\n",
    "    '../input/car-or-truck/train',\n",
    "    labels='inferred',\n",
    "    label_mode='binary',\n",
    "    image_size=[128, 128],\n",
    "    interpolation='nearest',\n",
    "    batch_size=64,\n",
    "    shuffle=True,\n",
    ")\n",
    "ds_valid_ = image_dataset_from_directory(\n",
    "    '../input/car-or-truck/valid',\n",
    "    labels='inferred',\n",
    "    label_mode='binary',\n",
    "    image_size=[128, 128],\n",
    "    interpolation='nearest',\n",
    "    batch_size=64,\n",
    "    shuffle=False,\n",
    ")\n",
    "\n",
    "# Data Pipeline\n",
    "def convert_to_float(image, label):\n",
    "    image = tf.image.convert_image_dtype(image, dtype=tf.float32)\n",
    "    return image, label\n",
    "\n",
    "AUTOTUNE = tf.data.experimental.AUTOTUNE\n",
    "ds_train = (\n",
    "    ds_train_\n",
    "    .map(convert_to_float)\n",
    "    .cache()\n",
    "    .prefetch(buffer_size=AUTOTUNE)\n",
    ")\n",
    "ds_valid = (\n",
    "    ds_valid_\n",
    "    .map(convert_to_float)\n",
    "    .cache()\n",
    "    .prefetch(buffer_size=AUTOTUNE)\n",
    ")\n"
   ]
  },
  {
   "cell_type": "markdown",
   "id": "824c188d",
   "metadata": {
    "papermill": {
     "duration": 0.010732,
     "end_time": "2021-08-23T09:48:56.912628",
     "exception": false,
     "start_time": "2021-08-23T09:48:56.901896",
     "status": "completed"
    },
    "tags": []
   },
   "source": [
    "# Design a Convnet #\n",
    "\n",
    "Let's design a convolutional network with a block architecture like we saw in the tutorial. The model from the example had three blocks, each with a single convolutional layer. Its performance on the \"Car or Truck\" problem was okay, but far from what the pretrained VGG16 could achieve. It might be that our simple network lacks the ability to extract sufficiently complex features. We could try improving the model either by adding more blocks or by adding convolutions to the blocks we have.\n",
    "\n",
    "Let's go with the second approach. We'll keep the three block structure, but increase the number of `Conv2D` layer in the second block to two, and in the third block to three.\n",
    "\n",
    "<figure>\n",
    "<!-- <img src=\"./images/2-convmodel-2.png\" width=\"250\" alt=\"Diagram of a convolutional model.\"> -->\n",
    "<img src=\"https://i.imgur.com/Vko6nCK.png\" width=\"250\" alt=\"Diagram of a convolutional model.\">\n",
    "</figure>\n",
    "\n",
    "# 1) Define Model #\n",
    "\n",
    "Given the diagram above, complete the model by defining the layers of the third block."
   ]
  },
  {
   "cell_type": "code",
   "execution_count": 2,
   "id": "bc7d2d69",
   "metadata": {
    "execution": {
     "iopub.execute_input": "2021-08-23T09:48:56.941279Z",
     "iopub.status.busy": "2021-08-23T09:48:56.940747Z",
     "iopub.status.idle": "2021-08-23T09:48:57.032658Z",
     "shell.execute_reply": "2021-08-23T09:48:57.032207Z",
     "shell.execute_reply.started": "2021-08-23T09:34:46.337188Z"
    },
    "lines_to_next_cell": 0,
    "papermill": {
     "duration": 0.109197,
     "end_time": "2021-08-23T09:48:57.032785",
     "exception": false,
     "start_time": "2021-08-23T09:48:56.923588",
     "status": "completed"
    },
    "tags": []
   },
   "outputs": [
    {
     "data": {
      "application/javascript": [
       "parent.postMessage({\"jupyterEvent\": \"custom.exercise_interaction\", \"data\": {\"outcomeType\": 1, \"valueTowardsCompletion\": 0.3333333333333333, \"interactionType\": 1, \"questionType\": 2, \"questionId\": \"1_Q1\", \"learnToolsVersion\": \"0.3.4\", \"failureMessage\": \"\", \"exceptionClass\": \"\", \"trace\": \"\"}}, \"*\")"
      ],
      "text/plain": [
       "<IPython.core.display.Javascript object>"
      ]
     },
     "metadata": {},
     "output_type": "display_data"
    },
    {
     "data": {
      "text/markdown": [
       "<span style=\"color:#33cc33\">Correct</span>"
      ],
      "text/plain": [
       "Correct"
      ]
     },
     "metadata": {},
     "output_type": "display_data"
    }
   ],
   "source": [
    "from tensorflow import keras\n",
    "from tensorflow.keras import layers\n",
    "\n",
    "model = keras.Sequential([\n",
    "    # Block One\n",
    "    layers.Conv2D(filters=32, kernel_size=3, activation='relu', padding='same',\n",
    "                  input_shape=[128, 128, 3]),\n",
    "    layers.MaxPool2D(),\n",
    "\n",
    "    # Block Two\n",
    "    layers.Conv2D(filters=64, kernel_size=3, activation='relu', padding='same'),\n",
    "    layers.MaxPool2D(),\n",
    "\n",
    "    # Block Three\n",
    "    layers.Conv2D(filters=128, kernel_size=3, activation='relu', padding='same'),\n",
    "    layers.Conv2D(filters=128, kernel_size=3, activation='relu', padding='same'),\n",
    "    layers.MaxPool2D(),\n",
    "\n",
    "    # Head\n",
    "    layers.Flatten(),\n",
    "    layers.Dense(6, activation='relu'),\n",
    "    layers.Dropout(0.2),\n",
    "    layers.Dense(1, activation='sigmoid'),\n",
    "])\n",
    "\n",
    "# Check your answer\n",
    "q_1.check()"
   ]
  },
  {
   "cell_type": "code",
   "execution_count": 3,
   "id": "3e7294de",
   "metadata": {
    "execution": {
     "iopub.execute_input": "2021-08-23T09:48:57.059318Z",
     "iopub.status.busy": "2021-08-23T09:48:57.058790Z",
     "iopub.status.idle": "2021-08-23T09:48:57.062507Z",
     "shell.execute_reply": "2021-08-23T09:48:57.062043Z",
     "shell.execute_reply.started": "2021-08-23T09:34:46.478615Z"
    },
    "papermill": {
     "duration": 0.018121,
     "end_time": "2021-08-23T09:48:57.062618",
     "exception": false,
     "start_time": "2021-08-23T09:48:57.044497",
     "status": "completed"
    },
    "tags": []
   },
   "outputs": [],
   "source": [
    "# Lines below will give you a hint or solution code\n",
    "#q_1.hint()\n",
    "#q_1.solution()"
   ]
  },
  {
   "cell_type": "markdown",
   "id": "7eef1da4",
   "metadata": {
    "papermill": {
     "duration": 0.01136,
     "end_time": "2021-08-23T09:48:57.085528",
     "exception": false,
     "start_time": "2021-08-23T09:48:57.074168",
     "status": "completed"
    },
    "tags": []
   },
   "source": [
    "# 2) Compile #\n",
    "\n",
    "To prepare for training, compile the model with an appropriate loss and accuracy metric for the \"Car or Truck\" dataset."
   ]
  },
  {
   "cell_type": "code",
   "execution_count": 4,
   "id": "7b3a86ed",
   "metadata": {
    "execution": {
     "iopub.execute_input": "2021-08-23T09:48:57.118735Z",
     "iopub.status.busy": "2021-08-23T09:48:57.118038Z",
     "iopub.status.idle": "2021-08-23T09:48:57.127770Z",
     "shell.execute_reply": "2021-08-23T09:48:57.128161Z",
     "shell.execute_reply.started": "2021-08-23T09:34:46.489912Z"
    },
    "lines_to_next_cell": 0,
    "papermill": {
     "duration": 0.031208,
     "end_time": "2021-08-23T09:48:57.128293",
     "exception": false,
     "start_time": "2021-08-23T09:48:57.097085",
     "status": "completed"
    },
    "tags": []
   },
   "outputs": [
    {
     "data": {
      "application/javascript": [
       "parent.postMessage({\"jupyterEvent\": \"custom.exercise_interaction\", \"data\": {\"outcomeType\": 1, \"valueTowardsCompletion\": 0.3333333333333333, \"interactionType\": 1, \"questionType\": 2, \"questionId\": \"2_Q2\", \"learnToolsVersion\": \"0.3.4\", \"failureMessage\": \"\", \"exceptionClass\": \"\", \"trace\": \"\"}}, \"*\")"
      ],
      "text/plain": [
       "<IPython.core.display.Javascript object>"
      ]
     },
     "metadata": {},
     "output_type": "display_data"
    },
    {
     "data": {
      "text/markdown": [
       "<span style=\"color:#33cc33\">Correct</span>"
      ],
      "text/plain": [
       "Correct"
      ]
     },
     "metadata": {},
     "output_type": "display_data"
    }
   ],
   "source": [
    "model.compile(\n",
    "    optimizer=tf.keras.optimizers.Adam(epsilon=0.01),\n",
    "    loss='binary_crossentropy',\n",
    "    metrics=['binary_accuracy']\n",
    ")\n",
    "\n",
    "# Check your answer\n",
    "q_2.check()"
   ]
  },
  {
   "cell_type": "code",
   "execution_count": 5,
   "id": "61071286",
   "metadata": {
    "execution": {
     "iopub.execute_input": "2021-08-23T09:48:57.162271Z",
     "iopub.status.busy": "2021-08-23T09:48:57.161484Z",
     "iopub.status.idle": "2021-08-23T09:48:57.169312Z",
     "shell.execute_reply": "2021-08-23T09:48:57.169709Z",
     "shell.execute_reply.started": "2021-08-23T09:34:46.517003Z"
    },
    "lines_to_next_cell": 0,
    "papermill": {
     "duration": 0.029245,
     "end_time": "2021-08-23T09:48:57.169825",
     "exception": false,
     "start_time": "2021-08-23T09:48:57.140580",
     "status": "completed"
    },
    "tags": []
   },
   "outputs": [
    {
     "data": {
      "application/javascript": [
       "parent.postMessage({\"jupyterEvent\": \"custom.exercise_interaction\", \"data\": {\"outcomeType\": 1, \"valueTowardsCompletion\": 0.3333333333333333, \"interactionType\": 1, \"questionType\": 2, \"questionId\": \"2_Q2\", \"learnToolsVersion\": \"0.3.4\", \"failureMessage\": \"\", \"exceptionClass\": \"\", \"trace\": \"\"}}, \"*\")"
      ],
      "text/plain": [
       "<IPython.core.display.Javascript object>"
      ]
     },
     "metadata": {},
     "output_type": "display_data"
    },
    {
     "data": {
      "text/markdown": [
       "<span style=\"color:#33cc33\">Correct</span>"
      ],
      "text/plain": [
       "Correct"
      ]
     },
     "metadata": {},
     "output_type": "display_data"
    }
   ],
   "source": [
    "model.compile(\n",
    "    optimizer=tf.keras.optimizers.Adam(epsilon=0.01),\n",
    "    loss='binary_crossentropy',\n",
    "    metrics=['binary_accuracy'],\n",
    ")\n",
    "q_2.assert_check_passed()"
   ]
  },
  {
   "cell_type": "code",
   "execution_count": 6,
   "id": "1c63ad38",
   "metadata": {
    "execution": {
     "iopub.execute_input": "2021-08-23T09:48:57.198994Z",
     "iopub.status.busy": "2021-08-23T09:48:57.198515Z",
     "iopub.status.idle": "2021-08-23T09:48:57.201918Z",
     "shell.execute_reply": "2021-08-23T09:48:57.202293Z",
     "shell.execute_reply.started": "2021-08-23T09:34:46.540822Z"
    },
    "lines_to_next_cell": 0,
    "papermill": {
     "duration": 0.019524,
     "end_time": "2021-08-23T09:48:57.202411",
     "exception": false,
     "start_time": "2021-08-23T09:48:57.182887",
     "status": "completed"
    },
    "tags": []
   },
   "outputs": [],
   "source": [
    "# Lines below will give you a hint or solution code\n",
    "#q_2.hint()\n",
    "#q_2.solution()"
   ]
  },
  {
   "cell_type": "markdown",
   "id": "ef0ed825",
   "metadata": {
    "papermill": {
     "duration": 0.01296,
     "end_time": "2021-08-23T09:48:57.228588",
     "exception": false,
     "start_time": "2021-08-23T09:48:57.215628",
     "status": "completed"
    },
    "tags": []
   },
   "source": [
    "Finally, let's test the performance of this new model. First run this cell to fit the model to the training set."
   ]
  },
  {
   "cell_type": "code",
   "execution_count": 7,
   "id": "4b92dccd",
   "metadata": {
    "execution": {
     "iopub.execute_input": "2021-08-23T09:48:57.258479Z",
     "iopub.status.busy": "2021-08-23T09:48:57.257980Z",
     "iopub.status.idle": "2021-08-23T09:54:42.188815Z",
     "shell.execute_reply": "2021-08-23T09:54:42.188361Z",
     "shell.execute_reply.started": "2021-08-23T09:42:03.440466Z"
    },
    "papermill": {
     "duration": 344.94716,
     "end_time": "2021-08-23T09:54:42.188942",
     "exception": false,
     "start_time": "2021-08-23T09:48:57.241782",
     "status": "completed"
    },
    "tags": []
   },
   "outputs": [
    {
     "name": "stdout",
     "output_type": "stream",
     "text": [
      "Epoch 1/50\n",
      "80/80 [==============================] - 45s 463ms/step - loss: 0.6879 - binary_accuracy: 0.5587 - val_loss: 0.6691 - val_binary_accuracy: 0.5785\n",
      "Epoch 2/50\n",
      "80/80 [==============================] - 6s 76ms/step - loss: 0.6676 - binary_accuracy: 0.5748 - val_loss: 0.6612 - val_binary_accuracy: 0.5785\n",
      "Epoch 3/50\n",
      "80/80 [==============================] - 6s 76ms/step - loss: 0.6643 - binary_accuracy: 0.5748 - val_loss: 0.6507 - val_binary_accuracy: 0.5785\n",
      "Epoch 4/50\n",
      "80/80 [==============================] - 6s 76ms/step - loss: 0.6545 - binary_accuracy: 0.5748 - val_loss: 0.6442 - val_binary_accuracy: 0.5785\n",
      "Epoch 5/50\n",
      "80/80 [==============================] - 6s 77ms/step - loss: 0.6521 - binary_accuracy: 0.5827 - val_loss: 0.6399 - val_binary_accuracy: 0.5937\n",
      "Epoch 6/50\n",
      "80/80 [==============================] - 6s 77ms/step - loss: 0.6414 - binary_accuracy: 0.6210 - val_loss: 0.6360 - val_binary_accuracy: 0.5916\n",
      "Epoch 7/50\n",
      "80/80 [==============================] - 6s 76ms/step - loss: 0.6421 - binary_accuracy: 0.6186 - val_loss: 0.6363 - val_binary_accuracy: 0.6015\n",
      "Epoch 8/50\n",
      "80/80 [==============================] - 6s 77ms/step - loss: 0.6332 - binary_accuracy: 0.6425 - val_loss: 0.6209 - val_binary_accuracy: 0.6409\n",
      "Epoch 9/50\n",
      "80/80 [==============================] - 6s 77ms/step - loss: 0.6315 - binary_accuracy: 0.6495 - val_loss: 0.6149 - val_binary_accuracy: 0.6541\n",
      "Epoch 10/50\n",
      "80/80 [==============================] - 6s 77ms/step - loss: 0.6243 - binary_accuracy: 0.6612 - val_loss: 0.6007 - val_binary_accuracy: 0.6721\n",
      "Epoch 11/50\n",
      "80/80 [==============================] - 6s 76ms/step - loss: 0.6133 - binary_accuracy: 0.6610 - val_loss: 0.5898 - val_binary_accuracy: 0.6858\n",
      "Epoch 12/50\n",
      "80/80 [==============================] - 6s 76ms/step - loss: 0.6009 - binary_accuracy: 0.6740 - val_loss: 0.5817 - val_binary_accuracy: 0.6925\n",
      "Epoch 13/50\n",
      "80/80 [==============================] - 6s 76ms/step - loss: 0.5822 - binary_accuracy: 0.6943 - val_loss: 0.5700 - val_binary_accuracy: 0.7056\n",
      "Epoch 14/50\n",
      "80/80 [==============================] - 6s 76ms/step - loss: 0.5675 - binary_accuracy: 0.7193 - val_loss: 0.5804 - val_binary_accuracy: 0.6840\n",
      "Epoch 15/50\n",
      "80/80 [==============================] - 6s 77ms/step - loss: 0.5572 - binary_accuracy: 0.7263 - val_loss: 0.5422 - val_binary_accuracy: 0.7302\n",
      "Epoch 16/50\n",
      "80/80 [==============================] - 6s 76ms/step - loss: 0.5407 - binary_accuracy: 0.7321 - val_loss: 0.5456 - val_binary_accuracy: 0.7167\n",
      "Epoch 17/50\n",
      "80/80 [==============================] - 6s 76ms/step - loss: 0.5187 - binary_accuracy: 0.7456 - val_loss: 0.5105 - val_binary_accuracy: 0.7519\n",
      "Epoch 18/50\n",
      "80/80 [==============================] - 6s 77ms/step - loss: 0.4826 - binary_accuracy: 0.7774 - val_loss: 0.4833 - val_binary_accuracy: 0.7699\n",
      "Epoch 19/50\n",
      "80/80 [==============================] - 6s 76ms/step - loss: 0.4453 - binary_accuracy: 0.7921 - val_loss: 0.4720 - val_binary_accuracy: 0.7715\n",
      "Epoch 20/50\n",
      "80/80 [==============================] - 6s 76ms/step - loss: 0.4324 - binary_accuracy: 0.8060 - val_loss: 0.4533 - val_binary_accuracy: 0.7945\n",
      "Epoch 21/50\n",
      "80/80 [==============================] - 6s 77ms/step - loss: 0.3990 - binary_accuracy: 0.8222 - val_loss: 0.4948 - val_binary_accuracy: 0.7480\n",
      "Epoch 22/50\n",
      "80/80 [==============================] - 6s 77ms/step - loss: 0.4015 - binary_accuracy: 0.8150 - val_loss: 0.4351 - val_binary_accuracy: 0.8119\n",
      "Epoch 23/50\n",
      "80/80 [==============================] - 6s 76ms/step - loss: 0.3386 - binary_accuracy: 0.8561 - val_loss: 0.4578 - val_binary_accuracy: 0.8089\n",
      "Epoch 24/50\n",
      "80/80 [==============================] - 6s 76ms/step - loss: 0.3290 - binary_accuracy: 0.8603 - val_loss: 0.4348 - val_binary_accuracy: 0.8115\n",
      "Epoch 25/50\n",
      "80/80 [==============================] - 6s 76ms/step - loss: 0.3042 - binary_accuracy: 0.8678 - val_loss: 0.4261 - val_binary_accuracy: 0.8169\n",
      "Epoch 26/50\n",
      "80/80 [==============================] - 6s 77ms/step - loss: 0.2754 - binary_accuracy: 0.8882 - val_loss: 0.4309 - val_binary_accuracy: 0.8291\n",
      "Epoch 27/50\n",
      "80/80 [==============================] - 6s 77ms/step - loss: 0.2635 - binary_accuracy: 0.8909 - val_loss: 0.4943 - val_binary_accuracy: 0.7779\n",
      "Epoch 28/50\n",
      "80/80 [==============================] - 6s 76ms/step - loss: 0.2741 - binary_accuracy: 0.8753 - val_loss: 0.6631 - val_binary_accuracy: 0.7563\n",
      "Epoch 29/50\n",
      "80/80 [==============================] - 6s 76ms/step - loss: 0.2633 - binary_accuracy: 0.8783 - val_loss: 0.4618 - val_binary_accuracy: 0.8297\n",
      "Epoch 30/50\n",
      "80/80 [==============================] - 6s 76ms/step - loss: 0.2419 - binary_accuracy: 0.8984 - val_loss: 0.4297 - val_binary_accuracy: 0.8309\n",
      "Epoch 31/50\n",
      "80/80 [==============================] - 6s 77ms/step - loss: 0.2037 - binary_accuracy: 0.9226 - val_loss: 0.4845 - val_binary_accuracy: 0.8230\n",
      "Epoch 32/50\n",
      "80/80 [==============================] - 6s 76ms/step - loss: 0.2065 - binary_accuracy: 0.9137 - val_loss: 0.5237 - val_binary_accuracy: 0.8291\n",
      "Epoch 33/50\n",
      "80/80 [==============================] - 6s 76ms/step - loss: 0.1956 - binary_accuracy: 0.9132 - val_loss: 0.5165 - val_binary_accuracy: 0.8192\n",
      "Epoch 34/50\n",
      "80/80 [==============================] - 6s 76ms/step - loss: 0.1728 - binary_accuracy: 0.9233 - val_loss: 0.5961 - val_binary_accuracy: 0.8206\n",
      "Epoch 35/50\n",
      "80/80 [==============================] - 6s 76ms/step - loss: 0.1551 - binary_accuracy: 0.9383 - val_loss: 0.6330 - val_binary_accuracy: 0.8155\n",
      "Epoch 36/50\n",
      "80/80 [==============================] - 6s 76ms/step - loss: 0.1411 - binary_accuracy: 0.9415 - val_loss: 0.5595 - val_binary_accuracy: 0.8202\n",
      "Epoch 37/50\n",
      "80/80 [==============================] - 6s 77ms/step - loss: 0.1399 - binary_accuracy: 0.9427 - val_loss: 0.5769 - val_binary_accuracy: 0.8289\n",
      "Epoch 38/50\n",
      "80/80 [==============================] - 6s 76ms/step - loss: 0.1359 - binary_accuracy: 0.9434 - val_loss: 0.5823 - val_binary_accuracy: 0.8327\n",
      "Epoch 39/50\n",
      "80/80 [==============================] - 6s 76ms/step - loss: 0.1054 - binary_accuracy: 0.9563 - val_loss: 0.7453 - val_binary_accuracy: 0.8095\n",
      "Epoch 40/50\n",
      "80/80 [==============================] - 6s 76ms/step - loss: 0.1157 - binary_accuracy: 0.9516 - val_loss: 0.5446 - val_binary_accuracy: 0.8452\n",
      "Epoch 41/50\n",
      "80/80 [==============================] - 6s 76ms/step - loss: 0.1002 - binary_accuracy: 0.9611 - val_loss: 0.5025 - val_binary_accuracy: 0.8418\n",
      "Epoch 42/50\n",
      "80/80 [==============================] - 6s 79ms/step - loss: 0.1031 - binary_accuracy: 0.9594 - val_loss: 0.5377 - val_binary_accuracy: 0.8430\n",
      "Epoch 43/50\n",
      "80/80 [==============================] - 6s 76ms/step - loss: 0.1029 - binary_accuracy: 0.9622 - val_loss: 0.5112 - val_binary_accuracy: 0.8446\n",
      "Epoch 44/50\n",
      "80/80 [==============================] - 6s 76ms/step - loss: 0.0867 - binary_accuracy: 0.9683 - val_loss: 0.4661 - val_binary_accuracy: 0.8339\n",
      "Epoch 45/50\n",
      "80/80 [==============================] - 6s 77ms/step - loss: 0.1015 - binary_accuracy: 0.9654 - val_loss: 0.6772 - val_binary_accuracy: 0.8060\n",
      "Epoch 46/50\n",
      "80/80 [==============================] - 6s 76ms/step - loss: 0.0949 - binary_accuracy: 0.9630 - val_loss: 0.6116 - val_binary_accuracy: 0.8163\n",
      "Epoch 47/50\n",
      "80/80 [==============================] - 6s 81ms/step - loss: 0.0859 - binary_accuracy: 0.9646 - val_loss: 0.6467 - val_binary_accuracy: 0.8093\n",
      "Epoch 48/50\n",
      "80/80 [==============================] - 6s 76ms/step - loss: 0.0856 - binary_accuracy: 0.9666 - val_loss: 0.6752 - val_binary_accuracy: 0.8317\n",
      "Epoch 49/50\n",
      "80/80 [==============================] - 6s 76ms/step - loss: 0.0764 - binary_accuracy: 0.9718 - val_loss: 0.6636 - val_binary_accuracy: 0.8412\n",
      "Epoch 50/50\n",
      "80/80 [==============================] - 6s 76ms/step - loss: 0.0593 - binary_accuracy: 0.9784 - val_loss: 0.6821 - val_binary_accuracy: 0.8489\n"
     ]
    }
   ],
   "source": [
    "history = model.fit(\n",
    "    ds_train,\n",
    "    validation_data=ds_valid,\n",
    "    epochs=50,\n",
    ")"
   ]
  },
  {
   "cell_type": "markdown",
   "id": "5cba4c86",
   "metadata": {
    "papermill": {
     "duration": 1.265464,
     "end_time": "2021-08-23T09:54:44.496932",
     "exception": false,
     "start_time": "2021-08-23T09:54:43.231468",
     "status": "completed"
    },
    "tags": []
   },
   "source": [
    "And now run the cell below to plot the loss and metric curves for this training run."
   ]
  },
  {
   "cell_type": "code",
   "execution_count": 8,
   "id": "661e6234",
   "metadata": {
    "execution": {
     "iopub.execute_input": "2021-08-23T09:54:46.606992Z",
     "iopub.status.busy": "2021-08-23T09:54:46.606216Z",
     "iopub.status.idle": "2021-08-23T09:54:47.300154Z",
     "shell.execute_reply": "2021-08-23T09:54:47.299685Z",
     "shell.execute_reply.started": "2021-08-23T09:47:08.017929Z"
    },
    "papermill": {
     "duration": 1.764676,
     "end_time": "2021-08-23T09:54:47.300286",
     "exception": false,
     "start_time": "2021-08-23T09:54:45.535610",
     "status": "completed"
    },
    "tags": []
   },
   "outputs": [
    {
     "data": {
      "image/png": "[encoded data removed]",
      "text/plain": [
       "<Figure size 432x288 with 1 Axes>"
      ]
     },
     "metadata": {
      "needs_background": "light"
     },
     "output_type": "display_data"
    },
    {
     "data": {
      "image/png": "[encoded data removed]",
      "text/plain": [
       "<Figure size 432x288 with 1 Axes>"
      ]
     },
     "metadata": {
      "needs_background": "light"
     },
     "output_type": "display_data"
    }
   ],
   "source": [
    "import pandas as pd\n",
    "history_frame = pd.DataFrame(history.history)\n",
    "history_frame.loc[:, ['loss', 'val_loss']].plot()\n",
    "history_frame.loc[:, ['binary_accuracy', 'val_binary_accuracy']].plot();"
   ]
  },
  {
   "cell_type": "markdown",
   "id": "0cbb625d",
   "metadata": {
    "papermill": {
     "duration": 1.046662,
     "end_time": "2021-08-23T09:54:49.427227",
     "exception": false,
     "start_time": "2021-08-23T09:54:48.380565",
     "status": "completed"
    },
    "tags": []
   },
   "source": [
    "# 3) Train the Model #\n",
    "\n",
    "How would you interpret these training curves? Did this model improve upon the model from the tutorial?"
   ]
  },
  {
   "cell_type": "code",
   "execution_count": 9,
   "id": "37bb481e",
   "metadata": {
    "execution": {
     "iopub.execute_input": "2021-08-23T09:54:51.522917Z",
     "iopub.status.busy": "2021-08-23T09:54:51.521637Z",
     "iopub.status.idle": "2021-08-23T09:54:51.527200Z",
     "shell.execute_reply": "2021-08-23T09:54:51.526750Z",
     "shell.execute_reply.started": "2021-08-23T09:47:08.619835Z"
    },
    "lines_to_next_cell": 0,
    "papermill": {
     "duration": 1.046929,
     "end_time": "2021-08-23T09:54:51.527400",
     "exception": false,
     "start_time": "2021-08-23T09:54:50.480471",
     "status": "completed"
    },
    "tags": []
   },
   "outputs": [
    {
     "data": {
      "application/javascript": [
       "parent.postMessage({\"jupyterEvent\": \"custom.exercise_interaction\", \"data\": {\"outcomeType\": 1, \"valueTowardsCompletion\": 0.3333333333333333, \"interactionType\": 1, \"questionType\": 4, \"questionId\": \"3_Q3\", \"learnToolsVersion\": \"0.3.4\", \"failureMessage\": \"\", \"exceptionClass\": \"\", \"trace\": \"\"}}, \"*\")"
      ],
      "text/plain": [
       "<IPython.core.display.Javascript object>"
      ]
     },
     "metadata": {},
     "output_type": "display_data"
    },
    {
     "data": {
      "text/markdown": [
       "<span style=\"color:#33cc33\">Correct:</span> \n",
       "\n",
       "\n",
       "The learning curves for the model from the tutorial diverged fairly rapidly. This would indicate that it was prone to overfitting and in need of some regularization. The additional layer in our new model would make it even more prone to overfitting. However, adding some regularization with the `Dropout` layer helped prevent this. These changes improved the validation accuracy of the model by several points.\n"
      ],
      "text/plain": [
       "Correct: \n",
       "\n",
       "\n",
       "The learning curves for the model from the tutorial diverged fairly rapidly. This would indicate that it was prone to overfitting and in need of some regularization. The additional layer in our new model would make it even more prone to overfitting. However, adding some regularization with the `Dropout` layer helped prevent this. These changes improved the validation accuracy of the model by several points."
      ]
     },
     "metadata": {},
     "output_type": "display_data"
    }
   ],
   "source": [
    "# View the solution (Run this code cell to receive credit!)\n",
    "q_3.check()"
   ]
  },
  {
   "cell_type": "markdown",
   "id": "2e9a5fb1",
   "metadata": {
    "papermill": {
     "duration": 1.036592,
     "end_time": "2021-08-23T09:54:53.603533",
     "exception": false,
     "start_time": "2021-08-23T09:54:52.566941",
     "status": "completed"
    },
    "tags": []
   },
   "source": [
    "# Conclusion #\n",
    "\n",
    "These exercises showed you how to design a custom convolutional network to solve a specific classification problem. Though most models these days will be built on top of a pretrained base, it certain circumstances a smaller custom convnet might still be preferable -- such as with a smaller or unusual dataset or when computing resources are very limited. As you saw here, for certain problems they can perform just as well as a pretrained model.\n",
    "\n",
    "# Keep Going #\n",
    "\n",
    "Continue on to [**Lesson 6**](https://www.kaggle.com/ryanholbrook/data-augmentation), where you'll learn a widely-used technique that can give a boost to your training data: **data augmentation**."
   ]
  },
  {
   "cell_type": "markdown",
   "id": "fcf9ca99",
   "metadata": {
    "papermill": {
     "duration": 1.604566,
     "end_time": "2021-08-23T09:54:56.513944",
     "exception": false,
     "start_time": "2021-08-23T09:54:54.909378",
     "status": "completed"
    },
    "tags": []
   },
   "source": [
    "---\n",
    "\n",
    "\n",
    "\n",
    "\n",
    "*Have questions or comments? Visit the [Learn Discussion forum](https://www.kaggle.com/learn-forum/196537) to chat with other Learners.*"
   ]
  }
 ],
 "metadata": {
  "kernelspec": {
   "display_name": "Python 3",
   "language": "python",
   "name": "python3"
  },
  "language_info": {
   "codemirror_mode": {
    "name": "ipython",
    "version": 3
   },
   "file_extension": ".py",
   "mimetype": "text/x-python",
   "name": "python",
   "nbconvert_exporter": "python",
   "pygments_lexer": "ipython3",
   "version": "3.7.10"
  },
  "papermill": {
   "default_parameters": {},
   "duration": 377.881097,
   "end_time": "2021-08-23T09:54:59.488277",
   "environment_variables": {},
   "exception": null,
   "input_path": "__notebook__.ipynb",
   "output_path": "__notebook__.ipynb",
   "parameters": {},
   "start_time": "2021-08-23T09:48:41.607180",
   "version": "2.3.3"
  }
 },
 "nbformat": 4,
 "nbformat_minor": 5
}
