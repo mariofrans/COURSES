{
 "cells": [
  {
   "cell_type": "markdown",
   "source": [
    "**This notebook is an exercise in the [Computer Vision](https://www.kaggle.com/learn/computer-vision) course.  You can reference the tutorial at [this link](https://www.kaggle.com/ryanholbrook/the-convolutional-classifier).**\n",
    "\n",
    "---\n"
   ],
   "metadata": {
    "papermill": {
     "duration": 0.016431,
     "end_time": "2021-08-23T06:32:18.992752",
     "exception": false,
     "start_time": "2021-08-23T06:32:18.976321",
     "status": "completed"
    },
    "tags": []
   }
  },
  {
   "cell_type": "markdown",
   "source": [
    "# Introduction #\n",
    "\n",
    "In the tutorial, we saw how to build an image classifier by attaching a head of dense layers to a pretrained base. The base we used was from a model called **VGG16**. We saw that the VGG16 architecture was prone to overfitting this dataset. Over this course, you'll learn a number of ways you can improve upon this initial attempt.\n",
    "\n",
    "The first way you'll see is to use a base more appropriate to the dataset. The base this model comes from is called **InceptionV1** (also known as GoogLeNet). InceptionV1 was one of the early winners of the ImageNet competition. One of its successors, InceptionV4, is among the state of the art today.\n",
    "\n",
    "To get started, run the code cell below to set everything up."
   ],
   "metadata": {
    "papermill": {
     "duration": 0.01412,
     "end_time": "2021-08-23T06:32:19.050598",
     "exception": false,
     "start_time": "2021-08-23T06:32:19.036478",
     "status": "completed"
    },
    "tags": []
   }
  },
  {
   "cell_type": "code",
   "execution_count": 1,
   "source": [
    "# Setup feedback system\n",
    "from learntools.core import binder\n",
    "binder.bind(globals())\n",
    "from learntools.computer_vision.ex1 import *\n",
    "\n",
    "# Imports\n",
    "import os, warnings\n",
    "import matplotlib.pyplot as plt\n",
    "from matplotlib import gridspec\n",
    "\n",
    "import numpy as np\n",
    "import tensorflow as tf\n",
    "from tensorflow.keras.preprocessing import image_dataset_from_directory\n",
    "\n",
    "# Reproducability\n",
    "def set_seed(seed=31415):\n",
    "    np.random.seed(seed)\n",
    "    tf.random.set_seed(seed)\n",
    "    os.environ['PYTHONHASHSEED'] = str(seed)\n",
    "    os.environ['TF_DETERMINISTIC_OPS'] = '1'\n",
    "set_seed()\n",
    "\n",
    "# Set Matplotlib defaults\n",
    "plt.rc('figure', autolayout=True)\n",
    "plt.rc('axes', labelweight='bold', labelsize='large',\n",
    "       titleweight='bold', titlesize=18, titlepad=10)\n",
    "plt.rc('image', cmap='magma')\n",
    "warnings.filterwarnings(\"ignore\") # to clean up output cells\n",
    "\n",
    "\n",
    "# Load training and validation sets\n",
    "ds_train_ = image_dataset_from_directory(\n",
    "    '../input/car-or-truck/train',\n",
    "    labels='inferred',\n",
    "    label_mode='binary',\n",
    "    image_size=[128, 128],\n",
    "    interpolation='nearest',\n",
    "    batch_size=64,\n",
    "    shuffle=True,\n",
    ")\n",
    "ds_valid_ = image_dataset_from_directory(\n",
    "    '../input/car-or-truck/valid',\n",
    "    labels='inferred',\n",
    "    label_mode='binary',\n",
    "    image_size=[128, 128],\n",
    "    interpolation='nearest',\n",
    "    batch_size=64,\n",
    "    shuffle=False,\n",
    ")\n",
    "\n",
    "# Data Pipeline\n",
    "def convert_to_float(image, label):\n",
    "    image = tf.image.convert_image_dtype(image, dtype=tf.float32)\n",
    "    return image, label\n",
    "\n",
    "AUTOTUNE = tf.data.experimental.AUTOTUNE\n",
    "ds_train = (\n",
    "    ds_train_\n",
    "    .map(convert_to_float)\n",
    "    .cache()\n",
    "    .prefetch(buffer_size=AUTOTUNE)\n",
    ")\n",
    "ds_valid = (\n",
    "    ds_valid_\n",
    "    .map(convert_to_float)\n",
    "    .cache()\n",
    "    .prefetch(buffer_size=AUTOTUNE)\n",
    ")\n"
   ],
   "outputs": [
    {
     "output_type": "stream",
     "name": "stdout",
     "text": [
      "Found 5117 files belonging to 2 classes.\n",
      "Found 5051 files belonging to 2 classes.\n"
     ]
    }
   ],
   "metadata": {
    "execution": {
     "iopub.execute_input": "2021-08-23T06:32:19.094601Z",
     "iopub.status.busy": "2021-08-23T06:32:19.093915Z",
     "iopub.status.idle": "2021-08-23T06:32:30.483712Z",
     "shell.execute_reply": "2021-08-23T06:32:30.484218Z",
     "shell.execute_reply.started": "2021-08-23T06:05:03.315562Z"
    },
    "lines_to_next_cell": 2,
    "papermill": {
     "duration": 11.420061,
     "end_time": "2021-08-23T06:32:30.484505",
     "exception": false,
     "start_time": "2021-08-23T06:32:19.064444",
     "status": "completed"
    },
    "tags": []
   }
  },
  {
   "cell_type": "markdown",
   "source": [
    "The **InceptionV1** model pretrained on ImageNet is available in the [TensorFlow Hub](https://www.tensorflow.org/hub/) repository, but we'll load it from a local copy. Run this cell to load InceptionV1 for your base."
   ],
   "metadata": {
    "papermill": {
     "duration": 0.014094,
     "end_time": "2021-08-23T06:32:30.514497",
     "exception": false,
     "start_time": "2021-08-23T06:32:30.500403",
     "status": "completed"
    },
    "tags": []
   }
  },
  {
   "cell_type": "code",
   "execution_count": 2,
   "source": [
    "import tensorflow_hub as hub\n",
    "\n",
    "pretrained_base = tf.keras.models.load_model(\n",
    "    '../input/cv-course-models/cv-course-models/inceptionv1'\n",
    ")"
   ],
   "outputs": [],
   "metadata": {
    "execution": {
     "iopub.execute_input": "2021-08-23T06:32:30.547095Z",
     "iopub.status.busy": "2021-08-23T06:32:30.546558Z",
     "iopub.status.idle": "2021-08-23T06:32:34.741798Z",
     "shell.execute_reply": "2021-08-23T06:32:34.742295Z",
     "shell.execute_reply.started": "2021-08-23T06:05:16.200659Z"
    },
    "lines_to_next_cell": 0,
    "papermill": {
     "duration": 4.2137,
     "end_time": "2021-08-23T06:32:34.742489",
     "exception": false,
     "start_time": "2021-08-23T06:32:30.528789",
     "status": "completed"
    },
    "tags": []
   }
  },
  {
   "cell_type": "markdown",
   "source": [
    "# 1) Define Pretrained Base #\n",
    "\n",
    "Now that you have a pretrained base to do our feature extraction, decide whether this base should be trainable or not."
   ],
   "metadata": {
    "papermill": {
     "duration": 0.014477,
     "end_time": "2021-08-23T06:32:34.772216",
     "exception": false,
     "start_time": "2021-08-23T06:32:34.757739",
     "status": "completed"
    },
    "tags": []
   }
  },
  {
   "cell_type": "code",
   "execution_count": 3,
   "source": [
    "# YOUR_CODE_HERE\n",
    "pretrained_base.trainable = False\n",
    "\n",
    "# Check your answer\n",
    "q_1.check()"
   ],
   "outputs": [
    {
     "output_type": "display_data",
     "data": {
      "text/plain": [
       "<IPython.core.display.Javascript object>"
      ],
      "application/javascript": "parent.postMessage({\"jupyterEvent\": \"custom.exercise_interaction\", \"data\": {\"outcomeType\": 1, \"valueTowardsCompletion\": 0.25, \"interactionType\": 1, \"questionType\": 2, \"questionId\": \"1_Q1\", \"learnToolsVersion\": \"0.3.4\", \"failureMessage\": \"\", \"exceptionClass\": \"\", \"trace\": \"\"}}, \"*\")"
     },
     "metadata": {}
    },
    {
     "output_type": "display_data",
     "data": {
      "text/plain": [
       "Correct: When doing transfer learning, it's generally not a good idea to retrain the entire base -- at least not without some care. The reason is that the random weights in the head will initially create large gradient updates, which propogate back into the base layers and destroy much of the pretraining. Using techniques known as **fine tuning** it's possible to further train the base on new data, but this requires some care to do well."
      ],
      "text/markdown": [
       "<span style=\"color:#33cc33\">Correct:</span> When doing transfer learning, it's generally not a good idea to retrain the entire base -- at least not without some care. The reason is that the random weights in the head will initially create large gradient updates, which propogate back into the base layers and destroy much of the pretraining. Using techniques known as **fine tuning** it's possible to further train the base on new data, but this requires some care to do well."
      ]
     },
     "metadata": {}
    }
   ],
   "metadata": {
    "execution": {
     "iopub.execute_input": "2021-08-23T06:32:34.805415Z",
     "iopub.status.busy": "2021-08-23T06:32:34.804822Z",
     "iopub.status.idle": "2021-08-23T06:32:34.813969Z",
     "shell.execute_reply": "2021-08-23T06:32:34.813443Z",
     "shell.execute_reply.started": "2021-08-23T06:05:21.287898Z"
    },
    "lines_to_next_cell": 0,
    "papermill": {
     "duration": 0.026523,
     "end_time": "2021-08-23T06:32:34.814093",
     "exception": false,
     "start_time": "2021-08-23T06:32:34.787570",
     "status": "completed"
    },
    "tags": []
   }
  },
  {
   "cell_type": "code",
   "execution_count": 4,
   "source": [
    "# Lines below will give you a hint or solution code\n",
    "#q_1.hint()\n",
    "#q_1.solution()"
   ],
   "outputs": [],
   "metadata": {
    "execution": {
     "iopub.execute_input": "2021-08-23T06:32:34.849064Z",
     "iopub.status.busy": "2021-08-23T06:32:34.848485Z",
     "iopub.status.idle": "2021-08-23T06:32:34.852222Z",
     "shell.execute_reply": "2021-08-23T06:32:34.851651Z",
     "shell.execute_reply.started": "2021-08-23T06:05:21.304081Z"
    },
    "papermill": {
     "duration": 0.022237,
     "end_time": "2021-08-23T06:32:34.852340",
     "exception": false,
     "start_time": "2021-08-23T06:32:34.830103",
     "status": "completed"
    },
    "tags": []
   }
  },
  {
   "cell_type": "markdown",
   "source": [
    "# 2) Attach Head #\n",
    "\n",
    "Now that the base is defined to do the feature extraction, create a head of `Dense` layers to perform the classification, following this diagram:\n",
    "\n",
    "<figure>\n",
    "<img src=\"https://i.imgur.com/i5VU7Ry.png\" alt=\"Diagram of the dense head.\">\n",
    "</figure>\n"
   ],
   "metadata": {
    "papermill": {
     "duration": 0.016123,
     "end_time": "2021-08-23T06:32:34.884835",
     "exception": false,
     "start_time": "2021-08-23T06:32:34.868712",
     "status": "completed"
    },
    "tags": []
   }
  },
  {
   "cell_type": "code",
   "execution_count": 5,
   "source": [
    "from tensorflow import keras\n",
    "from tensorflow.keras import layers\n",
    "\n",
    "model = keras.Sequential([\n",
    "    pretrained_base,\n",
    "    layers.Flatten(),\n",
    "    layers.Dense(units=6, activation='relu'),\n",
    "    layers.Dense(units=1, activation='sigmoid')\n",
    "])\n",
    "\n",
    "# Check your answer\n",
    "q_2.check()"
   ],
   "outputs": [
    {
     "output_type": "display_data",
     "data": {
      "text/plain": [
       "<IPython.core.display.Javascript object>"
      ],
      "application/javascript": "parent.postMessage({\"jupyterEvent\": \"custom.exercise_interaction\", \"data\": {\"outcomeType\": 1, \"valueTowardsCompletion\": 0.25, \"interactionType\": 1, \"questionType\": 2, \"questionId\": \"2_Q2\", \"learnToolsVersion\": \"0.3.4\", \"failureMessage\": \"\", \"exceptionClass\": \"\", \"trace\": \"\"}}, \"*\")"
     },
     "metadata": {}
    },
    {
     "output_type": "display_data",
     "data": {
      "text/plain": [
       "Correct"
      ],
      "text/markdown": [
       "<span style=\"color:#33cc33\">Correct</span>"
      ]
     },
     "metadata": {}
    }
   ],
   "metadata": {
    "execution": {
     "iopub.execute_input": "2021-08-23T06:32:34.923492Z",
     "iopub.status.busy": "2021-08-23T06:32:34.922956Z",
     "iopub.status.idle": "2021-08-23T06:32:34.941479Z",
     "shell.execute_reply": "2021-08-23T06:32:34.942013Z",
     "shell.execute_reply.started": "2021-08-23T06:05:21.314322Z"
    },
    "lines_to_next_cell": 0,
    "papermill": {
     "duration": 0.041478,
     "end_time": "2021-08-23T06:32:34.942168",
     "exception": false,
     "start_time": "2021-08-23T06:32:34.900690",
     "status": "completed"
    },
    "tags": []
   }
  },
  {
   "cell_type": "code",
   "execution_count": 6,
   "source": [
    "# Lines below will give you a hint or solution code\n",
    "#q_2.hint()\n",
    "#q_2.solution()"
   ],
   "outputs": [],
   "metadata": {
    "execution": {
     "iopub.execute_input": "2021-08-23T06:32:34.977850Z",
     "iopub.status.busy": "2021-08-23T06:32:34.977279Z",
     "iopub.status.idle": "2021-08-23T06:32:34.980015Z",
     "shell.execute_reply": "2021-08-23T06:32:34.980549Z",
     "shell.execute_reply.started": "2021-08-23T06:05:21.354323Z"
    },
    "papermill": {
     "duration": 0.022321,
     "end_time": "2021-08-23T06:32:34.980756",
     "exception": false,
     "start_time": "2021-08-23T06:32:34.958435",
     "status": "completed"
    },
    "tags": []
   }
  },
  {
   "cell_type": "markdown",
   "source": [
    "# 3) Train #\n",
    "\n",
    "Before training a model in Keras, you need to specify an *optimizer* to perform the gradient descent, a *loss function* to be minimized, and (optionally) any *performance metrics*. The optimization algorithm we'll use for this course is called [\"Adam\"](https://keras.io/api/optimizers/adam/), which generally performs well regardless of what kind of problem you're trying to solve.\n",
    "\n",
    "The loss and the metrics, however, need to match the kind of problem you're trying to solve. Our problem is a **binary classification** problem: `Car` coded as 0, and `Truck` coded as 1. Choose an appropriate loss and an appropriate accuracy metric for binary classification."
   ],
   "metadata": {
    "papermill": {
     "duration": 0.016519,
     "end_time": "2021-08-23T06:32:35.014046",
     "exception": false,
     "start_time": "2021-08-23T06:32:34.997527",
     "status": "completed"
    },
    "tags": []
   }
  },
  {
   "cell_type": "code",
   "execution_count": 7,
   "source": [
    "# YOUR CODE HERE: what loss function should you use for a binary\n",
    "# classification problem? (Your answer for each should be a string.)\n",
    "optimizer = tf.keras.optimizers.Adam(epsilon=0.01)\n",
    "model.compile(\n",
    "    optimizer=optimizer,\n",
    "    loss = 'binary_crossentropy',\n",
    "    metrics=['binary_accuracy'],\n",
    ")\n",
    "\n",
    "# Check your answer\n",
    "q_3.check()"
   ],
   "outputs": [
    {
     "output_type": "display_data",
     "data": {
      "text/plain": [
       "<IPython.core.display.Javascript object>"
      ],
      "application/javascript": "parent.postMessage({\"jupyterEvent\": \"custom.exercise_interaction\", \"data\": {\"outcomeType\": 1, \"valueTowardsCompletion\": 0.25, \"interactionType\": 1, \"questionType\": 2, \"questionId\": \"3_Q3\", \"learnToolsVersion\": \"0.3.4\", \"failureMessage\": \"\", \"exceptionClass\": \"\", \"trace\": \"\"}}, \"*\")"
     },
     "metadata": {}
    },
    {
     "output_type": "display_data",
     "data": {
      "text/plain": [
       "Correct"
      ],
      "text/markdown": [
       "<span style=\"color:#33cc33\">Correct</span>"
      ]
     },
     "metadata": {}
    }
   ],
   "metadata": {
    "execution": {
     "iopub.execute_input": "2021-08-23T06:32:35.049911Z",
     "iopub.status.busy": "2021-08-23T06:32:35.049365Z",
     "iopub.status.idle": "2021-08-23T06:32:35.070926Z",
     "shell.execute_reply": "2021-08-23T06:32:35.071544Z",
     "shell.execute_reply.started": "2021-08-23T06:05:21.359436Z"
    },
    "lines_to_next_cell": 0,
    "papermill": {
     "duration": 0.040906,
     "end_time": "2021-08-23T06:32:35.071690",
     "exception": false,
     "start_time": "2021-08-23T06:32:35.030784",
     "status": "completed"
    },
    "tags": []
   }
  },
  {
   "cell_type": "code",
   "execution_count": 8,
   "source": [
    "# Lines below will give you a hint or solution code\n",
    "#q_3.hint()\n",
    "#q_3.solution()"
   ],
   "outputs": [],
   "metadata": {
    "execution": {
     "iopub.execute_input": "2021-08-23T06:32:35.109818Z",
     "iopub.status.busy": "2021-08-23T06:32:35.109304Z",
     "iopub.status.idle": "2021-08-23T06:32:35.112008Z",
     "shell.execute_reply": "2021-08-23T06:32:35.112541Z",
     "shell.execute_reply.started": "2021-08-23T06:05:21.401598Z"
    },
    "lines_to_next_cell": 0,
    "papermill": {
     "duration": 0.022935,
     "end_time": "2021-08-23T06:32:35.112683",
     "exception": false,
     "start_time": "2021-08-23T06:32:35.089748",
     "status": "completed"
    },
    "tags": []
   }
  },
  {
   "cell_type": "code",
   "execution_count": 9,
   "source": [
    "history = model.fit(\n",
    "    ds_train,\n",
    "    validation_data=ds_valid,\n",
    "    epochs=5,\n",
    ")"
   ],
   "outputs": [
    {
     "output_type": "stream",
     "name": "stdout",
     "text": [
      "Epoch 1/5\n",
      "80/80 [==============================] - 106s 1s/step - loss: 0.7210 - binary_accuracy: 0.4804 - val_loss: 0.6893 - val_binary_accuracy: 0.6003\n",
      "Epoch 2/5\n",
      "80/80 [==============================] - 92s 1s/step - loss: 0.6865 - binary_accuracy: 0.6181 - val_loss: 0.6632 - val_binary_accuracy: 0.7468\n",
      "Epoch 3/5\n",
      "80/80 [==============================] - 92s 1s/step - loss: 0.6509 - binary_accuracy: 0.7226 - val_loss: 0.6062 - val_binary_accuracy: 0.7854\n",
      "Epoch 4/5\n",
      "80/80 [==============================] - 93s 1s/step - loss: 0.5964 - binary_accuracy: 0.7719 - val_loss: 0.5632 - val_binary_accuracy: 0.8125\n",
      "Epoch 5/5\n",
      "80/80 [==============================] - 93s 1s/step - loss: 0.5581 - binary_accuracy: 0.7969 - val_loss: 0.5348 - val_binary_accuracy: 0.8284\n"
     ]
    }
   ],
   "metadata": {
    "execution": {
     "iopub.execute_input": "2021-08-23T06:32:35.150375Z",
     "iopub.status.busy": "2021-08-23T06:32:35.149852Z",
     "iopub.status.idle": "2021-08-23T06:40:32.052367Z",
     "shell.execute_reply": "2021-08-23T06:40:32.052954Z",
     "shell.execute_reply.started": "2021-08-23T06:05:21.407158Z"
    },
    "papermill": {
     "duration": 476.923034,
     "end_time": "2021-08-23T06:40:32.053178",
     "exception": false,
     "start_time": "2021-08-23T06:32:35.130144",
     "status": "completed"
    },
    "tags": []
   }
  },
  {
   "cell_type": "markdown",
   "source": [
    "Run the cell below to plot the loss and metric curves for this training run."
   ],
   "metadata": {
    "papermill": {
     "duration": 0.134372,
     "end_time": "2021-08-23T06:40:32.321771",
     "exception": false,
     "start_time": "2021-08-23T06:40:32.187399",
     "status": "completed"
    },
    "tags": []
   }
  },
  {
   "cell_type": "code",
   "execution_count": 10,
   "source": [
    "import pandas as pd\n",
    "history_frame = pd.DataFrame(history.history)\n",
    "history_frame.loc[:, ['loss', 'val_loss']].plot()\n",
    "history_frame.loc[:, ['binary_accuracy', 'val_binary_accuracy']].plot();"
   ],
   "outputs": [
    {
     "output_type": "display_data",
     "data": {
      "text/plain": [
       "<Figure size 432x288 with 1 Axes>"
      ],
      "image/png": "[encoded data removed]"
     },
     "metadata": {
      "needs_background": "light"
     }
    },
    {
     "output_type": "display_data",
     "data": {
      "text/plain": [
       "<Figure size 432x288 with 1 Axes>"
      ],
      "image/png": "[encoded data removed]"
     },
     "metadata": {
      "needs_background": "light"
     }
    }
   ],
   "metadata": {
    "execution": {
     "iopub.execute_input": "2021-08-23T06:40:32.617678Z",
     "iopub.status.busy": "2021-08-23T06:40:32.616958Z",
     "iopub.status.idle": "2021-08-23T06:40:33.108358Z",
     "shell.execute_reply": "2021-08-23T06:40:33.107852Z",
     "shell.execute_reply.started": "2021-08-23T06:12:22.370493Z"
    },
    "papermill": {
     "duration": 0.647632,
     "end_time": "2021-08-23T06:40:33.108508",
     "exception": false,
     "start_time": "2021-08-23T06:40:32.460876",
     "status": "completed"
    },
    "tags": []
   }
  },
  {
   "cell_type": "markdown",
   "source": [
    "# 4) Examine Loss and Accuracy #\n",
    "\n",
    "Do you notice a difference between these learning curves and the curves for VGG16 from the tutorial? What does this difference tell you about what this model (InceptionV2) learned compared to VGG16? Are there ways in which one is better than the other? Worse?\n",
    "\n",
    "After you've thought about it, run the cell below to see the answer."
   ],
   "metadata": {
    "papermill": {
     "duration": 0.131357,
     "end_time": "2021-08-23T06:40:33.374772",
     "exception": false,
     "start_time": "2021-08-23T06:40:33.243415",
     "status": "completed"
    },
    "tags": []
   }
  },
  {
   "cell_type": "code",
   "execution_count": 11,
   "source": [
    "# View the solution (Run this code cell to receive credit!)\n",
    "q_4.check()"
   ],
   "outputs": [
    {
     "output_type": "display_data",
     "data": {
      "text/plain": [
       "<IPython.core.display.Javascript object>"
      ],
      "application/javascript": "parent.postMessage({\"jupyterEvent\": \"custom.exercise_interaction\", \"data\": {\"outcomeType\": 1, \"valueTowardsCompletion\": 0.25, \"interactionType\": 1, \"questionType\": 4, \"questionId\": \"4_Q4\", \"learnToolsVersion\": \"0.3.4\", \"failureMessage\": \"\", \"exceptionClass\": \"\", \"trace\": \"\"}}, \"*\")"
     },
     "metadata": {}
    },
    {
     "output_type": "display_data",
     "data": {
      "text/plain": [
       "Correct: \n",
       "\n",
       "That the training loss and validation loss stay fairly close is evidence that the model isn't just memorizing the training data, but rather learning general properties of the two classes. But, because this model converges at a loss greater than the VGG16 model, it's likely that it is underfitting some, and could benefit from some extra capacity."
      ],
      "text/markdown": [
       "<span style=\"color:#33cc33\">Correct:</span> \n",
       "\n",
       "That the training loss and validation loss stay fairly close is evidence that the model isn't just memorizing the training data, but rather learning general properties of the two classes. But, because this model converges at a loss greater than the VGG16 model, it's likely that it is underfitting some, and could benefit from some extra capacity.\n"
      ]
     },
     "metadata": {}
    }
   ],
   "metadata": {
    "execution": {
     "iopub.execute_input": "2021-08-23T06:40:33.644753Z",
     "iopub.status.busy": "2021-08-23T06:40:33.644196Z",
     "iopub.status.idle": "2021-08-23T06:40:33.648218Z",
     "shell.execute_reply": "2021-08-23T06:40:33.648708Z",
     "shell.execute_reply.started": "2021-08-23T06:12:22.980985Z"
    },
    "papermill": {
     "duration": 0.143002,
     "end_time": "2021-08-23T06:40:33.648854",
     "exception": false,
     "start_time": "2021-08-23T06:40:33.505852",
     "status": "completed"
    },
    "tags": []
   }
  },
  {
   "cell_type": "markdown",
   "source": [
    "# Conclusion #\n",
    "\n",
    "In this first lesson, you learned the basics of **convolutional image classifiers**, that they consist of a **base** for extracting features from images, and a **head** which uses the features to decide the image's class. You also saw how to build a classifier with **transfer learning** on pretrained base. "
   ],
   "metadata": {
    "papermill": {
     "duration": 0.133327,
     "end_time": "2021-08-23T06:40:33.915997",
     "exception": false,
     "start_time": "2021-08-23T06:40:33.782670",
     "status": "completed"
    },
    "tags": []
   }
  },
  {
   "cell_type": "markdown",
   "source": [
    "# Keep Going #\n",
    "\n",
    "Move on to [**Lesson 2**](https://www.kaggle.com/ryanholbrook/convolution-and-relu) for a detailed look at how the base does this feature extraction. (It's really cool!)"
   ],
   "metadata": {
    "papermill": {
     "duration": 0.143217,
     "end_time": "2021-08-23T06:40:34.195828",
     "exception": false,
     "start_time": "2021-08-23T06:40:34.052611",
     "status": "completed"
    },
    "tags": []
   }
  },
  {
   "cell_type": "markdown",
   "source": [
    "---\n",
    "\n",
    "\n",
    "\n",
    "\n",
    "*Have questions or comments? Visit the [Learn Discussion forum](https://www.kaggle.com/learn-forum/196537) to chat with other Learners.*"
   ],
   "metadata": {
    "papermill": {
     "duration": 0.141271,
     "end_time": "2021-08-23T06:40:34.474727",
     "exception": false,
     "start_time": "2021-08-23T06:40:34.333456",
     "status": "completed"
    },
    "tags": []
   }
  }
 ],
 "metadata": {
  "kernelspec": {
   "display_name": "Python 3",
   "language": "python",
   "name": "python3"
  },
  "language_info": {
   "codemirror_mode": {
    "name": "ipython",
    "version": 3
   },
   "file_extension": ".py",
   "mimetype": "text/x-python",
   "name": "python",
   "nbconvert_exporter": "python",
   "pygments_lexer": "ipython3",
   "version": "3.7.10"
  },
  "papermill": {
   "default_parameters": {},
   "duration": 504.847213,
   "end_time": "2021-08-23T06:40:36.628431",
   "environment_variables": {},
   "exception": null,
   "input_path": "__notebook__.ipynb",
   "output_path": "__notebook__.ipynb",
   "parameters": {},
   "start_time": "2021-08-23T06:32:11.781218",
   "version": "2.3.3"
  }
 },
 "nbformat": 4,
 "nbformat_minor": 5
}